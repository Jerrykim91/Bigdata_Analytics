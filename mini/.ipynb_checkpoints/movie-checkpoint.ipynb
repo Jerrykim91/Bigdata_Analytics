{
 "cells": [
  {
   "cell_type": "markdown",
   "metadata": {},
   "source": [
    "# 기본정보\n",
    "---\n",
    "## 1. REST 방식\n",
    "\n",
    "- 기본 요청 URL : http://www.kobis.or.kr/kobisopenapi/webservice/rest/boxoffice/searchDailyBoxOfficeList.xml (또는 .json)\n",
    "- 요청 parameter : 3번항의 요청 인터페이스 정보를 참조하여 GET 방식으로 호출\n",
    "\n",
    "## 2. SOAP 방식\n",
    "\n",
    "- 요청 URL : http://www.kobis.or.kr/kobisopenapi/webservice/soap/boxoffice\n",
    "- WSDL URL : http://www.kobis.or.kr/kobisopenapi/webservice/soap/boxoffice?wsdl\n",
    "- Operation : searchDailyBoxOfficeList\n",
    "\n",
    "---\n",
    "## 3. 인터페이스\n",
    "### 요청인터페이스\n",
    "---\n",
    "---\n",
    "- key \n",
    "    - 문자열(필수)\t=> 발급받은키 값을 입력       \n",
    "- targetD\n",
    "    - 문자열(필수)\t=> 조회하고자 하는 날짜를 yyyymmdd 형식으로 입력   \n",
    "- itemPerPage \n",
    "    - 문자열  => 결과 ROW 의 개수를 지정(default : “10”, 최대 : “10“)    \n",
    "- multiMovieYn     \n",
    "    - 문자열 => 다양성 영화/상업영화를 구분지어 조회 가능    \n",
    "        - “Y” : 다양성 영화 “N” : 상업영화 (default : 전체)     \n",
    "- repNationCd \n",
    "    - 문자열 => 한국/외국 영화별로 조회 가능       \n",
    "        - “K: : 한국영화 “F” : 외국영화 (default : 전체)   \n",
    "- wideAreaCd     \n",
    "    - 문자열 => 상영지역별로 조회할 수 있으며, 지역코드는 공통코드 조회 서비스에서 “0105000000” 로서 조회된 지역코드입니다. (default : 전체)    \n",
    "---\n",
    "### 응답 구조 \n",
    "- boxofficeType\n",
    "    - 문자열 => 박스오피스 종류를 출력    \n",
    "- showRange     \n",
    "    - 문자열 => 박스오피스 조회 일자를 출력        \n",
    "- rnum      \n",
    "    - 문자열 => 순번을 출력    \n",
    "- rank   \n",
    "    - 문자열 => 해당일자의 박스오피스 순위를 출력    \n",
    "- rankInten   \n",
    "    - 문자열 => 전일대비 순위의 증감분을 출력    \n",
    "- rankOldAndNew\n",
    "    - 문자열 => 랭킹에 신규진입여부를 출력     \n",
    "        - “OLD” : 기존 , “NEW” : 신규\n",
    "- movieCd\n",
    "    - 문자열 => 영화의 대표코드를 출력     \n",
    "- movieNm\n",
    "    - 문자열 => 영화명(국문)을 출력\n",
    "- openDt    \n",
    "    - 문자열 => 영화의 개봉일을 출력   \n",
    "- salesAmt   \n",
    "    - 문자열 => 해당일의 매출액을 출력      \n",
    "- salesShare\n",
    "    - 문자열 => 해당일자 상영작의 매출총액 대비 해당 영화의 매출비율을 출력\n",
    "- salesInten\n",
    "    - 문자열 => 전일 대비 매출액 증감분을 출력     \n",
    "- salesChange\n",
    "    - 문자열 => 전일 대비 매출액 증감 비율을 출력\n",
    "- salesAcc\n",
    "    - 문자열 => 누적매출액을 출력\n",
    "- audiCnt\n",
    "    - 문자열 => 해당일의 관객수를 출력\n",
    "- audiInten\n",
    "    - 문자열 => 전일 대비 관객수 증감분을 출력\n",
    "- audiChange\n",
    "    - 문자열 => 전일 대비 관객수 증감 비율을 출력\n",
    "- audiAcc\n",
    "    - 문자열 => 누적관객수를 출력\n",
    "- scrnCnt\n",
    "    - 문자열 => 해당일자에 상영한 스크린수를 출력\n",
    "- showCnt\n",
    "    - 문자열 => 해당일자에 상영된 횟수를 출력\n",
    "---\n",
    "---\n",
    "## 4. 응답 예시\n",
    "- XML\thttp://www.kobis.or.kr/kobisopenapi/webservice/rest/boxoffice/searchDailyBoxOfficeList.xml?key=430156241533f1d058c603178cc3ca0e&targetDt=20120101\n",
    "- JSON\thttp://www.kobis.or.kr/kobisopenapi/webservice/rest/boxoffice/searchDailyBoxOfficeList.json?key=430156241533f1d058c603178cc3ca0e&targetDt=20120101"
   ]
  },
  {
   "cell_type": "markdown",
   "metadata": {},
   "source": [
    "# 미니프로젝트 \n",
    "- 긁어온 영화데이터를 이용해서 연관성있는 데이터끼리 조인하여 시각화하기\n",
    "\n",
    "#### 준비물 \n",
    "- 판다스, 멧폴렛, 시본"
   ]
  },
  {
   "cell_type": "code",
   "execution_count": null,
   "metadata": {},
   "outputs": [],
   "source": [
    "import pandas as pd\n",
    "# 그래프\n",
    "import seaborn as sns\n",
    "import matplotlib.pyplot as plt\n",
    "%matplotlib inline"
   ]
  },
  {
   "cell_type": "code",
   "execution_count": null,
   "metadata": {},
   "outputs": [],
   "source": [
    "# df_dum = pd.read_csv('cine_dum.csv')\n",
    "# print(df_dum)"
   ]
  },
  {
   "cell_type": "code",
   "execution_count": null,
   "metadata": {
    "scrolled": false
   },
   "outputs": [],
   "source": [
    "df = pd.read_csv('cine.csv')\n",
    "print(df.head())"
   ]
  },
  {
   "cell_type": "code",
   "execution_count": 26,
   "metadata": {},
   "outputs": [
    {
     "name": "stdout",
     "output_type": "stream",
     "text": [
      "<class 'pandas.core.frame.DataFrame'>\n",
      "RangeIndex: 10 entries, 0 to 9\n",
      "Data columns (total 19 columns):\n",
      "audiAcc          10 non-null int64\n",
      "audiChange       10 non-null float64\n",
      "audiCnt          10 non-null int64\n",
      "audiInten        10 non-null int64\n",
      "movieCd          10 non-null int64\n",
      "movieNm          10 non-null object\n",
      "openDt           10 non-null object\n",
      "rank             10 non-null int64\n",
      "rankInten        10 non-null int64\n",
      "rankOldAndNew    10 non-null object\n",
      "rnum             10 non-null int64\n",
      "salesAcc         10 non-null int64\n",
      "salesAmt         10 non-null int64\n",
      "salesChange      10 non-null float64\n",
      "salesInten       10 non-null int64\n",
      "salesShare       10 non-null float64\n",
      "scrnCnt          10 non-null int64\n",
      "showCnt          10 non-null int64\n",
      "targetDt         10 non-null float64\n",
      "dtypes: float64(4), int64(12), object(3)\n",
      "memory usage: 1.6+ KB\n",
      "None\n"
     ]
    }
   ],
   "source": [
    "print(df.info())"
   ]
  },
  {
   "cell_type": "code",
   "execution_count": 27,
   "metadata": {},
   "outputs": [
    {
     "name": "stdout",
     "output_type": "stream",
     "text": [
      "0    3743582\n",
      "1    1789019\n",
      "2     543714\n",
      "3     374662\n",
      "4    5859100\n",
      "5    1195437\n",
      "6      95398\n",
      "7      10143\n",
      "8     531929\n",
      "9       5235\n",
      "Name: audiAcc, dtype: int64\n"
     ]
    }
   ],
   "source": [
    "print(df['audiAcc'])"
   ]
  },
  {
   "cell_type": "code",
   "execution_count": 28,
   "metadata": {},
   "outputs": [
    {
     "name": "stdout",
     "output_type": "stream",
     "text": [
      "   audiAcc  audiChange  audiCnt  audiInten   movieCd              movieNm  \\\n",
      "0  3743582       -44.3   118080     -93877  20180939              남산의 부장들   \n",
      "1  1789019       -45.7    74508     -62668  20192101                  히트맨   \n",
      "2   543714       -50.0    12298     -12283  20188421       미스터 주: 사라진 VIP   \n",
      "3   374662       -42.3    11730      -8596  20192300            스파이 지니어스    \n",
      "4  5859100       -44.3     8346      -6634  20100312                  인셉션   \n",
      "5  1195437       -54.2     6106      -7222  20183002                해치지않아   \n",
      "6    95398       -36.5     4480      -2579  20198676          타오르는 여인의 초상   \n",
      "7    10143       653.9     3943       3420  20193321               정직한 후보   \n",
      "8   531929       -35.7     2765      -1533  20196670          나쁜 녀석들: 포에버   \n",
      "9     5235       100.0     2693       2693  20193836  핑크퐁 시네마 콘서트 : 우주대탐험   \n",
      "\n",
      "       openDt  rank  rankInten rankOldAndNew  rnum     salesAcc   salesAmt  \\\n",
      "0  2020-01-22     1          0           OLD     1  32547144270  945095180   \n",
      "1  2020-01-22     2          0           OLD     2  15390499240  602166980   \n",
      "2  2020-01-22     3          0           OLD     3   4580917060   92604980   \n",
      "3  2020-01-22     4          0           OLD     4   3075484300   88064900   \n",
      "4  2010-07-21     5          0           OLD     5  43645889200   67568700   \n",
      "5  2020-01-15     6          0           OLD     6  10043037830   47241640   \n",
      "6  2020-01-16     7          0           OLD     7    791441040   35329360   \n",
      "7  2020-02-12     8         13           OLD     8     72029000   29833000   \n",
      "8  2020-01-15     9          0           OLD     9   4763880300   18913800   \n",
      "9  2020-01-30    10          0           NEW    10     36416500   20010500   \n",
      "\n",
      "   salesChange  salesInten  salesShare  scrnCnt  showCnt    targetDt  \n",
      "0        -27.4  -355976620        44.0     1383     7262  20200130.0  \n",
      "1        -27.5  -228841510        28.1     1027     4745  20200130.0  \n",
      "2        -37.9   -56547680         4.3      596     1570  20200130.0  \n",
      "3        -29.6   -37017120         4.1      574     1169  20200130.0  \n",
      "4        -23.9   -21178300         3.1      204      605  20200130.0  \n",
      "5        -42.1   -34285520         2.2      471      895  20200130.0  \n",
      "6        -17.5    -7492020         1.6      142      275  20200130.0  \n",
      "7        535.2    25136000         1.4       21       22  20200130.0  \n",
      "8        -31.8    -8837500         0.9      204      297  20200130.0  \n",
      "9        100.0    20010500         0.9      176      341  20200130.0  \n"
     ]
    }
   ],
   "source": [
    "print(df)"
   ]
  },
  {
   "cell_type": "code",
   "execution_count": null,
   "metadata": {},
   "outputs": [],
   "source": [
    "# 이정보를 어떻게 ?\n",
    "# 어떤 상관 관계가 기업의 득과 실을 보여줄까 \n",
    "# 데이터를 조금 많이 가지고 와야 할 것 같음 => 일단 뭐를 그릴지 정하고 데이터 가지고옵시다"
   ]
  },
  {
   "cell_type": "code",
   "execution_count": null,
   "metadata": {},
   "outputs": [],
   "source": [
    "# #1순위\n",
    "# ---\n",
    "# movieNm(이름)\n",
    "# 문자열 => 영화명(국문)을 출력\n",
    "# openDt\n",
    "# 문자열 => 영화의 개봉일을 출력\n",
    "# salesAmt\n",
    "# 문자열 => 해당일의 매출액을 출력\n",
    "# salesShare\n",
    "# 문자열 => 해당일자 상영작의 매출총액 대비 해당 영화의 매출비율을 출력\n",
    "# salesInten\n",
    "# 문자열 => 전일 대비 매출액 증감분을 출력\n",
    "# salesChange\n",
    "# 문자열 => 전일 대비 매출액 증감 비율을 출력\n",
    "# salesAcc\n",
    "# 문자열 => 누적매출액을 출력\n",
    "# audiCnt\n",
    "# 문자열 => 해당일의 관객수를 출력\n",
    "# audiChange\n",
    "# 문자열 => 전일 대비 관객수 증감 비율을 출력\n",
    "# showCnt\n",
    "# 문자열 => 해당일자에 상영된 횟수를 출력\n",
    "# ---\n",
    "# # 2순위\n",
    "# showRange\n",
    "# 문자열 => 박스오피스 조회 일자를 출력\n",
    "# rank\n",
    "# 문자열 => 해당일자의 박스오피스 순위를 출력\n",
    "# rankOldAndNew\n",
    "# 문자열 => 랭킹에 신규진입여부를 출력\n",
    "# “OLD” : 기존 , “NEW” : 신규\n",
    "# audiAcc\n",
    "# 문자열 => 누적관객수를 출력\n",
    "# scrnCnt\n",
    "# 문자열 => 해당일자에 상영한 스크린수를 출력\n",
    "\n",
    "# ---\n",
    "# # 3순위\n",
    "# boxofficeType\n",
    "# 문자열 => 박스오피스 종류를 출력\n",
    "# audiInten\n",
    "# 문자열 => 전일 대비 관객수 증감분을 출력\n",
    "# rnum\n",
    "# 문자열 => 순번을 출력\n",
    "# rankInten\n",
    "# 문자열 => 전일대비 순위의 증감분을 출력\n",
    "# movieCd\n",
    "# 문자열 => 영화의 대표코드를 출력"
   ]
  }
 ],
 "metadata": {
  "kernelspec": {
   "display_name": "Python 3",
   "language": "python",
   "name": "python3"
  },
  "language_info": {
   "codemirror_mode": {
    "name": "ipython",
    "version": 3
   },
   "file_extension": ".py",
   "mimetype": "text/x-python",
   "name": "python",
   "nbconvert_exporter": "python",
   "pygments_lexer": "ipython3",
   "version": "3.6.5"
  }
 },
 "nbformat": 4,
 "nbformat_minor": 2
}
