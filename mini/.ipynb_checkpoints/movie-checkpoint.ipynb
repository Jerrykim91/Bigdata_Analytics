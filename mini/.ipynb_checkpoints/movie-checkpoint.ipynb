{
 "cells": [
  {
   "cell_type": "code",
   "execution_count": 2,
   "metadata": {},
   "outputs": [],
   "source": [
    "import pandas as pd"
   ]
  },
  {
   "cell_type": "code",
   "execution_count": 13,
   "metadata": {},
   "outputs": [
    {
     "name": "stdout",
     "output_type": "stream",
     "text": [
      "  ,audiAcc,audiChange,audiCnt,audiInten,movieCd,movieNm,openDt,rank,rankInten,rankOldAndNew,rnum,salesAcc,salesAmt,salesChange,salesInten,salesShare,scrnCnt,showCnt,targetDt\n",
      "0  1,3743582,-44.3,118080,-93877,20180939,남산의 부장들...                                                                                                                         \n",
      "1  2,1789019,-45.7,74508,-62668,20192101,히트맨,2020...                                                                                                                         \n",
      "2  3,543714,-50,12298,-12283,20188421,미스터 주: 사라진 ...                                                                                                                         \n",
      "3  4,374662,-42.3,11730,-8596,20192300,스파이 지니어스 ,...                                                                                                                         \n",
      "4  5,5859100,-44.3,8346,-6634,20100312,인셉션,2010-0...                                                                                                                         \n"
     ]
    }
   ],
   "source": [
    "df_dum = pd.read_csv('cine_dum.csv', sep='\\t')\n",
    "print(df_dum.head())"
   ]
  },
  {
   "cell_type": "code",
   "execution_count": 14,
   "metadata": {
    "scrolled": false
   },
   "outputs": [
    {
     "name": "stdout",
     "output_type": "stream",
     "text": [
      "  audiAcc,audiChange,audiCnt,audiInten,movieCd,movieNm,openDt,rank,rankInten,rankOldAndNew,rnum,salesAcc,salesAmt,salesChange,salesInten,salesShare,scrnCnt,showCnt,targetDt\n",
      "0  3743582,-44.3,118080,-93877,20180939,남산의 부장들,2...                                                                                                                        \n",
      "1  1789019,-45.7,74508,-62668,20192101,히트맨,2020-0...                                                                                                                        \n",
      "2  543714,-50,12298,-12283,20188421,미스터 주: 사라진 VI...                                                                                                                        \n",
      "3  374662,-42.3,11730,-8596,20192300,스파이 지니어스 ,20...                                                                                                                        \n",
      "4  5859100,-44.3,8346,-6634,20100312,인셉션,2010-07-...                                                                                                                        \n"
     ]
    }
   ],
   "source": [
    "df = pd.read_csv('cine.csv', sep='\\t')\n",
    "print(df.head())"
   ]
  },
  {
   "cell_type": "code",
   "execution_count": 15,
   "metadata": {},
   "outputs": [
    {
     "name": "stdout",
     "output_type": "stream",
     "text": [
      "Index(['audiAcc,audiChange,audiCnt,audiInten,movieCd,movieNm,openDt,rank,rankInten,rankOldAndNew,rnum,salesAcc,salesAmt,salesChange,salesInten,salesShare,scrnCnt,showCnt,targetDt'], dtype='object')\n"
     ]
    }
   ],
   "source": [
    "print(df.columns)"
   ]
  },
  {
   "cell_type": "code",
   "execution_count": 18,
   "metadata": {},
   "outputs": [
    {
     "name": "stdout",
     "output_type": "stream",
     "text": [
      "  audiAcc,audiChange,audiCnt,audiInten,movieCd,movieNm,openDt,rank,rankInten,rankOldAndNew,rnum,salesAcc,salesAmt,salesChange,salesInten,salesShare,scrnCnt,showCnt,targetDt\n",
      "0  3743582,-44.3,118080,-93877,20180939,남산의 부장들,2...                                                                                                                        \n",
      "1  1789019,-45.7,74508,-62668,20192101,히트맨,2020-0...                                                                                                                        \n",
      "2  543714,-50,12298,-12283,20188421,미스터 주: 사라진 VI...                                                                                                                        \n",
      "3  374662,-42.3,11730,-8596,20192300,스파이 지니어스 ,20...                                                                                                                        \n",
      "4  5859100,-44.3,8346,-6634,20100312,인셉션,2010-07-...                                                                                                                        \n",
      "5  1195437,-54.2,6106,-7222,20183002,해치지않아,2020-0...                                                                                                                        \n",
      "6  95398,-36.5,4480,-2579,20198676,타오르는 여인의 초상,20...                                                                                                                        \n",
      "7  10143,653.9,3943,3420,20193321,정직한 후보,2020-02-...                                                                                                                        \n",
      "8  531929,-35.7,2765,-1533,20196670,나쁜 녀석들: 포에버,2...                                                                                                                        \n",
      "9  5235,100,2693,2693,20193836,핑크퐁 시네마 콘서트 : 우주대탐...                                                                                                                        \n"
     ]
    }
   ],
   "source": [
    "print(df['audiAcc'])"
   ]
  },
  {
   "cell_type": "code",
   "execution_count": null,
   "metadata": {},
   "outputs": [],
   "source": []
  },
  {
   "cell_type": "code",
   "execution_count": null,
   "metadata": {},
   "outputs": [],
   "source": []
  }
 ],
 "metadata": {
  "kernelspec": {
   "display_name": "Python 3",
   "language": "python",
   "name": "python3"
  },
  "language_info": {
   "codemirror_mode": {
    "name": "ipython",
    "version": 3
   },
   "file_extension": ".py",
   "mimetype": "text/x-python",
   "name": "python",
   "nbconvert_exporter": "python",
   "pygments_lexer": "ipython3",
   "version": "3.6.5"
  }
 },
 "nbformat": 4,
 "nbformat_minor": 2
}
