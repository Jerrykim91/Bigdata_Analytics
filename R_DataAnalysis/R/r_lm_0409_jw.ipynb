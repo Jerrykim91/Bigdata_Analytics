{
 "cells": [
  {
   "cell_type": "markdown",
   "metadata": {},
   "source": [
    "# '한국복지패널데이터' 분석 \n",
    "\n",
    "#### 한국복지패널데이터\n",
    "- 한국보건사회연구원 발간\n",
    "- 가구의 경제활동을 연구해 정책 지원에 반영할 목적\n",
    "- 2006~2015년까지 전국에서 7000여 가구를 선정해 매년 추적 조사\n",
    "- 경제활동, 생활실태, 복지욕구 등 수천 개 변수에 대한 정보로 구성\n",
    "\n",
    "## 데이터 분석 준비하기\n",
    "#### 패키지 준비하기"
   ]
  },
  {
   "cell_type": "code",
   "execution_count": 1,
   "metadata": {},
   "outputs": [
    {
     "name": "stderr",
     "output_type": "stream",
     "text": [
      "Installing package into 'C:/Users/admin/Documents/R/win-library/3.6'\n",
      "(as 'lib' is unspecified)\n"
     ]
    },
    {
     "name": "stdout",
     "output_type": "stream",
     "text": [
      "package 'foreign' successfully unpacked and MD5 sums checked\n"
     ]
    },
    {
     "name": "stderr",
     "output_type": "stream",
     "text": [
      "Warning message:\n",
      "\"cannot remove prior installation of package 'foreign'\"Warning message in file.copy(savedcopy, lib, recursive = TRUE):\n",
      "\"C:\\Users\\admin\\Documents\\R\\win-library\\3.6\\00LOCK\\foreign\\libs\\x64\\foreign.dll를 C:\\Users\\admin\\Documents\\R\\win-library\\3.6\\foreign\\libs\\x64\\foreign.dll로 복사하는데 문제가 발생했습니다: Permission denied\"Warning message:\n",
      "\"restored 'foreign'\""
     ]
    },
    {
     "name": "stdout",
     "output_type": "stream",
     "text": [
      "\n",
      "The downloaded binary packages are in\n",
      "\tC:\\Users\\admin\\AppData\\Local\\Temp\\RtmpY5hIig\\downloaded_packages\n"
     ]
    },
    {
     "name": "stderr",
     "output_type": "stream",
     "text": [
      "Warning message:\n",
      "\"package 'foreign' was built under R version 3.6.3\"Warning message:\n",
      "\"package 'dplyr' was built under R version 3.6.3\"\n",
      "Attaching package: 'dplyr'\n",
      "\n",
      "The following objects are masked from 'package:stats':\n",
      "\n",
      "    filter, lag\n",
      "\n",
      "The following objects are masked from 'package:base':\n",
      "\n",
      "    intersect, setdiff, setequal, union\n",
      "\n",
      "Warning message:\n",
      "\"package 'ggplot2' was built under R version 3.6.3\"Warning message:\n",
      "\"package 'readxl' was built under R version 3.6.3\""
     ]
    }
   ],
   "source": [
    "# 패키지 준비하기\n",
    "install.packages(\"foreign\")  # foreign 패키지 설치\n",
    "library(foreign)             # SPSS 파일 로드\n",
    "library(dplyr)               # 전처리\n",
    "library(ggplot2)             # 시각화\n",
    "library(readxl)              # 엑셀 파일 불러오기"
   ]
  },
  {
   "cell_type": "code",
   "execution_count": 2,
   "metadata": {},
   "outputs": [
    {
     "name": "stderr",
     "output_type": "stream",
     "text": [
      "Warning message in read.spss(file = \"Koweps_hpc10_2015_beta1.sav\", to.data.frame = T):\n",
      "\"Koweps_hpc10_2015_beta1.sav: Compression bias (0) is not the usual value of 100\""
     ]
    }
   ],
   "source": [
    "# 데이터 불러오기\n",
    "raw_welfare <- read.spss(file = \"Koweps_hpc10_2015_beta1.sav\",\n",
    "                         to.data.frame = T)"
   ]
  },
  {
   "cell_type": "code",
   "execution_count": 3,
   "metadata": {},
   "outputs": [],
   "source": [
    "# 복사본 만들기\n",
    "welfare <- raw_welfare"
   ]
  },
  {
   "cell_type": "code",
   "execution_count": 4,
   "metadata": {},
   "outputs": [
    {
     "data": {
      "text/html": [
       "<table>\n",
       "<thead><tr><th scope=col>h10_id</th><th scope=col>h10_ind</th><th scope=col>h10_sn</th><th scope=col>h10_merkey</th><th scope=col>h_new</th><th scope=col>h10_cobf</th><th scope=col>h10_reg5</th><th scope=col>h10_reg7</th><th scope=col>h10_din</th><th scope=col>h10_cin</th><th scope=col>...</th><th scope=col>c1007_4aq19</th><th scope=col>c1007_4aq20</th><th scope=col>c1007_4aq21</th><th scope=col>c1007_4aq22</th><th scope=col>c1007_4aq23</th><th scope=col>h10_pers_income1</th><th scope=col>h10_pers_income2</th><th scope=col>h10_pers_income3</th><th scope=col>h10_pers_income4</th><th scope=col>h10_pers_income5</th></tr></thead>\n",
       "<tbody>\n",
       "\t<tr><td>1    </td><td>1    </td><td>1    </td><td>10101</td><td>0    </td><td>NA   </td><td>1    </td><td>1    </td><td> 864 </td><td> 864 </td><td>...  </td><td>NA   </td><td>NA   </td><td>NA   </td><td>NA   </td><td>NA   </td><td>NA   </td><td>  NA </td><td>  NA </td><td>0    </td><td>NA   </td></tr>\n",
       "\t<tr><td>2    </td><td>1    </td><td>1    </td><td>20101</td><td>0    </td><td>NA   </td><td>1    </td><td>1    </td><td> 600 </td><td> 600 </td><td>...  </td><td>NA   </td><td>NA   </td><td>NA   </td><td>NA   </td><td>NA   </td><td>NA   </td><td>  NA </td><td>  NA </td><td>0    </td><td>NA   </td></tr>\n",
       "\t<tr><td>3    </td><td>1    </td><td>1    </td><td>30101</td><td>0    </td><td>NA   </td><td>1    </td><td>1    </td><td>1571 </td><td>1619 </td><td>...  </td><td>NA   </td><td>NA   </td><td>NA   </td><td>NA   </td><td>NA   </td><td>NA   </td><td>1440 </td><td>  NA </td><td>0    </td><td>NA   </td></tr>\n",
       "\t<tr><td>4    </td><td>1    </td><td>1    </td><td>40101</td><td>0    </td><td>NA   </td><td>1    </td><td>1    </td><td>3579 </td><td>3687 </td><td>...  </td><td>NA   </td><td>NA   </td><td>NA   </td><td>NA   </td><td>NA   </td><td>NA   </td><td>2400 </td><td>  NA </td><td>0    </td><td>NA   </td></tr>\n",
       "\t<tr><td>4    </td><td>1    </td><td>1    </td><td>40101</td><td>0    </td><td>NA   </td><td>1    </td><td>1    </td><td>3579 </td><td>3687 </td><td>...  </td><td>NA   </td><td>NA   </td><td>NA   </td><td>NA   </td><td>NA   </td><td>NA   </td><td>  NA </td><td>  NA </td><td>0    </td><td>NA   </td></tr>\n",
       "\t<tr><td>6    </td><td>1    </td><td>1    </td><td>60101</td><td>0    </td><td>NA   </td><td>1    </td><td>1    </td><td>3030 </td><td>3486 </td><td>...  </td><td>NA   </td><td>NA   </td><td>NA   </td><td>NA   </td><td>NA   </td><td>NA   </td><td>  NA </td><td>3000 </td><td>0    </td><td>NA   </td></tr>\n",
       "</tbody>\n",
       "</table>\n"
      ],
      "text/latex": [
       "\\begin{tabular}{r|lllllllllllllllllllllllllllllllllllllllllllllllllllllllllllllllllllllllllllllllllllllllllllllllllllllllllllllllllllllllllllllllllllllllllllllllllllllllllllllllllllllllllllllllllllllllllllllllllllllllllllllllllllllllllllllllllllllllllllllllllllllllllllllllllllllllllllllllllllllllllllllllllllllllllllllllllllllllllllllllllllllllllllllllllllllllllllllllllllllllllllllllllllllllllllllllllllllllllllllllllllllllllllllllllllllllllllllllllllllllllllllllllllllllllllllllllllllllllllllllllllllllllllllllllllllllllllllllllllllllllllllllllllllllllllllllllllllllllllllllllllllllllllllllllllllllllllllllllllllllllllllllllllllllllllllllllllllllllllllllllllllllllllllllllllllllllllllllllllllllllllllllllllllllllllllllllllllllllllllllllllllllllllllllllllllllllllllllllllllllllllllllllllllllllllllllllllllllllllllllllllllllllllllllllllllllllllllllllllllllllllllllllllllllllllllllllllllllllllllllllllllllllllllllllllllllllllllllllllllllllllllllllllllllllllllllllllllllllllll}\n",
       " h10\\_id & h10\\_ind & h10\\_sn & h10\\_merkey & h\\_new & h10\\_cobf & h10\\_reg5 & h10\\_reg7 & h10\\_din & h10\\_cin & ... & c1007\\_4aq19 & c1007\\_4aq20 & c1007\\_4aq21 & c1007\\_4aq22 & c1007\\_4aq23 & h10\\_pers\\_income1 & h10\\_pers\\_income2 & h10\\_pers\\_income3 & h10\\_pers\\_income4 & h10\\_pers\\_income5\\\\\n",
       "\\hline\n",
       "\t 1     & 1     & 1     & 10101 & 0     & NA    & 1     & 1     &  864  &  864  & ...   & NA    & NA    & NA    & NA    & NA    & NA    &   NA  &   NA  & 0     & NA   \\\\\n",
       "\t 2     & 1     & 1     & 20101 & 0     & NA    & 1     & 1     &  600  &  600  & ...   & NA    & NA    & NA    & NA    & NA    & NA    &   NA  &   NA  & 0     & NA   \\\\\n",
       "\t 3     & 1     & 1     & 30101 & 0     & NA    & 1     & 1     & 1571  & 1619  & ...   & NA    & NA    & NA    & NA    & NA    & NA    & 1440  &   NA  & 0     & NA   \\\\\n",
       "\t 4     & 1     & 1     & 40101 & 0     & NA    & 1     & 1     & 3579  & 3687  & ...   & NA    & NA    & NA    & NA    & NA    & NA    & 2400  &   NA  & 0     & NA   \\\\\n",
       "\t 4     & 1     & 1     & 40101 & 0     & NA    & 1     & 1     & 3579  & 3687  & ...   & NA    & NA    & NA    & NA    & NA    & NA    &   NA  &   NA  & 0     & NA   \\\\\n",
       "\t 6     & 1     & 1     & 60101 & 0     & NA    & 1     & 1     & 3030  & 3486  & ...   & NA    & NA    & NA    & NA    & NA    & NA    &   NA  & 3000  & 0     & NA   \\\\\n",
       "\\end{tabular}\n"
      ],
      "text/markdown": [
       "\n",
       "| h10_id | h10_ind | h10_sn | h10_merkey | h_new | h10_cobf | h10_reg5 | h10_reg7 | h10_din | h10_cin | ... | c1007_4aq19 | c1007_4aq20 | c1007_4aq21 | c1007_4aq22 | c1007_4aq23 | h10_pers_income1 | h10_pers_income2 | h10_pers_income3 | h10_pers_income4 | h10_pers_income5 |\n",
       "|---|---|---|---|---|---|---|---|---|---|---|---|---|---|---|---|---|---|---|---|---|\n",
       "| 1     | 1     | 1     | 10101 | 0     | NA    | 1     | 1     |  864  |  864  | ...   | NA    | NA    | NA    | NA    | NA    | NA    |   NA  |   NA  | 0     | NA    |\n",
       "| 2     | 1     | 1     | 20101 | 0     | NA    | 1     | 1     |  600  |  600  | ...   | NA    | NA    | NA    | NA    | NA    | NA    |   NA  |   NA  | 0     | NA    |\n",
       "| 3     | 1     | 1     | 30101 | 0     | NA    | 1     | 1     | 1571  | 1619  | ...   | NA    | NA    | NA    | NA    | NA    | NA    | 1440  |   NA  | 0     | NA    |\n",
       "| 4     | 1     | 1     | 40101 | 0     | NA    | 1     | 1     | 3579  | 3687  | ...   | NA    | NA    | NA    | NA    | NA    | NA    | 2400  |   NA  | 0     | NA    |\n",
       "| 4     | 1     | 1     | 40101 | 0     | NA    | 1     | 1     | 3579  | 3687  | ...   | NA    | NA    | NA    | NA    | NA    | NA    |   NA  |   NA  | 0     | NA    |\n",
       "| 6     | 1     | 1     | 60101 | 0     | NA    | 1     | 1     | 3030  | 3486  | ...   | NA    | NA    | NA    | NA    | NA    | NA    |   NA  | 3000  | 0     | NA    |\n",
       "\n"
      ],
      "text/plain": [
       "  h10_id h10_ind h10_sn h10_merkey h_new h10_cobf h10_reg5 h10_reg7 h10_din\n",
       "1 1      1       1      10101      0     NA       1        1         864   \n",
       "2 2      1       1      20101      0     NA       1        1         600   \n",
       "3 3      1       1      30101      0     NA       1        1        1571   \n",
       "4 4      1       1      40101      0     NA       1        1        3579   \n",
       "5 4      1       1      40101      0     NA       1        1        3579   \n",
       "6 6      1       1      60101      0     NA       1        1        3030   \n",
       "  h10_cin ... c1007_4aq19 c1007_4aq20 c1007_4aq21 c1007_4aq22 c1007_4aq23\n",
       "1  864    ... NA          NA          NA          NA          NA         \n",
       "2  600    ... NA          NA          NA          NA          NA         \n",
       "3 1619    ... NA          NA          NA          NA          NA         \n",
       "4 3687    ... NA          NA          NA          NA          NA         \n",
       "5 3687    ... NA          NA          NA          NA          NA         \n",
       "6 3486    ... NA          NA          NA          NA          NA         \n",
       "  h10_pers_income1 h10_pers_income2 h10_pers_income3 h10_pers_income4\n",
       "1 NA                 NA               NA             0               \n",
       "2 NA                 NA               NA             0               \n",
       "3 NA               1440               NA             0               \n",
       "4 NA               2400               NA             0               \n",
       "5 NA                 NA               NA             0               \n",
       "6 NA                 NA             3000             0               \n",
       "  h10_pers_income5\n",
       "1 NA              \n",
       "2 NA              \n",
       "3 NA              \n",
       "4 NA              \n",
       "5 NA              \n",
       "6 NA              "
      ]
     },
     "metadata": {},
     "output_type": "display_data"
    },
    {
     "data": {
      "text/html": [
       "<table>\n",
       "<thead><tr><th></th><th scope=col>h10_id</th><th scope=col>h10_ind</th><th scope=col>h10_sn</th><th scope=col>h10_merkey</th><th scope=col>h_new</th><th scope=col>h10_cobf</th><th scope=col>h10_reg5</th><th scope=col>h10_reg7</th><th scope=col>h10_din</th><th scope=col>h10_cin</th><th scope=col>...</th><th scope=col>c1007_4aq19</th><th scope=col>c1007_4aq20</th><th scope=col>c1007_4aq21</th><th scope=col>c1007_4aq22</th><th scope=col>c1007_4aq23</th><th scope=col>h10_pers_income1</th><th scope=col>h10_pers_income2</th><th scope=col>h10_pers_income3</th><th scope=col>h10_pers_income4</th><th scope=col>h10_pers_income5</th></tr></thead>\n",
       "<tbody>\n",
       "\t<tr><th scope=row>16659</th><td>9800    </td><td>7       </td><td>1       </td><td>98000701</td><td>1       </td><td>NA      </td><td>4       </td><td>5       </td><td>9764    </td><td>11600   </td><td>...     </td><td>NA      </td><td>NA      </td><td>NA      </td><td>NA      </td><td>NA      </td><td>  NA    </td><td> NA     </td><td>7163    </td><td>0       </td><td>NA      </td></tr>\n",
       "\t<tr><th scope=row>16660</th><td>9800    </td><td>7       </td><td>1       </td><td>98000701</td><td>1       </td><td>NA      </td><td>4       </td><td>5       </td><td>9764    </td><td>11600   </td><td>...     </td><td>NA      </td><td>NA      </td><td>NA      </td><td>NA      </td><td>NA      </td><td>  NA    </td><td> NA     </td><td>  NA    </td><td>0       </td><td>NA      </td></tr>\n",
       "\t<tr><th scope=row>16661</th><td>9800    </td><td>7       </td><td>1       </td><td>98000701</td><td>1       </td><td>NA      </td><td>4       </td><td>5       </td><td>9764    </td><td>11600   </td><td>...     </td><td>NA      </td><td>NA      </td><td>NA      </td><td>NA      </td><td>NA      </td><td>3630    </td><td> NA     </td><td>  NA    </td><td>0       </td><td>NA      </td></tr>\n",
       "\t<tr><th scope=row>16662</th><td>9800    </td><td>7       </td><td>1       </td><td>98000701</td><td>1       </td><td>NA      </td><td>4       </td><td>5       </td><td>9764    </td><td>11600   </td><td>...     </td><td>NA      </td><td>NA      </td><td>NA      </td><td>NA      </td><td>NA      </td><td>  NA    </td><td>700     </td><td>  NA    </td><td>0       </td><td>NA      </td></tr>\n",
       "\t<tr><th scope=row>16663</th><td>9800    </td><td>7       </td><td>1       </td><td>98000701</td><td>1       </td><td>NA      </td><td>4       </td><td>5       </td><td>9764    </td><td>11600   </td><td>...     </td><td>NA      </td><td>NA      </td><td>NA      </td><td>NA      </td><td>NA      </td><td>  NA    </td><td> NA     </td><td>  NA    </td><td>0       </td><td>NA      </td></tr>\n",
       "\t<tr><th scope=row>16664</th><td>9800    </td><td>7       </td><td>1       </td><td>98000701</td><td>1       </td><td>NA      </td><td>4       </td><td>5       </td><td>9764    </td><td>11600   </td><td>...     </td><td>NA      </td><td>NA      </td><td>NA      </td><td>NA      </td><td>NA      </td><td>  NA    </td><td> NA     </td><td>  NA    </td><td>0       </td><td>NA      </td></tr>\n",
       "</tbody>\n",
       "</table>\n"
      ],
      "text/latex": [
       "\\begin{tabular}{r|lllllllllllllllllllllllllllllllllllllllllllllllllllllllllllllllllllllllllllllllllllllllllllllllllllllllllllllllllllllllllllllllllllllllllllllllllllllllllllllllllllllllllllllllllllllllllllllllllllllllllllllllllllllllllllllllllllllllllllllllllllllllllllllllllllllllllllllllllllllllllllllllllllllllllllllllllllllllllllllllllllllllllllllllllllllllllllllllllllllllllllllllllllllllllllllllllllllllllllllllllllllllllllllllllllllllllllllllllllllllllllllllllllllllllllllllllllllllllllllllllllllllllllllllllllllllllllllllllllllllllllllllllllllllllllllllllllllllllllllllllllllllllllllllllllllllllllllllllllllllllllllllllllllllllllllllllllllllllllllllllllllllllllllllllllllllllllllllllllllllllllllllllllllllllllllllllllllllllllllllllllllllllllllllllllllllllllllllllllllllllllllllllllllllllllllllllllllllllllllllllllllllllllllllllllllllllllllllllllllllllllllllllllllllllllllllllllllllllllllllllllllllllllllllllllllllllllllllllllllllllllllllllllllllllllllllllllllllllllll}\n",
       "  & h10\\_id & h10\\_ind & h10\\_sn & h10\\_merkey & h\\_new & h10\\_cobf & h10\\_reg5 & h10\\_reg7 & h10\\_din & h10\\_cin & ... & c1007\\_4aq19 & c1007\\_4aq20 & c1007\\_4aq21 & c1007\\_4aq22 & c1007\\_4aq23 & h10\\_pers\\_income1 & h10\\_pers\\_income2 & h10\\_pers\\_income3 & h10\\_pers\\_income4 & h10\\_pers\\_income5\\\\\n",
       "\\hline\n",
       "\t16659 & 9800     & 7        & 1        & 98000701 & 1        & NA       & 4        & 5        & 9764     & 11600    & ...      & NA       & NA       & NA       & NA       & NA       &   NA     &  NA      & 7163     & 0        & NA      \\\\\n",
       "\t16660 & 9800     & 7        & 1        & 98000701 & 1        & NA       & 4        & 5        & 9764     & 11600    & ...      & NA       & NA       & NA       & NA       & NA       &   NA     &  NA      &   NA     & 0        & NA      \\\\\n",
       "\t16661 & 9800     & 7        & 1        & 98000701 & 1        & NA       & 4        & 5        & 9764     & 11600    & ...      & NA       & NA       & NA       & NA       & NA       & 3630     &  NA      &   NA     & 0        & NA      \\\\\n",
       "\t16662 & 9800     & 7        & 1        & 98000701 & 1        & NA       & 4        & 5        & 9764     & 11600    & ...      & NA       & NA       & NA       & NA       & NA       &   NA     & 700      &   NA     & 0        & NA      \\\\\n",
       "\t16663 & 9800     & 7        & 1        & 98000701 & 1        & NA       & 4        & 5        & 9764     & 11600    & ...      & NA       & NA       & NA       & NA       & NA       &   NA     &  NA      &   NA     & 0        & NA      \\\\\n",
       "\t16664 & 9800     & 7        & 1        & 98000701 & 1        & NA       & 4        & 5        & 9764     & 11600    & ...      & NA       & NA       & NA       & NA       & NA       &   NA     &  NA      &   NA     & 0        & NA      \\\\\n",
       "\\end{tabular}\n"
      ],
      "text/markdown": [
       "\n",
       "| <!--/--> | h10_id | h10_ind | h10_sn | h10_merkey | h_new | h10_cobf | h10_reg5 | h10_reg7 | h10_din | h10_cin | ... | c1007_4aq19 | c1007_4aq20 | c1007_4aq21 | c1007_4aq22 | c1007_4aq23 | h10_pers_income1 | h10_pers_income2 | h10_pers_income3 | h10_pers_income4 | h10_pers_income5 |\n",
       "|---|---|---|---|---|---|---|---|---|---|---|---|---|---|---|---|---|---|---|---|---|---|\n",
       "| 16659 | 9800     | 7        | 1        | 98000701 | 1        | NA       | 4        | 5        | 9764     | 11600    | ...      | NA       | NA       | NA       | NA       | NA       |   NA     |  NA      | 7163     | 0        | NA       |\n",
       "| 16660 | 9800     | 7        | 1        | 98000701 | 1        | NA       | 4        | 5        | 9764     | 11600    | ...      | NA       | NA       | NA       | NA       | NA       |   NA     |  NA      |   NA     | 0        | NA       |\n",
       "| 16661 | 9800     | 7        | 1        | 98000701 | 1        | NA       | 4        | 5        | 9764     | 11600    | ...      | NA       | NA       | NA       | NA       | NA       | 3630     |  NA      |   NA     | 0        | NA       |\n",
       "| 16662 | 9800     | 7        | 1        | 98000701 | 1        | NA       | 4        | 5        | 9764     | 11600    | ...      | NA       | NA       | NA       | NA       | NA       |   NA     | 700      |   NA     | 0        | NA       |\n",
       "| 16663 | 9800     | 7        | 1        | 98000701 | 1        | NA       | 4        | 5        | 9764     | 11600    | ...      | NA       | NA       | NA       | NA       | NA       |   NA     |  NA      |   NA     | 0        | NA       |\n",
       "| 16664 | 9800     | 7        | 1        | 98000701 | 1        | NA       | 4        | 5        | 9764     | 11600    | ...      | NA       | NA       | NA       | NA       | NA       |   NA     |  NA      |   NA     | 0        | NA       |\n",
       "\n"
      ],
      "text/plain": [
       "      h10_id h10_ind h10_sn h10_merkey h_new h10_cobf h10_reg5 h10_reg7 h10_din\n",
       "16659 9800   7       1      98000701   1     NA       4        5        9764   \n",
       "16660 9800   7       1      98000701   1     NA       4        5        9764   \n",
       "16661 9800   7       1      98000701   1     NA       4        5        9764   \n",
       "16662 9800   7       1      98000701   1     NA       4        5        9764   \n",
       "16663 9800   7       1      98000701   1     NA       4        5        9764   \n",
       "16664 9800   7       1      98000701   1     NA       4        5        9764   \n",
       "      h10_cin ... c1007_4aq19 c1007_4aq20 c1007_4aq21 c1007_4aq22 c1007_4aq23\n",
       "16659 11600   ... NA          NA          NA          NA          NA         \n",
       "16660 11600   ... NA          NA          NA          NA          NA         \n",
       "16661 11600   ... NA          NA          NA          NA          NA         \n",
       "16662 11600   ... NA          NA          NA          NA          NA         \n",
       "16663 11600   ... NA          NA          NA          NA          NA         \n",
       "16664 11600   ... NA          NA          NA          NA          NA         \n",
       "      h10_pers_income1 h10_pers_income2 h10_pers_income3 h10_pers_income4\n",
       "16659   NA              NA              7163             0               \n",
       "16660   NA              NA                NA             0               \n",
       "16661 3630              NA                NA             0               \n",
       "16662   NA             700                NA             0               \n",
       "16663   NA              NA                NA             0               \n",
       "16664   NA              NA                NA             0               \n",
       "      h10_pers_income5\n",
       "16659 NA              \n",
       "16660 NA              \n",
       "16661 NA              \n",
       "16662 NA              \n",
       "16663 NA              \n",
       "16664 NA              "
      ]
     },
     "metadata": {},
     "output_type": "display_data"
    },
    {
     "data": {
      "text/html": [
       "<ol class=list-inline>\n",
       "\t<li>16664</li>\n",
       "\t<li>957</li>\n",
       "</ol>\n"
      ],
      "text/latex": [
       "\\begin{enumerate*}\n",
       "\\item 16664\n",
       "\\item 957\n",
       "\\end{enumerate*}\n"
      ],
      "text/markdown": [
       "1. 16664\n",
       "2. 957\n",
       "\n",
       "\n"
      ],
      "text/plain": [
       "[1] 16664   957"
      ]
     },
     "metadata": {},
     "output_type": "display_data"
    }
   ],
   "source": [
    "#### 데이터 검토하기\n",
    "head(welfare)\n",
    "tail(welfare)\n",
    "dim(welfare)"
   ]
  },
  {
   "cell_type": "code",
   "execution_count": 5,
   "metadata": {},
   "outputs": [],
   "source": [
    "# 변수명 바꾸기\n",
    "welfare <- rename(welfare,\n",
    "                  sex = h10_g3,            # 성별\n",
    "                  birth = h10_g4,          # 태어난 연도\n",
    "                  marriage = h10_g10,      # 혼인 상태\n",
    "                  religion = h10_g11,      # 종교\n",
    "                  income = p1002_8aq1,     # 월급\n",
    "                  code_job = h10_eco9,     # 직종 코드\n",
    "                  code_region = h10_reg7)  # 지역 코드"
   ]
  },
  {
   "cell_type": "code",
   "execution_count": 6,
   "metadata": {},
   "outputs": [
    {
     "data": {
      "text/html": [
       "<table>\n",
       "<thead><tr><th scope=col>h10_id</th><th scope=col>h10_ind</th><th scope=col>h10_sn</th><th scope=col>h10_merkey</th><th scope=col>h_new</th><th scope=col>h10_cobf</th><th scope=col>h10_reg5</th><th scope=col>code_region</th><th scope=col>h10_din</th><th scope=col>h10_cin</th><th scope=col>...</th><th scope=col>c1007_4aq19</th><th scope=col>c1007_4aq20</th><th scope=col>c1007_4aq21</th><th scope=col>c1007_4aq22</th><th scope=col>c1007_4aq23</th><th scope=col>h10_pers_income1</th><th scope=col>h10_pers_income2</th><th scope=col>h10_pers_income3</th><th scope=col>h10_pers_income4</th><th scope=col>h10_pers_income5</th></tr></thead>\n",
       "<tbody>\n",
       "\t<tr><td>1    </td><td>1    </td><td>1    </td><td>10101</td><td>0    </td><td>NA   </td><td>1    </td><td>1    </td><td> 864 </td><td> 864 </td><td>...  </td><td>NA   </td><td>NA   </td><td>NA   </td><td>NA   </td><td>NA   </td><td>NA   </td><td>  NA </td><td>  NA </td><td>0    </td><td>NA   </td></tr>\n",
       "\t<tr><td>2    </td><td>1    </td><td>1    </td><td>20101</td><td>0    </td><td>NA   </td><td>1    </td><td>1    </td><td> 600 </td><td> 600 </td><td>...  </td><td>NA   </td><td>NA   </td><td>NA   </td><td>NA   </td><td>NA   </td><td>NA   </td><td>  NA </td><td>  NA </td><td>0    </td><td>NA   </td></tr>\n",
       "\t<tr><td>3    </td><td>1    </td><td>1    </td><td>30101</td><td>0    </td><td>NA   </td><td>1    </td><td>1    </td><td>1571 </td><td>1619 </td><td>...  </td><td>NA   </td><td>NA   </td><td>NA   </td><td>NA   </td><td>NA   </td><td>NA   </td><td>1440 </td><td>  NA </td><td>0    </td><td>NA   </td></tr>\n",
       "\t<tr><td>4    </td><td>1    </td><td>1    </td><td>40101</td><td>0    </td><td>NA   </td><td>1    </td><td>1    </td><td>3579 </td><td>3687 </td><td>...  </td><td>NA   </td><td>NA   </td><td>NA   </td><td>NA   </td><td>NA   </td><td>NA   </td><td>2400 </td><td>  NA </td><td>0    </td><td>NA   </td></tr>\n",
       "\t<tr><td>4    </td><td>1    </td><td>1    </td><td>40101</td><td>0    </td><td>NA   </td><td>1    </td><td>1    </td><td>3579 </td><td>3687 </td><td>...  </td><td>NA   </td><td>NA   </td><td>NA   </td><td>NA   </td><td>NA   </td><td>NA   </td><td>  NA </td><td>  NA </td><td>0    </td><td>NA   </td></tr>\n",
       "\t<tr><td>6    </td><td>1    </td><td>1    </td><td>60101</td><td>0    </td><td>NA   </td><td>1    </td><td>1    </td><td>3030 </td><td>3486 </td><td>...  </td><td>NA   </td><td>NA   </td><td>NA   </td><td>NA   </td><td>NA   </td><td>NA   </td><td>  NA </td><td>3000 </td><td>0    </td><td>NA   </td></tr>\n",
       "</tbody>\n",
       "</table>\n"
      ],
      "text/latex": [
       "\\begin{tabular}{r|lllllllllllllllllllllllllllllllllllllllllllllllllllllllllllllllllllllllllllllllllllllllllllllllllllllllllllllllllllllllllllllllllllllllllllllllllllllllllllllllllllllllllllllllllllllllllllllllllllllllllllllllllllllllllllllllllllllllllllllllllllllllllllllllllllllllllllllllllllllllllllllllllllllllllllllllllllllllllllllllllllllllllllllllllllllllllllllllllllllllllllllllllllllllllllllllllllllllllllllllllllllllllllllllllllllllllllllllllllllllllllllllllllllllllllllllllllllllllllllllllllllllllllllllllllllllllllllllllllllllllllllllllllllllllllllllllllllllllllllllllllllllllllllllllllllllllllllllllllllllllllllllllllllllllllllllllllllllllllllllllllllllllllllllllllllllllllllllllllllllllllllllllllllllllllllllllllllllllllllllllllllllllllllllllllllllllllllllllllllllllllllllllllllllllllllllllllllllllllllllllllllllllllllllllllllllllllllllllllllllllllllllllllllllllllllllllllllllllllllllllllllllllllllllllllllllllllllllllllllllllllllllllllllllllllllllllllllllllllll}\n",
       " h10\\_id & h10\\_ind & h10\\_sn & h10\\_merkey & h\\_new & h10\\_cobf & h10\\_reg5 & code\\_region & h10\\_din & h10\\_cin & ... & c1007\\_4aq19 & c1007\\_4aq20 & c1007\\_4aq21 & c1007\\_4aq22 & c1007\\_4aq23 & h10\\_pers\\_income1 & h10\\_pers\\_income2 & h10\\_pers\\_income3 & h10\\_pers\\_income4 & h10\\_pers\\_income5\\\\\n",
       "\\hline\n",
       "\t 1     & 1     & 1     & 10101 & 0     & NA    & 1     & 1     &  864  &  864  & ...   & NA    & NA    & NA    & NA    & NA    & NA    &   NA  &   NA  & 0     & NA   \\\\\n",
       "\t 2     & 1     & 1     & 20101 & 0     & NA    & 1     & 1     &  600  &  600  & ...   & NA    & NA    & NA    & NA    & NA    & NA    &   NA  &   NA  & 0     & NA   \\\\\n",
       "\t 3     & 1     & 1     & 30101 & 0     & NA    & 1     & 1     & 1571  & 1619  & ...   & NA    & NA    & NA    & NA    & NA    & NA    & 1440  &   NA  & 0     & NA   \\\\\n",
       "\t 4     & 1     & 1     & 40101 & 0     & NA    & 1     & 1     & 3579  & 3687  & ...   & NA    & NA    & NA    & NA    & NA    & NA    & 2400  &   NA  & 0     & NA   \\\\\n",
       "\t 4     & 1     & 1     & 40101 & 0     & NA    & 1     & 1     & 3579  & 3687  & ...   & NA    & NA    & NA    & NA    & NA    & NA    &   NA  &   NA  & 0     & NA   \\\\\n",
       "\t 6     & 1     & 1     & 60101 & 0     & NA    & 1     & 1     & 3030  & 3486  & ...   & NA    & NA    & NA    & NA    & NA    & NA    &   NA  & 3000  & 0     & NA   \\\\\n",
       "\\end{tabular}\n"
      ],
      "text/markdown": [
       "\n",
       "| h10_id | h10_ind | h10_sn | h10_merkey | h_new | h10_cobf | h10_reg5 | code_region | h10_din | h10_cin | ... | c1007_4aq19 | c1007_4aq20 | c1007_4aq21 | c1007_4aq22 | c1007_4aq23 | h10_pers_income1 | h10_pers_income2 | h10_pers_income3 | h10_pers_income4 | h10_pers_income5 |\n",
       "|---|---|---|---|---|---|---|---|---|---|---|---|---|---|---|---|---|---|---|---|---|\n",
       "| 1     | 1     | 1     | 10101 | 0     | NA    | 1     | 1     |  864  |  864  | ...   | NA    | NA    | NA    | NA    | NA    | NA    |   NA  |   NA  | 0     | NA    |\n",
       "| 2     | 1     | 1     | 20101 | 0     | NA    | 1     | 1     |  600  |  600  | ...   | NA    | NA    | NA    | NA    | NA    | NA    |   NA  |   NA  | 0     | NA    |\n",
       "| 3     | 1     | 1     | 30101 | 0     | NA    | 1     | 1     | 1571  | 1619  | ...   | NA    | NA    | NA    | NA    | NA    | NA    | 1440  |   NA  | 0     | NA    |\n",
       "| 4     | 1     | 1     | 40101 | 0     | NA    | 1     | 1     | 3579  | 3687  | ...   | NA    | NA    | NA    | NA    | NA    | NA    | 2400  |   NA  | 0     | NA    |\n",
       "| 4     | 1     | 1     | 40101 | 0     | NA    | 1     | 1     | 3579  | 3687  | ...   | NA    | NA    | NA    | NA    | NA    | NA    |   NA  |   NA  | 0     | NA    |\n",
       "| 6     | 1     | 1     | 60101 | 0     | NA    | 1     | 1     | 3030  | 3486  | ...   | NA    | NA    | NA    | NA    | NA    | NA    |   NA  | 3000  | 0     | NA    |\n",
       "\n"
      ],
      "text/plain": [
       "  h10_id h10_ind h10_sn h10_merkey h_new h10_cobf h10_reg5 code_region h10_din\n",
       "1 1      1       1      10101      0     NA       1        1            864   \n",
       "2 2      1       1      20101      0     NA       1        1            600   \n",
       "3 3      1       1      30101      0     NA       1        1           1571   \n",
       "4 4      1       1      40101      0     NA       1        1           3579   \n",
       "5 4      1       1      40101      0     NA       1        1           3579   \n",
       "6 6      1       1      60101      0     NA       1        1           3030   \n",
       "  h10_cin ... c1007_4aq19 c1007_4aq20 c1007_4aq21 c1007_4aq22 c1007_4aq23\n",
       "1  864    ... NA          NA          NA          NA          NA         \n",
       "2  600    ... NA          NA          NA          NA          NA         \n",
       "3 1619    ... NA          NA          NA          NA          NA         \n",
       "4 3687    ... NA          NA          NA          NA          NA         \n",
       "5 3687    ... NA          NA          NA          NA          NA         \n",
       "6 3486    ... NA          NA          NA          NA          NA         \n",
       "  h10_pers_income1 h10_pers_income2 h10_pers_income3 h10_pers_income4\n",
       "1 NA                 NA               NA             0               \n",
       "2 NA                 NA               NA             0               \n",
       "3 NA               1440               NA             0               \n",
       "4 NA               2400               NA             0               \n",
       "5 NA                 NA               NA             0               \n",
       "6 NA                 NA             3000             0               \n",
       "  h10_pers_income5\n",
       "1 NA              \n",
       "2 NA              \n",
       "3 NA              \n",
       "4 NA              \n",
       "5 NA              \n",
       "6 NA              "
      ]
     },
     "metadata": {},
     "output_type": "display_data"
    }
   ],
   "source": [
    "head(welfare)"
   ]
  },
  {
   "cell_type": "markdown",
   "metadata": {},
   "source": [
    "## 모델링"
   ]
  },
  {
   "cell_type": "markdown",
   "metadata": {},
   "source": [
    "### 변수 하나 선택 : sex (월급 ~ 성별)"
   ]
  },
  {
   "cell_type": "code",
   "execution_count": 8,
   "metadata": {},
   "outputs": [
    {
     "data": {
      "text/html": [
       "<table>\n",
       "<thead><tr><th></th><th scope=col>Df</th><th scope=col>Sum Sq</th><th scope=col>Mean Sq</th><th scope=col>F value</th><th scope=col>Pr(&gt;F)</th></tr></thead>\n",
       "<tbody>\n",
       "\t<tr><th scope=row>sex</th><td>   1         </td><td> 26010154    </td><td>26010153.91  </td><td>915.7155     </td><td>1.026278e-183</td></tr>\n",
       "\t<tr><th scope=row>Residuals</th><td>4632         </td><td>131568199    </td><td>   28404.19  </td><td>      NA     </td><td>           NA</td></tr>\n",
       "</tbody>\n",
       "</table>\n"
      ],
      "text/latex": [
       "\\begin{tabular}{r|lllll}\n",
       "  & Df & Sum Sq & Mean Sq & F value & Pr(>F)\\\\\n",
       "\\hline\n",
       "\tsex &    1          &  26010154     & 26010153.91   & 915.7155      & 1.026278e-183\\\\\n",
       "\tResiduals & 4632          & 131568199     &    28404.19   &       NA      &            NA\\\\\n",
       "\\end{tabular}\n"
      ],
      "text/markdown": [
       "\n",
       "| <!--/--> | Df | Sum Sq | Mean Sq | F value | Pr(>F) |\n",
       "|---|---|---|---|---|---|\n",
       "| sex |    1          |  26010154     | 26010153.91   | 915.7155      | 1.026278e-183 |\n",
       "| Residuals | 4632          | 131568199     |    28404.19   |       NA      |            NA |\n",
       "\n"
      ],
      "text/plain": [
       "          Df   Sum Sq    Mean Sq     F value  Pr(>F)       \n",
       "sex          1  26010154 26010153.91 915.7155 1.026278e-183\n",
       "Residuals 4632 131568199    28404.19       NA            NA"
      ]
     },
     "metadata": {},
     "output_type": "display_data"
    },
    {
     "data": {
      "text/plain": [
       "\n",
       "Call:\n",
       "lm(formula = income ~ sex, data = welfare)\n",
       "\n",
       "Residuals:\n",
       "    Min      1Q  Median      3Q     Max \n",
       "-311.83 -102.20  -27.80   53.96 2237.80 \n",
       "\n",
       "Coefficients:\n",
       "            Estimate Std. Error t value Pr(>|t|)    \n",
       "(Intercept)  462.387      7.704   60.02   <2e-16 ***\n",
       "sex         -150.093      4.960  -30.26   <2e-16 ***\n",
       "---\n",
       "Signif. codes:  0 '***' 0.001 '**' 0.01 '*' 0.05 '.' 0.1 ' ' 1\n",
       "\n",
       "Residual standard error: 168.5 on 4632 degrees of freedom\n",
       "  (12030 observations deleted due to missingness)\n",
       "Multiple R-squared:  0.1651,\tAdjusted R-squared:  0.1649 \n",
       "F-statistic: 915.7 on 1 and 4632 DF,  p-value: < 2.2e-16\n"
      ]
     },
     "metadata": {},
     "output_type": "display_data"
    }
   ],
   "source": [
    "fit <- lm(income~sex, data=welfare)\n",
    "anova(fit)\n",
    "summary(fit)"
   ]
  },
  {
   "cell_type": "markdown",
   "metadata": {},
   "source": [
    "- r 스퀘어 낮음, 설명력 떨어짐\n",
    "- p-value 0.05 이하, 유의수준 \n",
    "\n",
    "- X가 Y에 미치는 영향은 유의하다. \n",
    "- 하지만 우리가 추정한 회귀식에서 각 값들의 분산이 커서 예측에 대해서는 신뢰하기 힘들다."
   ]
  },
  {
   "cell_type": "code",
   "execution_count": 9,
   "metadata": {},
   "outputs": [
    {
     "data": {
      "image/png": "[encoded data removed]",
      "text/plain": [
       "plot without title"
      ]
     },
     "metadata": {},
     "output_type": "display_data"
    }
   ],
   "source": [
    "ts.plot(fit$residuals)"
   ]
  },
  {
   "cell_type": "markdown",
   "metadata": {},
   "source": [
    "- 오차가 너무 높은 것들이 있다... 이상치를 제거해야 성능이 좋아질 것 같다.\n",
    "- 전처리 Go"
   ]
  },
  {
   "cell_type": "markdown",
   "metadata": {},
   "source": [
    "## 전처리"
   ]
  },
  {
   "cell_type": "code",
   "execution_count": 10,
   "metadata": {},
   "outputs": [
    {
     "data": {
      "image/png": "[encoded data removed]",
      "text/plain": [
       "Plot with title \"Histogram of welfare$income\""
      ]
     },
     "metadata": {},
     "output_type": "display_data"
    }
   ],
   "source": [
    "# 히스토그램으로 월급 분포 확인\n",
    "hist(welfare$income)"
   ]
  },
  {
   "cell_type": "markdown",
   "metadata": {},
   "source": [
    "- 월급 분석을 1000까지로 제한해 봅니다."
   ]
  },
  {
   "cell_type": "code",
   "execution_count": 11,
   "metadata": {},
   "outputs": [
    {
     "data": {
      "text/plain": [
       "   Min. 1st Qu.  Median    Mean 3rd Qu.    Max.    NA's \n",
       "    0.0   122.0   192.5   241.6   316.6  2400.0   12030 "
      ]
     },
     "metadata": {},
     "output_type": "display_data"
    }
   ],
   "source": [
    "# 이상치 확인\n",
    "summary(welfare$income)\n",
    "\n",
    "# 이상치 결측 처리\n",
    "welfare$income <- ifelse(welfare$income > 1000, NA, welfare$income)"
   ]
  },
  {
   "cell_type": "code",
   "execution_count": 12,
   "metadata": {},
   "outputs": [
    {
     "data": {
      "text/plain": [
       "   Min. 1st Qu.  Median    Mean 3rd Qu.    Max.    NA's \n",
       "    0.0   121.3   191.7   236.7   313.0  1000.0   12051 "
      ]
     },
     "metadata": {},
     "output_type": "display_data"
    },
    {
     "data": {
      "text/plain": [
       "\n",
       "FALSE  TRUE \n",
       " 4613 12051 "
      ]
     },
     "metadata": {},
     "output_type": "display_data"
    }
   ],
   "source": [
    "# 이상치 재확인\n",
    "summary(welfare$income)\n",
    "\n",
    "# 결측치 확인\n",
    "table(is.na(welfare$income))"
   ]
  },
  {
   "cell_type": "markdown",
   "metadata": {},
   "source": [
    "- 재도전"
   ]
  },
  {
   "cell_type": "code",
   "execution_count": 13,
   "metadata": {},
   "outputs": [
    {
     "data": {
      "text/html": [
       "<table>\n",
       "<thead><tr><th></th><th scope=col>Df</th><th scope=col>Sum Sq</th><th scope=col>Mean Sq</th><th scope=col>F value</th><th scope=col>Pr(&gt;F)</th></tr></thead>\n",
       "<tbody>\n",
       "\t<tr><th scope=row>sex</th><td>   1         </td><td> 23602525    </td><td>23602525.07  </td><td>1017.746     </td><td>5.578885e-202</td></tr>\n",
       "\t<tr><th scope=row>Residuals</th><td>4611         </td><td>106933585    </td><td>   23190.97  </td><td>      NA     </td><td>           NA</td></tr>\n",
       "</tbody>\n",
       "</table>\n"
      ],
      "text/latex": [
       "\\begin{tabular}{r|lllll}\n",
       "  & Df & Sum Sq & Mean Sq & F value & Pr(>F)\\\\\n",
       "\\hline\n",
       "\tsex &    1          &  23602525     & 23602525.07   & 1017.746      & 5.578885e-202\\\\\n",
       "\tResiduals & 4611          & 106933585     &    23190.97   &       NA      &            NA\\\\\n",
       "\\end{tabular}\n"
      ],
      "text/markdown": [
       "\n",
       "| <!--/--> | Df | Sum Sq | Mean Sq | F value | Pr(>F) |\n",
       "|---|---|---|---|---|---|\n",
       "| sex |    1          |  23602525     | 23602525.07   | 1017.746      | 5.578885e-202 |\n",
       "| Residuals | 4611          | 106933585     |    23190.97   |       NA      |            NA |\n",
       "\n"
      ],
      "text/plain": [
       "          Df   Sum Sq    Mean Sq     F value  Pr(>F)       \n",
       "sex          1  23602525 23602525.07 1017.746 5.578885e-202\n",
       "Residuals 4611 106933585    23190.97       NA            NA"
      ]
     },
     "metadata": {},
     "output_type": "display_data"
    },
    {
     "data": {
      "text/plain": [
       "\n",
       "Call:\n",
       "lm(formula = income ~ sex, data = welfare)\n",
       "\n",
       "Residuals:\n",
       "    Min      1Q  Median      3Q     Max \n",
       "-303.99  -96.95  -25.17   55.55  838.83 \n",
       "\n",
       "Coefficients:\n",
       "            Estimate Std. Error t value Pr(>|t|)    \n",
       "(Intercept)  447.718      6.984   64.11   <2e-16 ***\n",
       "sex         -143.272      4.491  -31.90   <2e-16 ***\n",
       "---\n",
       "Signif. codes:  0 '***' 0.001 '**' 0.01 '*' 0.05 '.' 0.1 ' ' 1\n",
       "\n",
       "Residual standard error: 152.3 on 4611 degrees of freedom\n",
       "  (12051 observations deleted due to missingness)\n",
       "Multiple R-squared:  0.1808,\tAdjusted R-squared:  0.1806 \n",
       "F-statistic:  1018 on 1 and 4611 DF,  p-value: < 2.2e-16\n"
      ]
     },
     "metadata": {},
     "output_type": "display_data"
    }
   ],
   "source": [
    "fit <- lm(income~sex, data=welfare)\n",
    "anova(fit)\n",
    "summary(fit)"
   ]
  },
  {
   "cell_type": "markdown",
   "metadata": {},
   "source": [
    "- R-squared가 0.02 올랐다...\n",
    "    - Adjusted R-squared:  0.1649 -> Adjusted R-squared:  0.1806\n",
    "- 오르긴 올랐는데.. 한참 멀다.."
   ]
  },
  {
   "cell_type": "markdown",
   "metadata": {},
   "source": [
    "## 변수 전부 선택"
   ]
  },
  {
   "cell_type": "code",
   "execution_count": 7,
   "metadata": {},
   "outputs": [
    {
     "ename": "ERROR",
     "evalue": "Error in `contrasts<-`(`*tmp*`, value = contr.funs[1 + isOF[nn]]): contrasts can be applied only to factors with 2 or more levels\n",
     "output_type": "error",
     "traceback": [
      "Error in `contrasts<-`(`*tmp*`, value = contr.funs[1 + isOF[nn]]): contrasts can be applied only to factors with 2 or more levels\nTraceback:\n",
      "1. lm(income ~ ., data = welfare)",
      "2. model.matrix(mt, mf, contrasts)",
      "3. model.matrix.default(mt, mf, contrasts)",
      "4. `contrasts<-`(`*tmp*`, value = contr.funs[1 + isOF[nn]])",
      "5. stop(\"contrasts can be applied only to factors with 2 or more levels\")"
     ]
    }
   ],
   "source": [
    "# 변수 전부 선택\n",
    "fit2 <- lm(income~., data=welfare)"
   ]
  },
  {
   "cell_type": "markdown",
   "metadata": {},
   "source": [
    "- 변수를 전부 선택했더니 에러가 난다. 957개의 feature 중 무엇이 문제일까요?\n",
    "\n",
    "- 에러의 원인을 찾기는 너무나 힘든 일입니다.\n",
    "\n",
    "- 그래서 그냥 일단 이름 변경한 몇개만 선택해봅니다.."
   ]
  },
  {
   "cell_type": "code",
   "execution_count": 14,
   "metadata": {},
   "outputs": [
    {
     "data": {
      "text/html": [
       "<table>\n",
       "<thead><tr><th></th><th scope=col>Df</th><th scope=col>Sum Sq</th><th scope=col>Mean Sq</th><th scope=col>F value</th><th scope=col>Pr(&gt;F)</th></tr></thead>\n",
       "<tbody>\n",
       "\t<tr><th scope=row>sex</th><td>   1         </td><td> 23602525    </td><td>23602525.07  </td><td>1017.746     </td><td>5.578885e-202</td></tr>\n",
       "\t<tr><th scope=row>Residuals</th><td>4611         </td><td>106933585    </td><td>   23190.97  </td><td>      NA     </td><td>           NA</td></tr>\n",
       "</tbody>\n",
       "</table>\n"
      ],
      "text/latex": [
       "\\begin{tabular}{r|lllll}\n",
       "  & Df & Sum Sq & Mean Sq & F value & Pr(>F)\\\\\n",
       "\\hline\n",
       "\tsex &    1          &  23602525     & 23602525.07   & 1017.746      & 5.578885e-202\\\\\n",
       "\tResiduals & 4611          & 106933585     &    23190.97   &       NA      &            NA\\\\\n",
       "\\end{tabular}\n"
      ],
      "text/markdown": [
       "\n",
       "| <!--/--> | Df | Sum Sq | Mean Sq | F value | Pr(>F) |\n",
       "|---|---|---|---|---|---|\n",
       "| sex |    1          |  23602525     | 23602525.07   | 1017.746      | 5.578885e-202 |\n",
       "| Residuals | 4611          | 106933585     |    23190.97   |       NA      |            NA |\n",
       "\n"
      ],
      "text/plain": [
       "          Df   Sum Sq    Mean Sq     F value  Pr(>F)       \n",
       "sex          1  23602525 23602525.07 1017.746 5.578885e-202\n",
       "Residuals 4611 106933585    23190.97       NA            NA"
      ]
     },
     "metadata": {},
     "output_type": "display_data"
    },
    {
     "data": {
      "text/plain": [
       "\n",
       "Call:\n",
       "lm(formula = income ~ sex, data = welfare)\n",
       "\n",
       "Residuals:\n",
       "    Min      1Q  Median      3Q     Max \n",
       "-303.99  -96.95  -25.17   55.55  838.83 \n",
       "\n",
       "Coefficients:\n",
       "            Estimate Std. Error t value Pr(>|t|)    \n",
       "(Intercept)  447.718      6.984   64.11   <2e-16 ***\n",
       "sex         -143.272      4.491  -31.90   <2e-16 ***\n",
       "---\n",
       "Signif. codes:  0 '***' 0.001 '**' 0.01 '*' 0.05 '.' 0.1 ' ' 1\n",
       "\n",
       "Residual standard error: 152.3 on 4611 degrees of freedom\n",
       "  (12051 observations deleted due to missingness)\n",
       "Multiple R-squared:  0.1808,\tAdjusted R-squared:  0.1806 \n",
       "F-statistic:  1018 on 1 and 4611 DF,  p-value: < 2.2e-16\n"
      ]
     },
     "metadata": {},
     "output_type": "display_data"
    }
   ],
   "source": [
    "fit2 <- lm(income~sex+birth+marriage+religion+code_job+code_region, data=welfare)\n",
    "anova(fit)\n",
    "summary(fit)"
   ]
  },
  {
   "cell_type": "markdown",
   "metadata": {},
   "source": [
    "- 한꺼번에 다 넣었을 때의 Adjusted R-squared는  0.1806 "
   ]
  },
  {
   "cell_type": "code",
   "execution_count": 15,
   "metadata": {},
   "outputs": [
    {
     "data": {
      "image/png": "[encoded data removed]",
      "text/plain": [
       "plot without title"
      ]
     },
     "metadata": {},
     "output_type": "display_data"
    }
   ],
   "source": [
    "ts.plot(fit$residuals)"
   ]
  },
  {
   "cell_type": "markdown",
   "metadata": {},
   "source": [
    "그래도 오차가 왔다갔다 하는군요.."
   ]
  },
  {
   "cell_type": "markdown",
   "metadata": {},
   "source": [
    "lm basic2 에서 했던 코드들을 적용해봅니다."
   ]
  },
  {
   "cell_type": "code",
   "execution_count": 16,
   "metadata": {},
   "outputs": [
    {
     "data": {
      "text/html": [
       "<dl class=dl-horizontal>\n",
       "\t<dt>sex</dt>\n",
       "\t\t<dd>TRUE</dd>\n",
       "\t<dt>birth</dt>\n",
       "\t\t<dd>TRUE</dd>\n",
       "\t<dt>marriage</dt>\n",
       "\t\t<dd>TRUE</dd>\n",
       "\t<dt>religion</dt>\n",
       "\t\t<dd>TRUE</dd>\n",
       "\t<dt>code_job</dt>\n",
       "\t\t<dd>FALSE</dd>\n",
       "\t<dt>code_region</dt>\n",
       "\t\t<dd>TRUE</dd>\n",
       "</dl>\n"
      ],
      "text/latex": [
       "\\begin{description*}\n",
       "\\item[sex] TRUE\n",
       "\\item[birth] TRUE\n",
       "\\item[marriage] TRUE\n",
       "\\item[religion] TRUE\n",
       "\\item[code\\textbackslash{}\\_job] FALSE\n",
       "\\item[code\\textbackslash{}\\_region] TRUE\n",
       "\\end{description*}\n"
      ],
      "text/markdown": [
       "sex\n",
       ":   TRUEbirth\n",
       ":   TRUEmarriage\n",
       ":   TRUEreligion\n",
       ":   TRUEcode_job\n",
       ":   FALSEcode_region\n",
       ":   TRUE\n",
       "\n"
      ],
      "text/plain": [
       "        sex       birth    marriage    religion    code_job code_region \n",
       "       TRUE        TRUE        TRUE        TRUE       FALSE        TRUE "
      ]
     },
     "metadata": {},
     "output_type": "display_data"
    }
   ],
   "source": [
    "index<-abs(fit2$coefficients)[-1] >0.5\n",
    "index"
   ]
  },
  {
   "cell_type": "markdown",
   "metadata": {},
   "source": [
    "code_job은 탈락할 예정입니다."
   ]
  },
  {
   "cell_type": "code",
   "execution_count": 17,
   "metadata": {},
   "outputs": [
    {
     "data": {
      "text/html": [
       "<ol class=list-inline>\n",
       "\t<li>'sex'</li>\n",
       "\t<li>'birth'</li>\n",
       "\t<li>'marriage'</li>\n",
       "\t<li>'religion'</li>\n",
       "\t<li>'code_region'</li>\n",
       "</ol>\n"
      ],
      "text/latex": [
       "\\begin{enumerate*}\n",
       "\\item 'sex'\n",
       "\\item 'birth'\n",
       "\\item 'marriage'\n",
       "\\item 'religion'\n",
       "\\item 'code\\_region'\n",
       "\\end{enumerate*}\n"
      ],
      "text/markdown": [
       "1. 'sex'\n",
       "2. 'birth'\n",
       "3. 'marriage'\n",
       "4. 'religion'\n",
       "5. 'code_region'\n",
       "\n",
       "\n"
      ],
      "text/plain": [
       "[1] \"sex\"         \"birth\"       \"marriage\"    \"religion\"    \"code_region\""
      ]
     },
     "metadata": {},
     "output_type": "display_data"
    }
   ],
   "source": [
    "var<-names(index)[index==T]\n",
    "var"
   ]
  },
  {
   "cell_type": "markdown",
   "metadata": {},
   "source": [
    "합격한 변수들의 목록입니다."
   ]
  },
  {
   "cell_type": "code",
   "execution_count": 18,
   "metadata": {},
   "outputs": [
    {
     "data": {
      "text/html": [
       "'income~sex+birth+marriage+religion+code_region'"
      ],
      "text/latex": [
       "'income\\textasciitilde{}sex+birth+marriage+religion+code\\_region'"
      ],
      "text/markdown": [
       "'income~sex+birth+marriage+religion+code_region'"
      ],
      "text/plain": [
       "[1] \"income~sex+birth+marriage+religion+code_region\""
      ]
     },
     "metadata": {},
     "output_type": "display_data"
    }
   ],
   "source": [
    "fo<-paste0(\"income~\",paste(var,collapse = \"+\"))\n",
    "fo"
   ]
  },
  {
   "cell_type": "markdown",
   "metadata": {},
   "source": [
    "이런 식이 나오는군요."
   ]
  },
  {
   "cell_type": "code",
   "execution_count": 20,
   "metadata": {},
   "outputs": [],
   "source": [
    "fit3<-lm(fo,data=welfare)"
   ]
  },
  {
   "cell_type": "code",
   "execution_count": 21,
   "metadata": {},
   "outputs": [
    {
     "data": {
      "text/plain": [
       "\n",
       "Call:\n",
       "lm(formula = fo, data = welfare)\n",
       "\n",
       "Residuals:\n",
       "    Min      1Q  Median      3Q     Max \n",
       "-336.36  -89.13  -24.77   50.70  835.87 \n",
       "\n",
       "Coefficients:\n",
       "              Estimate Std. Error t value Pr(>|t|)    \n",
       "(Intercept) -6962.2461   354.5882 -19.635  < 2e-16 ***\n",
       "sex          -136.6065     4.2496 -32.146  < 2e-16 ***\n",
       "birth           3.7951     0.1812  20.948  < 2e-16 ***\n",
       "marriage      -30.7978     1.4559 -21.154  < 2e-16 ***\n",
       "religion        1.5798     4.3053   0.367 0.713671    \n",
       "code_region    -3.7538     1.0291  -3.647 0.000268 ***\n",
       "---\n",
       "Signif. codes:  0 '***' 0.001 '**' 0.01 '*' 0.05 '.' 0.1 ' ' 1\n",
       "\n",
       "Residual standard error: 143.1 on 4607 degrees of freedom\n",
       "  (12051 observations deleted due to missingness)\n",
       "Multiple R-squared:  0.2776,\tAdjusted R-squared:  0.2768 \n",
       "F-statistic: 354.1 on 5 and 4607 DF,  p-value: < 2.2e-16\n"
      ]
     },
     "metadata": {},
     "output_type": "display_data"
    }
   ],
   "source": [
    "summary(fit3)"
   ]
  },
  {
   "cell_type": "markdown",
   "metadata": {},
   "source": [
    "- ..... R-sqaure에 큰 상승이 있었습니다. 무려 약 0.1 정도 씩이나..\n",
    "\n",
    "- Adjusted R-squared:  0.1806 -> Adjusted R-squared:  0.2768 "
   ]
  },
  {
   "cell_type": "code",
   "execution_count": 22,
   "metadata": {},
   "outputs": [
    {
     "data": {
      "text/html": [
       "20441.870828372"
      ],
      "text/latex": [
       "20441.870828372"
      ],
      "text/markdown": [
       "20441.870828372"
      ],
      "text/plain": [
       "[1] 20441.87"
      ]
     },
     "metadata": {},
     "output_type": "display_data"
    }
   ],
   "source": [
    "# MSE\n",
    "mean(fit3$residuals^2)"
   ]
  },
  {
   "cell_type": "markdown",
   "metadata": {},
   "source": [
    "- 전처리의 필요성이 심각하게 있어 보입니다."
   ]
  },
  {
   "cell_type": "markdown",
   "metadata": {},
   "source": [
    "- lm basic3 에서 했던 코드들을 적용해봅니다."
   ]
  },
  {
   "cell_type": "code",
   "execution_count": 34,
   "metadata": {},
   "outputs": [
    {
     "name": "stdout",
     "output_type": "stream",
     "text": [
      "\n",
      " 1\n",
      " 2\n",
      " 3\n",
      " 4\n",
      " 5\n",
      " 6\n",
      " 7\n",
      " 8\n",
      " 9\n",
      " 10"
     ]
    },
    {
     "data": {
      "image/png": "[encoded data removed]",
      "text/plain": [
       "plot without title"
      ]
     },
     "metadata": {},
     "output_type": "display_data"
    }
   ],
   "source": [
    "require(graphics)\n",
    "## 100 -> 70 : 30 / 80 : 20\n",
    "# 70 -> 학습/ 30-> 검증(테스트) \n",
    "# 4 : 3 : 3 (학습/검증/테스트)\n",
    "\n",
    "m1<-c()\n",
    "m2<-c()\n",
    "\n",
    "for(i in 1:10){\n",
    "  sam<-sample(1:nrow(welfare),nrow(welfare)*0.7)\n",
    "  \n",
    "  fit2<-lm(income~sex+birth+marriage+religion+code_job+code_region, data=welfare[sam,])\n",
    "  # mean((fit2$residuals^2)) # MSE\n",
    "  \n",
    "  pred<-predict(fit2,welfare[-sam,])\n",
    "  m1[i]<-mean((pred-welfare[-sam,1])^2)\n",
    "  \n",
    "  ##회귀 분석의 경우 모델의 성능지표 MSE / MAPE / MAE\n",
    "  index<-abs(fit2$coefficients)[-1] >0.5\n",
    "  var<-names(index)[index==T]\n",
    "  fo<-paste0(\"income~\",paste(var,collapse = \"+\"))\n",
    "  fit3<-lm(fo,data=welfare[sam,])\n",
    "  pred2<-predict(fit3,welfare[-sam,])\n",
    "  m2[i]<-mean((pred2-welfare[-sam,1])^2)\n",
    "  cat(\"\\n\",i)\n",
    "}\n",
    "\n",
    "ts.plot(cbind(m1,m2),col=c(\"red\",\"blue\"))"
   ]
  },
  {
   "cell_type": "markdown",
   "metadata": {},
   "source": [
    "뭔가 그래프가 나왔는데 어떻게 해야할지 모르겠습니다."
   ]
  },
  {
   "cell_type": "code",
   "execution_count": 35,
   "metadata": {},
   "outputs": [
    {
     "data": {
      "text/html": [
       "&lt;NA&gt;"
      ],
      "text/latex": [
       "<NA>"
      ],
      "text/markdown": [
       "&lt;NA&gt;"
      ],
      "text/plain": [
       "[1] NA"
      ]
     },
     "metadata": {},
     "output_type": "display_data"
    },
    {
     "data": {
      "text/html": [
       "27560333.4660689"
      ],
      "text/latex": [
       "27560333.4660689"
      ],
      "text/markdown": [
       "27560333.4660689"
      ],
      "text/plain": [
       "[1] 27560333"
      ]
     },
     "metadata": {},
     "output_type": "display_data"
    }
   ],
   "source": [
    "mean(m1)\n",
    "mean(m2)"
   ]
  },
  {
   "cell_type": "markdown",
   "metadata": {},
   "source": [
    "- ??? 왜 m1은 비어있는걸까요?"
   ]
  },
  {
   "cell_type": "code",
   "execution_count": 39,
   "metadata": {},
   "outputs": [
    {
     "data": {
      "text/plain": [
       "\n",
       "Call:\n",
       "lm(formula = income ~ sex + birth + marriage + religion + code_job + \n",
       "    code_region, data = welfare[sam, ])\n",
       "\n",
       "Residuals:\n",
       "   Min     1Q Median     3Q    Max \n",
       "-363.1  -83.0  -18.1   50.6  815.7 \n",
       "\n",
       "Coefficients:\n",
       "              Estimate Std. Error t value Pr(>|t|)    \n",
       "(Intercept) -3.195e+03  4.414e+02  -7.239 5.64e-13 ***\n",
       "sex         -1.459e+02  4.835e+00 -30.176  < 2e-16 ***\n",
       "birth        1.929e+00  2.244e-01   8.595  < 2e-16 ***\n",
       "marriage    -2.452e+01  1.668e+00 -14.703  < 2e-16 ***\n",
       "religion     9.128e+00  4.895e+00   1.865   0.0623 .  \n",
       "code_job    -1.850e-01  9.018e-03 -20.514  < 2e-16 ***\n",
       "code_region -2.950e+00  1.174e+00  -2.513   0.0120 *  \n",
       "---\n",
       "Signif. codes:  0 '***' 0.001 '**' 0.01 '*' 0.05 '.' 0.1 ' ' 1\n",
       "\n",
       "Residual standard error: 136 on 3231 degrees of freedom\n",
       "  (8426 observations deleted due to missingness)\n",
       "Multiple R-squared:  0.3551,\tAdjusted R-squared:  0.3539 \n",
       "F-statistic: 296.5 on 6 and 3231 DF,  p-value: < 2.2e-16\n"
      ]
     },
     "metadata": {},
     "output_type": "display_data"
    }
   ],
   "source": [
    "summary(fit2)"
   ]
  },
  {
   "cell_type": "markdown",
   "metadata": {},
   "source": [
    "- ??? 얘는 갑자기 왜 오른걸까요?"
   ]
  },
  {
   "cell_type": "code",
   "execution_count": 40,
   "metadata": {},
   "outputs": [
    {
     "data": {
      "text/plain": [
       "\n",
       "Call:\n",
       "lm(formula = fo, data = welfare[sam, ])\n",
       "\n",
       "Residuals:\n",
       "    Min      1Q  Median      3Q     Max \n",
       "-334.04  -91.37  -25.24   50.62  835.60 \n",
       "\n",
       "Coefficients:\n",
       "             Estimate Std. Error t value Pr(>|t|)    \n",
       "(Intercept) -6884.948    428.422 -16.070  < 2e-16 ***\n",
       "sex          -137.729      5.122 -26.889  < 2e-16 ***\n",
       "birth           3.753      0.219  17.137  < 2e-16 ***\n",
       "marriage      -29.543      1.753 -16.850  < 2e-16 ***\n",
       "religion        4.780      5.198   0.920  0.35781    \n",
       "code_region    -3.932      1.247  -3.154  0.00163 ** \n",
       "---\n",
       "Signif. codes:  0 '***' 0.001 '**' 0.01 '*' 0.05 '.' 0.1 ' ' 1\n",
       "\n",
       "Residual standard error: 144.6 on 3232 degrees of freedom\n",
       "  (8426 observations deleted due to missingness)\n",
       "Multiple R-squared:  0.2711,\tAdjusted R-squared:   0.27 \n",
       "F-statistic: 240.4 on 5 and 3232 DF,  p-value: < 2.2e-16\n"
      ]
     },
     "metadata": {},
     "output_type": "display_data"
    }
   ],
   "source": [
    "summary(fit3)"
   ]
  },
  {
   "cell_type": "code",
   "execution_count": 42,
   "metadata": {},
   "outputs": [
    {
     "data": {
      "image/png": "[encoded data removed]",
      "text/plain": [
       "plot without title"
      ]
     },
     "metadata": {},
     "output_type": "display_data"
    }
   ],
   "source": [
    "ts.plot(fit3$residuals)"
   ]
  },
  {
   "cell_type": "markdown",
   "metadata": {},
   "source": [
    "- 어떻게든 이 녀석을 처리하지 않으면 상관관계를 설명하기 어려울 것 같습니다."
   ]
  },
  {
   "cell_type": "markdown",
   "metadata": {},
   "source": [
    "- 결론은 내지 못한 채 미궁 속으로..."
   ]
  },
  {
   "cell_type": "code",
   "execution_count": null,
   "metadata": {},
   "outputs": [],
   "source": []
  }
 ],
 "metadata": {
  "kernelspec": {
   "display_name": "R",
   "language": "R",
   "name": "ir"
  },
  "language_info": {
   "codemirror_mode": "r",
   "file_extension": ".r",
   "mimetype": "text/x-r-source",
   "name": "R",
   "pygments_lexer": "r",
   "version": "3.6.1"
  }
 },
 "nbformat": 4,
 "nbformat_minor": 4
}
