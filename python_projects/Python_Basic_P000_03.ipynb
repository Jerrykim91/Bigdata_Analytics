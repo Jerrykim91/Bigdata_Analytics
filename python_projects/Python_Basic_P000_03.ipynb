{
 "cells": [
  {
   "cell_type": "markdown",
   "metadata": {},
   "source": [
    "# 리스트 \n",
    "\n",
    "1. 파이썬 문법 전체 리스트 \n",
    "2. 수치형 \n",
    "3. 문자형 \n",
    "4. 연속데이터타입_리스트_딕셔너리_튜플_집합\n",
    "---\n",
    "5. 블린_조건문_제어문_반복문 \n",
    "---\n",
    "6. 함수\n",
    "7. 모듈화 모듈가져오기 패키지 예외처리\n",
    "8. 클래스 _ 객체지향 프로그램\n",
    "9. 정규식\n",
    "10. 고급표현"
   ]
  },
  {
   "cell_type": "markdown",
   "metadata": {},
   "source": [
    "## 함수\n",
    "\n",
    "- 함수    \n",
    "    - 종류     \n",
    "        - 커스텀함수(사용자정의함수)    \n",
    "            - 개발자의 필요에 의해 정의된 함수  \n",
    "            \n",
    "        - 내장함수   \n",
    "            - 별도의 추가 코드 없이 바로 사용가능한 함수   \n",
    "            - type(), len(), str(), list(), ....   \n",
    "            - 파이썬이 설치되어 있으면 바로 사용이 가능(전역적인)    \n",
    "            \n",
    "        - 외장함수 (라이브러리상에 존재하는 함수)    \n",
    "            - 별도의 모듈을 코드에 추가하고 나서 모듈을 통해 사용가능한 함수 (소속.함수명())   \n",
    "            - import time   \n",
    "            - time.sleep(1)   \n",
    "            \n",
    "        - 람다함수      \n",
    "            - 가장 빠른 함수   \n",
    "            - 수행문이 1개이다    \n",
    "            - 특정 함수의 인자로 사용, 휘발성, 코드가 지나가면 사라진다    \n",
    "            - 연속 데이터 타입들의 맴버들을 하나씩 건들면서 뭔가 작업을 하고 대체, 걸러낼때 주로 사용   \n",
    "            - 대체 : 파이썬 내장함수 map(), DataFrame의 apply()   \n",
    "            - 필터링 :파이썬 내장함수 filter(), DataFrame의 apply()   \n",
    "            - lambda x:x+1   \n",
    "            \n",
    "        - 클로저    \n",
    "            - 함수 안에 함수 있다    \n",
    "            \n",
    "    - 프로그램   \n",
    "        - 함수 지향적 프로그램    \n",
    "        \n",
    "    - 특징    \n",
    "        - 함수 본질, 장점    \n",
    "            - 재활용성을 높여서 코드를 다이어트 하고, 품질을높인다    \n",
    "            - 생산성이 향상 => 빠르게 제작 => 기업은 수익 증가확률   \n",
    "            - 다음 프로젝트때는 기존 구축된 함수 모듈이 존재하므로   \n",
    "            - 그만큰 더 생산성 향상   \n",
    "            - 반복된 코드를 함수로 만들어서 사용성을 높인다, 복잡성을 줄인다. 유지보수를 용이하게 구현   \n",
    "            - 입력 대비 출력이라는 기본 기능을 수행   \n",
    "        - 스타일\n",
    "            - 코드중에 반복되는 구간이 있으면->함수\n",
    "            - 로직을 구현 => 일반화 연습 => 함수화\n",
    "        - 용어:C계열:함수, Java계열:메쏘드"
   ]
  },
  {
   "cell_type": "markdown",
   "metadata": {},
   "source": [
    "### 1. 사용자정의함수(커스텀함수)\n",
    "\n",
    "``` py\n",
    "- 기본형태\n",
    "- [] 생략가능하다르는 표현  \n",
    "def 함수명( [인자(매개변수)명, ...] ):  \n",
    "    statements ...  \n",
    "    [return [값,... ]] \n",
    "    \n",
    "```"
   ]
  },
  {
   "cell_type": "markdown",
   "metadata": {},
   "source": [
    "#### 1-1 기본 형"
   ]
  },
  {
   "cell_type": "code",
   "execution_count": null,
   "metadata": {},
   "outputs": [],
   "source": [
    "# 함수 ------------------------------------------"
   ]
  },
  {
   "cell_type": "code",
   "execution_count": null,
   "metadata": {},
   "outputs": [],
   "source": [
    "# 문제 =================\n",
    "# 더하기 함수 \n",
    "# 함수 명 sum \n",
    "# 입력 : x, y\n",
    "# 출력 : 입력 값을 더한 결과 "
   ]
  },
  {
   "cell_type": "code",
   "execution_count": null,
   "metadata": {},
   "outputs": [],
   "source": [
    "# 기본이 타입추론 => 그래서 타입은 아무것도 안씀 "
   ]
  },
  {
   "cell_type": "code",
   "execution_count": 2,
   "metadata": {},
   "outputs": [],
   "source": [
    "x = 0 \n",
    "y = 0 \n",
    "def sum (x, y): \n",
    "    j = x + y\n",
    "    return j "
   ]
  },
  {
   "cell_type": "code",
   "execution_count": null,
   "metadata": {},
   "outputs": [],
   "source": [
    "a = input()\n",
    "b = input()\n",
    "def sum(a, b):\n",
    "    j = int(a)+int(b)\n",
    "    return j"
   ]
  },
  {
   "cell_type": "code",
   "execution_count": 2,
   "metadata": {
    "scrolled": true
   },
   "outputs": [
    {
     "ename": "NameError",
     "evalue": "name 'a' is not defined",
     "output_type": "error",
     "traceback": [
      "\u001b[1;31m---------------------------------------------------------------------------\u001b[0m",
      "\u001b[1;31mNameError\u001b[0m                                 Traceback (most recent call last)",
      "\u001b[1;32m<ipython-input-2-8d4c539d4fd2>\u001b[0m in \u001b[0;36m<module>\u001b[1;34m()\u001b[0m\n\u001b[1;32m----> 1\u001b[1;33m \u001b[0msum\u001b[0m\u001b[1;33m(\u001b[0m\u001b[0ma\u001b[0m\u001b[1;33m,\u001b[0m\u001b[0mb\u001b[0m\u001b[1;33m)\u001b[0m\u001b[1;33m\u001b[0m\u001b[0m\n\u001b[0m",
      "\u001b[1;31mNameError\u001b[0m: name 'a' is not defined"
     ]
    }
   ],
   "source": [
    "sum(a,b)"
   ]
  },
  {
   "cell_type": "code",
   "execution_count": 4,
   "metadata": {},
   "outputs": [],
   "source": [
    "# 간단하게\n",
    "def sum (x, y): \n",
    "    return  x + y \n",
    "\n",
    "# 함수의 사용은 함수의 호출에 의해 진행 \n",
    "# 호출 => 함수명( 인자값 )\n",
    "# call by value : 호출하고 결과를 get"
   ]
  },
  {
   "cell_type": "code",
   "execution_count": null,
   "metadata": {},
   "outputs": [],
   "source": [
    "result = sum( 1, 2 )\n",
    "result"
   ]
  },
  {
   "cell_type": "code",
   "execution_count": 5,
   "metadata": {
    "scrolled": true
   },
   "outputs": [
    {
     "data": {
      "text/plain": [
       "3"
      ]
     },
     "execution_count": 5,
     "metadata": {},
     "output_type": "execute_result"
    }
   ],
   "source": [
    "sum(1,2)\n",
    "# ========================"
   ]
  },
  {
   "cell_type": "code",
   "execution_count": 7,
   "metadata": {},
   "outputs": [],
   "source": [
    "def sum2 (x, y): \n",
    "    print(x + y)"
   ]
  },
  {
   "cell_type": "code",
   "execution_count": 8,
   "metadata": {
    "scrolled": true
   },
   "outputs": [
    {
     "name": "stdout",
     "output_type": "stream",
     "text": [
      "3\n",
      "None\n"
     ]
    }
   ],
   "source": [
    "result = sum2(1, 2)\n",
    "print( result )\n",
    "# print( result ) : 일은 하고있지만 리턴은 안하고 있는것 "
   ]
  },
  {
   "cell_type": "code",
   "execution_count": 15,
   "metadata": {
    "scrolled": true
   },
   "outputs": [
    {
     "name": "stdout",
     "output_type": "stream",
     "text": [
      "None\n"
     ]
    },
    {
     "data": {
      "text/plain": [
       "(None, [1, 2, 3, 5, 5])"
      ]
     },
     "execution_count": 15,
     "metadata": {},
     "output_type": "execute_result"
    }
   ],
   "source": [
    "# 함수 호출의 결과가 None 면 내부에서 return 표현 생략 \n",
    "# 즉, 반환작업을 하지 않는다. \n",
    "a = [3,5,2,5,1]\n",
    "a.sort()\n",
    "print(a.sort()) , a"
   ]
  },
  {
   "cell_type": "code",
   "execution_count": 16,
   "metadata": {},
   "outputs": [
    {
     "data": {
      "text/plain": [
       "[1, 2, 3, 5, 5]"
      ]
     },
     "execution_count": 16,
     "metadata": {},
     "output_type": "execute_result"
    }
   ],
   "source": [
    "a"
   ]
  },
  {
   "cell_type": "markdown",
   "metadata": {},
   "source": [
    "#### 1-2. 가변 인자( arguments, params, parameter )"
   ]
  },
  {
   "cell_type": "code",
   "execution_count": 17,
   "metadata": {},
   "outputs": [],
   "source": [
    "# *a : 포인터 a 라고 부름\n",
    "def sum3( *a ):\n",
    "    print( type(a) )\n",
    "    # 누적합을 리턴하시오, 인자를 모드 더해서 리턴"
   ]
  },
  {
   "cell_type": "code",
   "execution_count": 20,
   "metadata": {
    "scrolled": true
   },
   "outputs": [
    {
     "name": "stdout",
     "output_type": "stream",
     "text": [
      "<class 'tuple'>\n",
      "<class 'tuple'>\n",
      "<class 'tuple'>\n"
     ]
    },
    {
     "data": {
      "text/plain": [
       "10"
      ]
     },
     "execution_count": 20,
     "metadata": {},
     "output_type": "execute_result"
    }
   ],
   "source": [
    "sum3( 1, 2 )\n",
    "sum3( 1, 2, 3 )\n",
    "sum3( 1, 2, 3, 4)"
   ]
  },
  {
   "cell_type": "code",
   "execution_count": 19,
   "metadata": {},
   "outputs": [],
   "source": [
    "# *a : 포인터 a 라고 부름 => 라이브러리 만들 때 사용 but 성향에 따라 다름 \n",
    "def sum3( *a ):\n",
    "    # a 는 튜플로 가변인자가 들어온다. \n",
    "    #print( type(a) )\n",
    "    # 누적합을 리턴하시오, 인자를 모드 더해서 리턴\n",
    "    result = 0\n",
    "    for i in a :\n",
    "        result += i \n",
    "    # 반환 \n",
    "    return result"
   ]
  },
  {
   "cell_type": "markdown",
   "execution_count": null,
   "metadata": {},
   "outputs": [],
   "source": [
    "#### 1-3 리턴값이 여러개"
   ]
  },
  {
   "cell_type": "code",
   "execution_count": null,
   "metadata": {},
   "outputs": [],
   "source": [
    "# *a : 포인터 a 라고 부름 => 라이브러리 만들 때 사용 but 성향에 따라 다름 \n",
    "def sum4( *a ):\n",
    "    result = 0\n",
    "    tmp    = 1\n",
    "    for i in a :\n",
    "        result = result +i\n",
    "        tmp *= i\n",
    "    # 반환 => 여러개일 때 그냥 나열 \n",
    "    return result, tmp"
   ]
  },
  {
   "cell_type": "code",
   "execution_count": null,
   "metadata": {},
   "outputs": [],
   "source": [
    "# 튜플로 리턴되고, n개의 변수로 각각 받을 수있다\n",
    "a, b = sum4(1,2,3,4)"
   ]
  },
  {
   "cell_type": "code",
   "execution_count": null,
   "metadata": {},
   "outputs": [],
   "source": [
    "b"
   ]
  },
  {
   "cell_type": "markdown",
   "execution_count": null,
   "metadata": {},
   "outputs": [],
   "source": [
    "#### 1-4 함수의 인자 초기값 부여 \n",
    "\n",
    "- 함수의 인자를 일일이 다 채우지 않아도 사용 가능\n",
    "- 기본값(초기값)을 부여하여 함수의 사용에 유연성, 인자의 명확성등을 부여할수 있다"
   ]
  },
  {
   "cell_type": "code",
   "execution_count": 3,
   "metadata": {},
   "outputs": [],
   "source": [
    "def setHuman( name , age=50 , weight =100 ): \n",
    "    # 유동 변수 => name \n",
    "    # 기본값 : age=50 , weight =100\n",
    "    print(' %s %s %s '% (name, age, weight))"
   ]
  },
  {
   "cell_type": "code",
   "execution_count": 4,
   "metadata": {},
   "outputs": [
    {
     "name": "stdout",
     "output_type": "stream",
     "text": "부산대 50 100 \n"
    }
   ],
   "source": [
    "setHuman('부산대')"
   ]
  },
  {
   "cell_type": "code",
   "execution_count": null,
   "metadata": {},
   "outputs": [],
   "source": [
    "# 첫번째 인자와 세번째 인자를 부여하고 싶다\n",
    "# 변경하고 싶은 인자를 직접 지정해서 부여\n",
    "setHuman( '부산대', weight=60 )"
   ]
  },
  {
   "cell_type": "code",
   "execution_count": null,
   "metadata": {},
   "outputs": [],
   "source": [
    "setHuman( name='부산대1', weight=60 )"
   ]
  },
  {
   "cell_type": "code",
   "execution_count": null,
   "metadata": {},
   "outputs": [],
   "source": [
    "setHuman( weight=60, name='부산대1' )"
   ]
  },
  {
   "cell_type": "code",
   "execution_count": null,
   "metadata": {},
   "outputs": [],
   "source": [
    "# 초기값이 있는 변수를 앞에두고, \n",
    "# 초기값 없는 매개변수를 뒤로 배치\n",
    "def setHuman2( age=50, weight=100, name ):\n",
    "    print( 'name=%s age=%s w=%s' % (name, age, \n",
    "                                    weight) )"
   ]
  },
  {
   "cell_type": "code",
   "execution_count": null,
   "metadata": {},
   "outputs": [],
   "source": [
    "def setHuman3( age=50, weight=100, name=None ):\n",
    "    print( 'name=%s age=%s w=%s' % (name, age, \n",
    "                                    weight) )"
   ]
  },
  {
   "cell_type": "markdown",
   "metadata": {},
   "source": [
    "### 2.내장함수"
   ]
  },
  {
   "cell_type": "markdown",
   "execution_count": null,
   "metadata": {},
   "outputs": [],
   "source": [
    "#### 2-1. 파일 "
   ]
  },
  {
   "cell_type": "code",
   "execution_count": null,
   "metadata": {},
   "outputs": [],
   "source": [
    "# 파일이 없는데 내용을 쓰려고 하면 파일을 만든다 => 어떤 언어든 운영체제나 동일 \n",
    "\n",
    "f = open('text.txt','w')"
   ]
  },
  {
   "cell_type": "markdown",
   "metadata": {},
   "source": [
    "### 외장함수 (라이브러리상에 존재하는 함수)"
   ]
  },
  {
   "cell_type": "markdown",
   "metadata": {},
   "source": [
    "### 람다함수** "
   ]
  },
  {
   "cell_type": "markdown",
   "metadata": {},
   "source": [
    "###  클로저"
   ]
  },
  {
   "cell_type": "code",
   "execution_count": null,
   "metadata": {},
   "outputs": [],
   "source": []
  },
  {
   "cell_type": "code",
   "execution_count": null,
   "metadata": {},
   "outputs": [],
   "source": []
  },
  {
   "cell_type": "code",
   "execution_count": null,
   "metadata": {},
   "outputs": [],
   "source": []
  },
  {
   "cell_type": "code",
   "execution_count": null,
   "metadata": {},
   "outputs": [],
   "source": []
  },
  {
   "cell_type": "code",
   "execution_count": null,
   "metadata": {},
   "outputs": [],
   "source": []
  },
  {
   "cell_type": "code",
   "execution_count": null,
   "metadata": {},
   "outputs": [],
   "source": []
  },
  {
   "cell_type": "code",
   "execution_count": null,
   "metadata": {},
   "outputs": [],
   "source": []
  },
  {
   "cell_type": "code",
   "execution_count": null,
   "metadata": {},
   "outputs": [],
   "source": []
  },
  {
   "cell_type": "code",
   "execution_count": null,
   "metadata": {},
   "outputs": [],
   "source": []
  }
 ],
 "metadata": {
  "kernelspec": {
   "display_name": "Python 3",
   "language": "python",
   "name": "python3"
  },
  "language_info": {
   "codemirror_mode": {
    "name": "ipython",
    "version": 3
   },
   "file_extension": ".py",
   "mimetype": "text/x-python",
   "name": "python",
   "nbconvert_exporter": "python",
   "pygments_lexer": "ipython3",
   "version": "3.6.5"
  }
 },
 "nbformat": 4,
 "nbformat_minor": 2
}