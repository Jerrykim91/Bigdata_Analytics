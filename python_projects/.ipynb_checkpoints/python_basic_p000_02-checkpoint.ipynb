{
 "cells": [
  {
   "cell_type": "markdown",
   "metadata": {},
   "source": [
    "##  조건문 , 제어문 , 반복문 "
   ]
  },
  {
   "cell_type": "markdown",
   "metadata": {},
   "source": [
    "### 흐름제어\n",
    "\n",
    "- 코드의 흐름을 변경할려면(분기, 반복등)\n",
    "- 조건을 체크 -> 참, 거짓에 의해 (판정) 흐름을 변경\n",
    "- 판정 => 결론은 블린(True/False)\n",
    "- 판정이 작성된 코드을 조건식\n",
    "- 조건문, 반복문 제어문 식\n",
    "    - 조건식 결론 => 참이나 거짓이냐?\n",
    "        - False 상황: 0, 0.0, [], {}, (), None(값이없다), 기타조건문의결과(비교,등등)\n",
    "    - 조건식을 가지고 상황따라 움직이는 방식:조건문\n",
    "        - if\n",
    "    - 반복문 : 반복작업\n",
    "        - for, while"
   ]
  },
  {
   "cell_type": "markdown",
   "metadata": {},
   "source": [
    "#### 조건식 결론 첫번째 케이스"
   ]
  },
  {
   "cell_type": "code",
   "execution_count": 1,
   "metadata": {
    "scrolled": true
   },
   "outputs": [
    {
     "data": {
      "text/plain": [
       "(True, False, True, False, False, True)"
      ]
     },
     "execution_count": 1,
     "metadata": {},
     "output_type": "execute_result"
    }
   ],
   "source": [
    "# 조건식 결론 \n",
    "1600>1500, 1600 < 1500, 16000 >= 1500, 1600<=1500, 1600==1500, 1600 != 1500"
   ]
  },
  {
   "cell_type": "markdown",
   "metadata": {},
   "source": [
    "### if문"
   ]
  },
  {
   "cell_type": "code",
   "execution_count": 1,
   "metadata": {},
   "outputs": [],
   "source": [
    "# 요구사항에서 조건 상황이 몇개인지 체크하여 구현\n",
    "# if\n",
    "# if ~ else\n",
    "# if ~ elif\n",
    "# if ~ elif   ~ elif...\n",
    "# if ~ elif.. ~ else"
   ]
  },
  {
   "cell_type": "markdown",
   "metadata": {},
   "source": [
    "### 연습 문제\n",
    "-------------------------"
   ]
  },
  {
   "cell_type": "markdown",
   "metadata": {},
   "source": [
    "**<문제>**   \n",
    "커피값을 입력받아서 1500원이상이면 거스럼돈을 줘라     \n",
    "내용은 \"거스름돈(받은금액-1500)은 XX원 입니다.\""
   ]
  },
  {
   "cell_type": "code",
   "execution_count": 22,
   "metadata": {
    "scrolled": true
   },
   "outputs": [
    {
     "name": "stdout",
     "output_type": "stream",
     "text": [
      "커피값을 주세요2000\n"
     ]
    },
    {
     "data": {
      "text/plain": [
       "(2000, int)"
      ]
     },
     "execution_count": 22,
     "metadata": {},
     "output_type": "execute_result"
    }
   ],
   "source": [
    "# 1. 커피값을 입력받아서(정수 값 수치로 잘 넣는다)\n",
    "coffee_price =int(input('커피값을 주세요'))\n",
    "coffee_price, type(coffee_price)"
   ]
  },
  {
   "cell_type": "code",
   "execution_count": 26,
   "metadata": {
    "scrolled": true
   },
   "outputs": [
    {
     "data": {
      "text/plain": [
       "True"
      ]
     },
     "execution_count": 26,
     "metadata": {},
     "output_type": "execute_result"
    }
   ],
   "source": [
    "coffee_price > 1500"
   ]
  },
  {
   "cell_type": "code",
   "execution_count": 21,
   "metadata": {
    "scrolled": true
   },
   "outputs": [
    {
     "data": {
      "text/plain": [
       "(2000, int)"
      ]
     },
     "execution_count": 21,
     "metadata": {},
     "output_type": "execute_result"
    }
   ],
   "source": [
    "int(coffee_price), type(int(coffee_price))"
   ]
  },
  {
   "cell_type": "code",
   "execution_count": 25,
   "metadata": {
    "scrolled": true
   },
   "outputs": [],
   "source": [
    "# 2. 1500원이상이면 <- 조건 1개\n",
    "#    문법 => if 조건식:\n",
    "# >, <, >=, <=, ==, !=, not(부정, False를 체크할때, 잡을때, 부정적상황을 체크할때)\n",
    "\n",
    "# and,  or\n",
    "# : => 코드블럭이 시작된다\n",
    "#      코드블럭 => 들려쓰기후 진행(세로줄이 변경됨)\n",
    "#      그 조건이 만족된때만 수행하는 코드\n",
    "if coffee_price > 1500 : \n",
    "     # 아무것도 안할때 pass ( 뼈대 잡을때 pass 사용 )\n",
    "    pass"
   ]
  },
  {
   "cell_type": "code",
   "execution_count": 32,
   "metadata": {},
   "outputs": [
    {
     "name": "stdout",
     "output_type": "stream",
     "text": [
      "잔돈은 500원 입니다.\n"
     ]
    }
   ],
   "source": [
    "# 3. 거스럼돈은 100원 입니다.\n",
    "if coffee_price > 1500 :\n",
    "    #k = coffee_price - 1500\n",
    "    print('잔돈은 %d원 입니다.'% (coffee_price-1500))\n",
    "    #pass"
   ]
  },
  {
   "cell_type": "code",
   "execution_count": 33,
   "metadata": {},
   "outputs": [
    {
     "name": "stdout",
     "output_type": "stream",
     "text": [
      "잔돈은 500원 입니다.\n"
     ]
    }
   ],
   "source": [
    "# 3. 거스럼돈을 줘라\n",
    "if coffee_price > 1500 :\n",
    "    tmp = '잔돈은 %d원 입니다.'% (coffee_price - 1500)\n",
    "    print(tmp)\n",
    "    #pass"
   ]
  },
  {
   "cell_type": "markdown",
   "metadata": {},
   "source": [
    "### 통합 코드 "
   ]
  },
  {
   "cell_type": "code",
   "execution_count": 34,
   "metadata": {},
   "outputs": [
    {
     "name": "stdout",
     "output_type": "stream",
     "text": [
      "커피값을 주세요20000\n",
      "잔돈은 18500원 입니다.\n"
     ]
    }
   ],
   "source": [
    "# base\n",
    "coffee_price =int(input('커피값을 주세요'))\n",
    "if coffee_price >= 1500 :\n",
    "    tmp = '잔돈은 %d원 입니다.'% (coffee_price - 1500)\n",
    "    print(tmp)\n",
    "    pass"
   ]
  },
  {
   "cell_type": "code",
   "execution_count": 26,
   "metadata": {
    "scrolled": true
   },
   "outputs": [
    {
     "name": "stdout",
     "output_type": "stream",
     "text": [
      "커피값을 주세요1500\n",
      "잔돈은 0원 입니다.\n"
     ]
    }
   ],
   "source": [
    "# while 사용 \n",
    "Runnig = True\n",
    "while Runnig: \n",
    "    coffee_price =int(input('커피값을 주세요'))\n",
    "    if coffee_price >= 1500 :\n",
    "        tmp = '잔돈은 %d원 입니다.'% (coffee_price - 1500)\n",
    "        print(tmp)\n",
    "        pass\n",
    "    break"
   ]
  },
  {
   "cell_type": "code",
   "execution_count": null,
   "metadata": {},
   "outputs": [],
   "source": [
    "# # for 문 연습 \n",
    "# for i in range(10):\n",
    "#     i= i+1\n",
    "#     coffee_price =int(input('커피값을 주세요'))\n",
    "#     if coffee_price >= 1500 :\n",
    "#         tmp = '잔돈은 %d원 입니다.'% (coffee_price - 1500)\n",
    "#         print(tmp)\n",
    "#     else \n",
    "#         print('감사합니다.')\n",
    "#         print(tmp)\n",
    "#         pass"
   ]
  },
  {
   "cell_type": "code",
   "execution_count": 14,
   "metadata": {},
   "outputs": [
    {
     "name": "stdout",
     "output_type": "stream",
     "text": [
      "커피값을 주세요1500\n",
      "\n",
      "1500원 받았습니다.\n",
      "감사합니다.\n"
     ]
    }
   ],
   "source": [
    "# base 튜닝\n",
    "coffee_price = int(input('커피값을 주세요'))\n",
    "if coffee_price > 1500 :\n",
    "    tmp = '잔돈은 %d원 입니다.'% (coffee_price - 1500)\n",
    "    print(tmp)\n",
    "\n",
    "elif coffee_price < 1500: \n",
    "    tmp = '금액이 부족합니다. %d원 더 주세요.'% (1500 - coffee_price)\n",
    "    print(tmp)\n",
    "    \n",
    "elif coffee_price == 1500:     \n",
    "    tmp = '\\n%d원 받았습니다.\\n감사합니다.'% (coffee_price)\n",
    "    print(tmp)\n",
    "else :\n",
    "    print('감사합니다.')\n",
    "    pass"
   ]
  },
  {
   "cell_type": "markdown",
   "metadata": {},
   "source": [
    "---"
   ]
  },
  {
   "cell_type": "code",
   "execution_count": null,
   "metadata": {},
   "outputs": [],
   "source": [
    "'''\n",
    "# 들여쓰기 : 코드블럭\n",
    "# 코드블럭내에 존재하는 코드=> 수행문 => statements\n",
    "\n",
    "if 조건식:\n",
    "    statements\n",
    "elif 조건식:\n",
    "    statements\n",
    "else:\n",
    "    statements\n",
    "'''"
   ]
  },
  {
   "cell_type": "markdown",
   "metadata": {},
   "source": [
    "#### 조건식 결론 두번째 케이스 "
   ]
  },
  {
   "cell_type": "code",
   "execution_count": 27,
   "metadata": {},
   "outputs": [
    {
     "name": "stdout",
     "output_type": "stream",
     "text": [
      "밥먹어라\n"
     ]
    }
   ],
   "source": [
    "isRunning = False\n",
    "\n",
    "# 부정상황을 체크할때 사용\n",
    "# 달리지 않는다면 밥먹어라라는 문구를 출력하시오\n",
    "if not isRunning:\n",
    "    print( '밥먹어' )"
   ]
  },
  {
   "cell_type": "code",
   "execution_count": 23,
   "metadata": {},
   "outputs": [],
   "source": [
    "# 비트 연산\n",
    "\n",
    "# 둘다 참이여만 참이다 => 두 조건을 모두 만족해야 한다\n",
    "# 하나라도 거짓이면 거짓이다 (타언어 A && B)\n",
    "True and True, True and False, False and False, False and True"
   ]
  },
  {
   "cell_type": "code",
   "execution_count": null,
   "metadata": {},
   "outputs": [],
   "source": [
    "# 한개만 참이면 참이다 (타언어 A || B)\n",
    "# 둘다 거짓이면 거짓이다\n",
    "True or True, True or False, False or True, False or False"
   ]
  },
  {
   "cell_type": "markdown",
   "metadata": {},
   "source": [
    "####  삼항 연산자( 표현이 간결해진다. )\n",
    "- 파이썬은 없다. \n",
    "- 타언어 => 변수 = 조건식 ?  참일때 값: 거짓일때 값 ;\n",
    "- 상황은 두개 \n",
    "- and => 둘 다 참이어야 함 \n",
    "- or  => 둘 중 하나만 참 "
   ]
  },
  {
   "cell_type": "code",
   "execution_count": null,
   "metadata": {},
   "outputs": [],
   "source": [
    "# and 연산 -------- \n",
    "# 다른언어 ('?') => 파이썬은 ('and')"
   ]
  },
  {
   "cell_type": "markdown",
   "metadata": {},
   "source": [
    "---\n",
    "**중요**"
   ]
  },
  {
   "cell_type": "markdown",
   "metadata": {},
   "source": [
    "<문제>\n",
    "**문자열** 안의 숫자를 100이라는 값으로 채워라 \n",
    "tip _ :포멧팅 _ 중괄호라 -> .format()을 사용"
   ]
  },
  {
   "cell_type": "code",
   "execution_count": 20,
   "metadata": {},
   "outputs": [
    {
     "data": {
      "text/plain": [
       "'거스름돈은 100원입니다.'"
      ]
     },
     "execution_count": 20,
     "metadata": {},
     "output_type": "execute_result"
    }
   ],
   "source": [
    "a = 1500 \n",
    "b = 1600 \n",
    "# 값을 명확하게 확보 받기 위해서 (b-a) 그룹화를 시킨다 \n",
    "msg = b >= a and '거스름돈은 {cost}원입니다.'.format(cost=(b-a)) or '%원 부족' %(a-b)\n",
    "msg"
   ]
  },
  {
   "cell_type": "code",
   "execution_count": 19,
   "metadata": {},
   "outputs": [
    {
     "data": {
      "text/plain": [
       "True"
      ]
     },
     "execution_count": 19,
     "metadata": {},
     "output_type": "execute_result"
    }
   ],
   "source": [
    "a , b = 1500, 1600 \n",
    "\n",
    "msg = b >= a if '거스름돈은 {cost}원입니다.'.format(cost=(b-a)) else '%원 부족' %(a-b)\n",
    "msg"
   ]
  },
  {
   "cell_type": "code",
   "execution_count": 22,
   "metadata": {},
   "outputs": [
    {
     "data": {
      "text/plain": [
       "'거스름돈은 100원입니다.'"
      ]
     },
     "execution_count": 22,
     "metadata": {},
     "output_type": "execute_result"
    }
   ],
   "source": [
    "a , b = 1500, 1600 \n",
    "\n",
    "msg = '거스름돈은 {cost}원입니다.'.format(cost=(b-a)) if  b >= a else '%원 부족' %(a-b)\n",
    "msg"
   ]
  },
  {
   "cell_type": "markdown",
   "metadata": {},
   "source": [
    "---"
   ]
  },
  {
   "cell_type": "markdown",
   "metadata": {},
   "source": [
    "**Position of if **    \n",
    "---\n",
    "``` \n",
    "if expression:\n",
    "    pass\n",
    "```\n",
    "---\n",
    "**Position of if / else**    \n",
    "---\n",
    "```\n",
    "if condition:\n",
    "    pass\n",
    "else:\n",
    "    pass\n",
    "```\n",
    "---\n",
    "\n",
    "<< Positioning >>\n",
    "    \n",
    "    1. 조건을 이해하고 그 수대로 틀을 구성\n",
    "    2. 조건을 일단 다 배치하고 \n",
    "    3. 인사이트(도메인, 해당 직무)를 이해하고 가장 빈도가 높은 순으로 조건을 재배치(최적화 느낌) \n",
    "    4. 기획부분에 없으면 요구사항을 확인하고 작업 => 판이 커지면 책임 싸움 \n",
    "    5. 제시되지 않은 조건은 가정한다. "
   ]
  },
  {
   "cell_type": "code",
   "execution_count": 24,
   "metadata": {},
   "outputs": [
    {
     "name": "stdout",
     "output_type": "stream",
     "text": [
      "커피값을 주세요1500\n",
      "\n",
      "1500원 받았습니다.\n",
      "감사합니다.\n"
     ]
    }
   ],
   "source": [
    "coffee_price = int(input('커피값을 주세요'))\n",
    "\n",
    "if coffee_price > 1500:\n",
    "    print('잔돈은 %d원 입니다.'% (coffee_price - 1500))\n",
    "elif coffee_price == 1500:\n",
    "    print('\\n%d원 받았습니다.\\n감사합니다.'% (coffee_price))\n",
    "else:\n",
    "    print('감사합니다.')"
   ]
  },
  {
   "cell_type": "code",
   "execution_count": null,
   "metadata": {},
   "outputs": [],
   "source": []
  }
 ],
 "metadata": {
  "kernelspec": {
   "display_name": "Python 3",
   "language": "python",
   "name": "python3"
  },
  "language_info": {
   "codemirror_mode": {
    "name": "ipython",
    "version": 3
   },
   "file_extension": ".py",
   "mimetype": "text/x-python",
   "name": "python",
   "nbconvert_exporter": "python",
   "pygments_lexer": "ipython3",
   "version": "3.6.5"
  }
 },
 "nbformat": 4,
 "nbformat_minor": 2
}
