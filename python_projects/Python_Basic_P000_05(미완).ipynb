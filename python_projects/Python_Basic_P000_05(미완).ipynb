{
 "cells": [
  {
   "cell_type": "markdown",
   "metadata": {},
   "source": [
    "# 리스트 \n",
    "\n",
    "---\n",
    "\n",
    "01. 파이썬 문법 전체 리스트 \n",
    "02. 수치형 \n",
    "03. 문자형 \n",
    "04. 연속데이터타입\\_리스트\\_딕셔너리\\_튜플_집합\n",
    "    - Python_Basic_P000_01.ipynb\n",
    "\n",
    "---\n",
    "05. 블린\\_조건문\\_제어문\\_반복문 \n",
    "    - Python_Basic_P000_02.ipynb\n",
    "\n",
    "---\n",
    "06. 함수\n",
    "    - Python_Basic_P000_03.ipynb\n",
    "---\n",
    "07. 모듈화 모듈가져오기& 패키지 예외처리\n",
    "    - Python_Basic_P000_04.ipynb\n",
    "    \n",
    "---\n",
    "\n",
    "**08. 클래스\\_객체지향 프로그램**      \n",
    "    - Python_Basic_P000_05.ipynb    \n",
    "    \n",
    "---\n",
    "09. 정규식\n",
    "10. 고급표현"
   ]
  },
  {
   "cell_type": "markdown",
   "metadata": {},
   "source": [
    "## Class & 객체(Object)\n",
    "\n",
    "\n",
    "- 용어 정리\n",
    "\n",
    "    - 개체 : 이세상에 존재하는 모든 유형/무형(사고,생각등등)\n",
    "        - entity\n",
    "        - 전산에서 코드로 구현할 대상이 된다     \n",
    "        \n",
    "    - 클래스(Calss):      \n",
    "        - 자동차이라는 유형을 전산으로 구현\n",
    "        \n",
    "        - 전산상에서를 이를 구현할수 있는 기존, 용어가 필요 !! \n",
    "            =>  클래스라고 정의\n",
    "        - 클래스는 개체를 구현하는 방법(룰, 문법)\n",
    "        - 클래스를 작성한 코드를 구현하면 클래스가 메모리에 로드가 되는데,     \n",
    "            => 이때 이를 객체(Object)라고 한다.      \n",
    "        \n",
    "    - 객체(Object):     \n",
    "        - 여러개를 생성가능 \n",
    "        - 동일한 객체는 동일한 **특성**을 가짐 \n",
    "            - 특성 : 문법적으로 변수로 표현 \n",
    "                -  차 => 바퀴 4개/ 핸들 1개 / 브레이크.... ect.. \n",
    "            - **맴버 변수**\n",
    "            \n",
    "        - 동일한 객체는 동일한 **행동**을 가짐 \n",
    "            - 행동 : 문법적으로 함수로 표현\n",
    "                -  차 => 달린다. 멈춘다, 가속한다 ... ect.... \n",
    "            - **맴버 함수**       \n",
    "                  \n",
    "         - 객체를 중심으로(class를 중심으) 코드가 작성되고,     \n",
    "            => 관리되면 **\"객체 지향프로그램(OOP)\"**     \n",
    "            \n",
    "         - C++ 에서 처음 등장, 자바에서 발전   \n",
    "             => 이후는 대부분의 언어가 지원    \n",
    "             \n",
    "         - *상속성*: **<= 파이썬은 상속성만 신경쓴다**\n",
    "             부모, 자식관계를 통해서,     \n",
    "             상속을 받은 자식을 부모의 모든 기능을 **그대로 사용 가능**하고,       \n",
    "             자식은 재정의하거나, 기능을 추가할수 있다.      \n",
    "         ---      \n",
    "        - 캡슐화 :    \n",
    "            => 데이터를 내부로 숨기고, 정해진 함수를 통해서 데이터를 읽고, 쓰기    \n",
    "        - 다형성    \n",
    "        - ClassName의 첫글자는 대문자로 쓰는것이 **관습적**이다.\n",
    "        \n",
    "        \n",
    "        \n",
    "---\n",
    "\n",
    "``` 함수는 호출해야 존재하고 클래스는 생성해야 존재한다. ```\n",
    "\n",
    "---\n"
   ]
  },
  {
   "cell_type": "markdown",
   "metadata": {},
   "source": [
    "```py\n",
    "# 형식  : class  기술법  \n",
    "# 클래스 생성 => 생성해야 존재한다. \n",
    "# => 클래스명([인자])\n",
    "\n",
    "```\n",
    "#### 멤버함수 \n",
    "- 클래스의 내부에 존재하는 모든함수의 1번 인자는 \n",
    "- 클래스 자기자신을 설명하는 키워드 => self로 세팅 \n",
    "- 타언어에서는 this라고 표현 "
   ]
  },
  {
   "cell_type": "code",
   "execution_count": null,
   "metadata": {},
   "outputs": [],
   "source": [
    "# 구성원을 일부 보여주면서 class를 정의\n",
    "class Person:\n",
    "    '''\n",
    "    맴버 변수\n",
    "    '''\n",
    "    name = '홍길동'\n",
    "    '''\n",
    "    맴버 함수\n",
    "    '''\n",
    "    def getName():\n",
    "        print('Person의 이름입니다.')\n",
    "    '''\n",
    "    생성자\n",
    "    '''   "
   ]
  },
  {
   "cell_type": "code",
   "execution_count": null,
   "metadata": {},
   "outputs": [],
   "source": [
    "p = Person()\n",
    "p"
   ]
  },
  {
   "cell_type": "code",
   "execution_count": null,
   "metadata": {},
   "outputs": [],
   "source": [
    "# p라는 객체의 맴버들을 접근하고 싶으면 '.(도트 연산자)' 사용\n",
    "p.name"
   ]
  },
  {
   "cell_type": "code",
   "execution_count": null,
   "metadata": {},
   "outputs": [],
   "source": [
    "p.getName()"
   ]
  },
  {
   "cell_type": "code",
   "execution_count": null,
   "metadata": {},
   "outputs": [],
   "source": [
    "class Person:\n",
    "    name = '홍길동'\n",
    "    def getName( self ):\n",
    "        print('Person의 이름입니다.')\n",
    "    '''\n",
    "    생성자\n",
    "    '''   "
   ]
  },
  {
   "cell_type": "code",
   "execution_count": null,
   "metadata": {},
   "outputs": [],
   "source": [
    "p = Person()"
   ]
  },
  {
   "cell_type": "code",
   "execution_count": null,
   "metadata": {},
   "outputs": [],
   "source": [
    "p.getName()"
   ]
  },
  {
   "cell_type": "markdown",
   "metadata": {},
   "source": [
    "#### 생성자 \n",
    "- 생성자, contructor => 따지고 보면 함수\n",
    "- 클래스를보고 객체를 생성하는 실제적인 작업 진행\n",
    "- 기본 생성자는 생략이 가능하다.  "
   ]
  },
  {
   "cell_type": "code",
   "execution_count": null,
   "metadata": {},
   "outputs": [],
   "source": [
    "class Person:\n",
    "    name = '홍길동'\n",
    "    def getName( self ):\n",
    "        print('Person의 이름입니다.')\n",
    "    '''\n",
    "    생성자:객체를 생성, 맴버변수 초기화(옵션)\n",
    "    '''\n",
    "    def __init__( self ):\n",
    "        print('객체 생성')"
   ]
  },
  {
   "cell_type": "code",
   "execution_count": null,
   "metadata": {},
   "outputs": [],
   "source": [
    "Person()"
   ]
  },
  {
   "cell_type": "code",
   "execution_count": null,
   "metadata": {},
   "outputs": [],
   "source": [
    "# 초기화 => 최초, 맨처음에 값을 세팅하는 행위\n",
    "# 변수를 사용하기 전에 초기값을 넣는 행위 => 초기화\n",
    "a = None"
   ]
  },
  {
   "cell_type": "code",
   "execution_count": null,
   "metadata": {},
   "outputs": [],
   "source": [
    "a = 1"
   ]
  },
  {
   "cell_type": "code",
   "execution_count": null,
   "metadata": {},
   "outputs": [],
   "source": [
    "# 맴버변수 초기화(옵션)\n",
    "class Person:\n",
    "    name = None\n",
    "    def getName( self ):\n",
    "        print('Person의 이름은 %s입니다.' % self.name)    \n",
    "    def __init__( self, name ):\n",
    "        print('객체 생성')\n",
    "        # 클레스 내부에서 맴버들을 사용할 경우 \n",
    "        # self.변수, self.함수\n",
    "        # 맴버 변수 초기화\n",
    "        self.name = name"
   ]
  },
  {
   "cell_type": "code",
   "execution_count": null,
   "metadata": {},
   "outputs": [],
   "source": [
    "p = Person( '부산대역' )\n",
    "p.name"
   ]
  },
  {
   "cell_type": "code",
   "execution_count": null,
   "metadata": {},
   "outputs": [],
   "source": [
    "p.getName()\n",
    "# Person의 이름은 부산대역입니다. <= 구현"
   ]
  },
  {
   "cell_type": "code",
   "execution_count": null,
   "metadata": {},
   "outputs": [],
   "source": [
    "# 맴버변수 초기화(옵션)\n",
    "class Person:\n",
    "    # 이미 맴버 변수 초기화는 수행되었다 => 값을 넣었다\n",
    "    name   = None\n",
    "    age    = 25\n",
    "    weight = 300\n",
    "    def getName( self ):\n",
    "        print('Person의 이름은 %s입니다.' % self.name)    \n",
    "    # 만약, 객체를 만들면서 그것을 변경하고 싶다면\n",
    "    def __init__( self, name, age, weight ):\n",
    "        print('객체 생성')    \n",
    "        if name:\n",
    "            self.name   = name\n",
    "        if age:\n",
    "            self.age    = age\n",
    "        if weight:\n",
    "            self.weight = weight"
   ]
  },
  {
   "cell_type": "code",
   "execution_count": null,
   "metadata": {},
   "outputs": [],
   "source": [
    "Person(None, 0, None)"
   ]
  },
  {
   "cell_type": "code",
   "execution_count": null,
   "metadata": {},
   "outputs": [],
   "source": []
  },
  {
   "cell_type": "code",
   "execution_count": null,
   "metadata": {},
   "outputs": [],
   "source": []
  },
  {
   "cell_type": "code",
   "execution_count": null,
   "metadata": {},
   "outputs": [],
   "source": []
  },
  {
   "cell_type": "code",
   "execution_count": 1,
   "metadata": {},
   "outputs": [],
   "source": [
    "class Car0 : \n",
    "    name = '흰둥이' # 멤버변수 \n",
    "    def getName(self): # 멤버함수\n",
    "        print('나의 Car의 이름입니다.')\n",
    "        \n",
    "    def __init__(self): # 생성자 => 객체를 생성하고 멤버변수를 초기화(=> 옵션)\n",
    "        print('객체생성은 즉, 생성자의 호출을 의미한다.')"
   ]
  },
  {
   "cell_type": "code",
   "execution_count": 2,
   "metadata": {
    "scrolled": true
   },
   "outputs": [],
   "source": [
    "car = Car0()\n",
    "car.getName()"
   ]
  },
  {
   "cell_type": "code",
   "execution_count": 3,
   "metadata": {},
   "outputs": [],
   "source": [
    "Car0()"
   ]
  },
  {
   "cell_type": "code",
   "execution_count": null,
   "metadata": {},
   "outputs": [],
   "source": []
  },
  {
   "cell_type": "code",
   "execution_count": 4,
   "metadata": {},
   "outputs": [],
   "source": [
    "class Car1 : \n",
    "    name = '흰둥이' # 멤버변수 \n",
    "    def getName(self): # 멤버함수\n",
    "        print('나의 Car의 이름입니다.')\n",
    "        \n",
    "    def __init__(self, name): # 생성자 => 객체를 생성하고 멤버변수를 초기화(=> 옵션)\n",
    "        print('객체생성은 즉, 생성자의 호출을 의미한다.')\n",
    "        # 클래스 내부에서 맴버들을 사용 할 경우 \n",
    "        # self.변수 ,self.함수 \n",
    "        self.name = name\n",
    "        "
   ]
  },
  {
   "cell_type": "code",
   "execution_count": 5,
   "metadata": {},
   "outputs": [],
   "source": [
    "# 객체를 어떻게 생성한다? \n",
    "#"
   ]
  },
  {
   "cell_type": "code",
   "execution_count": 6,
   "metadata": {
    "scrolled": false
   },
   "outputs": [
    {
     "name": "stdout",
     "output_type": "stream",
     "text": [
      "객체생성은 즉, 생성자의 호출을 의미한다.\n"
     ]
    },
    {
     "data": {
      "text/plain": [
       "'K5입니다.'"
      ]
     },
     "execution_count": 6,
     "metadata": {},
     "output_type": "execute_result"
    }
   ],
   "source": [
    "c = Car1('K5입니다.')\n",
    "c.name"
   ]
  },
  {
   "cell_type": "code",
   "execution_count": null,
   "metadata": {},
   "outputs": [],
   "source": []
  },
  {
   "cell_type": "code",
   "execution_count": 7,
   "metadata": {},
   "outputs": [],
   "source": [
    "# 나의 Car 이름은 흰둥이입니다. <= 구현하라 \n",
    "class Car2 : \n",
    "    \n",
    "    name = None # 멤버변수 \n",
    "    def getName(self): # 멤버함수\n",
    "        print('나 Car의 이름은 %s 입니다.'% self.name )\n",
    "        \n",
    "    def __init__(self, name): # 생성자 => 객체를 생성하고 멤버변수를 초기화(=> 옵션)\n",
    "        print('객체생성은 즉, 생성자의 호출을 의미한다.')\n",
    "        print('='*45)\n",
    "        # 클래스 내부에서 맴버들을 사용 할 경우 \n",
    "        # self.변수 ,self.함수 \n",
    "        # 멥버변수 초기화 \n",
    "        self.name = name\n"
   ]
  },
  {
   "cell_type": "code",
   "execution_count": 8,
   "metadata": {
    "scrolled": true
   },
   "outputs": [
    {
     "name": "stdout",
     "output_type": "stream",
     "text": [
      "객체생성은 즉, 생성자의 호출을 의미한다.\n",
      "=============================================\n",
      "나 Car의 이름은 흰둥이 입니다.\n"
     ]
    }
   ],
   "source": [
    "c = Car2('흰둥이')\n",
    "c.getName()\n",
    "# Car 이름은 ... 입니다. <= 구현하라 "
   ]
  },
  {
   "cell_type": "code",
   "execution_count": null,
   "metadata": {},
   "outputs": [],
   "source": []
  },
  {
   "cell_type": "code",
   "execution_count": 34,
   "metadata": {},
   "outputs": [],
   "source": [
    "#\n",
    "class Car3 : \n",
    "    # 멤버변수 \n",
    "    name   = None \n",
    "    speed    = 20 \n",
    "    weight = 5000\n",
    "    \n",
    "    # 멤버함수\n",
    "    def getName(self): \n",
    "        print('나 Car의 이름은 %s 입니다.'% self.name )\n",
    "    \n",
    "    # 만약, 객체를 만들면서 그것을 변경하고 싶다면 \n",
    "    def __init__(self, name, speed, weight): \n",
    "    # 생성자 => 객체를 생성하고 멤버변수를 초기화(=> 옵션**)\n",
    "        print('객체생성은 즉, 생성자의 호출을 의미한다.')\n",
    "        print('='*45)\n",
    "        \n",
    "        self.name   = name\n",
    "        print('name = ', name)\n",
    "        self.speed    = speed\n",
    "        print('speed = ', speed)\n",
    "        self.weight = weight\n",
    "        print('weight = ', weight)\n",
    "        \n",
    "#         if name :\n",
    "#             self.name   = name\n",
    "#         if age : \n",
    "#             self.age    = age\n",
    "#         if weight :\n",
    "#             self.weight = weight\n"
   ]
  },
  {
   "cell_type": "code",
   "execution_count": 24,
   "metadata": {},
   "outputs": [
    {
     "ename": "TypeError",
     "evalue": "__init__() missing 3 required positional arguments: 'name', 'age', and 'weight'",
     "output_type": "error",
     "traceback": [
      "\u001b[1;31m---------------------------------------------------------------------------\u001b[0m",
      "\u001b[1;31mTypeError\u001b[0m                                 Traceback (most recent call last)",
      "\u001b[1;32m<ipython-input-24-bfaa7ed542d0>\u001b[0m in \u001b[0;36m<module>\u001b[1;34m()\u001b[0m\n\u001b[1;32m----> 1\u001b[1;33m \u001b[0mc\u001b[0m \u001b[1;33m=\u001b[0m \u001b[0mCar3\u001b[0m\u001b[1;33m(\u001b[0m\u001b[1;33m)\u001b[0m\u001b[1;33m\u001b[0m\u001b[0m\n\u001b[0m\u001b[0;32m      2\u001b[0m \u001b[0mc\u001b[0m\u001b[1;33m.\u001b[0m\u001b[0mgetName\u001b[0m\u001b[1;33m\u001b[0m\u001b[0m\n",
      "\u001b[1;31mTypeError\u001b[0m: __init__() missing 3 required positional arguments: 'name', 'age', and 'weight'"
     ]
    }
   ],
   "source": [
    "c = Car3()\n",
    "c.getName"
   ]
  },
  {
   "cell_type": "markdown",
   "metadata": {},
   "source": [
    "### 상속\n",
    "    - A라는 클래스를 상속받은 클래스가 B이다. \n",
    "    - A는 부모 , B는 자식 \n",
    "    - 다음 문구 확인 \n",
    "        -  A is a B => X   \n",
    "        -  B is a A => O\n",
    "    - ** 자식은 부모의 것을 그대로 물려받고, 그것을 개선(재정의 : overriding)\n",
    "    - "
   ]
  },
  {
   "cell_type": "code",
   "execution_count": null,
   "metadata": {},
   "outputs": [],
   "source": [
    "# 모든 클래스의 수퍼 클래스는 object\n",
    "# 생략가능 \n",
    "# 특정 클래스를 상속 => 클래스명( 부모 클래스명 )"
   ]
  },
  {
   "cell_type": "code",
   "execution_count": 35,
   "metadata": {},
   "outputs": [],
   "source": [
    "# 재정의를 안해서 에러 \n",
    "class name(Car3) : \n",
    "    pass "
   ]
  },
  {
   "cell_type": "code",
   "execution_count": 36,
   "metadata": {},
   "outputs": [
    {
     "name": "stdout",
     "output_type": "stream",
     "text": [
      "객체생성은 즉, 생성자의 호출을 의미한다.\n",
      "=============================================\n",
      "name =  1\n",
      "speed =  2\n",
      "weight =  3\n"
     ]
    }
   ],
   "source": [
    "x = name(1,2,3)"
   ]
  },
  {
   "cell_type": "code",
   "execution_count": 42,
   "metadata": {},
   "outputs": [],
   "source": [
    "# 재정의를 안해서 에러 \n",
    "class name(Car3) : \n",
    "    def run(self):\n",
    "        print('자동차는 달린다')"
   ]
  },
  {
   "cell_type": "code",
   "execution_count": 43,
   "metadata": {},
   "outputs": [
    {
     "name": "stdout",
     "output_type": "stream",
     "text": [
      "객체생성은 즉, 생성자의 호출을 의미한다.\n",
      "=============================================\n",
      "name =  1\n",
      "speed =  2\n",
      "weight =  3\n",
      "자동차는 달린다\n"
     ]
    }
   ],
   "source": [
    "x = name(1,2,3)\n",
    "x.run()"
   ]
  },
  {
   "cell_type": "markdown",
   "metadata": {},
   "source": [
    "```\n",
    "- Enermy 클레스 생성\n",
    "- Enermy 클레스는 \n",
    "    - SPEED, HP, EXP, LEVEL, COLOR 등 속성이 있다 \n",
    "    - move, attack, demeage등의 행동을 가진고 있다\n",
    "    - 이런 클레스를 구현하시오\n",
    "    - 전제하지 않는 것들은 가정하시오\n",
    "```\n",
    "\n",
    "```py\n",
    "\n",
    "# Enermy 클레스 생성\n",
    "# Enermy 클레스는 \n",
    "# -------------------------------------------\n",
    "\n",
    "\"\"\"\n",
    "- SPEED, HP, EXP, LEVEL, COLOR, x, y 등 속성이 있다 \n",
    "    - 멤버변수 : SPEED, HP, EXP, LEVEL, COLOR, x, y\n",
    "- move, attack, demeage등의 행동을 가지고 있다\n",
    "    - 멤버함수 : move, attack, demeage\n",
    "- 이런 클레스를 구현하시오\n",
    "- 전제하지 않는 것들은 가정하시오\n",
    "\"\"\"   \n",
    "\n",
    "# -------------------------------------------\n",
    "# 적을 100개를 생성하시오\n",
    "    # 반복문으로 \n",
    "     enermies = list()\n",
    "        for n in range(100):\n",
    "           enermies.append(Enermy())\n",
    "      len(Enermies),Enermies\n",
    "\n",
    "\n",
    "# 적을 10*10으로 배치하는데, 적의 크기는 10x10이다. \n",
    "    # 텐바이텐  => \n",
    "    - for i in range(10):\n",
    "        for j in range(10):\n",
    "            print(i,j)\n",
    "        \n",
    "# 공간의 크기가 가로 200, 세로 600  => 해상도(단위는 무시)\n",
    "\n",
    "# 적을 100개를 생성하는데, 좌표는 다르게 부여\n",
    "    # random \n",
    "    \n",
    "# 좌표계는 1/4분면이다    \n",
    "    # x +\n",
    "    # y +\n",
    "    \n",
    "```   \n",
    "    "
   ]
  },
  {
   "cell_type": "code",
   "execution_count": null,
   "metadata": {},
   "outputs": [],
   "source": [
    "# 클래스는 새로운 자료구조를 정의하는 형태 \n",
    "# 데이터 뿐만아니라 행동(함수) 가질수 있는 자료 구조 "
   ]
  },
  {
   "cell_type": "code",
   "execution_count": 71,
   "metadata": {},
   "outputs": [],
   "source": [
    "class Enermy:\n",
    "\n",
    "# 속성_ 기본값인가 \n",
    "    NAME  = None\n",
    "    SPEED = 50\n",
    "    HP    = 100 \n",
    "    EXP   = 0 \n",
    "    LEVEL = 0 \n",
    "    COLOR = (255,255,255)\n",
    "    _x  =  0\n",
    "    _y  =  0\n",
    "     \n",
    "    win = (200,600)\n",
    "    \n",
    "# 행동 \n",
    "    # 생성자 \n",
    "    def __init__(self):\n",
    "        self.body = body\n",
    "        pass \n",
    "    \n",
    "    def body(self, NAME, SPEED, HP, EXP, LEVEL, COLOR):\n",
    "    # 본채\n",
    "    # 구성은 NAME, SPEED, HP, EXP, LEVEL, COLOR\n",
    "    # 일정 경험치가 되면 레벨이 오른다.\n",
    "        self.speed = SPEED\n",
    "        self.hp    = HP\n",
    "        self.exp   = EXP\n",
    "        self.level = LEVEL\n",
    "        self.color = COLOR\n",
    "        self._x    = x\n",
    "        self._y    = y\n",
    "        pass\n",
    "    \n",
    "    def move(self, SPEED):\n",
    "        # 움직인다 -> 속도를 가진다 \n",
    "        SPEED += 1\n",
    "        print('증가=', SPEED)\n",
    "\n",
    "    def attack(self):\n",
    "        # 경험치를 얻는다\n",
    "        # \n",
    "        pass \n",
    "\n",
    "    def demeage(self):\n",
    "        # 피가 딸린다 -> 레벨에 따라 피딸림이 차이가 난다. \n",
    "        HP == -1\n",
    "        print('출혈=', HP)\n",
    "        \n",
    "        pass "
   ]
  },
  {
   "cell_type": "code",
   "execution_count": 74,
   "metadata": {
    "scrolled": true
   },
   "outputs": [
    {
     "ename": "TypeError",
     "evalue": "__init__() missing 1 required positional argument: 'body'",
     "output_type": "error",
     "traceback": [
      "\u001b[1;31m---------------------------------------------------------------------------\u001b[0m",
      "\u001b[1;31mTypeError\u001b[0m                                 Traceback (most recent call last)",
      "\u001b[1;32m<ipython-input-74-9233f47dbfe9>\u001b[0m in \u001b[0;36m<module>\u001b[1;34m()\u001b[0m\n\u001b[1;32m----> 1\u001b[1;33m \u001b[0mEnermy\u001b[0m\u001b[1;33m(\u001b[0m\u001b[1;33m)\u001b[0m\u001b[1;33m\u001b[0m\u001b[0m\n\u001b[0m",
      "\u001b[1;31mTypeError\u001b[0m: __init__() missing 1 required positional argument: 'body'"
     ]
    }
   ],
   "source": [
    "Enermy()"
   ]
  },
  {
   "cell_type": "markdown",
   "metadata": {},
   "source": [
    "### 좌표를 부여하여 생성"
   ]
  },
  {
   "cell_type": "code",
   "execution_count": null,
   "metadata": {},
   "outputs": [],
   "source": [
    "e1 = Enermy()\n",
    "e1.x = 10\n",
    "e1.y = 20\n",
    "# 이렇게 짜보니 좌표 받는데 3줄이나 표현해야 한다 ->\n",
    "# Enermy의 자식은 생성할때 바로 x,y 를 받게 진화, 구현하겠다"
   ]
  },
  {
   "cell_type": "code",
   "execution_count": null,
   "metadata": {},
   "outputs": [],
   "source": [
    "# 그냥 100개 만들어 보았다\n",
    "enermies = list()\n",
    "for n in range(100):\n",
    "    # 리스트에 맴버 추가, 객체 생성\n",
    "    enermies.append( Enermy() )   "
   ]
  },
  {
   "cell_type": "code",
   "execution_count": null,
   "metadata": {},
   "outputs": [],
   "source": [
    "len(enermies), enermies[:2]"
   ]
  },
  {
   "cell_type": "code",
   "execution_count": 57,
   "metadata": {},
   "outputs": [
    {
     "data": {
      "text/plain": [
       "<__main__.Enermy at 0x1ff2664fda0>"
      ]
     },
     "execution_count": 57,
     "metadata": {},
     "output_type": "execute_result"
    }
   ],
   "source": [
    "# 객체 100개를 모두 삭제\n",
    "for en in enermies:\n",
    "    # 객체 삭제\n",
    "    del en\n",
    "# 리스트 맴버 제거\n",
    "enermies.clear()"
   ]
  },
  {
   "cell_type": "code",
   "execution_count": null,
   "metadata": {},
   "outputs": [],
   "source": []
  },
  {
   "cell_type": "code",
   "execution_count": null,
   "metadata": {},
   "outputs": [],
   "source": [
    "# 클캐스를 상속 받았다 => 상속 : 재정의 => \n",
    "class EnermyEx(Enermy):\n",
    "    def __init__(self, x, y):\n",
    "        self.x = x\n",
    "        self.y = y"
   ]
  },
  {
   "cell_type": "code",
   "execution_count": null,
   "metadata": {},
   "outputs": [],
   "source": [
    "EnermyEx(10, 20)"
   ]
  },
  {
   "cell_type": "code",
   "execution_count": 62,
   "metadata": {},
   "outputs": [
    {
     "name": "stdout",
     "output_type": "stream",
     "text": [
      "21\n",
      "\n"
     ]
    }
   ],
   "source": [
    "# 적 비행기의 최초 출현하는 y 좌표\n",
    "std_y_start = 150\n",
    "# 적 비행기의 높이\n",
    "enermy_h    = 10  \n",
    "# 적 비행기의 최초 출현 x 좌표\n",
    "std_x_start = 100\n",
    "# 적 비행기의 너비\n",
    "enermy_w    = 10 \n",
    "\n",
    "for y in range(10): # y좌표\n",
    "    for x in range(10): # x좌표\n",
    "        print( std_x_start+x*enermy_w, std_y_start + y*enermy_h )"
   ]
  },
  {
   "cell_type": "code",
   "execution_count": null,
   "metadata": {},
   "outputs": [],
   "source": [
    "# 적 비행기의 최초 출현하는 y 좌표\n",
    "std_y_start = 150\n",
    "# 적 비행기의 높이\n",
    "enermy_h    = 10  \n",
    "# 적 비행기의 최초 출현 x 좌표\n",
    "std_x_start = 100\n",
    "# 적 비행기의 너비\n",
    "enermy_w    = 10 \n",
    "\n",
    "for y in range(10): # y좌표\n",
    "    for x in range(10): # x좌표\n",
    "        tx = std_x_start + x * enermy_w\n",
    "        ty = std_y_start + y * enermy_h\n",
    "        enermies.append( EnermyEx(tx, ty) )\n",
    "\n",
    "len(enermies)   "
   ]
  },
  {
   "cell_type": "code",
   "execution_count": null,
   "metadata": {},
   "outputs": [],
   "source": []
  },
  {
   "cell_type": "code",
   "execution_count": null,
   "metadata": {},
   "outputs": [],
   "source": []
  },
  {
   "cell_type": "code",
   "execution_count": null,
   "metadata": {},
   "outputs": [],
   "source": []
  },
  {
   "cell_type": "code",
   "execution_count": null,
   "metadata": {},
   "outputs": [],
   "source": []
  }
 ],
 "metadata": {
  "kernelspec": {
   "display_name": "Python 3",
   "language": "python",
   "name": "python3"
  },
  "language_info": {
   "codemirror_mode": {
    "name": "ipython",
    "version": 3
   },
   "file_extension": ".py",
   "mimetype": "text/x-python",
   "name": "python",
   "nbconvert_exporter": "python",
   "pygments_lexer": "ipython3",
   "version": "3.6.5"
  }
 },
 "nbformat": 4,
 "nbformat_minor": 2
}
