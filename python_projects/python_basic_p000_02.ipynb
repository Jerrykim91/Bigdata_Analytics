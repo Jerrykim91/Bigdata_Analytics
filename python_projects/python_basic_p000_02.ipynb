{
 "cells": [
  {
   "cell_type": "markdown",
   "metadata": {},
   "source": [
    "##  조건문 , 제어문 , 반복문 "
   ]
  },
  {
   "cell_type": "markdown",
   "metadata": {},
   "source": [
    "### 흐름제어\n",
    "\n",
    "- 코드의 흐름을 변경할려면(분기, 반복등)\n",
    "- 조건을 체크 -> 참, 거짓에 의해 (판정) 흐름을 변경\n",
    "- 판정 => 결론은 블린(True/False)\n",
    "- 판정이 작성된 코드을 조건식\n",
    "- 조건문, 반복문 제어문 식\n",
    "    - 조건식 결론 => 참이나 거짓이냐?\n",
    "        - False 상황: 0, 0.0, [], {}, (), None(값이없다), 기타조건문의결과(비교,등등)\n",
    "    - 조건식을 가지고 상황따라 움직이는 방식:조건문\n",
    "        - if\n",
    "    - 반복문 : 반복작업\n",
    "        - for, while"
   ]
  },
  {
   "cell_type": "code",
   "execution_count": 1,
   "metadata": {},
   "outputs": [],
   "source": [
    "# 요구사항에서 조건 상황이 몇개인지 체크하여 구현\n",
    "# if\n",
    "# if ~ else\n",
    "# if ~ elif\n",
    "# if ~ elif   ~ elif...\n",
    "# if ~ elif.. ~ else"
   ]
  },
  {
   "cell_type": "markdown",
   "metadata": {},
   "source": [
    "커피값을 입력받아서 1500원이상이면 거스럼돈을 줘라\n",
    "내용은 \"거스름돈(받은금액-1500)은 XX원 입니다.\""
   ]
  },
  {
   "cell_type": "code",
   "execution_count": 22,
   "metadata": {},
   "outputs": [
    {
     "name": "stdout",
     "output_type": "stream",
     "text": [
      "커피값을 주세요2000\n"
     ]
    },
    {
     "data": {
      "text/plain": [
       "(2000, int)"
      ]
     },
     "execution_count": 22,
     "metadata": {},
     "output_type": "execute_result"
    }
   ],
   "source": [
    "# 1. 커피값을 입력받아서 ( 정수 값 수치로 잘 넣는다. )\n",
    "coffee_price =int(input('커피값을 주세요'))\n",
    "coffee_price, type(coffee_price)"
   ]
  },
  {
   "cell_type": "code",
   "execution_count": 26,
   "metadata": {},
   "outputs": [
    {
     "data": {
      "text/plain": [
       "True"
      ]
     },
     "execution_count": 26,
     "metadata": {},
     "output_type": "execute_result"
    }
   ],
   "source": [
    "coffee_price > 1500"
   ]
  },
  {
   "cell_type": "code",
   "execution_count": 21,
   "metadata": {},
   "outputs": [
    {
     "data": {
      "text/plain": [
       "(2000, int)"
      ]
     },
     "execution_count": 21,
     "metadata": {},
     "output_type": "execute_result"
    }
   ],
   "source": [
    "int(coffee_price), type(int(coffee_price))"
   ]
  },
  {
   "cell_type": "code",
   "execution_count": 28,
   "metadata": {
    "scrolled": true
   },
   "outputs": [],
   "source": [
    "# 2. 1500원이상이면 \n",
    "# : => 코드 블럭이 진행 \n",
    "#      코드 블럭 => \n",
    "#      그 조건이 만족 된대만 수행하는 코드 \n",
    "\n",
    "if coffee_price >= 1500 : \n",
    "    pass\n",
    " # 아무것도 안할때 pass ( 뼈대 잡을때 pass 사용 )"
   ]
  },
  {
   "cell_type": "code",
   "execution_count": 32,
   "metadata": {},
   "outputs": [
    {
     "name": "stdout",
     "output_type": "stream",
     "text": [
      "잔돈은 500원 입니다.\n"
     ]
    }
   ],
   "source": [
    "if coffee_price >= 1500 :\n",
    "    #k = coffee_price - 1500\n",
    "    print('잔돈은 %d원 입니다.'% (coffee_price-1500))\n",
    "    #pass"
   ]
  },
  {
   "cell_type": "code",
   "execution_count": 33,
   "metadata": {},
   "outputs": [
    {
     "name": "stdout",
     "output_type": "stream",
     "text": [
      "잔돈은 500원 입니다.\n"
     ]
    }
   ],
   "source": [
    "# 3. 거스럼돈을 줘라\n",
    "if coffee_price >= 1500 :\n",
    "    tmp = '잔돈은 %d원 입니다.'% (coffee_price - 1500)\n",
    "    print(tmp)\n",
    "    #pass"
   ]
  },
  {
   "cell_type": "markdown",
   "metadata": {},
   "source": [
    "### 통합 코드 "
   ]
  },
  {
   "cell_type": "code",
   "execution_count": 34,
   "metadata": {},
   "outputs": [
    {
     "name": "stdout",
     "output_type": "stream",
     "text": [
      "커피값을 주세요20000\n",
      "잔돈은 18500원 입니다.\n"
     ]
    }
   ],
   "source": [
    "coffee_price =int(input('커피값을 주세요'))\n",
    "if coffee_price >= 1500 :\n",
    "    tmp = '잔돈은 %d원 입니다.'% (coffee_price - 1500)\n",
    "    print(tmp)\n",
    "    pass"
   ]
  },
  {
   "cell_type": "code",
   "execution_count": null,
   "metadata": {
    "scrolled": true
   },
   "outputs": [],
   "source": [
    "Runnig = True\n",
    "while Runnig: \n",
    "    coffee_price =int(input('커피값을 주세요'))\n",
    "    if coffee_price >= 1500 :\n",
    "        tmp = '잔돈은 %d원 입니다.'% (coffee_price - 1500)\n",
    "        print(tmp)\n",
    "        pass\n",
    "    break"
   ]
  },
  {
   "cell_type": "code",
   "execution_count": null,
   "metadata": {},
   "outputs": [],
   "source": [
    "for i in range(10):\n",
    "    i= i+1\n",
    "    coffee_price =int(input('커피값을 주세요'))\n",
    "    if coffee_price >= 1500 :\n",
    "        tmp = '잔돈은 %d원 입니다.'% (coffee_price - 1500)\n",
    "        print(tmp)\n",
    "    else \n",
    "        print('감사합니다.')\n",
    "        print(tmp)\n",
    "        pass\n"
   ]
  },
  {
   "cell_type": "code",
   "execution_count": 2,
   "metadata": {},
   "outputs": [
    {
     "name": "stdout",
     "output_type": "stream",
     "text": [
      "아메리카노는 1500원 입니다.1500\n",
      "감사합니다.\n"
     ]
    }
   ],
   "source": [
    "coffee_price = int(input('아메리카노는 1500원 입니다.'))\n",
    "\n",
    "if coffee_price > 1500 :\n",
    "    tmp = '잔돈은 %d원 입니다.'% (coffee_price - 1500)\n",
    "    print(tmp)\n",
    "\n",
    "elif coffee_price < 1500: \n",
    "    tmp = '금액이 부족합니다. %d원 더 주세요.'% (1500 - coffee_price)\n",
    "    print(tmp)\n",
    "\n",
    "else :\n",
    "    print('감사합니다.')\n",
    "    pass"
   ]
  },
  {
   "cell_type": "code",
   "execution_count": null,
   "metadata": {},
   "outputs": [],
   "source": [
    "coffee_price =int(input('1500원 입니다.'))\n",
    "if coffee_price > 1500 :\n",
    "    tmp = '잔돈은 %d원 입니다.'% (coffee_price - 1500)\n",
    "    print(tmp)\n",
    "\n",
    "elif coffee_price < 1500: \n",
    "    tmp = '잔액이 부족합니다. %d원 더주세요.'% (1500 - coffee_price)\n",
    "    print(tmp)\n",
    "\n",
    "else :\n",
    "    print('감사합니다.')\n",
    "    pass"
   ]
  },
  {
   "cell_type": "code",
   "execution_count": null,
   "metadata": {},
   "outputs": [],
   "source": [
    "coffee_price =int(input('커피값을 주세요'))\n",
    "if coffee_price >= 1500 :\n",
    "    tmp = '잔돈은 %d원 입니다.'% (coffee_price - 1500)\n",
    "    print(tmp)\n",
    "    pass"
   ]
  },
  {
   "cell_type": "code",
   "execution_count": null,
   "metadata": {},
   "outputs": [],
   "source": [
    "'''\n",
    "# 들여쓰기 : 코드블럭\n",
    "# 코드블럭내에 존재하는 코드=> 수행문 => statements\n",
    "\n",
    "if 조건식:\n",
    "    statements\n",
    "elif 조건식:\n",
    "    statements\n",
    "else:\n",
    "    statements\n",
    "'''"
   ]
  }
 ],
 "metadata": {
  "kernelspec": {
   "display_name": "Python 3",
   "language": "python",
   "name": "python3"
  },
  "language_info": {
   "codemirror_mode": {
    "name": "ipython",
    "version": 3
   },
   "file_extension": ".py",
   "mimetype": "text/x-python",
   "name": "python",
   "nbconvert_exporter": "python",
   "pygments_lexer": "ipython3",
   "version": "3.6.5"
  }
 },
 "nbformat": 4,
 "nbformat_minor": 2
}
