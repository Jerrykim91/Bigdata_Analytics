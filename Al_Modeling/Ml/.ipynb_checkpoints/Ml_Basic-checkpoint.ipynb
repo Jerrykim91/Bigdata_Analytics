{
 "cells": [
  {
   "cell_type": "markdown",
   "metadata": {
    "colab_type": "text",
    "id": "vkLRfRZHTUtx"
   },
   "source": [
    "# 기본 개념"
   ]
  },
  {
   "cell_type": "markdown",
   "metadata": {
    "colab_type": "text",
    "id": "n2-ufNrlgvhO"
   },
   "source": [
    "---"
   ]
  },
  {
   "cell_type": "markdown",
   "metadata": {
    "colab_type": "text",
    "id": "O7ejj7ZeMCcS"
   },
   "source": [
    "##  1. 연구목표설정 "
   ]
  },
  {
   "cell_type": "markdown",
   "metadata": {
    "colab_type": "text",
    "id": "UKwqUwTCZ2ki"
   },
   "source": [
    "- 프로젝트의 주제      \n",
    "   +  **6단계 시스템 통합을 대비해서 1단계를 설정**    \n",
    "- **목표, 결론이 명확**      \n",
    "\n",
    "   +  목표, 결론\n",
    "      - 넷플릿스\n",
    "          - 추천 시스템의 정확도를 기존대비 3% 증가시켜라\n",
    "      - 사용자가 텍스트를 넣으면 해당 텍스트의 언어를 감지해 내라 \n",
    "      - 신규 서비스인가?\n",
    "      - 사내 프로그램용, 그룹웨어의 어떤 메뉴인가?\n",
    "      - 의사결정을 위한 레포트인가?       \n",
    "      \n",
    "\n",
    "- 주제가 새로운 주장에 근거한것이라면       \n",
    "    => 관련 논문을 체크  \n",
    "    - **논문 검색 주소 제공해주기**\n",
    "    \n",
    "--- \n",
    "\n",
    " **데이터 분석의 목적 => 데이터에 대한 통찰을 얻는것**"
   ]
  },
  {
   "cell_type": "markdown",
   "metadata": {
    "colab_type": "text",
    "id": "uFenlw8ygtw5"
   },
   "source": [
    "---"
   ]
  },
  {
   "cell_type": "markdown",
   "metadata": {
    "colab_type": "text",
    "id": "Kj8jZY9fMH8y"
   },
   "source": [
    "## 2. 데이터 수집/확보\n",
    "- 파이널 때 : 데이터 확보 전략이 필요\n",
    "\n",
    "\n",
    "### 전략\n",
    "- 1.제공받는 것\n",
    "    - 공공데이터, 대학/연구기관 데이터, 챌린지 데이터(kaggle), 민원\n",
    "    - 정형적 데이터유형으로 제공(이미 구조가 갖춰져 있음)\n",
    "    \n",
    "  #### **공개는 되어 있는데(웹) 직접 해결 부분**\n",
    "    - 반정형, 비정형적으로 데이터가 제공\n",
    "        - 방법\n",
    "          - 2.open API를 이용하여 수집  \n",
    "              - naver, kakao, google,..\n",
    "              - 쿼터제한\n",
    "          - 3.Web Scraping을 이용하여 수집 \n",
    "              - requests, BS4 \n",
    "          - 4.Crawling으로 수집 \n",
    "              - selenium + Web driver"
   ]
  },
  {
   "cell_type": "markdown",
   "metadata": {
    "colab_type": "text",
    "id": "Zx3pKpgvgyHf"
   },
   "source": [
    "---"
   ]
  },
  {
   "cell_type": "markdown",
   "metadata": {},
   "source": [
    "## 3. 데이터 준비\n",
    "- 전처리, 정제, 적제, 등등...\n",
    "- 데이터의 품질을 향상\n",
    "\n",
    "---\n",
    "\n",
    "### 성분 종류\n",
    "#### 수치\n",
    "- 정수 \n",
    "  - 0 or 1 : 이진 데이터, 바이너리, 원-핫인코딩방식\n",
    "  - ... -1 0 1 ...\n",
    "- 부동소수\n",
    "  - ... -1.1xxx 0 1.1xxx ...\n",
    "- 문자열(텍스트)\n",
    "    - 형태소분석기(konlpy > Mecab) > 분절 > 형태소\n",
    "    - 형태소가 나온다 => 사전을 생성      \n",
    "        => 사전에는 인덱스가 존재 => 형태소를 인덱스로 치환            \n",
    "        => 0,1로 인코딩(원-핫인코딩),범주형\n",
    "---\n",
    "\n",
    "### **모든 데이터는 결론적으로 수치화해야함**\n",
    " - 머신러닝/딥러닝을 위해서"
   ]
  },
  {
   "cell_type": "markdown",
   "metadata": {},
   "source": [
    "---"
   ]
  },
  {
   "cell_type": "markdown",
   "metadata": {
    "colab_type": "text",
    "id": "yeUib8JoMNYB"
   },
   "source": [
    "## 4. 데이터 분석 => 핵심은 통찰!!!!!"
   ]
  },
  {
   "cell_type": "markdown",
   "metadata": {},
   "source": [
    "### 분석\n",
    "  - Descriptive Analysis (설명/서술 분석)\n",
    "  - Exploratory Analysis (탐색적 분석)\n",
    "  - Inferential Analysis (추론/통계적 분석)\n",
    "  - Predictive Analysis  (예측 분석)\n",
    "  - Causal Analysis      (인과/통계적 분석)\n",
    "  - Mechanistic Analysis (기계적 분석)"
   ]
  },
  {
   "cell_type": "markdown",
   "metadata": {},
   "source": [
    "---"
   ]
  },
  {
   "cell_type": "markdown",
   "metadata": {},
   "source": [
    "### Descriptive Analysis (설명/서술 분석)\n",
    "\n",
    "- 기초 분석\n",
    "- 기본 통계량 분석\n",
    "- 요약과 집계를 수행, 데이터의 성질, 특성, 유형등을 확인\n",
    "- 시각화\n",
    "  - Pie, Bar, Box\n",
    "- 데이터의 shape, dim, head, tail, describ, info, ...  "
   ]
  },
  {
   "cell_type": "markdown",
   "metadata": {},
   "source": [
    "---"
   ]
  },
  {
   "cell_type": "markdown",
   "metadata": {},
   "source": [
    "### Exploratory Analysis (탐색적 분석)\n",
    "\n",
    "- [EDA](https://eda-ai-lab.tistory.com/13)\n",
    "- 중간에 재미있는 요소가 발견되어도, 본 목적에 부합하게 진행       \n",
    "    => 삼천포로 빠지지 말라\n",
    "- 시각화 처리(data visualization)\n",
    "  - matplotlib, seaborn, folium, 써드파트 lib"
   ]
  },
  {
   "cell_type": "markdown",
   "metadata": {},
   "source": [
    "---"
   ]
  },
  {
   "cell_type": "markdown",
   "metadata": {},
   "source": [
    "### Inferential Analysis (추론/통계적 분석)\n",
    "\n",
    "- 모집단-표본(샘플)간의 관계를 탐구\n",
    "- 표본을 모집합에 적용시키는 방법에 대해 분석\n",
    "- 95% 확률로 모집단의 평균 점수는 XX~xx 사이, 표준편차 ~, +- "
   ]
  },
  {
   "cell_type": "markdown",
   "metadata": {},
   "source": [
    "---"
   ]
  },
  {
   "cell_type": "markdown",
   "metadata": {},
   "source": [
    "### Predictive Analysis (예측 분석)\n",
    "\n",
    "- 머신러닝, 결정트리(알고리즘등) + 통계적 기법들을 사용\n",
    "- 미래, 발생하지 않는 사건에 대해 예측을 진행\n",
    "- 이유보다는 정확한 예측이 더 중요!!\n",
    "    - 예)     \n",
    "      다이어트 성공율을 높이기 위한 다양한 변수들이 존재, 이런 변수들간의 관계성보다는, 어떤 변수들을 활용해서 성공율을 높일수 있는지, 예측력을 높이쪽으로 더 집중되어 있다\n",
    "      -> 다이어트를 성공시키기 위해서 XXX를 해야한다 => 솔루션 제공!! 더 중요\n",
    "      (Prescrptive Analysis)"
   ]
  },
  {
   "cell_type": "markdown",
   "metadata": {},
   "source": [
    "---"
   ]
  },
  {
   "cell_type": "markdown",
   "metadata": {},
   "source": [
    "### Causal Analysis (인과/통계적 분석)\n",
    "\n",
    "- 독립-종속 변수가의 인과관계를 밝힘\n",
    "- A/B test\n",
    "- 회귀\n",
    "  - 변수가 2개간의 상관성을 분석\n",
    "    - 선형 회귀\n",
    "  - 변수가 여러개의 상관성을 분석\n",
    "    - multi variable 회귀\n",
    "  - 변수가 범주형이면\n",
    "    - Logistics 회귀"
   ]
  },
  {
   "cell_type": "markdown",
   "metadata": {},
   "source": [
    "---"
   ]
  },
  {
   "cell_type": "markdown",
   "metadata": {},
   "source": [
    "### Mechanistic Analysis (기계적 분석)\n",
    "- 독립변수가 종속변수에게 어떤 매커니즘으로 영향을 미치는가?\n",
    "- 독립변수와 종속변수간의 인과관계 + 어떤 독립변수가 어떤 작용을 하영 영향을 미치는지까지 전개\n",
    "\n",
    "---\n",
    "\n",
    "#### 머신러닝 (기계적 학습)\n",
    "  - 지도 학습 : 답이 존재\n",
    "    - 분류 : Classfication(클래시피게케이션)\n",
    "    - 회귀 : Regression(레그레션)\n",
    "  - 비지도 학습 : 답이 없다\n",
    "    - 군집화   : Clustering(클러스터링)\n",
    "    - 전처리기 : Preprocessing(프리프로세싱)\n",
    "  - [준지도 학습(지도+비지도)](https://jayhey.github.io/semi-supervised%20learning/2017/12/04/semisupervised_overview/)\n",
    "    - 데이터가 일부는 label이 존재하고, 대부분은 label이 없음\n",
    "  - [강화 학습(Reinforcement learning)](https://ko.wikipedia.org/wiki/%EA%B0%95%ED%99%94_%ED%95%99%EC%8A%B5)\n",
    "    - 현재의 상태(State)에서 어떤 행동(Action)을 취하는 것이 최적인지를 학습하는 것\n",
    "    - agent(에이전트) 존재, 잘한 행동에게는 reward(보상)를 제공하며\n",
    "    - 잘못한 행동에게는 패널티를 제공하여 보상쪽으로 행동을 강화시키는 학습법\n",
    "        - 예) 알파고>알파제로...\n",
    "        - 딥러닝 \n",
    "    \n",
    "---\n",
    "\n",
    "#### 딥러닝 (Deep learning)\n",
    "  - 인공 신경망을 통하여 학습을 진행하고, 이에 따른, 분류, 행동을 취하거나, 창조하거나 등등 행위를 진행\n",
    "  - 가장 현재로써는 AI를 설명할때 가장 적합\n",
    "  - 범위 : AI > ML > DL"
   ]
  },
  {
   "cell_type": "markdown",
   "metadata": {
    "colab_type": "text",
    "id": "57dZnPHxgajg"
   },
   "source": [
    "---"
   ]
  },
  {
   "cell_type": "markdown",
   "metadata": {
    "colab_type": "text",
    "id": "uagiSFkTMQKC"
   },
   "source": [
    "## 5.데이터 모델링 구축\n",
    "\n",
    "- 머신러닝기준\n",
    "  - 알고리즘 선택 (선택 시트) =>  선정이유가 명확해야한다.\n",
    "  ![알고리즘 선택_1](https://t1.daumcdn.net/cfile/tistory/220A03445573B76609?download)\n",
    "  ![알고리즘 선택_2](https://1.bp.blogspot.com/-ME24ePzpzIM/UQLWTwurfXI/AAAAAAAAANw/W3EETIroA80/s640/drop_shadows_background.png)\n",
    "  - 데이터를 학습(훈련)용과 테스트용으로 나눔\n",
    "    - 75:25 (황금비율), 통계(80:20)\n",
    "    - 75(50:25, 학습용:검증용) <- 폴드 : fold\n",
    "  - 학습 ->  fit(), xxxfit()\n",
    "  - 예측 -> 테스트용데이터를 이용\n",
    "  - 성능평가 \n",
    "    - 분류 : 혼동(오차)행렬 -> 정확도, 정밀도,   f1-score, AUR, ROC Curve\n",
    "    - 회귀 : 평균제곱근오차 -> 손실함수(대표),..\n",
    "  - 최적화\n",
    "    - 데이터량의 증가(학습량 증가)    \n",
    "    - 데이터의 품질?\n",
    "    - 하이퍼파라미터 튜닝(매개변수 튜닝)\n",
    "    - 파이프라인구축 (교차검증)\n",
    "      - 알고리즘 교체? 고민 (교차검증)\n",
    "    - 목표치에 도달할때까지 반복\n",
    "    - 시스템 통합에 적합한 구조로 덤프"
   ]
  },
  {
   "cell_type": "markdown",
   "metadata": {},
   "source": [
    "# 6.시스템 통합\n",
    "\n",
    "- 신규서비스\n",
    "  - 학습한 알고리즘 덤프 파일을 로드 \n",
    "  - 신규 데이터가 진입 => 학습 했던 데이터로 변환처리 => 예측, 생성, 등등..\n",
    "  - 로그 처리 -> 데이터를 모은다 -> 알고리즘의 성능을 개선 -> 온라인학습, 배치학습, 등등\n",
    "- 레포트\n",
    "  - 보고서 (통계쪽에서 많이 사용)\n",
    "    - 의사 결정에 재료로 제공\n",
    "- 기성 s/w에 추가\n",
    "  - GUI(*.msi, *.dmg, *.pkg, *.exe)\n",
    "    -  5, thinker,...\n",
    "  - Web(Django. flask)\n",
    "  - process(os단 백그라운드처리)\n",
    "  - mobile(android, ios단에서 ML지원모듈활용, 모델을 제공-> tensorflowLite)"
   ]
  },
  {
   "cell_type": "markdown",
   "metadata": {
    "colab_type": "text",
    "id": "lCGTHeZQg43-"
   },
   "source": [
    "---"
   ]
  },
  {
   "cell_type": "markdown",
   "metadata": {
    "colab_type": "text",
    "id": "VsqDqeIkMSvi"
   },
   "source": [
    "## 6.시스템 통합\n",
    "\n",
    "- 신규서비스\n",
    "  - 학습한 알고리즘 덤프 파일을 로드 \n",
    "  - 신규 데이터가 진입 => 학습 했던 데이터로 변환처리 => 예측, 생성, 등등..\n",
    "  - 로그 처리 -> 데이터를 모은다 -> 알고리즘의 성능을 개선 -> 온라인학습, 배치학습, 등등\n",
    "- 레포트\n",
    "  - 보고서 (통계쪽에서 많이 사용)\n",
    "    - 의사 결정에 재료로 제공\n",
    "- 기성 s/w에 추가\n",
    "  - GUI(*.msi, *.dmg, *.pkg, *.exe)\n",
    "  - Web(Django. flask)\n",
    "  - process(os단 백그라운드처리)\n",
    "  - mobile(android, ios단에서 ML지원모듈활용, 모델을 제공-> tensorflowLite)"
   ]
  },
  {
   "cell_type": "markdown",
   "metadata": {
    "colab_type": "text",
    "id": "YHEch7eWg6Au"
   },
   "source": [
    "---"
   ]
  },
  {
   "cell_type": "markdown",
   "metadata": {},
   "source": [
    "## 변수\n",
    "- 독립변수(Independent variable)란 ? \n",
    "    - 어떤실험에서 실험자가 직접변경(의도적으로)하는 변수를 의미 \n",
    "    - 스스로 바꿀 수 있는 값\n",
    "- 종속변수(Dependent variable)란 ?\n",
    "    - 독립변수의 값이 변함에 따라 달라지는 수,량을 나타내는 변수 \n",
    "        \n",
    "- 독립변수, 상호간 영향을 미치지 않는다. feature(특성), \n",
    "- 종속변수, 독립변수에 의해서 결정, label, 정답, class"
   ]
  },
  {
   "cell_type": "markdown",
   "metadata": {},
   "source": [
    "---"
   ]
  }
 ],
 "metadata": {
  "colab": {
   "collapsed_sections": [],
   "name": "Colab_Basics",
   "provenance": []
  },
  "kernelspec": {
   "display_name": "Python 3",
   "language": "python",
   "name": "python3"
  },
  "language_info": {
   "codemirror_mode": {
    "name": "ipython",
    "version": 3
   },
   "file_extension": ".py",
   "mimetype": "text/x-python",
   "name": "python",
   "nbconvert_exporter": "python",
   "pygments_lexer": "ipython3",
   "version": "3.6.5"
  }
 },
 "nbformat": 4,
 "nbformat_minor": 1
}
