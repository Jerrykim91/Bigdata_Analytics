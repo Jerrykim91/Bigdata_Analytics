{
 "cells": [
  {
   "cell_type": "markdown",
   "metadata": {},
   "source": [
    "# 머신러닝을 이용한 번역서비스의 언어감지"
   ]
  },
  {
   "cell_type": "markdown",
   "metadata": {},
   "source": [
    "\n",
    "## 1.연구목표 설정\n",
    "\n",
    "- 유사서비스 : 카카오번역, 파파고, 구글번역..\n",
    "- 언어 감지 하는 방법은 지도학습법을 사용하겟다\n",
    "  - 알파벳 (26:피쳐)의 빈도 -> en, fr, id, t..\n",
    "  - 독립변수의 빈도를 보고 레이블(정답,종속변수)를 판단하게 되는 형태 -> 분류(지도학습)\n",
    "  - 비영어권 제외, 알파벳 사용 국가 분류 총데이터도 제공된 자료만으로 사용(4개국가)\n",
    "  - 알고리즘의 업데이트 시점은 로그를 축적하여 1만건 누적되면 추가 학습후 갱신하는 방식으로 진행"
   ]
  },
  {
   "cell_type": "markdown",
   "metadata": {},
   "source": [
    "|step|단계명|수행내용|\n",
    "|:--:|--:|:--|\n",
    "|1|연구목표 설정|- 언어를 감지하는 웹서비스이다<br>- 머신러닝의 지도학습법의 분류 알고리즘을 이용하여 분류기를 구현하겠다<br>- 최적화 부분은 생략<br>- 정확도에 대한 정량적인 목표는 생략|\n",
    "|2|데이터 수집/확보|- 실전:위키피디아에서 텍스트를 웹스크래핑으로 수집하여 데이터를 확보<br>- 프로토타입구현:제공 데이터를 사용하겠다|\n",
    "|3|데이터 준비|- 전처리(데이터 원재료에서 아파벳을 빼고 모두 제거->정규식)<br>- 빈도 계산, 정규화<br>- 훈련용데이터와 학습용데이터를 75:25로 나눈다 |\n",
    "|4|데이터 분석|- 영어권 언어별로 알파벳의 출현(사용) 빈도가 다르다는 명제(논문,주장)을 근거를 증명<br>- 탐색적분석,  EDA를 이용하여 표현(막대차트, 선형차트)|\n",
    "|5|데이터 모델링 구축|- 알고리즘 선택<br>- 학습<br>- 예측<br>-성능평가<br>-모델덤프|\n",
    "|6|시스템 통합|-웹서비스구축<br>-모델덤프로드모듈구현<br>-언어감지를 처리하는 모듈 구현<br>-번역 요청 로그처리|"
   ]
  },
  {
   "cell_type": "markdown",
   "metadata": {},
   "source": [
    "## 데이터 수집/확보\n",
    "- 실전:위키피디아에서 텍스트를 웹스크래핑으로 수집하여 데이터를 확보\n",
    "- 프로토타입구현:제공 데이터를 사용"
   ]
  },
  {
   "cell_type": "code",
   "execution_count": null,
   "metadata": {},
   "outputs": [],
   "source": [
    "# 위키피디아는 사이트를 들여다 보니 스크래핑 수준이면 처리가 가능\n",
    "'''\n",
    "https://ko.wikipedia.org/wiki/방탄소년단\n",
    "https://en.wikipedia.org/wiki/BTS_(band)\n",
    "https://fr.wikipedia.org/wiki/BTS_(groupe)\n",
    "\n",
    "위키피디아에서 최초 url의 국가코드를 조정하면 국가별로 진입이 가능 \n",
    "단, 검색어가 영어권에서 범용적인 부분을 사용하거나 아니면 국가별로 리스트업이 필요\n",
    "\n",
    "'''"
   ]
  },
  {
   "cell_type": "code",
   "execution_count": 9,
   "metadata": {
    "scrolled": true
   },
   "outputs": [
    {
     "data": {
      "text/plain": [
       "'https://en.wikipedia.org/wiki/BTS_(band)'"
      ]
     },
     "execution_count": 9,
     "metadata": {},
     "output_type": "execute_result"
    }
   ],
   "source": [
    "# 1. 국가코드만 변경 \n",
    "# 'https://'국가코드'.wikipedia.org/wiki/'내용'\n",
    "\n",
    "# URL의 고민은 전제하고 , 하나의 사이트에서 처리루틴을 정의 \n",
    "# 미국 위키를 전제로 작업 \n",
    "\n",
    "target_url = 'https://en.wikipedia.org/wiki/BTS_(band)'\n",
    "target_url"
   ]
  },
  {
   "cell_type": "code",
   "execution_count": 10,
   "metadata": {},
   "outputs": [],
   "source": [
    "# https://www.crummy.com/software/BeautifulSoup/bs4/doc/\n",
    "# 고용량 파서는 매우 느리다 \n",
    "# xml : 반정형 "
   ]
  },
  {
   "cell_type": "code",
   "execution_count": 11,
   "metadata": {},
   "outputs": [],
   "source": [
    "# 웹 스크래핑 관련 모듈 가져오기\n",
    "# 통신담당 : reguest\n",
    "# 파싱담당 : BS4, html5lib parser 사용\n",
    "# (파서 선정이유 속도가 중요한게 아니라, 정확한 처리가 중요)\n",
    "import urllib.request as rq\n",
    "from bs4 import BeautifulSoup\n",
    "\n",
    "\n",
    "# 요청 \n",
    "res = rq.urlopen( target_url)\n",
    "# 파싱 \n",
    "soup = BeautifulSoup(res,'html5lib') "
   ]
  },
  {
   "cell_type": "code",
   "execution_count": 13,
   "metadata": {},
   "outputs": [],
   "source": [
    "# DOM Tree가 생성\n",
    "# type(soup), soup"
   ]
  },
  {
   "cell_type": "code",
   "execution_count": null,
   "metadata": {},
   "outputs": [],
   "source": [
    "# > 직계\n",
    "# p 쓰면 후손 \n",
    "# ctrl + F5 => 코드를 검색가능 "
   ]
  },
  {
   "cell_type": "code",
   "execution_count": 34,
   "metadata": {},
   "outputs": [
    {
     "data": {
      "text/plain": [
       "(79, list)"
      ]
     },
     "execution_count": 34,
     "metadata": {},
     "output_type": "execute_result"
    }
   ],
   "source": [
    "# 대상 태그들을 모은다 \n",
    "ps = soup.select('#mw-content-text p')\n",
    "len(ps),type(ps)\n",
    "# ps => 리스트 => 포문(뜯어서) => 담아 => \n",
    "# 결론을 텍스트를 모은다 여러개를 리스트에 \n",
    "# 리스트 내포 "
   ]
  },
  {
   "cell_type": "code",
   "execution_count": 23,
   "metadata": {
    "scrolled": true
   },
   "outputs": [
    {
     "data": {
      "text/plain": [
       "[<p class=\"mw-empty-elt\">\n",
       " \n",
       " </p>, <p class=\"mw-empty-elt\">\n",
       " </p>, <p><b>BTS</b> (<a href=\"/wiki/Korean_language\" title=\"Korean language\">Korean</a>: <span lang=\"ko-Hang\" title=\"Korean language text\">방탄소년단</span>; <a href=\"/wiki/Revised_Romanization_of_Korean\" title=\"Revised Romanization of Korean\">RR</a>: <i><i lang=\"ko-Latn\" title=\"Korean-language romanization\">Bangtan Sonyeondan</i></i>), also known as the <b>Bangtan Boys</b>, is a seven-member South Korean <a href=\"/wiki/Boy_band\" title=\"Boy band\">boy band</a> that began its formation in <a href=\"/wiki/Seoul\" title=\"Seoul\">Seoul</a> in 2010.<sup class=\"reference\" id=\"cite_ref-3\"><a href=\"#cite_note-3\">[3]</a></sup> The septet co-writes and produces much of their output. Originally a <a href=\"/wiki/Hip_hop_music\" title=\"Hip hop music\">hip hop</a> group, their musical style has evolved to include a wide range of genres. Their lyrics, often focused on personal and social commentary, touch on the themes of mental health, troubles of school-age youth, loss, the journey towards loving oneself, and individualism. Their work features references to literature and psychological concepts and includes an <a href=\"/wiki/Parallel_universes_in_fiction\" title=\"Parallel universes in fiction\">alternative universe</a> storyline. The group have staged several world tours.\n",
       " </p>, <p>The group initially formed as teenagers under <a href=\"/wiki/Big_Hit_Entertainment\" title=\"Big Hit Entertainment\">Big Hit Entertainment</a> and released their debut single album, <i><a href=\"/wiki/2_Cool_4_Skool\" title=\"2 Cool 4 Skool\">2 Cool 4 Skool</a></i> (2013). Subsequent work such as their first U.S. <a href=\"/wiki/Billboard_200\" title=\"Billboard 200\"><i>Billboard</i> 200</a> entries <i><a class=\"mw-redirect\" href=\"/wiki/The_Most_Beautiful_Moment_in_Life,_Part_2\" title=\"The Most Beautiful Moment in Life, Part 2\">The Most Beautiful Moment in Life, Part 2</a></i> (2015), <i><a href=\"/wiki/The_Most_Beautiful_Moment_in_Life:_Young_Forever\" title=\"The Most Beautiful Moment in Life: Young Forever\">The Most Beautiful Moment in Life: Young Forever</a></i> (2016), and <i><a href=\"/wiki/Wings_(BTS_album)\" title=\"Wings (BTS album)\">Wings</a></i> (2016) helped establish BTS' reputation as a socially conscious group. <i>Wings</i> became BTS' first album to sell one million copies in South Korea. By 2017, BTS crossed into the international music market, leading the <a href=\"/wiki/Korean_Wave\" title=\"Korean Wave\">Korean Wave</a> into the United States and breaking numerous sales records, becoming the first Korean group to receive a certification from the <a href=\"/wiki/Recording_Industry_Association_of_America\" title=\"Recording Industry Association of America\">Recording Industry Association of America</a> (RIAA) for their single \"<a href=\"/wiki/Mic_Drop_(song)\" title=\"Mic Drop (song)\">Mic Drop</a>\". The band is the first Korean act to top the <i>Billboard</i> 200 with their studio album <i><a href=\"/wiki/Love_Yourself:_Tear\" title=\"Love Yourself: Tear\">Love Yourself: Tear</a></i> (2018) and have since hit the top of the U.S. charts with their albums <i><a href=\"/wiki/Love_Yourself:_Answer\" title=\"Love Yourself: Answer\">Love Yourself: Answer</a></i> (2018) and <i><a href=\"/wiki/Map_of_the_Soul:_Persona\" title=\"Map of the Soul: Persona\">Map of the Soul: Persona</a></i> (2019), making BTS the first group since <a href=\"/wiki/The_Beatles\" title=\"The Beatles\">the Beatles</a> to earn three number one albums in less than a year. <i>Love Yourself: Answer</i> also broke South Korea's <a href=\"/wiki/Gaon_Album_Chart\" title=\"Gaon Album Chart\">Gaon Album Chart</a>'s all-time monthly record previously set by <i>Love Yourself: Tear</i> and became the first Korean album certified Platinum in the United States.\n",
       " </p>, <p>According to the <a href=\"/wiki/Gaon_Music_Chart\" title=\"Gaon Music Chart\">Gaon Music Chart</a>, BTS has sold sixteen million albums domestically in physical sales and is the best-selling artist to debut in the 2010s.<sup class=\"reference\" id=\"cite_ref-4\"><a href=\"#cite_note-4\">[4]</a></sup> They hold the <a href=\"/wiki/List_of_best-selling_albums_in_South_Korea\" title=\"List of best-selling albums in South Korea\">best-selling album in Korean history</a> with <i>Map of the Soul: Persona</i>. BTS were the second best-selling artists of 2018 worldwide according to the <a class=\"mw-redirect\" href=\"/wiki/IFPI\" title=\"IFPI\">IFPI</a>'s Global Artist Chart, as well as the only non-English speaking artist to enter the chart. The group has won <a href=\"/wiki/Billboard_Music_Award_for_Top_Social_Artist\" title=\"Billboard Music Award for Top Social Artist\">Top Social Artist</a> three years in a row and <a href=\"/wiki/Billboard_Music_Award_for_Top_Duo/Group\" title=\"Billboard Music Award for Top Duo/Group\">Top Duo/Group</a> at the <a href=\"/wiki/2019_Billboard_Music_Awards\" title=\"2019 Billboard Music Awards\">26th <i>Billboard</i> Music Awards</a>. Featured on <a href=\"/wiki/Time_(magazine)\" title=\"Time (magazine)\"><i>Time</i></a>'s international cover as \"Next Generation Leaders\", BTS has appeared in the magazine's 25 most influential people on the internet (2017–2019) and <i>Time</i>'s <a href=\"/wiki/Time_100\" title=\"Time 100\">100 most influential people in the world</a> (2019), with the outlet giving them the nickname \"<a href=\"/wiki/Honorific_nicknames_in_popular_music\" title=\"Honorific nicknames in popular music\">Princes of Pop</a>\". <i><a href=\"/wiki/Forbes_Korea_Power_Celebrity\" title=\"Forbes Korea Power Celebrity\">Forbes Korea</a></i> named BTS the most influential celebrities of Korea in 2018, and BTS ranked 43rd in the <a href=\"/wiki/Forbes_Celebrity_100\" title=\"Forbes Celebrity 100\"><i>Forbes</i> Celebrity 100</a> (2019) as one of the world's top-earning celebrities. BTS are ranked #4 of <a href=\"/wiki/Billboard_(magazine)\" title=\"Billboard (magazine)\"><i>Billboard</i></a>'s Top Social Artist of the 2010s, and are the highest group on the list. During their <a href=\"/wiki/Love_Yourself_World_Tour\" title=\"Love Yourself World Tour\">Love Yourself World Tour</a>, BTS became the first Asian and first non-English speaking act to headline and sell out <a href=\"/wiki/Wembley_Stadium\" title=\"Wembley Stadium\">Wembley Stadium</a>; and broke the record for the single highest-grossing engagement in <a href=\"/wiki/Rose_Bowl_(stadium)\" title=\"Rose Bowl (stadium)\">Rose Bowl Stadium</a> history. <i>Billboard</i> ranked BTS at #45 on their Top Touring Artists of the 2010s list, being the highest-ranked Asian as well as the only non-English speaking act on the list. As of 2019, BTS are purportedly worth more than $4.65 billion to South Korea's economy each year, or 0.3 percent of the country's GDP. BTS attracted one in every 13 foreign tourists that visited South Korea and were cited as one of the key acts boosting global music sales to $19 billion in 2018.\n",
       " </p>, <p>Following the establishment of their <a href=\"/wiki/Love_Myself_(campaign)\" title=\"Love Myself (campaign)\">Love Myself</a> anti-violence campaign in partnership with <a href=\"/wiki/UNICEF\" title=\"UNICEF\">UNICEF</a>, BTS addressed the <a href=\"/wiki/United_Nations\" title=\"United Nations\">United Nations</a> 73rd <a href=\"/wiki/United_Nations_General_Assembly\" title=\"United Nations General Assembly\">General Assembly</a> and became the youngest ever recipients of the <a class=\"mw-redirect\" href=\"/wiki/Order_of_Cultural_Merit_(Korea)\" title=\"Order of Cultural Merit (Korea)\">Order of Cultural Merit</a> from the <a href=\"/wiki/President_of_South_Korea\" title=\"President of South Korea\">President of South Korea</a> due to their contributions in spreading Korean culture and language.\n",
       " </p>, <p>The group's name, BTS, stands for the Korean expression <i>Bangtan Sonyeondan</i> (<a href=\"/wiki/Korean_language\" title=\"Korean language\">Korean</a>: <span lang=\"ko-Hang\" title=\"Korean language text\">방탄소년단</span>; <a href=\"/wiki/Hanja\" title=\"Hanja\">Hanja</a>: <span lang=\"ko-Hani\" title=\"Korean language text\"><a class=\"extiw\" href=\"https://en.wiktionary.org/wiki/%E9%98%B2%E5%BD%88\" title=\"wikt:防彈\">防彈</a><a class=\"extiw\" href=\"https://en.wiktionary.org/wiki/%E5%B0%91%E5%B9%B4\" title=\"wikt:少年\">少年</a><a class=\"extiw\" href=\"https://en.wiktionary.org/wiki/%E5%9C%98\" title=\"wikt:團\">團</a></span>), literally meaning \"Bulletproof Boy Scouts\". According to member <a href=\"/wiki/J-Hope\" title=\"J-Hope\">J-Hope</a>, the name signifies the group's desire \"to block out stereotypes, criticisms, and expectations that aim on adolescents like bullets\".<sup class=\"reference\" id=\"cite_ref-5\"><a href=\"#cite_note-5\">[5]</a></sup><sup class=\"reference\" id=\"cite_ref-6\"><a href=\"#cite_note-6\">[6]</a></sup> In Japan, they are known as Bōdan Shōnendan<span style=\"font-weight: normal\"> (<span lang=\"ja\" title=\"Japanese language text\">防弾少年団</span>)</span>, which translates similarly.<sup class=\"reference\" id=\"cite_ref-7\"><a href=\"#cite_note-7\">[7]</a></sup> In July 2017, BTS announced that their name would also stand for \"Beyond the Scene\" as part of their new brand identity.<sup class=\"reference\" id=\"cite_ref-newname_8-0\"><a href=\"#cite_note-newname-8\">[8]</a></sup> This extended their name to mean \"growing youth BTS who is going beyond the realities they are facing, and going forward.\"<sup class=\"reference\" id=\"cite_ref-:9_9-0\"><a href=\"#cite_note-:9-9\">[9]</a></sup>\n",
       " </p>, <p>BTS began its formation in 2010 after Big Hit Entertainment CEO <a href=\"/wiki/Bang_Si-hyuk\" title=\"Bang Si-hyuk\">Bang Si-hyuk</a> met with group leader <a href=\"/wiki/RM_(rapper)\" title=\"RM (rapper)\">RM</a> and was impressed with his rapping.<sup class=\"reference\" id=\"cite_ref-10\"><a href=\"#cite_note-10\">[10]</a></sup> BTS was originally supposed to be a <a class=\"mw-redirect\" href=\"/wiki/Hip-hop\" title=\"Hip-hop\">hip-hop</a> group similar to YG Entertainment's <a href=\"/wiki/1TYM\" title=\"1TYM\">1TYM</a>,<sup class=\"reference\" id=\"cite_ref-:0_11-0\"><a href=\"#cite_note-:0-11\">[11]</a></sup> but between their initial formation and their debut, Bang Si-hyuk decided that the contemporary youth needed instead \"a hero who can lend them a shoulder to lean on, even without speaking a single word\".<sup class=\"reference\" id=\"cite_ref-12\"><a href=\"#cite_note-12\">[12]</a></sup> The group was meant to debut in 2011 and featured on several tracks by artists such as <a href=\"/wiki/2AM_(band)\" title=\"2AM (band)\">2AM</a> and <a href=\"/wiki/Lee_Seung-gi\" title=\"Lee Seung-gi\">Lee Seung-gi</a> before their debut was postponed and the group was reorganized into a more traditional idol group.<sup class=\"reference\" id=\"cite_ref-13\"><a href=\"#cite_note-13\">[13]</a></sup> The lineup was then finalized with <a href=\"/wiki/Kim_Seok-jin\" title=\"Kim Seok-jin\">Jin</a>, <a href=\"/wiki/Suga_(rapper)\" title=\"Suga (rapper)\">Suga</a>, <a href=\"/wiki/J-Hope\" title=\"J-Hope\">J-Hope</a>, <a href=\"/wiki/RM_(rapper)\" title=\"RM (rapper)\">RM</a>, <a href=\"/wiki/Jimin_(singer,_born_1995)\" title=\"Jimin (singer, born 1995)\">Jimin</a>, <a href=\"/wiki/V_(singer)\" title=\"V (singer)\">V</a>, and <a class=\"mw-redirect\" href=\"/wiki/Jungkook_(singer)\" title=\"Jungkook (singer)\">Jungkook</a> in 2012. Six months prior to their debut, they began to gain attention for their presence on various social media websites, as well as song covers on <a href=\"/wiki/YouTube\" title=\"YouTube\">YouTube</a> and <a href=\"/wiki/SoundCloud\" title=\"SoundCloud\">SoundCloud</a>.<sup class=\"reference\" id=\"cite_ref-14\"><a href=\"#cite_note-14\">[14]</a></sup><sup class=\"reference\" id=\"cite_ref-15\"><a href=\"#cite_note-15\">[15]</a></sup>\n",
       " </p>, <p><cite class=\"left-aligned\" style=\"\"> —<a href=\"/wiki/Suga_(rapper)\" title=\"Suga (rapper)\">Suga</a><sup class=\"reference\" id=\"cite_ref-16\"><a href=\"#cite_note-16\">[16]</a></sup></cite>\n",
       " </p>, <p>On June 12, 2013, BTS released their debut <a href=\"/wiki/Single_(music)#In_South_Korea\" title=\"Single (music)\">single album</a> <i><a href=\"/wiki/2_Cool_4_Skool\" title=\"2 Cool 4 Skool\">2 Cool 4 Skool</a></i>, the first installment in their \"school trilogy\" series, simultaneously with its lead single \"No More Dream\", which peaked at number 124 in Korea before quickly falling off the charts.<sup class=\"reference\" id=\"cite_ref-17\"><a href=\"#cite_note-17\">[17]</a></sup><sup class=\"reference\" id=\"cite_ref-18\"><a href=\"#cite_note-18\">[18]</a></sup> While the album peaked at number five in South Korea and eventually sold over 145,000 copies,<sup class=\"reference\" id=\"cite_ref-19\"><a href=\"#cite_note-19\">[19]</a></sup> it was not a major hit, selling only 24,000 copies in 2013.<sup class=\"reference\" id=\"cite_ref-20\"><a href=\"#cite_note-20\">[20]</a></sup> Their subsequent single “We Are Bulletproof Pt. 2” failed to chart. In <i>2 Cool 4 Skool</i>, BTS employed an old-school hip-hop sound with scratches from the 1980s-90s and excessively fierce visuals.<sup class=\"reference\" id=\"cite_ref-BTSReview_21-0\"><a href=\"#cite_note-BTSReview-21\">[21]</a></sup> From their inception, BTS was convinced that telling their story was the only way for the younger generation to relate to their music.<sup class=\"reference\" id=\"cite_ref-:3_22-0\"><a href=\"#cite_note-:3-22\">[22]</a></sup> The lyrics of the album primarily reflected on the misunderstanding and prejudice towards them, criticism of the society that diminishes their dreams, and their anxiety and determination towards their future.<sup class=\"reference\" id=\"cite_ref-BTSReview_21-1\"><a href=\"#cite_note-BTSReview-21\">[21]</a></sup> During the production of the album, Suga and RM rewrote the lyrics of “No More Dream” more than 20 times.<sup class=\"reference\" id=\"cite_ref-:3_22-1\"><a href=\"#cite_note-:3-22\">[22]</a></sup> The single album's release was followed by several appearances on Korean music shows.<sup class=\"reference\" id=\"cite_ref-:4_23-0\"><a href=\"#cite_note-:4-23\">[23]</a></sup><sup class=\"reference\" id=\"cite_ref-24\"><a href=\"#cite_note-24\">[24]</a></sup> Despite being unpolished, these early live performances demonstrated BTS' potential with their intense and charismatic stage presence.<sup class=\"reference\" id=\"cite_ref-:4_23-1\"><a href=\"#cite_note-:4-23\">[23]</a></sup> Expanding their endeavors to Japan, \"No More Dream\" was later re-recorded in Japanese and released in June 2014.<sup class=\"reference\" id=\"cite_ref-Japan_Debut_25-0\"><a href=\"#cite_note-Japan_Debut-25\">[25]</a></sup>\n",
       " </p>]"
      ]
     },
     "execution_count": 23,
     "metadata": {},
     "output_type": "execute_result"
    }
   ],
   "source": [
    "# ps = soup.select('#mw-content-text p')\n",
    "tmp = []\n",
    "# 뽑아 내기 \n",
    "for p in ps :\n",
    "    # print(p) # 기본\n",
    "    print('[%s]'% p.text, p)    # 포멧팅 \n",
    "    tmp.append(p)\n",
    "    # break\n",
    "\n",
    "tmp[:10]"
   ]
  },
  {
   "cell_type": "code",
   "execution_count": 27,
   "metadata": {},
   "outputs": [
    {
     "data": {
      "text/plain": [
       "79"
      ]
     },
     "execution_count": 27,
     "metadata": {},
     "output_type": "execute_result"
    }
   ],
   "source": [
    "# 텍스트를 모은다. \n",
    "# ps = soup.select('#mw-content-text p')\n",
    "# tmp = [p for p in ps ][:10]\n",
    "# tmp = ['[%s]'% p.text, p for p in ps ]\n",
    "tmp = [ p.text.strip() for p in ps]\n",
    "# tmp[:10]\n",
    "len(tmp)"
   ]
  },
  {
   "cell_type": "code",
   "execution_count": 29,
   "metadata": {},
   "outputs": [
    {
     "data": {
      "text/plain": [
       "(['[]',\n",
       "  '[]',\n",
       "  '[BTS (Korean:\\xa0방탄소년단; RR:\\xa0Bangtan Sonyeondan), also known as the Bangtan Boys, is a seven-member South Korean boy band that began its formation in Seoul in 2010.[3] The septet co-writes and produces much of their output. Originally a hip hop group, their musical style has evolved to include a wide range of genres. Their lyrics, often focused on personal and social commentary, touch on the themes of mental health, troubles of school-age youth, loss, the journey towards loving oneself, and individualism. Their work features references to literature and psychological concepts and includes an alternative universe storyline. The group have staged several world tours.]'],\n",
       " ['[]', '[Japanese-language studio albums]', '[]'])"
      ]
     },
     "execution_count": 29,
     "metadata": {},
     "output_type": "execute_result"
    }
   ],
   "source": [
    "# ps에서 한개 뽑아서 텍스트를 출력해 보았다\n",
    "tmp = list()\n",
    "for p in ps:\n",
    "    tmp.append('[%s]' % p.text.strip() )\n",
    "  #break\n",
    "\n",
    "\n",
    "# 79개를 다 뽑아서 리스트에 담아라\n",
    "tmp[:3], tmp[-3:]"
   ]
  },
  {
   "cell_type": "code",
   "execution_count": 28,
   "metadata": {
    "scrolled": true
   },
   "outputs": [
    {
     "data": {
      "text/plain": [
       "(71210,\n",
       " '  BTS (Korean:\\xa0방탄소년단; RR:\\xa0Bangtan Sonyeondan), also known as the Bangtan Boys, is a seven-member South Korean boy band that began its formation in Seoul in 2010.[3] The septet co-writes and produces much of their output. Originally a hip hop group, their musical style has evolved to include a wide range of genres. Their lyrics, often focused on personal and social commentary, touch on the themes of mental health, troubles of school-age youth, loss, the journey towards loving oneself, and individualism. Their work features references to literature and psychological concepts and includes an alternative universe storyline. The group have staged several world tours. The group initially formed as teenagers under Big Hit Entertainment and released their debut single album, 2 Cool 4 Skool (2013). Subsequent work such as their first U.S. Billboard 200 entries The Most Beautiful Moment in Life, Part 2 (2015), The Most Beautiful Moment in Life: Young Forever (2016), and Wings (2016) helped establish BTS\\' reputation as a socially conscious group. Wings became BTS\\' first album to sell one million copies in South Korea. By 2017, BTS crossed into the international music market, leading the Korean Wave into the United States and breaking numerous sales records, becoming the first Korean group to receive a certification from the Recording Industry Association of America (RIAA) for their single \"Mic Drop\". The band is the first Korean act to top the Billboard 200 with their studio album Love Yourself: Tear (2018) and have since hit the top of the U.S. charts with their albums Love Yourself: Answer (2018) and Map of the Soul: Persona (2019), making BTS the first group since the Beatles to earn three number one albums in less than a year. Love Yourself: Answer also broke South Korea\\'s Gaon Album Chart\\'s all-time monthly record previously set by Love Yourself: Tear and became the first Korean album certified Platinum in the United States. According to the Gaon Music Chart, BTS has sold sixteen million albums domestically in physical sales and is the best-selling artist to debut in the 2010s.[4] They hold the best-selling album in Korean history with Map of the Soul: Persona. BTS were the second best-selling artists of 2018 worldwide according to the IFPI\\'s Global Artist Chart, as well as the only non-English speaking artist to enter the chart. The group has won Top Social Artist three years in a row and Top Duo/Group at the 26th Billboard Music Awards. Featured on Time\\'s international cover as \"Next Generation Leaders\", BTS has appeared in the magazine\\'s 25 most influential people on the internet (2017–2019) and Time\\'s 100 most influential people in the world (2019), with the outlet giving them the nickname \"Princes of Pop\". Forbes Korea named BTS the most influential celebrities of Korea in 2018, and BTS ranked 43rd in the Forbes Celebrity 100 (2019) as one of the world\\'s top-earning celebrities. BTS are ranked #4 of Billboard\\'s Top Social Artist of the 2010s, and are the highest group on the list. During their Love Yourself World Tour, BTS became the first Asian and first non-English speaking act to headline and sell out Wembley Stadium; and broke the record for the single highest-grossing engagement in Rose Bowl Stadium history. Billboard ranked BTS at #45 on their Top Touring Artists of the 2010s list, being the highest-ranked Asian as well as the only non-English speaking act on the list. As of 2019, BTS are purportedly worth more than $4.65 billion to South Korea\\'s economy each year, or 0.3 percent of the country\\'s GDP. BTS attracted one in every 13 foreign tourists that visited South Korea and were cited as one of the key acts boosting global music sales to $19 billion in 2018. Following the establishment of their Love Myself anti-violence campaign in partnership with UNICEF, BTS addressed the United Nations 73rd General Assembly and became the youngest ever recipients of the Order of Cultural Merit from the President of South Korea due to their contributions in spreading Korean culture and language. The group\\'s name, BTS, stands for the Korean expression Bangtan Sonyeondan (Korean:\\xa0방탄소년단; Hanja:\\xa0防彈少年團), literally meaning \"Bulletproof Boy Scouts\". According to member J-Hope, the name signifies the group\\'s desire \"to block out stereotypes, criticisms, and expectations that aim on adolescents like bullets\".[5][6] In Japan, they are known as Bōdan Shōnendan (防弾少年団), which translates similarly.[7] In July 2017, BTS announced that their name would also stand for \"Beyond the Scene\" as part of their new brand identity.[8] This extended their name to mean \"growing youth BTS who is going beyond the realities they are facing, and going forward.\"[9] BTS began its formation in 2010 after Big Hit Entertainment CEO Bang Si-hyuk met with group leader RM and was impressed with his rapping.[10] BTS was originally supposed to be a hip-hop group similar to YG Entertainment\\'s 1TYM,[11] but between their initial formation and their debut, Bang Si-hyuk decided that the contemporary youth needed instead \"a hero who can lend them a shoulder to lean on, even without speaking a single word\".[12] The group was meant to debut in 2011 and featured on several tracks by artists such as 2AM and Lee Seung-gi before their debut was postponed and the group was reorganized into a more traditional idol group.[13] The lineup was then finalized with Jin, Suga, J-Hope, RM, Jimin, V, and Jungkook in 2012. Six months prior to their debut, they began to gain attention for their presence on various social media websites, as well as song covers on YouTube and SoundCloud.[14][15] —Suga[16] On June 12, 2013, BTS released their debut single album 2 Cool 4 Skool, the first installment in their \"school trilogy\" series, simultaneously with its lead single \"No More Dream\", which peaked at number 124 in Korea before quickly falling off the charts.[17][18] While the album peaked at number five in South Korea and eventually sold over 145,000 copies,[19] it was not a major hit, selling only 24,000 copies in 2013.[20] Their subsequent single “We Are Bulletproof Pt. 2” failed to chart. In 2 Cool 4 Skool, BTS employed an old-school hip-hop sound with scratches from the 1980s-90s and excessively fierce visuals.[21] From their inception, BTS was convinced that telling their story was the only way for the younger generation to relate to their music.[22] The lyrics of the album primarily reflected on the misunderstanding and prejudice towards them, criticism of the society that diminishes their dreams, and their anxiety and determination towards their future.[21] During the production of the album, Suga and RM rewrote the lyrics of “No More Dream” more than 20 times.[22] The single album\\'s release was followed by several appearances on Korean music shows.[23][24] Despite being unpolished, these early live performances demonstrated BTS\\' potential with their intense and charismatic stage presence.[23] Expanding their endeavors to Japan, \"No More Dream\" was later re-recorded in Japanese and released in June 2014.[25] In September 2013, BTS released the second part to their \"school trilogy,” the extended play O!RUL8,2?, along with its single \"N.O,” which peaked at number 92 in Korea.[26] The EP peaked at number four in Korea and has sold over 160,000 copies to date, including 34,000 copies in its release year.[27] Musically, BTS did not fundamentally change their sound as compared with 2 Cool 4 Skool, utilizing fiery rapping along with trap beats, brass, and soulful melodies. Lyrically, the EP expanded on the theme of dreams and happiness, revealing their frustration under the harsh Korean education system and their determination to confront the struggle of proving themselves.[28] Despite several performances on Korean music shows, the single quickly fell off the charts.[29] That same month, BTS starred in their own variety show, SBS MTV\\'s Rookie King Channel Bangtan, based on a fake broadcast station, \"Channel Bangtan\", through which members parodied variety shows such as VJ Special Forces and MasterChef Korea.[30] At the end of the year, BTS was recognized with several New Artist of the Year awards, including the 5th Melon Music Awards, 28th Golden Disc Awards and the 23rd Seoul Music Awards.[31] The last act to their \"school trilogy\", the EP Skool Luv Affair,[32] was released in January 2014 and topped the Gaon Album Chart, selling 100,000 copies in 2014 and over 250,000 copies overall.[33] It also marked BTS’ first appearance on Billboard\\'s World Albums Chart, peaking at number three.[32][34] The album was supported by the singles \"Boy in Luv\" (Korean: 상남자; RR: Sang-namja) and \"Just One Day\" (Korean: 하루만; RR: Haruman), which peaked at number 45 and number 149 in Korea, respectively.[35] While Skool Luv Affair musically retained much of their hip-hop influences with the incorporation of R&B and hard rock, the album coincided with a thematic shift from dreams and happiness to love, focusing on school-age and youthful love.[36] Following Skool Luv Affair’s release, BTS made several appearances on Korean music shows and held their first fan meeting that March with an audience of 3,000 fans in Seoul.[37][38] That July, BTS held their first concert in the United States in West Hollywood for free to an audience of 200 fans.[39] In August, the group also made their first appearance at KCON in Los Angeles.[40] In August 2014, BTS released their first Korean studio album, Dark & Wild, which peaked at number two in Korea and sold over 200,000 copies total.[41] It was supported by two singles: \"Danger\" and \"War of Hormone\" (Korean: 호르몬 전쟁; RR: Horeumon Jeonjaeng), which peaked at number 58 and number 173 in Korea, respectively.[42] The album served as a narrative extension of the “school trilogy” and a transition into their next series. Musically, the album fused the grungy electric guitar sounds of rock within the framework of hip-hop and continued to expand their sound towards R&B. The central theme of the album\\'s lyrics focused on expressing the sentiments of maturing, youthful desires, and impatience for romance.[43] During production of the album, BTS recorded their single \"Danger\" in a makeshift studio in a garage in Los Angeles.[44] Following several appearances on Korean music shows,[45] BTS embarked on their first concert tour, 2014 BTS Live Trilogy Episode II: The Red Bullet, from October to December, held in various halls and theaters in six cities: Seoul, Kobe, Tokyo, Manila, Singapore, and Bangkok.[46] Their first Japanese studio album, Wake Up (2014), released that December, peaked at number three on the weekly Oricon Albums Chart and sold 28,000 copies.[47] Along with re-recorded Japanese versions of older songs, it also contained the original tracks \"Wake Up\" and \"The Stars.\"[48] In support of the album, BTS held their 1st Japan Tour 2015 Wake Up: Open Your Eyes in February 2015 to an audience of 25,000 fans in four cities.[49] After ending their Japan tour, BTS held their second solo concert in Korea, BTS Live Trilogy Episode I: BTS Begins, in March to a crowd of 6,500 fans.[50] Shifting their sound and image from solely aggressive, masculine hip hop to more diverse styles,[51] BTS wanted to express the beauty and anxiousness of \"youth\" and settled on the title of \"花樣年華\" (Korean: 화양연화; RR: Hwayangyeonhwa), loosely interpreted to define \"youth\" as \"the most beautiful moment in life.\"[52] Their third EP, The Most Beautiful Moment in Life, Part 1 (March 2015), explored the growth and emotional agony of youth as well as its playful and uplifting sides.[51] Fuse included it as the only Korean album on their list of the \"27 Best Albums of 2015 So Far.\"[53] The EP has sold over 415,000 copies to date.[54] Its lead single \"I Need U\" was BTS\\' first top five hit in Korea[55] and garnered BTS first ever music show win on SBS MTV\\'s The Show.[56] While its second single, \"Dope (Korean: 쩔어; RR: Jjeoreo)\", only peaked at number 44 in Korea,[57] it peaked at number three on Billboard\\'s World Digital Songs Chart[58] and became their first music video to accrue over 100 million views on YouTube in October.[59] The group began the world tour extension of their Red Bullet Tour in June, titled 2015 Live Trilogy Episode II: The Red Bullet, visiting cities throughout Asia, Oceania, North America, and Latin America.[46] Their fourth Japanese single, \"For You\", was released on June 17 to celebrate the first anniversary of their Japanese debut and topped Oricon\\'s daily chart, selling over 42,000 copies within its first day.[60] BTS later performed at Japan\\'s Summer Sonic Festival on August 15 and 16.[61][62] In November, BTS commenced their third concert tour, 2015 BTS LIVE \"The Most Beautiful Moment in Life: On Stage\", debuting their new song and the lead single from their fourth EP The Most Beautiful Moment in Life, Part 2, \"Run\", during the Seoul dates.[63] Thematically, the EP focused more on the serious and speculative aspects of youth, touching on the pursuit of success, loneliness, affection for their origins, and the suffering of the younger generation due to unfavorable conditions in current society. Critically, it was praised as the successful merging of the style of The Most Beautiful Moment in Life, Part 1 with BTS\\' initial identity.[64] The album topped the weekly Gaon Album and Billboard World Albums charts and BTS became the first K-pop act to remain atop the latter for multiple weeks.[65][66] It also marked their first appearance on the Billboard 200 chart, peaking at number 171 with over 5,000 copies.[67] BTS were awarded Best World Performer at the 17th Mnet Asian Music Awards in recognition of their international fan base. Their first Korean compilation album and the finale to their \"youth series\", The Most Beautiful Moment in Life: Young Forever, was released in May 2016. It included three new singles: the top 40 hit \"Epilogue: Young Forever\", the top 10 hit \"Fire\" (Korean: 불타오르네; RR: Bultaoreune), and the top 20 hit \"Save Me\".[68][69] The album topped Gaon Weekly Chart in Korea for two consecutive weeks and peaked at number 107 on the U.S. Billboard 200.[70][71][72] The Most Beautiful Moment in Life: Young Forever later won BTS\\' first major Korean award for Album of the Year at the 8th Melon Music Awards.[73] BTS embarked on their Asia tour extension, 2016 BTS LIVE \"The Most Beautiful Moment in Life On Stage: Epilogue\", from May to August, visiting 10 cities and performing to 144,000 fans.[74] During their tour, BTS held a landmark two-day concert at the Olympic Gymnastics Arena in Seoul in May,[75] and performed as first time headliners at both U.S. KCON shows held that year in Newark (June) and Los Angeles (July), to sold-out audiences.[76][77] In line with their other successes, they became the first K-pop group to receive their own Twitter emoji in May 2016.[78] In September 2016, BTS released their second Japanese studio album Youth.[79] It sold over 44,000 copies on its first day of release and peaked at number one in Japan.[80] Pre-orders for their second Korean studio album Wings, released in October 2016, accumulated over 500,000 copies within the first week.[81] Wings combined the themes of youth presented in their previous \"youth series\" with temptation and adversity and, for the first time as a major group effort, included seven solo tracks that demonstrated each members\\' potential and individuality as independent musicians.[82] The album was generally well-received by critics, with Rolling Stone naming it \"one of the most conceptually and sonically ambitious pop albums of 2016,\"[83] while Fuse praised the \"vulnerable and honest song material\" and diverse tracks.[84] The lead single \"Blood Sweat & Tears\" achieved a music chart \"all-kill\" in South Korea[85] and became their first number one hit on the weekly Gaon Digital Chart.[86] Its music video gained over 6 million views within 24 hours, breaking the previous record held on YouTube for the highest number of views of a K-pop group music video within 24 hours.[87] Wings opened at number 26 on the U.S. Billboard 200, the highest chart ranking ever for a K-pop album,[88] and BTS became the first Korean group to top the Billboard Social 50 chart that month.[89] It was their first \"million seller\" album,[90] moving over 1.5\\xa0million copies in South Korea that year and became the best-selling album in Gaon Album Chart history at the time.[91] BTS were the first artist not from a \"Big Three\" entertainment company (SM, YG and JYP) to win Artist of the Year at the 18th Mnet Asian Music Awards in December.[92][93] In February 2017, BTS released the repackaged edition of Wings (2016), entitled You Never Walk Alone. Pre-orders of the repackage reached over 700,000 copies, breaking the record for most albums sold in a month.[94][95] The repackage included an additional four tracks that offered consolation and encouragement to its listeners.[96] Its lead single, \"Spring Day\" (Korean: 봄날; RR: Bomnal) met critical praise as \"an intelligent, compelling and elegantly restrained study of loss and longing\" that \"deliberately avoids cliché pomp and drama\" by Dazed Digital.[97] Embodying nostalgia and sorrow, it opened a new chapter in BTS\\' aesthetics and lyricism and attracted fans across generational boundaries.[82] Upon release, \"Spring Day\" topped eight of the major South Korean online music charts, as well as Gaon,[98][99] and crashed Melon\\'s digital chart due to the high influx of user traffic.[100] It also entered the U.S. Billboard\\'s Bubbling Under Hot 100 singles chart at number 15 with \"zero promotions.\"[101] As evidence of its staying power, \"Spring Day\" is the longest-charting song on Melon by an idol group to date.[102] \"Spring Day\" later won Best Song of the Year at the 9th Melon Music Awards.[103][104] In conjunction with the release of You Never Walk Alone, BTS commenced their second world tour, 2017 BTS Live Trilogy Episode III: The Wings Tour, from February to December. The tour visited 12 countries including Brazil, Australia, Japan, Hong Kong, and the United States and gathered 550,000 fans.[105] On the tour, BTS began to play progressively larger venues, moving from halls into arenas and domes. Tickets for the North American leg sold out within minutes and two additional shows were added due to high demand, making BTS the first K-pop act to sell out arenas in the United States.[106][107] After completing their North American leg, BTS attended the 24th Billboard Music Awards in May and won Top Social Artist, becoming the first Korean group awarded a Billboard Music Award.[108] Celebrating Korean music icon Seo Taiji\\'s 25th anniversary as a part of his anniversary project \"Time: Traveler\", BTS released a remake of Seo Taiji\\'s 1995 classic \"Come Back Home\" in July 2017, reworking the sound and lyrics to similar sentiments toward societal change that Seo Taiji argued for in his songs.[109] BTS was later invited by Seo Taiji to perform as backup vocalists and dancers for eight songs in his Seoul Olympic Stadium concert held early September. During the concert, Seo Taiji acknowledged BTS\\' thematic similarities to his music and recognized the group as his musical successors, declaring, \"This is your generation now. Show them.\"[110][111] Following the depiction of growth and temptation in Wings (2016) and consolation in You Never Walk Alone (2017), BTS embarked on their \"Love Yourself\" series which sought the enlightenment of self-love through the \"起承轉結\" (Korean: 기승전결; RR: Giseungjeongyeol) narrative sequence of \"beginning, development, turn, and conclusion.\"[112] In September 2017, BTS released the first part of the series, their fifth EP, Love Yourself: Her[113] and featured music from the Chainsmokers\\' Andrew Taggart for the track \"Best of Me\".[114] The EP was supported by two singles: the lead single \"DNA\" and a Steve Aoki remix of their song \"Mic Drop\" featuring American rapper Desiigner. In the narrative sequence, the EP represented the \"承,\" or \"development\" of the series and is considered by RM to be one of the major turning points in BTS\\' career.[115] Within the larger narrative, Love Yourself: Her described the joy and happiness of falling in love.[112] Sonically, the EP served as \"a dual exploration of the group\\'s electro-pop and hip-hop leanings,\" with the first half consisting of “dance tracks that emphasize the group\\'s vocals\" while in the second half \"the act\\'s hip-hop side arrives in earnest...delivering powerful rap performances.\"[116] Commercially, BTS continued to hit new career heights with the Love Yourself: Her EP, debuting at number seven on the Billboard 200 with 31,000 album-equivalent units.[117] In Korea, the EP sold over 1.2\\xa0million copies on the Gaon Album Chart in its first month, achieving the highest monthly album sales in the chart\\'s history and the highest on any Korean chart in 16 years, second to g.o.d\\'s Chapter 4 album in 2001.[118] The single \"DNA\" was released simultaneously with the EP and debuted at number two in Korea. Its music video broke the previous record for most viewed K-pop group music video within the first 24 hours with more than 20 million views on YouTube.[119] \"DNA\" also became the group\\'s first entry on the Billboard Hot 100 at number 85, making BTS the first K-pop boy band to do so and the second Korean act with a Korean-language song.[120] The following week, \"DNA\" rose to number 67 and became the highest-charting song on the Billboard Hot 100 for a K-pop group, beating Wonder Girls\\' previous record at number 76.[121] The following single \"Mic Drop (Remix)\" peaked at number 28 on the Billboard Hot 100, becoming the first top 40 entry for a K-pop group on the chart.[122][123] Both \"Mic Drop Remix\" and \"DNA\" were later certified Gold[124] by the Recording Industry Association of America (RIAA)[125] making BTS the first and only Korean artist to receive two certifications.[126] \"Mic Drop\" went on to receive Platinum certification in November 2018, making BTS the first Korean group with a Platinum-certified single in the United States.[127] In December 2017, \"DNA\" and \"Mic Drop\" were released as a triple-A side single in Japan with the new song \"Crystal Snow\",[128] which topped the Oricon Chart[129] and became the highest-selling single from a K-pop artist within a week.[130] The single sold more than 380,000 copies by the end of the year and BTS became the only foreign artist to have a single certified double platinum by the RIAJ that year.[131][132][133][134][135] In November 2017, BTS became the first K-pop group to perform at the American Music Awards,[136][137] raising their profile internationally.[138][139] That same month, Guinness World Records revealed that BTS had earned a spot in their 2018 edition for \"having the world\\'s most Twitter engagements for a music group\".[140] In December, they also became the first K-pop group to perform on Dick Clark\\'s New Year\\'s Rockin\\' Eve to welcome the new year[141] and made their Japanese TV music show debut on TV Asahi\\'s Japan Music Station Super Live.[142] At the end of the year, BTS won their second Artist of the Year at the 19th Mnet Asian Music Awards,[143] becoming the first act to win the award two years in a row.[144][145] They also became the first artist outside of the \"Big Three\" to win major awards at the Golden Disc Awards[146] and the Seoul Music Awards, respectively.[147] In the lead up to their next album, BTS released an original eight-episode documentary series exclusively on YouTube Premium entitled Burn the Stage that ran from March until May 2018, offering a behind-the-scenes look at the group\\'s 2017 Wings Tour.[148][149] In April, the group also released their third Japanese studio album, Face Yourself,[150] which debuted at number 43 on the Billboard 200 as the third-highest-charting Japanese album in the history of the chart.[151] In conjunction with the release of Face Yourself, the group released a nine-minute short film titled \"Euphoria: Theme of Love Yourself: Wonder,\" which featured the song \"Euphoria\" and embodied the \"起\" or \"beginning\" of the narrative sequence.[152] In May 2018, BTS released their third Korean-language studio album, Love Yourself: Tear in conjunction with an appearance at the 25th Billboard Music Awards.[153] At the show, BTS debuted as performers with the premiere of their lead single, \"Fake Love\"[154] and won Top Social Artist, making them the only Korean artist to win the award two years in a row.[155][156] In the narrative sequence, the album coincided with the \"轉\" or \"turn\" of the series, touching on the tortuous enlightenment of loving without being loved and encouragement to those without dreams.[157] It received generally positive reviews from critics. Caitlin Kelley from Billboard  described the album as \"one of their most thematically cohesive yet sonically varied albums, with maximalist production erupting against lyrics about emptiness,\"[158] while Sheldon Pearce of Pitchfork wrote that the album \"formula is a slick, loosely thematic album about love and loss, with a stronger focus on rapping than ever before\" and that it \"aims for cohesion and produces fun, prismatic songs in the process.\"[159] Commercially, Love Yourself: Tear was one of BTS\\' most successful albums, bringing them to new heights both domestically and internationally. The album debuted at number one on the U.S. Billboard 200 with 135,000 album-equivalent units (including 100,000 pure album sales), becoming BTS\\' highest-charting and first number one album in the US, the first K-pop album to top the U.S. albums chart, and the highest-charting album by an Asian act.[160][161] Love Yourself: Tear also became BTS\\' first top ten hit in the United Kingdom, reaching number eight on the UK Albums Chart.[162] Their single \"Fake Love\" became their first top ten hit at number 10 on the Billboard Hot 100, becoming the seventeenth non-English song to reach the top ten and the first by a Korean group.[163][164] \"Fake Love\" later became their third single to attain Gold certification by the RIAA that August.[165] In South Korea, Love Yourself: Tear sold over 1.6 million copies in its first two weeks, making it the highest monthly sales for an album since the Gaon Chart\\'s inception at that time.[166] As the conclusion of the Love Yourself series, BTS released their second Korean compilation album Love Yourself: Answer in August 2018,[167] which contained songs from the previous Love Yourself releases along with seven additional new tracks.[168] The album was supported by the lead single \"Idol\" and the alternative digital release featuring Nicki Minaj.[169][170] Thematically, Love Yourself: Answer placed the songs of the Love Yourself series within the narrative of beginning, development, turn and conclusion to illustrate the excitement of love, the pains of farewell, and the enlightenment of self-love.[171] Critically, the album received generally positive reviews, with Billboard calling it a \"masterful culmination of years of work and rife with meaning\" and \"undeniably a magnum opus from BTS that that few other artists, boy bands or otherwise, ever can hope to achieve.\"[172] Commercially, the record sold over 1.9 million copies on the Gaon Album Chart in August 2018, breaking the chart\\'s all-time monthly record once again.[173] The album became BTS\\' second number-one album on the U.S. Billboard 200 and their highest sales week in the country at that time,[174] making BTS the only K-pop act with two Billboard 200 toppers and the first pop act with two number one albums in less than a year since One Direction topped the chart with Midnight Memories in 2013 and Four in 2014.[174] Love Yourself: Answer later became the first Korean language album to be certified Gold by the RIAA in November.[127] In Canada, Love Yourself: Answer  became the band\\'s first number-one album on the Canadian Albums Chart. In the United States, \"Idol\" peaked at number 11 on the Billboard Hot 100.[175] The single \"Idol\" also reached number five on the Canadian Singles Chart, marking BTS\\' first top-ten hit in Canada.[176] The music video for \"Idol\" received over 45 million views in its first 24 hours on YouTube, breaking the record previously set by Taylor Swift with \"Look What You Made Me Do\".[177] In conjunction with Love Yourself: Answer\\'s release in August 2018, BTS commenced their third world tour, BTS World Tour: Love Yourself, with a landmark concert in the Seoul Olympic Stadium, the largest stadium in South Korea.[178] During their tour, BTS also featured on Steve Aoki\\'s single \"Waste It On Me\" released that October, which was their first and only all-English language feature.[179][180] On tour, BTS continued to play to progressively larger venues from arenas to domes to stadiums. For the final stop of the North American leg, the band performed at Citi Field in Queens, marking the first time a Korean act has performed at a U.S. stadium.[181] All 40,000 tickets for the stadium date sold out in under 20 minutes.[182] According to StubHub BTS was one of 2018\\'s best-selling concerts in international markets outside the US, second to only Ed Sheeran.[183] Vivid Seats named BTS the 2018 artist of the year, citing the group\\'s history-making concert at Citi Field.[184] The tour also received generally positive reviews from critics. Philip Cosores from Uproxx described BTS\\' four nights at the Staples Center as an \"enormous, multi-sensory experience\" bringing an \"inclusive\" and \"multicultural experience\" where music is above any language barrier,[185] while Crystal Bell from MTV said \"BTS have created an experience so captivating, so inclusive, and so visually stunning that it’s cemented the boy band as one of the most vital acts in pop music today.\"[186] That October, with more than a year remaining in their contract, BTS renewed their contract with Big Hit Entertainment through 2026.[187] In early November 2018, a popular Japanese music show cancelled BTS\\' performance citing a T-shirt a member wore the year before.[188] In the same month the Jewish human rights organization Simon Wiesenthal Center (SWC) stated BTS owed victims an apology for the shirt in 2017, clothing with Nazi symbolism, and a flag.[189] Big Hit Entertainment issued an apology, saying that the images on the clothing were not intended to be hurtful to the victims of Nazism or atomic bombings, and that the band and management would take steps to prevent future mistakes. They also stated the flags were meant to be a commentary on the Korean school system.[190] The apology was accepted by SWC and the Korean Atomic Bomb Victim Association.[191][192] Crossing over to film, BTS released Burn the Stage: The Movie in theaters worldwide in November 2018 to commercial success. In the United States it accumulated $1.2 million on opening day for a total of $3.54 million over the three day weekend, breaking the record for the highest grossing event cinema musical production which was previously set in 2014 by the band One Direction. It ranked at number ten in the box office despite selling at only 620 locations compared to the 2,000-4,000 locations for the other top ten sellers.[193] At the end of the year, BTS won their third Artist of the Year at the 20th Mnet Asian Music Awards in a row and ranked number eight on Billboard\\'s year-end Top Artist Chart alongside the likes of Drake and Taylor Swift and were also the number two act of the year in the Duo/Group ranking, only behind Imagine Dragons.[194][195] They also made the Bloomberg 50 due to their \"willingness to address social issues, mental health, and politics, despite being in a genre often painted as bubble gum pop\".[196] The group sold more than ten millions albums in South Korea alone, with five million being sold in 2018 alone.[197] In February 2019, BTS attended the 61st Grammy Awards as award presenters.[198][199] It was their first time attending the event following an appearance by the group at the LA Grammy Museum in 2018.[200][201] In April, BTS became the first Asian act to surpass 5\\xa0billion streams on Spotify,[202] and Time named them as one of Time 100\\'s most influential people of 2019.[203] Their sixth EP, Map of the Soul: Persona, was released on April 12 with the lead single \"Boy With Luv\" (Korean: 작은 것들을 위한 시; RR: Jageun geotdeureul wihan si), featuring American singer Halsey.[204] The EP\\'s release was followed by a performance on Saturday Night Live, as the first Korean act to do so.[205] The group\\'s appearance was anticipated as one of the biggest in the show\\'s history.[206] Commercially, BTS reached new career heights. Map of the Soul: Persona became the first Korean-language album to reach the number one position in both the UK and Australia[207][208] and the group\\'s third consecutive album to top the Billboard 200 and the third within eleven months, joining the likes of the Beatles, who achieved the same in 1995–96. BTS are also the fastest group to get three number one albums since The Monkees in 1967.[209] The EP became the best selling physical album in the US for the year of 2019, with 312,000 physical sales.[210] Map of the Soul: Persona later became the best-selling album ever in South Korea, with more than 3.2 million sales in less than a month. Prior to BTS, the best-selling were dominated by late 90\\'s albums, making BTS the only act formed after 2000 to be featured in the top 10 best-selling list.[211] \"Boy With Luv\" debuted at number 8 on the Billboard Hot 100, the highest in history for a Korean group,[212] and its music video became the most-viewed online video within the first 24 hours as of 2019[update], accumulating more than 74.6 million views.[213] \"Boy With Luv\" was certified in multiple countries, including Australia where it was certified Gold for selling 35,000 units,[214] and the US where the RIAA certified it Platinum for selling over one million units.[215] Map of the Soul: Persona also attained Silver in the UK and Gold in France, selling over 60,000 units and 50,000 units respectively.[216][217] Following their two wins at the 26th Billboard Music Awards in May, including for Top Duo/Group, BTS embarked on their world tour stadium extension, Love Yourself: Speak Yourself, with dates in multiple stadium venues including Wembley Stadium, Stade de France, MetLife Stadium, Rose Bowl, and Soldier Field.[218] With this they became the first Asian and first non-English speaking artist ever to headline and sell out Wembley Stadium.[219][220] Their concerts at Rose Bowl had broken the record for highest-grossing single engagement in the venue\\'s Boxscore history, surpassing Taylor Swift\\'s and U2\\'s previous dates there.[221] All dates sold out within two hours, with second dates for all venues added due to the high demand.[222] During the tour, BTS performed on The Late Show with Stephen Colbert[223] and kicked off Good Morning America\\'s \\'Summer Concert Series\\' as headliners at Central Park in Manhattan.[224] They also performed on the finale episode of The Voice[225] and one of the semi-finals of Britain\\'s Got Talent.[226] In the lead up to the release of their new mobile game BTS World set for June 2019, BTS released three collaboration singles, \"Dream Glow\" featuring English singer Charli XCX,[227] \"A Brand New Day\" with Swedish singer Zara Larsson,[228] and \"All Night\" featuring American rapper Juice Wrld.[229] The band also released the song \"Heartbeat\" with a music video from the game\\'s official soundtrack, titled BTS World: Original Soundtrack.[230] The soundtrack was later certified Double Platinum by Gaon on August 8 for surpassing 500,000 copies sold, the first soundtrack album to receive the certification since Gaon implemented it last year.[231] Developed by South Korean company Netmarble, the game was released on June 26 to iOS and Android systems in over 175 countries.[232] BTS released their tenth Japanese single \"Lights\" on July 3.[233] Pre-orders for the double A-side single surpassed 1 million copies, breaking a 24-year-old record for foreign artists previously held only by Celine Dion with her 1995 single \"To Love You More\", and marked the first time a Korean artist achieved a million shipment for a single in Japan.[234][235] \"Lights\" went on to sell over one million copies and received Million certification by the RIAJ on August 8, the first time a male act achieved this since Masafumi Akikawa\\'s August 2007 single, \"A Thousand Winds\". It is BTS\\' first million certification in Japan since their debut.[236] Love Yourself: Her and Love Yourself: Tear both crossed 2 million copies in August,[237] and Love Yourself: Tear was awarded Double Million certification by Gaon. It is BTS\\' second album to do so following Love Yourself: Answer\\'s certification in October 2018.[238][239] All three albums of the Love Yourself series have sold more than 2 million copies each in South Korea. Love Yourself: Tear later attained Silver in the UK, becoming their third album to be attain this certification following Love Yourself: Answer and Map of the Soul: Persona.[240] In October, BTS performed at King Fahd International Stadium in Riyadh, becoming the first foreign act to perform  a solo concert in Saudi Arabia.[241] For the final stop of their record-breaking Love Yourself: Speak Yourself World Tour, the band held a run of three sold-out nights at Seoul\\'s Olympic Stadium to close this chapter of their story.[242] According to Billboard\\'s year-end Boxscore charts, the group grossed over $196 million and played to more than 1.6 million people across 42 shows in the chart period ranging from November 1, 2018 to October 31, 2019 and ranked third overall on the year-end Top 40 Tours chart behind Ed Sheeran and Pink.[243] The group outgrossed legacy rock acts like the Rolling Stones, Metallica, and KISS, as well as fellow boy band the Backstreet Boys, making them the top-grossing touring group of 2019.[244] That same month, the group released a remix version of the song \"Make It Right\" featuring American singer Lauv as the second single from their album Map of the Soul: Persona.[245] In November, BTS became the first K-pop group to win the Favorite Duo or Group – Pop/Rock  at the 2019 American Music Awards and the Favourite Social Artist award consecutively in 2018 and 2019.[246] In December, they attended both the 2019 Melon Music Awards and 2019 Mnet Asian Music Awards. The group became the first artist in the history of K-pop to receive all grand prizes from both ceremonies; getting four from each award show.[247][248][249] At the end of the year, BTS ranked number fifteen on Billboard\\'s year-end Top Artist Chart and were also the number two act of the year in the Duo/Group ranking, only behind Jonas Brothers.[250][251] They were named as 2019 Hitmakers Group of the Year by Variety.[252] They were also the most tweeted-about musicians of 2019.[253] On December 31, 2019, BTS performed in New York City\\'s Times Square for ABC\\'s Dick Clark\\'s New Year\\'s Rockin\\' Eve.[254] At the 34th Golden Disc Awards, BTS became the first artists in history to win grand prizes in both the physical and digital categories in a single year.[255] Map of the Soul: Persona was named the second best-selling physical album of 2019 in the U.S. by Nielsen Music only behind Taylor Swift\\'s Lover and was ranked sixth overall on the chart of Top 10 Albums (Total Sales) in the U.S.[256] BTS wrapped 2019 as the fourth most successful group on Billboard\\'s Top Billboard 200 Artists - Duo/Group ranking, only behind Queen, Imagine Dragons and The Beatles.[257] On January 7, 2020, Big Hit Entertainment announced that BTS will release their fourth Korean-language studio album, Map of the Soul: 7, on February 21 with two singles.[258] On January 10, BTS released a trailer for the album featuring Suga\\'s solo track \"Interlude: Shadow\".[259] On January 17, BTS released the single \"Black Swan\", along with a choreography art film performed by Slovenian-based MN Dance Company.[260][261] The official music video for the lead single will be released on February 28. On January 15, Big Hit announced that according to distributor Dreamus, the album surpassed 3.42 million stock pre-orders in its first seven days from January 9 through January 15. These pre-release numbers surpassed pre-orders of Map of the Soul: Persona which sold  2.685 million preorders in its first five days.[262] On January 21, BigHit announced the Map of the Soul Tour, BTS\\' fourth worldwide concert tour and second stadium tour. The tour would promote their Map of the Soul series, including their Map of the Soul: Persona EP, and Map of the Soul: 7 studio album.[263] On January 23, the Recording Academy announced that BTS would be performing with Lil Nas X, Billy Ray Cyrus, Diplo, and more in a special segment at the 62nd Annual Grammy Awards, thus making BTS the first Korean act to perform on the Grammy\\'s stage.[264][265][266] \"Idol\" and Love Yourself: Answer received platinum certifications, both selling more than one million certified units in the United States. \"Idol\" became the group\\'s third Platinum single while Answer became the group\\'s first Platinum album, making BTS the first Korean artist to attain this certification in the US.[267] On February 2, the band released a second comeback trailer for their upcoming album named \"Outro\\xa0: Ego\" featuring J-Hope.[268] On February 6, Forbes reported that Map of the Soul: 7 had surpassed a total of four million pre-orders worldwide.[269] On February 16, BigHit announced that the album would have a total of twenty songs, including a collaboration with Australian singer Sia.[270] Four days before the album release on February 17, Dreamus once again updated the total number of pre-orders to a record-breaking 4.02 million.[271] BTS have cited Seo Taiji and Boys,[272] Nas, Eminem, Kanye West, Drake, Post Malone, Charlie Puth and Danger as musical inspirations.[273]  They have also cited Queen as an influence, with Suga saying he \"grew up watching videos of Live Aid.” During their concert at Wembley Stadium in London, Jin paid tribute to Queen by leading the crowd in a version of Freddie Mercury’s \"ay-oh\" chant from the band\\'s Live Aid concert.[274][275] BTS are also influenced by many literary, psychological, artistic, and philosophical mediums. Their album Wings (2016) was inspired by Hermann Hesse\\'s coming of age novel, Demian.[276] Their song \"Blood Sweat and Tears\" references Friedrich Nietzsche\\'s Thus Spoke Zurathustra, Herbert James Draper\\'s The Lament for Icarus, Pieter Bruegel\\'s Landscape with the Fall of Icarus, and Pieter Bruegel\\'s The Fall of the Rebel Angels by quoting Nietzsche and featuring the three aforementioned paintings in the music video.[277] Their \"Spring Day\" music video contains lyrical and visual references to Ursula Le Guin\\'s short story The Ones Who Walk Away from Omelas.[278] The Love Yourself series was primarily influenced by Erich Fromm\\'s The Art of Loving,[279] while their song \"Magic Shop\" from Love Yourself: Tear (2018) was inspired by James R. Doty\\'s memoir Into the Magic Shop.[280] Their 2019 album Map of the Soul: Persona gains its name from Murray Stein\\'s Jung\\'s Map of the Soul: An Introduction.[281] BTS co-writes, produces, and composes much of their output.[282][283] Since their inception, BTS have developed and maintained a style of \"fusion music\" with an emphasis on hip hop as their musical base[284] largely due to the influence of RM and Suga\\'s background as underground rappers[11] and their main producer Pdogg.[285] Rather than wanting to stick to a specific genre, BTS have introduced brand new elements into their musical repertoire with each new album.[284] BTS\\' sound began with old-school hip hop influences heard on 2 Cool 4 Skool and O!RUL8,2?,[21] but evolved to include R&B and rock with Skool Luv Affair and Dark and Wild,[286][43] orchestral strings and electronic dance music with their The Most Beautiful Moment in Life album series,[64] moombahton, neo soul, and gospel in Wings and You Never Walk Alone,[287][82] and future bass, Latin pop, and jazz hip hop in their Love Yourself album series.[112] BTS\\' lyrics include social commentary, often incorporating criticism of South Korean society. Songs such as \"No More Dream\" and \"N.O\" from their \"school trilogy\" were motivated by their experiences with South Korea\\'s emphasis on education and called for change to the education system and societal expectations.[288] Their experiences with youth culture in South Korea inspired songs like \"Dope\" and \"Silver Spoon\" (Korean: 뱁새; RR: Baepsae) from their \"youth series,\" referencing generational disparity and the millennial\\'s giving up of romantic relationships, marriage, children, proper employment, homes, and social life in the face of economic difficulties and societal ills while facing condemnation from the media and older generations.[288] The song \"Am I Wrong\" from Wings (2016) questioned societal apathy towards the state of current events—the lyric \"We\\'re all dogs and pigs / we become dogs because we\\'re angry\" referenced the South Korean Ministry of Education official Na Hyang-wook who was a proponent of the caste system and described the average person as \"dogs and pigs,\" and BTS performed the song on television during the 2016 South Korean political scandal that led to the impeachment of ex-President Park Geun-hye.[288] RM and Suga\\'s personal struggles with mental health inspired songs like \"Tomorrow\", \"Intro: The Most Beautiful Moment in Life\", \"So Far Away\", \"The Last\", and \"Forever Rain.\"[289][290] \"Not Today\" from You Never Walk Alone (2017) is an anti-establishment anthem, with messages advocating for minority groups,[291] while \"Spring Day\" was created to memorialize the victims of the Sewol Ferry tragedy.[292] BTS\\' albums have recurring themes that fall under the overarching theme of \"reflection of youth.\"[9] Their \"school trilogy\" explored \"the troubles and anxieties of school-age youth.\"[293]  Their \"youth series\" \"tackled a subject that the vast majority of youth experience, but few pop musicians articulate well: mental health and the desire to belong in society.\"[293] Wings (2016) focused on temptation and sin.[294] The \"Love Yourself\" series utilized a narrative form to illustrate the excitement of love, the pains of farewell, and the enlightenment of self-love.[171] Since their inception, BTS have held the belief that telling their story is the only way for the younger generation to relate to their music.[22] Writing over 90 percent of their lyrics,[295] BTS try to include experiences everyone has felt in life, such as sadness and loneliness, and turn them to something more light and manageable. In regards to their lyricism, RM states he tries to not sound as if they\\'re preaching or reprimanding people in their songs as everyone has different lives and different destinies.[296] When asked if it is difficult to write about things like mental health, Suga responded, \"We feel that people who have the platform to talk about those things really should talk more, because they say depression is something where you go to the hospital and you’re diagnosed, but you can’t really know until the doctor talks to you. [...] More and more, I think artists or celebrities who have a voice should talk about these problems and bring it up to the surface.[297] BTS has been praised for \"speak[ing] honestly about topics they deem important, even in a conservative society\" by Jeff Benjamin in Fuse magazine.[96] South Korean president Moon Jae-in, in a letter to BTS, recognized their sincerity and inclusion of diversity as key to their success, writing, \"Each of the seven members sings in a way that is true to himself and the life he wants to live. Their melody and lyrics transcend regional borders, language, culture, and institutions.\"[298] BTS have been described as \"easily the biggest and most successful name in K-pop in the world\" that can \"do things no other name in their genre can\",[299] with Time giving them the nickname \"Princes of Pop\".[300] Billboard Senior Vice President Silvio Pietroluongo said that BTS are comparable and as influential to the Beatles and The Monkees.[301] Nielsen Music Vice President Helena Kosinski says that \"although BTS weren\\'t the first to open the doors to K-Pop worldwide, they were the first to become mainstream. They don\\'t just appeal to young people but also to the 50s and 60s age demographic.\"[302] As the first non-English speaking artist to make the Global Artist Chart in 2018, BTS had the second and third best-selling albums worldwide and were the second best-selling artists worldwide in terms of physical, digital, and streaming platforms, coming second only to Drake.[303][304][305] In the United States, BTS accounted for 72.7 percent of the album consumption units generated by K-pop acts in 2018 out of a total of 17 acts.[306] In South Korea, BTS accounted for 41.9 percent of album sales in the first half of 2019, up from their market share of 25.3 percent the previous year.[307] In November 2019, Billboard ranked BTS at #4 on their Top Social Artist of the 2010s list, making them the highest group on the list. BTS was also ranked #45 on Billboard\\'s Top Touring Artists of the 2010s list. They are the highest-ranked Asian act on the list as well as the only non-English speaking act.[308][309] BTS have been often regarded as \"the biggest boy band in the world\".[310] They have also appeared in various power listings. The most tweeted-about celebrities in the world in 2017 and 2018,[311][312] the band was included in Time\\'s list of the 25 most influential people on the internet from 2017 to 2019,[313] featured on the magazine\\'s October 2018 international edition cover as \"Next Generation Leaders,\"[314] and were listed as one of Time 100\\'s most influential people in 2019.[315] The group was also listed as one of the most influential artists of the decade by CNN, for \"popularizing K-pop in the US\".[316] According to a JoyNews24 \\'Power People of 2019\\' survey among industry professionals, BTS was chosen as #1 with 74 votes, with #2 being Parasite Director Bong Joon-ho with 29 votes.[317] BTS also appeared in Bloomberg Market\\'s 50 most influential in 2018,[318] and Forbes Korea named them the fifth most influential celebrities of Korea in 2017, and the most influential celebrities of Korea in 2018.[319][320] In 2019, BTS ranked 43rd on Forbes\\' annual list of the 100 highest-paid celebrities with earnings of $57 million.[321] BTS also ranked first on the list of \\'Top Rank Global Sustainable Future Leaders\\' during an announcement from the UN-sponsored SDG association at the United Nations headquarters, while BTS\\' fanclub, ARMY, were noted as the \\'Top Rank Sustainable Global group\\'. Other notable people included in this list were Malala Yousafzai and Bill Gates.[322][323] In California, BTS inspired a teacher to have his school be the first in the country to offer a Korean American Culture and Society course.[324] Kang Soojung, exhibition manager at the Museum of Modern and Contemporary Art, said that while preparing the 50th anniversary exhibition called “Square,” she was greatly influenced by BTS\\'s hidden track “Sea\".[325] The group\\'s influence has led them to address the United Nations at their 73rd General Assembly[326][327] and to perform before 400 officials including South Korean president Moon Jae-in at the 2018 Korea-France Friendship Concert in Paris, a summit meant to show the friendly relations between France and South Korea.[328] Moon Hee-sang, Speaker of the National Assembly, said that \"BTS is doing most of our work,” attributing the results of his overseas trip to the credit of the global group on an overseas trip to promote “sales diplomacy\".[329] In September 2019, president Moon Jae-in also mentioned BTS in his announcement for his \\'3 major innovation strategies for the contents industry\\', stating that BTS has pioneered innovative business models that communicate directly with fans.[330] In October 2019, The Ministry of Culture, Sports and Tourism selected BTS as a recipient for a \\'Letter of Appreciation\\', for showing the world the beauty of Korean traditional culture (Hangul, Hanbok, Gugak) through creative re-interpretations in their music.[331] In December 2019, according to the annual survey conducted by Gallup Korea, BTS were the most preferred artists of 2019 for a second consecutive year.[332] According to the \"2019 South Korean National Image\" survey conducted by the Ministry of Culture, Sports and Tourism and its affiliate the Korean Culture and Information Service among 16 countries, BTS were chosen #2 with 5.5% votes.[333] Despite cultural medals traditionally being given to recipients with more than 15 years of notable achievements, BTS became the youngest ever recipients honored with the Order of Cultural Merit by the President of South Korea in 2018 after five years after debuting, due to their noteworthy contributions in spreading Korean culture and language.[334][335] BTS have measurably revitalized the Korean economy[336] and the global music industry. Credited for the surge in popularity of online purchases of K-pop items[337] and the growth of the Korean Wave between 2016 and 2018 by the Korea Customs Service and Korea Foundation,[338] BTS were cited as one of the main driving forces for the recovery of South Korea\\'s music-related sector to levels seen before China\\'s 2016 ban on domestic cultural contents over soured diplomatic relations.[339] Yung Duk Kim, vice president and chief operating officer of the Korea Creative Content Agency, stated K-pop has “skyrocketed” since BTS\\' popularity surged, creating jobs not only for BTS and their team but other K-pop idols as well.[340] Various news outlets coined the term the \"BTS effect\" to refer to the commercial effects of BTS\\' influence, such as when KB Kookmin Bank savings accounts increased six-fold compared to the prior year following BTS\\' endorsement and when stock prices of entertainment companies in South Korea shot up for five days after BTS topped the U.S. Billboard 200.[341][342][343] The effect was also observed when companies tied to BTS, such as Netmarble, NetMark, Soribada, Key Shares, GMP, Diffie, and Mattel had their stocks rise.[344][345] In October 2019, Mattel\\'s international gross sales rose 10% to $721.7 million, lifted by sales of dolls based on BTS.[346] Data firm SM2 Networks estimated Hyundai Motor received ₩600 billion ($502 million) in promotional results after commissioning BTS as their promotional models in 2018.[347] The Bank of Korea Economic Statistics System stated that South Korea\\'s BOP for music and entertainment reached $114.7 million in the first quarter of 2019, attributing this to an improved relationship between China and South Korea, and the breakout global success of BTS, particularly in North America.[348] Signed on as tourism ambassadors in 2017, the Seoul Metropolitan Government credits BTS for the recovery of Seoul\\'s shrinking tourism industry following the 2016 THAAD controversy, bringing in an average of 790,000 tourists to Korea annually.[349] In December 2018, the Hyundai Research Institute estimated that BTS were worth more than $3.67 billion to the Korean economy each year, attracting one in every thirteen foreigners who visited Korea.[350][351] BTS\\' two day fan-meetings held in Seoul and Busan in June 2019 generated a total economic effect of ₩481 billion ($408 million) to both cities, accounting for 1.6% of Busan\\'s 2018 GDP, and 0.9% of Seoul\\'s 2018 GDP.[352] Their three-day concert finale in Seoul for their Love Yourself World Tour in October 2019 was estimated to have an economic value of almost ₩1 trillion ($862 million) and brought in 187,000 foreign visitors to South Korea.[353] As of June\\xa02019[update], BTS\\' economic effect on South Korea is estimated to be over ₩5.5 trillion ($4.65 billion) per year, about 0.3% of South Korea\\'s GDP.[354] This is comparable to Korean Air, the flagship airline of South Korea, who\\'s percent contribution to South Korea\\'s GDP is 0.7%.[355] The 2019 annual ticket sales data released by the Korean online ticketing site, Interpark revealed that BTS\\' world tour \"Love Yourself: Speak Yourself\" concert at the Seoul Olympic Stadium ranked No.1, with BTS topping the ticket sales for the second consecutive year on Interpark.[356][357] Outside of South Korea, BTS\\' concerts at Wembley Stadium were estimated to have brought around ₩100 billion ($82 million) as a direct economic effect to the city of London.[358] After BTS went to Malta for their show, \\'Bon Voyage 3\\', the Malta Tourism Authority reported a 237% increase of Korean tourists visiting the country, crediting BTS as the reason for the increase.[359] Along with Ariana Grande and Drake, BTS were credited as a key act boosting global music sales to $19 billion in 2018. Such profit had not been seen since 2006 after digital purchases gained momentum.[360] BTS\\' work has influenced numerous artists, including (G)I-dle,[361] D-Crunch\\'s Hyunho,[362] The Boyz\\' Younghoon and Hwall,[363] SF9\\'s Zuho,[364] Euna Kim,[365] Golden Child\\'s Jaehyun,[366] Wanna One,[367] IN2IT,[368] Park Ji-hoon,[369] Kim Dong-han,[370][371] Seven O\\'Clock,[372] Hyeongseop X Euiwoong,[373] Noir,[374] Victon\\'s Sejun and Byungchan,[375] and Loona.[376] After BTS released their single \"Idol,\" the National Gugak Center had to expand the amount of Korean instrument sounds available due to increased demand from Korean and foreign producers alike.[377] K-pop idol groups also began changing the themes of their lyrics from love stories to words such as \"looking for myself\" following BTS\\' \"Love Yourself\" era and RM\\'s speech at the United Nations.[378] BTS has received many awards and honors, including 24 Mnet Asian Music Awards, 23 Melon Music Awards, 20 Golden Disc Awards, 14 Seoul Music Awards, 13 Gaon Chart Music Awards, 4 Billboard Music Awards, 4 Korean Music Awards, 4 American Music Awards, and 2 MTV Video Music Awards. In South Korea, BTS has three Multi-Million albums and three Platinum streaming singles.[379][380] As the first Korean group to receive an RIAA certification, BTS has one Platinum album, three Platinum singles, two Gold singles, and one Gold album in the United States.[381] In Japan, BTS is the first male foreign act to receive a Million certification for a single;[382] they also have two Multi-Platinum singles, one Multi-Platinum album, and four Gold albums.[383] BTS are also the first Korean group to receive certifications in the United Kingdom, with three Silver album certifications for Love Yourself: Tear, Love Yourself: Answer and Map of the Soul: Persona.[384][385] BTS have a large social influence and as of 2019[update], have attained eleven Guinness World Records, including the world record for most Twitter engagements.[140] To date, they have spent 166 weeks at #1 on the Billboard Social 50 chart.[386] In October 2018, BTS was awarded a fifth-class Hwagwan Order of Cultural Merit from the President of South Korea for their contributions in spreading Korean culture and language.[387] In 2019, members of BTS were invited to become members of the Recording Academy in honor of their contributions to music and as part of a push to help diversify Grammy Award voters.[388][389] On November 7, 2019, BTS became the first K-Pop act to remain on the Billboard 200 for a whole year. \"Love Yourself: Answer\" reentered Billboard\\'s main albums chart on Monday November 4 (No. 165). As of November 2019, the album has remained on the charts for 52 non-consecutive weeks, making the album the first, and currently, only K-pop album to do so.[390][391] On January 26, 2020, BTS performed at the 62nd Annual Grammy Awards, becoming the first K-pop act to do so.[392] BTS have maintained numerous global endorsement deals in various industries throughout their career. Partnered with Puma since 2015, BTS initially promoted their sportswear as Puma Korea\\'s brand ambassadors before expanding to become global ambassadors in 2018[393][394] and promoting the remix of Puma\\'s \"Turin\" and \"Sportstyle\" line worldwide.[395][396] In 2019, BTS became the first male pop group ever to collaborate with Dior, as the group sported Kim Jones\\' Pre-Fall 2019 collection at their concert at Stade de France. Business of Fashion called it \"the K-Pop industry\\'s most high profile sponsorship ever\".[397] In September 2019, Fila announced that BTS have signed an exclusive contract with them to be their new models worldwide.[398] BTS served as global brand ambassadors for LG Electronics to promote their LG G7 ThinQ telephone,[399] and for Hyundai Motors as part of the company\\'s promotions at the 2018 LA Auto Show for its 2019 flagship SUV the \"Palisade\".[400] Due to BTS\\' endorsement, Hyundai received almost double their anticipated domestic order volume for the car.[401] In the tourism sector, BTS have worked as brand models for Lotte Duty Free Shop since 2017[402]\\nand as honorary tourism ambassadors for Seoul as part of the \\'I Seoul U\\' program. Promotional advertisements produced by the Seoul Metropolitan Government, featuring the group, aired in over 100 countries.[403] BTS also partnered with popular Korean communication app Line, to create new Line \\'characters\\' called BT21. The collaboration initially produced emojis and electronic stickers, but later expanded to include fashion apparel, footwear, accessories, and other merchandise.[404] Line flagship stores opened throughout Seoul before spreading across the global market into Japan, Taiwan, Hong Kong and the United States.[405] In the entertainment sector, BTS published the webtoons Hip Hop Monster and We On through the Nate Webtoon portal, and the webtoon Save Me in collaboration with LICO and Line Webtoon.[406][407][408] In the toy industry, Mattel created dolls modeled off BTS\\' outfits from the music video \"Idol\",[345] Medicom Toy created the \"BE@RBRICK\", a block-like toy featuring the BTS logo and accents modeled after BTS\\' stage clothes,[409] and Funko released BTS versions of Funko Pops.[410] In the gaming industry, Nexon released character avatars based on BTS for their RPG game Elsword,[411] and BTS worked with DalcomSoft to release the rhythm game Superstar BTS in January 2018,[412] as well as with Netmarble Games for the story-based, mobile simulation game BTS World released in June 2019.[413] In November 2019, BTS announced they are teaming with Casetify to globally launch a new tech accessory collection, which contains accessories compatible with iPhone, Samsung devices, AirPods, Apple Watch, MacBooks, iPads and more.[414] In Asia, BTS have worked as brand spokespersons for KB Kookmin Bank, one of the four largest banks in South Korea.[415][416] Their collaboration generated the opening of over 180,000 accounts, and BTS extended their contract with KB Kookmin Bank through 2019.[417] Coca-Cola Korea[418] signed BTS on as their new campaign models for promotions during the 2018 World Cup in Russia.[419][420] In the beauty and apparel industry, BTS have maintained a relationship with uniform brand SMART since 2016, having renewed their contract with them through 2019.[421] BTS have also promoted the face mask brand Mediheal,[422] the cosmetics brand VT Cosmetics,[423] and the contact lens brand Play/Up.[424] In October 2019, Kyungnam Pharmaceutical announced that BTS are going to be the new brand ambassadors for Lemona, a vitamin supplement company. The company announced they are planning to expand to the global market with BTS and release new vitamin drinks.[425] In October 2019, ceramics company Kwangjuyo stated that they will collaborate with BTS in releasing plates, mugs, and other pieces. The colors of the ceramics were inspired by Map of the Soul: Persona, and the Plum Blossom pattern is used to represent the message of hope and positivity that BTS brings.[426] Also in October 2019, Tokopedia, an Indonesian e-commerce company, announced that BTS will be their new brand ambassadors.[427] In December 2019, BTS were announced as the new global ambassadors of ABB FIA Formula E Championship, the electric street racing series, Formula E. Through the partnership, the South Korean septet and Formula E will team up to promote how electric vehicles can help combat climate change.[428] In January 2020, Hyundai Motors announced that they would be partnering with BTS to launch a new hydrogen campaign to promote their hydrogen fuel cell electric SUV, \"Nexo\". Additionally, BTS were announced as the \"Hyundai Motors Global Brand Ambassadors\".[429] In February 2020, Samsung Electronics announced a partnership with BTS for marketing their new smartphones.[430] In 2015, BTS donated seven tons (7,187\\xa0kg) of rice to charity at the K-Star Road opening ceremony held in Apgujeong-dong.[431] The following year they participated in ALLETS\\'s \"Let\\'s Share the Heart\" collaboration charity campaign with Naver[432] to raise donations for LISA, a Korean medical charity which promotes organ and blood donation.[433] In January 2017, BTS and Big Hit Entertainment donated ₩100 million ($87,915) to the 4/16 Sewol Families for Truth and A Safer Society, an organization connected to the families of the 2014 Sinking of MV Sewol. Each member donated ₩10 million and Big Hit Entertainment donated an additional ₩30 million. The donation was intended to have been made in secret.[434] Later that year, BTS officially launched their Love Myself campaign, an initiative dedicated to funding several social programs to prevent violence against children and teens and to provide support for victims of violence in partnership with the Korean Committee for UNICEF.[435][436] BTS donated ₩500 million ($448,000) from the members and 100% of all sales of official goods for the Love Myself campaign over the next two years in addition to donations collected from donation desks installed by UNICEF[437] In addition, 3% of the sales from each album in the Love Yourself series (Love Yourself: Her, Love Yourself: Tear, and Love Yourself: Answer) were donated to the cause.[436] Within two months of its launch the campaign raised an additional ₩106 million, taking the worldwide funds total to ₩606 million.[438] In November 2018, UNICEF Korea announced that the Love Myself campaign had raised over ₩1.6 billion ($1.4 million).[439] By June 2019, it had surpassed ₩2.4 billion.[440] In April 2018, BTS participated in Stevie Wonder\\'s \"Dream Still Lives\" tribute to Martin Luther King Jr. alongside other celebrities.[441] That June, the group donated to the ALS hospital building fund.[442] In September, BTS attended the United Nations 73rd General Assembly for the launch of the youth initiative \"Youth 2030: The UN Youth Strategy\" and its corresponding UNICEF campaign \"Generation Unlimited\".[443][444] On behalf of the group, BTS\\' leader RM delivered a six-minute speech in English about self-acceptance, as well as their Love Myself campaign.[445][443] According to UNICEF, the goal of the initiative is \"to provide quality education and training for young people\".[446] BTS were selected to attend due to their impact on youth culture through their music and social messages, previous philanthropic endeavors, and popularity among the 15-to-25-year-old age demographic.[443][444] In January 2020, Starbucks Korea announced that they would be partnering together with BTS to launch the “Be the Brightest Stars” campaign including limited-edition beverages, food and merchandise exclusively in South Korea. A portion of the profit from the campaign will go towards career and educational development programs for disadvantaged youth as part of The Beautiful Foundation\\'s Opportunity Youth Independence Project.[447] Also in January 2020, BTS auctioned off seven microphones that were used for their Love Yourself World Tour for a Grammy week charity auction event. The microphones ended up selling for US$83,000 (the highest of the event) and the proceeds were all donated to MusiCares, a non-profit organization with its primary purpose to focus the resources and attention of the music industry on human service issues which directly impact the health and welfare of the music community.[448] The BTS Universe, also known as the Bangtan Universe or BU, is an alternate universe created by Big Hit Entertainment that winds through the group\\'s output. The webtoon Save Me closely follows the story line, along with their book HYYH: The Notes 1.[449][450] The chronology of the universe began with the song \"I Need U\" and spans to the present time.[451] It tells the story of the seven members in an alternate reality and depicts their anxieties and uncertainties as they confront their futures.[452][453]  Speaking to Billboard, Michelle Cho, an assistant professor of East Asian Popular Cultures at the University of Toronto, said \"As an audio-visual experience, \"I Need U\" inaugurated the Bangtan Universe—the coming-of-age storyline that brilliantly integrates the Most Beautiful Moment in Life [album] trilogy and continues in music videos, \"concept videos\" (mini-films), and the multiform, open-ended narrative that\\'s been serialized in album liner notes and Twitter and Instagram posts.\"[454] Mariejo Ramos from The Inquirer said about the universe \"no other artists have successfully mixed the same literary technique to pop music in such a scale.\" They used the alternate universe and literary books, such as The Ones Who Walk Away from Omelas, as a framing device for their albums.[455] Mixing the two has created an interactive environment for their fans who make theories when new material or hints are released.[456][457][458] In January 2020, BTS launched  \"Connect, BTS\", ahead of their upcoming studio album, Map of the Soul: 7. \"Connect, BTS\" is a global public art project involving 22 contemporary  artists across five cities: London, Berlin, Buenos Aires, Seoul and New York.[459] Galleries in these cities will host artistic events throughout January until the end of March. According to the \"Connect, BTS\" website, the project has been developed by international curators who \"resonated with BTS\\' philosophy\" and \"aims to redefine the relationships between art and music, the material and immaterial, artists and their audiences, artists and artists, theory and practice.\"[460] The project kicked off on January 14 at London\\'s Serpentine Galleries with the launch of \"Catharsis\", a digital recreation of an ancient forest by Danish artist Jakob Kudsk Steensen.[459] Other works will include a \"drawing in space\" on New York\\'s Brooklyn Bridge by British sculptor Antony Gormley using 11 kilometres of aluminium tubing.[461] In Argentina, according to the BBC, Tomás Saraceno will \"float\" a human into the sky using a solar-powered balloon. In Seoul, the Dongdaemun Design Plaza will feature installations by British artist Ann Veronica Janssens and Korean artist Yiyun Kang which will be \"re-imagining of BTS\\' signature dance movements\" while a performance art program called \"Rituals of Care\" with 17 artists will be hosted in Berlin\\'s Martin-Gropius-Bau.[462] Korean-language studio albums  Japanese-language studio albums ')"
      ]
     },
     "execution_count": 28,
     "metadata": {},
     "output_type": "execute_result"
    }
   ],
   "source": [
    "# 리스트에 존재하는 문자열들을 한개의 문자열로 통합 \n",
    "# 묶는다. => join\n",
    "src_text = ' '.join(tmp)\n",
    "# src_text\n",
    "len(src_text),src_text[:]"
   ]
  },
  {
   "cell_type": "markdown",
   "metadata": {},
   "source": [
    "### 정규식\n",
    "[정규식기초_이동](https://github.com/Jerrykim91/Bigdata_Analytics/blob/master/Python_Projects_with_poo/Python_Basic_ipynb/Python_Basic_P000_06.ipynb)"
   ]
  },
  {
   "cell_type": "code",
   "execution_count": 35,
   "metadata": {},
   "outputs": [],
   "source": [
    "# 정규식 \n",
    "import re"
   ]
  },
  {
   "cell_type": "code",
   "execution_count": 30,
   "metadata": {
    "scrolled": true
   },
   "outputs": [
    {
     "data": {
      "text/plain": [
       "['[]',\n",
       " '[]',\n",
       " '[BTS (Korean:\\xa0방탄소년단; RR:\\xa0Bangtan Sonyeondan), also known as the Bangtan Boys, is a seven-member South Korean boy band that began its formation in Seoul in 2010.[3] The septet co-writes and produces much of their output. Originally a hip hop group, their musical style has evolved to include a wide range of genres. Their lyrics, often focused on personal and social commentary, touch on the themes of mental health, troubles of school-age youth, loss, the journey towards loving oneself, and individualism. Their work features references to literature and psychological concepts and includes an alternative universe storyline. The group have staged several world tours.]',\n",
       " '[The group initially formed as teenagers under Big Hit Entertainment and released their debut single album, 2 Cool 4 Skool (2013). Subsequent work such as their first U.S. Billboard 200 entries The Most Beautiful Moment in Life, Part 2 (2015), The Most Beautiful Moment in Life: Young Forever (2016), and Wings (2016) helped establish BTS\\' reputation as a socially conscious group. Wings became BTS\\' first album to sell one million copies in South Korea. By 2017, BTS crossed into the international music market, leading the Korean Wave into the United States and breaking numerous sales records, becoming the first Korean group to receive a certification from the Recording Industry Association of America (RIAA) for their single \"Mic Drop\". The band is the first Korean act to top the Billboard 200 with their studio album Love Yourself: Tear (2018) and have since hit the top of the U.S. charts with their albums Love Yourself: Answer (2018) and Map of the Soul: Persona (2019), making BTS the first group since the Beatles to earn three number one albums in less than a year. Love Yourself: Answer also broke South Korea\\'s Gaon Album Chart\\'s all-time monthly record previously set by Love Yourself: Tear and became the first Korean album certified Platinum in the United States.]',\n",
       " '[According to the Gaon Music Chart, BTS has sold sixteen million albums domestically in physical sales and is the best-selling artist to debut in the 2010s.[4] They hold the best-selling album in Korean history with Map of the Soul: Persona. BTS were the second best-selling artists of 2018 worldwide according to the IFPI\\'s Global Artist Chart, as well as the only non-English speaking artist to enter the chart. The group has won Top Social Artist three years in a row and Top Duo/Group at the 26th Billboard Music Awards. Featured on Time\\'s international cover as \"Next Generation Leaders\", BTS has appeared in the magazine\\'s 25 most influential people on the internet (2017–2019) and Time\\'s 100 most influential people in the world (2019), with the outlet giving them the nickname \"Princes of Pop\". Forbes Korea named BTS the most influential celebrities of Korea in 2018, and BTS ranked 43rd in the Forbes Celebrity 100 (2019) as one of the world\\'s top-earning celebrities. BTS are ranked #4 of Billboard\\'s Top Social Artist of the 2010s, and are the highest group on the list. During their Love Yourself World Tour, BTS became the first Asian and first non-English speaking act to headline and sell out Wembley Stadium; and broke the record for the single highest-grossing engagement in Rose Bowl Stadium history. Billboard ranked BTS at #45 on their Top Touring Artists of the 2010s list, being the highest-ranked Asian as well as the only non-English speaking act on the list. As of 2019, BTS are purportedly worth more than $4.65 billion to South Korea\\'s economy each year, or 0.3 percent of the country\\'s GDP. BTS attracted one in every 13 foreign tourists that visited South Korea and were cited as one of the key acts boosting global music sales to $19 billion in 2018.]',\n",
       " '[Following the establishment of their Love Myself anti-violence campaign in partnership with UNICEF, BTS addressed the United Nations 73rd General Assembly and became the youngest ever recipients of the Order of Cultural Merit from the President of South Korea due to their contributions in spreading Korean culture and language.]',\n",
       " '[The group\\'s name, BTS, stands for the Korean expression Bangtan Sonyeondan (Korean:\\xa0방탄소년단; Hanja:\\xa0防彈少年團), literally meaning \"Bulletproof Boy Scouts\". According to member J-Hope, the name signifies the group\\'s desire \"to block out stereotypes, criticisms, and expectations that aim on adolescents like bullets\".[5][6] In Japan, they are known as Bōdan Shōnendan (防弾少年団), which translates similarly.[7] In July 2017, BTS announced that their name would also stand for \"Beyond the Scene\" as part of their new brand identity.[8] This extended their name to mean \"growing youth BTS who is going beyond the realities they are facing, and going forward.\"[9]]',\n",
       " '[BTS began its formation in 2010 after Big Hit Entertainment CEO Bang Si-hyuk met with group leader RM and was impressed with his rapping.[10] BTS was originally supposed to be a hip-hop group similar to YG Entertainment\\'s 1TYM,[11] but between their initial formation and their debut, Bang Si-hyuk decided that the contemporary youth needed instead \"a hero who can lend them a shoulder to lean on, even without speaking a single word\".[12] The group was meant to debut in 2011 and featured on several tracks by artists such as 2AM and Lee Seung-gi before their debut was postponed and the group was reorganized into a more traditional idol group.[13] The lineup was then finalized with Jin, Suga, J-Hope, RM, Jimin, V, and Jungkook in 2012. Six months prior to their debut, they began to gain attention for their presence on various social media websites, as well as song covers on YouTube and SoundCloud.[14][15]]',\n",
       " '[—Suga[16]]',\n",
       " '[On June 12, 2013, BTS released their debut single album 2 Cool 4 Skool, the first installment in their \"school trilogy\" series, simultaneously with its lead single \"No More Dream\", which peaked at number 124 in Korea before quickly falling off the charts.[17][18] While the album peaked at number five in South Korea and eventually sold over 145,000 copies,[19] it was not a major hit, selling only 24,000 copies in 2013.[20] Their subsequent single “We Are Bulletproof Pt. 2” failed to chart. In 2 Cool 4 Skool, BTS employed an old-school hip-hop sound with scratches from the 1980s-90s and excessively fierce visuals.[21] From their inception, BTS was convinced that telling their story was the only way for the younger generation to relate to their music.[22] The lyrics of the album primarily reflected on the misunderstanding and prejudice towards them, criticism of the society that diminishes their dreams, and their anxiety and determination towards their future.[21] During the production of the album, Suga and RM rewrote the lyrics of “No More Dream” more than 20 times.[22] The single album\\'s release was followed by several appearances on Korean music shows.[23][24] Despite being unpolished, these early live performances demonstrated BTS\\' potential with their intense and charismatic stage presence.[23] Expanding their endeavors to Japan, \"No More Dream\" was later re-recorded in Japanese and released in June 2014.[25]]',\n",
       " '[In September 2013, BTS released the second part to their \"school trilogy,” the extended play O!RUL8,2?, along with its single \"N.O,” which peaked at number 92 in Korea.[26] The EP peaked at number four in Korea and has sold over 160,000 copies to date, including 34,000 copies in its release year.[27] Musically, BTS did not fundamentally change their sound as compared with 2 Cool 4 Skool, utilizing fiery rapping along with trap beats, brass, and soulful melodies. Lyrically, the EP expanded on the theme of dreams and happiness, revealing their frustration under the harsh Korean education system and their determination to confront the struggle of proving themselves.[28] Despite several performances on Korean music shows, the single quickly fell off the charts.[29] That same month, BTS starred in their own variety show, SBS MTV\\'s Rookie King Channel Bangtan, based on a fake broadcast station, \"Channel Bangtan\", through which members parodied variety shows such as VJ Special Forces and MasterChef Korea.[30] At the end of the year, BTS was recognized with several New Artist of the Year awards, including the 5th Melon Music Awards, 28th Golden Disc Awards and the 23rd Seoul Music Awards.[31]]',\n",
       " '[The last act to their \"school trilogy\", the EP Skool Luv Affair,[32] was released in January 2014 and topped the Gaon Album Chart, selling 100,000 copies in 2014 and over 250,000 copies overall.[33] It also marked BTS’ first appearance on Billboard\\'s World Albums Chart, peaking at number three.[32][34] The album was supported by the singles \"Boy in Luv\" (Korean: 상남자; RR: Sang-namja) and \"Just One Day\" (Korean: 하루만; RR: Haruman), which peaked at number 45 and number 149 in Korea, respectively.[35] While Skool Luv Affair musically retained much of their hip-hop influences with the incorporation of R&B and hard rock, the album coincided with a thematic shift from dreams and happiness to love, focusing on school-age and youthful love.[36] Following Skool Luv Affair’s release, BTS made several appearances on Korean music shows and held their first fan meeting that March with an audience of 3,000 fans in Seoul.[37][38] That July, BTS held their first concert in the United States in West Hollywood for free to an audience of 200 fans.[39] In August, the group also made their first appearance at KCON in Los Angeles.[40]]',\n",
       " '[In August 2014, BTS released their first Korean studio album, Dark & Wild, which peaked at number two in Korea and sold over 200,000 copies total.[41] It was supported by two singles: \"Danger\" and \"War of Hormone\" (Korean: 호르몬 전쟁; RR: Horeumon Jeonjaeng), which peaked at number 58 and number 173 in Korea, respectively.[42] The album served as a narrative extension of the “school trilogy” and a transition into their next series. Musically, the album fused the grungy electric guitar sounds of rock within the framework of hip-hop and continued to expand their sound towards R&B. The central theme of the album\\'s lyrics focused on expressing the sentiments of maturing, youthful desires, and impatience for romance.[43] During production of the album, BTS recorded their single \"Danger\" in a makeshift studio in a garage in Los Angeles.[44] Following several appearances on Korean music shows,[45] BTS embarked on their first concert tour, 2014 BTS Live Trilogy Episode II: The Red Bullet, from October to December, held in various halls and theaters in six cities: Seoul, Kobe, Tokyo, Manila, Singapore, and Bangkok.[46]]',\n",
       " '[Their first Japanese studio album, Wake Up (2014), released that December, peaked at number three on the weekly Oricon Albums Chart and sold 28,000 copies.[47] Along with re-recorded Japanese versions of older songs, it also contained the original tracks \"Wake Up\" and \"The Stars.\"[48] In support of the album, BTS held their 1st Japan Tour 2015 Wake Up: Open Your Eyes in February 2015 to an audience of 25,000 fans in four cities.[49] After ending their Japan tour, BTS held their second solo concert in Korea, BTS Live Trilogy Episode I: BTS Begins, in March to a crowd of 6,500 fans.[50]]',\n",
       " '[Shifting their sound and image from solely aggressive, masculine hip hop to more diverse styles,[51] BTS wanted to express the beauty and anxiousness of \"youth\" and settled on the title of \"花樣年華\" (Korean: 화양연화; RR: Hwayangyeonhwa), loosely interpreted to define \"youth\" as \"the most beautiful moment in life.\"[52] Their third EP, The Most Beautiful Moment in Life, Part 1 (March 2015), explored the growth and emotional agony of youth as well as its playful and uplifting sides.[51] Fuse included it as the only Korean album on their list of the \"27 Best Albums of 2015 So Far.\"[53] The EP has sold over 415,000 copies to date.[54] Its lead single \"I Need U\" was BTS\\' first top five hit in Korea[55] and garnered BTS first ever music show win on SBS MTV\\'s The Show.[56] While its second single, \"Dope (Korean: 쩔어; RR: Jjeoreo)\", only peaked at number 44 in Korea,[57] it peaked at number three on Billboard\\'s World Digital Songs Chart[58] and became their first music video to accrue over 100 million views on YouTube in October.[59] The group began the world tour extension of their Red Bullet Tour in June, titled 2015 Live Trilogy Episode II: The Red Bullet, visiting cities throughout Asia, Oceania, North America, and Latin America.[46] Their fourth Japanese single, \"For You\", was released on June 17 to celebrate the first anniversary of their Japanese debut and topped Oricon\\'s daily chart, selling over 42,000 copies within its first day.[60] BTS later performed at Japan\\'s Summer Sonic Festival on August 15 and 16.[61][62]]',\n",
       " '[In November, BTS commenced their third concert tour, 2015 BTS LIVE \"The Most Beautiful Moment in Life: On Stage\", debuting their new song and the lead single from their fourth EP The Most Beautiful Moment in Life, Part 2, \"Run\", during the Seoul dates.[63] Thematically, the EP focused more on the serious and speculative aspects of youth, touching on the pursuit of success, loneliness, affection for their origins, and the suffering of the younger generation due to unfavorable conditions in current society. Critically, it was praised as the successful merging of the style of The Most Beautiful Moment in Life, Part 1 with BTS\\' initial identity.[64] The album topped the weekly Gaon Album and Billboard World Albums charts and BTS became the first K-pop act to remain atop the latter for multiple weeks.[65][66] It also marked their first appearance on the Billboard 200 chart, peaking at number 171 with over 5,000 copies.[67] BTS were awarded Best World Performer at the 17th Mnet Asian Music Awards in recognition of their international fan base.]',\n",
       " '[Their first Korean compilation album and the finale to their \"youth series\", The Most Beautiful Moment in Life: Young Forever, was released in May 2016. It included three new singles: the top 40 hit \"Epilogue: Young Forever\", the top 10 hit \"Fire\" (Korean: 불타오르네; RR: Bultaoreune), and the top 20 hit \"Save Me\".[68][69] The album topped Gaon Weekly Chart in Korea for two consecutive weeks and peaked at number 107 on the U.S. Billboard 200.[70][71][72] The Most Beautiful Moment in Life: Young Forever later won BTS\\' first major Korean award for Album of the Year at the 8th Melon Music Awards.[73] BTS embarked on their Asia tour extension, 2016 BTS LIVE \"The Most Beautiful Moment in Life On Stage: Epilogue\", from May to August, visiting 10 cities and performing to 144,000 fans.[74] During their tour, BTS held a landmark two-day concert at the Olympic Gymnastics Arena in Seoul in May,[75] and performed as first time headliners at both U.S. KCON shows held that year in Newark (June) and Los Angeles (July), to sold-out audiences.[76][77] In line with their other successes, they became the first K-pop group to receive their own Twitter emoji in May 2016.[78]]',\n",
       " '[In September 2016, BTS released their second Japanese studio album Youth.[79] It sold over 44,000 copies on its first day of release and peaked at number one in Japan.[80] Pre-orders for their second Korean studio album Wings, released in October 2016, accumulated over 500,000 copies within the first week.[81] Wings combined the themes of youth presented in their previous \"youth series\" with temptation and adversity and, for the first time as a major group effort, included seven solo tracks that demonstrated each members\\' potential and individuality as independent musicians.[82] The album was generally well-received by critics, with Rolling Stone naming it \"one of the most conceptually and sonically ambitious pop albums of 2016,\"[83] while Fuse praised the \"vulnerable and honest song material\" and diverse tracks.[84] The lead single \"Blood Sweat & Tears\" achieved a music chart \"all-kill\" in South Korea[85] and became their first number one hit on the weekly Gaon Digital Chart.[86] Its music video gained over 6 million views within 24 hours, breaking the previous record held on YouTube for the highest number of views of a K-pop group music video within 24 hours.[87] Wings opened at number 26 on the U.S. Billboard 200, the highest chart ranking ever for a K-pop album,[88] and BTS became the first Korean group to top the Billboard Social 50 chart that month.[89] It was their first \"million seller\" album,[90] moving over 1.5\\xa0million copies in South Korea that year and became the best-selling album in Gaon Album Chart history at the time.[91] BTS were the first artist not from a \"Big Three\" entertainment company (SM, YG and JYP) to win Artist of the Year at the 18th Mnet Asian Music Awards in December.[92][93]]',\n",
       " '[In February 2017, BTS released the repackaged edition of Wings (2016), entitled You Never Walk Alone. Pre-orders of the repackage reached over 700,000 copies, breaking the record for most albums sold in a month.[94][95] The repackage included an additional four tracks that offered consolation and encouragement to its listeners.[96] Its lead single, \"Spring Day\" (Korean: 봄날; RR: Bomnal) met critical praise as \"an intelligent, compelling and elegantly restrained study of loss and longing\" that \"deliberately avoids cliché pomp and drama\" by Dazed Digital.[97] Embodying nostalgia and sorrow, it opened a new chapter in BTS\\' aesthetics and lyricism and attracted fans across generational boundaries.[82] Upon release, \"Spring Day\" topped eight of the major South Korean online music charts, as well as Gaon,[98][99] and crashed Melon\\'s digital chart due to the high influx of user traffic.[100] It also entered the U.S. Billboard\\'s Bubbling Under Hot 100 singles chart at number 15 with \"zero promotions.\"[101] As evidence of its staying power, \"Spring Day\" is the longest-charting song on Melon by an idol group to date.[102] \"Spring Day\" later won Best Song of the Year at the 9th Melon Music Awards.[103][104]]',\n",
       " '[In conjunction with the release of You Never Walk Alone, BTS commenced their second world tour, 2017 BTS Live Trilogy Episode III: The Wings Tour, from February to December. The tour visited 12 countries including Brazil, Australia, Japan, Hong Kong, and the United States and gathered 550,000 fans.[105] On the tour, BTS began to play progressively larger venues, moving from halls into arenas and domes. Tickets for the North American leg sold out within minutes and two additional shows were added due to high demand, making BTS the first K-pop act to sell out arenas in the United States.[106][107] After completing their North American leg, BTS attended the 24th Billboard Music Awards in May and won Top Social Artist, becoming the first Korean group awarded a Billboard Music Award.[108]]',\n",
       " '[Celebrating Korean music icon Seo Taiji\\'s 25th anniversary as a part of his anniversary project \"Time: Traveler\", BTS released a remake of Seo Taiji\\'s 1995 classic \"Come Back Home\" in July 2017, reworking the sound and lyrics to similar sentiments toward societal change that Seo Taiji argued for in his songs.[109] BTS was later invited by Seo Taiji to perform as backup vocalists and dancers for eight songs in his Seoul Olympic Stadium concert held early September. During the concert, Seo Taiji acknowledged BTS\\' thematic similarities to his music and recognized the group as his musical successors, declaring, \"This is your generation now. Show them.\"[110][111]]',\n",
       " '[Following the depiction of growth and temptation in Wings (2016) and consolation in You Never Walk Alone (2017), BTS embarked on their \"Love Yourself\" series which sought the enlightenment of self-love through the \"起承轉結\" (Korean: 기승전결; RR: Giseungjeongyeol) narrative sequence of \"beginning, development, turn, and conclusion.\"[112] In September 2017, BTS released the first part of the series, their fifth EP, Love Yourself: Her[113] and featured music from the Chainsmokers\\' Andrew Taggart for the track \"Best of Me\".[114] The EP was supported by two singles: the lead single \"DNA\" and a Steve Aoki remix of their song \"Mic Drop\" featuring American rapper Desiigner. In the narrative sequence, the EP represented the \"承,\" or \"development\" of the series and is considered by RM to be one of the major turning points in BTS\\' career.[115] Within the larger narrative, Love Yourself: Her described the joy and happiness of falling in love.[112] Sonically, the EP served as \"a dual exploration of the group\\'s electro-pop and hip-hop leanings,\" with the first half consisting of “dance tracks that emphasize the group\\'s vocals\" while in the second half \"the act\\'s hip-hop side arrives in earnest...delivering powerful rap performances.\"[116]]',\n",
       " '[Commercially, BTS continued to hit new career heights with the Love Yourself: Her EP, debuting at number seven on the Billboard 200 with 31,000 album-equivalent units.[117] In Korea, the EP sold over 1.2\\xa0million copies on the Gaon Album Chart in its first month, achieving the highest monthly album sales in the chart\\'s history and the highest on any Korean chart in 16 years, second to g.o.d\\'s Chapter 4 album in 2001.[118] The single \"DNA\" was released simultaneously with the EP and debuted at number two in Korea. Its music video broke the previous record for most viewed K-pop group music video within the first 24 hours with more than 20 million views on YouTube.[119] \"DNA\" also became the group\\'s first entry on the Billboard Hot 100 at number 85, making BTS the first K-pop boy band to do so and the second Korean act with a Korean-language song.[120] The following week, \"DNA\" rose to number 67 and became the highest-charting song on the Billboard Hot 100 for a K-pop group, beating Wonder Girls\\' previous record at number 76.[121] The following single \"Mic Drop (Remix)\" peaked at number 28 on the Billboard Hot 100, becoming the first top 40 entry for a K-pop group on the chart.[122][123] Both \"Mic Drop Remix\" and \"DNA\" were later certified Gold[124] by the Recording Industry Association of America (RIAA)[125] making BTS the first and only Korean artist to receive two certifications.[126] \"Mic Drop\" went on to receive Platinum certification in November 2018, making BTS the first Korean group with a Platinum-certified single in the United States.[127] In December 2017, \"DNA\" and \"Mic Drop\" were released as a triple-A side single in Japan with the new song \"Crystal Snow\",[128] which topped the Oricon Chart[129] and became the highest-selling single from a K-pop artist within a week.[130] The single sold more than 380,000 copies by the end of the year and BTS became the only foreign artist to have a single certified double platinum by the RIAJ that year.[131][132][133][134][135]]',\n",
       " '[In November 2017, BTS became the first K-pop group to perform at the American Music Awards,[136][137] raising their profile internationally.[138][139] That same month, Guinness World Records revealed that BTS had earned a spot in their 2018 edition for \"having the world\\'s most Twitter engagements for a music group\".[140] In December, they also became the first K-pop group to perform on Dick Clark\\'s New Year\\'s Rockin\\' Eve to welcome the new year[141] and made their Japanese TV music show debut on TV Asahi\\'s Japan Music Station Super Live.[142] At the end of the year, BTS won their second Artist of the Year at the 19th Mnet Asian Music Awards,[143] becoming the first act to win the award two years in a row.[144][145] They also became the first artist outside of the \"Big Three\" to win major awards at the Golden Disc Awards[146] and the Seoul Music Awards, respectively.[147]]',\n",
       " '[In the lead up to their next album, BTS released an original eight-episode documentary series exclusively on YouTube Premium entitled Burn the Stage that ran from March until May 2018, offering a behind-the-scenes look at the group\\'s 2017 Wings Tour.[148][149] In April, the group also released their third Japanese studio album, Face Yourself,[150] which debuted at number 43 on the Billboard 200 as the third-highest-charting Japanese album in the history of the chart.[151] In conjunction with the release of Face Yourself, the group released a nine-minute short film titled \"Euphoria: Theme of Love Yourself: Wonder,\" which featured the song \"Euphoria\" and embodied the \"起\" or \"beginning\" of the narrative sequence.[152]]',\n",
       " '[In May 2018, BTS released their third Korean-language studio album, Love Yourself: Tear in conjunction with an appearance at the 25th Billboard Music Awards.[153] At the show, BTS debuted as performers with the premiere of their lead single, \"Fake Love\"[154] and won Top Social Artist, making them the only Korean artist to win the award two years in a row.[155][156] In the narrative sequence, the album coincided with the \"轉\" or \"turn\" of the series, touching on the tortuous enlightenment of loving without being loved and encouragement to those without dreams.[157] It received generally positive reviews from critics. Caitlin Kelley from Billboard  described the album as \"one of their most thematically cohesive yet sonically varied albums, with maximalist production erupting against lyrics about emptiness,\"[158] while Sheldon Pearce of Pitchfork wrote that the album \"formula is a slick, loosely thematic album about love and loss, with a stronger focus on rapping than ever before\" and that it \"aims for cohesion and produces fun, prismatic songs in the process.\"[159]]',\n",
       " '[Commercially, Love Yourself: Tear was one of BTS\\' most successful albums, bringing them to new heights both domestically and internationally. The album debuted at number one on the U.S. Billboard 200 with 135,000 album-equivalent units (including 100,000 pure album sales), becoming BTS\\' highest-charting and first number one album in the US, the first K-pop album to top the U.S. albums chart, and the highest-charting album by an Asian act.[160][161] Love Yourself: Tear also became BTS\\' first top ten hit in the United Kingdom, reaching number eight on the UK Albums Chart.[162] Their single \"Fake Love\" became their first top ten hit at number 10 on the Billboard Hot 100, becoming the seventeenth non-English song to reach the top ten and the first by a Korean group.[163][164] \"Fake Love\" later became their third single to attain Gold certification by the RIAA that August.[165] In South Korea, Love Yourself: Tear sold over 1.6 million copies in its first two weeks, making it the highest monthly sales for an album since the Gaon Chart\\'s inception at that time.[166]]',\n",
       " '[As the conclusion of the Love Yourself series, BTS released their second Korean compilation album Love Yourself: Answer in August 2018,[167] which contained songs from the previous Love Yourself releases along with seven additional new tracks.[168] The album was supported by the lead single \"Idol\" and the alternative digital release featuring Nicki Minaj.[169][170] Thematically, Love Yourself: Answer placed the songs of the Love Yourself series within the narrative of beginning, development, turn and conclusion to illustrate the excitement of love, the pains of farewell, and the enlightenment of self-love.[171] Critically, the album received generally positive reviews, with Billboard calling it a \"masterful culmination of years of work and rife with meaning\" and \"undeniably a magnum opus from BTS that that few other artists, boy bands or otherwise, ever can hope to achieve.\"[172]]',\n",
       " '[Commercially, the record sold over 1.9 million copies on the Gaon Album Chart in August 2018, breaking the chart\\'s all-time monthly record once again.[173] The album became BTS\\' second number-one album on the U.S. Billboard 200 and their highest sales week in the country at that time,[174] making BTS the only K-pop act with two Billboard 200 toppers and the first pop act with two number one albums in less than a year since One Direction topped the chart with Midnight Memories in 2013 and Four in 2014.[174] Love Yourself: Answer later became the first Korean language album to be certified Gold by the RIAA in November.[127] In Canada, Love Yourself: Answer  became the band\\'s first number-one album on the Canadian Albums Chart. In the United States, \"Idol\" peaked at number 11 on the Billboard Hot 100.[175] The single \"Idol\" also reached number five on the Canadian Singles Chart, marking BTS\\' first top-ten hit in Canada.[176] The music video for \"Idol\" received over 45 million views in its first 24 hours on YouTube, breaking the record previously set by Taylor Swift with \"Look What You Made Me Do\".[177]]',\n",
       " '[In conjunction with Love Yourself: Answer\\'s release in August 2018, BTS commenced their third world tour, BTS World Tour: Love Yourself, with a landmark concert in the Seoul Olympic Stadium, the largest stadium in South Korea.[178] During their tour, BTS also featured on Steve Aoki\\'s single \"Waste It On Me\" released that October, which was their first and only all-English language feature.[179][180] On tour, BTS continued to play to progressively larger venues from arenas to domes to stadiums. For the final stop of the North American leg, the band performed at Citi Field in Queens, marking the first time a Korean act has performed at a U.S. stadium.[181] All 40,000 tickets for the stadium date sold out in under 20 minutes.[182] According to StubHub BTS was one of 2018\\'s best-selling concerts in international markets outside the US, second to only Ed Sheeran.[183] Vivid Seats named BTS the 2018 artist of the year, citing the group\\'s history-making concert at Citi Field.[184] The tour also received generally positive reviews from critics. Philip Cosores from Uproxx described BTS\\' four nights at the Staples Center as an \"enormous, multi-sensory experience\" bringing an \"inclusive\" and \"multicultural experience\" where music is above any language barrier,[185] while Crystal Bell from MTV said \"BTS have created an experience so captivating, so inclusive, and so visually stunning that it’s cemented the boy band as one of the most vital acts in pop music today.\"[186] That October, with more than a year remaining in their contract, BTS renewed their contract with Big Hit Entertainment through 2026.[187]]',\n",
       " \"[In early November 2018, a popular Japanese music show cancelled BTS' performance citing a T-shirt a member wore the year before.[188] In the same month the Jewish human rights organization Simon Wiesenthal Center (SWC) stated BTS owed victims an apology for the shirt in 2017, clothing with Nazi symbolism, and a flag.[189] Big Hit Entertainment issued an apology, saying that the images on the clothing were not intended to be hurtful to the victims of Nazism or atomic bombings, and that the band and management would take steps to prevent future mistakes. They also stated the flags were meant to be a commentary on the Korean school system.[190] The apology was accepted by SWC and the Korean Atomic Bomb Victim Association.[191][192]]\",\n",
       " '[Crossing over to film, BTS released Burn the Stage: The Movie in theaters worldwide in November 2018 to commercial success. In the United States it accumulated $1.2 million on opening day for a total of $3.54 million over the three day weekend, breaking the record for the highest grossing event cinema musical production which was previously set in 2014 by the band One Direction. It ranked at number ten in the box office despite selling at only 620 locations compared to the 2,000-4,000 locations for the other top ten sellers.[193]]',\n",
       " '[At the end of the year, BTS won their third Artist of the Year at the 20th Mnet Asian Music Awards in a row and ranked number eight on Billboard\\'s year-end Top Artist Chart alongside the likes of Drake and Taylor Swift and were also the number two act of the year in the Duo/Group ranking, only behind Imagine Dragons.[194][195] They also made the Bloomberg 50 due to their \"willingness to address social issues, mental health, and politics, despite being in a genre often painted as bubble gum pop\".[196] The group sold more than ten millions albums in South Korea alone, with five million being sold in 2018 alone.[197]]',\n",
       " '[In February 2019, BTS attended the 61st Grammy Awards as award presenters.[198][199] It was their first time attending the event following an appearance by the group at the LA Grammy Museum in 2018.[200][201]]',\n",
       " '[In April, BTS became the first Asian act to surpass 5\\xa0billion streams on Spotify,[202] and Time named them as one of Time 100\\'s most influential people of 2019.[203] Their sixth EP, Map of the Soul: Persona, was released on April 12 with the lead single \"Boy With Luv\" (Korean: 작은 것들을 위한 시; RR: Jageun geotdeureul wihan si), featuring American singer Halsey.[204] The EP\\'s release was followed by a performance on Saturday Night Live, as the first Korean act to do so.[205] The group\\'s appearance was anticipated as one of the biggest in the show\\'s history.[206] Commercially, BTS reached new career heights. Map of the Soul: Persona became the first Korean-language album to reach the number one position in both the UK and Australia[207][208] and the group\\'s third consecutive album to top the Billboard 200 and the third within eleven months, joining the likes of the Beatles, who achieved the same in 1995–96. BTS are also the fastest group to get three number one albums since The Monkees in 1967.[209] The EP became the best selling physical album in the US for the year of 2019, with 312,000 physical sales.[210] Map of the Soul: Persona later became the best-selling album ever in South Korea, with more than 3.2 million sales in less than a month. Prior to BTS, the best-selling were dominated by late 90\\'s albums, making BTS the only act formed after 2000 to be featured in the top 10 best-selling list.[211] \"Boy With Luv\" debuted at number 8 on the Billboard Hot 100, the highest in history for a Korean group,[212] and its music video became the most-viewed online video within the first 24 hours as of 2019[update], accumulating more than 74.6 million views.[213] \"Boy With Luv\" was certified in multiple countries, including Australia where it was certified Gold for selling 35,000 units,[214] and the US where the RIAA certified it Platinum for selling over one million units.[215] Map of the Soul: Persona also attained Silver in the UK and Gold in France, selling over 60,000 units and 50,000 units respectively.[216][217]]',\n",
       " \"[Following their two wins at the 26th Billboard Music Awards in May, including for Top Duo/Group, BTS embarked on their world tour stadium extension, Love Yourself: Speak Yourself, with dates in multiple stadium venues including Wembley Stadium, Stade de France, MetLife Stadium, Rose Bowl, and Soldier Field.[218] With this they became the first Asian and first non-English speaking artist ever to headline and sell out Wembley Stadium.[219][220] Their concerts at Rose Bowl had broken the record for highest-grossing single engagement in the venue's Boxscore history, surpassing Taylor Swift's and U2's previous dates there.[221] All dates sold out within two hours, with second dates for all venues added due to the high demand.[222] During the tour, BTS performed on The Late Show with Stephen Colbert[223] and kicked off Good Morning America's 'Summer Concert Series' as headliners at Central Park in Manhattan.[224] They also performed on the finale episode of The Voice[225] and one of the semi-finals of Britain's Got Talent.[226]]\",\n",
       " '[In the lead up to the release of their new mobile game BTS World set for June 2019, BTS released three collaboration singles, \"Dream Glow\" featuring English singer Charli XCX,[227] \"A Brand New Day\" with Swedish singer Zara Larsson,[228] and \"All Night\" featuring American rapper Juice Wrld.[229] The band also released the song \"Heartbeat\" with a music video from the game\\'s official soundtrack, titled BTS World: Original Soundtrack.[230] The soundtrack was later certified Double Platinum by Gaon on August 8 for surpassing 500,000 copies sold, the first soundtrack album to receive the certification since Gaon implemented it last year.[231] Developed by South Korean company Netmarble, the game was released on June 26 to iOS and Android systems in over 175 countries.[232] BTS released their tenth Japanese single \"Lights\" on July 3.[233] Pre-orders for the double A-side single surpassed 1 million copies, breaking a 24-year-old record for foreign artists previously held only by Celine Dion with her 1995 single \"To Love You More\", and marked the first time a Korean artist achieved a million shipment for a single in Japan.[234][235] \"Lights\" went on to sell over one million copies and received Million certification by the RIAJ on August 8, the first time a male act achieved this since Masafumi Akikawa\\'s August 2007 single, \"A Thousand Winds\". It is BTS\\' first million certification in Japan since their debut.[236]]',\n",
       " \"[Love Yourself: Her and Love Yourself: Tear both crossed 2 million copies in August,[237] and Love Yourself: Tear was awarded Double Million certification by Gaon. It is BTS' second album to do so following Love Yourself: Answer's certification in October 2018.[238][239] All three albums of the Love Yourself series have sold more than 2 million copies each in South Korea. Love Yourself: Tear later attained Silver in the UK, becoming their third album to be attain this certification following Love Yourself: Answer and Map of the Soul: Persona.[240]]\",\n",
       " '[In October, BTS performed at King Fahd International Stadium in Riyadh, becoming the first foreign act to perform  a solo concert in Saudi Arabia.[241] For the final stop of their record-breaking Love Yourself: Speak Yourself World Tour, the band held a run of three sold-out nights at Seoul\\'s Olympic Stadium to close this chapter of their story.[242] According to Billboard\\'s year-end Boxscore charts, the group grossed over $196 million and played to more than 1.6 million people across 42 shows in the chart period ranging from November 1, 2018 to October 31, 2019 and ranked third overall on the year-end Top 40 Tours chart behind Ed Sheeran and Pink.[243] The group outgrossed legacy rock acts like the Rolling Stones, Metallica, and KISS, as well as fellow boy band the Backstreet Boys, making them the top-grossing touring group of 2019.[244] That same month, the group released a remix version of the song \"Make It Right\" featuring American singer Lauv as the second single from their album Map of the Soul: Persona.[245]]',\n",
       " '[In November, BTS became the first K-pop group to win the Favorite Duo or Group – Pop/Rock  at the 2019 American Music Awards and the Favourite Social Artist award consecutively in 2018 and 2019.[246]]',\n",
       " \"[In December, they attended both the 2019 Melon Music Awards and 2019 Mnet Asian Music Awards. The group became the first artist in the history of K-pop to receive all grand prizes from both ceremonies; getting four from each award show.[247][248][249] At the end of the year, BTS ranked number fifteen on Billboard's year-end Top Artist Chart and were also the number two act of the year in the Duo/Group ranking, only behind Jonas Brothers.[250][251] They were named as 2019 Hitmakers Group of the Year by Variety.[252] They were also the most tweeted-about musicians of 2019.[253] On December 31, 2019, BTS performed in New York City's Times Square for ABC's Dick Clark's New Year's Rockin' Eve.[254] At the 34th Golden Disc Awards, BTS became the first artists in history to win grand prizes in both the physical and digital categories in a single year.[255] Map of the Soul: Persona was named the second best-selling physical album of 2019 in the U.S. by Nielsen Music only behind Taylor Swift's Lover and was ranked sixth overall on the chart of Top 10 Albums (Total Sales) in the U.S.[256] BTS wrapped 2019 as the fourth most successful group on Billboard's Top Billboard 200 Artists - Duo/Group ranking, only behind Queen, Imagine Dragons and The Beatles.[257]]\",\n",
       " '[On January 7, 2020, Big Hit Entertainment announced that BTS will release their fourth Korean-language studio album, Map of the Soul: 7, on February 21 with two singles.[258] On January 10, BTS released a trailer for the album featuring Suga\\'s solo track \"Interlude: Shadow\".[259] On January 17, BTS released the single \"Black Swan\", along with a choreography art film performed by Slovenian-based MN Dance Company.[260][261] The official music video for the lead single will be released on February 28. On January 15, Big Hit announced that according to distributor Dreamus, the album surpassed 3.42 million stock pre-orders in its first seven days from January 9 through January 15. These pre-release numbers surpassed pre-orders of Map of the Soul: Persona which sold  2.685 million preorders in its first five days.[262] On January 21, BigHit announced the Map of the Soul Tour, BTS\\' fourth worldwide concert tour and second stadium tour. The tour would promote their Map of the Soul series, including their Map of the Soul: Persona EP, and Map of the Soul: 7 studio album.[263] On January 23, the Recording Academy announced that BTS would be performing with Lil Nas X, Billy Ray Cyrus, Diplo, and more in a special segment at the 62nd Annual Grammy Awards, thus making BTS the first Korean act to perform on the Grammy\\'s stage.[264][265][266] \"Idol\" and Love Yourself: Answer received platinum certifications, both selling more than one million certified units in the United States. \"Idol\" became the group\\'s third Platinum single while Answer became the group\\'s first Platinum album, making BTS the first Korean artist to attain this certification in the US.[267]]',\n",
       " '[On February 2, the band released a second comeback trailer for their upcoming album named \"Outro\\xa0: Ego\" featuring J-Hope.[268] On February 6, Forbes reported that Map of the Soul: 7 had surpassed a total of four million pre-orders worldwide.[269] On February 16, BigHit announced that the album would have a total of twenty songs, including a collaboration with Australian singer Sia.[270] Four days before the album release on February 17, Dreamus once again updated the total number of pre-orders to a record-breaking 4.02 million.[271]]',\n",
       " '[BTS have cited Seo Taiji and Boys,[272] Nas, Eminem, Kanye West, Drake, Post Malone, Charlie Puth and Danger as musical inspirations.[273]  They have also cited Queen as an influence, with Suga saying he \"grew up watching videos of Live Aid.” During their concert at Wembley Stadium in London, Jin paid tribute to Queen by leading the crowd in a version of Freddie Mercury’s \"ay-oh\" chant from the band\\'s Live Aid concert.[274][275]]',\n",
       " '[BTS are also influenced by many literary, psychological, artistic, and philosophical mediums. Their album Wings (2016) was inspired by Hermann Hesse\\'s coming of age novel, Demian.[276] Their song \"Blood Sweat and Tears\" references Friedrich Nietzsche\\'s Thus Spoke Zurathustra, Herbert James Draper\\'s The Lament for Icarus, Pieter Bruegel\\'s Landscape with the Fall of Icarus, and Pieter Bruegel\\'s The Fall of the Rebel Angels by quoting Nietzsche and featuring the three aforementioned paintings in the music video.[277] Their \"Spring Day\" music video contains lyrical and visual references to Ursula Le Guin\\'s short story The Ones Who Walk Away from Omelas.[278] The Love Yourself series was primarily influenced by Erich Fromm\\'s The Art of Loving,[279] while their song \"Magic Shop\" from Love Yourself: Tear (2018) was inspired by James R. Doty\\'s memoir Into the Magic Shop.[280] Their 2019 album Map of the Soul: Persona gains its name from Murray Stein\\'s Jung\\'s Map of the Soul: An Introduction.[281]]',\n",
       " '[BTS co-writes, produces, and composes much of their output.[282][283] Since their inception, BTS have developed and maintained a style of \"fusion music\" with an emphasis on hip hop as their musical base[284] largely due to the influence of RM and Suga\\'s background as underground rappers[11] and their main producer Pdogg.[285] Rather than wanting to stick to a specific genre, BTS have introduced brand new elements into their musical repertoire with each new album.[284] BTS\\' sound began with old-school hip hop influences heard on 2 Cool 4 Skool and O!RUL8,2?,[21] but evolved to include R&B and rock with Skool Luv Affair and Dark and Wild,[286][43] orchestral strings and electronic dance music with their The Most Beautiful Moment in Life album series,[64] moombahton, neo soul, and gospel in Wings and You Never Walk Alone,[287][82] and future bass, Latin pop, and jazz hip hop in their Love Yourself album series.[112]]',\n",
       " '[BTS\\' lyrics include social commentary, often incorporating criticism of South Korean society. Songs such as \"No More Dream\" and \"N.O\" from their \"school trilogy\" were motivated by their experiences with South Korea\\'s emphasis on education and called for change to the education system and societal expectations.[288] Their experiences with youth culture in South Korea inspired songs like \"Dope\" and \"Silver Spoon\" (Korean: 뱁새; RR: Baepsae) from their \"youth series,\" referencing generational disparity and the millennial\\'s giving up of romantic relationships, marriage, children, proper employment, homes, and social life in the face of economic difficulties and societal ills while facing condemnation from the media and older generations.[288] The song \"Am I Wrong\" from Wings (2016) questioned societal apathy towards the state of current events—the lyric \"We\\'re all dogs and pigs / we become dogs because we\\'re angry\" referenced the South Korean Ministry of Education official Na Hyang-wook who was a proponent of the caste system and described the average person as \"dogs and pigs,\" and BTS performed the song on television during the 2016 South Korean political scandal that led to the impeachment of ex-President Park Geun-hye.[288] RM and Suga\\'s personal struggles with mental health inspired songs like \"Tomorrow\", \"Intro: The Most Beautiful Moment in Life\", \"So Far Away\", \"The Last\", and \"Forever Rain.\"[289][290] \"Not Today\" from You Never Walk Alone (2017) is an anti-establishment anthem, with messages advocating for minority groups,[291] while \"Spring Day\" was created to memorialize the victims of the Sewol Ferry tragedy.[292]]',\n",
       " '[BTS\\' albums have recurring themes that fall under the overarching theme of \"reflection of youth.\"[9] Their \"school trilogy\" explored \"the troubles and anxieties of school-age youth.\"[293]  Their \"youth series\" \"tackled a subject that the vast majority of youth experience, but few pop musicians articulate well: mental health and the desire to belong in society.\"[293] Wings (2016) focused on temptation and sin.[294] The \"Love Yourself\" series utilized a narrative form to illustrate the excitement of love, the pains of farewell, and the enlightenment of self-love.[171]]',\n",
       " \"[Since their inception, BTS have held the belief that telling their story is the only way for the younger generation to relate to their music.[22] Writing over 90 percent of their lyrics,[295] BTS try to include experiences everyone has felt in life, such as sadness and loneliness, and turn them to something more light and manageable. In regards to their lyricism, RM states he tries to not sound as if they're preaching or reprimanding people in their songs as everyone has different lives and different destinies.[296] When asked if it is difficult to write about things like mental health, Suga responded,]\",\n",
       " '[\"We feel that people who have the platform to talk about those things really should talk more, because they say depression is something where you go to the hospital and you’re diagnosed, but you can’t really know until the doctor talks to you. [...] More and more, I think artists or celebrities who have a voice should talk about these problems and bring it up to the surface.[297]]',\n",
       " '[BTS has been praised for \"speak[ing] honestly about topics they deem important, even in a conservative society\" by Jeff Benjamin in Fuse magazine.[96] South Korean president Moon Jae-in, in a letter to BTS, recognized their sincerity and inclusion of diversity as key to their success, writing, \"Each of the seven members sings in a way that is true to himself and the life he wants to live. Their melody and lyrics transcend regional borders, language, culture, and institutions.\"[298]]',\n",
       " '[BTS have been described as \"easily the biggest and most successful name in K-pop in the world\" that can \"do things no other name in their genre can\",[299] with Time giving them the nickname \"Princes of Pop\".[300] Billboard Senior Vice President Silvio Pietroluongo said that BTS are comparable and as influential to the Beatles and The Monkees.[301] Nielsen Music Vice President Helena Kosinski says that \"although BTS weren\\'t the first to open the doors to K-Pop worldwide, they were the first to become mainstream. They don\\'t just appeal to young people but also to the 50s and 60s age demographic.\"[302] As the first non-English speaking artist to make the Global Artist Chart in 2018, BTS had the second and third best-selling albums worldwide and were the second best-selling artists worldwide in terms of physical, digital, and streaming platforms, coming second only to Drake.[303][304][305] In the United States, BTS accounted for 72.7 percent of the album consumption units generated by K-pop acts in 2018 out of a total of 17 acts.[306] In South Korea, BTS accounted for 41.9 percent of album sales in the first half of 2019, up from their market share of 25.3 percent the previous year.[307] In November 2019, Billboard ranked BTS at #4 on their Top Social Artist of the 2010s list, making them the highest group on the list. BTS was also ranked #45 on Billboard\\'s Top Touring Artists of the 2010s list. They are the highest-ranked Asian act on the list as well as the only non-English speaking act.[308][309]]',\n",
       " '[BTS have been often regarded as \"the biggest boy band in the world\".[310] They have also appeared in various power listings. The most tweeted-about celebrities in the world in 2017 and 2018,[311][312] the band was included in Time\\'s list of the 25 most influential people on the internet from 2017 to 2019,[313] featured on the magazine\\'s October 2018 international edition cover as \"Next Generation Leaders,\"[314] and were listed as one of Time 100\\'s most influential people in 2019.[315] The group was also listed as one of the most influential artists of the decade by CNN, for \"popularizing K-pop in the US\".[316] According to a JoyNews24 \\'Power People of 2019\\' survey among industry professionals, BTS was chosen as #1 with 74 votes, with #2 being Parasite Director Bong Joon-ho with 29 votes.[317] BTS also appeared in Bloomberg Market\\'s 50 most influential in 2018,[318] and Forbes Korea named them the fifth most influential celebrities of Korea in 2017, and the most influential celebrities of Korea in 2018.[319][320] In 2019, BTS ranked 43rd on Forbes\\' annual list of the 100 highest-paid celebrities with earnings of $57 million.[321] BTS also ranked first on the list of \\'Top Rank Global Sustainable Future Leaders\\' during an announcement from the UN-sponsored SDG association at the United Nations headquarters, while BTS\\' fanclub, ARMY, were noted as the \\'Top Rank Sustainable Global group\\'. Other notable people included in this list were Malala Yousafzai and Bill Gates.[322][323] In California, BTS inspired a teacher to have his school be the first in the country to offer a Korean American Culture and Society course.[324] Kang Soojung, exhibition manager at the Museum of Modern and Contemporary Art, said that while preparing the 50th anniversary exhibition called “Square,” she was greatly influenced by BTS\\'s hidden track “Sea\".[325]]',\n",
       " '[The group\\'s influence has led them to address the United Nations at their 73rd General Assembly[326][327] and to perform before 400 officials including South Korean president Moon Jae-in at the 2018 Korea-France Friendship Concert in Paris, a summit meant to show the friendly relations between France and South Korea.[328] Moon Hee-sang, Speaker of the National Assembly, said that \"BTS is doing most of our work,” attributing the results of his overseas trip to the credit of the global group on an overseas trip to promote “sales diplomacy\".[329] In September 2019, president Moon Jae-in also mentioned BTS in his announcement for his \\'3 major innovation strategies for the contents industry\\', stating that BTS has pioneered innovative business models that communicate directly with fans.[330] In October 2019, The Ministry of Culture, Sports and Tourism selected BTS as a recipient for a \\'Letter of Appreciation\\', for showing the world the beauty of Korean traditional culture (Hangul, Hanbok, Gugak) through creative re-interpretations in their music.[331] In December 2019, according to the annual survey conducted by Gallup Korea, BTS were the most preferred artists of 2019 for a second consecutive year.[332] According to the \"2019 South Korean National Image\" survey conducted by the Ministry of Culture, Sports and Tourism and its affiliate the Korean Culture and Information Service among 16 countries, BTS were chosen #2 with 5.5% votes.[333] Despite cultural medals traditionally being given to recipients with more than 15 years of notable achievements, BTS became the youngest ever recipients honored with the Order of Cultural Merit by the President of South Korea in 2018 after five years after debuting, due to their noteworthy contributions in spreading Korean culture and language.[334][335]]',\n",
       " '[BTS have measurably revitalized the Korean economy[336] and the global music industry. Credited for the surge in popularity of online purchases of K-pop items[337] and the growth of the Korean Wave between 2016 and 2018 by the Korea Customs Service and Korea Foundation,[338] BTS were cited as one of the main driving forces for the recovery of South Korea\\'s music-related sector to levels seen before China\\'s 2016 ban on domestic cultural contents over soured diplomatic relations.[339] Yung Duk Kim, vice president and chief operating officer of the Korea Creative Content Agency, stated K-pop has “skyrocketed” since BTS\\' popularity surged, creating jobs not only for BTS and their team but other K-pop idols as well.[340] Various news outlets coined the term the \"BTS effect\" to refer to the commercial effects of BTS\\' influence, such as when KB Kookmin Bank savings accounts increased six-fold compared to the prior year following BTS\\' endorsement and when stock prices of entertainment companies in South Korea shot up for five days after BTS topped the U.S. Billboard 200.[341][342][343] The effect was also observed when companies tied to BTS, such as Netmarble, NetMark, Soribada, Key Shares, GMP, Diffie, and Mattel had their stocks rise.[344][345] In October 2019, Mattel\\'s international gross sales rose 10% to $721.7 million, lifted by sales of dolls based on BTS.[346] Data firm SM2 Networks estimated Hyundai Motor received ₩600 billion ($502 million) in promotional results after commissioning BTS as their promotional models in 2018.[347] The Bank of Korea Economic Statistics System stated that South Korea\\'s BOP for music and entertainment reached $114.7 million in the first quarter of 2019, attributing this to an improved relationship between China and South Korea, and the breakout global success of BTS, particularly in North America.[348]]',\n",
       " '[Signed on as tourism ambassadors in 2017, the Seoul Metropolitan Government credits BTS for the recovery of Seoul\\'s shrinking tourism industry following the 2016 THAAD controversy, bringing in an average of 790,000 tourists to Korea annually.[349] In December 2018, the Hyundai Research Institute estimated that BTS were worth more than $3.67 billion to the Korean economy each year, attracting one in every thirteen foreigners who visited Korea.[350][351] BTS\\' two day fan-meetings held in Seoul and Busan in June 2019 generated a total economic effect of ₩481 billion ($408 million) to both cities, accounting for 1.6% of Busan\\'s 2018 GDP, and 0.9% of Seoul\\'s 2018 GDP.[352] Their three-day concert finale in Seoul for their Love Yourself World Tour in October 2019 was estimated to have an economic value of almost ₩1 trillion ($862 million) and brought in 187,000 foreign visitors to South Korea.[353] As of June\\xa02019[update], BTS\\' economic effect on South Korea is estimated to be over ₩5.5 trillion ($4.65 billion) per year, about 0.3% of South Korea\\'s GDP.[354] This is comparable to Korean Air, the flagship airline of South Korea, who\\'s percent contribution to South Korea\\'s GDP is 0.7%.[355] The 2019 annual ticket sales data released by the Korean online ticketing site, Interpark revealed that BTS\\' world tour \"Love Yourself: Speak Yourself\" concert at the Seoul Olympic Stadium ranked No.1, with BTS topping the ticket sales for the second consecutive year on Interpark.[356][357] Outside of South Korea, BTS\\' concerts at Wembley Stadium were estimated to have brought around ₩100 billion ($82 million) as a direct economic effect to the city of London.[358] After BTS went to Malta for their show, \\'Bon Voyage 3\\', the Malta Tourism Authority reported a 237% increase of Korean tourists visiting the country, crediting BTS as the reason for the increase.[359] Along with Ariana Grande and Drake, BTS were credited as a key act boosting global music sales to $19 billion in 2018. Such profit had not been seen since 2006 after digital purchases gained momentum.[360]]',\n",
       " '[BTS\\' work has influenced numerous artists, including (G)I-dle,[361] D-Crunch\\'s Hyunho,[362] The Boyz\\' Younghoon and Hwall,[363] SF9\\'s Zuho,[364] Euna Kim,[365] Golden Child\\'s Jaehyun,[366] Wanna One,[367] IN2IT,[368] Park Ji-hoon,[369] Kim Dong-han,[370][371] Seven O\\'Clock,[372] Hyeongseop X Euiwoong,[373] Noir,[374] Victon\\'s Sejun and Byungchan,[375] and Loona.[376] After BTS released their single \"Idol,\" the National Gugak Center had to expand the amount of Korean instrument sounds available due to increased demand from Korean and foreign producers alike.[377] K-pop idol groups also began changing the themes of their lyrics from love stories to words such as \"looking for myself\" following BTS\\' \"Love Yourself\" era and RM\\'s speech at the United Nations.[378]]',\n",
       " '[BTS has received many awards and honors, including 24 Mnet Asian Music Awards, 23 Melon Music Awards, 20 Golden Disc Awards, 14 Seoul Music Awards, 13 Gaon Chart Music Awards, 4 Billboard Music Awards, 4 Korean Music Awards, 4 American Music Awards, and 2 MTV Video Music Awards. In South Korea, BTS has three Multi-Million albums and three Platinum streaming singles.[379][380] As the first Korean group to receive an RIAA certification, BTS has one Platinum album, three Platinum singles, two Gold singles, and one Gold album in the United States.[381] In Japan, BTS is the first male foreign act to receive a Million certification for a single;[382] they also have two Multi-Platinum singles, one Multi-Platinum album, and four Gold albums.[383] BTS are also the first Korean group to receive certifications in the United Kingdom, with three Silver album certifications for Love Yourself: Tear, Love Yourself: Answer and Map of the Soul: Persona.[384][385]]',\n",
       " '[BTS have a large social influence and as of 2019[update], have attained eleven Guinness World Records, including the world record for most Twitter engagements.[140] To date, they have spent 166 weeks at #1 on the Billboard Social 50 chart.[386] In October 2018, BTS was awarded a fifth-class Hwagwan Order of Cultural Merit from the President of South Korea for their contributions in spreading Korean culture and language.[387] In 2019, members of BTS were invited to become members of the Recording Academy in honor of their contributions to music and as part of a push to help diversify Grammy Award voters.[388][389]]',\n",
       " '[On November 7, 2019, BTS became the first K-Pop act to remain on the Billboard 200 for a whole year. \"Love Yourself: Answer\" reentered Billboard\\'s main albums chart on Monday November 4 (No. 165). As of November 2019, the album has remained on the charts for 52 non-consecutive weeks, making the album the first, and currently, only K-pop album to do so.[390][391]]',\n",
       " '[On January 26, 2020, BTS performed at the 62nd Annual Grammy Awards, becoming the first K-pop act to do so.[392]]',\n",
       " '[BTS have maintained numerous global endorsement deals in various industries throughout their career. Partnered with Puma since 2015, BTS initially promoted their sportswear as Puma Korea\\'s brand ambassadors before expanding to become global ambassadors in 2018[393][394] and promoting the remix of Puma\\'s \"Turin\" and \"Sportstyle\" line worldwide.[395][396] In 2019, BTS became the first male pop group ever to collaborate with Dior, as the group sported Kim Jones\\' Pre-Fall 2019 collection at their concert at Stade de France. Business of Fashion called it \"the K-Pop industry\\'s most high profile sponsorship ever\".[397] In September 2019, Fila announced that BTS have signed an exclusive contract with them to be their new models worldwide.[398]]',\n",
       " '[BTS served as global brand ambassadors for LG Electronics to promote their LG G7 ThinQ telephone,[399] and for Hyundai Motors as part of the company\\'s promotions at the 2018 LA Auto Show for its 2019 flagship SUV the \"Palisade\".[400] Due to BTS\\' endorsement, Hyundai received almost double their anticipated domestic order volume for the car.[401] In the tourism sector, BTS have worked as brand models for Lotte Duty Free Shop since 2017[402]\\nand as honorary tourism ambassadors for Seoul as part of the \\'I Seoul U\\' program. Promotional advertisements produced by the Seoul Metropolitan Government, featuring the group, aired in over 100 countries.[403] BTS also partnered with popular Korean communication app Line, to create new Line \\'characters\\' called BT21. The collaboration initially produced emojis and electronic stickers, but later expanded to include fashion apparel, footwear, accessories, and other merchandise.[404] Line flagship stores opened throughout Seoul before spreading across the global market into Japan, Taiwan, Hong Kong and the United States.[405]]',\n",
       " '[In the entertainment sector, BTS published the webtoons Hip Hop Monster and We On through the Nate Webtoon portal, and the webtoon Save Me in collaboration with LICO and Line Webtoon.[406][407][408] In the toy industry, Mattel created dolls modeled off BTS\\' outfits from the music video \"Idol\",[345] Medicom Toy created the \"BE@RBRICK\", a block-like toy featuring the BTS logo and accents modeled after BTS\\' stage clothes,[409] and Funko released BTS versions of Funko Pops.[410] In the gaming industry, Nexon released character avatars based on BTS for their RPG game Elsword,[411] and BTS worked with DalcomSoft to release the rhythm game Superstar BTS in January 2018,[412] as well as with Netmarble Games for the story-based, mobile simulation game BTS World released in June 2019.[413] In November 2019, BTS announced they are teaming with Casetify to globally launch a new tech accessory collection, which contains accessories compatible with iPhone, Samsung devices, AirPods, Apple Watch, MacBooks, iPads and more.[414]]',\n",
       " '[In Asia, BTS have worked as brand spokespersons for KB Kookmin Bank, one of the four largest banks in South Korea.[415][416] Their collaboration generated the opening of over 180,000 accounts, and BTS extended their contract with KB Kookmin Bank through 2019.[417] Coca-Cola Korea[418] signed BTS on as their new campaign models for promotions during the 2018 World Cup in Russia.[419][420] In the beauty and apparel industry, BTS have maintained a relationship with uniform brand SMART since 2016, having renewed their contract with them through 2019.[421] BTS have also promoted the face mask brand Mediheal,[422] the cosmetics brand VT Cosmetics,[423] and the contact lens brand Play/Up.[424] In October 2019, Kyungnam Pharmaceutical announced that BTS are going to be the new brand ambassadors for Lemona, a vitamin supplement company. The company announced they are planning to expand to the global market with BTS and release new vitamin drinks.[425]]',\n",
       " '[In October 2019, ceramics company Kwangjuyo stated that they will collaborate with BTS in releasing plates, mugs, and other pieces. The colors of the ceramics were inspired by Map of the Soul: Persona, and the Plum Blossom pattern is used to represent the message of hope and positivity that BTS brings.[426] Also in October 2019, Tokopedia, an Indonesian e-commerce company, announced that BTS will be their new brand ambassadors.[427] In December 2019, BTS were announced as the new global ambassadors of ABB FIA Formula E Championship, the electric street racing series, Formula E. Through the partnership, the South Korean septet and Formula E will team up to promote how electric vehicles can help combat climate change.[428]]',\n",
       " '[In January 2020, Hyundai Motors announced that they would be partnering with BTS to launch a new hydrogen campaign to promote their hydrogen fuel cell electric SUV, \"Nexo\". Additionally, BTS were announced as the \"Hyundai Motors Global Brand Ambassadors\".[429] In February 2020, Samsung Electronics announced a partnership with BTS for marketing their new smartphones.[430]]',\n",
       " '[In 2015, BTS donated seven tons (7,187\\xa0kg) of rice to charity at the K-Star Road opening ceremony held in Apgujeong-dong.[431] The following year they participated in ALLETS\\'s \"Let\\'s Share the Heart\" collaboration charity campaign with Naver[432] to raise donations for LISA, a Korean medical charity which promotes organ and blood donation.[433]]',\n",
       " '[In January 2017, BTS and Big Hit Entertainment donated ₩100 million ($87,915) to the 4/16 Sewol Families for Truth and A Safer Society, an organization connected to the families of the 2014 Sinking of MV Sewol. Each member donated ₩10 million and Big Hit Entertainment donated an additional ₩30 million. The donation was intended to have been made in secret.[434] Later that year, BTS officially launched their Love Myself campaign, an initiative dedicated to funding several social programs to prevent violence against children and teens and to provide support for victims of violence in partnership with the Korean Committee for UNICEF.[435][436] BTS donated ₩500 million ($448,000) from the members and 100% of all sales of official goods for the Love Myself campaign over the next two years in addition to donations collected from donation desks installed by UNICEF[437] In addition, 3% of the sales from each album in the Love Yourself series (Love Yourself: Her, Love Yourself: Tear, and Love Yourself: Answer) were donated to the cause.[436] Within two months of its launch the campaign raised an additional ₩106 million, taking the worldwide funds total to ₩606 million.[438] In November 2018, UNICEF Korea announced that the Love Myself campaign had raised over ₩1.6 billion ($1.4 million).[439] By June 2019, it had surpassed ₩2.4 billion.[440]]',\n",
       " '[In April 2018, BTS participated in Stevie Wonder\\'s \"Dream Still Lives\" tribute to Martin Luther King Jr. alongside other celebrities.[441] That June, the group donated to the ALS hospital building fund.[442] In September, BTS attended the United Nations 73rd General Assembly for the launch of the youth initiative \"Youth 2030: The UN Youth Strategy\" and its corresponding UNICEF campaign \"Generation Unlimited\".[443][444] On behalf of the group, BTS\\' leader RM delivered a six-minute speech in English about self-acceptance, as well as their Love Myself campaign.[445][443] According to UNICEF, the goal of the initiative is \"to provide quality education and training for young people\".[446] BTS were selected to attend due to their impact on youth culture through their music and social messages, previous philanthropic endeavors, and popularity among the 15-to-25-year-old age demographic.[443][444]]',\n",
       " \"[In January 2020, Starbucks Korea announced that they would be partnering together with BTS to launch the “Be the Brightest Stars” campaign including limited-edition beverages, food and merchandise exclusively in South Korea. A portion of the profit from the campaign will go towards career and educational development programs for disadvantaged youth as part of The Beautiful Foundation's Opportunity Youth Independence Project.[447]]\",\n",
       " '[Also in January 2020, BTS auctioned off seven microphones that were used for their Love Yourself World Tour for a Grammy week charity auction event. The microphones ended up selling for US$83,000 (the highest of the event) and the proceeds were all donated to MusiCares, a non-profit organization with its primary purpose to focus the resources and attention of the music industry on human service issues which directly impact the health and welfare of the music community.[448]]',\n",
       " '[The BTS Universe, also known as the Bangtan Universe or BU, is an alternate universe created by Big Hit Entertainment that winds through the group\\'s output. The webtoon Save Me closely follows the story line, along with their book HYYH: The Notes 1.[449][450] The chronology of the universe began with the song \"I Need U\" and spans to the present time.[451] It tells the story of the seven members in an alternate reality and depicts their anxieties and uncertainties as they confront their futures.[452][453]  Speaking to Billboard, Michelle Cho, an assistant professor of East Asian Popular Cultures at the University of Toronto, said \"As an audio-visual experience, \"I Need U\" inaugurated the Bangtan Universe—the coming-of-age storyline that brilliantly integrates the Most Beautiful Moment in Life [album] trilogy and continues in music videos, \"concept videos\" (mini-films), and the multiform, open-ended narrative that\\'s been serialized in album liner notes and Twitter and Instagram posts.\"[454]]',\n",
       " '[Mariejo Ramos from The Inquirer said about the universe \"no other artists have successfully mixed the same literary technique to pop music in such a scale.\" They used the alternate universe and literary books, such as The Ones Who Walk Away from Omelas, as a framing device for their albums.[455] Mixing the two has created an interactive environment for their fans who make theories when new material or hints are released.[456][457][458]]',\n",
       " '[In January 2020, BTS launched  \"Connect, BTS\", ahead of their upcoming studio album, Map of the Soul: 7. \"Connect, BTS\" is a global public art project involving 22 contemporary  artists across five cities: London, Berlin, Buenos Aires, Seoul and New York.[459] Galleries in these cities will host artistic events throughout January until the end of March. According to the \"Connect, BTS\" website, the project has been developed by international curators who \"resonated with BTS\\' philosophy\" and \"aims to redefine the relationships between art and music, the material and immaterial, artists and their audiences, artists and artists, theory and practice.\"[460] The project kicked off on January 14 at London\\'s Serpentine Galleries with the launch of \"Catharsis\", a digital recreation of an ancient forest by Danish artist Jakob Kudsk Steensen.[459] Other works will include a \"drawing in space\" on New York\\'s Brooklyn Bridge by British sculptor Antony Gormley using 11 kilometres of aluminium tubing.[461] In Argentina, according to the BBC, Tomás Saraceno will \"float\" a human into the sky using a solar-powered balloon. In Seoul, the Dongdaemun Design Plaza will feature installations by British artist Ann Veronica Janssens and Korean artist Yiyun Kang which will be \"re-imagining of BTS\\' signature dance movements\" while a performance art program called \"Rituals of Care\" with 17 artists will be hosted in Berlin\\'s Martin-Gropius-Bau.[462]]',\n",
       " '[Korean-language studio albums]',\n",
       " '[]',\n",
       " '[Japanese-language studio albums]',\n",
       " '[]']"
      ]
     },
     "execution_count": 30,
     "metadata": {},
     "output_type": "execute_result"
    }
   ],
   "source": [
    "p = re.compile('')\n",
    "p.sub('', src_text)\n",
    "tmp[:10]"
   ]
  },
  {
   "cell_type": "code",
   "execution_count": 33,
   "metadata": {},
   "outputs": [
    {
     "data": {
      "text/plain": [
       "'(:\\xa0방탄소년단;:\\xa0),,-2010.[3]-.,.,,,-,,,...,24(2013)...200,2(2015),:(2016),(2016)\\'.\\'.2017,,,()\"\".200:(2018'"
      ]
     },
     "execution_count": 33,
     "metadata": {},
     "output_type": "execute_result"
    }
   ],
   "source": [
    "# 알파벳만 남겨라 \n",
    "# ^ :이외에\n",
    "p = re.compile('[a-zA-Z ]*') \n",
    "tmp = p.sub( '' ,  src_text )\n",
    "tmp.lower()[:100]"
   ]
  },
  {
   "cell_type": "code",
   "execution_count": null,
   "metadata": {},
   "outputs": [],
   "source": [
    "# 대상언어별로 준비 => 대량의 데이터를 확보 \n",
    "# 충분한 학습을 수행하기 위한 재료 "
   ]
  },
  {
   "cell_type": "code",
   "execution_count": 8,
   "metadata": {
    "scrolled": false
   },
   "outputs": [
    {
     "data": {
      "image/png": "[encoded data removed]",
      "text/plain": [
       "<IPython.core.display.Image object>"
      ]
     },
     "execution_count": 8,
     "metadata": {
      "image/png": {
       "width": 500
      }
     },
     "output_type": "execute_result"
    }
   ],
   "source": [
    "from IPython.display import Image\n",
    "\n",
    "path = './input/6.시스템통합_최종산출물.png'\n",
    "Image(path, width=500 )\n",
    "\n",
    "# 최종 산출물  \n",
    "# 웹기반 => 플라스크(간단하게 구현)\n",
    "# 머신러닝(SVM,SVC)로 언어감지, 딥러닝(RNN, many to many 신경망)으로 언어 번역 "
   ]
  },
  {
   "cell_type": "markdown",
   "metadata": {},
   "source": [
    "## 데이터 준비\n",
    "\n",
    "- 제공된 데이터 사용 \n",
    "- 파일을 한번에 다읽기위해서 => 특정폴더 밑에서 특정패턴을 가진 파일 지정(목록화)\n",
    "    - 파일명 : 언더코드_ 넘버.txt\n",
    "    \n",
    "- 데이터를 읽으면서 알파벳의 빈도 계산 \n",
    "- 언어코드도 획득해서, 해당언어에 알파벳의 빈도를 표현 \n",
    "- 알파벳별 빈도(feature), 언어코드(label)\n",
    "- train 데이터는 rows가 20개(국가별 5개),colums(26(알파벳)+1(정답))\n",
    "- shape >>> (20,27)\n",
    "\n",
    "\n",
    "\n",
    "\n",
    "### 의사결정 코드 \n",
    "\n",
    "### Step 01\n",
    "- 변수명 : text \n",
    "    1. 제공된 데이터를 사용해서 특정패턴을 가진 파일을 목록화 \n",
    "        - 내장함수 이용 => `import glob`\n",
    "            - 파일명을 전부 획득(파일리스트 획득)\n",
    "\n",
    "    2. text 파일 한개 확인 \n",
    "        => 20번 반복 \n",
    "            => list의 갯수만큼 반복 \n",
    "    3. 언어코드 획득 \n",
    "         - 파일에서 파일명 획득 \n",
    "             => 언어 코드존재 => `['./input/train\\\\'**en**'-1.txt']`\n",
    "                 => 언어코드 : 'tr, en'\n",
    "\n",
    "    4. 언어코드를 추출\n",
    "        -  정규식을 이용해서 추출  \n",
    "            => 언어코드 확득 `re.compile( '^[a-z]{2}' )`\n",
    "\n",
    "### Step 02\n",
    "\n",
    "1. 알파벳별 빈도수 획득 \n",
    "    - 파일을 불러온다\n",
    "        - 읽는다\n",
    "        - 알파벳만 남긴다\n",
    "    - \n",
    "2. 전처리 통해서 영어만 둔다 \n",
    "3. 알파벳별 빈도를 계산 \n",
    "\n",
    "\n",
    "### Step 03 \n",
    "    #\n",
    "    #\n",
    "    # \n",
    "\n"
   ]
  },
  {
   "cell_type": "code",
   "execution_count": null,
   "metadata": {},
   "outputs": [],
   "source": [
    "# stp =list()\n",
    "# for i in range(len(file_list)):\n",
    "#     for j in file_list: #  순서만 \n",
    "# #         print(j)\n",
    "#         stp.append(j)"
   ]
  },
  {
   "cell_type": "code",
   "execution_count": null,
   "metadata": {},
   "outputs": [],
   "source": [
    "# 파일 리스트 획득\n",
    "import glob"
   ]
  },
  {
   "cell_type": "code",
   "execution_count": 5,
   "metadata": {},
   "outputs": [
    {
     "data": {
      "text/plain": [
       "(['./input/train\\\\en-1.txt', './input/train\\\\en-2.txt'], 20)"
      ]
     },
     "execution_count": 5,
     "metadata": {},
     "output_type": "execute_result"
    }
   ],
   "source": [
    "# 파일 목록 보기 =>  파일명 전부 확득  \n",
    "path = './input/train/*.txt'\n",
    "file_list = glob.glob(path)\n",
    "file_list[:2], len(file_list)"
   ]
  },
  {
   "cell_type": "markdown",
   "metadata": {},
   "source": [
    "## Step 01\n",
    "- 변수명 : text \n",
    "    1. 제공된 데이터를 사용해서 특정패턴을 가진 파일을 목록화 \n",
    "        - 내장함수 이용 => `import glob`\n",
    "            - 파일명을 전부 획득(파일리스트 획득)\n",
    "\n",
    "    2. text 파일 한개 확인 \n",
    "        => 20번 반복 \n",
    "            => list의 갯수만큼 반복 \n",
    "    3. 언어코드 획득 \n",
    "         - 파일에서 파일명 획득 \n",
    "             => 언어 코드존재 => `['./input/train\\\\'**en**'-1.txt']`\n",
    "                 => 언어코드 : 'tr, en'\n",
    "\n",
    "    4. 언어코드를 추출\n",
    "        -  정규식을 이용해서 추출  \n",
    "            => 언어코드 확득 `re.compile( '^[a-z]{2}' )`"
   ]
  },
  {
   "cell_type": "code",
   "execution_count": 13,
   "metadata": {},
   "outputs": [
    {
     "data": {
      "text/plain": [
       "'tr'"
      ]
     },
     "execution_count": 13,
     "metadata": {},
     "output_type": "execute_result"
    }
   ],
   "source": [
    "# 언어코드 획득 \n",
    "# 파일에서 파일명 획득 => 언어 코드존재  => 'tr, en'\n",
    "file_list[0].split('/')[-1][:2]\n",
    "# 언어코드 추출 "
   ]
  },
  {
   "cell_type": "code",
   "execution_count": 19,
   "metadata": {},
   "outputs": [
    {
     "data": {
      "text/plain": [
       "'en-1.txt'"
      ]
     },
     "execution_count": 19,
     "metadata": {},
     "output_type": "execute_result"
    }
   ],
   "source": [
    "# 외장함수를 활용하여 처리 \n",
    "import os \n",
    "# 파일명 획득 \n",
    "# file_list[0].split('/')[-1] 과 결과는 동일\n",
    "name = os.path.basename(file_list[0])\n",
    "name"
   ]
  },
  {
   "cell_type": "code",
   "execution_count": null,
   "metadata": {},
   "outputs": [],
   "source": [
    "# 정규식으로 언어코드획득\n",
    "import re\n",
    "p         = re.compile( '^[a-z]{2}' )\n",
    "lang_code = p.match( name ).group()\n",
    "lang_code"
   ]
  },
  {
   "cell_type": "markdown",
   "metadata": {},
   "source": [
    "### Step 02\n",
    "- 변수명 => text \n",
    "- 알파벳 빈도 계산\n",
    "\n",
    "1. 알파벳별 빈도수 획득 \n",
    "    - 파일을 불러온다\n",
    "    - 읽는다\n",
    "    \n",
    "    - 알파벳만 남긴다 => 정규식 사용 \n",
    "2. 전처리 통해서 영어만 둔다 \n",
    "3. 알파벳별 빈도를 계산 \n"
   ]
  },
  {
   "cell_type": "code",
   "execution_count": 54,
   "metadata": {
    "scrolled": false
   },
   "outputs": [
    {
     "name": "stdout",
     "output_type": "stream",
     "text": [
      "themainhenryfordmuseumbuildinghousessomeoftheclassroomsforthehenryfordacademyhenryfordacademyisthefi\n"
     ]
    }
   ],
   "source": [
    "# 파일을 읽는다 (i/o)\n",
    "with open(file_list[0], encoding= 'utf-8' ) as f : \n",
    "    # f 할당\n",
    "    # f를 읽어드린다 \n",
    "    text = f.read().lower()\n",
    "    \n",
    "    # 여기서 알파벳만 남긴다\n",
    "    # 어떻게 남기냐 \n",
    "    p = re.compile('[^a-z]*')\n",
    "    text = p.sub('', text) # 일치 값만 제거 \n",
    "    print(text[:100])\n",
    "    \n",
    "    pass # 알파벳만 남김 \n",
    "    "
   ]
  },
  {
   "cell_type": "code",
   "execution_count": null,
   "metadata": {},
   "outputs": [],
   "source": [
    "# 알파벳 벽고 카운트를 담는 그릇 => 하나의 이름으로 26의 정보를 담는 그릇 \n",
    "# 파이썬 => 리스트 사용 => 수정이 가능, 순서 존재해서 적합 \n",
    "# a -> z 까지 순서 존재 => 아스키(ASCII)\n",
    "counts = [0 for i in range(26)] \n",
    "counts"
   ]
  },
  {
   "cell_type": "code",
   "execution_count": 45,
   "metadata": {},
   "outputs": [
    {
     "data": {
      "text/plain": [
       "[0, 0, 0, 0, 0, 0, 0, 0, 0, 0, 0, 0, 0, 0, 0, 0, 0, 0, 0, 0, 0, 0, 0, 0, 0, 0]"
      ]
     },
     "execution_count": 45,
     "metadata": {},
     "output_type": "execute_result"
    }
   ],
   "source": [
    "# 리스트로 => 변수 26개를 표현 \n",
    "# 알파벳 별로 카운트를 담을 그릇을 만든다 \n",
    "# [0] *26 => 동일 \n",
    "counts = []\n",
    "\n",
    "for i in range(26): \n",
    "    i = 0\n",
    "    counts.append(i)\n",
    "counts   "
   ]
  },
  {
   "cell_type": "code",
   "execution_count": 42,
   "metadata": {},
   "outputs": [
    {
     "data": {
      "text/plain": [
       "[0, 0, 0, 0, 0, 0, 0, 0, 0, 0, 0, 0, 0, 0, 0, 0, 0, 0, 0, 0, 0, 0, 0, 0, 0, 0]"
      ]
     },
     "execution_count": 42,
     "metadata": {},
     "output_type": "execute_result"
    }
   ],
   "source": [
    "[0]*26"
   ]
  },
  {
   "cell_type": "code",
   "execution_count": 53,
   "metadata": {},
   "outputs": [
    {
     "data": {
      "text/plain": [
       "['2']"
      ]
     },
     "execution_count": 53,
     "metadata": {},
     "output_type": "execute_result"
    }
   ],
   "source": [
    "a = []\n",
    "b = [0]*26\n",
    "# extend 와 append의 차이는? \n",
    "a.extend('2')\n",
    "a"
   ]
  },
  {
   "cell_type": "markdown",
   "metadata": {},
   "source": [
    "---"
   ]
  },
  {
   "cell_type": "code",
   "execution_count": null,
   "metadata": {},
   "outputs": [],
   "source": [
    "# text에서 한글자씩 읽어서 -> a면 counts[0]+=1 -> counts[a-a]+=1\n",
    "# z -> counts[25]+=1 -> counts[z-a]+=1 \n",
    "# t -> counts[?]+=1 -> counts[t-a]+=1 \n",
    "# ord() \n",
    "#    - 특정 문자의 아스키코드값을 리턴\n",
    "# a-z까지는 연속적으로 아스키값이 배치\n",
    "# 따라서 특정 문자의 위치는 ord('소문자')-ord('a')\n",
    "ord('a'), ord('z'), (ord('z')-ord('a'))"
   ]
  },
  {
   "cell_type": "code",
   "execution_count": 55,
   "metadata": {},
   "outputs": [
    {
     "name": "stdout",
     "output_type": "stream",
     "text": [
      "[349, 59, 210, 212, 484, 72, 88, 201, 340, 8, 25, 247, 121, 356, 412, 76, 0, 357, 282, 370, 119, 45, 65, 3, 92, 2]\n"
     ]
    }
   ],
   "source": [
    "counts = [0 for i in range(26)] \n",
    "ASCII_A = ord('a')\n",
    "\n",
    "for ch in text: \n",
    "    # print(ch)\n",
    "    # \n",
    "    counts[(ord(ch)-ASCII_A)] += 1\n",
    "    # break \n",
    "    \n",
    "print(counts)\n"
   ]
  },
  {
   "cell_type": "markdown",
   "metadata": {},
   "source": [
    "- 데이터를 확인해보니 값의 편차가 큼 \n",
    "- 데이터는 빈도를 표현함 \n",
    "    => 최대최소의 의미보다 총빈도에서 특정 알파벳이 얼마나 등장했는지 \n",
    "    => 이를 기준으로 정규화 처리 진행 \n",
    "    => 데이터 준비단계에서는 데이터의 품질을 향상을 목표를 가지고 \n",
    "    => 주수단으로 정해야함 "
   ]
  },
  {
   "cell_type": "code",
   "execution_count": null,
   "metadata": {},
   "outputs": [],
   "source": [
    "sum(counts), len(text)"
   ]
  },
  {
   "cell_type": "code",
   "execution_count": 67,
   "metadata": {
    "scrolled": true
   },
   "outputs": [
    {
     "name": "stdout",
     "output_type": "stream",
     "text": [
      "1.0 [0.07595212187159957, 0.012840043525571273, 0.04570184983677911, 0.04613710554951034, 0.10533188248095757, 0.015669205658324265, 0.019151251360174103, 0.043743199129488576, 0.07399347116430903, 0.0017410228509249185, 0.00544069640914037, 0.05375408052230685, 0.026332970620239392, 0.07747551686615888, 0.08966267682263329, 0.016539717083786723, 0.0, 0.07769314472252448, 0.061371055495103376, 0.08052230685527748, 0.02589771490750816, 0.009793253536452665, 0.014145810663764961, 0.0006528835690968443, 0.02002176278563656, 0.0004352557127312296]\n"
     ]
    }
   ],
   "source": [
    "# 람다함수 \n",
    "# 대체 : 파이썬 내장함수 map(), DataFrame의 apply()\n",
    "\n",
    "# map('함수','데이터 덩어리')\n",
    "# list(map( 함수 , 데이터 덩어리))\n",
    "\n",
    "# 함수는 map =>  자동으로 멤버수만큼 호출\n",
    "# x:맴버 한개 한개,...\n",
    "def check_norm(x):\n",
    "    # print(x)  # 함수 호출 값을 확인 \n",
    "    # 알파벳별 빈도/총 빈도(=총알파벳문자열개수)\n",
    "    return x / len(text)       # x / 총빈도 \n",
    "\n",
    "# frequences = list(map( check_norm, counts))\n",
    "# print(sum(frequences),frequences)\n",
    "\n",
    "# 한줄로 줄일수 있음 => 람다를 이용 \n",
    "# 단정 휘발성에 => 일회성 \n",
    "\n",
    "\n",
    "# 람다식을 이용해서 함수 코드를 한줄로 변환 \n",
    "# list(map( lambda x:x/len(text), counts))\n",
    "# lambda 인자 : 함수를 표현한식, 데이터 덩어리 \n",
    "# 수행문이 한줄일 경우 가능 \n",
    "frequences = list(map( lambda x:x/len(text), counts))\n",
    "frequences"
   ]
  },
  {
   "cell_type": "code",
   "execution_count": 69,
   "metadata": {},
   "outputs": [
    {
     "data": {
      "text/plain": [
       "[0.07595212187159957,\n",
       " 0.012840043525571273,\n",
       " 0.04570184983677911,\n",
       " 0.04613710554951034,\n",
       " 0.10533188248095757,\n",
       " 0.015669205658324265,\n",
       " 0.019151251360174103,\n",
       " 0.043743199129488576,\n",
       " 0.07399347116430903,\n",
       " 0.0017410228509249185,\n",
       " 0.00544069640914037,\n",
       " 0.05375408052230685,\n",
       " 0.026332970620239392,\n",
       " 0.07747551686615888,\n",
       " 0.08966267682263329,\n",
       " 0.016539717083786723,\n",
       " 0.0,\n",
       " 0.07769314472252448,\n",
       " 0.061371055495103376,\n",
       " 0.08052230685527748,\n",
       " 0.02589771490750816,\n",
       " 0.009793253536452665,\n",
       " 0.014145810663764961,\n",
       " 0.0006528835690968443,\n",
       " 0.02002176278563656,\n",
       " 0.0004352557127312296]"
      ]
     },
     "execution_count": 69,
     "metadata": {},
     "output_type": "execute_result"
    }
   ],
   "source": [
    "# 텍스트 파일 1개에 대한 최종 결과물\n",
    "# lang_code   : \n",
    "# frequences  : \n",
    "print( lang_code, frequences )"
   ]
  },
  {
   "cell_type": "markdown",
   "metadata": {},
   "source": [
    "### 위의 구성을 함수화 시킴 "
   ]
  },
  {
   "cell_type": "code",
   "execution_count": null,
   "metadata": {},
   "outputs": [],
   "source": []
  },
  {
   "cell_type": "markdown",
   "metadata": {},
   "source": [
    "## Step 03."
   ]
  },
  {
   "cell_type": "code",
   "execution_count": null,
   "metadata": {},
   "outputs": [],
   "source": []
  },
  {
   "cell_type": "markdown",
   "metadata": {},
   "source": [
    "## 데이터 분석\n",
    "\n",
    "## 데이터 모델링 구축\n",
    "\n",
    "## 시스템 통합 ## "
   ]
  },
  {
   "cell_type": "markdown",
   "metadata": {},
   "source": [
    "## 기본 Step\n",
    "---\n",
    "\n",
    "### Step_01\n",
    "- 사용자가 번역에 필요한 글자를 입력 (알파벳만 사용, 영어권만 해당)  \n",
    "### Step_02\n",
    "- 언어감지라는 버튼을 클릭한다\n",
    "### Step_03\n",
    "- 언어를 읽어서 서버로 전송\n",
    "### Step_04\n",
    "- 서버에서 데이터를 알고리즘이 예측할수 있는 형태로 변환처리\n",
    "### Step_05\n",
    "- 예측\n",
    "### Step_06\n",
    "- 예측결과를 응답\n",
    "### Step_07\n",
    "- 응답 결과를 화면에 표시\n",
    "\n",
    "---\n",
    "\n",
    "\n",
    "\n",
    "\n",
    "\n"
   ]
  },
  {
   "cell_type": "code",
   "execution_count": null,
   "metadata": {},
   "outputs": [],
   "source": []
  }
 ],
 "metadata": {
  "kernelspec": {
   "display_name": "Python 3",
   "language": "python",
   "name": "python3"
  },
  "language_info": {
   "codemirror_mode": {
    "name": "ipython",
    "version": 3
   },
   "file_extension": ".py",
   "mimetype": "text/x-python",
   "name": "python",
   "nbconvert_exporter": "python",
   "pygments_lexer": "ipython3",
   "version": "3.6.5"
  }
 },
 "nbformat": 4,
 "nbformat_minor": 2
}
