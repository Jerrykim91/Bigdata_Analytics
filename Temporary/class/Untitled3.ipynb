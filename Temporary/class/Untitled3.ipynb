{
  "nbformat": 4,
  "nbformat_minor": 0,
  "metadata": {
    "colab": {
      "name": "Untitled3.ipynb",
      "provenance": []
    },
    "kernelspec": {
      "name": "python3",
      "display_name": "Python 3"
    }
  },
  "cells": [
    {
      "cell_type": "code",
      "metadata": {
        "id": "cuffO-A8OI_k",
        "colab_type": "code",
        "colab": {
          "base_uri": "https://localhost:8080/",
          "height": 51
        },
        "outputId": "e5b3efb2-aa70-492a-e833-592dc8ab3699"
      },
      "source": [
        "import pandas as pd\n",
        "import numpy as np\n",
        "import matplotlib.pyplot as plt\n",
        "import seaborn as sns"
      ],
      "execution_count": 99,
      "outputs": [
        {
          "output_type": "stream",
          "text": [
            "/usr/local/lib/python3.6/dist-packages/statsmodels/tools/_testing.py:19: FutureWarning: pandas.util.testing is deprecated. Use the functions in the public API at pandas.testing instead.\n",
            "  import pandas.util.testing as tm\n"
          ],
          "name": "stderr"
        }
      ]
    },
    {
      "cell_type": "code",
      "metadata": {
        "id": "zU4PlQbDTUPE",
        "colab_type": "code",
        "colab": {}
      },
      "source": [
        ""
      ],
      "execution_count": 0,
      "outputs": []
    },
    {
      "cell_type": "code",
      "metadata": {
        "id": "4-KKkuyiOTny",
        "colab_type": "code",
        "colab": {}
      },
      "source": [
        "# 날씨 데이터 로드\n",
        "weather = pd.read_csv(\"/content/weather.csv\",encoding=\"euc-kr\", skiprows=9)\n",
        "# 가격 데이터 로드\n",
        "price = pd.read_excel(\"/content/price.xlsx\", encoding=\"utf16bom\" )\n",
        "price = price.drop(index=10)\n",
        "# 바람 데이터 로드\n",
        "humid = pd.read_csv(\"/content/humid.csv\", encoding=\"euc-kr\", skiprows=12)\n",
        "# 기압 데이터 로드\n",
        "airpression = pd.read_csv(\"/content/airpression.csv\", encoding=\"euc-kr\", skiprows=11)\n",
        "# 일조 일사량 데이터 로드\n",
        "solar = pd.read_csv(\"/content/solar_data.csv\", encoding=\"euc-kr\", skiprows=13)"
      ],
      "execution_count": 0,
      "outputs": []
    },
    {
      "cell_type": "code",
      "metadata": {
        "id": "a-96IrHIOTuD",
        "colab_type": "code",
        "colab": {
          "base_uri": "https://localhost:8080/",
          "height": 595
        },
        "outputId": "0573cda6-b2bb-4415-b823-2a6b048482bd"
      },
      "source": [
        "# 타입 확인\n",
        "weather.dtypes, price.dtypes, humid.dtypes, airpression.dtypes, solar.dtypes"
      ],
      "execution_count": 357,
      "outputs": [
        {
          "output_type": "execute_result",
          "data": {
            "text/plain": [
              "(일시             object\n",
              " 평균기온(℃)       float64\n",
              " 최고기온 평균(℃)    float64\n",
              " 최저기온 평균(℃)    float64\n",
              " 강수량(mm)       float64\n",
              " price         float64\n",
              " dtype: object, 구분       int64\n",
              " 1월     float64\n",
              " 2월     float64\n",
              " 3월     float64\n",
              " 4월     float64\n",
              " 5월     float64\n",
              " 6월     float64\n",
              " 7월     float64\n",
              " 8월     float64\n",
              " 9월     float64\n",
              " 10월    float64\n",
              " 11월    float64\n",
              " 12월    float64\n",
              " 연평균    float64\n",
              " dtype: object, 일시           object\n",
              " 평균상대습도(%)     int64\n",
              " 최소상대습도(%)     int64\n",
              " dtype: object, 일시              object\n",
              " 평균현지기압(hPa)    float64\n",
              " 최고현지기압(hPa)    float64\n",
              " 최저현지기압(hPa)    float64\n",
              " 평균해면기압(hPa)    float64\n",
              " 최고해면기압(hPa)    float64\n",
              " 최저해면기압(hPa)    float64\n",
              " dtype: object, 일시                object\n",
              " 합계일조시간(hr)       float64\n",
              " 합계전천일사량(MJ/㎡)    float64\n",
              " dtype: object)"
            ]
          },
          "metadata": {
            "tags": []
          },
          "execution_count": 357
        }
      ]
    },
    {
      "cell_type": "code",
      "metadata": {
        "id": "1tvoH8azOTzu",
        "colab_type": "code",
        "colab": {}
      },
      "source": [
        "# price의 데이터 형태가 object 이므로 타입 변경\n",
        "price['1월'] =price['1월'].str.replace(\",\",\"\").astype(float)\n",
        "price['2월']=price['2월'].str.replace(\",\",\"\").astype(float)\n",
        "price['3월']= price['3월'].str.replace(\",\",\"\").astype(float)\n",
        "price['4월']= price['4월'].str.replace(\",\",\"\").astype(float)\n",
        "price['5월']=price['5월'].str.replace(\",\",\"\").astype(float)\n",
        "price['6월']=price['6월'].str.replace(\",\",\"\").astype(float)\n",
        "price['7월']=price['7월'].str.replace(\",\",\"\").astype(float)\n",
        "price['8월']=price['8월'].str.replace(\",\",\"\").astype(float)\n",
        "price['9월']=price['9월'].str.replace(\",\",\"\").astype(float)\n",
        "price['10월']=price['10월'].str.replace(\",\",\"\").astype(float)\n",
        "price['11월']=price['11월'].str.replace(\",\",\"\").astype(float)\n",
        "price['12월']=price['12월'].str.replace(\",\",\"\").astype(float)\n",
        "price['연평균']=price['연평균'].str.replace(\",\",\"\").astype(float)"
      ],
      "execution_count": 0,
      "outputs": []
    },
    {
      "cell_type": "code",
      "metadata": {
        "id": "BprAUhFjbxfJ",
        "colab_type": "code",
        "colab": {}
      },
      "source": [
        "# 확인\n",
        "price.dtypes"
      ],
      "execution_count": 0,
      "outputs": []
    },
    {
      "cell_type": "code",
      "metadata": {
        "id": "hREb5uGod5X4",
        "colab_type": "code",
        "colab": {}
      },
      "source": [
        "# 필요없는 컬럼 제거\n",
        "df = price.drop(columns=[\"구분\",\"연평균\"])"
      ],
      "execution_count": 0,
      "outputs": []
    },
    {
      "cell_type": "code",
      "metadata": {
        "id": "u5G6M8w8mZFq",
        "colab_type": "code",
        "colab": {}
      },
      "source": [
        "# price 데이터와 weather 데이터를 비교하기 위해 price 데이터 형태 변환 \n",
        "price_list = []\n",
        "for i in range(0,len(df.index)):\n",
        "  for j in range(0,len(df.columns)):\n",
        "    price_list.append(df.iloc[i,j])\n",
        "\n",
        "price_df = pd.DataFrame()\n",
        "for idx, i in enumerate(range(2010,2020)):\n",
        "  for idx1, j in enumerate(range(1,13)):\n",
        "    price_df[\"{}-{}\".format(i,j)]=df.iloc[idx,idx1]\n",
        "price_df = price_df.T"
      ],
      "execution_count": 0,
      "outputs": []
    },
    {
      "cell_type": "code",
      "metadata": {
        "id": "h4hK17dG6NQj",
        "colab_type": "code",
        "colab": {
          "base_uri": "https://localhost:8080/",
          "height": 419
        },
        "outputId": "19e4bb60-e8c4-476f-8087-1b48b9b0001f"
      },
      "source": [
        "pd.DataFrame(price_list)"
      ],
      "execution_count": 359,
      "outputs": [
        {
          "output_type": "execute_result",
          "data": {
            "text/html": [
              "<div>\n",
              "<style scoped>\n",
              "    .dataframe tbody tr th:only-of-type {\n",
              "        vertical-align: middle;\n",
              "    }\n",
              "\n",
              "    .dataframe tbody tr th {\n",
              "        vertical-align: top;\n",
              "    }\n",
              "\n",
              "    .dataframe thead th {\n",
              "        text-align: right;\n",
              "    }\n",
              "</style>\n",
              "<table border=\"1\" class=\"dataframe\">\n",
              "  <thead>\n",
              "    <tr style=\"text-align: right;\">\n",
              "      <th></th>\n",
              "      <th>0</th>\n",
              "    </tr>\n",
              "  </thead>\n",
              "  <tbody>\n",
              "    <tr>\n",
              "      <th>0</th>\n",
              "      <td>798.0</td>\n",
              "    </tr>\n",
              "    <tr>\n",
              "      <th>1</th>\n",
              "      <td>796.0</td>\n",
              "    </tr>\n",
              "    <tr>\n",
              "      <th>2</th>\n",
              "      <td>987.0</td>\n",
              "    </tr>\n",
              "    <tr>\n",
              "      <th>3</th>\n",
              "      <td>1288.0</td>\n",
              "    </tr>\n",
              "    <tr>\n",
              "      <th>4</th>\n",
              "      <td>1495.0</td>\n",
              "    </tr>\n",
              "    <tr>\n",
              "      <th>...</th>\n",
              "      <td>...</td>\n",
              "    </tr>\n",
              "    <tr>\n",
              "      <th>115</th>\n",
              "      <td>1398.0</td>\n",
              "    </tr>\n",
              "    <tr>\n",
              "      <th>116</th>\n",
              "      <td>1714.0</td>\n",
              "    </tr>\n",
              "    <tr>\n",
              "      <th>117</th>\n",
              "      <td>2380.0</td>\n",
              "    </tr>\n",
              "    <tr>\n",
              "      <th>118</th>\n",
              "      <td>1909.0</td>\n",
              "    </tr>\n",
              "    <tr>\n",
              "      <th>119</th>\n",
              "      <td>2264.0</td>\n",
              "    </tr>\n",
              "  </tbody>\n",
              "</table>\n",
              "<p>120 rows × 1 columns</p>\n",
              "</div>"
            ],
            "text/plain": [
              "          0\n",
              "0     798.0\n",
              "1     796.0\n",
              "2     987.0\n",
              "3    1288.0\n",
              "4    1495.0\n",
              "..      ...\n",
              "115  1398.0\n",
              "116  1714.0\n",
              "117  2380.0\n",
              "118  1909.0\n",
              "119  2264.0\n",
              "\n",
              "[120 rows x 1 columns]"
            ]
          },
          "metadata": {
            "tags": []
          },
          "execution_count": 359
        }
      ]
    },
    {
      "cell_type": "code",
      "metadata": {
        "id": "L211EV6bm8G7",
        "colab_type": "code",
        "colab": {}
      },
      "source": [
        "price_df[\"price\"] = price_list\n",
        "price_df"
      ],
      "execution_count": 0,
      "outputs": []
    },
    {
      "cell_type": "code",
      "metadata": {
        "id": "4_Joj3ZWd5bx",
        "colab_type": "code",
        "colab": {
          "base_uri": "https://localhost:8080/",
          "height": 296
        },
        "outputId": "128e08f9-137f-41a4-ab71-d4763064fac2"
      },
      "source": [
        "plt.plot(weather[\"평균기온(℃)\"][:-1],price_df[\"price\"],linestyle='none',marker='o',markersize=5, color='blue',alpha=0.5)\n",
        "plt.title('Scatter Plot')\n",
        "plt.xlabel('avg_temp')\n",
        "plt.ylabel('price')\n",
        "plt.show()"
      ],
      "execution_count": 265,
      "outputs": [
        {
          "output_type": "display_data",
          "data": {
            "image/png": "[encoded data removed]",
            "text/plain": [
              "<Figure size 432x288 with 1 Axes>"
            ]
          },
          "metadata": {
            "tags": [],
            "needs_background": "light"
          }
        }
      ]
    },
    {
      "cell_type": "code",
      "metadata": {
        "id": "2r6yCwodd5fh",
        "colab_type": "code",
        "colab": {
          "base_uri": "https://localhost:8080/",
          "height": 296
        },
        "outputId": "fdeab6eb-c16c-4354-c5e4-32b6c131660f"
      },
      "source": [
        "plt.plot(weather[\"강수량(mm)\"][:-1],price_df[\"price\"],linestyle='none',marker='o',markersize=5, color='blue',alpha=0.5)\n",
        "plt.title('Scatter Plot')\n",
        "plt.xlabel('avg_rain')\n",
        "plt.ylabel('price')\n",
        "plt.show()"
      ],
      "execution_count": 267,
      "outputs": [
        {
          "output_type": "display_data",
          "data": {
            "image/png": "[encoded data removed]",
            "text/plain": [
              "<Figure size 432x288 with 1 Axes>"
            ]
          },
          "metadata": {
            "tags": [],
            "needs_background": "light"
          }
        }
      ]
    },
    {
      "cell_type": "code",
      "metadata": {
        "id": "cUheGP55znXs",
        "colab_type": "code",
        "colab": {}
      },
      "source": [
        "price_df[\"평균기온(℃)\"] = weather[\"평균기온(℃)\"][:-1].tolist()\n",
        "price_df[\"강수량(mm)\"] = weather[\"강수량(mm)\"][:-1].tolist()\n",
        "price_df[\"합계전천일사량(MJ/㎡)\"]=solar[\"합계전천일사량(MJ/㎡)\"][:-1].tolist()\n",
        "price_df[\"합계일조시간(hr)\"]=solar[\"합계일조시간(hr)\"][:-1].tolist()\n",
        "price_df[\"평균풍속(m/s)\"]=wind[\"평균풍속(m/s)\"][:-1].tolist()\n",
        "price_df[\"최대풍속(m/s)\"]=wind[\"최대풍속(m/s)\"][:-1].tolist()"
      ],
      "execution_count": 0,
      "outputs": []
    },
    {
      "cell_type": "code",
      "metadata": {
        "id": "6zR6ShKF1Fao",
        "colab_type": "code",
        "colab": {}
      },
      "source": [
        "# 기압\n",
        "col = airpression.columns\n",
        "for num in range(len(col)):\n",
        "  if num=='일시':\n",
        "    continue\n",
        "  else:\n",
        "    price_df[col[num]]=airpression[col[num]][:-1].tolist()"
      ],
      "execution_count": 0,
      "outputs": []
    },
    {
      "cell_type": "code",
      "metadata": {
        "id": "ljIdfYyA2Qfg",
        "colab_type": "code",
        "colab": {}
      },
      "source": [
        "# 습도\n",
        "col = humid.columns\n",
        "for num in range(len(col)):\n",
        "  if num=='일시':\n",
        "    continue\n",
        "  else:\n",
        "    price_df[col[num]]=humid[col[num]][:-1].tolist()"
      ],
      "execution_count": 0,
      "outputs": []
    },
    {
      "cell_type": "code",
      "metadata": {
        "id": "i46S-KOr34Zj",
        "colab_type": "code",
        "colab": {}
      },
      "source": [
        "price_df.drop(columns=\"일시\", axis=1,inplace=True)"
      ],
      "execution_count": 0,
      "outputs": []
    },
    {
      "cell_type": "code",
      "metadata": {
        "id": "Wrt0SQ-g4Hmx",
        "colab_type": "code",
        "colab": {
          "base_uri": "https://localhost:8080/",
          "height": 606
        },
        "outputId": "b2e85b95-b835-4031-e28a-cf554a5aab74"
      },
      "source": [
        "price_df"
      ],
      "execution_count": 360,
      "outputs": [
        {
          "output_type": "execute_result",
          "data": {
            "text/html": [
              "<div>\n",
              "<style scoped>\n",
              "    .dataframe tbody tr th:only-of-type {\n",
              "        vertical-align: middle;\n",
              "    }\n",
              "\n",
              "    .dataframe tbody tr th {\n",
              "        vertical-align: top;\n",
              "    }\n",
              "\n",
              "    .dataframe thead th {\n",
              "        text-align: right;\n",
              "    }\n",
              "</style>\n",
              "<table border=\"1\" class=\"dataframe\">\n",
              "  <thead>\n",
              "    <tr style=\"text-align: right;\">\n",
              "      <th></th>\n",
              "      <th>price</th>\n",
              "      <th>평균기온(℃)</th>\n",
              "      <th>강수량(mm)</th>\n",
              "      <th>합계전천일사량(MJ/㎡)</th>\n",
              "      <th>합계일조시간(hr)</th>\n",
              "      <th>평균풍속(m/s)</th>\n",
              "      <th>최대풍속(m/s)</th>\n",
              "      <th>평균현지기압(hPa)</th>\n",
              "      <th>최고현지기압(hPa)</th>\n",
              "      <th>최저현지기압(hPa)</th>\n",
              "      <th>평균해면기압(hPa)</th>\n",
              "      <th>최고해면기압(hPa)</th>\n",
              "      <th>최저해면기압(hPa)</th>\n",
              "      <th>평균상대습도(%)</th>\n",
              "      <th>최소상대습도(%)</th>\n",
              "    </tr>\n",
              "  </thead>\n",
              "  <tbody>\n",
              "    <tr>\n",
              "      <th>2010-1</th>\n",
              "      <td>798.0</td>\n",
              "      <td>-4.5</td>\n",
              "      <td>29.3</td>\n",
              "      <td>257.47</td>\n",
              "      <td>167.9</td>\n",
              "      <td>2.3</td>\n",
              "      <td>6.9</td>\n",
              "      <td>1013.6</td>\n",
              "      <td>1024.5</td>\n",
              "      <td>997.1</td>\n",
              "      <td>1024.6</td>\n",
              "      <td>1035.7</td>\n",
              "      <td>1007.9</td>\n",
              "      <td>65</td>\n",
              "      <td>26</td>\n",
              "    </tr>\n",
              "    <tr>\n",
              "      <th>2010-2</th>\n",
              "      <td>796.0</td>\n",
              "      <td>1.4</td>\n",
              "      <td>55.3</td>\n",
              "      <td>281.04</td>\n",
              "      <td>141.2</td>\n",
              "      <td>2.4</td>\n",
              "      <td>6.6</td>\n",
              "      <td>1010.7</td>\n",
              "      <td>1020.5</td>\n",
              "      <td>995.8</td>\n",
              "      <td>1021.5</td>\n",
              "      <td>1031.6</td>\n",
              "      <td>1006.0</td>\n",
              "      <td>59</td>\n",
              "      <td>14</td>\n",
              "    </tr>\n",
              "    <tr>\n",
              "      <th>2010-3</th>\n",
              "      <td>987.0</td>\n",
              "      <td>4.3</td>\n",
              "      <td>82.5</td>\n",
              "      <td>351.10</td>\n",
              "      <td>133.0</td>\n",
              "      <td>2.9</td>\n",
              "      <td>10.2</td>\n",
              "      <td>1009.6</td>\n",
              "      <td>1022.8</td>\n",
              "      <td>983.9</td>\n",
              "      <td>1020.2</td>\n",
              "      <td>1033.6</td>\n",
              "      <td>994.1</td>\n",
              "      <td>59</td>\n",
              "      <td>13</td>\n",
              "    </tr>\n",
              "    <tr>\n",
              "      <th>2010-4</th>\n",
              "      <td>1288.0</td>\n",
              "      <td>9.5</td>\n",
              "      <td>62.8</td>\n",
              "      <td>458.41</td>\n",
              "      <td>166.3</td>\n",
              "      <td>2.9</td>\n",
              "      <td>10.9</td>\n",
              "      <td>1007.4</td>\n",
              "      <td>1017.1</td>\n",
              "      <td>991.5</td>\n",
              "      <td>1017.8</td>\n",
              "      <td>1027.9</td>\n",
              "      <td>1001.9</td>\n",
              "      <td>54</td>\n",
              "      <td>12</td>\n",
              "    </tr>\n",
              "    <tr>\n",
              "      <th>2010-5</th>\n",
              "      <td>1495.0</td>\n",
              "      <td>17.2</td>\n",
              "      <td>124.0</td>\n",
              "      <td>535.71</td>\n",
              "      <td>178.5</td>\n",
              "      <td>2.6</td>\n",
              "      <td>9.9</td>\n",
              "      <td>1000.6</td>\n",
              "      <td>1010.2</td>\n",
              "      <td>980.9</td>\n",
              "      <td>1010.6</td>\n",
              "      <td>1020.2</td>\n",
              "      <td>990.9</td>\n",
              "      <td>62</td>\n",
              "      <td>21</td>\n",
              "    </tr>\n",
              "    <tr>\n",
              "      <th>...</th>\n",
              "      <td>...</td>\n",
              "      <td>...</td>\n",
              "      <td>...</td>\n",
              "      <td>...</td>\n",
              "      <td>...</td>\n",
              "      <td>...</td>\n",
              "      <td>...</td>\n",
              "      <td>...</td>\n",
              "      <td>...</td>\n",
              "      <td>...</td>\n",
              "      <td>...</td>\n",
              "      <td>...</td>\n",
              "      <td>...</td>\n",
              "      <td>...</td>\n",
              "      <td>...</td>\n",
              "    </tr>\n",
              "    <tr>\n",
              "      <th>2019-8</th>\n",
              "      <td>1398.0</td>\n",
              "      <td>27.2</td>\n",
              "      <td>190.5</td>\n",
              "      <td>486.24</td>\n",
              "      <td>239.3</td>\n",
              "      <td>1.6</td>\n",
              "      <td>7.5</td>\n",
              "      <td>996.9</td>\n",
              "      <td>1005.7</td>\n",
              "      <td>981.2</td>\n",
              "      <td>1006.6</td>\n",
              "      <td>1015.6</td>\n",
              "      <td>990.8</td>\n",
              "      <td>69</td>\n",
              "      <td>28</td>\n",
              "    </tr>\n",
              "    <tr>\n",
              "      <th>2019-9</th>\n",
              "      <td>1714.0</td>\n",
              "      <td>22.6</td>\n",
              "      <td>139.8</td>\n",
              "      <td>386.78</td>\n",
              "      <td>168.9</td>\n",
              "      <td>2.2</td>\n",
              "      <td>11.8</td>\n",
              "      <td>1004.7</td>\n",
              "      <td>1014.9</td>\n",
              "      <td>978.3</td>\n",
              "      <td>1014.6</td>\n",
              "      <td>1024.9</td>\n",
              "      <td>987.7</td>\n",
              "      <td>65</td>\n",
              "      <td>24</td>\n",
              "    </tr>\n",
              "    <tr>\n",
              "      <th>2019-10</th>\n",
              "      <td>2380.0</td>\n",
              "      <td>16.4</td>\n",
              "      <td>55.5</td>\n",
              "      <td>395.43</td>\n",
              "      <td>236.5</td>\n",
              "      <td>2.1</td>\n",
              "      <td>6.7</td>\n",
              "      <td>1008.8</td>\n",
              "      <td>1019.3</td>\n",
              "      <td>992.1</td>\n",
              "      <td>1018.9</td>\n",
              "      <td>1029.6</td>\n",
              "      <td>1002.0</td>\n",
              "      <td>62</td>\n",
              "      <td>23</td>\n",
              "    </tr>\n",
              "    <tr>\n",
              "      <th>2019-11</th>\n",
              "      <td>1909.0</td>\n",
              "      <td>7.6</td>\n",
              "      <td>78.8</td>\n",
              "      <td>284.28</td>\n",
              "      <td>203.2</td>\n",
              "      <td>2.2</td>\n",
              "      <td>7.0</td>\n",
              "      <td>1012.2</td>\n",
              "      <td>1023.6</td>\n",
              "      <td>994.4</td>\n",
              "      <td>1022.7</td>\n",
              "      <td>1034.5</td>\n",
              "      <td>1004.7</td>\n",
              "      <td>56</td>\n",
              "      <td>14</td>\n",
              "    </tr>\n",
              "    <tr>\n",
              "      <th>2019-12</th>\n",
              "      <td>2264.0</td>\n",
              "      <td>1.4</td>\n",
              "      <td>22.6</td>\n",
              "      <td>223.25</td>\n",
              "      <td>164.2</td>\n",
              "      <td>2.1</td>\n",
              "      <td>7.5</td>\n",
              "      <td>1014.9</td>\n",
              "      <td>1028.1</td>\n",
              "      <td>1002.8</td>\n",
              "      <td>1025.8</td>\n",
              "      <td>1039.5</td>\n",
              "      <td>1013.1</td>\n",
              "      <td>58</td>\n",
              "      <td>17</td>\n",
              "    </tr>\n",
              "  </tbody>\n",
              "</table>\n",
              "<p>120 rows × 15 columns</p>\n",
              "</div>"
            ],
            "text/plain": [
              "          price  평균기온(℃)  강수량(mm)  ...  최저해면기압(hPa)  평균상대습도(%)  최소상대습도(%)\n",
              "2010-1    798.0     -4.5     29.3  ...       1007.9         65         26\n",
              "2010-2    796.0      1.4     55.3  ...       1006.0         59         14\n",
              "2010-3    987.0      4.3     82.5  ...        994.1         59         13\n",
              "2010-4   1288.0      9.5     62.8  ...       1001.9         54         12\n",
              "2010-5   1495.0     17.2    124.0  ...        990.9         62         21\n",
              "...         ...      ...      ...  ...          ...        ...        ...\n",
              "2019-8   1398.0     27.2    190.5  ...        990.8         69         28\n",
              "2019-9   1714.0     22.6    139.8  ...        987.7         65         24\n",
              "2019-10  2380.0     16.4     55.5  ...       1002.0         62         23\n",
              "2019-11  1909.0      7.6     78.8  ...       1004.7         56         14\n",
              "2019-12  2264.0      1.4     22.6  ...       1013.1         58         17\n",
              "\n",
              "[120 rows x 15 columns]"
            ]
          },
          "metadata": {
            "tags": []
          },
          "execution_count": 360
        }
      ]
    },
    {
      "cell_type": "code",
      "metadata": {
        "id": "txbRl65o2Qm9",
        "colab_type": "code",
        "colab": {
          "base_uri": "https://localhost:8080/",
          "height": 731
        },
        "outputId": "3fa48ba7-e9d4-4eec-f0f0-1c7399e3256b"
      },
      "source": [
        "col = price_df.columns\n",
        "for i in range(len(col)-1):\n",
        "  print(\"무의 가격과 \" + col[i+1] + \" 간의 상관계수\")\n",
        "  print(np.corrcoef(price_df['price'], price_df[col[1+i]])[0][1])\n",
        "  print(\"*\"*30)"
      ],
      "execution_count": 365,
      "outputs": [
        {
          "output_type": "stream",
          "text": [
            "무의 가격과 평균기온(℃) 간의 상관계수\n",
            "0.3534357893805427\n",
            "******************************\n",
            "무의 가격과 강수량(mm) 간의 상관계수\n",
            "0.19829508910200816\n",
            "******************************\n",
            "무의 가격과 합계전천일사량(MJ/㎡) 간의 상관계수\n",
            "0.15336059699076754\n",
            "******************************\n",
            "무의 가격과 합계일조시간(hr) 간의 상관계수\n",
            "-0.058501954716614395\n",
            "******************************\n",
            "무의 가격과 평균풍속(m/s) 간의 상관계수\n",
            "-0.4106232892176223\n",
            "******************************\n",
            "무의 가격과 최대풍속(m/s) 간의 상관계수\n",
            "-0.1601512559792627\n",
            "******************************\n",
            "무의 가격과 평균현지기압(hPa) 간의 상관계수\n",
            "-0.23061578709098135\n",
            "******************************\n",
            "무의 가격과 최고현지기압(hPa) 간의 상관계수\n",
            "-0.19815832408844486\n",
            "******************************\n",
            "무의 가격과 최저현지기압(hPa) 간의 상관계수\n",
            "-0.229233853080986\n",
            "******************************\n",
            "무의 가격과 평균해면기압(hPa) 간의 상관계수\n",
            "-0.23933820625167768\n",
            "******************************\n",
            "무의 가격과 최고해면기압(hPa) 간의 상관계수\n",
            "-0.2040152015995037\n",
            "******************************\n",
            "무의 가격과 최저해면기압(hPa) 간의 상관계수\n",
            "-0.2407796112571197\n",
            "******************************\n",
            "무의 가격과 평균상대습도(%) 간의 상관계수\n",
            "0.28641532092499244\n",
            "******************************\n",
            "무의 가격과 최소상대습도(%) 간의 상관계수\n",
            "0.20367526795019728\n",
            "******************************\n"
          ],
          "name": "stdout"
        }
      ]
    },
    {
      "cell_type": "code",
      "metadata": {
        "id": "kfkFygjP9bZ7",
        "colab_type": "code",
        "colab": {
          "base_uri": "https://localhost:8080/",
          "height": 85
        },
        "outputId": "f217da7f-8e13-4f35-aa53-1d36eb02cd42"
      },
      "source": [
        "col"
      ],
      "execution_count": 375,
      "outputs": [
        {
          "output_type": "execute_result",
          "data": {
            "text/plain": [
              "Index(['price', '평균기온(℃)', '강수량(mm)', '합계전천일사량(MJ/㎡)', '합계일조시간(hr)',\n",
              "       '평균풍속(m/s)', '최대풍속(m/s)', '평균현지기압(hPa)', '최고현지기압(hPa)', '최저현지기압(hPa)',\n",
              "       '평균해면기압(hPa)', '최고해면기압(hPa)', '최저해면기압(hPa)', '평균상대습도(%)', '최소상대습도(%)'],\n",
              "      dtype='object')"
            ]
          },
          "metadata": {
            "tags": []
          },
          "execution_count": 375
        }
      ]
    },
    {
      "cell_type": "code",
      "metadata": {
        "id": "-JZfm-HS2Qoh",
        "colab_type": "code",
        "colab": {}
      },
      "source": [
        "# 그래프로 확인"
      ],
      "execution_count": 0,
      "outputs": []
    },
    {
      "cell_type": "code",
      "metadata": {
        "id": "Tdfz795s7ptS",
        "colab_type": "code",
        "colab": {
          "base_uri": "https://localhost:8080/",
          "height": 439
        },
        "outputId": "c332e9ed-6cac-41c7-de9b-5b0048b2d793"
      },
      "source": [
        "for i in range(len(col)):\n",
        "  fig = plt.figure(figsize=(16,16))\n",
        "  plt.subplot(4,4,i+1)\n",
        "  plt('LSTAT','CMEDV',data=price_df, linestyle='none',marker='o',markersize=5, color='blue',alpha=0.5)\n",
        "  plt.show()"
      ],
      "execution_count": 374,
      "outputs": [
        {
          "output_type": "error",
          "ename": "TypeError",
          "evalue": "ignored",
          "traceback": [
            "\u001b[0;31m---------------------------------------------------------------------------\u001b[0m",
            "\u001b[0;31mTypeError\u001b[0m                                 Traceback (most recent call last)",
            "\u001b[0;32m<ipython-input-374-cfbc92ce2ba5>\u001b[0m in \u001b[0;36m<module>\u001b[0;34m()\u001b[0m\n\u001b[1;32m      2\u001b[0m   \u001b[0mfig\u001b[0m \u001b[0;34m=\u001b[0m \u001b[0mplt\u001b[0m\u001b[0;34m.\u001b[0m\u001b[0mfigure\u001b[0m\u001b[0;34m(\u001b[0m\u001b[0mfigsize\u001b[0m\u001b[0;34m=\u001b[0m\u001b[0;34m(\u001b[0m\u001b[0;36m16\u001b[0m\u001b[0;34m,\u001b[0m\u001b[0;36m16\u001b[0m\u001b[0;34m)\u001b[0m\u001b[0;34m)\u001b[0m\u001b[0;34m\u001b[0m\u001b[0;34m\u001b[0m\u001b[0m\n\u001b[1;32m      3\u001b[0m   \u001b[0mplt\u001b[0m\u001b[0;34m.\u001b[0m\u001b[0msubplot\u001b[0m\u001b[0;34m(\u001b[0m\u001b[0;36m4\u001b[0m\u001b[0;34m,\u001b[0m\u001b[0;36m4\u001b[0m\u001b[0;34m,\u001b[0m\u001b[0mi\u001b[0m\u001b[0;34m+\u001b[0m\u001b[0;36m1\u001b[0m\u001b[0;34m)\u001b[0m\u001b[0;34m\u001b[0m\u001b[0;34m\u001b[0m\u001b[0m\n\u001b[0;32m----> 4\u001b[0;31m   \u001b[0mplt\u001b[0m\u001b[0;34m(\u001b[0m\u001b[0mprice_df\u001b[0m\u001b[0;34m[\u001b[0m\u001b[0;34m'price'\u001b[0m\u001b[0;34m]\u001b[0m\u001b[0;34m,\u001b[0m \u001b[0mprice_df\u001b[0m\u001b[0;34m[\u001b[0m\u001b[0mcol\u001b[0m\u001b[0;34m[\u001b[0m\u001b[0;36m1\u001b[0m\u001b[0;34m+\u001b[0m\u001b[0mi\u001b[0m\u001b[0;34m]\u001b[0m\u001b[0;34m]\u001b[0m\u001b[0;34m)\u001b[0m\u001b[0;34m\u001b[0m\u001b[0;34m\u001b[0m\u001b[0m\n\u001b[0m\u001b[1;32m      5\u001b[0m   \u001b[0mplt\u001b[0m\u001b[0;34m.\u001b[0m\u001b[0mshow\u001b[0m\u001b[0;34m(\u001b[0m\u001b[0;34m)\u001b[0m\u001b[0;34m\u001b[0m\u001b[0;34m\u001b[0m\u001b[0m\n",
            "\u001b[0;31mTypeError\u001b[0m: 'module' object is not callable"
          ]
        },
        {
          "output_type": "display_data",
          "data": {
            "image/png": "[encoded data removed]",
            "text/plain": [
              "<Figure size 1152x1152 with 1 Axes>"
            ]
          },
          "metadata": {
            "tags": [],
            "needs_background": "light"
          }
        }
      ]
    },
    {
      "cell_type": "code",
      "metadata": {
        "id": "LbWrT9uF7pvO",
        "colab_type": "code",
        "colab": {}
      },
      "source": [
        ""
      ],
      "execution_count": 0,
      "outputs": []
    },
    {
      "cell_type": "code",
      "metadata": {
        "id": "kqU5XbNa7pwx",
        "colab_type": "code",
        "colab": {}
      },
      "source": [
        ""
      ],
      "execution_count": 0,
      "outputs": []
    }
  ]
}