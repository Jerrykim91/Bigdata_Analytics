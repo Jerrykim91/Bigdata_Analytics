{
 "cells": [
  {
   "cell_type": "code",
   "execution_count": 1,
   "metadata": {},
   "outputs": [],
   "source": [
    "import pandas as pd"
   ]
  },
  {
   "cell_type": "code",
   "execution_count": 2,
   "metadata": {},
   "outputs": [],
   "source": [
    "carrot_19 = pd.read_csv('C:/Users/admin/Desktop/Downloads/20190624_20191231.csv')"
   ]
  },
  {
   "cell_type": "code",
   "execution_count": 3,
   "metadata": {},
   "outputs": [],
   "source": [
    "carrot_20 = pd.read_csv('C:/Users/admin/Desktop/Downloads/20200110_20200415.csv',header=None)"
   ]
  },
  {
   "cell_type": "code",
   "execution_count": 4,
   "metadata": {},
   "outputs": [],
   "source": [
    "weather_19 = pd.read_csv('C:/Users/admin/Desktop/Downloads/20200101_202004015_기상.csv')\n"
   ]
  },
  {
   "cell_type": "code",
   "execution_count": 5,
   "metadata": {},
   "outputs": [],
   "source": [
    "weather_20 = pd.read_csv('C:/Users/admin/Desktop/Downloads/2019_기상.csv',encoding='utf-8')\n"
   ]
  },
  {
   "cell_type": "code",
   "execution_count": 6,
   "metadata": {},
   "outputs": [
    {
     "data": {
      "text/plain": [
       "Index(['날짜', '현재일기', '현재기온', '이슬점온도', '체감온도', '강수량', '습도', '풍향', '풍속', '해면기압'], dtype='object')"
      ]
     },
     "execution_count": 6,
     "metadata": {},
     "output_type": "execute_result"
    }
   ],
   "source": [
    "weather_20.columns"
   ]
  },
  {
   "cell_type": "code",
   "execution_count": 7,
   "metadata": {},
   "outputs": [],
   "source": [
    "weather20=weather_20[['날짜', '현재기온', '이슬점온도', '체감온도', '강수량', '습도', '풍속', '해면기압']]"
   ]
  },
  {
   "cell_type": "code",
   "execution_count": 8,
   "metadata": {},
   "outputs": [],
   "source": [
    "weather19=weather_19"
   ]
  },
  {
   "cell_type": "code",
   "execution_count": 9,
   "metadata": {},
   "outputs": [],
   "source": [
    "tmp = weather19"
   ]
  },
  {
   "cell_type": "code",
   "execution_count": 10,
   "metadata": {},
   "outputs": [],
   "source": [
    "weathe19=weather20"
   ]
  },
  {
   "cell_type": "code",
   "execution_count": 11,
   "metadata": {},
   "outputs": [],
   "source": [
    "weather20=tmp"
   ]
  },
  {
   "cell_type": "code",
   "execution_count": 12,
   "metadata": {},
   "outputs": [],
   "source": [
    "weather19 = weathe19.drop('강수량',axis=1)"
   ]
  },
  {
   "cell_type": "code",
   "execution_count": 13,
   "metadata": {},
   "outputs": [
    {
     "data": {
      "text/html": [
       "<div>\n",
       "<style scoped>\n",
       "    .dataframe tbody tr th:only-of-type {\n",
       "        vertical-align: middle;\n",
       "    }\n",
       "\n",
       "    .dataframe tbody tr th {\n",
       "        vertical-align: top;\n",
       "    }\n",
       "\n",
       "    .dataframe thead th {\n",
       "        text-align: right;\n",
       "    }\n",
       "</style>\n",
       "<table border=\"1\" class=\"dataframe\">\n",
       "  <thead>\n",
       "    <tr style=\"text-align: right;\">\n",
       "      <th></th>\n",
       "      <th>날짜</th>\n",
       "      <th>현재기온</th>\n",
       "      <th>이슬점온도</th>\n",
       "      <th>체감온도</th>\n",
       "      <th>습도</th>\n",
       "      <th>풍속</th>\n",
       "      <th>해면기압</th>\n",
       "    </tr>\n",
       "  </thead>\n",
       "  <tbody>\n",
       "    <tr>\n",
       "      <td>0</td>\n",
       "      <td>2020-04-15 14:00:00</td>\n",
       "      <td>19.2</td>\n",
       "      <td>2.9</td>\n",
       "      <td>63.0</td>\n",
       "      <td>34</td>\n",
       "      <td>15.1</td>\n",
       "      <td>1014.2</td>\n",
       "    </tr>\n",
       "    <tr>\n",
       "      <td>1</td>\n",
       "      <td>2020-04-14 14:00:00</td>\n",
       "      <td>22.2</td>\n",
       "      <td>-4.8</td>\n",
       "      <td>66.0</td>\n",
       "      <td>16</td>\n",
       "      <td>9.7</td>\n",
       "      <td>1015.9</td>\n",
       "    </tr>\n",
       "    <tr>\n",
       "      <td>2</td>\n",
       "      <td>2020-04-13 14:00:00</td>\n",
       "      <td>11.8</td>\n",
       "      <td>-2.4</td>\n",
       "      <td>55.0</td>\n",
       "      <td>37</td>\n",
       "      <td>16.9</td>\n",
       "      <td>1011.7</td>\n",
       "    </tr>\n",
       "    <tr>\n",
       "      <td>3</td>\n",
       "      <td>2020-04-12 14:00:00</td>\n",
       "      <td>9.4</td>\n",
       "      <td>5.7</td>\n",
       "      <td>50.0</td>\n",
       "      <td>78</td>\n",
       "      <td>5.4</td>\n",
       "      <td>1011.9</td>\n",
       "    </tr>\n",
       "    <tr>\n",
       "      <td>4</td>\n",
       "      <td>2020-04-11 14:00:00</td>\n",
       "      <td>14.0</td>\n",
       "      <td>3.7</td>\n",
       "      <td>57.0</td>\n",
       "      <td>50</td>\n",
       "      <td>6.5</td>\n",
       "      <td>1019.5</td>\n",
       "    </tr>\n",
       "    <tr>\n",
       "      <td>...</td>\n",
       "      <td>...</td>\n",
       "      <td>...</td>\n",
       "      <td>...</td>\n",
       "      <td>...</td>\n",
       "      <td>...</td>\n",
       "      <td>...</td>\n",
       "      <td>...</td>\n",
       "    </tr>\n",
       "    <tr>\n",
       "      <td>101</td>\n",
       "      <td>2020-01-05 14:00:00</td>\n",
       "      <td>11.2</td>\n",
       "      <td>-2.6</td>\n",
       "      <td>10.5</td>\n",
       "      <td>38</td>\n",
       "      <td>7.6</td>\n",
       "      <td>1029.3</td>\n",
       "    </tr>\n",
       "    <tr>\n",
       "      <td>102</td>\n",
       "      <td>2020-01-04 14:00:00</td>\n",
       "      <td>8.8</td>\n",
       "      <td>-4.0</td>\n",
       "      <td>6.5</td>\n",
       "      <td>40</td>\n",
       "      <td>14.8</td>\n",
       "      <td>1022.7</td>\n",
       "    </tr>\n",
       "    <tr>\n",
       "      <td>103</td>\n",
       "      <td>2020-01-03 14:00:00</td>\n",
       "      <td>9.8</td>\n",
       "      <td>-4.2</td>\n",
       "      <td>7.7</td>\n",
       "      <td>37</td>\n",
       "      <td>14.4</td>\n",
       "      <td>1024.2</td>\n",
       "    </tr>\n",
       "    <tr>\n",
       "      <td>104</td>\n",
       "      <td>2020-01-02 14:00:00</td>\n",
       "      <td>8.1</td>\n",
       "      <td>-3.1</td>\n",
       "      <td>6.0</td>\n",
       "      <td>45</td>\n",
       "      <td>11.9</td>\n",
       "      <td>1026.9</td>\n",
       "    </tr>\n",
       "    <tr>\n",
       "      <td>105</td>\n",
       "      <td>2020-01-01 14:00:00</td>\n",
       "      <td>6.6</td>\n",
       "      <td>-5.7</td>\n",
       "      <td>3.8</td>\n",
       "      <td>41</td>\n",
       "      <td>14.4</td>\n",
       "      <td>1029.8</td>\n",
       "    </tr>\n",
       "  </tbody>\n",
       "</table>\n",
       "<p>106 rows × 7 columns</p>\n",
       "</div>"
      ],
      "text/plain": [
       "                      날짜  현재기온  이슬점온도  체감온도  습도    풍속    해면기압\n",
       "0    2020-04-15 14:00:00  19.2    2.9  63.0  34  15.1  1014.2\n",
       "1    2020-04-14 14:00:00  22.2   -4.8  66.0  16   9.7  1015.9\n",
       "2    2020-04-13 14:00:00  11.8   -2.4  55.0  37  16.9  1011.7\n",
       "3    2020-04-12 14:00:00   9.4    5.7  50.0  78   5.4  1011.9\n",
       "4    2020-04-11 14:00:00  14.0    3.7  57.0  50   6.5  1019.5\n",
       "..                   ...   ...    ...   ...  ..   ...     ...\n",
       "101  2020-01-05 14:00:00  11.2   -2.6  10.5  38   7.6  1029.3\n",
       "102  2020-01-04 14:00:00   8.8   -4.0   6.5  40  14.8  1022.7\n",
       "103  2020-01-03 14:00:00   9.8   -4.2   7.7  37  14.4  1024.2\n",
       "104  2020-01-02 14:00:00   8.1   -3.1   6.0  45  11.9  1026.9\n",
       "105  2020-01-01 14:00:00   6.6   -5.7   3.8  41  14.4  1029.8\n",
       "\n",
       "[106 rows x 7 columns]"
      ]
     },
     "execution_count": 13,
     "metadata": {},
     "output_type": "execute_result"
    }
   ],
   "source": [
    "weather20"
   ]
  },
  {
   "cell_type": "code",
   "execution_count": 14,
   "metadata": {},
   "outputs": [],
   "source": [
    "weather = pd.concat([weather20,weather19],axis=0)"
   ]
  },
  {
   "cell_type": "code",
   "execution_count": 15,
   "metadata": {},
   "outputs": [
    {
     "data": {
      "text/html": [
       "<div>\n",
       "<style scoped>\n",
       "    .dataframe tbody tr th:only-of-type {\n",
       "        vertical-align: middle;\n",
       "    }\n",
       "\n",
       "    .dataframe tbody tr th {\n",
       "        vertical-align: top;\n",
       "    }\n",
       "\n",
       "    .dataframe thead th {\n",
       "        text-align: right;\n",
       "    }\n",
       "</style>\n",
       "<table border=\"1\" class=\"dataframe\">\n",
       "  <thead>\n",
       "    <tr style=\"text-align: right;\">\n",
       "      <th></th>\n",
       "      <th>Unnamed: 0</th>\n",
       "      <th>날짜</th>\n",
       "      <th>당근가격</th>\n",
       "    </tr>\n",
       "  </thead>\n",
       "  <tbody>\n",
       "    <tr>\n",
       "      <td>0</td>\n",
       "      <td>2</td>\n",
       "      <td>2019-06-24</td>\n",
       "      <td>2,500</td>\n",
       "    </tr>\n",
       "    <tr>\n",
       "      <td>1</td>\n",
       "      <td>3</td>\n",
       "      <td>2019-06-25</td>\n",
       "      <td>2,500</td>\n",
       "    </tr>\n",
       "    <tr>\n",
       "      <td>2</td>\n",
       "      <td>4</td>\n",
       "      <td>2019-06-26</td>\n",
       "      <td>2,500</td>\n",
       "    </tr>\n",
       "    <tr>\n",
       "      <td>3</td>\n",
       "      <td>5</td>\n",
       "      <td>2019-06-27</td>\n",
       "      <td>2,500</td>\n",
       "    </tr>\n",
       "    <tr>\n",
       "      <td>4</td>\n",
       "      <td>6</td>\n",
       "      <td>2019-06-28</td>\n",
       "      <td>2,500</td>\n",
       "    </tr>\n",
       "    <tr>\n",
       "      <td>...</td>\n",
       "      <td>...</td>\n",
       "      <td>...</td>\n",
       "      <td>...</td>\n",
       "    </tr>\n",
       "    <tr>\n",
       "      <td>125</td>\n",
       "      <td>59</td>\n",
       "      <td>2019-12-24</td>\n",
       "      <td>4,000</td>\n",
       "    </tr>\n",
       "    <tr>\n",
       "      <td>126</td>\n",
       "      <td>60</td>\n",
       "      <td>2019-12-26</td>\n",
       "      <td>4,000</td>\n",
       "    </tr>\n",
       "    <tr>\n",
       "      <td>127</td>\n",
       "      <td>61</td>\n",
       "      <td>2019-12-27</td>\n",
       "      <td>4,000</td>\n",
       "    </tr>\n",
       "    <tr>\n",
       "      <td>128</td>\n",
       "      <td>62</td>\n",
       "      <td>2019-12-30</td>\n",
       "      <td>4,000</td>\n",
       "    </tr>\n",
       "    <tr>\n",
       "      <td>129</td>\n",
       "      <td>63</td>\n",
       "      <td>2019-12-31</td>\n",
       "      <td>4,000</td>\n",
       "    </tr>\n",
       "  </tbody>\n",
       "</table>\n",
       "<p>130 rows × 3 columns</p>\n",
       "</div>"
      ],
      "text/plain": [
       "     Unnamed: 0          날짜   당근가격\n",
       "0             2  2019-06-24  2,500\n",
       "1             3  2019-06-25  2,500\n",
       "2             4  2019-06-26  2,500\n",
       "3             5  2019-06-27  2,500\n",
       "4             6  2019-06-28  2,500\n",
       "..          ...         ...    ...\n",
       "125          59  2019-12-24  4,000\n",
       "126          60  2019-12-26  4,000\n",
       "127          61  2019-12-27  4,000\n",
       "128          62  2019-12-30  4,000\n",
       "129          63  2019-12-31  4,000\n",
       "\n",
       "[130 rows x 3 columns]"
      ]
     },
     "execution_count": 15,
     "metadata": {},
     "output_type": "execute_result"
    }
   ],
   "source": [
    "carrot_19"
   ]
  },
  {
   "cell_type": "code",
   "execution_count": 16,
   "metadata": {},
   "outputs": [],
   "source": [
    "carrot20 = carrot_20.transpose()[3:]"
   ]
  },
  {
   "cell_type": "code",
   "execution_count": 17,
   "metadata": {},
   "outputs": [],
   "source": [
    "carrot20.rename(columns={0:'날짜',3:'가격'},inplace=True)"
   ]
  },
  {
   "cell_type": "code",
   "execution_count": 18,
   "metadata": {},
   "outputs": [],
   "source": [
    "carrot20 = carrot20[['날짜','가격']]"
   ]
  },
  {
   "cell_type": "code",
   "execution_count": 19,
   "metadata": {},
   "outputs": [],
   "source": [
    "carrot19 = carrot_19[['날짜','당근가격']]"
   ]
  },
  {
   "cell_type": "code",
   "execution_count": 20,
   "metadata": {},
   "outputs": [
    {
     "name": "stderr",
     "output_type": "stream",
     "text": [
      "C:\\Users\\admin\\Anaconda3\\lib\\site-packages\\pandas\\core\\frame.py:4223: SettingWithCopyWarning: \n",
      "A value is trying to be set on a copy of a slice from a DataFrame\n",
      "\n",
      "See the caveats in the documentation: http://pandas.pydata.org/pandas-docs/stable/user_guide/indexing.html#returning-a-view-versus-a-copy\n",
      "  return super().rename(**kwargs)\n"
     ]
    }
   ],
   "source": [
    "carrot19.rename(columns={'당근가격':'가격'},inplace=True)"
   ]
  },
  {
   "cell_type": "code",
   "execution_count": null,
   "metadata": {},
   "outputs": [],
   "source": []
  },
  {
   "cell_type": "code",
   "execution_count": 21,
   "metadata": {},
   "outputs": [
    {
     "data": {
      "text/html": [
       "<div>\n",
       "<style scoped>\n",
       "    .dataframe tbody tr th:only-of-type {\n",
       "        vertical-align: middle;\n",
       "    }\n",
       "\n",
       "    .dataframe tbody tr th {\n",
       "        vertical-align: top;\n",
       "    }\n",
       "\n",
       "    .dataframe thead th {\n",
       "        text-align: right;\n",
       "    }\n",
       "</style>\n",
       "<table border=\"1\" class=\"dataframe\">\n",
       "  <thead>\n",
       "    <tr style=\"text-align: right;\">\n",
       "      <th></th>\n",
       "      <th>날짜</th>\n",
       "      <th>가격</th>\n",
       "    </tr>\n",
       "  </thead>\n",
       "  <tbody>\n",
       "    <tr>\n",
       "      <td>3</td>\n",
       "      <td>2020-01-10</td>\n",
       "      <td>4,000</td>\n",
       "    </tr>\n",
       "    <tr>\n",
       "      <td>4</td>\n",
       "      <td>2020-01-13</td>\n",
       "      <td>4,000</td>\n",
       "    </tr>\n",
       "    <tr>\n",
       "      <td>5</td>\n",
       "      <td>2020-01-14</td>\n",
       "      <td>4,000</td>\n",
       "    </tr>\n",
       "    <tr>\n",
       "      <td>6</td>\n",
       "      <td>2020-01-15</td>\n",
       "      <td>4,000</td>\n",
       "    </tr>\n",
       "    <tr>\n",
       "      <td>7</td>\n",
       "      <td>2020-01-16</td>\n",
       "      <td>4,000</td>\n",
       "    </tr>\n",
       "    <tr>\n",
       "      <td>...</td>\n",
       "      <td>...</td>\n",
       "      <td>...</td>\n",
       "    </tr>\n",
       "    <tr>\n",
       "      <td>64</td>\n",
       "      <td>2020-04-08</td>\n",
       "      <td>4,500</td>\n",
       "    </tr>\n",
       "    <tr>\n",
       "      <td>65</td>\n",
       "      <td>2020-04-09</td>\n",
       "      <td>4,500</td>\n",
       "    </tr>\n",
       "    <tr>\n",
       "      <td>66</td>\n",
       "      <td>2020-04-10</td>\n",
       "      <td>4,500</td>\n",
       "    </tr>\n",
       "    <tr>\n",
       "      <td>67</td>\n",
       "      <td>2020-04-13</td>\n",
       "      <td>4,500</td>\n",
       "    </tr>\n",
       "    <tr>\n",
       "      <td>68</td>\n",
       "      <td>2020-04-14</td>\n",
       "      <td>4,300</td>\n",
       "    </tr>\n",
       "  </tbody>\n",
       "</table>\n",
       "<p>66 rows × 2 columns</p>\n",
       "</div>"
      ],
      "text/plain": [
       "            날짜     가격\n",
       "3   2020-01-10  4,000\n",
       "4   2020-01-13  4,000\n",
       "5   2020-01-14  4,000\n",
       "6   2020-01-15  4,000\n",
       "7   2020-01-16  4,000\n",
       "..         ...    ...\n",
       "64  2020-04-08  4,500\n",
       "65  2020-04-09  4,500\n",
       "66  2020-04-10  4,500\n",
       "67  2020-04-13  4,500\n",
       "68  2020-04-14  4,300\n",
       "\n",
       "[66 rows x 2 columns]"
      ]
     },
     "execution_count": 21,
     "metadata": {},
     "output_type": "execute_result"
    }
   ],
   "source": [
    "carrot20"
   ]
  },
  {
   "cell_type": "code",
   "execution_count": 22,
   "metadata": {},
   "outputs": [],
   "source": [
    "carrot = pd.concat([carrot19,carrot20],axis=0)"
   ]
  },
  {
   "cell_type": "code",
   "execution_count": 23,
   "metadata": {},
   "outputs": [
    {
     "data": {
      "text/html": [
       "<div>\n",
       "<style scoped>\n",
       "    .dataframe tbody tr th:only-of-type {\n",
       "        vertical-align: middle;\n",
       "    }\n",
       "\n",
       "    .dataframe tbody tr th {\n",
       "        vertical-align: top;\n",
       "    }\n",
       "\n",
       "    .dataframe thead th {\n",
       "        text-align: right;\n",
       "    }\n",
       "</style>\n",
       "<table border=\"1\" class=\"dataframe\">\n",
       "  <thead>\n",
       "    <tr style=\"text-align: right;\">\n",
       "      <th></th>\n",
       "      <th>날짜</th>\n",
       "      <th>가격</th>\n",
       "    </tr>\n",
       "  </thead>\n",
       "  <tbody>\n",
       "    <tr>\n",
       "      <td>0</td>\n",
       "      <td>2019-06-24</td>\n",
       "      <td>2,500</td>\n",
       "    </tr>\n",
       "    <tr>\n",
       "      <td>1</td>\n",
       "      <td>2019-06-25</td>\n",
       "      <td>2,500</td>\n",
       "    </tr>\n",
       "    <tr>\n",
       "      <td>2</td>\n",
       "      <td>2019-06-26</td>\n",
       "      <td>2,500</td>\n",
       "    </tr>\n",
       "    <tr>\n",
       "      <td>3</td>\n",
       "      <td>2019-06-27</td>\n",
       "      <td>2,500</td>\n",
       "    </tr>\n",
       "    <tr>\n",
       "      <td>4</td>\n",
       "      <td>2019-06-28</td>\n",
       "      <td>2,500</td>\n",
       "    </tr>\n",
       "    <tr>\n",
       "      <td>...</td>\n",
       "      <td>...</td>\n",
       "      <td>...</td>\n",
       "    </tr>\n",
       "    <tr>\n",
       "      <td>64</td>\n",
       "      <td>2020-04-08</td>\n",
       "      <td>4,500</td>\n",
       "    </tr>\n",
       "    <tr>\n",
       "      <td>65</td>\n",
       "      <td>2020-04-09</td>\n",
       "      <td>4,500</td>\n",
       "    </tr>\n",
       "    <tr>\n",
       "      <td>66</td>\n",
       "      <td>2020-04-10</td>\n",
       "      <td>4,500</td>\n",
       "    </tr>\n",
       "    <tr>\n",
       "      <td>67</td>\n",
       "      <td>2020-04-13</td>\n",
       "      <td>4,500</td>\n",
       "    </tr>\n",
       "    <tr>\n",
       "      <td>68</td>\n",
       "      <td>2020-04-14</td>\n",
       "      <td>4,300</td>\n",
       "    </tr>\n",
       "  </tbody>\n",
       "</table>\n",
       "<p>196 rows × 2 columns</p>\n",
       "</div>"
      ],
      "text/plain": [
       "            날짜     가격\n",
       "0   2019-06-24  2,500\n",
       "1   2019-06-25  2,500\n",
       "2   2019-06-26  2,500\n",
       "3   2019-06-27  2,500\n",
       "4   2019-06-28  2,500\n",
       "..         ...    ...\n",
       "64  2020-04-08  4,500\n",
       "65  2020-04-09  4,500\n",
       "66  2020-04-10  4,500\n",
       "67  2020-04-13  4,500\n",
       "68  2020-04-14  4,300\n",
       "\n",
       "[196 rows x 2 columns]"
      ]
     },
     "execution_count": 23,
     "metadata": {},
     "output_type": "execute_result"
    }
   ],
   "source": [
    "carrot"
   ]
  },
  {
   "cell_type": "code",
   "execution_count": 24,
   "metadata": {},
   "outputs": [
    {
     "data": {
      "text/html": [
       "<div>\n",
       "<style scoped>\n",
       "    .dataframe tbody tr th:only-of-type {\n",
       "        vertical-align: middle;\n",
       "    }\n",
       "\n",
       "    .dataframe tbody tr th {\n",
       "        vertical-align: top;\n",
       "    }\n",
       "\n",
       "    .dataframe thead th {\n",
       "        text-align: right;\n",
       "    }\n",
       "</style>\n",
       "<table border=\"1\" class=\"dataframe\">\n",
       "  <thead>\n",
       "    <tr style=\"text-align: right;\">\n",
       "      <th></th>\n",
       "      <th>날짜</th>\n",
       "      <th>현재기온</th>\n",
       "      <th>이슬점온도</th>\n",
       "      <th>체감온도</th>\n",
       "      <th>습도</th>\n",
       "      <th>풍속</th>\n",
       "      <th>해면기압</th>\n",
       "    </tr>\n",
       "  </thead>\n",
       "  <tbody>\n",
       "    <tr>\n",
       "      <td>0</td>\n",
       "      <td>2020-04-15 14:00:00</td>\n",
       "      <td>19.2</td>\n",
       "      <td>2.9</td>\n",
       "      <td>63</td>\n",
       "      <td>34</td>\n",
       "      <td>15.1</td>\n",
       "      <td>1014.2</td>\n",
       "    </tr>\n",
       "    <tr>\n",
       "      <td>1</td>\n",
       "      <td>2020-04-14 14:00:00</td>\n",
       "      <td>22.2</td>\n",
       "      <td>-4.8</td>\n",
       "      <td>66</td>\n",
       "      <td>16</td>\n",
       "      <td>9.7</td>\n",
       "      <td>1015.9</td>\n",
       "    </tr>\n",
       "    <tr>\n",
       "      <td>2</td>\n",
       "      <td>2020-04-13 14:00:00</td>\n",
       "      <td>11.8</td>\n",
       "      <td>-2.4</td>\n",
       "      <td>55</td>\n",
       "      <td>37</td>\n",
       "      <td>16.9</td>\n",
       "      <td>1011.7</td>\n",
       "    </tr>\n",
       "    <tr>\n",
       "      <td>3</td>\n",
       "      <td>2020-04-12 14:00:00</td>\n",
       "      <td>9.4</td>\n",
       "      <td>5.7</td>\n",
       "      <td>50</td>\n",
       "      <td>78</td>\n",
       "      <td>5.4</td>\n",
       "      <td>1011.9</td>\n",
       "    </tr>\n",
       "    <tr>\n",
       "      <td>4</td>\n",
       "      <td>2020-04-11 14:00:00</td>\n",
       "      <td>14</td>\n",
       "      <td>3.7</td>\n",
       "      <td>57</td>\n",
       "      <td>50</td>\n",
       "      <td>6.5</td>\n",
       "      <td>1019.5</td>\n",
       "    </tr>\n",
       "    <tr>\n",
       "      <td>...</td>\n",
       "      <td>...</td>\n",
       "      <td>...</td>\n",
       "      <td>...</td>\n",
       "      <td>...</td>\n",
       "      <td>...</td>\n",
       "      <td>...</td>\n",
       "      <td>...</td>\n",
       "    </tr>\n",
       "    <tr>\n",
       "      <td>359</td>\n",
       "      <td>2019-01-06 14:00:00</td>\n",
       "      <td>8.5</td>\n",
       "      <td>-6.1</td>\n",
       "      <td>6.4</td>\n",
       "      <td>35</td>\n",
       "      <td>12.6</td>\n",
       "      <td>1025.0</td>\n",
       "    </tr>\n",
       "    <tr>\n",
       "      <td>360</td>\n",
       "      <td>2019-01-05 14:00:00</td>\n",
       "      <td>10.1</td>\n",
       "      <td>-11.2</td>\n",
       "      <td>8.2</td>\n",
       "      <td>21</td>\n",
       "      <td>14.0</td>\n",
       "      <td>1022.4</td>\n",
       "    </tr>\n",
       "    <tr>\n",
       "      <td>361</td>\n",
       "      <td>2019-01-04 14:00:00</td>\n",
       "      <td>2.9</td>\n",
       "      <td>-12.6</td>\n",
       "      <td>2.9</td>\n",
       "      <td>31</td>\n",
       "      <td>3.6</td>\n",
       "      <td>1029.8</td>\n",
       "    </tr>\n",
       "    <tr>\n",
       "      <td>362</td>\n",
       "      <td>2019-01-03 14:00:00</td>\n",
       "      <td>6.5</td>\n",
       "      <td>-14.9</td>\n",
       "      <td>3.0</td>\n",
       "      <td>20</td>\n",
       "      <td>19.8</td>\n",
       "      <td>1032.5</td>\n",
       "    </tr>\n",
       "    <tr>\n",
       "      <td>363</td>\n",
       "      <td>2019-01-02 14:00:00</td>\n",
       "      <td>5.5</td>\n",
       "      <td>-10.3</td>\n",
       "      <td>1.9</td>\n",
       "      <td>31</td>\n",
       "      <td>18.0</td>\n",
       "      <td>1030.4</td>\n",
       "    </tr>\n",
       "  </tbody>\n",
       "</table>\n",
       "<p>470 rows × 7 columns</p>\n",
       "</div>"
      ],
      "text/plain": [
       "                      날짜  현재기온  이슬점온도 체감온도  습도    풍속    해면기압\n",
       "0    2020-04-15 14:00:00  19.2    2.9   63  34  15.1  1014.2\n",
       "1    2020-04-14 14:00:00  22.2   -4.8   66  16   9.7  1015.9\n",
       "2    2020-04-13 14:00:00  11.8   -2.4   55  37  16.9  1011.7\n",
       "3    2020-04-12 14:00:00   9.4    5.7   50  78   5.4  1011.9\n",
       "4    2020-04-11 14:00:00    14    3.7   57  50   6.5  1019.5\n",
       "..                   ...   ...    ...  ...  ..   ...     ...\n",
       "359  2019-01-06 14:00:00   8.5   -6.1  6.4  35  12.6  1025.0\n",
       "360  2019-01-05 14:00:00  10.1  -11.2  8.2  21  14.0  1022.4\n",
       "361  2019-01-04 14:00:00   2.9  -12.6  2.9  31   3.6  1029.8\n",
       "362  2019-01-03 14:00:00   6.5  -14.9  3.0  20  19.8  1032.5\n",
       "363  2019-01-02 14:00:00   5.5  -10.3  1.9  31  18.0  1030.4\n",
       "\n",
       "[470 rows x 7 columns]"
      ]
     },
     "execution_count": 24,
     "metadata": {},
     "output_type": "execute_result"
    }
   ],
   "source": [
    "weather"
   ]
  },
  {
   "cell_type": "code",
   "execution_count": 25,
   "metadata": {},
   "outputs": [],
   "source": [
    "for i in range(len(weather['날짜'])):\n",
    "    weather['날짜'].iloc[i] = weather['날짜'].iloc[i][0:10]"
   ]
  },
  {
   "cell_type": "code",
   "execution_count": 26,
   "metadata": {},
   "outputs": [
    {
     "name": "stdout",
     "output_type": "stream",
     "text": [
      "0      2020-04-15\n",
      "1      2020-04-14\n",
      "2      2020-04-13\n",
      "3      2020-04-12\n",
      "4      2020-04-11\n",
      "          ...    \n",
      "359    2019-01-06\n",
      "360    2019-01-05\n",
      "361    2019-01-04\n",
      "362    2019-01-03\n",
      "363    2019-01-02\n",
      "Name: 날짜, Length: 470, dtype: object\n"
     ]
    }
   ],
   "source": [
    "print(weather['날짜'])"
   ]
  },
  {
   "cell_type": "code",
   "execution_count": 27,
   "metadata": {},
   "outputs": [],
   "source": [
    "data = pd.merge(weather,carrot,how = 'left')"
   ]
  },
  {
   "cell_type": "code",
   "execution_count": 28,
   "metadata": {},
   "outputs": [],
   "source": [
    "data.to_csv('./data/carrot_weather.csv')"
   ]
  },
  {
   "cell_type": "code",
   "execution_count": 29,
   "metadata": {},
   "outputs": [],
   "source": [
    "td = data[data['가격'].notnull()]"
   ]
  },
  {
   "cell_type": "code",
   "execution_count": 30,
   "metadata": {},
   "outputs": [
    {
     "data": {
      "text/plain": [
       "날짜       0\n",
       "현재기온     0\n",
       "이슬점온도    0\n",
       "체감온도     0\n",
       "습도       0\n",
       "풍속       0\n",
       "해면기압     0\n",
       "가격       0\n",
       "dtype: int64"
      ]
     },
     "execution_count": 30,
     "metadata": {},
     "output_type": "execute_result"
    }
   ],
   "source": [
    "td.isnull().sum()"
   ]
  },
  {
   "cell_type": "code",
   "execution_count": null,
   "metadata": {},
   "outputs": [],
   "source": []
  },
  {
   "cell_type": "code",
   "execution_count": 31,
   "metadata": {},
   "outputs": [],
   "source": [
    "import matplotlib.pyplot as plt\n",
    "import seaborn as sns\n",
    "%matplotlib inline"
   ]
  },
  {
   "cell_type": "code",
   "execution_count": 32,
   "metadata": {},
   "outputs": [
    {
     "data": {
      "text/html": [
       "<div>\n",
       "<style scoped>\n",
       "    .dataframe tbody tr th:only-of-type {\n",
       "        vertical-align: middle;\n",
       "    }\n",
       "\n",
       "    .dataframe tbody tr th {\n",
       "        vertical-align: top;\n",
       "    }\n",
       "\n",
       "    .dataframe thead th {\n",
       "        text-align: right;\n",
       "    }\n",
       "</style>\n",
       "<table border=\"1\" class=\"dataframe\">\n",
       "  <thead>\n",
       "    <tr style=\"text-align: right;\">\n",
       "      <th></th>\n",
       "      <th>날짜</th>\n",
       "      <th>현재기온</th>\n",
       "      <th>이슬점온도</th>\n",
       "      <th>체감온도</th>\n",
       "      <th>습도</th>\n",
       "      <th>풍속</th>\n",
       "      <th>해면기압</th>\n",
       "      <th>가격</th>\n",
       "    </tr>\n",
       "  </thead>\n",
       "  <tbody>\n",
       "    <tr>\n",
       "      <td>count</td>\n",
       "      <td>196</td>\n",
       "      <td>196</td>\n",
       "      <td>196</td>\n",
       "      <td>196</td>\n",
       "      <td>196</td>\n",
       "      <td>196</td>\n",
       "      <td>196</td>\n",
       "      <td>196</td>\n",
       "    </tr>\n",
       "    <tr>\n",
       "      <td>unique</td>\n",
       "      <td>196</td>\n",
       "      <td>153</td>\n",
       "      <td>161</td>\n",
       "      <td>121</td>\n",
       "      <td>100</td>\n",
       "      <td>77</td>\n",
       "      <td>155</td>\n",
       "      <td>8</td>\n",
       "    </tr>\n",
       "    <tr>\n",
       "      <td>top</td>\n",
       "      <td>2020-02-20</td>\n",
       "      <td>-</td>\n",
       "      <td>-</td>\n",
       "      <td>79</td>\n",
       "      <td>-</td>\n",
       "      <td>8.6</td>\n",
       "      <td>-</td>\n",
       "      <td>4,000</td>\n",
       "    </tr>\n",
       "    <tr>\n",
       "      <td>freq</td>\n",
       "      <td>1</td>\n",
       "      <td>8</td>\n",
       "      <td>8</td>\n",
       "      <td>9</td>\n",
       "      <td>8</td>\n",
       "      <td>8</td>\n",
       "      <td>8</td>\n",
       "      <td>80</td>\n",
       "    </tr>\n",
       "  </tbody>\n",
       "</table>\n",
       "</div>"
      ],
      "text/plain": [
       "                날짜 현재기온 이슬점온도 체감온도   습도   풍속 해면기압     가격\n",
       "count          196  196   196  196  196  196  196    196\n",
       "unique         196  153   161  121  100   77  155      8\n",
       "top     2020-02-20    -     -   79    -  8.6    -  4,000\n",
       "freq             1    8     8    9    8    8    8     80"
      ]
     },
     "execution_count": 32,
     "metadata": {},
     "output_type": "execute_result"
    }
   ],
   "source": [
    "td.describe()"
   ]
  },
  {
   "cell_type": "code",
   "execution_count": 33,
   "metadata": {},
   "outputs": [
    {
     "data": {
      "text/plain": [
       "22.2"
      ]
     },
     "execution_count": 33,
     "metadata": {},
     "output_type": "execute_result"
    }
   ],
   "source": [
    "td['현재기온'].iloc[0]"
   ]
  },
  {
   "cell_type": "code",
   "execution_count": 34,
   "metadata": {},
   "outputs": [
    {
     "name": "stderr",
     "output_type": "stream",
     "text": [
      "C:\\Users\\admin\\Anaconda3\\lib\\site-packages\\ipykernel_launcher.py:3: SettingWithCopyWarning: \n",
      "A value is trying to be set on a copy of a slice from a DataFrame\n",
      "\n",
      "See the caveats in the documentation: http://pandas.pydata.org/pandas-docs/stable/user_guide/indexing.html#returning-a-view-versus-a-copy\n",
      "  This is separate from the ipykernel package so we can avoid doing imports until\n"
     ]
    }
   ],
   "source": [
    "for i in range(len(td['현재기온'])):\n",
    "    if td['현재기온'].iloc[i]=='-':\n",
    "        td['현재기온'].iloc[i]=None\n",
    "    "
   ]
  },
  {
   "cell_type": "code",
   "execution_count": 35,
   "metadata": {},
   "outputs": [
    {
     "name": "stderr",
     "output_type": "stream",
     "text": [
      "C:\\Users\\admin\\Anaconda3\\lib\\site-packages\\ipykernel_launcher.py:3: SettingWithCopyWarning: \n",
      "A value is trying to be set on a copy of a slice from a DataFrame\n",
      "\n",
      "See the caveats in the documentation: http://pandas.pydata.org/pandas-docs/stable/user_guide/indexing.html#returning-a-view-versus-a-copy\n",
      "  This is separate from the ipykernel package so we can avoid doing imports until\n",
      "C:\\Users\\admin\\Anaconda3\\lib\\site-packages\\ipykernel_launcher.py:6: SettingWithCopyWarning: \n",
      "A value is trying to be set on a copy of a slice from a DataFrame\n",
      "\n",
      "See the caveats in the documentation: http://pandas.pydata.org/pandas-docs/stable/user_guide/indexing.html#returning-a-view-versus-a-copy\n",
      "  \n",
      "C:\\Users\\admin\\Anaconda3\\lib\\site-packages\\ipykernel_launcher.py:9: SettingWithCopyWarning: \n",
      "A value is trying to be set on a copy of a slice from a DataFrame\n",
      "\n",
      "See the caveats in the documentation: http://pandas.pydata.org/pandas-docs/stable/user_guide/indexing.html#returning-a-view-versus-a-copy\n",
      "  if __name__ == '__main__':\n",
      "C:\\Users\\admin\\Anaconda3\\lib\\site-packages\\ipykernel_launcher.py:12: SettingWithCopyWarning: \n",
      "A value is trying to be set on a copy of a slice from a DataFrame\n",
      "\n",
      "See the caveats in the documentation: http://pandas.pydata.org/pandas-docs/stable/user_guide/indexing.html#returning-a-view-versus-a-copy\n",
      "  if sys.path[0] == '':\n",
      "C:\\Users\\admin\\Anaconda3\\lib\\site-packages\\ipykernel_launcher.py:15: SettingWithCopyWarning: \n",
      "A value is trying to be set on a copy of a slice from a DataFrame\n",
      "\n",
      "See the caveats in the documentation: http://pandas.pydata.org/pandas-docs/stable/user_guide/indexing.html#returning-a-view-versus-a-copy\n",
      "  from ipykernel import kernelapp as app\n"
     ]
    }
   ],
   "source": [
    "for i in range(len(td['이슬점온도'])):\n",
    "    if td['이슬점온도'].iloc[i]=='-':\n",
    "        td['이슬점온도'].iloc[i]= None\n",
    "        \n",
    "    if td['체감온도'].iloc[i]=='-':\n",
    "        td['체감온도'].iloc[i]=None\n",
    "\n",
    "    if td['습도'].iloc[i]=='-':\n",
    "        td['습도'].iloc[i]=None\n",
    "        \n",
    "    if td['풍속'].iloc[i]=='-':\n",
    "        td['풍속'].iloc[i]=None\n",
    "        \n",
    "    if td['해면기압'].iloc[i]=='-':\n",
    "        td['해면기압'].iloc[i]=None\n",
    "\n",
    "\n"
   ]
  },
  {
   "cell_type": "code",
   "execution_count": null,
   "metadata": {},
   "outputs": [],
   "source": []
  },
  {
   "cell_type": "code",
   "execution_count": 36,
   "metadata": {},
   "outputs": [],
   "source": [
    "ttd = td[td['현재기온'].notnull()]"
   ]
  },
  {
   "cell_type": "code",
   "execution_count": 37,
   "metadata": {},
   "outputs": [
    {
     "data": {
      "text/plain": [
       "Index(['현재기온', '이슬점온도', '체감온도', '습도', '풍속', '해면기압', '가격'], dtype='object')"
      ]
     },
     "execution_count": 37,
     "metadata": {},
     "output_type": "execute_result"
    }
   ],
   "source": [
    "ttd.columns[1:]"
   ]
  },
  {
   "cell_type": "code",
   "execution_count": 38,
   "metadata": {},
   "outputs": [
    {
     "name": "stderr",
     "output_type": "stream",
     "text": [
      "C:\\Users\\admin\\Anaconda3\\lib\\site-packages\\ipykernel_launcher.py:1: SettingWithCopyWarning: \n",
      "A value is trying to be set on a copy of a slice from a DataFrame.\n",
      "Try using .loc[row_indexer,col_indexer] = value instead\n",
      "\n",
      "See the caveats in the documentation: http://pandas.pydata.org/pandas-docs/stable/user_guide/indexing.html#returning-a-view-versus-a-copy\n",
      "  \"\"\"Entry point for launching an IPython kernel.\n"
     ]
    }
   ],
   "source": [
    "ttd['가격'] = ttd['가격'].str.replace(',','')"
   ]
  },
  {
   "cell_type": "code",
   "execution_count": 39,
   "metadata": {},
   "outputs": [
    {
     "name": "stderr",
     "output_type": "stream",
     "text": [
      "C:\\Users\\admin\\Anaconda3\\lib\\site-packages\\ipykernel_launcher.py:4: SettingWithCopyWarning: \n",
      "A value is trying to be set on a copy of a slice from a DataFrame.\n",
      "Try using .loc[row_indexer,col_indexer] = value instead\n",
      "\n",
      "See the caveats in the documentation: http://pandas.pydata.org/pandas-docs/stable/user_guide/indexing.html#returning-a-view-versus-a-copy\n",
      "  after removing the cwd from sys.path.\n"
     ]
    }
   ],
   "source": [
    "cols = ttd.columns[1:]\n",
    "cols\n",
    "for col in cols:\n",
    "    ttd[col] = ttd[col].astype('float')"
   ]
  },
  {
   "cell_type": "code",
   "execution_count": 40,
   "metadata": {},
   "outputs": [],
   "source": [
    "cols=['현재기온', '이슬점온도', '체감온도', '습도', '풍속', '해면기압','가격']\n",
    "corr = ttd[cols].corr(method='pearson')"
   ]
  },
  {
   "cell_type": "code",
   "execution_count": 41,
   "metadata": {},
   "outputs": [
    {
     "data": {
      "text/html": [
       "<div>\n",
       "<style scoped>\n",
       "    .dataframe tbody tr th:only-of-type {\n",
       "        vertical-align: middle;\n",
       "    }\n",
       "\n",
       "    .dataframe tbody tr th {\n",
       "        vertical-align: top;\n",
       "    }\n",
       "\n",
       "    .dataframe thead th {\n",
       "        text-align: right;\n",
       "    }\n",
       "</style>\n",
       "<table border=\"1\" class=\"dataframe\">\n",
       "  <thead>\n",
       "    <tr style=\"text-align: right;\">\n",
       "      <th></th>\n",
       "      <th>현재기온</th>\n",
       "      <th>이슬점온도</th>\n",
       "      <th>체감온도</th>\n",
       "      <th>습도</th>\n",
       "      <th>풍속</th>\n",
       "      <th>해면기압</th>\n",
       "      <th>가격</th>\n",
       "    </tr>\n",
       "  </thead>\n",
       "  <tbody>\n",
       "    <tr>\n",
       "      <td>현재기온</td>\n",
       "      <td>1.000000</td>\n",
       "      <td>0.884128</td>\n",
       "      <td>0.875692</td>\n",
       "      <td>0.445648</td>\n",
       "      <td>-0.146195</td>\n",
       "      <td>-0.707944</td>\n",
       "      <td>-0.754723</td>\n",
       "    </tr>\n",
       "    <tr>\n",
       "      <td>이슬점온도</td>\n",
       "      <td>0.884128</td>\n",
       "      <td>1.000000</td>\n",
       "      <td>0.806555</td>\n",
       "      <td>0.801580</td>\n",
       "      <td>-0.279966</td>\n",
       "      <td>-0.739799</td>\n",
       "      <td>-0.792673</td>\n",
       "    </tr>\n",
       "    <tr>\n",
       "      <td>체감온도</td>\n",
       "      <td>0.875692</td>\n",
       "      <td>0.806555</td>\n",
       "      <td>1.000000</td>\n",
       "      <td>0.473422</td>\n",
       "      <td>-0.127632</td>\n",
       "      <td>-0.700176</td>\n",
       "      <td>-0.725239</td>\n",
       "    </tr>\n",
       "    <tr>\n",
       "      <td>습도</td>\n",
       "      <td>0.445648</td>\n",
       "      <td>0.801580</td>\n",
       "      <td>0.473422</td>\n",
       "      <td>1.000000</td>\n",
       "      <td>-0.391455</td>\n",
       "      <td>-0.550826</td>\n",
       "      <td>-0.577748</td>\n",
       "    </tr>\n",
       "    <tr>\n",
       "      <td>풍속</td>\n",
       "      <td>-0.146195</td>\n",
       "      <td>-0.279966</td>\n",
       "      <td>-0.127632</td>\n",
       "      <td>-0.391455</td>\n",
       "      <td>1.000000</td>\n",
       "      <td>0.119910</td>\n",
       "      <td>0.182824</td>\n",
       "    </tr>\n",
       "    <tr>\n",
       "      <td>해면기압</td>\n",
       "      <td>-0.707944</td>\n",
       "      <td>-0.739799</td>\n",
       "      <td>-0.700176</td>\n",
       "      <td>-0.550826</td>\n",
       "      <td>0.119910</td>\n",
       "      <td>1.000000</td>\n",
       "      <td>0.622313</td>\n",
       "    </tr>\n",
       "    <tr>\n",
       "      <td>가격</td>\n",
       "      <td>-0.754723</td>\n",
       "      <td>-0.792673</td>\n",
       "      <td>-0.725239</td>\n",
       "      <td>-0.577748</td>\n",
       "      <td>0.182824</td>\n",
       "      <td>0.622313</td>\n",
       "      <td>1.000000</td>\n",
       "    </tr>\n",
       "  </tbody>\n",
       "</table>\n",
       "</div>"
      ],
      "text/plain": [
       "           현재기온     이슬점온도      체감온도        습도        풍속      해면기압        가격\n",
       "현재기온   1.000000  0.884128  0.875692  0.445648 -0.146195 -0.707944 -0.754723\n",
       "이슬점온도  0.884128  1.000000  0.806555  0.801580 -0.279966 -0.739799 -0.792673\n",
       "체감온도   0.875692  0.806555  1.000000  0.473422 -0.127632 -0.700176 -0.725239\n",
       "습도     0.445648  0.801580  0.473422  1.000000 -0.391455 -0.550826 -0.577748\n",
       "풍속    -0.146195 -0.279966 -0.127632 -0.391455  1.000000  0.119910  0.182824\n",
       "해면기압  -0.707944 -0.739799 -0.700176 -0.550826  0.119910  1.000000  0.622313\n",
       "가격    -0.754723 -0.792673 -0.725239 -0.577748  0.182824  0.622313  1.000000"
      ]
     },
     "execution_count": 41,
     "metadata": {},
     "output_type": "execute_result"
    }
   ],
   "source": [
    "corr"
   ]
  },
  {
   "cell_type": "code",
   "execution_count": 42,
   "metadata": {},
   "outputs": [
    {
     "data": {
      "image/png": "[encoded data removed]",
      "text/plain": [
       "<Figure size 720x720 with 2 Axes>"
      ]
     },
     "metadata": {
      "needs_background": "light"
     },
     "output_type": "display_data"
    }
   ],
   "source": [
    "plt.rc('font',family='Malgun Gothic')\n",
    "fig=plt.figure(figsize=(10,10))\n",
    "ax=fig.gca()\n",
    "sns.set(font_scale=1.5)\n",
    "hm = sns.heatmap(corr.values, annot=True, fmt = '.2f',annot_kws={'size':15},yticklabels=cols,xticklabels=cols,ax=ax)\n",
    "plt.tight_layout()\n",
    "plt.show()"
   ]
  },
  {
   "cell_type": "code",
   "execution_count": 43,
   "metadata": {},
   "outputs": [
    {
     "data": {
      "text/plain": [
       "Index(['날짜', '현재기온', '이슬점온도', '체감온도', '습도', '풍속', '해면기압', '가격'], dtype='object')"
      ]
     },
     "execution_count": 43,
     "metadata": {},
     "output_type": "execute_result"
    }
   ],
   "source": [
    "ttd.columns"
   ]
  },
  {
   "cell_type": "code",
   "execution_count": 44,
   "metadata": {},
   "outputs": [
    {
     "name": "stderr",
     "output_type": "stream",
     "text": [
      "C:\\Users\\admin\\Anaconda3\\lib\\site-packages\\ipykernel_launcher.py:5: UserWarning: To output multiple subplots, the figure containing the passed axes is being cleared\n",
      "  \"\"\"\n",
      "C:\\Users\\admin\\Anaconda3\\lib\\site-packages\\matplotlib\\backends\\backend_agg.py:211: RuntimeWarning: Glyph 8722 missing from current font.\n",
      "  font.set_text(s, 0.0, flags=flags)\n",
      "C:\\Users\\admin\\Anaconda3\\lib\\site-packages\\matplotlib\\backends\\backend_agg.py:180: RuntimeWarning: Glyph 8722 missing from current font.\n",
      "  font.set_text(s, 0, flags=flags)\n"
     ]
    },
    {
     "data": {
      "image/png": "[encoded data removed]",
      "text/plain": [
       "<Figure size 1152x1440 with 9 Axes>"
      ]
     },
     "metadata": {},
     "output_type": "display_data"
    }
   ],
   "source": [
    "plt.rc('font',family='Malgun Gothic')\n",
    "numerical_columns=['현재기온', '이슬점온도', '체감온도', '습도', '풍속', '해면기압', '가격']\n",
    "fig = plt.figure(figsize=(16,20))\n",
    "ax=fig.gca()\n",
    "ttd[numerical_columns].hist(ax=ax)\n",
    "plt.show()"
   ]
  },
  {
   "cell_type": "code",
   "execution_count": 45,
   "metadata": {},
   "outputs": [
    {
     "data": {
      "text/html": [
       "<div>\n",
       "<style scoped>\n",
       "    .dataframe tbody tr th:only-of-type {\n",
       "        vertical-align: middle;\n",
       "    }\n",
       "\n",
       "    .dataframe tbody tr th {\n",
       "        vertical-align: top;\n",
       "    }\n",
       "\n",
       "    .dataframe thead th {\n",
       "        text-align: right;\n",
       "    }\n",
       "</style>\n",
       "<table border=\"1\" class=\"dataframe\">\n",
       "  <thead>\n",
       "    <tr style=\"text-align: right;\">\n",
       "      <th></th>\n",
       "      <th>현재기온</th>\n",
       "      <th>이슬점온도</th>\n",
       "      <th>체감온도</th>\n",
       "      <th>습도</th>\n",
       "      <th>풍속</th>\n",
       "      <th>해면기압</th>\n",
       "      <th>가격</th>\n",
       "    </tr>\n",
       "  </thead>\n",
       "  <tbody>\n",
       "    <tr>\n",
       "      <td>count</td>\n",
       "      <td>188.000000</td>\n",
       "      <td>188.000000</td>\n",
       "      <td>188.000000</td>\n",
       "      <td>188.000000</td>\n",
       "      <td>188.000000</td>\n",
       "      <td>188.000000</td>\n",
       "      <td>188.000000</td>\n",
       "    </tr>\n",
       "    <tr>\n",
       "      <td>mean</td>\n",
       "      <td>19.515426</td>\n",
       "      <td>8.549468</td>\n",
       "      <td>39.409043</td>\n",
       "      <td>52.792553</td>\n",
       "      <td>10.473936</td>\n",
       "      <td>1016.260638</td>\n",
       "      <td>3530.851064</td>\n",
       "    </tr>\n",
       "    <tr>\n",
       "      <td>std</td>\n",
       "      <td>8.221137</td>\n",
       "      <td>12.115745</td>\n",
       "      <td>31.693284</td>\n",
       "      <td>21.629712</td>\n",
       "      <td>4.511804</td>\n",
       "      <td>7.395037</td>\n",
       "      <td>553.264806</td>\n",
       "    </tr>\n",
       "    <tr>\n",
       "      <td>min</td>\n",
       "      <td>1.800000</td>\n",
       "      <td>-19.100000</td>\n",
       "      <td>-3.500000</td>\n",
       "      <td>16.000000</td>\n",
       "      <td>1.400000</td>\n",
       "      <td>996.100000</td>\n",
       "      <td>2500.000000</td>\n",
       "    </tr>\n",
       "    <tr>\n",
       "      <td>25%</td>\n",
       "      <td>12.175000</td>\n",
       "      <td>-1.200000</td>\n",
       "      <td>11.800000</td>\n",
       "      <td>36.750000</td>\n",
       "      <td>7.200000</td>\n",
       "      <td>1010.975000</td>\n",
       "      <td>3000.000000</td>\n",
       "    </tr>\n",
       "    <tr>\n",
       "      <td>50%</td>\n",
       "      <td>19.050000</td>\n",
       "      <td>7.700000</td>\n",
       "      <td>20.350000</td>\n",
       "      <td>51.000000</td>\n",
       "      <td>10.100000</td>\n",
       "      <td>1016.150000</td>\n",
       "      <td>3600.000000</td>\n",
       "    </tr>\n",
       "    <tr>\n",
       "      <td>75%</td>\n",
       "      <td>26.450000</td>\n",
       "      <td>20.650000</td>\n",
       "      <td>76.000000</td>\n",
       "      <td>67.000000</td>\n",
       "      <td>13.300000</td>\n",
       "      <td>1021.825000</td>\n",
       "      <td>4000.000000</td>\n",
       "    </tr>\n",
       "    <tr>\n",
       "      <td>max</td>\n",
       "      <td>35.100000</td>\n",
       "      <td>26.100000</td>\n",
       "      <td>87.000000</td>\n",
       "      <td>99.000000</td>\n",
       "      <td>29.200000</td>\n",
       "      <td>1032.600000</td>\n",
       "      <td>4500.000000</td>\n",
       "    </tr>\n",
       "  </tbody>\n",
       "</table>\n",
       "</div>"
      ],
      "text/plain": [
       "             현재기온       이슬점온도        체감온도          습도          풍속  \\\n",
       "count  188.000000  188.000000  188.000000  188.000000  188.000000   \n",
       "mean    19.515426    8.549468   39.409043   52.792553   10.473936   \n",
       "std      8.221137   12.115745   31.693284   21.629712    4.511804   \n",
       "min      1.800000  -19.100000   -3.500000   16.000000    1.400000   \n",
       "25%     12.175000   -1.200000   11.800000   36.750000    7.200000   \n",
       "50%     19.050000    7.700000   20.350000   51.000000   10.100000   \n",
       "75%     26.450000   20.650000   76.000000   67.000000   13.300000   \n",
       "max     35.100000   26.100000   87.000000   99.000000   29.200000   \n",
       "\n",
       "              해면기압           가격  \n",
       "count   188.000000   188.000000  \n",
       "mean   1016.260638  3530.851064  \n",
       "std       7.395037   553.264806  \n",
       "min     996.100000  2500.000000  \n",
       "25%    1010.975000  3000.000000  \n",
       "50%    1016.150000  3600.000000  \n",
       "75%    1021.825000  4000.000000  \n",
       "max    1032.600000  4500.000000  "
      ]
     },
     "execution_count": 45,
     "metadata": {},
     "output_type": "execute_result"
    }
   ],
   "source": [
    "ttd.describe()"
   ]
  },
  {
   "cell_type": "code",
   "execution_count": 46,
   "metadata": {},
   "outputs": [],
   "source": [
    "train_X = ttd[['현재기온', '이슬점온도', '체감온도', '습도', '풍속', '해면기압']]\n",
    "train_y = ttd['가격']"
   ]
  },
  {
   "cell_type": "code",
   "execution_count": 47,
   "metadata": {},
   "outputs": [],
   "source": [
    "from sklearn import linear_model\n",
    "from sklearn.model_selection import train_test_split\n",
    "from sklearn.metrics import mean_squared_error\n",
    "from math import sqrt\n"
   ]
  },
  {
   "cell_type": "code",
   "execution_count": 48,
   "metadata": {},
   "outputs": [
    {
     "name": "stdout",
     "output_type": "stream",
     "text": [
      "[-13.1118407  -18.08608964  -3.24322812  -2.0682067   -1.73137657\n",
      "   1.38036373]\n"
     ]
    }
   ],
   "source": [
    "lr = linear_model.LinearRegression()\n",
    "model = lr.fit(train_X, train_y)\n",
    "print(lr.coef_)"
   ]
  },
  {
   "cell_type": "code",
   "execution_count": 49,
   "metadata": {},
   "outputs": [],
   "source": [
    "import statsmodels.api as sm"
   ]
  },
  {
   "cell_type": "code",
   "execution_count": 50,
   "metadata": {},
   "outputs": [
    {
     "name": "stderr",
     "output_type": "stream",
     "text": [
      "C:\\Users\\admin\\Anaconda3\\lib\\site-packages\\numpy\\core\\fromnumeric.py:2389: FutureWarning: Method .ptp is deprecated and will be removed in a future version. Use numpy.ptp instead.\n",
      "  return ptp(axis=axis, out=out, **kwargs)\n"
     ]
    },
    {
     "data": {
      "text/html": [
       "<table class=\"simpletable\">\n",
       "<caption>OLS Regression Results</caption>\n",
       "<tr>\n",
       "  <th>Dep. Variable:</th>           <td>가격</td>        <th>  R-squared:         </th> <td>   0.651</td>\n",
       "</tr>\n",
       "<tr>\n",
       "  <th>Model:</th>                   <td>OLS</td>       <th>  Adj. R-squared:    </th> <td>   0.640</td>\n",
       "</tr>\n",
       "<tr>\n",
       "  <th>Method:</th>             <td>Least Squares</td>  <th>  F-statistic:       </th> <td>   56.36</td>\n",
       "</tr>\n",
       "<tr>\n",
       "  <th>Date:</th>             <td>Fri, 17 Apr 2020</td> <th>  Prob (F-statistic):</th> <td>7.01e-39</td>\n",
       "</tr>\n",
       "<tr>\n",
       "  <th>Time:</th>                 <td>15:27:53</td>     <th>  Log-Likelihood:    </th> <td> -1354.6</td>\n",
       "</tr>\n",
       "<tr>\n",
       "  <th>No. Observations:</th>      <td>   188</td>      <th>  AIC:               </th> <td>   2723.</td>\n",
       "</tr>\n",
       "<tr>\n",
       "  <th>Df Residuals:</th>          <td>   181</td>      <th>  BIC:               </th> <td>   2746.</td>\n",
       "</tr>\n",
       "<tr>\n",
       "  <th>Df Model:</th>              <td>     6</td>      <th>                     </th>     <td> </td>   \n",
       "</tr>\n",
       "<tr>\n",
       "  <th>Covariance Type:</th>      <td>nonrobust</td>    <th>                     </th>     <td> </td>   \n",
       "</tr>\n",
       "</table>\n",
       "<table class=\"simpletable\">\n",
       "<tr>\n",
       "    <td></td>       <th>coef</th>     <th>std err</th>      <th>t</th>      <th>P>|t|</th>  <th>[0.025</th>    <th>0.975]</th>  \n",
       "</tr>\n",
       "<tr>\n",
       "  <th>const</th> <td> 2793.6841</td> <td> 5373.641</td> <td>    0.520</td> <td> 0.604</td> <td>-7809.353</td> <td> 1.34e+04</td>\n",
       "</tr>\n",
       "<tr>\n",
       "  <th>현재기온</th>  <td>  -13.1118</td> <td>   21.452</td> <td>   -0.611</td> <td> 0.542</td> <td>  -55.439</td> <td>   29.216</td>\n",
       "</tr>\n",
       "<tr>\n",
       "  <th>이슬점온도</th> <td>  -18.0861</td> <td>   19.838</td> <td>   -0.912</td> <td> 0.363</td> <td>  -57.230</td> <td>   21.058</td>\n",
       "</tr>\n",
       "<tr>\n",
       "  <th>체감온도</th>  <td>   -3.2432</td> <td>    1.681</td> <td>   -1.930</td> <td> 0.055</td> <td>   -6.560</td> <td>    0.073</td>\n",
       "</tr>\n",
       "<tr>\n",
       "  <th>습도</th>    <td>   -2.0682</td> <td>    6.020</td> <td>   -0.344</td> <td> 0.732</td> <td>  -13.946</td> <td>    9.809</td>\n",
       "</tr>\n",
       "<tr>\n",
       "  <th>풍속</th>    <td>   -1.7314</td> <td>    6.017</td> <td>   -0.288</td> <td> 0.774</td> <td>  -13.604</td> <td>   10.141</td>\n",
       "</tr>\n",
       "<tr>\n",
       "  <th>해면기압</th>  <td>    1.3804</td> <td>    5.143</td> <td>    0.268</td> <td> 0.789</td> <td>   -8.767</td> <td>   11.528</td>\n",
       "</tr>\n",
       "</table>\n",
       "<table class=\"simpletable\">\n",
       "<tr>\n",
       "  <th>Omnibus:</th>       <td> 2.747</td> <th>  Durbin-Watson:     </th> <td>   0.342</td>\n",
       "</tr>\n",
       "<tr>\n",
       "  <th>Prob(Omnibus):</th> <td> 0.253</td> <th>  Jarque-Bera (JB):  </th> <td>   2.420</td>\n",
       "</tr>\n",
       "<tr>\n",
       "  <th>Skew:</th>          <td> 0.270</td> <th>  Prob(JB):          </th> <td>   0.298</td>\n",
       "</tr>\n",
       "<tr>\n",
       "  <th>Kurtosis:</th>      <td> 3.127</td> <th>  Cond. No.          </th> <td>2.26e+05</td>\n",
       "</tr>\n",
       "</table><br/><br/>Warnings:<br/>[1] Standard Errors assume that the covariance matrix of the errors is correctly specified.<br/>[2] The condition number is large, 2.26e+05. This might indicate that there are<br/>strong multicollinearity or other numerical problems."
      ],
      "text/plain": [
       "<class 'statsmodels.iolib.summary.Summary'>\n",
       "\"\"\"\n",
       "                            OLS Regression Results                            \n",
       "==============================================================================\n",
       "Dep. Variable:                     가격   R-squared:                       0.651\n",
       "Model:                            OLS   Adj. R-squared:                  0.640\n",
       "Method:                 Least Squares   F-statistic:                     56.36\n",
       "Date:                Fri, 17 Apr 2020   Prob (F-statistic):           7.01e-39\n",
       "Time:                        15:27:53   Log-Likelihood:                -1354.6\n",
       "No. Observations:                 188   AIC:                             2723.\n",
       "Df Residuals:                     181   BIC:                             2746.\n",
       "Df Model:                           6                                         \n",
       "Covariance Type:            nonrobust                                         \n",
       "==============================================================================\n",
       "                 coef    std err          t      P>|t|      [0.025      0.975]\n",
       "------------------------------------------------------------------------------\n",
       "const       2793.6841   5373.641      0.520      0.604   -7809.353    1.34e+04\n",
       "현재기온         -13.1118     21.452     -0.611      0.542     -55.439      29.216\n",
       "이슬점온도        -18.0861     19.838     -0.912      0.363     -57.230      21.058\n",
       "체감온도          -3.2432      1.681     -1.930      0.055      -6.560       0.073\n",
       "습도            -2.0682      6.020     -0.344      0.732     -13.946       9.809\n",
       "풍속            -1.7314      6.017     -0.288      0.774     -13.604      10.141\n",
       "해면기압           1.3804      5.143      0.268      0.789      -8.767      11.528\n",
       "==============================================================================\n",
       "Omnibus:                        2.747   Durbin-Watson:                   0.342\n",
       "Prob(Omnibus):                  0.253   Jarque-Bera (JB):                2.420\n",
       "Skew:                           0.270   Prob(JB):                        0.298\n",
       "Kurtosis:                       3.127   Cond. No.                     2.26e+05\n",
       "==============================================================================\n",
       "\n",
       "Warnings:\n",
       "[1] Standard Errors assume that the covariance matrix of the errors is correctly specified.\n",
       "[2] The condition number is large, 2.26e+05. This might indicate that there are\n",
       "strong multicollinearity or other numerical problems.\n",
       "\"\"\""
      ]
     },
     "execution_count": 50,
     "metadata": {},
     "output_type": "execute_result"
    }
   ],
   "source": [
    "X_train = sm.add_constant(train_X)\n",
    "model = sm.OLS(train_y, X_train).fit()\n",
    "model.summary()"
   ]
  },
  {
   "cell_type": "code",
   "execution_count": 51,
   "metadata": {},
   "outputs": [
    {
     "data": {
      "text/html": [
       "<div>\n",
       "<style scoped>\n",
       "    .dataframe tbody tr th:only-of-type {\n",
       "        vertical-align: middle;\n",
       "    }\n",
       "\n",
       "    .dataframe tbody tr th {\n",
       "        vertical-align: top;\n",
       "    }\n",
       "\n",
       "    .dataframe thead th {\n",
       "        text-align: right;\n",
       "    }\n",
       "</style>\n",
       "<table border=\"1\" class=\"dataframe\">\n",
       "  <thead>\n",
       "    <tr style=\"text-align: right;\">\n",
       "      <th></th>\n",
       "      <th>VIF Factor</th>\n",
       "      <th>features</th>\n",
       "    </tr>\n",
       "  </thead>\n",
       "  <tbody>\n",
       "    <tr>\n",
       "      <td>0</td>\n",
       "      <td>49234.6</td>\n",
       "      <td>const</td>\n",
       "    </tr>\n",
       "    <tr>\n",
       "      <td>1</td>\n",
       "      <td>52.7</td>\n",
       "      <td>현재기온</td>\n",
       "    </tr>\n",
       "    <tr>\n",
       "      <td>2</td>\n",
       "      <td>98.0</td>\n",
       "      <td>이슬점온도</td>\n",
       "    </tr>\n",
       "    <tr>\n",
       "      <td>3</td>\n",
       "      <td>4.8</td>\n",
       "      <td>체감온도</td>\n",
       "    </tr>\n",
       "    <tr>\n",
       "      <td>4</td>\n",
       "      <td>28.8</td>\n",
       "      <td>습도</td>\n",
       "    </tr>\n",
       "    <tr>\n",
       "      <td>5</td>\n",
       "      <td>1.2</td>\n",
       "      <td>풍속</td>\n",
       "    </tr>\n",
       "    <tr>\n",
       "      <td>6</td>\n",
       "      <td>2.5</td>\n",
       "      <td>해면기압</td>\n",
       "    </tr>\n",
       "  </tbody>\n",
       "</table>\n",
       "</div>"
      ],
      "text/plain": [
       "   VIF Factor features\n",
       "0     49234.6    const\n",
       "1        52.7     현재기온\n",
       "2        98.0    이슬점온도\n",
       "3         4.8     체감온도\n",
       "4        28.8       습도\n",
       "5         1.2       풍속\n",
       "6         2.5     해면기압"
      ]
     },
     "execution_count": 51,
     "metadata": {},
     "output_type": "execute_result"
    }
   ],
   "source": [
    "# 다중 공산성\n",
    "from statsmodels.stats.outliers_influence import variance_inflation_factor\n",
    "vif = pd.DataFrame()\n",
    "\n",
    "vif['VIF Factor'] = [variance_inflation_factor(X_train.values, i) for i in range(X_train.shape[1])]\n",
    "vif['features'] = X_train.columns\n",
    "vif.round(1)"
   ]
  },
  {
   "cell_type": "markdown",
   "metadata": {},
   "source": [
    "변수 제거"
   ]
  },
  {
   "cell_type": "code",
   "execution_count": 52,
   "metadata": {},
   "outputs": [],
   "source": [
    "train_X = ttd[['현재기온', '습도', '풍속', '해면기압']]\n",
    "train_y = ttd['가격']"
   ]
  },
  {
   "cell_type": "code",
   "execution_count": 53,
   "metadata": {},
   "outputs": [
    {
     "name": "stdout",
     "output_type": "stream",
     "text": [
      "[-40.34036306  -7.72747716  -3.3407699    2.60438121]\n"
     ]
    }
   ],
   "source": [
    "lr = linear_model.LinearRegression()\n",
    "model = lr.fit(train_X, train_y)\n",
    "print(lr.coef_)"
   ]
  },
  {
   "cell_type": "code",
   "execution_count": 54,
   "metadata": {},
   "outputs": [
    {
     "name": "stderr",
     "output_type": "stream",
     "text": [
      "C:\\Users\\admin\\Anaconda3\\lib\\site-packages\\numpy\\core\\fromnumeric.py:2389: FutureWarning: Method .ptp is deprecated and will be removed in a future version. Use numpy.ptp instead.\n",
      "  return ptp(axis=axis, out=out, **kwargs)\n"
     ]
    },
    {
     "data": {
      "text/html": [
       "<table class=\"simpletable\">\n",
       "<caption>OLS Regression Results</caption>\n",
       "<tr>\n",
       "  <th>Dep. Variable:</th>           <td>가격</td>        <th>  R-squared:         </th> <td>   0.644</td>\n",
       "</tr>\n",
       "<tr>\n",
       "  <th>Model:</th>                   <td>OLS</td>       <th>  Adj. R-squared:    </th> <td>   0.636</td>\n",
       "</tr>\n",
       "<tr>\n",
       "  <th>Method:</th>             <td>Least Squares</td>  <th>  F-statistic:       </th> <td>   82.63</td>\n",
       "</tr>\n",
       "<tr>\n",
       "  <th>Date:</th>             <td>Fri, 17 Apr 2020</td> <th>  Prob (F-statistic):</th> <td>5.98e-40</td>\n",
       "</tr>\n",
       "<tr>\n",
       "  <th>Time:</th>                 <td>15:27:53</td>     <th>  Log-Likelihood:    </th> <td> -1356.6</td>\n",
       "</tr>\n",
       "<tr>\n",
       "  <th>No. Observations:</th>      <td>   188</td>      <th>  AIC:               </th> <td>   2723.</td>\n",
       "</tr>\n",
       "<tr>\n",
       "  <th>Df Residuals:</th>          <td>   183</td>      <th>  BIC:               </th> <td>   2739.</td>\n",
       "</tr>\n",
       "<tr>\n",
       "  <th>Df Model:</th>              <td>     4</td>      <th>                     </th>     <td> </td>   \n",
       "</tr>\n",
       "<tr>\n",
       "  <th>Covariance Type:</th>      <td>nonrobust</td>    <th>                     </th>     <td> </td>   \n",
       "</tr>\n",
       "</table>\n",
       "<table class=\"simpletable\">\n",
       "<tr>\n",
       "    <td></td>       <th>coef</th>     <th>std err</th>      <th>t</th>      <th>P>|t|</th>  <th>[0.025</th>    <th>0.975]</th>  \n",
       "</tr>\n",
       "<tr>\n",
       "  <th>const</th> <td> 2114.3246</td> <td> 5254.445</td> <td>    0.402</td> <td> 0.688</td> <td>-8252.758</td> <td> 1.25e+04</td>\n",
       "</tr>\n",
       "<tr>\n",
       "  <th>현재기온</th>  <td>  -40.3404</td> <td>    4.230</td> <td>   -9.536</td> <td> 0.000</td> <td>  -48.687</td> <td>  -31.994</td>\n",
       "</tr>\n",
       "<tr>\n",
       "  <th>습도</th>    <td>   -7.7275</td> <td>    1.474</td> <td>   -5.243</td> <td> 0.000</td> <td>  -10.635</td> <td>   -4.820</td>\n",
       "</tr>\n",
       "<tr>\n",
       "  <th>풍속</th>    <td>   -3.3408</td> <td>    5.936</td> <td>   -0.563</td> <td> 0.574</td> <td>  -15.052</td> <td>    8.371</td>\n",
       "</tr>\n",
       "<tr>\n",
       "  <th>해면기압</th>  <td>    2.6044</td> <td>    5.081</td> <td>    0.513</td> <td> 0.609</td> <td>   -7.420</td> <td>   12.629</td>\n",
       "</tr>\n",
       "</table>\n",
       "<table class=\"simpletable\">\n",
       "<tr>\n",
       "  <th>Omnibus:</th>       <td> 1.125</td> <th>  Durbin-Watson:     </th> <td>   0.365</td>\n",
       "</tr>\n",
       "<tr>\n",
       "  <th>Prob(Omnibus):</th> <td> 0.570</td> <th>  Jarque-Bera (JB):  </th> <td>   1.208</td>\n",
       "</tr>\n",
       "<tr>\n",
       "  <th>Skew:</th>          <td> 0.177</td> <th>  Prob(JB):          </th> <td>   0.547</td>\n",
       "</tr>\n",
       "<tr>\n",
       "  <th>Kurtosis:</th>      <td> 2.829</td> <th>  Cond. No.          </th> <td>2.20e+05</td>\n",
       "</tr>\n",
       "</table><br/><br/>Warnings:<br/>[1] Standard Errors assume that the covariance matrix of the errors is correctly specified.<br/>[2] The condition number is large, 2.2e+05. This might indicate that there are<br/>strong multicollinearity or other numerical problems."
      ],
      "text/plain": [
       "<class 'statsmodels.iolib.summary.Summary'>\n",
       "\"\"\"\n",
       "                            OLS Regression Results                            \n",
       "==============================================================================\n",
       "Dep. Variable:                     가격   R-squared:                       0.644\n",
       "Model:                            OLS   Adj. R-squared:                  0.636\n",
       "Method:                 Least Squares   F-statistic:                     82.63\n",
       "Date:                Fri, 17 Apr 2020   Prob (F-statistic):           5.98e-40\n",
       "Time:                        15:27:53   Log-Likelihood:                -1356.6\n",
       "No. Observations:                 188   AIC:                             2723.\n",
       "Df Residuals:                     183   BIC:                             2739.\n",
       "Df Model:                           4                                         \n",
       "Covariance Type:            nonrobust                                         \n",
       "==============================================================================\n",
       "                 coef    std err          t      P>|t|      [0.025      0.975]\n",
       "------------------------------------------------------------------------------\n",
       "const       2114.3246   5254.445      0.402      0.688   -8252.758    1.25e+04\n",
       "현재기온         -40.3404      4.230     -9.536      0.000     -48.687     -31.994\n",
       "습도            -7.7275      1.474     -5.243      0.000     -10.635      -4.820\n",
       "풍속            -3.3408      5.936     -0.563      0.574     -15.052       8.371\n",
       "해면기압           2.6044      5.081      0.513      0.609      -7.420      12.629\n",
       "==============================================================================\n",
       "Omnibus:                        1.125   Durbin-Watson:                   0.365\n",
       "Prob(Omnibus):                  0.570   Jarque-Bera (JB):                1.208\n",
       "Skew:                           0.177   Prob(JB):                        0.547\n",
       "Kurtosis:                       2.829   Cond. No.                     2.20e+05\n",
       "==============================================================================\n",
       "\n",
       "Warnings:\n",
       "[1] Standard Errors assume that the covariance matrix of the errors is correctly specified.\n",
       "[2] The condition number is large, 2.2e+05. This might indicate that there are\n",
       "strong multicollinearity or other numerical problems.\n",
       "\"\"\""
      ]
     },
     "execution_count": 54,
     "metadata": {},
     "output_type": "execute_result"
    }
   ],
   "source": [
    "X_train = sm.add_constant(train_X)\n",
    "model = sm.OLS(train_y, X_train).fit()\n",
    "model.summary()"
   ]
  },
  {
   "cell_type": "code",
   "execution_count": 55,
   "metadata": {},
   "outputs": [
    {
     "data": {
      "text/html": [
       "<div>\n",
       "<style scoped>\n",
       "    .dataframe tbody tr th:only-of-type {\n",
       "        vertical-align: middle;\n",
       "    }\n",
       "\n",
       "    .dataframe tbody tr th {\n",
       "        vertical-align: top;\n",
       "    }\n",
       "\n",
       "    .dataframe thead th {\n",
       "        text-align: right;\n",
       "    }\n",
       "</style>\n",
       "<table border=\"1\" class=\"dataframe\">\n",
       "  <thead>\n",
       "    <tr style=\"text-align: right;\">\n",
       "      <th></th>\n",
       "      <th>VIF Factor</th>\n",
       "      <th>features</th>\n",
       "    </tr>\n",
       "  </thead>\n",
       "  <tbody>\n",
       "    <tr>\n",
       "      <td>0</td>\n",
       "      <td>46563.8</td>\n",
       "      <td>const</td>\n",
       "    </tr>\n",
       "    <tr>\n",
       "      <td>1</td>\n",
       "      <td>2.0</td>\n",
       "      <td>현재기온</td>\n",
       "    </tr>\n",
       "    <tr>\n",
       "      <td>2</td>\n",
       "      <td>1.7</td>\n",
       "      <td>습도</td>\n",
       "    </tr>\n",
       "    <tr>\n",
       "      <td>3</td>\n",
       "      <td>1.2</td>\n",
       "      <td>풍속</td>\n",
       "    </tr>\n",
       "    <tr>\n",
       "      <td>4</td>\n",
       "      <td>2.4</td>\n",
       "      <td>해면기압</td>\n",
       "    </tr>\n",
       "  </tbody>\n",
       "</table>\n",
       "</div>"
      ],
      "text/plain": [
       "   VIF Factor features\n",
       "0     46563.8    const\n",
       "1         2.0     현재기온\n",
       "2         1.7       습도\n",
       "3         1.2       풍속\n",
       "4         2.4     해면기압"
      ]
     },
     "execution_count": 55,
     "metadata": {},
     "output_type": "execute_result"
    }
   ],
   "source": [
    "vif = pd.DataFrame()\n",
    "\n",
    "vif['VIF Factor'] = [variance_inflation_factor(X_train.values, i) for i in range(X_train.shape[1])]\n",
    "vif['features'] = X_train.columns\n",
    "vif.round(1)"
   ]
  },
  {
   "cell_type": "code",
   "execution_count": 104,
   "metadata": {},
   "outputs": [],
   "source": [
    "train_X = ttd[['현재기온', '습도','해면기압']]\n",
    "train_y = ttd['가격']"
   ]
  },
  {
   "cell_type": "code",
   "execution_count": 105,
   "metadata": {},
   "outputs": [
    {
     "name": "stdout",
     "output_type": "stream",
     "text": [
      "[-40.20948734  -7.40592258   2.98103815]\n"
     ]
    }
   ],
   "source": [
    "lr = linear_model.LinearRegression()\n",
    "model = lr.fit(train_X, train_y)\n",
    "print(lr.coef_)"
   ]
  },
  {
   "cell_type": "code",
   "execution_count": 106,
   "metadata": {},
   "outputs": [
    {
     "name": "stderr",
     "output_type": "stream",
     "text": [
      "C:\\Users\\admin\\Anaconda3\\lib\\site-packages\\numpy\\core\\fromnumeric.py:2389: FutureWarning: Method .ptp is deprecated and will be removed in a future version. Use numpy.ptp instead.\n",
      "  return ptp(axis=axis, out=out, **kwargs)\n"
     ]
    },
    {
     "data": {
      "text/html": [
       "<table class=\"simpletable\">\n",
       "<caption>OLS Regression Results</caption>\n",
       "<tr>\n",
       "  <th>Dep. Variable:</th>           <td>가격</td>        <th>  R-squared:         </th> <td>   0.643</td>\n",
       "</tr>\n",
       "<tr>\n",
       "  <th>Model:</th>                   <td>OLS</td>       <th>  Adj. R-squared:    </th> <td>   0.637</td>\n",
       "</tr>\n",
       "<tr>\n",
       "  <th>Method:</th>             <td>Least Squares</td>  <th>  F-statistic:       </th> <td>   110.5</td>\n",
       "</tr>\n",
       "<tr>\n",
       "  <th>Date:</th>             <td>Fri, 17 Apr 2020</td> <th>  Prob (F-statistic):</th> <td>6.11e-41</td>\n",
       "</tr>\n",
       "<tr>\n",
       "  <th>Time:</th>                 <td>16:28:36</td>     <th>  Log-Likelihood:    </th> <td> -1356.8</td>\n",
       "</tr>\n",
       "<tr>\n",
       "  <th>No. Observations:</th>      <td>   188</td>      <th>  AIC:               </th> <td>   2722.</td>\n",
       "</tr>\n",
       "<tr>\n",
       "  <th>Df Residuals:</th>          <td>   184</td>      <th>  BIC:               </th> <td>   2735.</td>\n",
       "</tr>\n",
       "<tr>\n",
       "  <th>Df Model:</th>              <td>     3</td>      <th>                     </th>     <td> </td>   \n",
       "</tr>\n",
       "<tr>\n",
       "  <th>Covariance Type:</th>      <td>nonrobust</td>    <th>                     </th>     <td> </td>   \n",
       "</tr>\n",
       "</table>\n",
       "<table class=\"simpletable\">\n",
       "<tr>\n",
       "    <td></td>       <th>coef</th>     <th>std err</th>      <th>t</th>      <th>P>|t|</th>  <th>[0.025</th>    <th>0.975]</th>  \n",
       "</tr>\n",
       "<tr>\n",
       "  <th>const</th> <td> 1677.0221</td> <td> 5187.021</td> <td>    0.323</td> <td> 0.747</td> <td>-8556.662</td> <td> 1.19e+04</td>\n",
       "</tr>\n",
       "<tr>\n",
       "  <th>현재기온</th>  <td>  -40.2095</td> <td>    4.216</td> <td>   -9.537</td> <td> 0.000</td> <td>  -48.527</td> <td>  -31.892</td>\n",
       "</tr>\n",
       "<tr>\n",
       "  <th>습도</th>    <td>   -7.4059</td> <td>    1.356</td> <td>   -5.462</td> <td> 0.000</td> <td>  -10.081</td> <td>   -4.731</td>\n",
       "</tr>\n",
       "<tr>\n",
       "  <th>해면기압</th>  <td>    2.9810</td> <td>    5.027</td> <td>    0.593</td> <td> 0.554</td> <td>   -6.937</td> <td>   12.899</td>\n",
       "</tr>\n",
       "</table>\n",
       "<table class=\"simpletable\">\n",
       "<tr>\n",
       "  <th>Omnibus:</th>       <td> 1.093</td> <th>  Durbin-Watson:     </th> <td>   0.364</td>\n",
       "</tr>\n",
       "<tr>\n",
       "  <th>Prob(Omnibus):</th> <td> 0.579</td> <th>  Jarque-Bera (JB):  </th> <td>   1.173</td>\n",
       "</tr>\n",
       "<tr>\n",
       "  <th>Skew:</th>          <td> 0.175</td> <th>  Prob(JB):          </th> <td>   0.556</td>\n",
       "</tr>\n",
       "<tr>\n",
       "  <th>Kurtosis:</th>      <td> 2.834</td> <th>  Cond. No.          </th> <td>2.17e+05</td>\n",
       "</tr>\n",
       "</table><br/><br/>Warnings:<br/>[1] Standard Errors assume that the covariance matrix of the errors is correctly specified.<br/>[2] The condition number is large, 2.17e+05. This might indicate that there are<br/>strong multicollinearity or other numerical problems."
      ],
      "text/plain": [
       "<class 'statsmodels.iolib.summary.Summary'>\n",
       "\"\"\"\n",
       "                            OLS Regression Results                            \n",
       "==============================================================================\n",
       "Dep. Variable:                     가격   R-squared:                       0.643\n",
       "Model:                            OLS   Adj. R-squared:                  0.637\n",
       "Method:                 Least Squares   F-statistic:                     110.5\n",
       "Date:                Fri, 17 Apr 2020   Prob (F-statistic):           6.11e-41\n",
       "Time:                        16:28:36   Log-Likelihood:                -1356.8\n",
       "No. Observations:                 188   AIC:                             2722.\n",
       "Df Residuals:                     184   BIC:                             2735.\n",
       "Df Model:                           3                                         \n",
       "Covariance Type:            nonrobust                                         \n",
       "==============================================================================\n",
       "                 coef    std err          t      P>|t|      [0.025      0.975]\n",
       "------------------------------------------------------------------------------\n",
       "const       1677.0221   5187.021      0.323      0.747   -8556.662    1.19e+04\n",
       "현재기온         -40.2095      4.216     -9.537      0.000     -48.527     -31.892\n",
       "습도            -7.4059      1.356     -5.462      0.000     -10.081      -4.731\n",
       "해면기압           2.9810      5.027      0.593      0.554      -6.937      12.899\n",
       "==============================================================================\n",
       "Omnibus:                        1.093   Durbin-Watson:                   0.364\n",
       "Prob(Omnibus):                  0.579   Jarque-Bera (JB):                1.173\n",
       "Skew:                           0.175   Prob(JB):                        0.556\n",
       "Kurtosis:                       2.834   Cond. No.                     2.17e+05\n",
       "==============================================================================\n",
       "\n",
       "Warnings:\n",
       "[1] Standard Errors assume that the covariance matrix of the errors is correctly specified.\n",
       "[2] The condition number is large, 2.17e+05. This might indicate that there are\n",
       "strong multicollinearity or other numerical problems.\n",
       "\"\"\""
      ]
     },
     "execution_count": 106,
     "metadata": {},
     "output_type": "execute_result"
    }
   ],
   "source": [
    "X_train = sm.add_constant(train_X)\n",
    "model = sm.OLS(train_y, X_train).fit()\n",
    "model.summary()"
   ]
  },
  {
   "cell_type": "code",
   "execution_count": 97,
   "metadata": {
    "scrolled": true
   },
   "outputs": [
    {
     "data": {
      "text/plain": [
       "<statsmodels.regression.linear_model.RegressionResultsWrapper at 0x2da6980d048>"
      ]
     },
     "execution_count": 97,
     "metadata": {},
     "output_type": "execute_result"
    }
   ],
   "source": [
    "model"
   ]
  },
  {
   "cell_type": "code",
   "execution_count": 109,
   "metadata": {},
   "outputs": [
    {
     "data": {
      "text/plain": [
       "LinearRegression(copy_X=True, fit_intercept=True, n_jobs=None, normalize=False)"
      ]
     },
     "execution_count": 109,
     "metadata": {},
     "output_type": "execute_result"
    }
   ],
   "source": [
    "lr"
   ]
  },
  {
   "cell_type": "code",
   "execution_count": 110,
   "metadata": {},
   "outputs": [
    {
     "name": "stdout",
     "output_type": "stream",
     "text": [
      "329.6884136808367\n"
     ]
    }
   ],
   "source": [
    "y_predictions = lr.predict(train_X)\n",
    "print(sqrt(mean_squared_error(train_y, y_predictions)))"
   ]
  },
  {
   "cell_type": "code",
   "execution_count": 100,
   "metadata": {},
   "outputs": [],
   "source": [
    "import pickle\n",
    "with open('./model.model', 'wb') as m:\n",
    "    pickle.dump(model, m)"
   ]
  },
  {
   "cell_type": "code",
   "execution_count": null,
   "metadata": {},
   "outputs": [],
   "source": []
  },
  {
   "cell_type": "code",
   "execution_count": 59,
   "metadata": {},
   "outputs": [
    {
     "name": "stderr",
     "output_type": "stream",
     "text": [
      "Using TensorFlow backend.\n"
     ]
    }
   ],
   "source": [
    "from keras import optimizers\n",
    "from keras.models import Sequential\n",
    "from keras.layers import Dense\n",
    "import numpy as np\n",
    "import matplotlib.pyplot as plt\n",
    "%matplotlib inline"
   ]
  },
  {
   "cell_type": "code",
   "execution_count": 60,
   "metadata": {},
   "outputs": [],
   "source": [
    "train_X = ttd[['현재기온','습도','해면기압']]"
   ]
  },
  {
   "cell_type": "code",
   "execution_count": 61,
   "metadata": {},
   "outputs": [],
   "source": [
    "X = np.array(train_X)\n",
    "Y = np.array(train_y)"
   ]
  },
  {
   "cell_type": "code",
   "execution_count": 62,
   "metadata": {},
   "outputs": [
    {
     "data": {
      "text/plain": [
       "(188, 3)"
      ]
     },
     "execution_count": 62,
     "metadata": {},
     "output_type": "execute_result"
    }
   ],
   "source": [
    "X.shape"
   ]
  },
  {
   "cell_type": "code",
   "execution_count": 88,
   "metadata": {},
   "outputs": [],
   "source": [
    "model = Sequential()\n",
    "model.add(Dense(input_dim=3,units=1, activation=\"linear\",use_bias=False))"
   ]
  },
  {
   "cell_type": "code",
   "execution_count": 89,
   "metadata": {},
   "outputs": [],
   "source": [
    "#sgd = optimizers.SGD(lr=0.0001)\n",
    "sgd = optimizers.SGD(lr=0.0001, decay=1e-6, momentum=0.9, nesterov=True)\n",
    "model.compile(optimizer=sgd, loss='mse')"
   ]
  },
  {
   "cell_type": "code",
   "execution_count": 90,
   "metadata": {},
   "outputs": [],
   "source": [
    "weights = model.layers[0].get_weights()\n",
    "w = weights[0][0][0]"
   ]
  },
  {
   "cell_type": "code",
   "execution_count": 91,
   "metadata": {},
   "outputs": [
    {
     "data": {
      "text/plain": [
       "-0.7060277"
      ]
     },
     "execution_count": 91,
     "metadata": {},
     "output_type": "execute_result"
    }
   ],
   "source": [
    "w"
   ]
  },
  {
   "cell_type": "code",
   "execution_count": 92,
   "metadata": {},
   "outputs": [
    {
     "name": "stdout",
     "output_type": "stream",
     "text": [
      "Epoch 1/50\n",
      "188/188 [==============================] - 0s 398us/step - loss: 201823805934020665479512895520768.0000\n",
      "Epoch 2/50\n",
      "188/188 [==============================] - 0s 21us/step - loss: inf\n",
      "Epoch 3/50\n",
      "188/188 [==============================] - 0s 27us/step - loss: nan\n",
      "Epoch 4/50\n",
      "188/188 [==============================] - 0s 21us/step - loss: nan\n",
      "Epoch 5/50\n",
      "188/188 [==============================] - 0s 21us/step - loss: nan\n",
      "Epoch 6/50\n",
      "188/188 [==============================] - 0s 21us/step - loss: nan\n",
      "Epoch 7/50\n",
      "188/188 [==============================] - 0s 27us/step - loss: nan\n",
      "Epoch 8/50\n",
      "188/188 [==============================] - 0s 21us/step - loss: nan\n",
      "Epoch 9/50\n",
      "188/188 [==============================] - 0s 27us/step - loss: nan\n",
      "Epoch 10/50\n",
      "188/188 [==============================] - 0s 27us/step - loss: nan\n",
      "Epoch 11/50\n",
      "188/188 [==============================] - 0s 27us/step - loss: nan\n",
      "Epoch 12/50\n",
      "188/188 [==============================] - 0s 27us/step - loss: nan\n",
      "Epoch 13/50\n",
      "188/188 [==============================] - 0s 21us/step - loss: nan\n",
      "Epoch 14/50\n",
      "188/188 [==============================] - 0s 27us/step - loss: nan\n",
      "Epoch 15/50\n",
      "188/188 [==============================] - 0s 27us/step - loss: nan\n",
      "Epoch 16/50\n",
      "188/188 [==============================] - 0s 21us/step - loss: nan\n",
      "Epoch 17/50\n",
      "188/188 [==============================] - 0s 27us/step - loss: nan\n",
      "Epoch 18/50\n",
      "188/188 [==============================] - 0s 21us/step - loss: nan\n",
      "Epoch 19/50\n",
      "188/188 [==============================] - 0s 21us/step - loss: nan\n",
      "Epoch 20/50\n",
      "188/188 [==============================] - 0s 32us/step - loss: nan\n",
      "Epoch 21/50\n",
      "188/188 [==============================] - 0s 27us/step - loss: nan\n",
      "Epoch 22/50\n",
      "188/188 [==============================] - 0s 21us/step - loss: nan\n",
      "Epoch 23/50\n",
      "188/188 [==============================] - 0s 27us/step - loss: nan\n",
      "Epoch 24/50\n",
      "188/188 [==============================] - 0s 21us/step - loss: nan\n",
      "Epoch 25/50\n",
      "188/188 [==============================] - 0s 16us/step - loss: nan\n",
      "Epoch 26/50\n",
      "188/188 [==============================] - 0s 27us/step - loss: nan\n",
      "Epoch 27/50\n",
      "188/188 [==============================] - 0s 21us/step - loss: nan\n",
      "Epoch 28/50\n",
      "188/188 [==============================] - 0s 16us/step - loss: nan\n",
      "Epoch 29/50\n",
      "188/188 [==============================] - 0s 21us/step - loss: nan\n",
      "Epoch 30/50\n",
      "188/188 [==============================] - 0s 21us/step - loss: nan\n",
      "Epoch 31/50\n",
      "188/188 [==============================] - 0s 21us/step - loss: nan\n",
      "Epoch 32/50\n",
      "188/188 [==============================] - 0s 16us/step - loss: nan\n",
      "Epoch 33/50\n",
      "188/188 [==============================] - 0s 21us/step - loss: nan\n",
      "Epoch 34/50\n",
      "188/188 [==============================] - 0s 21us/step - loss: nan\n",
      "Epoch 35/50\n",
      "188/188 [==============================] - 0s 21us/step - loss: nan\n",
      "Epoch 36/50\n",
      "188/188 [==============================] - 0s 21us/step - loss: nan\n",
      "Epoch 37/50\n",
      "188/188 [==============================] - 0s 21us/step - loss: nan\n",
      "Epoch 38/50\n",
      "188/188 [==============================] - 0s 16us/step - loss: nan\n",
      "Epoch 39/50\n",
      "188/188 [==============================] - 0s 27us/step - loss: nan\n",
      "Epoch 40/50\n",
      "188/188 [==============================] - 0s 21us/step - loss: nan\n",
      "Epoch 41/50\n",
      "188/188 [==============================] - 0s 27us/step - loss: nan\n",
      "Epoch 42/50\n",
      "188/188 [==============================] - 0s 21us/step - loss: nan\n",
      "Epoch 43/50\n",
      "188/188 [==============================] - 0s 27us/step - loss: nan\n",
      "Epoch 44/50\n",
      "188/188 [==============================] - 0s 21us/step - loss: nan\n",
      "Epoch 45/50\n",
      "188/188 [==============================] - 0s 21us/step - loss: nan\n",
      "Epoch 46/50\n",
      "188/188 [==============================] - 0s 21us/step - loss: nan\n",
      "Epoch 47/50\n",
      "188/188 [==============================] - 0s 27us/step - loss: nan\n",
      "Epoch 48/50\n",
      "188/188 [==============================] - 0s 21us/step - loss: nan\n",
      "Epoch 49/50\n",
      "188/188 [==============================] - 0s 16us/step - loss: nan\n",
      "Epoch 50/50\n",
      "188/188 [==============================] - 0s 27us/step - loss: nan\n"
     ]
    },
    {
     "data": {
      "text/plain": [
       "<keras.callbacks.callbacks.History at 0x2da697ab1c8>"
      ]
     },
     "execution_count": 92,
     "metadata": {},
     "output_type": "execute_result"
    }
   ],
   "source": [
    "# 한개만 넣으면 되기는 하는뎀...\n",
    "model.fit(X, Y,epochs=50,verbose=1)"
   ]
  },
  {
   "cell_type": "code",
   "execution_count": 68,
   "metadata": {},
   "outputs": [
    {
     "data": {
      "text/plain": [
       "[array([[nan],\n",
       "        [nan],\n",
       "        [nan]], dtype=float32)]"
      ]
     },
     "execution_count": 68,
     "metadata": {},
     "output_type": "execute_result"
    }
   ],
   "source": [
    "model.layers[0].get_weights()"
   ]
  },
  {
   "cell_type": "code",
   "execution_count": 69,
   "metadata": {},
   "outputs": [
    {
     "name": "stdout",
     "output_type": "stream",
     "text": [
      "initial w is : nan\n"
     ]
    }
   ],
   "source": [
    "weights = model.layers[0].get_weights()\n",
    "w = weights[0][0][0]\n",
    "print('initial w is : ' + str(w))"
   ]
  },
  {
   "cell_type": "code",
   "execution_count": 70,
   "metadata": {},
   "outputs": [
    {
     "data": {
      "image/png": "[encoded data removed]",
      "text/plain": [
       "<Figure size 432x288 with 1 Axes>"
      ]
     },
     "metadata": {
      "needs_background": "light"
     },
     "output_type": "display_data"
    }
   ],
   "source": [
    "plt.plot(X, Y, label='data')\n",
    "plt.plot(X, w*X, label='prediction')\n",
    "plt.legend()\n",
    "plt.show()"
   ]
  },
  {
   "cell_type": "code",
   "execution_count": 71,
   "metadata": {},
   "outputs": [
    {
     "data": {
      "text/plain": [
       "nan"
      ]
     },
     "execution_count": 71,
     "metadata": {},
     "output_type": "execute_result"
    }
   ],
   "source": [
    "w"
   ]
  },
  {
   "cell_type": "code",
   "execution_count": 101,
   "metadata": {},
   "outputs": [],
   "source": [
    "with open('./model.model','rb') as m:\n",
    "    model = pickle.load(m)"
   ]
  },
  {
   "cell_type": "code",
   "execution_count": 102,
   "metadata": {},
   "outputs": [
    {
     "data": {
      "text/plain": [
       "<statsmodels.regression.linear_model.RegressionResultsWrapper at 0x2da698a2248>"
      ]
     },
     "execution_count": 102,
     "metadata": {},
     "output_type": "execute_result"
    }
   ],
   "source": [
    "model.predict()"
   ]
  },
  {
   "cell_type": "code",
   "execution_count": 119,
   "metadata": {},
   "outputs": [
    {
     "data": {
      "text/plain": [
       "(1, 3)"
      ]
     },
     "execution_count": 119,
     "metadata": {},
     "output_type": "execute_result"
    }
   ],
   "source": [
    "x_test=[12.1,97,1014.1]\n",
    "x_test = np.reshape(x_test,(-1,3))\n",
    "x_test.shape"
   ]
  },
  {
   "cell_type": "code",
   "execution_count": 120,
   "metadata": {},
   "outputs": [
    {
     "data": {
      "text/plain": [
       "array([3495.183649])"
      ]
     },
     "execution_count": 120,
     "metadata": {},
     "output_type": "execute_result"
    }
   ],
   "source": [
    "lr.predict(x_test)"
   ]
  },
  {
   "cell_type": "code",
   "execution_count": null,
   "metadata": {},
   "outputs": [],
   "source": [
    "# 실제 가격 : 4300"
   ]
  },
  {
   "cell_type": "code",
   "execution_count": null,
   "metadata": {},
   "outputs": [],
   "source": [
    "19.04.15"
   ]
  },
  {
   "cell_type": "code",
   "execution_count": 121,
   "metadata": {},
   "outputs": [
    {
     "data": {
      "text/plain": [
       "(1, 3)"
      ]
     },
     "execution_count": 121,
     "metadata": {},
     "output_type": "execute_result"
    }
   ],
   "source": [
    "x_test=[16.4,32,1018.2]\n",
    "x_test = np.reshape(x_test,(-1,3))\n",
    "x_test.shape"
   ]
  },
  {
   "cell_type": "code",
   "execution_count": 122,
   "metadata": {},
   "outputs": [
    {
     "data": {
      "text/plain": [
       "array([3815.89007779])"
      ]
     },
     "execution_count": 122,
     "metadata": {},
     "output_type": "execute_result"
    }
   ],
   "source": [
    "lr.predict(x_test)"
   ]
  },
  {
   "cell_type": "code",
   "execution_count": null,
   "metadata": {},
   "outputs": [],
   "source": [
    "# 실제 가격 : 2500"
   ]
  },
  {
   "cell_type": "code",
   "execution_count": null,
   "metadata": {},
   "outputs": [],
   "source": []
  },
  {
   "cell_type": "code",
   "execution_count": null,
   "metadata": {},
   "outputs": [],
   "source": []
  },
  {
   "cell_type": "code",
   "execution_count": null,
   "metadata": {},
   "outputs": [],
   "source": []
  },
  {
   "cell_type": "code",
   "execution_count": null,
   "metadata": {},
   "outputs": [],
   "source": []
  }
 ],
 "metadata": {
  "kernelspec": {
   "display_name": "Python 3",
   "language": "python",
   "name": "python3"
  },
  "language_info": {
   "codemirror_mode": {
    "name": "ipython",
    "version": 3
   },
   "file_extension": ".py",
   "mimetype": "text/x-python",
   "name": "python",
   "nbconvert_exporter": "python",
   "pygments_lexer": "ipython3",
   "version": "3.7.4"
  }
 },
 "nbformat": 4,
 "nbformat_minor": 2
}
