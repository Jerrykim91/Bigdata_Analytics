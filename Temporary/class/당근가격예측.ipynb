{
  "nbformat": 4,
  "nbformat_minor": 0,
  "metadata": {
    "colab": {
      "name": "당근가격예측.ipynb",
      "provenance": [],
      "collapsed_sections": []
    },
    "kernelspec": {
      "name": "python3",
      "display_name": "Python 3"
    }
  },
  "cells": [
    {
      "cell_type": "code",
      "metadata": {
        "id": "S8wrvt0XWyfd",
        "colab_type": "code",
        "colab": {}
      },
      "source": [
        "import pandas as pd\n",
        "import numpy as np\n",
        "import matplotlib.pyplot as plt\n",
        "import seaborn as sns\n",
        "\n",
        "import warnings\n",
        "warnings.filterwarnings('ignore')\n",
        "%matplotlib inline"
      ],
      "execution_count": 0,
      "outputs": []
    },
    {
      "cell_type": "code",
      "metadata": {
        "id": "1MR7Suem1mib",
        "colab_type": "code",
        "outputId": "854cfd57-985f-4363-97a9-f850b5d4e2ff",
        "colab": {
          "base_uri": "https://localhost:8080/",
          "height": 204
        }
      },
      "source": [
        "import pandas as pd\n",
        "df = pd.read_csv('/content/drive/My Drive/carrot_weather.csv', encoding='utf-8')\n",
        "df.head()"
      ],
      "execution_count": 95,
      "outputs": [
        {
          "output_type": "execute_result",
          "data": {
            "text/html": [
              "<div>\n",
              "<style scoped>\n",
              "    .dataframe tbody tr th:only-of-type {\n",
              "        vertical-align: middle;\n",
              "    }\n",
              "\n",
              "    .dataframe tbody tr th {\n",
              "        vertical-align: top;\n",
              "    }\n",
              "\n",
              "    .dataframe thead th {\n",
              "        text-align: right;\n",
              "    }\n",
              "</style>\n",
              "<table border=\"1\" class=\"dataframe\">\n",
              "  <thead>\n",
              "    <tr style=\"text-align: right;\">\n",
              "      <th></th>\n",
              "      <th>Unnamed: 0</th>\n",
              "      <th>날짜</th>\n",
              "      <th>현재기온</th>\n",
              "      <th>이슬점온도</th>\n",
              "      <th>체감온도</th>\n",
              "      <th>습도</th>\n",
              "      <th>풍속</th>\n",
              "      <th>해면기압</th>\n",
              "      <th>가격</th>\n",
              "    </tr>\n",
              "  </thead>\n",
              "  <tbody>\n",
              "    <tr>\n",
              "      <th>0</th>\n",
              "      <td>0</td>\n",
              "      <td>2020-04-15</td>\n",
              "      <td>19.2</td>\n",
              "      <td>2.9</td>\n",
              "      <td>63.0</td>\n",
              "      <td>34</td>\n",
              "      <td>15.1</td>\n",
              "      <td>1014.2</td>\n",
              "      <td>NaN</td>\n",
              "    </tr>\n",
              "    <tr>\n",
              "      <th>1</th>\n",
              "      <td>1</td>\n",
              "      <td>2020-04-14</td>\n",
              "      <td>22.2</td>\n",
              "      <td>-4.8</td>\n",
              "      <td>66.0</td>\n",
              "      <td>16</td>\n",
              "      <td>9.7</td>\n",
              "      <td>1015.9</td>\n",
              "      <td>4,300</td>\n",
              "    </tr>\n",
              "    <tr>\n",
              "      <th>2</th>\n",
              "      <td>2</td>\n",
              "      <td>2020-04-13</td>\n",
              "      <td>11.8</td>\n",
              "      <td>-2.4</td>\n",
              "      <td>55.0</td>\n",
              "      <td>37</td>\n",
              "      <td>16.9</td>\n",
              "      <td>1011.7</td>\n",
              "      <td>4,500</td>\n",
              "    </tr>\n",
              "    <tr>\n",
              "      <th>3</th>\n",
              "      <td>3</td>\n",
              "      <td>2020-04-12</td>\n",
              "      <td>9.4</td>\n",
              "      <td>5.7</td>\n",
              "      <td>50.0</td>\n",
              "      <td>78</td>\n",
              "      <td>5.4</td>\n",
              "      <td>1011.9</td>\n",
              "      <td>NaN</td>\n",
              "    </tr>\n",
              "    <tr>\n",
              "      <th>4</th>\n",
              "      <td>4</td>\n",
              "      <td>2020-04-11</td>\n",
              "      <td>14.0</td>\n",
              "      <td>3.7</td>\n",
              "      <td>57.0</td>\n",
              "      <td>50</td>\n",
              "      <td>6.5</td>\n",
              "      <td>1019.5</td>\n",
              "      <td>NaN</td>\n",
              "    </tr>\n",
              "  </tbody>\n",
              "</table>\n",
              "</div>"
            ],
            "text/plain": [
              "   Unnamed: 0          날짜  현재기온 이슬점온도  체감온도  습도    풍속    해면기압     가격\n",
              "0           0  2020-04-15  19.2   2.9  63.0  34  15.1  1014.2    NaN\n",
              "1           1  2020-04-14  22.2  -4.8  66.0  16   9.7  1015.9  4,300\n",
              "2           2  2020-04-13  11.8  -2.4  55.0  37  16.9  1011.7  4,500\n",
              "3           3  2020-04-12   9.4   5.7  50.0  78   5.4  1011.9    NaN\n",
              "4           4  2020-04-11  14.0   3.7  57.0  50   6.5  1019.5    NaN"
            ]
          },
          "metadata": {
            "tags": []
          },
          "execution_count": 95
        }
      ]
    },
    {
      "cell_type": "code",
      "metadata": {
        "id": "U_s3-Y1-1-Rx",
        "colab_type": "code",
        "colab": {
          "base_uri": "https://localhost:8080/",
          "height": 204
        },
        "outputId": "c6094beb-01e7-453a-f76c-42c2a1d82be3"
      },
      "source": [
        "del df['Unnamed: 0']\n",
        "df.head()"
      ],
      "execution_count": 96,
      "outputs": [
        {
          "output_type": "execute_result",
          "data": {
            "text/html": [
              "<div>\n",
              "<style scoped>\n",
              "    .dataframe tbody tr th:only-of-type {\n",
              "        vertical-align: middle;\n",
              "    }\n",
              "\n",
              "    .dataframe tbody tr th {\n",
              "        vertical-align: top;\n",
              "    }\n",
              "\n",
              "    .dataframe thead th {\n",
              "        text-align: right;\n",
              "    }\n",
              "</style>\n",
              "<table border=\"1\" class=\"dataframe\">\n",
              "  <thead>\n",
              "    <tr style=\"text-align: right;\">\n",
              "      <th></th>\n",
              "      <th>날짜</th>\n",
              "      <th>현재기온</th>\n",
              "      <th>이슬점온도</th>\n",
              "      <th>체감온도</th>\n",
              "      <th>습도</th>\n",
              "      <th>풍속</th>\n",
              "      <th>해면기압</th>\n",
              "      <th>가격</th>\n",
              "    </tr>\n",
              "  </thead>\n",
              "  <tbody>\n",
              "    <tr>\n",
              "      <th>0</th>\n",
              "      <td>2020-04-15</td>\n",
              "      <td>19.2</td>\n",
              "      <td>2.9</td>\n",
              "      <td>63.0</td>\n",
              "      <td>34</td>\n",
              "      <td>15.1</td>\n",
              "      <td>1014.2</td>\n",
              "      <td>NaN</td>\n",
              "    </tr>\n",
              "    <tr>\n",
              "      <th>1</th>\n",
              "      <td>2020-04-14</td>\n",
              "      <td>22.2</td>\n",
              "      <td>-4.8</td>\n",
              "      <td>66.0</td>\n",
              "      <td>16</td>\n",
              "      <td>9.7</td>\n",
              "      <td>1015.9</td>\n",
              "      <td>4,300</td>\n",
              "    </tr>\n",
              "    <tr>\n",
              "      <th>2</th>\n",
              "      <td>2020-04-13</td>\n",
              "      <td>11.8</td>\n",
              "      <td>-2.4</td>\n",
              "      <td>55.0</td>\n",
              "      <td>37</td>\n",
              "      <td>16.9</td>\n",
              "      <td>1011.7</td>\n",
              "      <td>4,500</td>\n",
              "    </tr>\n",
              "    <tr>\n",
              "      <th>3</th>\n",
              "      <td>2020-04-12</td>\n",
              "      <td>9.4</td>\n",
              "      <td>5.7</td>\n",
              "      <td>50.0</td>\n",
              "      <td>78</td>\n",
              "      <td>5.4</td>\n",
              "      <td>1011.9</td>\n",
              "      <td>NaN</td>\n",
              "    </tr>\n",
              "    <tr>\n",
              "      <th>4</th>\n",
              "      <td>2020-04-11</td>\n",
              "      <td>14.0</td>\n",
              "      <td>3.7</td>\n",
              "      <td>57.0</td>\n",
              "      <td>50</td>\n",
              "      <td>6.5</td>\n",
              "      <td>1019.5</td>\n",
              "      <td>NaN</td>\n",
              "    </tr>\n",
              "  </tbody>\n",
              "</table>\n",
              "</div>"
            ],
            "text/plain": [
              "           날짜  현재기온 이슬점온도  체감온도  습도    풍속    해면기압     가격\n",
              "0  2020-04-15  19.2   2.9  63.0  34  15.1  1014.2    NaN\n",
              "1  2020-04-14  22.2  -4.8  66.0  16   9.7  1015.9  4,300\n",
              "2  2020-04-13  11.8  -2.4  55.0  37  16.9  1011.7  4,500\n",
              "3  2020-04-12   9.4   5.7  50.0  78   5.4  1011.9    NaN\n",
              "4  2020-04-11  14.0   3.7  57.0  50   6.5  1019.5    NaN"
            ]
          },
          "metadata": {
            "tags": []
          },
          "execution_count": 96
        }
      ]
    },
    {
      "cell_type": "code",
      "metadata": {
        "id": "DUMTtUBcXFNR",
        "colab_type": "code",
        "colab": {
          "base_uri": "https://localhost:8080/",
          "height": 35
        },
        "outputId": "25b744ad-3248-4609-bc0d-806d8cafdc63"
      },
      "source": [
        "df.shape"
      ],
      "execution_count": 97,
      "outputs": [
        {
          "output_type": "execute_result",
          "data": {
            "text/plain": [
              "(470, 8)"
            ]
          },
          "metadata": {
            "tags": []
          },
          "execution_count": 97
        }
      ]
    },
    {
      "cell_type": "code",
      "metadata": {
        "id": "lO1mRQ-vXMJh",
        "colab_type": "code",
        "colab": {
          "base_uri": "https://localhost:8080/",
          "height": 179
        },
        "outputId": "2343209b-b39f-48a2-cda2-f7e6d00f8b73"
      },
      "source": [
        "df.isnull().sum()"
      ],
      "execution_count": 98,
      "outputs": [
        {
          "output_type": "execute_result",
          "data": {
            "text/plain": [
              "날짜         0\n",
              "현재기온       0\n",
              "이슬점온도      0\n",
              "체감온도       0\n",
              "습도         0\n",
              "풍속         0\n",
              "해면기압       0\n",
              "가격       274\n",
              "dtype: int64"
            ]
          },
          "metadata": {
            "tags": []
          },
          "execution_count": 98
        }
      ]
    },
    {
      "cell_type": "code",
      "metadata": {
        "id": "k87Ol64wXPNR",
        "colab_type": "code",
        "colab": {
          "base_uri": "https://localhost:8080/",
          "height": 179
        },
        "outputId": "bf547f30-22dc-4ad3-e3d7-d2c11b95c0aa"
      },
      "source": [
        "df.dtypes"
      ],
      "execution_count": 99,
      "outputs": [
        {
          "output_type": "execute_result",
          "data": {
            "text/plain": [
              "날짜       object\n",
              "현재기온     object\n",
              "이슬점온도    object\n",
              "체감온도     object\n",
              "습도       object\n",
              "풍속       object\n",
              "해면기압     object\n",
              "가격       object\n",
              "dtype: object"
            ]
          },
          "metadata": {
            "tags": []
          },
          "execution_count": 99
        }
      ]
    },
    {
      "cell_type": "code",
      "metadata": {
        "id": "1W3IU3hfXbFz",
        "colab_type": "code",
        "colab": {
          "base_uri": "https://localhost:8080/",
          "height": 35
        },
        "outputId": "61ed1412-ec0a-4a0e-e9d5-9821a704515e"
      },
      "source": [
        "df.columns"
      ],
      "execution_count": 100,
      "outputs": [
        {
          "output_type": "execute_result",
          "data": {
            "text/plain": [
              "Index(['날짜', '현재기온', '이슬점온도', '체감온도', '습도', '풍속', '해면기압', '가격'], dtype='object')"
            ]
          },
          "metadata": {
            "tags": []
          },
          "execution_count": 100
        }
      ]
    },
    {
      "cell_type": "code",
      "metadata": {
        "id": "mKhz6ui0XfOz",
        "colab_type": "code",
        "colab": {}
      },
      "source": [
        "# 가격 컬럼의 결측값을 컬럼 평균으로 채워주기\n",
        "# fill_mean_func = lambda x : x.fillna(x.mean())\n",
        "# df.groupby('가격').apply(fill_mean_func)"
      ],
      "execution_count": 0,
      "outputs": []
    },
    {
      "cell_type": "code",
      "metadata": {
        "id": "qu1rlOavZkFz",
        "colab_type": "code",
        "colab": {}
      },
      "source": [
        "df['가격'] = df['가격'].str.replace(',','')"
      ],
      "execution_count": 0,
      "outputs": []
    },
    {
      "cell_type": "code",
      "metadata": {
        "id": "SO9aJSrniQxH",
        "colab_type": "code",
        "colab": {
          "base_uri": "https://localhost:8080/",
          "height": 204
        },
        "outputId": "3e3428db-e854-4fbb-c746-40e6c23dfe8f"
      },
      "source": [
        "df.head()"
      ],
      "execution_count": 109,
      "outputs": [
        {
          "output_type": "execute_result",
          "data": {
            "text/html": [
              "<div>\n",
              "<style scoped>\n",
              "    .dataframe tbody tr th:only-of-type {\n",
              "        vertical-align: middle;\n",
              "    }\n",
              "\n",
              "    .dataframe tbody tr th {\n",
              "        vertical-align: top;\n",
              "    }\n",
              "\n",
              "    .dataframe thead th {\n",
              "        text-align: right;\n",
              "    }\n",
              "</style>\n",
              "<table border=\"1\" class=\"dataframe\">\n",
              "  <thead>\n",
              "    <tr style=\"text-align: right;\">\n",
              "      <th></th>\n",
              "      <th>날짜</th>\n",
              "      <th>현재기온</th>\n",
              "      <th>이슬점온도</th>\n",
              "      <th>체감온도</th>\n",
              "      <th>습도</th>\n",
              "      <th>풍속</th>\n",
              "      <th>해면기압</th>\n",
              "      <th>가격</th>\n",
              "    </tr>\n",
              "  </thead>\n",
              "  <tbody>\n",
              "    <tr>\n",
              "      <th>0</th>\n",
              "      <td>2020-04-15</td>\n",
              "      <td>19.2</td>\n",
              "      <td>2.9</td>\n",
              "      <td>63.0</td>\n",
              "      <td>34</td>\n",
              "      <td>15.1</td>\n",
              "      <td>1014.2</td>\n",
              "      <td>NaN</td>\n",
              "    </tr>\n",
              "    <tr>\n",
              "      <th>1</th>\n",
              "      <td>2020-04-14</td>\n",
              "      <td>22.2</td>\n",
              "      <td>-4.8</td>\n",
              "      <td>66.0</td>\n",
              "      <td>16</td>\n",
              "      <td>9.7</td>\n",
              "      <td>1015.9</td>\n",
              "      <td>4300</td>\n",
              "    </tr>\n",
              "    <tr>\n",
              "      <th>2</th>\n",
              "      <td>2020-04-13</td>\n",
              "      <td>11.8</td>\n",
              "      <td>-2.4</td>\n",
              "      <td>55.0</td>\n",
              "      <td>37</td>\n",
              "      <td>16.9</td>\n",
              "      <td>1011.7</td>\n",
              "      <td>4500</td>\n",
              "    </tr>\n",
              "    <tr>\n",
              "      <th>3</th>\n",
              "      <td>2020-04-12</td>\n",
              "      <td>9.4</td>\n",
              "      <td>5.7</td>\n",
              "      <td>50.0</td>\n",
              "      <td>78</td>\n",
              "      <td>5.4</td>\n",
              "      <td>1011.9</td>\n",
              "      <td>NaN</td>\n",
              "    </tr>\n",
              "    <tr>\n",
              "      <th>4</th>\n",
              "      <td>2020-04-11</td>\n",
              "      <td>14.0</td>\n",
              "      <td>3.7</td>\n",
              "      <td>57.0</td>\n",
              "      <td>50</td>\n",
              "      <td>6.5</td>\n",
              "      <td>1019.5</td>\n",
              "      <td>NaN</td>\n",
              "    </tr>\n",
              "  </tbody>\n",
              "</table>\n",
              "</div>"
            ],
            "text/plain": [
              "           날짜  현재기온 이슬점온도  체감온도  습도    풍속    해면기압    가격\n",
              "0  2020-04-15  19.2   2.9  63.0  34  15.1  1014.2   NaN\n",
              "1  2020-04-14  22.2  -4.8  66.0  16   9.7  1015.9  4300\n",
              "2  2020-04-13  11.8  -2.4  55.0  37  16.9  1011.7  4500\n",
              "3  2020-04-12   9.4   5.7  50.0  78   5.4  1011.9   NaN\n",
              "4  2020-04-11  14.0   3.7  57.0  50   6.5  1019.5   NaN"
            ]
          },
          "metadata": {
            "tags": []
          },
          "execution_count": 109
        }
      ]
    },
    {
      "cell_type": "code",
      "metadata": {
        "id": "gfJi3pPsf97k",
        "colab_type": "code",
        "colab": {
          "base_uri": "https://localhost:8080/",
          "height": 419
        },
        "outputId": "a145dba7-f4db-437b-9181-29d195755fd5"
      },
      "source": [
        "df.fillna(0)"
      ],
      "execution_count": 101,
      "outputs": [
        {
          "output_type": "execute_result",
          "data": {
            "text/html": [
              "<div>\n",
              "<style scoped>\n",
              "    .dataframe tbody tr th:only-of-type {\n",
              "        vertical-align: middle;\n",
              "    }\n",
              "\n",
              "    .dataframe tbody tr th {\n",
              "        vertical-align: top;\n",
              "    }\n",
              "\n",
              "    .dataframe thead th {\n",
              "        text-align: right;\n",
              "    }\n",
              "</style>\n",
              "<table border=\"1\" class=\"dataframe\">\n",
              "  <thead>\n",
              "    <tr style=\"text-align: right;\">\n",
              "      <th></th>\n",
              "      <th>날짜</th>\n",
              "      <th>현재기온</th>\n",
              "      <th>이슬점온도</th>\n",
              "      <th>체감온도</th>\n",
              "      <th>습도</th>\n",
              "      <th>풍속</th>\n",
              "      <th>해면기압</th>\n",
              "      <th>가격</th>\n",
              "    </tr>\n",
              "  </thead>\n",
              "  <tbody>\n",
              "    <tr>\n",
              "      <th>0</th>\n",
              "      <td>2020-04-15</td>\n",
              "      <td>19.2</td>\n",
              "      <td>2.9</td>\n",
              "      <td>63.0</td>\n",
              "      <td>34</td>\n",
              "      <td>15.1</td>\n",
              "      <td>1014.2</td>\n",
              "      <td>0</td>\n",
              "    </tr>\n",
              "    <tr>\n",
              "      <th>1</th>\n",
              "      <td>2020-04-14</td>\n",
              "      <td>22.2</td>\n",
              "      <td>-4.8</td>\n",
              "      <td>66.0</td>\n",
              "      <td>16</td>\n",
              "      <td>9.7</td>\n",
              "      <td>1015.9</td>\n",
              "      <td>4,300</td>\n",
              "    </tr>\n",
              "    <tr>\n",
              "      <th>2</th>\n",
              "      <td>2020-04-13</td>\n",
              "      <td>11.8</td>\n",
              "      <td>-2.4</td>\n",
              "      <td>55.0</td>\n",
              "      <td>37</td>\n",
              "      <td>16.9</td>\n",
              "      <td>1011.7</td>\n",
              "      <td>4,500</td>\n",
              "    </tr>\n",
              "    <tr>\n",
              "      <th>3</th>\n",
              "      <td>2020-04-12</td>\n",
              "      <td>9.4</td>\n",
              "      <td>5.7</td>\n",
              "      <td>50.0</td>\n",
              "      <td>78</td>\n",
              "      <td>5.4</td>\n",
              "      <td>1011.9</td>\n",
              "      <td>0</td>\n",
              "    </tr>\n",
              "    <tr>\n",
              "      <th>4</th>\n",
              "      <td>2020-04-11</td>\n",
              "      <td>14.0</td>\n",
              "      <td>3.7</td>\n",
              "      <td>57.0</td>\n",
              "      <td>50</td>\n",
              "      <td>6.5</td>\n",
              "      <td>1019.5</td>\n",
              "      <td>0</td>\n",
              "    </tr>\n",
              "    <tr>\n",
              "      <th>...</th>\n",
              "      <td>...</td>\n",
              "      <td>...</td>\n",
              "      <td>...</td>\n",
              "      <td>...</td>\n",
              "      <td>...</td>\n",
              "      <td>...</td>\n",
              "      <td>...</td>\n",
              "      <td>...</td>\n",
              "    </tr>\n",
              "    <tr>\n",
              "      <th>465</th>\n",
              "      <td>2019-01-06</td>\n",
              "      <td>8.5</td>\n",
              "      <td>-6.1</td>\n",
              "      <td>6.4</td>\n",
              "      <td>35</td>\n",
              "      <td>12.6</td>\n",
              "      <td>1025.0</td>\n",
              "      <td>0</td>\n",
              "    </tr>\n",
              "    <tr>\n",
              "      <th>466</th>\n",
              "      <td>2019-01-05</td>\n",
              "      <td>10.1</td>\n",
              "      <td>-11.2</td>\n",
              "      <td>8.2</td>\n",
              "      <td>21</td>\n",
              "      <td>14.0</td>\n",
              "      <td>1022.4</td>\n",
              "      <td>0</td>\n",
              "    </tr>\n",
              "    <tr>\n",
              "      <th>467</th>\n",
              "      <td>2019-01-04</td>\n",
              "      <td>2.9</td>\n",
              "      <td>-12.6</td>\n",
              "      <td>2.9</td>\n",
              "      <td>31</td>\n",
              "      <td>3.6</td>\n",
              "      <td>1029.8</td>\n",
              "      <td>0</td>\n",
              "    </tr>\n",
              "    <tr>\n",
              "      <th>468</th>\n",
              "      <td>2019-01-03</td>\n",
              "      <td>6.5</td>\n",
              "      <td>-14.9</td>\n",
              "      <td>3.0</td>\n",
              "      <td>20</td>\n",
              "      <td>19.8</td>\n",
              "      <td>1032.5</td>\n",
              "      <td>0</td>\n",
              "    </tr>\n",
              "    <tr>\n",
              "      <th>469</th>\n",
              "      <td>2019-01-02</td>\n",
              "      <td>5.5</td>\n",
              "      <td>-10.3</td>\n",
              "      <td>1.9</td>\n",
              "      <td>31</td>\n",
              "      <td>18.0</td>\n",
              "      <td>1030.4</td>\n",
              "      <td>0</td>\n",
              "    </tr>\n",
              "  </tbody>\n",
              "</table>\n",
              "<p>470 rows × 8 columns</p>\n",
              "</div>"
            ],
            "text/plain": [
              "             날짜  현재기온  이슬점온도  체감온도  습도    풍속    해면기압     가격\n",
              "0    2020-04-15  19.2    2.9  63.0  34  15.1  1014.2      0\n",
              "1    2020-04-14  22.2   -4.8  66.0  16   9.7  1015.9  4,300\n",
              "2    2020-04-13  11.8   -2.4  55.0  37  16.9  1011.7  4,500\n",
              "3    2020-04-12   9.4    5.7  50.0  78   5.4  1011.9      0\n",
              "4    2020-04-11  14.0    3.7  57.0  50   6.5  1019.5      0\n",
              "..          ...   ...    ...   ...  ..   ...     ...    ...\n",
              "465  2019-01-06   8.5   -6.1   6.4  35  12.6  1025.0      0\n",
              "466  2019-01-05  10.1  -11.2   8.2  21  14.0  1022.4      0\n",
              "467  2019-01-04   2.9  -12.6   2.9  31   3.6  1029.8      0\n",
              "468  2019-01-03   6.5  -14.9   3.0  20  19.8  1032.5      0\n",
              "469  2019-01-02   5.5  -10.3   1.9  31  18.0  1030.4      0\n",
              "\n",
              "[470 rows x 8 columns]"
            ]
          },
          "metadata": {
            "tags": []
          },
          "execution_count": 101
        }
      ]
    },
    {
      "cell_type": "code",
      "metadata": {
        "id": "YEHApzO5XVrJ",
        "colab_type": "code",
        "colab": {}
      },
      "source": [
        "# 정해진 컬럼만 숫자로 바꿔줄 경우\n",
        "# df['가격'] = pd.to_numeric(df.가격, errors='coerce').fillna(0)\n",
        "# 데이터 프레임 전체의 타입을 숫자로 바꿔줄 경우\n",
        "df['가격'] = pd.to_numeric(df['가격'])"
      ],
      "execution_count": 0,
      "outputs": []
    },
    {
      "cell_type": "code",
      "metadata": {
        "id": "Vx0k2EwFiR2c",
        "colab_type": "code",
        "colab": {
          "base_uri": "https://localhost:8080/",
          "height": 179
        },
        "outputId": "543c634a-ec79-4d4d-a318-c6bf07abbc70"
      },
      "source": [
        "df.dtypes"
      ],
      "execution_count": 113,
      "outputs": [
        {
          "output_type": "execute_result",
          "data": {
            "text/plain": [
              "날짜        object\n",
              "현재기온      object\n",
              "이슬점온도     object\n",
              "체감온도      object\n",
              "습도        object\n",
              "풍속        object\n",
              "해면기압      object\n",
              "가격       float64\n",
              "dtype: object"
            ]
          },
          "metadata": {
            "tags": []
          },
          "execution_count": 113
        }
      ]
    },
    {
      "cell_type": "code",
      "metadata": {
        "id": "rulEHaRlrn0e",
        "colab_type": "code",
        "colab": {}
      },
      "source": [
        "# 문자 숫자로 바꿔주기\n",
        "def change_float(x):\n",
        "  try:\n",
        "    tmp = float(x)\n",
        "  except:\n",
        "    if len(x) >1:\n",
        "      tmp = float(x[1:]) * -1\n",
        "    else:\n",
        "      tmp = None\n",
        "  return tmp"
      ],
      "execution_count": 0,
      "outputs": []
    },
    {
      "cell_type": "code",
      "metadata": {
        "id": "xak5MYvJrnbW",
        "colab_type": "code",
        "colab": {
          "base_uri": "https://localhost:8080/",
          "height": 35
        },
        "outputId": "270873eb-77a5-4741-aac1-77e6affe9e8b"
      },
      "source": [
        "change_float(\"-20\")"
      ],
      "execution_count": 144,
      "outputs": [
        {
          "output_type": "execute_result",
          "data": {
            "text/plain": [
              "-20.0"
            ]
          },
          "metadata": {
            "tags": []
          },
          "execution_count": 144
        }
      ]
    },
    {
      "cell_type": "code",
      "metadata": {
        "id": "Ck6KoW2JsE7H",
        "colab_type": "code",
        "colab": {}
      },
      "source": [
        "# 음수 문자가 있는 컬럼에 함수 적용\n",
        "df['현재기온'] = df['현재기온'].apply(change_float)\n",
        "df['이슬점온도'] = df['이슬점온도'].apply(change_float)\n",
        "df['체감온도'] = df['체감온도'].apply(change_float)\n",
        "df['습도'] = df['습도'].apply(change_float)\n",
        "df['풍속'] = df['풍속'].apply(change_float)\n",
        "df['해면기압'] = df['해면기압'].apply(change_float)"
      ],
      "execution_count": 0,
      "outputs": []
    },
    {
      "cell_type": "code",
      "metadata": {
        "id": "23PKyc9YnEE1",
        "colab_type": "code",
        "colab": {
          "base_uri": "https://localhost:8080/",
          "height": 179
        },
        "outputId": "9182cce5-190b-4c84-9518-bd309f1bfd0b"
      },
      "source": [
        "df.dtypes"
      ],
      "execution_count": 149,
      "outputs": [
        {
          "output_type": "execute_result",
          "data": {
            "text/plain": [
              "날짜        object\n",
              "현재기온     float64\n",
              "이슬점온도    float64\n",
              "체감온도     float64\n",
              "습도       float64\n",
              "풍속       float64\n",
              "해면기압     float64\n",
              "가격       float64\n",
              "dtype: object"
            ]
          },
          "metadata": {
            "tags": []
          },
          "execution_count": 149
        }
      ]
    },
    {
      "cell_type": "code",
      "metadata": {
        "id": "XERjH_tBqE71",
        "colab_type": "code",
        "colab": {}
      },
      "source": [
        "# 앞의 값으로 대신 채워주기\n",
        "df = df.fillna(method='ffill')"
      ],
      "execution_count": 0,
      "outputs": []
    },
    {
      "cell_type": "code",
      "metadata": {
        "id": "xdICLHNov3vo",
        "colab_type": "code",
        "colab": {}
      },
      "source": [
        "# 뒤의 값으로 대신 채워주기\n",
        "df = df.fillna(method='bfill')"
      ],
      "execution_count": 0,
      "outputs": []
    },
    {
      "cell_type": "code",
      "metadata": {
        "id": "cYUPQU-MwCrv",
        "colab_type": "code",
        "colab": {
          "base_uri": "https://localhost:8080/",
          "height": 204
        },
        "outputId": "6c638613-2a9e-48e6-c241-5ab2e8f4fe59"
      },
      "source": [
        "# 결과 확인\n",
        "df.head()"
      ],
      "execution_count": 154,
      "outputs": [
        {
          "output_type": "execute_result",
          "data": {
            "text/html": [
              "<div>\n",
              "<style scoped>\n",
              "    .dataframe tbody tr th:only-of-type {\n",
              "        vertical-align: middle;\n",
              "    }\n",
              "\n",
              "    .dataframe tbody tr th {\n",
              "        vertical-align: top;\n",
              "    }\n",
              "\n",
              "    .dataframe thead th {\n",
              "        text-align: right;\n",
              "    }\n",
              "</style>\n",
              "<table border=\"1\" class=\"dataframe\">\n",
              "  <thead>\n",
              "    <tr style=\"text-align: right;\">\n",
              "      <th></th>\n",
              "      <th>날짜</th>\n",
              "      <th>현재기온</th>\n",
              "      <th>이슬점온도</th>\n",
              "      <th>체감온도</th>\n",
              "      <th>습도</th>\n",
              "      <th>풍속</th>\n",
              "      <th>해면기압</th>\n",
              "      <th>가격</th>\n",
              "    </tr>\n",
              "  </thead>\n",
              "  <tbody>\n",
              "    <tr>\n",
              "      <th>0</th>\n",
              "      <td>2020-04-15</td>\n",
              "      <td>19.2</td>\n",
              "      <td>2.9</td>\n",
              "      <td>63.0</td>\n",
              "      <td>34.0</td>\n",
              "      <td>15.1</td>\n",
              "      <td>1014.2</td>\n",
              "      <td>4300.0</td>\n",
              "    </tr>\n",
              "    <tr>\n",
              "      <th>1</th>\n",
              "      <td>2020-04-14</td>\n",
              "      <td>22.2</td>\n",
              "      <td>-4.8</td>\n",
              "      <td>66.0</td>\n",
              "      <td>16.0</td>\n",
              "      <td>9.7</td>\n",
              "      <td>1015.9</td>\n",
              "      <td>4300.0</td>\n",
              "    </tr>\n",
              "    <tr>\n",
              "      <th>2</th>\n",
              "      <td>2020-04-13</td>\n",
              "      <td>11.8</td>\n",
              "      <td>-2.4</td>\n",
              "      <td>55.0</td>\n",
              "      <td>37.0</td>\n",
              "      <td>16.9</td>\n",
              "      <td>1011.7</td>\n",
              "      <td>4500.0</td>\n",
              "    </tr>\n",
              "    <tr>\n",
              "      <th>3</th>\n",
              "      <td>2020-04-12</td>\n",
              "      <td>9.4</td>\n",
              "      <td>5.7</td>\n",
              "      <td>50.0</td>\n",
              "      <td>78.0</td>\n",
              "      <td>5.4</td>\n",
              "      <td>1011.9</td>\n",
              "      <td>4500.0</td>\n",
              "    </tr>\n",
              "    <tr>\n",
              "      <th>4</th>\n",
              "      <td>2020-04-11</td>\n",
              "      <td>14.0</td>\n",
              "      <td>3.7</td>\n",
              "      <td>57.0</td>\n",
              "      <td>50.0</td>\n",
              "      <td>6.5</td>\n",
              "      <td>1019.5</td>\n",
              "      <td>4500.0</td>\n",
              "    </tr>\n",
              "  </tbody>\n",
              "</table>\n",
              "</div>"
            ],
            "text/plain": [
              "           날짜  현재기온  이슬점온도  체감온도    습도    풍속    해면기압      가격\n",
              "0  2020-04-15  19.2    2.9  63.0  34.0  15.1  1014.2  4300.0\n",
              "1  2020-04-14  22.2   -4.8  66.0  16.0   9.7  1015.9  4300.0\n",
              "2  2020-04-13  11.8   -2.4  55.0  37.0  16.9  1011.7  4500.0\n",
              "3  2020-04-12   9.4    5.7  50.0  78.0   5.4  1011.9  4500.0\n",
              "4  2020-04-11  14.0    3.7  57.0  50.0   6.5  1019.5  4500.0"
            ]
          },
          "metadata": {
            "tags": []
          },
          "execution_count": 154
        }
      ]
    },
    {
      "cell_type": "code",
      "metadata": {
        "id": "JnKpf2tXwHw2",
        "colab_type": "code",
        "colab": {
          "base_uri": "https://localhost:8080/",
          "height": 179
        },
        "outputId": "47548137-bcdd-4f0e-b931-8ff2e6e32646"
      },
      "source": [
        "# null값 최종 확인\n",
        "df.isnull().sum()"
      ],
      "execution_count": 156,
      "outputs": [
        {
          "output_type": "execute_result",
          "data": {
            "text/plain": [
              "날짜       0\n",
              "현재기온     0\n",
              "이슬점온도    0\n",
              "체감온도     0\n",
              "습도       0\n",
              "풍속       0\n",
              "해면기압     0\n",
              "가격       0\n",
              "dtype: int64"
            ]
          },
          "metadata": {
            "tags": []
          },
          "execution_count": 156
        }
      ]
    },
    {
      "cell_type": "code",
      "metadata": {
        "id": "du4LccpJwNNm",
        "colab_type": "code",
        "colab": {
          "base_uri": "https://localhost:8080/",
          "height": 35
        },
        "outputId": "59964588-32ba-4169-ed32-1f69b91e168d"
      },
      "source": [
        "df.columns"
      ],
      "execution_count": 157,
      "outputs": [
        {
          "output_type": "execute_result",
          "data": {
            "text/plain": [
              "Index(['날짜', '현재기온', '이슬점온도', '체감온도', '습도', '풍속', '해면기압', '가격'], dtype='object')"
            ]
          },
          "metadata": {
            "tags": []
          },
          "execution_count": 157
        }
      ]
    },
    {
      "cell_type": "code",
      "metadata": {
        "id": "ad_iOZKIwmRe",
        "colab_type": "code",
        "colab": {
          "base_uri": "https://localhost:8080/",
          "height": 622
        },
        "outputId": "b186b78a-cf62-4318-c719-1083e7d3b6ab"
      },
      "source": [
        "# 컬럼별 데이터 분포 보기\n",
        "numerical_columns = ['현재기온', '이슬점온도', '체감온도', '습도', '풍속', '해면기압', '가격']\n",
        "\n",
        "fig = plt.figure(figsize=(10,10))\n",
        "ax = fig.gca()\n",
        "df[numerical_columns].hist(ax=ax)\n",
        "plt.show()"
      ],
      "execution_count": 162,
      "outputs": [
        {
          "output_type": "display_data",
          "data": {
            "image/png": "[encoded data removed]",
            "text/plain": [
              "<Figure size 720x720 with 9 Axes>"
            ]
          },
          "metadata": {
            "tags": []
          }
        }
      ]
    },
    {
      "cell_type": "code",
      "metadata": {
        "id": "Gb3uQXEjw2v-",
        "colab_type": "code",
        "colab": {}
      },
      "source": [
        "# 컬럼별 상관관계 보기\n",
        "cols = ['현재기온', '이슬점온도', '체감온도', '습도', '풍속', '해면기압', '가격']\n",
        "\n",
        "corr = df[cols].corr(method = 'pearson')"
      ],
      "execution_count": 0,
      "outputs": []
    },
    {
      "cell_type": "code",
      "metadata": {
        "id": "8AOuyidoxbfg",
        "colab_type": "code",
        "colab": {
          "base_uri": "https://localhost:8080/",
          "height": 712
        },
        "outputId": "574018e9-facb-48c3-fe15-259e0bb0fedc"
      },
      "source": [
        "fig = plt.figure(figsize=(10,10))\n",
        "ax = fig.gca()\n",
        "sns.set(font_scale=1.5)\n",
        "hm = sns.heatmap(corr.values,\n",
        "                 annot=True,\n",
        "                 fmt = '.2f',\n",
        "                 annot_kws = {'size':15},\n",
        "                 yticklabels=cols,\n",
        "                 xticklabels=cols,\n",
        "                 ax=ax)\n",
        "plt.tight_layout()\n",
        "plt.show()"
      ],
      "execution_count": 161,
      "outputs": [
        {
          "output_type": "display_data",
          "data": {
            "image/png": "[encoded data removed]",
            "text/plain": [
              "<Figure size 720x720 with 2 Axes>"
            ]
          },
          "metadata": {
            "tags": []
          }
        }
      ]
    },
    {
      "cell_type": "code",
      "metadata": {
        "id": "UN4VT8Gfxd3u",
        "colab_type": "code",
        "colab": {
          "base_uri": "https://localhost:8080/",
          "height": 318
        },
        "outputId": "e4176eee-b86c-4f1a-eeda-d5b7ace73fe0"
      },
      "source": [
        "# cols = ['현재기온', '이슬점온도', '체감온도', '습도', '풍속', '해면기압', '가격']\n",
        "# 스캐터로 확인\n",
        "plt.plot('현재기온','가격',\n",
        "         data=df,\n",
        "         linestyle='none',\n",
        "         marker='o',\n",
        "         markersize=5,\n",
        "         color='blue',\n",
        "         alpha=0.5)\n",
        "plt.title('Scatter Plot')\n",
        "plt.xlabel('현재기온')\n",
        "plt.ylabel('가격')\n",
        "plt.show()"
      ],
      "execution_count": 167,
      "outputs": [
        {
          "output_type": "display_data",
          "data": {
            "image/png": "[encoded data removed]",
            "text/plain": [
              "<Figure size 432x288 with 1 Axes>"
            ]
          },
          "metadata": {
            "tags": []
          }
        }
      ]
    },
    {
      "cell_type": "code",
      "metadata": {
        "id": "rIcrZsOKyM5B",
        "colab_type": "code",
        "colab": {
          "base_uri": "https://localhost:8080/",
          "height": 642
        },
        "outputId": "4803d53e-5d9d-4149-cf2b-a0bc8dd9b528"
      },
      "source": [
        "fig = plt.figure(figsize=(10,10))\n",
        "ax = fig.gca()\n",
        "sns.boxplot(x='날짜', y='가격', data=df, ax=ax)"
      ],
      "execution_count": 175,
      "outputs": [
        {
          "output_type": "execute_result",
          "data": {
            "text/plain": [
              "<matplotlib.axes._subplots.AxesSubplot at 0x7fd61ecea128>"
            ]
          },
          "metadata": {
            "tags": []
          },
          "execution_count": 175
        },
        {
          "output_type": "display_data",
          "data": {
            "image/png": "[encoded data removed]",
            "text/plain": [
              "<Figure size 720x720 with 1 Axes>"
            ]
          },
          "metadata": {
            "tags": []
          }
        }
      ]
    },
    {
      "cell_type": "code",
      "metadata": {
        "id": "BSQgDs5pylnw",
        "colab_type": "code",
        "colab": {}
      },
      "source": [
        "from sklearn.preprocessing import StandardScaler\n",
        "scaler = StandardScaler()\n",
        "scaler_columns = ['현재기온', '이슬점온도', '체감온도', '습도', '풍속', '해면기압']\n",
        "df[scaler_columns] = scaler.fit_transform(df[scaler_columns])"
      ],
      "execution_count": 0,
      "outputs": []
    },
    {
      "cell_type": "code",
      "metadata": {
        "id": "HjgpgdyHz7Ak",
        "colab_type": "code",
        "colab": {}
      },
      "source": [
        "from sklearn import linear_model\n",
        "from sklearn.model_selection import train_test_split\n",
        "from sklearn.metrics import mean_squared_error\n",
        "from math import sqrt\n",
        "\n",
        "X = df[scaler_columns]\n",
        "y = df['가격']\n",
        "X_train , X_test, y_train, y_test = train_test_split(X, y , test_size=0.2, random_state=33)"
      ],
      "execution_count": 0,
      "outputs": []
    },
    {
      "cell_type": "code",
      "metadata": {
        "id": "vuuI2NOy0B-i",
        "colab_type": "code",
        "colab": {
          "base_uri": "https://localhost:8080/",
          "height": 53
        },
        "outputId": "dbca13ea-25e5-4b06-bf4d-64f33e12ef1d"
      },
      "source": [
        "lr = linear_model.LinearRegression()\n",
        "model = lr.fit(X_train, y_train)\n",
        "\n",
        "print(lr.coef_)"
      ],
      "execution_count": 178,
      "outputs": [
        {
          "output_type": "stream",
          "text": [
            "[ 2.31950272e-15 -2.16493490e-15 -2.49800181e-16  1.09634524e-15\n",
            " -1.80411242e-16  6.93889390e-17  1.00000000e+00]\n"
          ],
          "name": "stdout"
        }
      ]
    },
    {
      "cell_type": "code",
      "metadata": {
        "id": "ynnsw_J_0DQP",
        "colab_type": "code",
        "colab": {}
      },
      "source": [
        "plt.rcParams['figure.figsize'] = [12,16]\n",
        "coefs = lr.coef_.tolist()\n",
        "coefs_series = pd.Series(coefs)"
      ],
      "execution_count": 0,
      "outputs": []
    },
    {
      "cell_type": "code",
      "metadata": {
        "id": "Po9N4O4y0Fo_",
        "colab_type": "code",
        "colab": {
          "base_uri": "https://localhost:8080/",
          "height": 970
        },
        "outputId": "489e1ea1-4446-48dd-9335-1eeb20676a7a"
      },
      "source": [
        "x_labels = scaler_columns\n",
        "ax = coefs_series.plot.barh()\n",
        "ax.set_title('feature_coef_graph')\n",
        "ax.set_xlabel('coef')\n",
        "ax.set_ylabel('x_features')\n",
        "ax.set_yticklabels(x_labels)\n",
        "plt.show()"
      ],
      "execution_count": 180,
      "outputs": [
        {
          "output_type": "display_data",
          "data": {
            "image/png": "[encoded data removed]",
            "text/plain": [
              "<Figure size 864x1152 with 1 Axes>"
            ]
          },
          "metadata": {
            "tags": []
          }
        }
      ]
    },
    {
      "cell_type": "code",
      "metadata": {
        "id": "S4cwjscC0IHy",
        "colab_type": "code",
        "colab": {
          "base_uri": "https://localhost:8080/",
          "height": 53
        },
        "outputId": "a97e6128-d276-4d8d-ac26-9c27dca03227"
      },
      "source": [
        "# 확인\n",
        "print(model.score(X_train, y_train))\n",
        "print(model.score(X_test,y_test))"
      ],
      "execution_count": 181,
      "outputs": [
        {
          "output_type": "stream",
          "text": [
            "1.0\n",
            "1.0\n"
          ],
          "name": "stdout"
        }
      ]
    },
    {
      "cell_type": "code",
      "metadata": {
        "id": "HlHsadZC0OTP",
        "colab_type": "code",
        "colab": {
          "base_uri": "https://localhost:8080/",
          "height": 35
        },
        "outputId": "054af07d-283e-457c-afab-0df2e85b1f68"
      },
      "source": [
        "# 평균 제곱근 오차\n",
        "y_predictions = lr.predict(X_train)\n",
        "print(sqrt(mean_squared_error(y_train, y_predictions)))"
      ],
      "execution_count": 182,
      "outputs": [
        {
          "output_type": "stream",
          "text": [
            "7.215143530735586e-16\n"
          ],
          "name": "stdout"
        }
      ]
    },
    {
      "cell_type": "code",
      "metadata": {
        "id": "YQkC4q3s0Peo",
        "colab_type": "code",
        "colab": {
          "base_uri": "https://localhost:8080/",
          "height": 35
        },
        "outputId": "9ebc9271-1ad4-40ea-9dc8-24ea4524dfe7"
      },
      "source": [
        "y_predictions = lr.predict(X_test)\n",
        "print(sqrt(mean_squared_error(y_test, y_predictions)))"
      ],
      "execution_count": 183,
      "outputs": [
        {
          "output_type": "stream",
          "text": [
            "7.136969912604919e-16\n"
          ],
          "name": "stdout"
        }
      ]
    },
    {
      "cell_type": "code",
      "metadata": {
        "id": "Lwx1XyyJ0UEq",
        "colab_type": "code",
        "colab": {}
      },
      "source": [
        "import statsmodels.api as sm"
      ],
      "execution_count": 0,
      "outputs": []
    },
    {
      "cell_type": "code",
      "metadata": {
        "id": "z7Sd-X2M0VKJ",
        "colab_type": "code",
        "colab": {
          "base_uri": "https://localhost:8080/",
          "height": 570
        },
        "outputId": "3e064939-c518-40c6-ecc0-a0541fa754db"
      },
      "source": [
        "X_train = sm.add_constant(X_train)\n",
        "model = sm.OLS(y_train, X_train).fit()\n",
        "model.summary()"
      ],
      "execution_count": 185,
      "outputs": [
        {
          "output_type": "execute_result",
          "data": {
            "text/html": [
              "<table class=\"simpletable\">\n",
              "<caption>OLS Regression Results</caption>\n",
              "<tr>\n",
              "  <th>Dep. Variable:</th>           <td>가격</td>        <th>  R-squared:         </th>  <td>   1.000</td> \n",
              "</tr>\n",
              "<tr>\n",
              "  <th>Model:</th>                   <td>OLS</td>       <th>  Adj. R-squared:    </th>  <td>   1.000</td> \n",
              "</tr>\n",
              "<tr>\n",
              "  <th>Method:</th>             <td>Least Squares</td>  <th>  F-statistic:       </th>  <td>2.872e+31</td>\n",
              "</tr>\n",
              "<tr>\n",
              "  <th>Date:</th>             <td>Fri, 17 Apr 2020</td> <th>  Prob (F-statistic):</th>   <td>  0.00</td>  \n",
              "</tr>\n",
              "<tr>\n",
              "  <th>Time:</th>                 <td>06:26:43</td>     <th>  Log-Likelihood:    </th>  <td>  12341.</td> \n",
              "</tr>\n",
              "<tr>\n",
              "  <th>No. Observations:</th>      <td>   376</td>      <th>  AIC:               </th> <td>-2.467e+04</td>\n",
              "</tr>\n",
              "<tr>\n",
              "  <th>Df Residuals:</th>          <td>   368</td>      <th>  BIC:               </th> <td>-2.463e+04</td>\n",
              "</tr>\n",
              "<tr>\n",
              "  <th>Df Model:</th>              <td>     7</td>      <th>                     </th>      <td> </td>    \n",
              "</tr>\n",
              "<tr>\n",
              "  <th>Covariance Type:</th>      <td>nonrobust</td>    <th>                     </th>      <td> </td>    \n",
              "</tr>\n",
              "</table>\n",
              "<table class=\"simpletable\">\n",
              "<tr>\n",
              "    <td></td>       <th>coef</th>     <th>std err</th>      <th>t</th>      <th>P>|t|</th>  <th>[0.025</th>    <th>0.975]</th>  \n",
              "</tr>\n",
              "<tr>\n",
              "  <th>const</th> <td> 1.067e-16</td> <td> 7.05e-17</td> <td>    1.513</td> <td> 0.131</td> <td> -3.2e-17</td> <td> 2.45e-16</td>\n",
              "</tr>\n",
              "<tr>\n",
              "  <th>현재기온</th>  <td> -2.22e-16</td> <td> 4.77e-16</td> <td>   -0.466</td> <td> 0.642</td> <td>-1.16e-15</td> <td> 7.16e-16</td>\n",
              "</tr>\n",
              "<tr>\n",
              "  <th>이슬점온도</th> <td>-7.216e-16</td> <td> 6.27e-16</td> <td>   -1.151</td> <td> 0.251</td> <td>-1.95e-15</td> <td> 5.11e-16</td>\n",
              "</tr>\n",
              "<tr>\n",
              "  <th>체감온도</th>  <td>-4.163e-17</td> <td> 1.55e-16</td> <td>   -0.269</td> <td> 0.788</td> <td>-3.46e-16</td> <td> 2.62e-16</td>\n",
              "</tr>\n",
              "<tr>\n",
              "  <th>습도</th>    <td> 2.776e-17</td> <td> 3.55e-16</td> <td>    0.078</td> <td> 0.938</td> <td> -6.7e-16</td> <td> 7.25e-16</td>\n",
              "</tr>\n",
              "<tr>\n",
              "  <th>풍속</th>    <td>         0</td> <td> 7.58e-17</td> <td>        0</td> <td> 1.000</td> <td>-1.49e-16</td> <td> 1.49e-16</td>\n",
              "</tr>\n",
              "<tr>\n",
              "  <th>해면기압</th>  <td> 4.996e-16</td> <td> 1.13e-16</td> <td>    4.432</td> <td> 0.000</td> <td> 2.78e-16</td> <td> 7.21e-16</td>\n",
              "</tr>\n",
              "<tr>\n",
              "  <th>가격</th>    <td>    1.0000</td> <td> 7.88e-17</td> <td> 1.27e+16</td> <td> 0.000</td> <td>    1.000</td> <td>    1.000</td>\n",
              "</tr>\n",
              "</table>\n",
              "<table class=\"simpletable\">\n",
              "<tr>\n",
              "  <th>Omnibus:</th>       <td>53.744</td> <th>  Durbin-Watson:     </th> <td>   1.890</td>\n",
              "</tr>\n",
              "<tr>\n",
              "  <th>Prob(Omnibus):</th> <td> 0.000</td> <th>  Jarque-Bera (JB):  </th> <td>  15.151</td>\n",
              "</tr>\n",
              "<tr>\n",
              "  <th>Skew:</th>          <td> 0.157</td> <th>  Prob(JB):          </th> <td>0.000513</td>\n",
              "</tr>\n",
              "<tr>\n",
              "  <th>Kurtosis:</th>      <td> 2.068</td> <th>  Cond. No.          </th> <td>    23.8</td>\n",
              "</tr>\n",
              "</table><br/><br/>Warnings:<br/>[1] Standard Errors assume that the covariance matrix of the errors is correctly specified."
            ],
            "text/plain": [
              "<class 'statsmodels.iolib.summary.Summary'>\n",
              "\"\"\"\n",
              "                            OLS Regression Results                            \n",
              "==============================================================================\n",
              "Dep. Variable:                     가격   R-squared:                       1.000\n",
              "Model:                            OLS   Adj. R-squared:                  1.000\n",
              "Method:                 Least Squares   F-statistic:                 2.872e+31\n",
              "Date:                Fri, 17 Apr 2020   Prob (F-statistic):               0.00\n",
              "Time:                        06:26:43   Log-Likelihood:                 12341.\n",
              "No. Observations:                 376   AIC:                        -2.467e+04\n",
              "Df Residuals:                     368   BIC:                        -2.463e+04\n",
              "Df Model:                           7                                         \n",
              "Covariance Type:            nonrobust                                         \n",
              "==============================================================================\n",
              "                 coef    std err          t      P>|t|      [0.025      0.975]\n",
              "------------------------------------------------------------------------------\n",
              "const       1.067e-16   7.05e-17      1.513      0.131    -3.2e-17    2.45e-16\n",
              "현재기온        -2.22e-16   4.77e-16     -0.466      0.642   -1.16e-15    7.16e-16\n",
              "이슬점온도      -7.216e-16   6.27e-16     -1.151      0.251   -1.95e-15    5.11e-16\n",
              "체감온도       -4.163e-17   1.55e-16     -0.269      0.788   -3.46e-16    2.62e-16\n",
              "습도          2.776e-17   3.55e-16      0.078      0.938    -6.7e-16    7.25e-16\n",
              "풍속                  0   7.58e-17          0      1.000   -1.49e-16    1.49e-16\n",
              "해면기압        4.996e-16   1.13e-16      4.432      0.000    2.78e-16    7.21e-16\n",
              "가격             1.0000   7.88e-17   1.27e+16      0.000       1.000       1.000\n",
              "==============================================================================\n",
              "Omnibus:                       53.744   Durbin-Watson:                   1.890\n",
              "Prob(Omnibus):                  0.000   Jarque-Bera (JB):               15.151\n",
              "Skew:                           0.157   Prob(JB):                     0.000513\n",
              "Kurtosis:                       2.068   Cond. No.                         23.8\n",
              "==============================================================================\n",
              "\n",
              "Warnings:\n",
              "[1] Standard Errors assume that the covariance matrix of the errors is correctly specified.\n",
              "\"\"\""
            ]
          },
          "metadata": {
            "tags": []
          },
          "execution_count": 185
        }
      ]
    },
    {
      "cell_type": "code",
      "metadata": {
        "id": "qm471jZi0WsP",
        "colab_type": "code",
        "colab": {
          "base_uri": "https://localhost:8080/",
          "height": 297
        },
        "outputId": "85bace47-d760-4b56-8159-dd33d259f041"
      },
      "source": [
        "from statsmodels.stats.outliers_influence import variance_inflation_factor\n",
        "vif = pd.DataFrame()\n",
        "\n",
        "vif['VIF Factor'] = [variance_inflation_factor(X_train.values,i) for i in range(X_train.shape[1])]\n",
        "vif['features'] = X_train.columns\n",
        "vif.round(1)"
      ],
      "execution_count": 186,
      "outputs": [
        {
          "output_type": "execute_result",
          "data": {
            "text/html": [
              "<div>\n",
              "<style scoped>\n",
              "    .dataframe tbody tr th:only-of-type {\n",
              "        vertical-align: middle;\n",
              "    }\n",
              "\n",
              "    .dataframe tbody tr th {\n",
              "        vertical-align: top;\n",
              "    }\n",
              "\n",
              "    .dataframe thead th {\n",
              "        text-align: right;\n",
              "    }\n",
              "</style>\n",
              "<table border=\"1\" class=\"dataframe\">\n",
              "  <thead>\n",
              "    <tr style=\"text-align: right;\">\n",
              "      <th></th>\n",
              "      <th>VIF Factor</th>\n",
              "      <th>features</th>\n",
              "    </tr>\n",
              "  </thead>\n",
              "  <tbody>\n",
              "    <tr>\n",
              "      <th>0</th>\n",
              "      <td>1.0</td>\n",
              "      <td>const</td>\n",
              "    </tr>\n",
              "    <tr>\n",
              "      <th>1</th>\n",
              "      <td>45.4</td>\n",
              "      <td>현재기온</td>\n",
              "    </tr>\n",
              "    <tr>\n",
              "      <th>2</th>\n",
              "      <td>79.5</td>\n",
              "      <td>이슬점온도</td>\n",
              "    </tr>\n",
              "    <tr>\n",
              "      <th>3</th>\n",
              "      <td>4.8</td>\n",
              "      <td>체감온도</td>\n",
              "    </tr>\n",
              "    <tr>\n",
              "      <th>4</th>\n",
              "      <td>26.7</td>\n",
              "      <td>습도</td>\n",
              "    </tr>\n",
              "    <tr>\n",
              "      <th>5</th>\n",
              "      <td>1.2</td>\n",
              "      <td>풍속</td>\n",
              "    </tr>\n",
              "    <tr>\n",
              "      <th>6</th>\n",
              "      <td>2.5</td>\n",
              "      <td>해면기압</td>\n",
              "    </tr>\n",
              "    <tr>\n",
              "      <th>7</th>\n",
              "      <td>1.2</td>\n",
              "      <td>가격</td>\n",
              "    </tr>\n",
              "  </tbody>\n",
              "</table>\n",
              "</div>"
            ],
            "text/plain": [
              "   VIF Factor features\n",
              "0         1.0    const\n",
              "1        45.4     현재기온\n",
              "2        79.5    이슬점온도\n",
              "3         4.8     체감온도\n",
              "4        26.7       습도\n",
              "5         1.2       풍속\n",
              "6         2.5     해면기압\n",
              "7         1.2       가격"
            ]
          },
          "metadata": {
            "tags": []
          },
          "execution_count": 186
        }
      ]
    },
    {
      "cell_type": "code",
      "metadata": {
        "id": "KOvxJ93b0ZJq",
        "colab_type": "code",
        "colab": {}
      },
      "source": [
        ""
      ],
      "execution_count": 0,
      "outputs": []
    }
  ]
}