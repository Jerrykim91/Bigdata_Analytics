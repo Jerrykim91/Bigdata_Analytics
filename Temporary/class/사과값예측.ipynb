{
  "nbformat": 4,
  "nbformat_minor": 0,
  "metadata": {
    "colab": {
      "name": "사과값예측.ipynb",
      "provenance": [],
      "collapsed_sections": []
    },
    "kernelspec": {
      "name": "python3",
      "display_name": "Python 3"
    }
  },
  "cells": [
    {
      "cell_type": "code",
      "metadata": {
        "id": "X_jRaMOscqaz",
        "colab_type": "code",
        "colab": {
          "base_uri": "https://localhost:8080/",
          "height": 53
        },
        "outputId": "d33474d2-fd9a-4e73-a90f-0e2f454f083e"
      },
      "source": [
        "import pandas as pd\n",
        "import numpy as np\n",
        "import matplotlib.pyplot as plt\n",
        "import seaborn as sns\n",
        "import warnings\n",
        "warnings.filterwarnings('ignore')\n",
        "%matplotlib inline"
      ],
      "execution_count": 1,
      "outputs": [
        {
          "output_type": "stream",
          "text": [
            "/usr/local/lib/python3.6/dist-packages/statsmodels/tools/_testing.py:19: FutureWarning: pandas.util.testing is deprecated. Use the functions in the public API at pandas.testing instead.\n",
            "  import pandas.util.testing as tm\n"
          ],
          "name": "stderr"
        }
      ]
    },
    {
      "cell_type": "code",
      "metadata": {
        "id": "be2xebw9lYIc",
        "colab_type": "code",
        "colab": {}
      },
      "source": [
        "tem=pd.read_csv('/content/drive/My Drive/사과예측(10년_부산_후지)/Data/ta_20200417141730_기온.csv',encoding='euc-kr',sep=',',skiprows=6)\n",
        "wet=pd.read_csv('/content/drive/My Drive/사과예측(10년_부산_후지)/Data/rn_20200417141829_강수.csv',encoding='euc-kr',sep=',',skiprows=6)\n",
        "A_price_h=pd.read_csv('/content/drive/My Drive/사과예측(10년_부산_후지)/Data/가격정보_후지_상품(1).csv',encoding='utf-8',sep=',')\n",
        "A_price_m=pd.read_csv('/content/drive/My Drive/사과예측(10년_부산_후지)/Data/가격정보_후지_중품(1).csv',encoding='utf-8',sep=',')"
      ],
      "execution_count": 0,
      "outputs": []
    },
    {
      "cell_type": "code",
      "metadata": {
        "id": "vOATkp9wmND8",
        "colab_type": "code",
        "colab": {}
      },
      "source": [
        "weather=tem.merge(wet,how='inner',on='날짜')# 기온과 강수량 데이터 합치기"
      ],
      "execution_count": 0,
      "outputs": []
    },
    {
      "cell_type": "code",
      "metadata": {
        "id": "ls_ZEK8NmO_e",
        "colab_type": "code",
        "colab": {
          "base_uri": "https://localhost:8080/",
          "height": 276
        },
        "outputId": "d8a7ea07-bb8b-4c87-f423-2a80cc754b3a"
      },
      "source": [
        "A_price_h.head()"
      ],
      "execution_count": 41,
      "outputs": [
        {
          "output_type": "execute_result",
          "data": {
            "text/html": [
              "<div>\n",
              "<style scoped>\n",
              "    .dataframe tbody tr th:only-of-type {\n",
              "        vertical-align: middle;\n",
              "    }\n",
              "\n",
              "    .dataframe tbody tr th {\n",
              "        vertical-align: top;\n",
              "    }\n",
              "\n",
              "    .dataframe thead th {\n",
              "        text-align: right;\n",
              "    }\n",
              "</style>\n",
              "<table border=\"1\" class=\"dataframe\">\n",
              "  <thead>\n",
              "    <tr style=\"text-align: right;\">\n",
              "      <th></th>\n",
              "      <th>구분</th>\n",
              "      <th>01월 04일</th>\n",
              "      <th>01월 05일</th>\n",
              "      <th>01월 06일</th>\n",
              "      <th>01월 07일</th>\n",
              "      <th>01월 08일</th>\n",
              "      <th>01월 11일</th>\n",
              "      <th>01월 12일</th>\n",
              "      <th>01월 13일</th>\n",
              "      <th>01월 14일</th>\n",
              "      <th>01월 15일</th>\n",
              "      <th>01월 18일</th>\n",
              "      <th>01월 19일</th>\n",
              "      <th>01월 20일</th>\n",
              "      <th>01월 21일</th>\n",
              "      <th>01월 22일</th>\n",
              "      <th>01월 25일</th>\n",
              "      <th>01월 26일</th>\n",
              "      <th>01월 27일</th>\n",
              "      <th>01월 28일</th>\n",
              "      <th>01월 29일</th>\n",
              "      <th>02월 01일</th>\n",
              "      <th>02월 02일</th>\n",
              "      <th>02월 03일</th>\n",
              "      <th>02월 04일</th>\n",
              "      <th>02월 05일</th>\n",
              "      <th>02월 08일</th>\n",
              "      <th>02월 09일</th>\n",
              "      <th>02월 10일</th>\n",
              "      <th>02월 11일</th>\n",
              "      <th>02월 12일</th>\n",
              "      <th>02월 16일</th>\n",
              "      <th>02월 17일</th>\n",
              "      <th>02월 18일</th>\n",
              "      <th>02월 19일</th>\n",
              "      <th>02월 22일</th>\n",
              "      <th>02월 23일</th>\n",
              "      <th>02월 24일</th>\n",
              "      <th>02월 25일</th>\n",
              "      <th>02월 26일</th>\n",
              "      <th>...</th>\n",
              "      <th>11월 04일.6</th>\n",
              "      <th>11월 05일.5</th>\n",
              "      <th>11월 06일.6</th>\n",
              "      <th>11월 07일.7</th>\n",
              "      <th>11월 08일.7</th>\n",
              "      <th>11월 11일.6</th>\n",
              "      <th>11월 12일.6</th>\n",
              "      <th>11월 13일.6</th>\n",
              "      <th>11월 14일.7</th>\n",
              "      <th>11월 15일.7</th>\n",
              "      <th>11월 18일.6</th>\n",
              "      <th>11월 19일.6</th>\n",
              "      <th>11월 20일.6</th>\n",
              "      <th>11월 21일.7</th>\n",
              "      <th>11월 22일.7</th>\n",
              "      <th>11월 25일.6</th>\n",
              "      <th>11월 26일.6</th>\n",
              "      <th>11월 27일.6</th>\n",
              "      <th>11월 28일.7</th>\n",
              "      <th>11월 29일.7</th>\n",
              "      <th>12월 02일.5</th>\n",
              "      <th>12월 03일.6</th>\n",
              "      <th>12월 04일.5</th>\n",
              "      <th>12월 05일.7</th>\n",
              "      <th>12월 09일.6</th>\n",
              "      <th>12월 10일.6</th>\n",
              "      <th>12월 11일.6</th>\n",
              "      <th>12월 12일.7</th>\n",
              "      <th>12월 13일.7</th>\n",
              "      <th>12월 16일.6</th>\n",
              "      <th>12월 17일.6</th>\n",
              "      <th>12월 18일.6</th>\n",
              "      <th>12월 19일.6</th>\n",
              "      <th>12월 20일.7</th>\n",
              "      <th>12월 23일.6</th>\n",
              "      <th>12월 24일.6</th>\n",
              "      <th>12월 26일.7</th>\n",
              "      <th>12월 27일.7</th>\n",
              "      <th>12월 30일.6</th>\n",
              "      <th>12월 31일.6</th>\n",
              "    </tr>\n",
              "  </thead>\n",
              "  <tbody>\n",
              "    <tr>\n",
              "      <th>0</th>\n",
              "      <td>평균</td>\n",
              "      <td>31,333</td>\n",
              "      <td>31,333</td>\n",
              "      <td>31,333</td>\n",
              "      <td>31,333</td>\n",
              "      <td>31,333</td>\n",
              "      <td>31,333</td>\n",
              "      <td>31,333</td>\n",
              "      <td>32,667</td>\n",
              "      <td>32,667</td>\n",
              "      <td>32,667</td>\n",
              "      <td>32,667</td>\n",
              "      <td>32,667</td>\n",
              "      <td>32,667</td>\n",
              "      <td>32,667</td>\n",
              "      <td>32,667</td>\n",
              "      <td>32,667</td>\n",
              "      <td>34,667</td>\n",
              "      <td>34,667</td>\n",
              "      <td>34,667</td>\n",
              "      <td>34,667</td>\n",
              "      <td>36,667</td>\n",
              "      <td>36,667</td>\n",
              "      <td>36,667</td>\n",
              "      <td>38,667</td>\n",
              "      <td>40,000</td>\n",
              "      <td>40,000</td>\n",
              "      <td>40,000</td>\n",
              "      <td>38,667</td>\n",
              "      <td>38,667</td>\n",
              "      <td>38,667</td>\n",
              "      <td>38,667</td>\n",
              "      <td>38,667</td>\n",
              "      <td>38,667</td>\n",
              "      <td>38,667</td>\n",
              "      <td>38,667</td>\n",
              "      <td>38,667</td>\n",
              "      <td>38,667</td>\n",
              "      <td>38,667</td>\n",
              "      <td>38,667</td>\n",
              "      <td>...</td>\n",
              "      <td>33,000</td>\n",
              "      <td>33,000</td>\n",
              "      <td>33,000</td>\n",
              "      <td>33,000</td>\n",
              "      <td>33,000</td>\n",
              "      <td>31,000</td>\n",
              "      <td>31,000</td>\n",
              "      <td>31,000</td>\n",
              "      <td>31,000</td>\n",
              "      <td>33,000</td>\n",
              "      <td>38,000</td>\n",
              "      <td>36,000</td>\n",
              "      <td>40,000</td>\n",
              "      <td>40,000</td>\n",
              "      <td>40,000</td>\n",
              "      <td>40,000</td>\n",
              "      <td>34,000</td>\n",
              "      <td>32,000</td>\n",
              "      <td>31,000</td>\n",
              "      <td>31,000</td>\n",
              "      <td>31,000</td>\n",
              "      <td>32,000</td>\n",
              "      <td>34,000</td>\n",
              "      <td>34,000</td>\n",
              "      <td>35,000</td>\n",
              "      <td>36,000</td>\n",
              "      <td>36,000</td>\n",
              "      <td>36,000</td>\n",
              "      <td>39,000</td>\n",
              "      <td>39,000</td>\n",
              "      <td>39,000</td>\n",
              "      <td>39,000</td>\n",
              "      <td>38,000</td>\n",
              "      <td>38,000</td>\n",
              "      <td>38,000</td>\n",
              "      <td>38,000</td>\n",
              "      <td>38,000</td>\n",
              "      <td>38,000</td>\n",
              "      <td>38,000</td>\n",
              "      <td>36,000</td>\n",
              "    </tr>\n",
              "    <tr>\n",
              "      <th>1</th>\n",
              "      <td>평년</td>\n",
              "      <td>44,381</td>\n",
              "      <td>44,433</td>\n",
              "      <td>44,471</td>\n",
              "      <td>44,500</td>\n",
              "      <td>44,510</td>\n",
              "      <td>44,548</td>\n",
              "      <td>44,548</td>\n",
              "      <td>44,548</td>\n",
              "      <td>44,548</td>\n",
              "      <td>44,548</td>\n",
              "      <td>44,548</td>\n",
              "      <td>44,548</td>\n",
              "      <td>44,548</td>\n",
              "      <td>44,576</td>\n",
              "      <td>44,624</td>\n",
              "      <td>44,729</td>\n",
              "      <td>44,817</td>\n",
              "      <td>44,845</td>\n",
              "      <td>44,910</td>\n",
              "      <td>45,033</td>\n",
              "      <td>45,186</td>\n",
              "      <td>45,298</td>\n",
              "      <td>45,369</td>\n",
              "      <td>45,462</td>\n",
              "      <td>45,557</td>\n",
              "      <td>45,624</td>\n",
              "      <td>45,700</td>\n",
              "      <td>45,748</td>\n",
              "      <td>45,786</td>\n",
              "      <td>45,786</td>\n",
              "      <td>45,786</td>\n",
              "      <td>45,814</td>\n",
              "      <td>45,843</td>\n",
              "      <td>45,871</td>\n",
              "      <td>45,893</td>\n",
              "      <td>45,912</td>\n",
              "      <td>45,938</td>\n",
              "      <td>45,986</td>\n",
              "      <td>46,005</td>\n",
              "      <td>...</td>\n",
              "      <td>NaN</td>\n",
              "      <td>NaN</td>\n",
              "      <td>NaN</td>\n",
              "      <td>NaN</td>\n",
              "      <td>NaN</td>\n",
              "      <td>NaN</td>\n",
              "      <td>NaN</td>\n",
              "      <td>NaN</td>\n",
              "      <td>NaN</td>\n",
              "      <td>NaN</td>\n",
              "      <td>NaN</td>\n",
              "      <td>NaN</td>\n",
              "      <td>NaN</td>\n",
              "      <td>NaN</td>\n",
              "      <td>NaN</td>\n",
              "      <td>NaN</td>\n",
              "      <td>NaN</td>\n",
              "      <td>NaN</td>\n",
              "      <td>NaN</td>\n",
              "      <td>NaN</td>\n",
              "      <td>NaN</td>\n",
              "      <td>NaN</td>\n",
              "      <td>NaN</td>\n",
              "      <td>NaN</td>\n",
              "      <td>NaN</td>\n",
              "      <td>NaN</td>\n",
              "      <td>NaN</td>\n",
              "      <td>NaN</td>\n",
              "      <td>NaN</td>\n",
              "      <td>NaN</td>\n",
              "      <td>NaN</td>\n",
              "      <td>NaN</td>\n",
              "      <td>NaN</td>\n",
              "      <td>NaN</td>\n",
              "      <td>NaN</td>\n",
              "      <td>NaN</td>\n",
              "      <td>NaN</td>\n",
              "      <td>NaN</td>\n",
              "      <td>NaN</td>\n",
              "      <td>NaN</td>\n",
              "    </tr>\n",
              "    <tr>\n",
              "      <th>2</th>\n",
              "      <td>부산</td>\n",
              "      <td>31,333</td>\n",
              "      <td>31,333</td>\n",
              "      <td>31,333</td>\n",
              "      <td>31,333</td>\n",
              "      <td>31,333</td>\n",
              "      <td>31,333</td>\n",
              "      <td>31,333</td>\n",
              "      <td>32,667</td>\n",
              "      <td>32,667</td>\n",
              "      <td>32,667</td>\n",
              "      <td>32,667</td>\n",
              "      <td>32,667</td>\n",
              "      <td>32,667</td>\n",
              "      <td>32,667</td>\n",
              "      <td>32,667</td>\n",
              "      <td>32,667</td>\n",
              "      <td>34,667</td>\n",
              "      <td>34,667</td>\n",
              "      <td>34,667</td>\n",
              "      <td>34,667</td>\n",
              "      <td>36,667</td>\n",
              "      <td>36,667</td>\n",
              "      <td>36,667</td>\n",
              "      <td>38,667</td>\n",
              "      <td>40,000</td>\n",
              "      <td>40,000</td>\n",
              "      <td>40,000</td>\n",
              "      <td>38,667</td>\n",
              "      <td>38,667</td>\n",
              "      <td>38,667</td>\n",
              "      <td>38,667</td>\n",
              "      <td>38,667</td>\n",
              "      <td>38,667</td>\n",
              "      <td>38,667</td>\n",
              "      <td>38,667</td>\n",
              "      <td>38,667</td>\n",
              "      <td>38,667</td>\n",
              "      <td>38,667</td>\n",
              "      <td>38,667</td>\n",
              "      <td>...</td>\n",
              "      <td>33,000</td>\n",
              "      <td>33,000</td>\n",
              "      <td>33,000</td>\n",
              "      <td>33,000</td>\n",
              "      <td>33,000</td>\n",
              "      <td>31,000</td>\n",
              "      <td>31,000</td>\n",
              "      <td>31,000</td>\n",
              "      <td>31,000</td>\n",
              "      <td>33,000</td>\n",
              "      <td>38,000</td>\n",
              "      <td>36,000</td>\n",
              "      <td>40,000</td>\n",
              "      <td>40,000</td>\n",
              "      <td>40,000</td>\n",
              "      <td>40,000</td>\n",
              "      <td>34,000</td>\n",
              "      <td>32,000</td>\n",
              "      <td>31,000</td>\n",
              "      <td>31,000</td>\n",
              "      <td>31,000</td>\n",
              "      <td>32,000</td>\n",
              "      <td>34,000</td>\n",
              "      <td>34,000</td>\n",
              "      <td>35,000</td>\n",
              "      <td>36,000</td>\n",
              "      <td>36,000</td>\n",
              "      <td>36,000</td>\n",
              "      <td>39,000</td>\n",
              "      <td>39,000</td>\n",
              "      <td>39,000</td>\n",
              "      <td>39,000</td>\n",
              "      <td>38,000</td>\n",
              "      <td>38,000</td>\n",
              "      <td>38,000</td>\n",
              "      <td>38,000</td>\n",
              "      <td>38,000</td>\n",
              "      <td>38,000</td>\n",
              "      <td>38,000</td>\n",
              "      <td>36,000</td>\n",
              "    </tr>\n",
              "  </tbody>\n",
              "</table>\n",
              "<p>3 rows × 2122 columns</p>\n",
              "</div>"
            ],
            "text/plain": [
              "   구분 01월 04일 01월 05일 01월 06일  ... 12월 26일.7 12월 27일.7 12월 30일.6 12월 31일.6\n",
              "0  평균  31,333  31,333  31,333  ...    38,000    38,000    38,000    36,000\n",
              "1  평년  44,381  44,433  44,471  ...       NaN       NaN       NaN       NaN\n",
              "2  부산  31,333  31,333  31,333  ...    38,000    38,000    38,000    36,000\n",
              "\n",
              "[3 rows x 2122 columns]"
            ]
          },
          "metadata": {
            "tags": []
          },
          "execution_count": 41
        }
      ]
    },
    {
      "cell_type": "code",
      "metadata": {
        "id": "_cQrK0KZmQg1",
        "colab_type": "code",
        "colab": {}
      },
      "source": [
        "weather['강수량(mm)']=weather['강수량(mm)'].fillna(0)#강수량 nan데이터 0으로 채우기"
      ],
      "execution_count": 0,
      "outputs": []
    },
    {
      "cell_type": "code",
      "metadata": {
        "id": "pDcjA_chsZF2",
        "colab_type": "code",
        "colab": {
          "base_uri": "https://localhost:8080/",
          "height": 161
        },
        "outputId": "1fd15593-c84a-45f1-f3ab-ff64c9e7e897"
      },
      "source": [
        "weather.isnull().sum() #결측치 확인"
      ],
      "execution_count": 53,
      "outputs": [
        {
          "output_type": "execute_result",
          "data": {
            "text/plain": [
              "날짜         0\n",
              "지점_x       0\n",
              "평균기온(℃)    0\n",
              "최저기온(℃)    0\n",
              "최고기온(℃)    0\n",
              "지점_y       0\n",
              "강수량(mm)    0\n",
              "dtype: int64"
            ]
          },
          "metadata": {
            "tags": []
          },
          "execution_count": 53
        }
      ]
    },
    {
      "cell_type": "code",
      "metadata": {
        "id": "KHadW73Itf7k",
        "colab_type": "code",
        "colab": {
          "base_uri": "https://localhost:8080/",
          "height": 35
        },
        "outputId": "60f398ff-e2f2-4e2c-b728-e24b7e16ef10"
      },
      "source": [
        "weather.shape"
      ],
      "execution_count": 56,
      "outputs": [
        {
          "output_type": "execute_result",
          "data": {
            "text/plain": [
              "(3653, 7)"
            ]
          },
          "metadata": {
            "tags": []
          },
          "execution_count": 56
        }
      ]
    },
    {
      "cell_type": "code",
      "metadata": {
        "id": "L4E_8HnCtmbW",
        "colab_type": "code",
        "colab": {
          "base_uri": "https://localhost:8080/",
          "height": 269
        },
        "outputId": "559cc30d-a4ca-4599-88c9-997cf24a191f"
      },
      "source": [
        "weather.info() # 날짜 to datetime gogo"
      ],
      "execution_count": 57,
      "outputs": [
        {
          "output_type": "stream",
          "text": [
            "<class 'pandas.core.frame.DataFrame'>\n",
            "Int64Index: 3653 entries, 0 to 3652\n",
            "Data columns (total 7 columns):\n",
            " #   Column   Non-Null Count  Dtype  \n",
            "---  ------   --------------  -----  \n",
            " 0   날짜       3653 non-null   object \n",
            " 1   지점_x     3653 non-null   int64  \n",
            " 2   평균기온(℃)  3653 non-null   float64\n",
            " 3   최저기온(℃)  3653 non-null   float64\n",
            " 4   최고기온(℃)  3653 non-null   float64\n",
            " 5   지점_y     3653 non-null   int64  \n",
            " 6   강수량(mm)  3653 non-null   float64\n",
            "dtypes: float64(4), int64(2), object(1)\n",
            "memory usage: 228.3+ KB\n"
          ],
          "name": "stdout"
        }
      ]
    },
    {
      "cell_type": "code",
      "metadata": {
        "id": "H7Ag1oPHtsLm",
        "colab_type": "code",
        "colab": {
          "base_uri": "https://localhost:8080/",
          "height": 204
        },
        "outputId": "76da3118-aabd-4463-be3e-bfd6f485d8a2"
      },
      "source": [
        "weather.head()"
      ],
      "execution_count": 59,
      "outputs": [
        {
          "output_type": "execute_result",
          "data": {
            "text/html": [
              "<div>\n",
              "<style scoped>\n",
              "    .dataframe tbody tr th:only-of-type {\n",
              "        vertical-align: middle;\n",
              "    }\n",
              "\n",
              "    .dataframe tbody tr th {\n",
              "        vertical-align: top;\n",
              "    }\n",
              "\n",
              "    .dataframe thead th {\n",
              "        text-align: right;\n",
              "    }\n",
              "</style>\n",
              "<table border=\"1\" class=\"dataframe\">\n",
              "  <thead>\n",
              "    <tr style=\"text-align: right;\">\n",
              "      <th></th>\n",
              "      <th>날짜</th>\n",
              "      <th>지점_x</th>\n",
              "      <th>평균기온(℃)</th>\n",
              "      <th>최저기온(℃)</th>\n",
              "      <th>최고기온(℃)</th>\n",
              "      <th>지점_y</th>\n",
              "      <th>강수량(mm)</th>\n",
              "    </tr>\n",
              "  </thead>\n",
              "  <tbody>\n",
              "    <tr>\n",
              "      <th>0</th>\n",
              "      <td>2010-01-01</td>\n",
              "      <td>159</td>\n",
              "      <td>-1.6</td>\n",
              "      <td>-6.7</td>\n",
              "      <td>4.3</td>\n",
              "      <td>159</td>\n",
              "      <td>0.0</td>\n",
              "    </tr>\n",
              "    <tr>\n",
              "      <th>1</th>\n",
              "      <td>2010-01-02</td>\n",
              "      <td>159</td>\n",
              "      <td>4.7</td>\n",
              "      <td>-0.9</td>\n",
              "      <td>11.3</td>\n",
              "      <td>159</td>\n",
              "      <td>0.0</td>\n",
              "    </tr>\n",
              "    <tr>\n",
              "      <th>2</th>\n",
              "      <td>2010-01-03</td>\n",
              "      <td>159</td>\n",
              "      <td>1.7</td>\n",
              "      <td>-2.0</td>\n",
              "      <td>5.9</td>\n",
              "      <td>159</td>\n",
              "      <td>0.0</td>\n",
              "    </tr>\n",
              "    <tr>\n",
              "      <th>3</th>\n",
              "      <td>2010-01-04</td>\n",
              "      <td>159</td>\n",
              "      <td>3.9</td>\n",
              "      <td>0.4</td>\n",
              "      <td>9.4</td>\n",
              "      <td>159</td>\n",
              "      <td>3.5</td>\n",
              "    </tr>\n",
              "    <tr>\n",
              "      <th>4</th>\n",
              "      <td>2010-01-05</td>\n",
              "      <td>159</td>\n",
              "      <td>-1.2</td>\n",
              "      <td>-4.4</td>\n",
              "      <td>2.6</td>\n",
              "      <td>159</td>\n",
              "      <td>0.0</td>\n",
              "    </tr>\n",
              "  </tbody>\n",
              "</table>\n",
              "</div>"
            ],
            "text/plain": [
              "           날짜  지점_x  평균기온(℃)  최저기온(℃)  최고기온(℃)  지점_y  강수량(mm)\n",
              "0  2010-01-01   159     -1.6     -6.7      4.3   159      0.0\n",
              "1  2010-01-02   159      4.7     -0.9     11.3   159      0.0\n",
              "2  2010-01-03   159      1.7     -2.0      5.9   159      0.0\n",
              "3  2010-01-04   159      3.9      0.4      9.4   159      3.5\n",
              "4  2010-01-05   159     -1.2     -4.4      2.6   159      0.0"
            ]
          },
          "metadata": {
            "tags": []
          },
          "execution_count": 59
        }
      ]
    },
    {
      "cell_type": "code",
      "metadata": {
        "id": "dCIyMXojt0zs",
        "colab_type": "code",
        "colab": {}
      },
      "source": [
        "weather['날짜']=pd.to_datetime(weather['날짜'],format='%Y-%m-%d') #대문자 y조심"
      ],
      "execution_count": 0,
      "outputs": []
    },
    {
      "cell_type": "code",
      "metadata": {
        "id": "dNWQrJOkt_rr",
        "colab_type": "code",
        "colab": {
          "base_uri": "https://localhost:8080/",
          "height": 269
        },
        "outputId": "ec3797c4-c960-42c1-b0f8-f4510bb9a0db"
      },
      "source": [
        "weather.info() #날씨 칼럼 완성"
      ],
      "execution_count": 66,
      "outputs": [
        {
          "output_type": "stream",
          "text": [
            "<class 'pandas.core.frame.DataFrame'>\n",
            "Int64Index: 3653 entries, 0 to 3652\n",
            "Data columns (total 7 columns):\n",
            " #   Column   Non-Null Count  Dtype         \n",
            "---  ------   --------------  -----         \n",
            " 0   날짜       3653 non-null   datetime64[ns]\n",
            " 1   지점_x     3653 non-null   int64         \n",
            " 2   평균기온(℃)  3653 non-null   float64       \n",
            " 3   최저기온(℃)  3653 non-null   float64       \n",
            " 4   최고기온(℃)  3653 non-null   float64       \n",
            " 5   지점_y     3653 non-null   int64         \n",
            " 6   강수량(mm)  3653 non-null   float64       \n",
            "dtypes: datetime64[ns](1), float64(4), int64(2)\n",
            "memory usage: 228.3 KB\n"
          ],
          "name": "stdout"
        }
      ]
    },
    {
      "cell_type": "code",
      "metadata": {
        "id": "hquWLF6jubFA",
        "colab_type": "code",
        "colab": {
          "base_uri": "https://localhost:8080/",
          "height": 276
        },
        "outputId": "27d7b1b2-2b1f-47a8-df33-15c1b6c3d6a9"
      },
      "source": [
        "# 가격 돌리기\n",
        "A_price_h.head()"
      ],
      "execution_count": 67,
      "outputs": [
        {
          "output_type": "execute_result",
          "data": {
            "text/html": [
              "<div>\n",
              "<style scoped>\n",
              "    .dataframe tbody tr th:only-of-type {\n",
              "        vertical-align: middle;\n",
              "    }\n",
              "\n",
              "    .dataframe tbody tr th {\n",
              "        vertical-align: top;\n",
              "    }\n",
              "\n",
              "    .dataframe thead th {\n",
              "        text-align: right;\n",
              "    }\n",
              "</style>\n",
              "<table border=\"1\" class=\"dataframe\">\n",
              "  <thead>\n",
              "    <tr style=\"text-align: right;\">\n",
              "      <th></th>\n",
              "      <th>구분</th>\n",
              "      <th>01월 04일</th>\n",
              "      <th>01월 05일</th>\n",
              "      <th>01월 06일</th>\n",
              "      <th>01월 07일</th>\n",
              "      <th>01월 08일</th>\n",
              "      <th>01월 11일</th>\n",
              "      <th>01월 12일</th>\n",
              "      <th>01월 13일</th>\n",
              "      <th>01월 14일</th>\n",
              "      <th>01월 15일</th>\n",
              "      <th>01월 18일</th>\n",
              "      <th>01월 19일</th>\n",
              "      <th>01월 20일</th>\n",
              "      <th>01월 21일</th>\n",
              "      <th>01월 22일</th>\n",
              "      <th>01월 25일</th>\n",
              "      <th>01월 26일</th>\n",
              "      <th>01월 27일</th>\n",
              "      <th>01월 28일</th>\n",
              "      <th>01월 29일</th>\n",
              "      <th>02월 01일</th>\n",
              "      <th>02월 02일</th>\n",
              "      <th>02월 03일</th>\n",
              "      <th>02월 04일</th>\n",
              "      <th>02월 05일</th>\n",
              "      <th>02월 08일</th>\n",
              "      <th>02월 09일</th>\n",
              "      <th>02월 10일</th>\n",
              "      <th>02월 11일</th>\n",
              "      <th>02월 12일</th>\n",
              "      <th>02월 16일</th>\n",
              "      <th>02월 17일</th>\n",
              "      <th>02월 18일</th>\n",
              "      <th>02월 19일</th>\n",
              "      <th>02월 22일</th>\n",
              "      <th>02월 23일</th>\n",
              "      <th>02월 24일</th>\n",
              "      <th>02월 25일</th>\n",
              "      <th>02월 26일</th>\n",
              "      <th>...</th>\n",
              "      <th>11월 04일.6</th>\n",
              "      <th>11월 05일.5</th>\n",
              "      <th>11월 06일.6</th>\n",
              "      <th>11월 07일.7</th>\n",
              "      <th>11월 08일.7</th>\n",
              "      <th>11월 11일.6</th>\n",
              "      <th>11월 12일.6</th>\n",
              "      <th>11월 13일.6</th>\n",
              "      <th>11월 14일.7</th>\n",
              "      <th>11월 15일.7</th>\n",
              "      <th>11월 18일.6</th>\n",
              "      <th>11월 19일.6</th>\n",
              "      <th>11월 20일.6</th>\n",
              "      <th>11월 21일.7</th>\n",
              "      <th>11월 22일.7</th>\n",
              "      <th>11월 25일.6</th>\n",
              "      <th>11월 26일.6</th>\n",
              "      <th>11월 27일.6</th>\n",
              "      <th>11월 28일.7</th>\n",
              "      <th>11월 29일.7</th>\n",
              "      <th>12월 02일.5</th>\n",
              "      <th>12월 03일.6</th>\n",
              "      <th>12월 04일.5</th>\n",
              "      <th>12월 05일.7</th>\n",
              "      <th>12월 09일.6</th>\n",
              "      <th>12월 10일.6</th>\n",
              "      <th>12월 11일.6</th>\n",
              "      <th>12월 12일.7</th>\n",
              "      <th>12월 13일.7</th>\n",
              "      <th>12월 16일.6</th>\n",
              "      <th>12월 17일.6</th>\n",
              "      <th>12월 18일.6</th>\n",
              "      <th>12월 19일.6</th>\n",
              "      <th>12월 20일.7</th>\n",
              "      <th>12월 23일.6</th>\n",
              "      <th>12월 24일.6</th>\n",
              "      <th>12월 26일.7</th>\n",
              "      <th>12월 27일.7</th>\n",
              "      <th>12월 30일.6</th>\n",
              "      <th>12월 31일.6</th>\n",
              "    </tr>\n",
              "  </thead>\n",
              "  <tbody>\n",
              "    <tr>\n",
              "      <th>0</th>\n",
              "      <td>평균</td>\n",
              "      <td>31,333</td>\n",
              "      <td>31,333</td>\n",
              "      <td>31,333</td>\n",
              "      <td>31,333</td>\n",
              "      <td>31,333</td>\n",
              "      <td>31,333</td>\n",
              "      <td>31,333</td>\n",
              "      <td>32,667</td>\n",
              "      <td>32,667</td>\n",
              "      <td>32,667</td>\n",
              "      <td>32,667</td>\n",
              "      <td>32,667</td>\n",
              "      <td>32,667</td>\n",
              "      <td>32,667</td>\n",
              "      <td>32,667</td>\n",
              "      <td>32,667</td>\n",
              "      <td>34,667</td>\n",
              "      <td>34,667</td>\n",
              "      <td>34,667</td>\n",
              "      <td>34,667</td>\n",
              "      <td>36,667</td>\n",
              "      <td>36,667</td>\n",
              "      <td>36,667</td>\n",
              "      <td>38,667</td>\n",
              "      <td>40,000</td>\n",
              "      <td>40,000</td>\n",
              "      <td>40,000</td>\n",
              "      <td>38,667</td>\n",
              "      <td>38,667</td>\n",
              "      <td>38,667</td>\n",
              "      <td>38,667</td>\n",
              "      <td>38,667</td>\n",
              "      <td>38,667</td>\n",
              "      <td>38,667</td>\n",
              "      <td>38,667</td>\n",
              "      <td>38,667</td>\n",
              "      <td>38,667</td>\n",
              "      <td>38,667</td>\n",
              "      <td>38,667</td>\n",
              "      <td>...</td>\n",
              "      <td>33,000</td>\n",
              "      <td>33,000</td>\n",
              "      <td>33,000</td>\n",
              "      <td>33,000</td>\n",
              "      <td>33,000</td>\n",
              "      <td>31,000</td>\n",
              "      <td>31,000</td>\n",
              "      <td>31,000</td>\n",
              "      <td>31,000</td>\n",
              "      <td>33,000</td>\n",
              "      <td>38,000</td>\n",
              "      <td>36,000</td>\n",
              "      <td>40,000</td>\n",
              "      <td>40,000</td>\n",
              "      <td>40,000</td>\n",
              "      <td>40,000</td>\n",
              "      <td>34,000</td>\n",
              "      <td>32,000</td>\n",
              "      <td>31,000</td>\n",
              "      <td>31,000</td>\n",
              "      <td>31,000</td>\n",
              "      <td>32,000</td>\n",
              "      <td>34,000</td>\n",
              "      <td>34,000</td>\n",
              "      <td>35,000</td>\n",
              "      <td>36,000</td>\n",
              "      <td>36,000</td>\n",
              "      <td>36,000</td>\n",
              "      <td>39,000</td>\n",
              "      <td>39,000</td>\n",
              "      <td>39,000</td>\n",
              "      <td>39,000</td>\n",
              "      <td>38,000</td>\n",
              "      <td>38,000</td>\n",
              "      <td>38,000</td>\n",
              "      <td>38,000</td>\n",
              "      <td>38,000</td>\n",
              "      <td>38,000</td>\n",
              "      <td>38,000</td>\n",
              "      <td>36,000</td>\n",
              "    </tr>\n",
              "    <tr>\n",
              "      <th>1</th>\n",
              "      <td>평년</td>\n",
              "      <td>44,381</td>\n",
              "      <td>44,433</td>\n",
              "      <td>44,471</td>\n",
              "      <td>44,500</td>\n",
              "      <td>44,510</td>\n",
              "      <td>44,548</td>\n",
              "      <td>44,548</td>\n",
              "      <td>44,548</td>\n",
              "      <td>44,548</td>\n",
              "      <td>44,548</td>\n",
              "      <td>44,548</td>\n",
              "      <td>44,548</td>\n",
              "      <td>44,548</td>\n",
              "      <td>44,576</td>\n",
              "      <td>44,624</td>\n",
              "      <td>44,729</td>\n",
              "      <td>44,817</td>\n",
              "      <td>44,845</td>\n",
              "      <td>44,910</td>\n",
              "      <td>45,033</td>\n",
              "      <td>45,186</td>\n",
              "      <td>45,298</td>\n",
              "      <td>45,369</td>\n",
              "      <td>45,462</td>\n",
              "      <td>45,557</td>\n",
              "      <td>45,624</td>\n",
              "      <td>45,700</td>\n",
              "      <td>45,748</td>\n",
              "      <td>45,786</td>\n",
              "      <td>45,786</td>\n",
              "      <td>45,786</td>\n",
              "      <td>45,814</td>\n",
              "      <td>45,843</td>\n",
              "      <td>45,871</td>\n",
              "      <td>45,893</td>\n",
              "      <td>45,912</td>\n",
              "      <td>45,938</td>\n",
              "      <td>45,986</td>\n",
              "      <td>46,005</td>\n",
              "      <td>...</td>\n",
              "      <td>NaN</td>\n",
              "      <td>NaN</td>\n",
              "      <td>NaN</td>\n",
              "      <td>NaN</td>\n",
              "      <td>NaN</td>\n",
              "      <td>NaN</td>\n",
              "      <td>NaN</td>\n",
              "      <td>NaN</td>\n",
              "      <td>NaN</td>\n",
              "      <td>NaN</td>\n",
              "      <td>NaN</td>\n",
              "      <td>NaN</td>\n",
              "      <td>NaN</td>\n",
              "      <td>NaN</td>\n",
              "      <td>NaN</td>\n",
              "      <td>NaN</td>\n",
              "      <td>NaN</td>\n",
              "      <td>NaN</td>\n",
              "      <td>NaN</td>\n",
              "      <td>NaN</td>\n",
              "      <td>NaN</td>\n",
              "      <td>NaN</td>\n",
              "      <td>NaN</td>\n",
              "      <td>NaN</td>\n",
              "      <td>NaN</td>\n",
              "      <td>NaN</td>\n",
              "      <td>NaN</td>\n",
              "      <td>NaN</td>\n",
              "      <td>NaN</td>\n",
              "      <td>NaN</td>\n",
              "      <td>NaN</td>\n",
              "      <td>NaN</td>\n",
              "      <td>NaN</td>\n",
              "      <td>NaN</td>\n",
              "      <td>NaN</td>\n",
              "      <td>NaN</td>\n",
              "      <td>NaN</td>\n",
              "      <td>NaN</td>\n",
              "      <td>NaN</td>\n",
              "      <td>NaN</td>\n",
              "    </tr>\n",
              "    <tr>\n",
              "      <th>2</th>\n",
              "      <td>부산</td>\n",
              "      <td>31,333</td>\n",
              "      <td>31,333</td>\n",
              "      <td>31,333</td>\n",
              "      <td>31,333</td>\n",
              "      <td>31,333</td>\n",
              "      <td>31,333</td>\n",
              "      <td>31,333</td>\n",
              "      <td>32,667</td>\n",
              "      <td>32,667</td>\n",
              "      <td>32,667</td>\n",
              "      <td>32,667</td>\n",
              "      <td>32,667</td>\n",
              "      <td>32,667</td>\n",
              "      <td>32,667</td>\n",
              "      <td>32,667</td>\n",
              "      <td>32,667</td>\n",
              "      <td>34,667</td>\n",
              "      <td>34,667</td>\n",
              "      <td>34,667</td>\n",
              "      <td>34,667</td>\n",
              "      <td>36,667</td>\n",
              "      <td>36,667</td>\n",
              "      <td>36,667</td>\n",
              "      <td>38,667</td>\n",
              "      <td>40,000</td>\n",
              "      <td>40,000</td>\n",
              "      <td>40,000</td>\n",
              "      <td>38,667</td>\n",
              "      <td>38,667</td>\n",
              "      <td>38,667</td>\n",
              "      <td>38,667</td>\n",
              "      <td>38,667</td>\n",
              "      <td>38,667</td>\n",
              "      <td>38,667</td>\n",
              "      <td>38,667</td>\n",
              "      <td>38,667</td>\n",
              "      <td>38,667</td>\n",
              "      <td>38,667</td>\n",
              "      <td>38,667</td>\n",
              "      <td>...</td>\n",
              "      <td>33,000</td>\n",
              "      <td>33,000</td>\n",
              "      <td>33,000</td>\n",
              "      <td>33,000</td>\n",
              "      <td>33,000</td>\n",
              "      <td>31,000</td>\n",
              "      <td>31,000</td>\n",
              "      <td>31,000</td>\n",
              "      <td>31,000</td>\n",
              "      <td>33,000</td>\n",
              "      <td>38,000</td>\n",
              "      <td>36,000</td>\n",
              "      <td>40,000</td>\n",
              "      <td>40,000</td>\n",
              "      <td>40,000</td>\n",
              "      <td>40,000</td>\n",
              "      <td>34,000</td>\n",
              "      <td>32,000</td>\n",
              "      <td>31,000</td>\n",
              "      <td>31,000</td>\n",
              "      <td>31,000</td>\n",
              "      <td>32,000</td>\n",
              "      <td>34,000</td>\n",
              "      <td>34,000</td>\n",
              "      <td>35,000</td>\n",
              "      <td>36,000</td>\n",
              "      <td>36,000</td>\n",
              "      <td>36,000</td>\n",
              "      <td>39,000</td>\n",
              "      <td>39,000</td>\n",
              "      <td>39,000</td>\n",
              "      <td>39,000</td>\n",
              "      <td>38,000</td>\n",
              "      <td>38,000</td>\n",
              "      <td>38,000</td>\n",
              "      <td>38,000</td>\n",
              "      <td>38,000</td>\n",
              "      <td>38,000</td>\n",
              "      <td>38,000</td>\n",
              "      <td>36,000</td>\n",
              "    </tr>\n",
              "  </tbody>\n",
              "</table>\n",
              "<p>3 rows × 2122 columns</p>\n",
              "</div>"
            ],
            "text/plain": [
              "   구분 01월 04일 01월 05일 01월 06일  ... 12월 26일.7 12월 27일.7 12월 30일.6 12월 31일.6\n",
              "0  평균  31,333  31,333  31,333  ...    38,000    38,000    38,000    36,000\n",
              "1  평년  44,381  44,433  44,471  ...       NaN       NaN       NaN       NaN\n",
              "2  부산  31,333  31,333  31,333  ...    38,000    38,000    38,000    36,000\n",
              "\n",
              "[3 rows x 2122 columns]"
            ]
          },
          "metadata": {
            "tags": []
          },
          "execution_count": 67
        }
      ]
    },
    {
      "cell_type": "code",
      "metadata": {
        "id": "RdbqGivFu31O",
        "colab_type": "code",
        "colab": {
          "base_uri": "https://localhost:8080/",
          "height": 276
        },
        "outputId": "8dc1d202-1a16-4458-c792-04f5db608bd5"
      },
      "source": [
        "A_price_m.head()"
      ],
      "execution_count": 68,
      "outputs": [
        {
          "output_type": "execute_result",
          "data": {
            "text/html": [
              "<div>\n",
              "<style scoped>\n",
              "    .dataframe tbody tr th:only-of-type {\n",
              "        vertical-align: middle;\n",
              "    }\n",
              "\n",
              "    .dataframe tbody tr th {\n",
              "        vertical-align: top;\n",
              "    }\n",
              "\n",
              "    .dataframe thead th {\n",
              "        text-align: right;\n",
              "    }\n",
              "</style>\n",
              "<table border=\"1\" class=\"dataframe\">\n",
              "  <thead>\n",
              "    <tr style=\"text-align: right;\">\n",
              "      <th></th>\n",
              "      <th>구분</th>\n",
              "      <th>01월 04일</th>\n",
              "      <th>01월 05일</th>\n",
              "      <th>01월 06일</th>\n",
              "      <th>01월 07일</th>\n",
              "      <th>01월 08일</th>\n",
              "      <th>01월 11일</th>\n",
              "      <th>01월 12일</th>\n",
              "      <th>01월 13일</th>\n",
              "      <th>01월 14일</th>\n",
              "      <th>01월 15일</th>\n",
              "      <th>01월 18일</th>\n",
              "      <th>01월 19일</th>\n",
              "      <th>01월 20일</th>\n",
              "      <th>01월 21일</th>\n",
              "      <th>01월 22일</th>\n",
              "      <th>01월 25일</th>\n",
              "      <th>01월 26일</th>\n",
              "      <th>01월 27일</th>\n",
              "      <th>01월 28일</th>\n",
              "      <th>01월 29일</th>\n",
              "      <th>02월 01일</th>\n",
              "      <th>02월 02일</th>\n",
              "      <th>02월 03일</th>\n",
              "      <th>02월 04일</th>\n",
              "      <th>02월 05일</th>\n",
              "      <th>02월 08일</th>\n",
              "      <th>02월 09일</th>\n",
              "      <th>02월 10일</th>\n",
              "      <th>02월 11일</th>\n",
              "      <th>02월 12일</th>\n",
              "      <th>02월 16일</th>\n",
              "      <th>02월 17일</th>\n",
              "      <th>02월 18일</th>\n",
              "      <th>02월 19일</th>\n",
              "      <th>02월 22일</th>\n",
              "      <th>02월 23일</th>\n",
              "      <th>02월 24일</th>\n",
              "      <th>02월 25일</th>\n",
              "      <th>02월 26일</th>\n",
              "      <th>...</th>\n",
              "      <th>11월 04일.6</th>\n",
              "      <th>11월 05일.5</th>\n",
              "      <th>11월 06일.6</th>\n",
              "      <th>11월 07일.7</th>\n",
              "      <th>11월 08일.7</th>\n",
              "      <th>11월 11일.6</th>\n",
              "      <th>11월 12일.6</th>\n",
              "      <th>11월 13일.6</th>\n",
              "      <th>11월 14일.7</th>\n",
              "      <th>11월 15일.7</th>\n",
              "      <th>11월 18일.6</th>\n",
              "      <th>11월 19일.6</th>\n",
              "      <th>11월 20일.6</th>\n",
              "      <th>11월 21일.7</th>\n",
              "      <th>11월 22일.7</th>\n",
              "      <th>11월 25일.6</th>\n",
              "      <th>11월 26일.6</th>\n",
              "      <th>11월 27일.6</th>\n",
              "      <th>11월 28일.7</th>\n",
              "      <th>11월 29일.7</th>\n",
              "      <th>12월 02일.5</th>\n",
              "      <th>12월 03일.6</th>\n",
              "      <th>12월 04일.5</th>\n",
              "      <th>12월 05일.7</th>\n",
              "      <th>12월 09일.6</th>\n",
              "      <th>12월 10일.6</th>\n",
              "      <th>12월 11일.6</th>\n",
              "      <th>12월 12일.7</th>\n",
              "      <th>12월 13일.7</th>\n",
              "      <th>12월 16일.6</th>\n",
              "      <th>12월 17일.6</th>\n",
              "      <th>12월 18일.6</th>\n",
              "      <th>12월 19일.6</th>\n",
              "      <th>12월 20일.7</th>\n",
              "      <th>12월 23일.6</th>\n",
              "      <th>12월 24일.6</th>\n",
              "      <th>12월 26일.7</th>\n",
              "      <th>12월 27일.7</th>\n",
              "      <th>12월 30일.6</th>\n",
              "      <th>12월 31일.6</th>\n",
              "    </tr>\n",
              "  </thead>\n",
              "  <tbody>\n",
              "    <tr>\n",
              "      <th>0</th>\n",
              "      <td>평균</td>\n",
              "      <td>26,667</td>\n",
              "      <td>26,667</td>\n",
              "      <td>26,667</td>\n",
              "      <td>26,667</td>\n",
              "      <td>26,667</td>\n",
              "      <td>26,667</td>\n",
              "      <td>26,667</td>\n",
              "      <td>27,333</td>\n",
              "      <td>27,333</td>\n",
              "      <td>27,333</td>\n",
              "      <td>27,333</td>\n",
              "      <td>27,333</td>\n",
              "      <td>27,333</td>\n",
              "      <td>27,333</td>\n",
              "      <td>27,333</td>\n",
              "      <td>27,333</td>\n",
              "      <td>28,667</td>\n",
              "      <td>28,667</td>\n",
              "      <td>28,667</td>\n",
              "      <td>28,667</td>\n",
              "      <td>29,333</td>\n",
              "      <td>29,333</td>\n",
              "      <td>29,333</td>\n",
              "      <td>30,667</td>\n",
              "      <td>33,333</td>\n",
              "      <td>33,333</td>\n",
              "      <td>33,333</td>\n",
              "      <td>32,667</td>\n",
              "      <td>32,667</td>\n",
              "      <td>32,667</td>\n",
              "      <td>32,667</td>\n",
              "      <td>32,667</td>\n",
              "      <td>32,667</td>\n",
              "      <td>32,667</td>\n",
              "      <td>32,667</td>\n",
              "      <td>32,667</td>\n",
              "      <td>32,667</td>\n",
              "      <td>32,667</td>\n",
              "      <td>32,667</td>\n",
              "      <td>...</td>\n",
              "      <td>29,000</td>\n",
              "      <td>29,000</td>\n",
              "      <td>29,000</td>\n",
              "      <td>29,000</td>\n",
              "      <td>29,000</td>\n",
              "      <td>27,000</td>\n",
              "      <td>27,000</td>\n",
              "      <td>27,000</td>\n",
              "      <td>27,000</td>\n",
              "      <td>29,000</td>\n",
              "      <td>34,000</td>\n",
              "      <td>32,000</td>\n",
              "      <td>36,000</td>\n",
              "      <td>36,000</td>\n",
              "      <td>36,000</td>\n",
              "      <td>36,000</td>\n",
              "      <td>30,000</td>\n",
              "      <td>28,000</td>\n",
              "      <td>27,000</td>\n",
              "      <td>27,000</td>\n",
              "      <td>27,000</td>\n",
              "      <td>28,000</td>\n",
              "      <td>30,000</td>\n",
              "      <td>30,000</td>\n",
              "      <td>31,000</td>\n",
              "      <td>32,000</td>\n",
              "      <td>32,000</td>\n",
              "      <td>32,000</td>\n",
              "      <td>35,000</td>\n",
              "      <td>35,000</td>\n",
              "      <td>35,000</td>\n",
              "      <td>35,000</td>\n",
              "      <td>34,000</td>\n",
              "      <td>34,000</td>\n",
              "      <td>34,000</td>\n",
              "      <td>34,000</td>\n",
              "      <td>34,000</td>\n",
              "      <td>34,000</td>\n",
              "      <td>34,000</td>\n",
              "      <td>32,000</td>\n",
              "    </tr>\n",
              "    <tr>\n",
              "      <th>1</th>\n",
              "      <td>평년</td>\n",
              "      <td>36,167</td>\n",
              "      <td>36,219</td>\n",
              "      <td>36,257</td>\n",
              "      <td>36,286</td>\n",
              "      <td>36,295</td>\n",
              "      <td>36,333</td>\n",
              "      <td>36,333</td>\n",
              "      <td>36,333</td>\n",
              "      <td>36,333</td>\n",
              "      <td>36,333</td>\n",
              "      <td>36,333</td>\n",
              "      <td>36,333</td>\n",
              "      <td>36,333</td>\n",
              "      <td>36,371</td>\n",
              "      <td>36,438</td>\n",
              "      <td>36,533</td>\n",
              "      <td>36,605</td>\n",
              "      <td>36,619</td>\n",
              "      <td>36,691</td>\n",
              "      <td>36,819</td>\n",
              "      <td>36,905</td>\n",
              "      <td>36,976</td>\n",
              "      <td>37,017</td>\n",
              "      <td>37,071</td>\n",
              "      <td>37,143</td>\n",
              "      <td>37,176</td>\n",
              "      <td>37,200</td>\n",
              "      <td>37,210</td>\n",
              "      <td>37,238</td>\n",
              "      <td>37,238</td>\n",
              "      <td>37,238</td>\n",
              "      <td>37,267</td>\n",
              "      <td>37,295</td>\n",
              "      <td>37,324</td>\n",
              "      <td>37,345</td>\n",
              "      <td>37,355</td>\n",
              "      <td>37,371</td>\n",
              "      <td>37,410</td>\n",
              "      <td>37,419</td>\n",
              "      <td>...</td>\n",
              "      <td>NaN</td>\n",
              "      <td>NaN</td>\n",
              "      <td>NaN</td>\n",
              "      <td>NaN</td>\n",
              "      <td>NaN</td>\n",
              "      <td>NaN</td>\n",
              "      <td>NaN</td>\n",
              "      <td>NaN</td>\n",
              "      <td>NaN</td>\n",
              "      <td>NaN</td>\n",
              "      <td>NaN</td>\n",
              "      <td>NaN</td>\n",
              "      <td>NaN</td>\n",
              "      <td>NaN</td>\n",
              "      <td>NaN</td>\n",
              "      <td>NaN</td>\n",
              "      <td>NaN</td>\n",
              "      <td>NaN</td>\n",
              "      <td>NaN</td>\n",
              "      <td>NaN</td>\n",
              "      <td>NaN</td>\n",
              "      <td>NaN</td>\n",
              "      <td>NaN</td>\n",
              "      <td>NaN</td>\n",
              "      <td>NaN</td>\n",
              "      <td>NaN</td>\n",
              "      <td>NaN</td>\n",
              "      <td>NaN</td>\n",
              "      <td>NaN</td>\n",
              "      <td>NaN</td>\n",
              "      <td>NaN</td>\n",
              "      <td>NaN</td>\n",
              "      <td>NaN</td>\n",
              "      <td>NaN</td>\n",
              "      <td>NaN</td>\n",
              "      <td>NaN</td>\n",
              "      <td>NaN</td>\n",
              "      <td>NaN</td>\n",
              "      <td>NaN</td>\n",
              "      <td>NaN</td>\n",
              "    </tr>\n",
              "    <tr>\n",
              "      <th>2</th>\n",
              "      <td>부산</td>\n",
              "      <td>26,667</td>\n",
              "      <td>26,667</td>\n",
              "      <td>26,667</td>\n",
              "      <td>26,667</td>\n",
              "      <td>26,667</td>\n",
              "      <td>26,667</td>\n",
              "      <td>26,667</td>\n",
              "      <td>27,333</td>\n",
              "      <td>27,333</td>\n",
              "      <td>27,333</td>\n",
              "      <td>27,333</td>\n",
              "      <td>27,333</td>\n",
              "      <td>27,333</td>\n",
              "      <td>27,333</td>\n",
              "      <td>27,333</td>\n",
              "      <td>27,333</td>\n",
              "      <td>28,667</td>\n",
              "      <td>28,667</td>\n",
              "      <td>28,667</td>\n",
              "      <td>28,667</td>\n",
              "      <td>29,333</td>\n",
              "      <td>29,333</td>\n",
              "      <td>29,333</td>\n",
              "      <td>30,667</td>\n",
              "      <td>33,333</td>\n",
              "      <td>33,333</td>\n",
              "      <td>33,333</td>\n",
              "      <td>32,667</td>\n",
              "      <td>32,667</td>\n",
              "      <td>32,667</td>\n",
              "      <td>32,667</td>\n",
              "      <td>32,667</td>\n",
              "      <td>32,667</td>\n",
              "      <td>32,667</td>\n",
              "      <td>32,667</td>\n",
              "      <td>32,667</td>\n",
              "      <td>32,667</td>\n",
              "      <td>32,667</td>\n",
              "      <td>32,667</td>\n",
              "      <td>...</td>\n",
              "      <td>29,000</td>\n",
              "      <td>29,000</td>\n",
              "      <td>29,000</td>\n",
              "      <td>29,000</td>\n",
              "      <td>29,000</td>\n",
              "      <td>27,000</td>\n",
              "      <td>27,000</td>\n",
              "      <td>27,000</td>\n",
              "      <td>27,000</td>\n",
              "      <td>29,000</td>\n",
              "      <td>34,000</td>\n",
              "      <td>32,000</td>\n",
              "      <td>36,000</td>\n",
              "      <td>36,000</td>\n",
              "      <td>36,000</td>\n",
              "      <td>36,000</td>\n",
              "      <td>30,000</td>\n",
              "      <td>28,000</td>\n",
              "      <td>27,000</td>\n",
              "      <td>27,000</td>\n",
              "      <td>27,000</td>\n",
              "      <td>28,000</td>\n",
              "      <td>30,000</td>\n",
              "      <td>30,000</td>\n",
              "      <td>31,000</td>\n",
              "      <td>32,000</td>\n",
              "      <td>32,000</td>\n",
              "      <td>32,000</td>\n",
              "      <td>35,000</td>\n",
              "      <td>35,000</td>\n",
              "      <td>35,000</td>\n",
              "      <td>35,000</td>\n",
              "      <td>34,000</td>\n",
              "      <td>34,000</td>\n",
              "      <td>34,000</td>\n",
              "      <td>34,000</td>\n",
              "      <td>34,000</td>\n",
              "      <td>34,000</td>\n",
              "      <td>34,000</td>\n",
              "      <td>32,000</td>\n",
              "    </tr>\n",
              "  </tbody>\n",
              "</table>\n",
              "<p>3 rows × 2122 columns</p>\n",
              "</div>"
            ],
            "text/plain": [
              "   구분 01월 04일 01월 05일 01월 06일  ... 12월 26일.7 12월 27일.7 12월 30일.6 12월 31일.6\n",
              "0  평균  26,667  26,667  26,667  ...    34,000    34,000    34,000    32,000\n",
              "1  평년  36,167  36,219  36,257  ...       NaN       NaN       NaN       NaN\n",
              "2  부산  26,667  26,667  26,667  ...    34,000    34,000    34,000    32,000\n",
              "\n",
              "[3 rows x 2122 columns]"
            ]
          },
          "metadata": {
            "tags": []
          },
          "execution_count": 68
        }
      ]
    },
    {
      "cell_type": "code",
      "metadata": {
        "id": "C3a--YiZu7HC",
        "colab_type": "code",
        "colab": {}
      },
      "source": [
        "A_price_h_columns=A_price_h.columns # 가격 일/ 컬럼"
      ],
      "execution_count": 0,
      "outputs": []
    },
    {
      "cell_type": "code",
      "metadata": {
        "id": "tyK9syUuxWxM",
        "colab_type": "code",
        "colab": {
          "base_uri": "https://localhost:8080/",
          "height": 35
        },
        "outputId": "6a043006-d7ce-4fe7-f328-7d341471af0c"
      },
      "source": [
        "A_price_h[A_price_h['구분']=='부산'].shape[1]"
      ],
      "execution_count": 83,
      "outputs": [
        {
          "output_type": "execute_result",
          "data": {
            "text/plain": [
              "2122"
            ]
          },
          "metadata": {
            "tags": []
          },
          "execution_count": 83
        }
      ]
    },
    {
      "cell_type": "code",
      "metadata": {
        "id": "a6JtJ7zbxwJG",
        "colab_type": "code",
        "colab": {
          "base_uri": "https://localhost:8080/",
          "height": 180
        },
        "outputId": "e3ffb01e-55de-4f78-a74f-af08cfe0ae5c"
      },
      "source": [
        "A_price_h[A_price_h['구분']=='부산']"
      ],
      "execution_count": 89,
      "outputs": [
        {
          "output_type": "execute_result",
          "data": {
            "text/html": [
              "<div>\n",
              "<style scoped>\n",
              "    .dataframe tbody tr th:only-of-type {\n",
              "        vertical-align: middle;\n",
              "    }\n",
              "\n",
              "    .dataframe tbody tr th {\n",
              "        vertical-align: top;\n",
              "    }\n",
              "\n",
              "    .dataframe thead th {\n",
              "        text-align: right;\n",
              "    }\n",
              "</style>\n",
              "<table border=\"1\" class=\"dataframe\">\n",
              "  <thead>\n",
              "    <tr style=\"text-align: right;\">\n",
              "      <th></th>\n",
              "      <th>구분</th>\n",
              "      <th>01월 04일</th>\n",
              "      <th>01월 05일</th>\n",
              "      <th>01월 06일</th>\n",
              "      <th>01월 07일</th>\n",
              "      <th>01월 08일</th>\n",
              "      <th>01월 11일</th>\n",
              "      <th>01월 12일</th>\n",
              "      <th>01월 13일</th>\n",
              "      <th>01월 14일</th>\n",
              "      <th>01월 15일</th>\n",
              "      <th>01월 18일</th>\n",
              "      <th>01월 19일</th>\n",
              "      <th>01월 20일</th>\n",
              "      <th>01월 21일</th>\n",
              "      <th>01월 22일</th>\n",
              "      <th>01월 25일</th>\n",
              "      <th>01월 26일</th>\n",
              "      <th>01월 27일</th>\n",
              "      <th>01월 28일</th>\n",
              "      <th>01월 29일</th>\n",
              "      <th>02월 01일</th>\n",
              "      <th>02월 02일</th>\n",
              "      <th>02월 03일</th>\n",
              "      <th>02월 04일</th>\n",
              "      <th>02월 05일</th>\n",
              "      <th>02월 08일</th>\n",
              "      <th>02월 09일</th>\n",
              "      <th>02월 10일</th>\n",
              "      <th>02월 11일</th>\n",
              "      <th>02월 12일</th>\n",
              "      <th>02월 16일</th>\n",
              "      <th>02월 17일</th>\n",
              "      <th>02월 18일</th>\n",
              "      <th>02월 19일</th>\n",
              "      <th>02월 22일</th>\n",
              "      <th>02월 23일</th>\n",
              "      <th>02월 24일</th>\n",
              "      <th>02월 25일</th>\n",
              "      <th>02월 26일</th>\n",
              "      <th>...</th>\n",
              "      <th>11월 04일.6</th>\n",
              "      <th>11월 05일.5</th>\n",
              "      <th>11월 06일.6</th>\n",
              "      <th>11월 07일.7</th>\n",
              "      <th>11월 08일.7</th>\n",
              "      <th>11월 11일.6</th>\n",
              "      <th>11월 12일.6</th>\n",
              "      <th>11월 13일.6</th>\n",
              "      <th>11월 14일.7</th>\n",
              "      <th>11월 15일.7</th>\n",
              "      <th>11월 18일.6</th>\n",
              "      <th>11월 19일.6</th>\n",
              "      <th>11월 20일.6</th>\n",
              "      <th>11월 21일.7</th>\n",
              "      <th>11월 22일.7</th>\n",
              "      <th>11월 25일.6</th>\n",
              "      <th>11월 26일.6</th>\n",
              "      <th>11월 27일.6</th>\n",
              "      <th>11월 28일.7</th>\n",
              "      <th>11월 29일.7</th>\n",
              "      <th>12월 02일.5</th>\n",
              "      <th>12월 03일.6</th>\n",
              "      <th>12월 04일.5</th>\n",
              "      <th>12월 05일.7</th>\n",
              "      <th>12월 09일.6</th>\n",
              "      <th>12월 10일.6</th>\n",
              "      <th>12월 11일.6</th>\n",
              "      <th>12월 12일.7</th>\n",
              "      <th>12월 13일.7</th>\n",
              "      <th>12월 16일.6</th>\n",
              "      <th>12월 17일.6</th>\n",
              "      <th>12월 18일.6</th>\n",
              "      <th>12월 19일.6</th>\n",
              "      <th>12월 20일.7</th>\n",
              "      <th>12월 23일.6</th>\n",
              "      <th>12월 24일.6</th>\n",
              "      <th>12월 26일.7</th>\n",
              "      <th>12월 27일.7</th>\n",
              "      <th>12월 30일.6</th>\n",
              "      <th>12월 31일.6</th>\n",
              "    </tr>\n",
              "  </thead>\n",
              "  <tbody>\n",
              "    <tr>\n",
              "      <th>2</th>\n",
              "      <td>부산</td>\n",
              "      <td>31,333</td>\n",
              "      <td>31,333</td>\n",
              "      <td>31,333</td>\n",
              "      <td>31,333</td>\n",
              "      <td>31,333</td>\n",
              "      <td>31,333</td>\n",
              "      <td>31,333</td>\n",
              "      <td>32,667</td>\n",
              "      <td>32,667</td>\n",
              "      <td>32,667</td>\n",
              "      <td>32,667</td>\n",
              "      <td>32,667</td>\n",
              "      <td>32,667</td>\n",
              "      <td>32,667</td>\n",
              "      <td>32,667</td>\n",
              "      <td>32,667</td>\n",
              "      <td>34,667</td>\n",
              "      <td>34,667</td>\n",
              "      <td>34,667</td>\n",
              "      <td>34,667</td>\n",
              "      <td>36,667</td>\n",
              "      <td>36,667</td>\n",
              "      <td>36,667</td>\n",
              "      <td>38,667</td>\n",
              "      <td>40,000</td>\n",
              "      <td>40,000</td>\n",
              "      <td>40,000</td>\n",
              "      <td>38,667</td>\n",
              "      <td>38,667</td>\n",
              "      <td>38,667</td>\n",
              "      <td>38,667</td>\n",
              "      <td>38,667</td>\n",
              "      <td>38,667</td>\n",
              "      <td>38,667</td>\n",
              "      <td>38,667</td>\n",
              "      <td>38,667</td>\n",
              "      <td>38,667</td>\n",
              "      <td>38,667</td>\n",
              "      <td>38,667</td>\n",
              "      <td>...</td>\n",
              "      <td>33,000</td>\n",
              "      <td>33,000</td>\n",
              "      <td>33,000</td>\n",
              "      <td>33,000</td>\n",
              "      <td>33,000</td>\n",
              "      <td>31,000</td>\n",
              "      <td>31,000</td>\n",
              "      <td>31,000</td>\n",
              "      <td>31,000</td>\n",
              "      <td>33,000</td>\n",
              "      <td>38,000</td>\n",
              "      <td>36,000</td>\n",
              "      <td>40,000</td>\n",
              "      <td>40,000</td>\n",
              "      <td>40,000</td>\n",
              "      <td>40,000</td>\n",
              "      <td>34,000</td>\n",
              "      <td>32,000</td>\n",
              "      <td>31,000</td>\n",
              "      <td>31,000</td>\n",
              "      <td>31,000</td>\n",
              "      <td>32,000</td>\n",
              "      <td>34,000</td>\n",
              "      <td>34,000</td>\n",
              "      <td>35,000</td>\n",
              "      <td>36,000</td>\n",
              "      <td>36,000</td>\n",
              "      <td>36,000</td>\n",
              "      <td>39,000</td>\n",
              "      <td>39,000</td>\n",
              "      <td>39,000</td>\n",
              "      <td>39,000</td>\n",
              "      <td>38,000</td>\n",
              "      <td>38,000</td>\n",
              "      <td>38,000</td>\n",
              "      <td>38,000</td>\n",
              "      <td>38,000</td>\n",
              "      <td>38,000</td>\n",
              "      <td>38,000</td>\n",
              "      <td>36,000</td>\n",
              "    </tr>\n",
              "  </tbody>\n",
              "</table>\n",
              "<p>1 rows × 2122 columns</p>\n",
              "</div>"
            ],
            "text/plain": [
              "   구분 01월 04일 01월 05일 01월 06일  ... 12월 26일.7 12월 27일.7 12월 30일.6 12월 31일.6\n",
              "2  부산  31,333  31,333  31,333  ...    38,000    38,000    38,000    36,000\n",
              "\n",
              "[1 rows x 2122 columns]"
            ]
          },
          "metadata": {
            "tags": []
          },
          "execution_count": 89
        }
      ]
    },
    {
      "cell_type": "code",
      "metadata": {
        "id": "3cj4whGX1rJB",
        "colab_type": "code",
        "colab": {}
      },
      "source": [
        "tmp=A_price_h[A_price_h['구분']=='부산']"
      ],
      "execution_count": 0,
      "outputs": []
    },
    {
      "cell_type": "code",
      "metadata": {
        "id": "JFcfAADJ1xR_",
        "colab_type": "code",
        "colab": {
          "base_uri": "https://localhost:8080/",
          "height": 180
        },
        "outputId": "0163474a-c9dc-4796-9c26-f3b5569e0102"
      },
      "source": [
        "tmp.melt()"
      ],
      "execution_count": 152,
      "outputs": [
        {
          "output_type": "execute_result",
          "data": {
            "text/html": [
              "<div>\n",
              "<style scoped>\n",
              "    .dataframe tbody tr th:only-of-type {\n",
              "        vertical-align: middle;\n",
              "    }\n",
              "\n",
              "    .dataframe tbody tr th {\n",
              "        vertical-align: top;\n",
              "    }\n",
              "\n",
              "    .dataframe thead th {\n",
              "        text-align: right;\n",
              "    }\n",
              "</style>\n",
              "<table border=\"1\" class=\"dataframe\">\n",
              "  <thead>\n",
              "    <tr style=\"text-align: right;\">\n",
              "      <th></th>\n",
              "      <th>구분</th>\n",
              "      <th>01월 04일</th>\n",
              "      <th>01월 05일</th>\n",
              "      <th>01월 06일</th>\n",
              "      <th>01월 07일</th>\n",
              "      <th>01월 08일</th>\n",
              "      <th>01월 11일</th>\n",
              "      <th>01월 12일</th>\n",
              "      <th>01월 13일</th>\n",
              "      <th>01월 14일</th>\n",
              "      <th>01월 15일</th>\n",
              "      <th>01월 18일</th>\n",
              "      <th>01월 19일</th>\n",
              "      <th>01월 20일</th>\n",
              "      <th>01월 21일</th>\n",
              "      <th>01월 22일</th>\n",
              "      <th>01월 25일</th>\n",
              "      <th>01월 26일</th>\n",
              "      <th>01월 27일</th>\n",
              "      <th>01월 28일</th>\n",
              "      <th>01월 29일</th>\n",
              "      <th>02월 01일</th>\n",
              "      <th>02월 02일</th>\n",
              "      <th>02월 03일</th>\n",
              "      <th>02월 04일</th>\n",
              "      <th>02월 05일</th>\n",
              "      <th>02월 08일</th>\n",
              "      <th>02월 09일</th>\n",
              "      <th>02월 10일</th>\n",
              "      <th>02월 11일</th>\n",
              "      <th>02월 12일</th>\n",
              "      <th>02월 16일</th>\n",
              "      <th>02월 17일</th>\n",
              "      <th>02월 18일</th>\n",
              "      <th>02월 19일</th>\n",
              "      <th>02월 22일</th>\n",
              "      <th>02월 23일</th>\n",
              "      <th>02월 24일</th>\n",
              "      <th>02월 25일</th>\n",
              "      <th>02월 26일</th>\n",
              "      <th>...</th>\n",
              "      <th>11월 04일.6</th>\n",
              "      <th>11월 05일.5</th>\n",
              "      <th>11월 06일.6</th>\n",
              "      <th>11월 07일.7</th>\n",
              "      <th>11월 08일.7</th>\n",
              "      <th>11월 11일.6</th>\n",
              "      <th>11월 12일.6</th>\n",
              "      <th>11월 13일.6</th>\n",
              "      <th>11월 14일.7</th>\n",
              "      <th>11월 15일.7</th>\n",
              "      <th>11월 18일.6</th>\n",
              "      <th>11월 19일.6</th>\n",
              "      <th>11월 20일.6</th>\n",
              "      <th>11월 21일.7</th>\n",
              "      <th>11월 22일.7</th>\n",
              "      <th>11월 25일.6</th>\n",
              "      <th>11월 26일.6</th>\n",
              "      <th>11월 27일.6</th>\n",
              "      <th>11월 28일.7</th>\n",
              "      <th>11월 29일.7</th>\n",
              "      <th>12월 02일.5</th>\n",
              "      <th>12월 03일.6</th>\n",
              "      <th>12월 04일.5</th>\n",
              "      <th>12월 05일.7</th>\n",
              "      <th>12월 09일.6</th>\n",
              "      <th>12월 10일.6</th>\n",
              "      <th>12월 11일.6</th>\n",
              "      <th>12월 12일.7</th>\n",
              "      <th>12월 13일.7</th>\n",
              "      <th>12월 16일.6</th>\n",
              "      <th>12월 17일.6</th>\n",
              "      <th>12월 18일.6</th>\n",
              "      <th>12월 19일.6</th>\n",
              "      <th>12월 20일.7</th>\n",
              "      <th>12월 23일.6</th>\n",
              "      <th>12월 24일.6</th>\n",
              "      <th>12월 26일.7</th>\n",
              "      <th>12월 27일.7</th>\n",
              "      <th>12월 30일.6</th>\n",
              "      <th>12월 31일.6</th>\n",
              "    </tr>\n",
              "  </thead>\n",
              "  <tbody>\n",
              "    <tr>\n",
              "      <th>2</th>\n",
              "      <td>부산</td>\n",
              "      <td>31,333</td>\n",
              "      <td>31,333</td>\n",
              "      <td>31,333</td>\n",
              "      <td>31,333</td>\n",
              "      <td>31,333</td>\n",
              "      <td>31,333</td>\n",
              "      <td>31,333</td>\n",
              "      <td>32,667</td>\n",
              "      <td>32,667</td>\n",
              "      <td>32,667</td>\n",
              "      <td>32,667</td>\n",
              "      <td>32,667</td>\n",
              "      <td>32,667</td>\n",
              "      <td>32,667</td>\n",
              "      <td>32,667</td>\n",
              "      <td>32,667</td>\n",
              "      <td>34,667</td>\n",
              "      <td>34,667</td>\n",
              "      <td>34,667</td>\n",
              "      <td>34,667</td>\n",
              "      <td>36,667</td>\n",
              "      <td>36,667</td>\n",
              "      <td>36,667</td>\n",
              "      <td>38,667</td>\n",
              "      <td>40,000</td>\n",
              "      <td>40,000</td>\n",
              "      <td>40,000</td>\n",
              "      <td>38,667</td>\n",
              "      <td>38,667</td>\n",
              "      <td>38,667</td>\n",
              "      <td>38,667</td>\n",
              "      <td>38,667</td>\n",
              "      <td>38,667</td>\n",
              "      <td>38,667</td>\n",
              "      <td>38,667</td>\n",
              "      <td>38,667</td>\n",
              "      <td>38,667</td>\n",
              "      <td>38,667</td>\n",
              "      <td>38,667</td>\n",
              "      <td>...</td>\n",
              "      <td>33,000</td>\n",
              "      <td>33,000</td>\n",
              "      <td>33,000</td>\n",
              "      <td>33,000</td>\n",
              "      <td>33,000</td>\n",
              "      <td>31,000</td>\n",
              "      <td>31,000</td>\n",
              "      <td>31,000</td>\n",
              "      <td>31,000</td>\n",
              "      <td>33,000</td>\n",
              "      <td>38,000</td>\n",
              "      <td>36,000</td>\n",
              "      <td>40,000</td>\n",
              "      <td>40,000</td>\n",
              "      <td>40,000</td>\n",
              "      <td>40,000</td>\n",
              "      <td>34,000</td>\n",
              "      <td>32,000</td>\n",
              "      <td>31,000</td>\n",
              "      <td>31,000</td>\n",
              "      <td>31,000</td>\n",
              "      <td>32,000</td>\n",
              "      <td>34,000</td>\n",
              "      <td>34,000</td>\n",
              "      <td>35,000</td>\n",
              "      <td>36,000</td>\n",
              "      <td>36,000</td>\n",
              "      <td>36,000</td>\n",
              "      <td>39,000</td>\n",
              "      <td>39,000</td>\n",
              "      <td>39,000</td>\n",
              "      <td>39,000</td>\n",
              "      <td>38,000</td>\n",
              "      <td>38,000</td>\n",
              "      <td>38,000</td>\n",
              "      <td>38,000</td>\n",
              "      <td>38,000</td>\n",
              "      <td>38,000</td>\n",
              "      <td>38,000</td>\n",
              "      <td>36,000</td>\n",
              "    </tr>\n",
              "  </tbody>\n",
              "</table>\n",
              "<p>1 rows × 2122 columns</p>\n",
              "</div>"
            ],
            "text/plain": [
              "   구분 01월 04일 01월 05일 01월 06일  ... 12월 26일.7 12월 27일.7 12월 30일.6 12월 31일.6\n",
              "2  부산  31,333  31,333  31,333  ...    38,000    38,000    38,000    36,000\n",
              "\n",
              "[1 rows x 2122 columns]"
            ]
          },
          "metadata": {
            "tags": []
          },
          "execution_count": 152
        }
      ]
    },
    {
      "cell_type": "code",
      "metadata": {
        "id": "6KRaPu8yxiCZ",
        "colab_type": "code",
        "colab": {
          "base_uri": "https://localhost:8080/",
          "height": 35
        },
        "outputId": "21953063-d556-4ade-ffb4-5dcb6a67f9d0"
      },
      "source": [
        "A_price_h[A_price_h['구분']=='부산'].iloc[0][1]"
      ],
      "execution_count": 90,
      "outputs": [
        {
          "output_type": "execute_result",
          "data": {
            "text/plain": [
              "'부산'"
            ]
          },
          "metadata": {
            "tags": []
          },
          "execution_count": 90
        }
      ]
    },
    {
      "cell_type": "code",
      "metadata": {
        "id": "JNK18HU7wdLk",
        "colab_type": "code",
        "colab": {}
      },
      "source": [
        "a=[]\n",
        "\n",
        "for i in range(A_price_h[A_price_h['구분']=='부산'].shape[1]):\n",
        "  a.append(A_price_h[A_price_h['구분']=='부산'].iloc[0][i])\n"
      ],
      "execution_count": 0,
      "outputs": []
    },
    {
      "cell_type": "code",
      "metadata": {
        "id": "AJR4xCCnx7HU",
        "colab_type": "code",
        "colab": {
          "base_uri": "https://localhost:8080/",
          "height": 35
        },
        "outputId": "83a528bb-84a5-4297-958a-30e73eebbd03"
      },
      "source": [
        "print(len(a),a[0],type(a))"
      ],
      "execution_count": 97,
      "outputs": [
        {
          "output_type": "stream",
          "text": [
            "2122 부산 <class 'list'>\n"
          ],
          "name": "stdout"
        }
      ]
    },
    {
      "cell_type": "code",
      "metadata": {
        "id": "TnZ5t2N_vNB9",
        "colab_type": "code",
        "colab": {
          "base_uri": "https://localhost:8080/",
          "height": 35
        },
        "outputId": "e871e06c-4fa3-4fb1-bbd0-75406d3a8a71"
      },
      "source": [
        "print(type(A_price_h_columns),len(A_price_h_columns))"
      ],
      "execution_count": 72,
      "outputs": [
        {
          "output_type": "stream",
          "text": [
            "<class 'pandas.core.indexes.base.Index'> 2122\n"
          ],
          "name": "stdout"
        }
      ]
    },
    {
      "cell_type": "code",
      "metadata": {
        "id": "4AMrkid5yhnl",
        "colab_type": "code",
        "colab": {
          "base_uri": "https://localhost:8080/",
          "height": 35
        },
        "outputId": "0586730c-e383-4a44-f933-9a8d1311cc89"
      },
      "source": [
        "A_price_h_columns[1]"
      ],
      "execution_count": 102,
      "outputs": [
        {
          "output_type": "execute_result",
          "data": {
            "text/plain": [
              "'01월 04일'"
            ]
          },
          "metadata": {
            "tags": []
          },
          "execution_count": 102
        }
      ]
    },
    {
      "cell_type": "code",
      "metadata": {
        "id": "q2UOqm39ycid",
        "colab_type": "code",
        "colab": {}
      },
      "source": [
        "b=[]\n",
        "\n",
        "for i in range(A_price_h_columns.shape[0]):\n",
        "  b.append(A_price_h_columns[i])"
      ],
      "execution_count": 0,
      "outputs": []
    },
    {
      "cell_type": "code",
      "metadata": {
        "id": "69oyj2GiyOtM",
        "colab_type": "code",
        "colab": {
          "base_uri": "https://localhost:8080/",
          "height": 35
        },
        "outputId": "9345d307-d3c4-4f5f-af82-26385ac6f57d"
      },
      "source": [
        "len(b)"
      ],
      "execution_count": 104,
      "outputs": [
        {
          "output_type": "execute_result",
          "data": {
            "text/plain": [
              "2122"
            ]
          },
          "metadata": {
            "tags": []
          },
          "execution_count": 104
        }
      ]
    },
    {
      "cell_type": "code",
      "metadata": {
        "id": "v3SDlu0AvRUn",
        "colab_type": "code",
        "colab": {}
      },
      "source": [
        "df=pd.DataFrame({'price':a,\n",
        "                  '날짜':b})"
      ],
      "execution_count": 0,
      "outputs": []
    },
    {
      "cell_type": "code",
      "metadata": {
        "id": "RRaoZrE1yIaX",
        "colab_type": "code",
        "colab": {
          "base_uri": "https://localhost:8080/",
          "height": 979
        },
        "outputId": "18fe7b28-090f-4c1d-bef5-cc74b9643b31"
      },
      "source": [
        "df.tail(30)"
      ],
      "execution_count": 148,
      "outputs": [
        {
          "output_type": "execute_result",
          "data": {
            "text/html": [
              "<div>\n",
              "<style scoped>\n",
              "    .dataframe tbody tr th:only-of-type {\n",
              "        vertical-align: middle;\n",
              "    }\n",
              "\n",
              "    .dataframe tbody tr th {\n",
              "        vertical-align: top;\n",
              "    }\n",
              "\n",
              "    .dataframe thead th {\n",
              "        text-align: right;\n",
              "    }\n",
              "</style>\n",
              "<table border=\"1\" class=\"dataframe\">\n",
              "  <thead>\n",
              "    <tr style=\"text-align: right;\">\n",
              "      <th></th>\n",
              "      <th>price</th>\n",
              "      <th>날짜</th>\n",
              "    </tr>\n",
              "  </thead>\n",
              "  <tbody>\n",
              "    <tr>\n",
              "      <th>2092</th>\n",
              "      <td>38,000</td>\n",
              "      <td>11-18.6</td>\n",
              "    </tr>\n",
              "    <tr>\n",
              "      <th>2093</th>\n",
              "      <td>36,000</td>\n",
              "      <td>11-19.6</td>\n",
              "    </tr>\n",
              "    <tr>\n",
              "      <th>2094</th>\n",
              "      <td>40,000</td>\n",
              "      <td>11-20.6</td>\n",
              "    </tr>\n",
              "    <tr>\n",
              "      <th>2095</th>\n",
              "      <td>40,000</td>\n",
              "      <td>11-21.7</td>\n",
              "    </tr>\n",
              "    <tr>\n",
              "      <th>2096</th>\n",
              "      <td>40,000</td>\n",
              "      <td>11-22.7</td>\n",
              "    </tr>\n",
              "    <tr>\n",
              "      <th>2097</th>\n",
              "      <td>40,000</td>\n",
              "      <td>11-25.6</td>\n",
              "    </tr>\n",
              "    <tr>\n",
              "      <th>2098</th>\n",
              "      <td>34,000</td>\n",
              "      <td>11-26.6</td>\n",
              "    </tr>\n",
              "    <tr>\n",
              "      <th>2099</th>\n",
              "      <td>32,000</td>\n",
              "      <td>11-27.6</td>\n",
              "    </tr>\n",
              "    <tr>\n",
              "      <th>2100</th>\n",
              "      <td>31,000</td>\n",
              "      <td>11-28.7</td>\n",
              "    </tr>\n",
              "    <tr>\n",
              "      <th>2101</th>\n",
              "      <td>31,000</td>\n",
              "      <td>11-29.7</td>\n",
              "    </tr>\n",
              "    <tr>\n",
              "      <th>2102</th>\n",
              "      <td>31,000</td>\n",
              "      <td>12-02.5</td>\n",
              "    </tr>\n",
              "    <tr>\n",
              "      <th>2103</th>\n",
              "      <td>32,000</td>\n",
              "      <td>12-03.6</td>\n",
              "    </tr>\n",
              "    <tr>\n",
              "      <th>2104</th>\n",
              "      <td>34,000</td>\n",
              "      <td>12-04.5</td>\n",
              "    </tr>\n",
              "    <tr>\n",
              "      <th>2105</th>\n",
              "      <td>34,000</td>\n",
              "      <td>12-05.7</td>\n",
              "    </tr>\n",
              "    <tr>\n",
              "      <th>2106</th>\n",
              "      <td>35,000</td>\n",
              "      <td>12-09.6</td>\n",
              "    </tr>\n",
              "    <tr>\n",
              "      <th>2107</th>\n",
              "      <td>36,000</td>\n",
              "      <td>12-10.6</td>\n",
              "    </tr>\n",
              "    <tr>\n",
              "      <th>2108</th>\n",
              "      <td>36,000</td>\n",
              "      <td>12-11.6</td>\n",
              "    </tr>\n",
              "    <tr>\n",
              "      <th>2109</th>\n",
              "      <td>36,000</td>\n",
              "      <td>12-12.7</td>\n",
              "    </tr>\n",
              "    <tr>\n",
              "      <th>2110</th>\n",
              "      <td>39,000</td>\n",
              "      <td>12-13.7</td>\n",
              "    </tr>\n",
              "    <tr>\n",
              "      <th>2111</th>\n",
              "      <td>39,000</td>\n",
              "      <td>12-16.6</td>\n",
              "    </tr>\n",
              "    <tr>\n",
              "      <th>2112</th>\n",
              "      <td>39,000</td>\n",
              "      <td>12-17.6</td>\n",
              "    </tr>\n",
              "    <tr>\n",
              "      <th>2113</th>\n",
              "      <td>39,000</td>\n",
              "      <td>12-18.6</td>\n",
              "    </tr>\n",
              "    <tr>\n",
              "      <th>2114</th>\n",
              "      <td>38,000</td>\n",
              "      <td>12-19.6</td>\n",
              "    </tr>\n",
              "    <tr>\n",
              "      <th>2115</th>\n",
              "      <td>38,000</td>\n",
              "      <td>12-20.7</td>\n",
              "    </tr>\n",
              "    <tr>\n",
              "      <th>2116</th>\n",
              "      <td>38,000</td>\n",
              "      <td>12-23.6</td>\n",
              "    </tr>\n",
              "    <tr>\n",
              "      <th>2117</th>\n",
              "      <td>38,000</td>\n",
              "      <td>12-24.6</td>\n",
              "    </tr>\n",
              "    <tr>\n",
              "      <th>2118</th>\n",
              "      <td>38,000</td>\n",
              "      <td>12-26.7</td>\n",
              "    </tr>\n",
              "    <tr>\n",
              "      <th>2119</th>\n",
              "      <td>38,000</td>\n",
              "      <td>12-27.7</td>\n",
              "    </tr>\n",
              "    <tr>\n",
              "      <th>2120</th>\n",
              "      <td>38,000</td>\n",
              "      <td>12-30.6</td>\n",
              "    </tr>\n",
              "    <tr>\n",
              "      <th>2121</th>\n",
              "      <td>36,000</td>\n",
              "      <td>12-31.6</td>\n",
              "    </tr>\n",
              "  </tbody>\n",
              "</table>\n",
              "</div>"
            ],
            "text/plain": [
              "       price       날짜\n",
              "2092  38,000  11-18.6\n",
              "2093  36,000  11-19.6\n",
              "2094  40,000  11-20.6\n",
              "2095  40,000  11-21.7\n",
              "2096  40,000  11-22.7\n",
              "2097  40,000  11-25.6\n",
              "2098  34,000  11-26.6\n",
              "2099  32,000  11-27.6\n",
              "2100  31,000  11-28.7\n",
              "2101  31,000  11-29.7\n",
              "2102  31,000  12-02.5\n",
              "2103  32,000  12-03.6\n",
              "2104  34,000  12-04.5\n",
              "2105  34,000  12-05.7\n",
              "2106  35,000  12-09.6\n",
              "2107  36,000  12-10.6\n",
              "2108  36,000  12-11.6\n",
              "2109  36,000  12-12.7\n",
              "2110  39,000  12-13.7\n",
              "2111  39,000  12-16.6\n",
              "2112  39,000  12-17.6\n",
              "2113  39,000  12-18.6\n",
              "2114  38,000  12-19.6\n",
              "2115  38,000  12-20.7\n",
              "2116  38,000  12-23.6\n",
              "2117  38,000  12-24.6\n",
              "2118  38,000  12-26.7\n",
              "2119  38,000  12-27.7\n",
              "2120  38,000  12-30.6\n",
              "2121  36,000  12-31.6"
            ]
          },
          "metadata": {
            "tags": []
          },
          "execution_count": 148
        }
      ]
    },
    {
      "cell_type": "code",
      "metadata": {
        "id": "O2HbFVGcz8Cg",
        "colab_type": "code",
        "colab": {}
      },
      "source": [
        "df['날짜']=df['날짜'].str.replace('월 ','-').str.replace('일', '')"
      ],
      "execution_count": 0,
      "outputs": []
    },
    {
      "cell_type": "code",
      "metadata": {
        "id": "XqpcghR40cYS",
        "colab_type": "code",
        "colab": {}
      },
      "source": [
        "df['날짜']=df['날짜'].str[:5]"
      ],
      "execution_count": 0,
      "outputs": []
    },
    {
      "cell_type": "code",
      "metadata": {
        "id": "LjaZ7fua4zqM",
        "colab_type": "code",
        "colab": {
          "base_uri": "https://localhost:8080/",
          "height": 204
        },
        "outputId": "f04646ff-abed-40b4-866e-2309991d3a10"
      },
      "source": [
        "df.head()"
      ],
      "execution_count": 179,
      "outputs": [
        {
          "output_type": "execute_result",
          "data": {
            "text/html": [
              "<div>\n",
              "<style scoped>\n",
              "    .dataframe tbody tr th:only-of-type {\n",
              "        vertical-align: middle;\n",
              "    }\n",
              "\n",
              "    .dataframe tbody tr th {\n",
              "        vertical-align: top;\n",
              "    }\n",
              "\n",
              "    .dataframe thead th {\n",
              "        text-align: right;\n",
              "    }\n",
              "</style>\n",
              "<table border=\"1\" class=\"dataframe\">\n",
              "  <thead>\n",
              "    <tr style=\"text-align: right;\">\n",
              "      <th></th>\n",
              "      <th>price</th>\n",
              "      <th>날짜</th>\n",
              "    </tr>\n",
              "  </thead>\n",
              "  <tbody>\n",
              "    <tr>\n",
              "      <th>0</th>\n",
              "      <td>부산</td>\n",
              "      <td>구분</td>\n",
              "    </tr>\n",
              "    <tr>\n",
              "      <th>1</th>\n",
              "      <td>31,333</td>\n",
              "      <td>01-04</td>\n",
              "    </tr>\n",
              "    <tr>\n",
              "      <th>2</th>\n",
              "      <td>31,333</td>\n",
              "      <td>01-05</td>\n",
              "    </tr>\n",
              "    <tr>\n",
              "      <th>3</th>\n",
              "      <td>31,333</td>\n",
              "      <td>01-06</td>\n",
              "    </tr>\n",
              "    <tr>\n",
              "      <th>4</th>\n",
              "      <td>31,333</td>\n",
              "      <td>01-07</td>\n",
              "    </tr>\n",
              "  </tbody>\n",
              "</table>\n",
              "</div>"
            ],
            "text/plain": [
              "    price     날짜\n",
              "0      부산     구분\n",
              "1  31,333  01-04\n",
              "2  31,333  01-05\n",
              "3  31,333  01-06\n",
              "4  31,333  01-07"
            ]
          },
          "metadata": {
            "tags": []
          },
          "execution_count": 179
        }
      ]
    },
    {
      "cell_type": "code",
      "metadata": {
        "id": "J5FqXoOx5Zeg",
        "colab_type": "code",
        "colab": {}
      },
      "source": [
        "df=df.iloc[1:,:]"
      ],
      "execution_count": 0,
      "outputs": []
    },
    {
      "cell_type": "code",
      "metadata": {
        "id": "W-w72CXs0gcw",
        "colab_type": "code",
        "colab": {
          "base_uri": "https://localhost:8080/",
          "height": 520
        },
        "outputId": "a01ed732-465d-48a4-fa0e-48d2b7537c59"
      },
      "source": [
        "df['날']=pd.to_datetime(df['날짜'],format='%m-%d')"
      ],
      "execution_count": 188,
      "outputs": [
        {
          "output_type": "error",
          "ename": "ValueError",
          "evalue": "ignored",
          "traceback": [
            "\u001b[0;31m---------------------------------------------------------------------------\u001b[0m",
            "\u001b[0;31mTypeError\u001b[0m                                 Traceback (most recent call last)",
            "\u001b[0;32m/usr/local/lib/python3.6/dist-packages/pandas/core/tools/datetimes.py\u001b[0m in \u001b[0;36m_convert_listlike_datetimes\u001b[0;34m(arg, format, name, tz, unit, errors, infer_datetime_format, dayfirst, yearfirst, exact)\u001b[0m\n\u001b[1;32m    431\u001b[0m             \u001b[0;32mtry\u001b[0m\u001b[0;34m:\u001b[0m\u001b[0;34m\u001b[0m\u001b[0;34m\u001b[0m\u001b[0m\n\u001b[0;32m--> 432\u001b[0;31m                 \u001b[0mvalues\u001b[0m\u001b[0;34m,\u001b[0m \u001b[0mtz\u001b[0m \u001b[0;34m=\u001b[0m \u001b[0mconversion\u001b[0m\u001b[0;34m.\u001b[0m\u001b[0mdatetime_to_datetime64\u001b[0m\u001b[0;34m(\u001b[0m\u001b[0marg\u001b[0m\u001b[0;34m)\u001b[0m\u001b[0;34m\u001b[0m\u001b[0;34m\u001b[0m\u001b[0m\n\u001b[0m\u001b[1;32m    433\u001b[0m                 \u001b[0;32mreturn\u001b[0m \u001b[0mDatetimeIndex\u001b[0m\u001b[0;34m.\u001b[0m\u001b[0m_simple_new\u001b[0m\u001b[0;34m(\u001b[0m\u001b[0mvalues\u001b[0m\u001b[0;34m,\u001b[0m \u001b[0mname\u001b[0m\u001b[0;34m=\u001b[0m\u001b[0mname\u001b[0m\u001b[0;34m,\u001b[0m \u001b[0mtz\u001b[0m\u001b[0;34m=\u001b[0m\u001b[0mtz\u001b[0m\u001b[0;34m)\u001b[0m\u001b[0;34m\u001b[0m\u001b[0;34m\u001b[0m\u001b[0m\n",
            "\u001b[0;32mpandas/_libs/tslibs/conversion.pyx\u001b[0m in \u001b[0;36mpandas._libs.tslibs.conversion.datetime_to_datetime64\u001b[0;34m()\u001b[0m\n",
            "\u001b[0;31mTypeError\u001b[0m: Unrecognized value type: <class 'str'>",
            "\nDuring handling of the above exception, another exception occurred:\n",
            "\u001b[0;31mValueError\u001b[0m                                Traceback (most recent call last)",
            "\u001b[0;32m<ipython-input-188-17bcb90f834c>\u001b[0m in \u001b[0;36m<module>\u001b[0;34m()\u001b[0m\n\u001b[0;32m----> 1\u001b[0;31m \u001b[0mdf\u001b[0m\u001b[0;34m[\u001b[0m\u001b[0;34m'날'\u001b[0m\u001b[0;34m]\u001b[0m\u001b[0;34m=\u001b[0m\u001b[0mpd\u001b[0m\u001b[0;34m.\u001b[0m\u001b[0mto_datetime\u001b[0m\u001b[0;34m(\u001b[0m\u001b[0mdf\u001b[0m\u001b[0;34m[\u001b[0m\u001b[0;34m'날짜'\u001b[0m\u001b[0;34m]\u001b[0m\u001b[0;34m,\u001b[0m\u001b[0mformat\u001b[0m\u001b[0;34m=\u001b[0m\u001b[0;34m'2010-%M-%d'\u001b[0m\u001b[0;34m)\u001b[0m\u001b[0;34m\u001b[0m\u001b[0;34m\u001b[0m\u001b[0m\n\u001b[0m",
            "\u001b[0;32m/usr/local/lib/python3.6/dist-packages/pandas/core/tools/datetimes.py\u001b[0m in \u001b[0;36mto_datetime\u001b[0;34m(arg, errors, dayfirst, yearfirst, utc, format, exact, unit, infer_datetime_format, origin, cache)\u001b[0m\n\u001b[1;32m    726\u001b[0m             \u001b[0mresult\u001b[0m \u001b[0;34m=\u001b[0m \u001b[0marg\u001b[0m\u001b[0;34m.\u001b[0m\u001b[0mmap\u001b[0m\u001b[0;34m(\u001b[0m\u001b[0mcache_array\u001b[0m\u001b[0;34m)\u001b[0m\u001b[0;34m\u001b[0m\u001b[0;34m\u001b[0m\u001b[0m\n\u001b[1;32m    727\u001b[0m         \u001b[0;32melse\u001b[0m\u001b[0;34m:\u001b[0m\u001b[0;34m\u001b[0m\u001b[0;34m\u001b[0m\u001b[0m\n\u001b[0;32m--> 728\u001b[0;31m             \u001b[0mvalues\u001b[0m \u001b[0;34m=\u001b[0m \u001b[0mconvert_listlike\u001b[0m\u001b[0;34m(\u001b[0m\u001b[0marg\u001b[0m\u001b[0;34m.\u001b[0m\u001b[0m_values\u001b[0m\u001b[0;34m,\u001b[0m \u001b[0mformat\u001b[0m\u001b[0;34m)\u001b[0m\u001b[0;34m\u001b[0m\u001b[0;34m\u001b[0m\u001b[0m\n\u001b[0m\u001b[1;32m    729\u001b[0m             \u001b[0mresult\u001b[0m \u001b[0;34m=\u001b[0m \u001b[0marg\u001b[0m\u001b[0;34m.\u001b[0m\u001b[0m_constructor\u001b[0m\u001b[0;34m(\u001b[0m\u001b[0mvalues\u001b[0m\u001b[0;34m,\u001b[0m \u001b[0mindex\u001b[0m\u001b[0;34m=\u001b[0m\u001b[0marg\u001b[0m\u001b[0;34m.\u001b[0m\u001b[0mindex\u001b[0m\u001b[0;34m,\u001b[0m \u001b[0mname\u001b[0m\u001b[0;34m=\u001b[0m\u001b[0marg\u001b[0m\u001b[0;34m.\u001b[0m\u001b[0mname\u001b[0m\u001b[0;34m)\u001b[0m\u001b[0;34m\u001b[0m\u001b[0;34m\u001b[0m\u001b[0m\n\u001b[1;32m    730\u001b[0m     \u001b[0;32melif\u001b[0m \u001b[0misinstance\u001b[0m\u001b[0;34m(\u001b[0m\u001b[0marg\u001b[0m\u001b[0;34m,\u001b[0m \u001b[0;34m(\u001b[0m\u001b[0mABCDataFrame\u001b[0m\u001b[0;34m,\u001b[0m \u001b[0mabc\u001b[0m\u001b[0;34m.\u001b[0m\u001b[0mMutableMapping\u001b[0m\u001b[0;34m)\u001b[0m\u001b[0;34m)\u001b[0m\u001b[0;34m:\u001b[0m\u001b[0;34m\u001b[0m\u001b[0;34m\u001b[0m\u001b[0m\n",
            "\u001b[0;32m/usr/local/lib/python3.6/dist-packages/pandas/core/tools/datetimes.py\u001b[0m in \u001b[0;36m_convert_listlike_datetimes\u001b[0;34m(arg, format, name, tz, unit, errors, infer_datetime_format, dayfirst, yearfirst, exact)\u001b[0m\n\u001b[1;32m    433\u001b[0m                 \u001b[0;32mreturn\u001b[0m \u001b[0mDatetimeIndex\u001b[0m\u001b[0;34m.\u001b[0m\u001b[0m_simple_new\u001b[0m\u001b[0;34m(\u001b[0m\u001b[0mvalues\u001b[0m\u001b[0;34m,\u001b[0m \u001b[0mname\u001b[0m\u001b[0;34m=\u001b[0m\u001b[0mname\u001b[0m\u001b[0;34m,\u001b[0m \u001b[0mtz\u001b[0m\u001b[0;34m=\u001b[0m\u001b[0mtz\u001b[0m\u001b[0;34m)\u001b[0m\u001b[0;34m\u001b[0m\u001b[0;34m\u001b[0m\u001b[0m\n\u001b[1;32m    434\u001b[0m             \u001b[0;32mexcept\u001b[0m \u001b[0;34m(\u001b[0m\u001b[0mValueError\u001b[0m\u001b[0;34m,\u001b[0m \u001b[0mTypeError\u001b[0m\u001b[0;34m)\u001b[0m\u001b[0;34m:\u001b[0m\u001b[0;34m\u001b[0m\u001b[0;34m\u001b[0m\u001b[0m\n\u001b[0;32m--> 435\u001b[0;31m                 \u001b[0;32mraise\u001b[0m \u001b[0me\u001b[0m\u001b[0;34m\u001b[0m\u001b[0;34m\u001b[0m\u001b[0m\n\u001b[0m\u001b[1;32m    436\u001b[0m \u001b[0;34m\u001b[0m\u001b[0m\n\u001b[1;32m    437\u001b[0m     \u001b[0;32mif\u001b[0m \u001b[0mresult\u001b[0m \u001b[0;32mis\u001b[0m \u001b[0;32mNone\u001b[0m\u001b[0;34m:\u001b[0m\u001b[0;34m\u001b[0m\u001b[0;34m\u001b[0m\u001b[0m\n",
            "\u001b[0;32m/usr/local/lib/python3.6/dist-packages/pandas/core/tools/datetimes.py\u001b[0m in \u001b[0;36m_convert_listlike_datetimes\u001b[0;34m(arg, format, name, tz, unit, errors, infer_datetime_format, dayfirst, yearfirst, exact)\u001b[0m\n\u001b[1;32m    398\u001b[0m                 \u001b[0;32mtry\u001b[0m\u001b[0;34m:\u001b[0m\u001b[0;34m\u001b[0m\u001b[0;34m\u001b[0m\u001b[0m\n\u001b[1;32m    399\u001b[0m                     result, timezones = array_strptime(\n\u001b[0;32m--> 400\u001b[0;31m                         \u001b[0marg\u001b[0m\u001b[0;34m,\u001b[0m \u001b[0mformat\u001b[0m\u001b[0;34m,\u001b[0m \u001b[0mexact\u001b[0m\u001b[0;34m=\u001b[0m\u001b[0mexact\u001b[0m\u001b[0;34m,\u001b[0m \u001b[0merrors\u001b[0m\u001b[0;34m=\u001b[0m\u001b[0merrors\u001b[0m\u001b[0;34m\u001b[0m\u001b[0;34m\u001b[0m\u001b[0m\n\u001b[0m\u001b[1;32m    401\u001b[0m                     )\n\u001b[1;32m    402\u001b[0m                     \u001b[0;32mif\u001b[0m \u001b[0;34m\"%Z\"\u001b[0m \u001b[0;32min\u001b[0m \u001b[0mformat\u001b[0m \u001b[0;32mor\u001b[0m \u001b[0;34m\"%z\"\u001b[0m \u001b[0;32min\u001b[0m \u001b[0mformat\u001b[0m\u001b[0;34m:\u001b[0m\u001b[0;34m\u001b[0m\u001b[0;34m\u001b[0m\u001b[0m\n",
            "\u001b[0;32mpandas/_libs/tslibs/strptime.pyx\u001b[0m in \u001b[0;36mpandas._libs.tslibs.strptime.array_strptime\u001b[0;34m()\u001b[0m\n",
            "\u001b[0;31mValueError\u001b[0m: time data '01-04' does not match format '2010-%M-%d' (match)"
          ]
        }
      ]
    },
    {
      "cell_type": "code",
      "metadata": {
        "id": "pU0oWoRV6Bbw",
        "colab_type": "code",
        "colab": {
          "base_uri": "https://localhost:8080/",
          "height": 204
        },
        "outputId": "8147df4b-18b5-4b39-d475-20be6bd32a58"
      },
      "source": [
        "weather.head()"
      ],
      "execution_count": 189,
      "outputs": [
        {
          "output_type": "execute_result",
          "data": {
            "text/html": [
              "<div>\n",
              "<style scoped>\n",
              "    .dataframe tbody tr th:only-of-type {\n",
              "        vertical-align: middle;\n",
              "    }\n",
              "\n",
              "    .dataframe tbody tr th {\n",
              "        vertical-align: top;\n",
              "    }\n",
              "\n",
              "    .dataframe thead th {\n",
              "        text-align: right;\n",
              "    }\n",
              "</style>\n",
              "<table border=\"1\" class=\"dataframe\">\n",
              "  <thead>\n",
              "    <tr style=\"text-align: right;\">\n",
              "      <th></th>\n",
              "      <th>날짜</th>\n",
              "      <th>지점_x</th>\n",
              "      <th>평균기온(℃)</th>\n",
              "      <th>최저기온(℃)</th>\n",
              "      <th>최고기온(℃)</th>\n",
              "      <th>지점_y</th>\n",
              "      <th>강수량(mm)</th>\n",
              "    </tr>\n",
              "  </thead>\n",
              "  <tbody>\n",
              "    <tr>\n",
              "      <th>0</th>\n",
              "      <td>2010-01-01</td>\n",
              "      <td>159</td>\n",
              "      <td>-1.6</td>\n",
              "      <td>-6.7</td>\n",
              "      <td>4.3</td>\n",
              "      <td>159</td>\n",
              "      <td>0.0</td>\n",
              "    </tr>\n",
              "    <tr>\n",
              "      <th>1</th>\n",
              "      <td>2010-01-02</td>\n",
              "      <td>159</td>\n",
              "      <td>4.7</td>\n",
              "      <td>-0.9</td>\n",
              "      <td>11.3</td>\n",
              "      <td>159</td>\n",
              "      <td>0.0</td>\n",
              "    </tr>\n",
              "    <tr>\n",
              "      <th>2</th>\n",
              "      <td>2010-01-03</td>\n",
              "      <td>159</td>\n",
              "      <td>1.7</td>\n",
              "      <td>-2.0</td>\n",
              "      <td>5.9</td>\n",
              "      <td>159</td>\n",
              "      <td>0.0</td>\n",
              "    </tr>\n",
              "    <tr>\n",
              "      <th>3</th>\n",
              "      <td>2010-01-04</td>\n",
              "      <td>159</td>\n",
              "      <td>3.9</td>\n",
              "      <td>0.4</td>\n",
              "      <td>9.4</td>\n",
              "      <td>159</td>\n",
              "      <td>3.5</td>\n",
              "    </tr>\n",
              "    <tr>\n",
              "      <th>4</th>\n",
              "      <td>2010-01-05</td>\n",
              "      <td>159</td>\n",
              "      <td>-1.2</td>\n",
              "      <td>-4.4</td>\n",
              "      <td>2.6</td>\n",
              "      <td>159</td>\n",
              "      <td>0.0</td>\n",
              "    </tr>\n",
              "  </tbody>\n",
              "</table>\n",
              "</div>"
            ],
            "text/plain": [
              "          날짜  지점_x  평균기온(℃)  최저기온(℃)  최고기온(℃)  지점_y  강수량(mm)\n",
              "0 2010-01-01   159     -1.6     -6.7      4.3   159      0.0\n",
              "1 2010-01-02   159      4.7     -0.9     11.3   159      0.0\n",
              "2 2010-01-03   159      1.7     -2.0      5.9   159      0.0\n",
              "3 2010-01-04   159      3.9      0.4      9.4   159      3.5\n",
              "4 2010-01-05   159     -1.2     -4.4      2.6   159      0.0"
            ]
          },
          "metadata": {
            "tags": []
          },
          "execution_count": 189
        }
      ]
    },
    {
      "cell_type": "code",
      "metadata": {
        "id": "w067V8gz748x",
        "colab_type": "code",
        "colab": {
          "base_uri": "https://localhost:8080/",
          "height": 204
        },
        "outputId": "effbf65d-e968-4539-e0ca-59395d26b316"
      },
      "source": [
        "df.head()"
      ],
      "execution_count": 190,
      "outputs": [
        {
          "output_type": "execute_result",
          "data": {
            "text/html": [
              "<div>\n",
              "<style scoped>\n",
              "    .dataframe tbody tr th:only-of-type {\n",
              "        vertical-align: middle;\n",
              "    }\n",
              "\n",
              "    .dataframe tbody tr th {\n",
              "        vertical-align: top;\n",
              "    }\n",
              "\n",
              "    .dataframe thead th {\n",
              "        text-align: right;\n",
              "    }\n",
              "</style>\n",
              "<table border=\"1\" class=\"dataframe\">\n",
              "  <thead>\n",
              "    <tr style=\"text-align: right;\">\n",
              "      <th></th>\n",
              "      <th>price</th>\n",
              "      <th>날짜</th>\n",
              "      <th>날</th>\n",
              "    </tr>\n",
              "  </thead>\n",
              "  <tbody>\n",
              "    <tr>\n",
              "      <th>1</th>\n",
              "      <td>31,333</td>\n",
              "      <td>01-04</td>\n",
              "      <td>1900-01-04 00:01:00</td>\n",
              "    </tr>\n",
              "    <tr>\n",
              "      <th>2</th>\n",
              "      <td>31,333</td>\n",
              "      <td>01-05</td>\n",
              "      <td>1900-01-05 00:01:00</td>\n",
              "    </tr>\n",
              "    <tr>\n",
              "      <th>3</th>\n",
              "      <td>31,333</td>\n",
              "      <td>01-06</td>\n",
              "      <td>1900-01-06 00:01:00</td>\n",
              "    </tr>\n",
              "    <tr>\n",
              "      <th>4</th>\n",
              "      <td>31,333</td>\n",
              "      <td>01-07</td>\n",
              "      <td>1900-01-07 00:01:00</td>\n",
              "    </tr>\n",
              "    <tr>\n",
              "      <th>5</th>\n",
              "      <td>31,333</td>\n",
              "      <td>01-08</td>\n",
              "      <td>1900-01-08 00:01:00</td>\n",
              "    </tr>\n",
              "  </tbody>\n",
              "</table>\n",
              "</div>"
            ],
            "text/plain": [
              "    price     날짜                   날\n",
              "1  31,333  01-04 1900-01-04 00:01:00\n",
              "2  31,333  01-05 1900-01-05 00:01:00\n",
              "3  31,333  01-06 1900-01-06 00:01:00\n",
              "4  31,333  01-07 1900-01-07 00:01:00\n",
              "5  31,333  01-08 1900-01-08 00:01:00"
            ]
          },
          "metadata": {
            "tags": []
          },
          "execution_count": 190
        }
      ]
    },
    {
      "cell_type": "code",
      "metadata": {
        "id": "MtKDA6nX9I6F",
        "colab_type": "code",
        "colab": {}
      },
      "source": [
        "2010 > 220"
      ],
      "execution_count": 0,
      "outputs": []
    },
    {
      "cell_type": "code",
      "metadata": {
        "id": "20LAwI7e9Uie",
        "colab_type": "code",
        "colab": {
          "base_uri": "https://localhost:8080/",
          "height": 53
        },
        "outputId": "99534f05-f531-45e7-f3a1-9bfd7461e7dc"
      },
      "source": [
        "df['날짜'].iloc[:1]"
      ],
      "execution_count": 212,
      "outputs": [
        {
          "output_type": "execute_result",
          "data": {
            "text/plain": [
              "1    01-04\n",
              "Name: 날짜, dtype: object"
            ]
          },
          "metadata": {
            "tags": []
          },
          "execution_count": 212
        }
      ]
    },
    {
      "cell_type": "code",
      "metadata": {
        "id": "zS2s4jb-8gWc",
        "colab_type": "code",
        "colab": {}
      },
      "source": [
        "for i in range(1,df['날짜'].iloc[:220].shape[0]):\n",
        "  df['날'].iloc[:i]='2010-'+ df['날짜'].iloc[:i] # 2010"
      ],
      "execution_count": 0,
      "outputs": []
    },
    {
      "cell_type": "code",
      "metadata": {
        "id": "2NZsXFrv-O1c",
        "colab_type": "code",
        "colab": {}
      },
      "source": [
        "tmp1=220\n",
        "tmp2=423\n",
        "for i in range(tmp1,tmp2):\n",
        "  df['날'].iloc[:i]='2011-'+ df['날짜'].iloc[:i] # 2011"
      ],
      "execution_count": 0,
      "outputs": []
    },
    {
      "cell_type": "code",
      "metadata": {
        "id": "7qHfe-fZ_nJQ",
        "colab_type": "code",
        "colab": {}
      },
      "source": [
        "df['날짜'].iloc[425:632] # 2012 "
      ],
      "execution_count": 0,
      "outputs": []
    },
    {
      "cell_type": "code",
      "metadata": {
        "id": "VoeChVb6_d-E",
        "colab_type": "code",
        "colab": {}
      },
      "source": [
        "tmp1=423\n",
        "tmp2=632\n",
        "for i in range(tmp1,tmp2):\n",
        "  df['날'].iloc[:i]='2012-'+ df['날짜'].iloc[:i] # 2012"
      ],
      "execution_count": 0,
      "outputs": []
    },
    {
      "cell_type": "code",
      "metadata": {
        "id": "I63KJmpS_0fT",
        "colab_type": "code",
        "colab": {
          "base_uri": "https://localhost:8080/",
          "height": 233
        },
        "outputId": "61d4b3ae-7f62-4ee2-c068-400ee8479c9e"
      },
      "source": [
        "df['날짜'].iloc[633:845] # 2013"
      ],
      "execution_count": 251,
      "outputs": [
        {
          "output_type": "execute_result",
          "data": {
            "text/plain": [
              "634    01-03\n",
              "635    01-04\n",
              "636    01-07\n",
              "637    01-08\n",
              "638    01-09\n",
              "       ...  \n",
              "841    12-24\n",
              "842    12-26\n",
              "843    12-27\n",
              "844    12-30\n",
              "845    12-31\n",
              "Name: 날짜, Length: 212, dtype: object"
            ]
          },
          "metadata": {
            "tags": []
          },
          "execution_count": 251
        }
      ]
    },
    {
      "cell_type": "code",
      "metadata": {
        "id": "VojHpE_6_d7v",
        "colab_type": "code",
        "colab": {}
      },
      "source": [
        "tmp1=632\n",
        "tmp2=845\n",
        "for i in range(tmp1,tmp2):\n",
        "  df['날'].iloc[:i]='2013-'+ df['날짜'].iloc[:i] # 2013"
      ],
      "execution_count": 0,
      "outputs": []
    },
    {
      "cell_type": "code",
      "metadata": {
        "id": "Wfdb96EPB5Oh",
        "colab_type": "code",
        "colab": {}
      },
      "source": [
        "df['날짜'].iloc[846:1054] # 2014"
      ],
      "execution_count": 0,
      "outputs": []
    },
    {
      "cell_type": "code",
      "metadata": {
        "id": "A7S3TxaX_d3O",
        "colab_type": "code",
        "colab": {}
      },
      "source": [
        "tmp1=845\n",
        "tmp2=1054\n",
        "for i in range(tmp1,tmp2):\n",
        "  df['날'].iloc[:i]='2014-'+ df['날짜'].iloc[:i] # 2014"
      ],
      "execution_count": 0,
      "outputs": []
    },
    {
      "cell_type": "code",
      "metadata": {
        "id": "fqGLkwkBCD6f",
        "colab_type": "code",
        "colab": {
          "base_uri": "https://localhost:8080/",
          "height": 233
        },
        "outputId": "64b33ee5-5e1e-43bc-d9a8-043e49aef175"
      },
      "source": [
        "df['날짜'].iloc[1055:1259] # 2015"
      ],
      "execution_count": 260,
      "outputs": [
        {
          "output_type": "execute_result",
          "data": {
            "text/plain": [
              "1056    01-05\n",
              "1057    01-06\n",
              "1058    01-07\n",
              "1059    01-08\n",
              "1060    01-09\n",
              "        ...  \n",
              "1255    12-24\n",
              "1256    12-28\n",
              "1257    12-29\n",
              "1258    12-30\n",
              "1259    12-31\n",
              "Name: 날짜, Length: 204, dtype: object"
            ]
          },
          "metadata": {
            "tags": []
          },
          "execution_count": 260
        }
      ]
    },
    {
      "cell_type": "code",
      "metadata": {
        "id": "ukzjcIjT_d1l",
        "colab_type": "code",
        "colab": {}
      },
      "source": [
        "tmp1=1054\n",
        "tmp2=1259\n",
        "for i in range(tmp1,tmp2):\n",
        "  df['날'].iloc[:i]='2015-'+ df['날짜'].iloc[:i] # 2015"
      ],
      "execution_count": 0,
      "outputs": []
    },
    {
      "cell_type": "code",
      "metadata": {
        "id": "ZaNk54QeD-oV",
        "colab_type": "code",
        "colab": {
          "base_uri": "https://localhost:8080/",
          "height": 89
        },
        "outputId": "186c68ef-bee1-4d79-e617-47fe601d0ceb"
      },
      "source": [
        "df.iloc[219]"
      ],
      "execution_count": 338,
      "outputs": [
        {
          "output_type": "execute_result",
          "data": {
            "text/plain": [
              "price        60,000\n",
              "날짜            12-31\n",
              "날        2012-12-31\n",
              "Name: 220, dtype: object"
            ]
          },
          "metadata": {
            "tags": []
          },
          "execution_count": 338
        }
      ]
    },
    {
      "cell_type": "code",
      "metadata": {
        "id": "TH-W-1lGCLFN",
        "colab_type": "code",
        "colab": {
          "base_uri": "https://localhost:8080/",
          "height": 233
        },
        "outputId": "5f9e44ab-bd99-4090-9555-c24e89b0f721"
      },
      "source": [
        "df['날짜'].iloc[1260:1473] # 2016"
      ],
      "execution_count": 266,
      "outputs": [
        {
          "output_type": "execute_result",
          "data": {
            "text/plain": [
              "1261    01-05\n",
              "1262    01-06\n",
              "1263    01-07\n",
              "1264    01-08\n",
              "1265    01-11\n",
              "        ...  \n",
              "1469    12-26\n",
              "1470    12-27\n",
              "1471    12-28\n",
              "1472    12-29\n",
              "1473    12-30\n",
              "Name: 날짜, Length: 213, dtype: object"
            ]
          },
          "metadata": {
            "tags": []
          },
          "execution_count": 266
        }
      ]
    },
    {
      "cell_type": "code",
      "metadata": {
        "id": "Zad05kya_dzJ",
        "colab_type": "code",
        "colab": {}
      },
      "source": [
        "tmp1=1259\n",
        "tmp2=1473\n",
        "for i in range(tmp1,tmp2):\n",
        "  df['날'].iloc[:i]='2016-'+ df['날짜'].iloc[:i] # 2016"
      ],
      "execution_count": 0,
      "outputs": []
    },
    {
      "cell_type": "code",
      "metadata": {
        "id": "RCklvsoOCUMu",
        "colab_type": "code",
        "colab": {
          "base_uri": "https://localhost:8080/",
          "height": 233
        },
        "outputId": "6400076c-3128-4ff4-e133-733333fd70d7"
      },
      "source": [
        "df['날짜'].iloc[1474:1679] # 2017"
      ],
      "execution_count": 271,
      "outputs": [
        {
          "output_type": "execute_result",
          "data": {
            "text/plain": [
              "1475    01-03\n",
              "1476    01-04\n",
              "1477    01-05\n",
              "1478    01-06\n",
              "1479    01-09\n",
              "        ...  \n",
              "1675    12-22\n",
              "1676    12-26\n",
              "1677    12-27\n",
              "1678    12-28\n",
              "1679    12-29\n",
              "Name: 날짜, Length: 205, dtype: object"
            ]
          },
          "metadata": {
            "tags": []
          },
          "execution_count": 271
        }
      ]
    },
    {
      "cell_type": "code",
      "metadata": {
        "id": "nRcXqiDY_dwm",
        "colab_type": "code",
        "colab": {}
      },
      "source": [
        "tmp1=1473\n",
        "tmp2=1679\n",
        "for i in range(tmp1,tmp2):\n",
        "  df['날'].iloc[:i]='2017-'+ df['날짜'].iloc[:i] # 2017"
      ],
      "execution_count": 0,
      "outputs": []
    },
    {
      "cell_type": "code",
      "metadata": {
        "id": "Og0j96LECfLe",
        "colab_type": "code",
        "colab": {
          "base_uri": "https://localhost:8080/",
          "height": 233
        },
        "outputId": "ac5f1941-54c4-43e7-8c4f-98bba54fb429"
      },
      "source": [
        "df['날짜'].iloc[1680:1898] # 2018"
      ],
      "execution_count": 277,
      "outputs": [
        {
          "output_type": "execute_result",
          "data": {
            "text/plain": [
              "1681    01-03\n",
              "1682    01-04\n",
              "1683    01-05\n",
              "1684    01-08\n",
              "1685    01-09\n",
              "        ...  \n",
              "1894    12-24\n",
              "1895    12-26\n",
              "1896    12-27\n",
              "1897    12-28\n",
              "1898    12-31\n",
              "Name: 날짜, Length: 218, dtype: object"
            ]
          },
          "metadata": {
            "tags": []
          },
          "execution_count": 277
        }
      ]
    },
    {
      "cell_type": "code",
      "metadata": {
        "id": "TuphSDUZ_dqB",
        "colab_type": "code",
        "colab": {}
      },
      "source": [
        "tmp1=1679\n",
        "tmp2=1898\n",
        "for i in range(tmp1,tmp2):\n",
        "  df['날'].iloc[:i]='2018-'+ df['날짜'].iloc[:i] # 2018"
      ],
      "execution_count": 0,
      "outputs": []
    },
    {
      "cell_type": "code",
      "metadata": {
        "id": "1rfYVcLeCqD_",
        "colab_type": "code",
        "colab": {
          "base_uri": "https://localhost:8080/",
          "height": 233
        },
        "outputId": "ef5523f3-c710-4a4b-f732-f853bd7ab12b"
      },
      "source": [
        "df['날짜'].iloc[1899:2121] # 2019"
      ],
      "execution_count": 299,
      "outputs": [
        {
          "output_type": "execute_result",
          "data": {
            "text/plain": [
              "1900    01-03\n",
              "1901    01-04\n",
              "1902    01-07\n",
              "1903    01-08\n",
              "1904    01-09\n",
              "        ...  \n",
              "2117    12-24\n",
              "2118    12-26\n",
              "2119    12-27\n",
              "2120    12-30\n",
              "2121    12-31\n",
              "Name: 날짜, Length: 222, dtype: object"
            ]
          },
          "metadata": {
            "tags": []
          },
          "execution_count": 299
        }
      ]
    },
    {
      "cell_type": "code",
      "metadata": {
        "id": "0AOdfv4s_kgs",
        "colab_type": "code",
        "colab": {}
      },
      "source": [
        "tmp1=1898\n",
        "tmp2=2122\n",
        "for i in range(tmp1,tmp2):\n",
        "  df['날'].iloc[:i]='2019-'+ df['날짜'].iloc[:i] # 2019"
      ],
      "execution_count": 0,
      "outputs": []
    },
    {
      "cell_type": "code",
      "metadata": {
        "id": "K45GRsJM-z2n",
        "colab_type": "code",
        "colab": {
          "base_uri": "https://localhost:8080/",
          "height": 89
        },
        "outputId": "a6a5dadc-f711-4202-8cbd-c5eff0c8249c"
      },
      "source": [
        "df.iloc[1054]"
      ],
      "execution_count": 343,
      "outputs": [
        {
          "output_type": "execute_result",
          "data": {
            "text/plain": [
              "price        36,667\n",
              "날짜            01-02\n",
              "날        2015-01-02\n",
              "Name: 1055, dtype: object"
            ]
          },
          "metadata": {
            "tags": []
          },
          "execution_count": 343
        }
      ]
    },
    {
      "cell_type": "code",
      "metadata": {
        "id": "bfLWpc6x8Iyo",
        "colab_type": "code",
        "colab": {
          "base_uri": "https://localhost:8080/",
          "height": 204
        },
        "outputId": "62b44641-b5d5-44d6-eb7b-9194c7e0a0b2"
      },
      "source": [
        "weather.head()"
      ],
      "execution_count": 243,
      "outputs": [
        {
          "output_type": "execute_result",
          "data": {
            "text/html": [
              "<div>\n",
              "<style scoped>\n",
              "    .dataframe tbody tr th:only-of-type {\n",
              "        vertical-align: middle;\n",
              "    }\n",
              "\n",
              "    .dataframe tbody tr th {\n",
              "        vertical-align: top;\n",
              "    }\n",
              "\n",
              "    .dataframe thead th {\n",
              "        text-align: right;\n",
              "    }\n",
              "</style>\n",
              "<table border=\"1\" class=\"dataframe\">\n",
              "  <thead>\n",
              "    <tr style=\"text-align: right;\">\n",
              "      <th></th>\n",
              "      <th>날짜</th>\n",
              "      <th>지점_x</th>\n",
              "      <th>평균기온(℃)</th>\n",
              "      <th>최저기온(℃)</th>\n",
              "      <th>최고기온(℃)</th>\n",
              "      <th>지점_y</th>\n",
              "      <th>강수량(mm)</th>\n",
              "    </tr>\n",
              "  </thead>\n",
              "  <tbody>\n",
              "    <tr>\n",
              "      <th>0</th>\n",
              "      <td>2010-01-01</td>\n",
              "      <td>159</td>\n",
              "      <td>-1.6</td>\n",
              "      <td>-6.7</td>\n",
              "      <td>4.3</td>\n",
              "      <td>159</td>\n",
              "      <td>0.0</td>\n",
              "    </tr>\n",
              "    <tr>\n",
              "      <th>1</th>\n",
              "      <td>2010-01-02</td>\n",
              "      <td>159</td>\n",
              "      <td>4.7</td>\n",
              "      <td>-0.9</td>\n",
              "      <td>11.3</td>\n",
              "      <td>159</td>\n",
              "      <td>0.0</td>\n",
              "    </tr>\n",
              "    <tr>\n",
              "      <th>2</th>\n",
              "      <td>2010-01-03</td>\n",
              "      <td>159</td>\n",
              "      <td>1.7</td>\n",
              "      <td>-2.0</td>\n",
              "      <td>5.9</td>\n",
              "      <td>159</td>\n",
              "      <td>0.0</td>\n",
              "    </tr>\n",
              "    <tr>\n",
              "      <th>3</th>\n",
              "      <td>2010-01-04</td>\n",
              "      <td>159</td>\n",
              "      <td>3.9</td>\n",
              "      <td>0.4</td>\n",
              "      <td>9.4</td>\n",
              "      <td>159</td>\n",
              "      <td>3.5</td>\n",
              "    </tr>\n",
              "    <tr>\n",
              "      <th>4</th>\n",
              "      <td>2010-01-05</td>\n",
              "      <td>159</td>\n",
              "      <td>-1.2</td>\n",
              "      <td>-4.4</td>\n",
              "      <td>2.6</td>\n",
              "      <td>159</td>\n",
              "      <td>0.0</td>\n",
              "    </tr>\n",
              "  </tbody>\n",
              "</table>\n",
              "</div>"
            ],
            "text/plain": [
              "          날짜  지점_x  평균기온(℃)  최저기온(℃)  최고기온(℃)  지점_y  강수량(mm)\n",
              "0 2010-01-01   159     -1.6     -6.7      4.3   159      0.0\n",
              "1 2010-01-02   159      4.7     -0.9     11.3   159      0.0\n",
              "2 2010-01-03   159      1.7     -2.0      5.9   159      0.0\n",
              "3 2010-01-04   159      3.9      0.4      9.4   159      3.5\n",
              "4 2010-01-05   159     -1.2     -4.4      2.6   159      0.0"
            ]
          },
          "metadata": {
            "tags": []
          },
          "execution_count": 243
        }
      ]
    },
    {
      "cell_type": "code",
      "metadata": {
        "id": "ju3IHRH6AVBF",
        "colab_type": "code",
        "colab": {}
      },
      "source": [
        "df['수정날짜1']=df['날짜']"
      ],
      "execution_count": 0,
      "outputs": []
    },
    {
      "cell_type": "code",
      "metadata": {
        "id": "Y74T1xJVAZS2",
        "colab_type": "code",
        "colab": {}
      },
      "source": [
        "df['날']=pd.to_datetime(df['날짜'], format='%Y-%m-%d')"
      ],
      "execution_count": 0,
      "outputs": []
    },
    {
      "cell_type": "code",
      "metadata": {
        "id": "R35asnrUHdVr",
        "colab_type": "code",
        "colab": {}
      },
      "source": [
        "df['날짜']=df['수정날짜']"
      ],
      "execution_count": 0,
      "outputs": []
    },
    {
      "cell_type": "code",
      "metadata": {
        "id": "IoDYuL5gErn5",
        "colab_type": "code",
        "colab": {}
      },
      "source": [
        "df['날짜']=pd.to_datetime(df['날짜'],format='%Y-%m-%d')"
      ],
      "execution_count": 0,
      "outputs": []
    },
    {
      "cell_type": "code",
      "metadata": {
        "id": "-WWrFX9aE9P1",
        "colab_type": "code",
        "colab": {}
      },
      "source": [
        "df1=pd.merge(df,weather,how='right',on='날짜')"
      ],
      "execution_count": 0,
      "outputs": []
    },
    {
      "cell_type": "code",
      "metadata": {
        "id": "7c-tN4XVFt59",
        "colab_type": "code",
        "colab": {}
      },
      "source": [
        "df2=df1.dropna().drop(columns=['날','수정날짜','수정날짜1','지점_x','지점_y'])"
      ],
      "execution_count": 0,
      "outputs": []
    },
    {
      "cell_type": "code",
      "metadata": {
        "id": "km7sT5ZRH_Rr",
        "colab_type": "code",
        "colab": {
          "base_uri": "https://localhost:8080/",
          "height": 283
        },
        "outputId": "dca6c13f-a2f3-4417-8500-f3c19045bf82"
      },
      "source": [
        "df2['price'].hist(bins=50)"
      ],
      "execution_count": 366,
      "outputs": [
        {
          "output_type": "execute_result",
          "data": {
            "text/plain": [
              "<matplotlib.axes._subplots.AxesSubplot at 0x7f28a5901940>"
            ]
          },
          "metadata": {
            "tags": []
          },
          "execution_count": 366
        },
        {
          "output_type": "display_data",
          "data": {
            "image/png": "[encoded data removed]",
            "text/plain": [
              "<Figure size 432x288 with 1 Axes>"
            ]
          },
          "metadata": {
            "tags": [],
            "needs_background": "light"
          }
        }
      ]
    },
    {
      "cell_type": "code",
      "metadata": {
        "id": "BglOSfd8IZLm",
        "colab_type": "code",
        "colab": {
          "base_uri": "https://localhost:8080/",
          "height": 35
        },
        "outputId": "987bf227-03b3-4105-b23c-7ea32e013e93"
      },
      "source": [
        "df2.columns"
      ],
      "execution_count": 367,
      "outputs": [
        {
          "output_type": "execute_result",
          "data": {
            "text/plain": [
              "Index(['price', '날짜', '평균기온(℃)', '최저기온(℃)', '최고기온(℃)', '강수량(mm)'], dtype='object')"
            ]
          },
          "metadata": {
            "tags": []
          },
          "execution_count": 367
        }
      ]
    },
    {
      "cell_type": "code",
      "metadata": {
        "id": "u3SECmOxIqi3",
        "colab_type": "code",
        "colab": {}
      },
      "source": [
        "cols=['price', '평균기온(℃)', '최저기온(℃)', '최고기온(℃)', '강수량(mm)']\n",
        "corr = df2[cols].corr(method = 'pearson')"
      ],
      "execution_count": 0,
      "outputs": []
    },
    {
      "cell_type": "code",
      "metadata": {
        "id": "y_jBcDpiIxPK",
        "colab_type": "code",
        "colab": {
          "base_uri": "https://localhost:8080/",
          "height": 1000
        },
        "outputId": "92a3cd8c-b519-464d-99ec-b260df8e58c6"
      },
      "source": [
        "fig= plt.figure(figsize=(16,20))\n",
        "ax = fig.gca()\n",
        "sns.set(font_scale=1.5)\n",
        "hm = sns.heatmap(corr.values,annot=True,fmt='.2f',annot_kws={'size':15},yticklabels=cols, xticklabels=cols, ax = ax)\n",
        "plt.tight_layout()\n",
        "plt.show()"
      ],
      "execution_count": 369,
      "outputs": [
        {
          "output_type": "display_data",
          "data": {
            "image/png": "[encoded data removed]",
            "text/plain": [
              "<Figure size 1152x1440 with 2 Axes>"
            ]
          },
          "metadata": {
            "tags": [],
            "needs_background": "light"
          }
        }
      ]
    },
    {
      "cell_type": "code",
      "metadata": {
        "id": "JsvAWYPvI1oq",
        "colab_type": "code",
        "colab": {}
      },
      "source": [
        ""
      ],
      "execution_count": 0,
      "outputs": []
    }
  ]
}