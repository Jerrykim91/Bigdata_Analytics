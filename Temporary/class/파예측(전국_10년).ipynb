{
  "nbformat": 4,
  "nbformat_minor": 0,
  "metadata": {
    "colab": {
      "name": "파예측(전국_10년).ipynb",
      "provenance": []
    },
    "kernelspec": {
      "name": "python3",
      "display_name": "Python 3"
    }
  },
  "cells": [
    {
      "cell_type": "code",
      "metadata": {
        "id": "7rgZksZbUQbH",
        "colab_type": "code",
        "outputId": "d4c1c762-c52c-4596-e2ea-d53c1f20161b",
        "colab": {
          "base_uri": "https://localhost:8080/",
          "height": 53
        }
      },
      "source": [
        "import pandas as pd\n",
        "import numpy as np\n",
        "import matplotlib.pyplot as plt\n",
        "import seaborn as sns\n",
        "import warnings\n",
        "warnings.filterwarnings('ignore')\n",
        "%matplotlib inline"
      ],
      "execution_count": 0,
      "outputs": [
        {
          "output_type": "stream",
          "text": [
            "/usr/local/lib/python3.6/dist-packages/statsmodels/tools/_testing.py:19: FutureWarning: pandas.util.testing is deprecated. Use the functions in the public API at pandas.testing instead.\n",
            "  import pandas.util.testing as tm\n"
          ],
          "name": "stderr"
        }
      ]
    },
    {
      "cell_type": "code",
      "metadata": {
        "id": "__LQ7WnYUXqr",
        "colab_type": "code",
        "colab": {}
      },
      "source": [
        "tem=pd.read_csv('/content/drive/My Drive/파예측(전국10년)/data/statisticsDivision_20200416134357_기온,강수.csv',encoding='euc-kr',sep='\\n')\n",
        "wind=pd.read_csv('/content/drive/My Drive/파예측(전국10년)/data/statisticsDivision_20200416134346_바람.csv',encoding='euc-kr',sep='\\n')\n",
        "atm=pd.read_csv('/content/drive/My Drive/파예측(전국10년)/data/statisticsDivision_20200416134321_기압.csv',encoding='euc-kr',sep='\\n')\n",
        "wet=pd.read_csv('/content/drive/My Drive/파예측(전국10년)/data/statisticsDivision_20200416134311_습도.csv',encoding='euc-kr',sep='\\n')\n",
        "sol=pd.read_csv('/content/drive/My Drive/파예측(전국10년)/data/statisticsDivision_20200416133628일사,일조.csv',encoding='euc-kr',sep='\\n')"
      ],
      "execution_count": 0,
      "outputs": []
    },
    {
      "cell_type": "code",
      "metadata": {
        "id": "adkgZgyJXiQM",
        "colab_type": "code",
        "colab": {}
      },
      "source": [
        "tem=pd.read_csv('/content/drive/My Drive/파예측(전국10년)/data/statisticsDivision_20200416134357_기온,강수.csv',encoding='euc-kr',sep=',',skiprows=9)"
      ],
      "execution_count": 0,
      "outputs": []
    },
    {
      "cell_type": "code",
      "metadata": {
        "id": "TjNcaOIHWh-O",
        "colab_type": "code",
        "colab": {}
      },
      "source": [
        "wind=pd.read_csv('/content/drive/My Drive/파예측(전국10년)/data/statisticsDivision_20200416134346_바람.csv',encoding='euc-kr',sep=',',skiprows=10)"
      ],
      "execution_count": 0,
      "outputs": []
    },
    {
      "cell_type": "code",
      "metadata": {
        "id": "g-splU9VWKcX",
        "colab_type": "code",
        "colab": {}
      },
      "source": [
        "atm=pd.read_csv('/content/drive/My Drive/파예측(전국10년)/data/statisticsDivision_20200416134321_기압.csv',encoding='euc-kr',sep=',',skiprows=11)\n"
      ],
      "execution_count": 0,
      "outputs": []
    },
    {
      "cell_type": "code",
      "metadata": {
        "id": "vHyxJ2UnU6Gx",
        "colab_type": "code",
        "colab": {}
      },
      "source": [
        "wet=pd.read_csv('/content/drive/My Drive/파예측(전국10년)/data/statisticsDivision_20200416134311_습도.csv',encoding='euc-kr',sep=',',skiprows=12)"
      ],
      "execution_count": 0,
      "outputs": []
    },
    {
      "cell_type": "code",
      "metadata": {
        "id": "Lr9U1ixoZAwE",
        "colab_type": "code",
        "colab": {}
      },
      "source": [
        "sol=pd.read_csv('/content/drive/My Drive/파예측(전국10년)/data/statisticsDivision_20200416133628일사,일조.csv',encoding='euc-kr',sep=',',skiprows=13)"
      ],
      "execution_count": 0,
      "outputs": []
    },
    {
      "cell_type": "code",
      "metadata": {
        "id": "Uiutg9dKZK9u",
        "colab_type": "code",
        "colab": {}
      },
      "source": [
        "price_pa=pd.read_csv('/content/drive/My Drive/파예측(전국10년)/data/가격정보_pa.csv')"
      ],
      "execution_count": 0,
      "outputs": []
    },
    {
      "cell_type": "code",
      "metadata": {
        "id": "C0HrWBBBZSad",
        "colab_type": "code",
        "outputId": "28d2327d-1475-4c3a-e27f-1d28673cf709",
        "colab": {
          "base_uri": "https://localhost:8080/",
          "height": 204
        }
      },
      "source": [
        ""
      ],
      "execution_count": 0,
      "outputs": [
        {
          "output_type": "execute_result",
          "data": {
            "text/html": [
              "<div>\n",
              "<style scoped>\n",
              "    .dataframe tbody tr th:only-of-type {\n",
              "        vertical-align: middle;\n",
              "    }\n",
              "\n",
              "    .dataframe tbody tr th {\n",
              "        vertical-align: top;\n",
              "    }\n",
              "\n",
              "    .dataframe thead th {\n",
              "        text-align: right;\n",
              "    }\n",
              "</style>\n",
              "<table border=\"1\" class=\"dataframe\">\n",
              "  <thead>\n",
              "    <tr style=\"text-align: right;\">\n",
              "      <th></th>\n",
              "      <th>구분</th>\n",
              "      <th>1월</th>\n",
              "      <th>2월</th>\n",
              "      <th>3월</th>\n",
              "      <th>4월</th>\n",
              "      <th>5월</th>\n",
              "      <th>6월</th>\n",
              "      <th>7월</th>\n",
              "      <th>8월</th>\n",
              "      <th>9월</th>\n",
              "      <th>10월</th>\n",
              "      <th>11월</th>\n",
              "      <th>12월</th>\n",
              "      <th>연평균</th>\n",
              "    </tr>\n",
              "  </thead>\n",
              "  <tbody>\n",
              "    <tr>\n",
              "      <th>0</th>\n",
              "      <td>2010</td>\n",
              "      <td>2,268</td>\n",
              "      <td>2,491</td>\n",
              "      <td>2,571</td>\n",
              "      <td>2,701</td>\n",
              "      <td>3,082</td>\n",
              "      <td>3,094</td>\n",
              "      <td>2,961</td>\n",
              "      <td>2,498</td>\n",
              "      <td>4,908</td>\n",
              "      <td>5,909</td>\n",
              "      <td>4,844</td>\n",
              "      <td>4,161</td>\n",
              "      <td>3,460</td>\n",
              "    </tr>\n",
              "    <tr>\n",
              "      <th>1</th>\n",
              "      <td>2011</td>\n",
              "      <td>4,509</td>\n",
              "      <td>4,653</td>\n",
              "      <td>4,036</td>\n",
              "      <td>2,949</td>\n",
              "      <td>1,898</td>\n",
              "      <td>1,684</td>\n",
              "      <td>1,747</td>\n",
              "      <td>2,074</td>\n",
              "      <td>2,629</td>\n",
              "      <td>2,128</td>\n",
              "      <td>1,679</td>\n",
              "      <td>1,617</td>\n",
              "      <td>2,606</td>\n",
              "    </tr>\n",
              "    <tr>\n",
              "      <th>2</th>\n",
              "      <td>2012</td>\n",
              "      <td>1,797</td>\n",
              "      <td>2,303</td>\n",
              "      <td>2,086</td>\n",
              "      <td>1,737</td>\n",
              "      <td>2,233</td>\n",
              "      <td>2,956</td>\n",
              "      <td>2,759</td>\n",
              "      <td>2,978</td>\n",
              "      <td>3,924</td>\n",
              "      <td>3,859</td>\n",
              "      <td>3,335</td>\n",
              "      <td>3,425</td>\n",
              "      <td>2,783</td>\n",
              "    </tr>\n",
              "    <tr>\n",
              "      <th>3</th>\n",
              "      <td>2013</td>\n",
              "      <td>3,263</td>\n",
              "      <td>3,275</td>\n",
              "      <td>3,160</td>\n",
              "      <td>3,269</td>\n",
              "      <td>3,068</td>\n",
              "      <td>2,584</td>\n",
              "      <td>2,007</td>\n",
              "      <td>2,234</td>\n",
              "      <td>2,579</td>\n",
              "      <td>2,425</td>\n",
              "      <td>2,235</td>\n",
              "      <td>2,355</td>\n",
              "      <td>2,699</td>\n",
              "    </tr>\n",
              "    <tr>\n",
              "      <th>4</th>\n",
              "      <td>2014</td>\n",
              "      <td>2,019</td>\n",
              "      <td>2,099</td>\n",
              "      <td>2,011</td>\n",
              "      <td>1,802</td>\n",
              "      <td>1,756</td>\n",
              "      <td>1,788</td>\n",
              "      <td>1,836</td>\n",
              "      <td>2,124</td>\n",
              "      <td>2,333</td>\n",
              "      <td>2,079</td>\n",
              "      <td>1,893</td>\n",
              "      <td>2,424</td>\n",
              "      <td>2,011</td>\n",
              "    </tr>\n",
              "  </tbody>\n",
              "</table>\n",
              "</div>"
            ],
            "text/plain": [
              "     구분     1월     2월     3월     4월  ...     9월    10월    11월    12월    연평균\n",
              "0  2010  2,268  2,491  2,571  2,701  ...  4,908  5,909  4,844  4,161  3,460\n",
              "1  2011  4,509  4,653  4,036  2,949  ...  2,629  2,128  1,679  1,617  2,606\n",
              "2  2012  1,797  2,303  2,086  1,737  ...  3,924  3,859  3,335  3,425  2,783\n",
              "3  2013  3,263  3,275  3,160  3,269  ...  2,579  2,425  2,235  2,355  2,699\n",
              "4  2014  2,019  2,099  2,011  1,802  ...  2,333  2,079  1,893  2,424  2,011\n",
              "\n",
              "[5 rows x 14 columns]"
            ]
          },
          "metadata": {
            "tags": []
          },
          "execution_count": 53
        }
      ]
    },
    {
      "cell_type": "code",
      "metadata": {
        "id": "-l9DuuiUZ9Gu",
        "colab_type": "code",
        "outputId": "3cc999e9-06cc-4e6e-834c-233d0cdefa4e",
        "colab": {
          "base_uri": "https://localhost:8080/",
          "height": 35
        }
      },
      "source": [
        "tem.shape"
      ],
      "execution_count": 0,
      "outputs": [
        {
          "output_type": "execute_result",
          "data": {
            "text/plain": [
              "(293, 5)"
            ]
          },
          "metadata": {
            "tags": []
          },
          "execution_count": 9
        }
      ]
    },
    {
      "cell_type": "code",
      "metadata": {
        "id": "v_3mgVMjbap9",
        "colab_type": "code",
        "colab": {}
      },
      "source": [
        "tem=tem.drop(columns=['일시'])"
      ],
      "execution_count": 0,
      "outputs": []
    },
    {
      "cell_type": "code",
      "metadata": {
        "id": "m8HfQgElaKsF",
        "colab_type": "code",
        "outputId": "44c2b9b2-cae9-48b9-bbdd-e584a0ab5a21",
        "colab": {
          "base_uri": "https://localhost:8080/",
          "height": 35
        }
      },
      "source": [
        "wind.shape"
      ],
      "execution_count": 0,
      "outputs": [
        {
          "output_type": "execute_result",
          "data": {
            "text/plain": [
              "(293, 3)"
            ]
          },
          "metadata": {
            "tags": []
          },
          "execution_count": 11
        }
      ]
    },
    {
      "cell_type": "code",
      "metadata": {
        "id": "2_hqXpOQaUGL",
        "colab_type": "code",
        "outputId": "dc9c8615-8dc6-4bf0-e9ad-bc31872b8dc1",
        "colab": {
          "base_uri": "https://localhost:8080/",
          "height": 35
        }
      },
      "source": [
        "atm.shape"
      ],
      "execution_count": 0,
      "outputs": [
        {
          "output_type": "execute_result",
          "data": {
            "text/plain": [
              "(293, 7)"
            ]
          },
          "metadata": {
            "tags": []
          },
          "execution_count": 12
        }
      ]
    },
    {
      "cell_type": "code",
      "metadata": {
        "id": "88f7Tky9bn7U",
        "colab_type": "code",
        "colab": {}
      },
      "source": [
        "atm=atm.drop(columns=['일시'])"
      ],
      "execution_count": 0,
      "outputs": []
    },
    {
      "cell_type": "code",
      "metadata": {
        "id": "V6Qsb_BkaZFl",
        "colab_type": "code",
        "outputId": "90e6e293-35b1-4df8-a3ae-9471e84fbd27",
        "colab": {
          "base_uri": "https://localhost:8080/",
          "height": 35
        }
      },
      "source": [
        "wet.shape"
      ],
      "execution_count": 0,
      "outputs": [
        {
          "output_type": "execute_result",
          "data": {
            "text/plain": [
              "(293, 3)"
            ]
          },
          "metadata": {
            "tags": []
          },
          "execution_count": 14
        }
      ]
    },
    {
      "cell_type": "code",
      "metadata": {
        "id": "vXe2322PbqDV",
        "colab_type": "code",
        "colab": {}
      },
      "source": [
        "wet=wet.drop(columns=['일시'])"
      ],
      "execution_count": 0,
      "outputs": []
    },
    {
      "cell_type": "code",
      "metadata": {
        "id": "geWtELJTabLN",
        "colab_type": "code",
        "outputId": "df90d6e7-9ccc-42ad-9de6-d11e4d4b54e2",
        "colab": {
          "base_uri": "https://localhost:8080/",
          "height": 35
        }
      },
      "source": [
        "sol.shape"
      ],
      "execution_count": 0,
      "outputs": [
        {
          "output_type": "execute_result",
          "data": {
            "text/plain": [
              "(293, 3)"
            ]
          },
          "metadata": {
            "tags": []
          },
          "execution_count": 16
        }
      ]
    },
    {
      "cell_type": "code",
      "metadata": {
        "id": "z3x187NPbsJo",
        "colab_type": "code",
        "colab": {}
      },
      "source": [
        "sol=sol.drop(columns=['일시'])"
      ],
      "execution_count": 0,
      "outputs": []
    },
    {
      "cell_type": "code",
      "metadata": {
        "id": "RYPwEfUlac_4",
        "colab_type": "code",
        "outputId": "9d38c197-f18d-4ef3-d7e1-ca9c17a4c951",
        "colab": {
          "base_uri": "https://localhost:8080/",
          "height": 35
        }
      },
      "source": [
        "price_pa.shape"
      ],
      "execution_count": 0,
      "outputs": [
        {
          "output_type": "execute_result",
          "data": {
            "text/plain": [
              "(11, 14)"
            ]
          },
          "metadata": {
            "tags": []
          },
          "execution_count": 18
        }
      ]
    },
    {
      "cell_type": "code",
      "metadata": {
        "id": "_kSer2v3agSF",
        "colab_type": "code",
        "colab": {}
      },
      "source": [
        "all_weather = pd.concat([wind, tem, atm, wet, sol],axis=1)"
      ],
      "execution_count": 0,
      "outputs": []
    },
    {
      "cell_type": "code",
      "metadata": {
        "id": "2R_jXCTYbFQA",
        "colab_type": "code",
        "outputId": "e3293983-053a-4360-fd0b-54bb33d6ad77",
        "colab": {
          "base_uri": "https://localhost:8080/",
          "height": 35
        }
      },
      "source": [
        "all_weather.shape"
      ],
      "execution_count": 0,
      "outputs": [
        {
          "output_type": "execute_result",
          "data": {
            "text/plain": [
              "(293, 17)"
            ]
          },
          "metadata": {
            "tags": []
          },
          "execution_count": 20
        }
      ]
    },
    {
      "cell_type": "code",
      "metadata": {
        "id": "4WCML5Z3bJxH",
        "colab_type": "code",
        "outputId": "61ce3cf3-47af-4618-ae79-80c0200670dc",
        "colab": {
          "base_uri": "https://localhost:8080/",
          "height": 306
        }
      },
      "source": [
        "all_weather.head()"
      ],
      "execution_count": 0,
      "outputs": [
        {
          "output_type": "execute_result",
          "data": {
            "text/html": [
              "<div>\n",
              "<style scoped>\n",
              "    .dataframe tbody tr th:only-of-type {\n",
              "        vertical-align: middle;\n",
              "    }\n",
              "\n",
              "    .dataframe tbody tr th {\n",
              "        vertical-align: top;\n",
              "    }\n",
              "\n",
              "    .dataframe thead th {\n",
              "        text-align: right;\n",
              "    }\n",
              "</style>\n",
              "<table border=\"1\" class=\"dataframe\">\n",
              "  <thead>\n",
              "    <tr style=\"text-align: right;\">\n",
              "      <th></th>\n",
              "      <th>일시</th>\n",
              "      <th>평균풍속(m/s)</th>\n",
              "      <th>최대풍속(m/s)</th>\n",
              "      <th>평균기온(℃)</th>\n",
              "      <th>최고기온 평균(℃)</th>\n",
              "      <th>최저기온 평균(℃)</th>\n",
              "      <th>강수량(mm)</th>\n",
              "      <th>평균현지기압(hPa)</th>\n",
              "      <th>최고현지기압(hPa)</th>\n",
              "      <th>최저현지기압(hPa)</th>\n",
              "      <th>평균해면기압(hPa)</th>\n",
              "      <th>최고해면기압(hPa)</th>\n",
              "      <th>최저해면기압(hPa)</th>\n",
              "      <th>평균상대습도(%)</th>\n",
              "      <th>최소상대습도(%)</th>\n",
              "      <th>합계일조시간(hr)</th>\n",
              "      <th>합계전천일사량(MJ/㎡)</th>\n",
              "    </tr>\n",
              "  </thead>\n",
              "  <tbody>\n",
              "    <tr>\n",
              "      <th>0</th>\n",
              "      <td>1996-01</td>\n",
              "      <td>8.8</td>\n",
              "      <td>22.8</td>\n",
              "      <td>-0.9</td>\n",
              "      <td>4.8</td>\n",
              "      <td>-5.7</td>\n",
              "      <td>90.6</td>\n",
              "      <td>1024.4</td>\n",
              "      <td>NaN</td>\n",
              "      <td>NaN</td>\n",
              "      <td>1025.7</td>\n",
              "      <td>1039.6</td>\n",
              "      <td>1016.7</td>\n",
              "      <td>79.0</td>\n",
              "      <td>54</td>\n",
              "      <td>215.2</td>\n",
              "      <td>311.69</td>\n",
              "    </tr>\n",
              "    <tr>\n",
              "      <th>1</th>\n",
              "      <td>1996-02</td>\n",
              "      <td>10.2</td>\n",
              "      <td>22.2</td>\n",
              "      <td>-0.7</td>\n",
              "      <td>5.3</td>\n",
              "      <td>-5.9</td>\n",
              "      <td>114.2</td>\n",
              "      <td>1025.0</td>\n",
              "      <td>NaN</td>\n",
              "      <td>NaN</td>\n",
              "      <td>1026.5</td>\n",
              "      <td>1040.0</td>\n",
              "      <td>1005.6</td>\n",
              "      <td>78.0</td>\n",
              "      <td>46</td>\n",
              "      <td>229.7</td>\n",
              "      <td>393.65</td>\n",
              "    </tr>\n",
              "    <tr>\n",
              "      <th>2</th>\n",
              "      <td>1996-03</td>\n",
              "      <td>8.2</td>\n",
              "      <td>19.0</td>\n",
              "      <td>4.6</td>\n",
              "      <td>10.0</td>\n",
              "      <td>-0.3</td>\n",
              "      <td>264.0</td>\n",
              "      <td>1018.8</td>\n",
              "      <td>NaN</td>\n",
              "      <td>NaN</td>\n",
              "      <td>1020.4</td>\n",
              "      <td>1034.3</td>\n",
              "      <td>1000.7</td>\n",
              "      <td>78.0</td>\n",
              "      <td>44</td>\n",
              "      <td>200.6</td>\n",
              "      <td>428.12</td>\n",
              "    </tr>\n",
              "    <tr>\n",
              "      <th>3</th>\n",
              "      <td>1996-04</td>\n",
              "      <td>7.1</td>\n",
              "      <td>21.7</td>\n",
              "      <td>10.0</td>\n",
              "      <td>16.2</td>\n",
              "      <td>3.9</td>\n",
              "      <td>166.4</td>\n",
              "      <td>1018.1</td>\n",
              "      <td>NaN</td>\n",
              "      <td>NaN</td>\n",
              "      <td>1019.8</td>\n",
              "      <td>1034.2</td>\n",
              "      <td>1002.5</td>\n",
              "      <td>71.0</td>\n",
              "      <td>44</td>\n",
              "      <td>272.4</td>\n",
              "      <td>594.42</td>\n",
              "    </tr>\n",
              "    <tr>\n",
              "      <th>4</th>\n",
              "      <td>1996-05</td>\n",
              "      <td>4.9</td>\n",
              "      <td>19.8</td>\n",
              "      <td>16.8</td>\n",
              "      <td>23.3</td>\n",
              "      <td>10.8</td>\n",
              "      <td>139.0</td>\n",
              "      <td>1012.8</td>\n",
              "      <td>NaN</td>\n",
              "      <td>NaN</td>\n",
              "      <td>1014.6</td>\n",
              "      <td>1025.1</td>\n",
              "      <td>1004.5</td>\n",
              "      <td>81.0</td>\n",
              "      <td>46</td>\n",
              "      <td>290.6</td>\n",
              "      <td>618.50</td>\n",
              "    </tr>\n",
              "  </tbody>\n",
              "</table>\n",
              "</div>"
            ],
            "text/plain": [
              "         일시  평균풍속(m/s)  최대풍속(m/s)  ...  최소상대습도(%)  합계일조시간(hr)  합계전천일사량(MJ/㎡)\n",
              "0   1996-01        8.8       22.8  ...         54       215.2         311.69\n",
              "1   1996-02       10.2       22.2  ...         46       229.7         393.65\n",
              "2   1996-03        8.2       19.0  ...         44       200.6         428.12\n",
              "3   1996-04        7.1       21.7  ...         44       272.4         594.42\n",
              "4   1996-05        4.9       19.8  ...         46       290.6         618.50\n",
              "\n",
              "[5 rows x 17 columns]"
            ]
          },
          "metadata": {
            "tags": []
          },
          "execution_count": 21
        }
      ]
    },
    {
      "cell_type": "code",
      "metadata": {
        "id": "-3e-sjsvbUUF",
        "colab_type": "code",
        "outputId": "9b921716-ad72-4a9f-f62c-e9b79060e7cf",
        "colab": {
          "base_uri": "https://localhost:8080/",
          "height": 341
        }
      },
      "source": [
        "all_weather.isnull().sum()"
      ],
      "execution_count": 0,
      "outputs": [
        {
          "output_type": "execute_result",
          "data": {
            "text/plain": [
              "일시                0\n",
              "평균풍속(m/s)         1\n",
              "최대풍속(m/s)         0\n",
              "평균기온(℃)           1\n",
              "최고기온 평균(℃)        1\n",
              "최저기온 평균(℃)        1\n",
              "강수량(mm)           0\n",
              "평균현지기압(hPa)       1\n",
              "최고현지기압(hPa)      11\n",
              "최저현지기압(hPa)      12\n",
              "평균해면기압(hPa)       1\n",
              "최고해면기압(hPa)       0\n",
              "최저해면기압(hPa)       0\n",
              "평균상대습도(%)         1\n",
              "최소상대습도(%)         0\n",
              "합계일조시간(hr)        0\n",
              "합계전천일사량(MJ/㎡)     0\n",
              "dtype: int64"
            ]
          },
          "metadata": {
            "tags": []
          },
          "execution_count": 22
        }
      ]
    },
    {
      "cell_type": "code",
      "metadata": {
        "id": "_4Hddfzdb4um",
        "colab_type": "code",
        "colab": {}
      },
      "source": [
        "all_weather=all_weather.fillna(0)"
      ],
      "execution_count": 0,
      "outputs": []
    },
    {
      "cell_type": "code",
      "metadata": {
        "id": "rUUFNkZ7h3h7",
        "colab_type": "code",
        "colab": {}
      },
      "source": [
        "all_weather=all_weather.iloc[:-1,:]"
      ],
      "execution_count": 0,
      "outputs": []
    },
    {
      "cell_type": "code",
      "metadata": {
        "id": "j_f7vcjQew4J",
        "colab_type": "code",
        "outputId": "ffb28969-b36c-4327-d279-ec1c8e2254d4",
        "colab": {
          "base_uri": "https://localhost:8080/",
          "height": 606
        }
      },
      "source": [
        "all_weather.iloc[:,:]"
      ],
      "execution_count": 0,
      "outputs": [
        {
          "output_type": "execute_result",
          "data": {
            "text/html": [
              "<div>\n",
              "<style scoped>\n",
              "    .dataframe tbody tr th:only-of-type {\n",
              "        vertical-align: middle;\n",
              "    }\n",
              "\n",
              "    .dataframe tbody tr th {\n",
              "        vertical-align: top;\n",
              "    }\n",
              "\n",
              "    .dataframe thead th {\n",
              "        text-align: right;\n",
              "    }\n",
              "</style>\n",
              "<table border=\"1\" class=\"dataframe\">\n",
              "  <thead>\n",
              "    <tr style=\"text-align: right;\">\n",
              "      <th></th>\n",
              "      <th>일시</th>\n",
              "      <th>평균풍속(m/s)</th>\n",
              "      <th>최대풍속(m/s)</th>\n",
              "      <th>평균기온(℃)</th>\n",
              "      <th>최고기온 평균(℃)</th>\n",
              "      <th>최저기온 평균(℃)</th>\n",
              "      <th>강수량(mm)</th>\n",
              "      <th>평균현지기압(hPa)</th>\n",
              "      <th>최고현지기압(hPa)</th>\n",
              "      <th>최저현지기압(hPa)</th>\n",
              "      <th>평균해면기압(hPa)</th>\n",
              "      <th>최고해면기압(hPa)</th>\n",
              "      <th>최저해면기압(hPa)</th>\n",
              "      <th>평균상대습도(%)</th>\n",
              "      <th>최소상대습도(%)</th>\n",
              "      <th>합계일조시간(hr)</th>\n",
              "      <th>합계전천일사량(MJ/㎡)</th>\n",
              "    </tr>\n",
              "  </thead>\n",
              "  <tbody>\n",
              "    <tr>\n",
              "      <th>0</th>\n",
              "      <td>1996-01</td>\n",
              "      <td>8.8</td>\n",
              "      <td>22.8</td>\n",
              "      <td>-0.9</td>\n",
              "      <td>4.8</td>\n",
              "      <td>-5.7</td>\n",
              "      <td>90.6</td>\n",
              "      <td>1024.4</td>\n",
              "      <td>0.0</td>\n",
              "      <td>0.0</td>\n",
              "      <td>1025.7</td>\n",
              "      <td>1039.6</td>\n",
              "      <td>1016.7</td>\n",
              "      <td>79.0</td>\n",
              "      <td>54</td>\n",
              "      <td>215.2</td>\n",
              "      <td>311.69</td>\n",
              "    </tr>\n",
              "    <tr>\n",
              "      <th>1</th>\n",
              "      <td>1996-02</td>\n",
              "      <td>10.2</td>\n",
              "      <td>22.2</td>\n",
              "      <td>-0.7</td>\n",
              "      <td>5.3</td>\n",
              "      <td>-5.9</td>\n",
              "      <td>114.2</td>\n",
              "      <td>1025.0</td>\n",
              "      <td>0.0</td>\n",
              "      <td>0.0</td>\n",
              "      <td>1026.5</td>\n",
              "      <td>1040.0</td>\n",
              "      <td>1005.6</td>\n",
              "      <td>78.0</td>\n",
              "      <td>46</td>\n",
              "      <td>229.7</td>\n",
              "      <td>393.65</td>\n",
              "    </tr>\n",
              "    <tr>\n",
              "      <th>2</th>\n",
              "      <td>1996-03</td>\n",
              "      <td>8.2</td>\n",
              "      <td>19.0</td>\n",
              "      <td>4.6</td>\n",
              "      <td>10.0</td>\n",
              "      <td>-0.3</td>\n",
              "      <td>264.0</td>\n",
              "      <td>1018.8</td>\n",
              "      <td>0.0</td>\n",
              "      <td>0.0</td>\n",
              "      <td>1020.4</td>\n",
              "      <td>1034.3</td>\n",
              "      <td>1000.7</td>\n",
              "      <td>78.0</td>\n",
              "      <td>44</td>\n",
              "      <td>200.6</td>\n",
              "      <td>428.12</td>\n",
              "    </tr>\n",
              "    <tr>\n",
              "      <th>3</th>\n",
              "      <td>1996-04</td>\n",
              "      <td>7.1</td>\n",
              "      <td>21.7</td>\n",
              "      <td>10.0</td>\n",
              "      <td>16.2</td>\n",
              "      <td>3.9</td>\n",
              "      <td>166.4</td>\n",
              "      <td>1018.1</td>\n",
              "      <td>0.0</td>\n",
              "      <td>0.0</td>\n",
              "      <td>1019.8</td>\n",
              "      <td>1034.2</td>\n",
              "      <td>1002.5</td>\n",
              "      <td>71.0</td>\n",
              "      <td>44</td>\n",
              "      <td>272.4</td>\n",
              "      <td>594.42</td>\n",
              "    </tr>\n",
              "    <tr>\n",
              "      <th>4</th>\n",
              "      <td>1996-05</td>\n",
              "      <td>4.9</td>\n",
              "      <td>19.8</td>\n",
              "      <td>16.8</td>\n",
              "      <td>23.3</td>\n",
              "      <td>10.8</td>\n",
              "      <td>139.0</td>\n",
              "      <td>1012.8</td>\n",
              "      <td>0.0</td>\n",
              "      <td>0.0</td>\n",
              "      <td>1014.6</td>\n",
              "      <td>1025.1</td>\n",
              "      <td>1004.5</td>\n",
              "      <td>81.0</td>\n",
              "      <td>46</td>\n",
              "      <td>290.6</td>\n",
              "      <td>618.50</td>\n",
              "    </tr>\n",
              "    <tr>\n",
              "      <th>...</th>\n",
              "      <td>...</td>\n",
              "      <td>...</td>\n",
              "      <td>...</td>\n",
              "      <td>...</td>\n",
              "      <td>...</td>\n",
              "      <td>...</td>\n",
              "      <td>...</td>\n",
              "      <td>...</td>\n",
              "      <td>...</td>\n",
              "      <td>...</td>\n",
              "      <td>...</td>\n",
              "      <td>...</td>\n",
              "      <td>...</td>\n",
              "      <td>...</td>\n",
              "      <td>...</td>\n",
              "      <td>...</td>\n",
              "      <td>...</td>\n",
              "    </tr>\n",
              "    <tr>\n",
              "      <th>287</th>\n",
              "      <td>2019-12</td>\n",
              "      <td>7.8</td>\n",
              "      <td>22.7</td>\n",
              "      <td>3.0</td>\n",
              "      <td>8.2</td>\n",
              "      <td>-1.5</td>\n",
              "      <td>103.7</td>\n",
              "      <td>1025.3</td>\n",
              "      <td>1038.5</td>\n",
              "      <td>1013.5</td>\n",
              "      <td>1026.8</td>\n",
              "      <td>1040.6</td>\n",
              "      <td>1014.9</td>\n",
              "      <td>81.0</td>\n",
              "      <td>45</td>\n",
              "      <td>214.3</td>\n",
              "      <td>375.17</td>\n",
              "    </tr>\n",
              "    <tr>\n",
              "      <th>288</th>\n",
              "      <td>2020-01</td>\n",
              "      <td>8.1</td>\n",
              "      <td>26.6</td>\n",
              "      <td>2.9</td>\n",
              "      <td>7.7</td>\n",
              "      <td>-0.9</td>\n",
              "      <td>178.7</td>\n",
              "      <td>1022.9</td>\n",
              "      <td>1034.3</td>\n",
              "      <td>1005.1</td>\n",
              "      <td>1024.7</td>\n",
              "      <td>1036.5</td>\n",
              "      <td>1007.9</td>\n",
              "      <td>81.0</td>\n",
              "      <td>49</td>\n",
              "      <td>194.6</td>\n",
              "      <td>283.59</td>\n",
              "    </tr>\n",
              "    <tr>\n",
              "      <th>289</th>\n",
              "      <td>2020-02</td>\n",
              "      <td>7.8</td>\n",
              "      <td>26.8</td>\n",
              "      <td>3.7</td>\n",
              "      <td>9.1</td>\n",
              "      <td>-1.1</td>\n",
              "      <td>215.7</td>\n",
              "      <td>1024.3</td>\n",
              "      <td>1035.9</td>\n",
              "      <td>1011.6</td>\n",
              "      <td>1025.8</td>\n",
              "      <td>1041.6</td>\n",
              "      <td>1013.2</td>\n",
              "      <td>81.0</td>\n",
              "      <td>42</td>\n",
              "      <td>216.5</td>\n",
              "      <td>384.20</td>\n",
              "    </tr>\n",
              "    <tr>\n",
              "      <th>290</th>\n",
              "      <td>2020-03</td>\n",
              "      <td>7.5</td>\n",
              "      <td>22.4</td>\n",
              "      <td>7.9</td>\n",
              "      <td>14.0</td>\n",
              "      <td>1.9</td>\n",
              "      <td>132.2</td>\n",
              "      <td>1017.9</td>\n",
              "      <td>1027.9</td>\n",
              "      <td>1005.0</td>\n",
              "      <td>1019.1</td>\n",
              "      <td>1029.8</td>\n",
              "      <td>1006.6</td>\n",
              "      <td>73.0</td>\n",
              "      <td>32</td>\n",
              "      <td>273.6</td>\n",
              "      <td>581.49</td>\n",
              "    </tr>\n",
              "    <tr>\n",
              "      <th>291</th>\n",
              "      <td>2020-04</td>\n",
              "      <td>0.0</td>\n",
              "      <td>18.4</td>\n",
              "      <td>0.0</td>\n",
              "      <td>0.0</td>\n",
              "      <td>0.0</td>\n",
              "      <td>52.7</td>\n",
              "      <td>0.0</td>\n",
              "      <td>1027.4</td>\n",
              "      <td>1010.0</td>\n",
              "      <td>0.0</td>\n",
              "      <td>1029.8</td>\n",
              "      <td>1012.9</td>\n",
              "      <td>0.0</td>\n",
              "      <td>31</td>\n",
              "      <td>156.7</td>\n",
              "      <td>346.27</td>\n",
              "    </tr>\n",
              "  </tbody>\n",
              "</table>\n",
              "<p>292 rows × 17 columns</p>\n",
              "</div>"
            ],
            "text/plain": [
              "           일시  평균풍속(m/s)  최대풍속(m/s)  ...  최소상대습도(%)  합계일조시간(hr)  합계전천일사량(MJ/㎡)\n",
              "0     1996-01        8.8       22.8  ...         54       215.2         311.69\n",
              "1     1996-02       10.2       22.2  ...         46       229.7         393.65\n",
              "2     1996-03        8.2       19.0  ...         44       200.6         428.12\n",
              "3     1996-04        7.1       21.7  ...         44       272.4         594.42\n",
              "4     1996-05        4.9       19.8  ...         46       290.6         618.50\n",
              "..        ...        ...        ...  ...        ...         ...            ...\n",
              "287   2019-12        7.8       22.7  ...         45       214.3         375.17\n",
              "288   2020-01        8.1       26.6  ...         49       194.6         283.59\n",
              "289   2020-02        7.8       26.8  ...         42       216.5         384.20\n",
              "290   2020-03        7.5       22.4  ...         32       273.6         581.49\n",
              "291   2020-04        0.0       18.4  ...         31       156.7         346.27\n",
              "\n",
              "[292 rows x 17 columns]"
            ]
          },
          "metadata": {
            "tags": []
          },
          "execution_count": 25
        }
      ]
    },
    {
      "cell_type": "code",
      "metadata": {
        "id": "GHN4feFOeWxP",
        "colab_type": "code",
        "outputId": "80298280-2786-4cc0-c070-0c4a0283b4fc",
        "colab": {
          "base_uri": "https://localhost:8080/",
          "height": 449
        }
      },
      "source": [
        "all_weather.info()"
      ],
      "execution_count": 0,
      "outputs": [
        {
          "output_type": "stream",
          "text": [
            "<class 'pandas.core.frame.DataFrame'>\n",
            "Int64Index: 280 entries, 12 to 292\n",
            "Data columns (total 17 columns):\n",
            " #   Column         Non-Null Count  Dtype  \n",
            "---  ------         --------------  -----  \n",
            " 0   일시             280 non-null    object \n",
            " 1   평균풍속(m/s)      280 non-null    float64\n",
            " 2   최대풍속(m/s)      280 non-null    float64\n",
            " 3   평균기온(℃)        280 non-null    float64\n",
            " 4   최고기온 평균(℃)     280 non-null    float64\n",
            " 5   최저기온 평균(℃)     280 non-null    float64\n",
            " 6   강수량(mm)        280 non-null    float64\n",
            " 7   평균현지기압(hPa)    280 non-null    float64\n",
            " 8   최고현지기압(hPa)    280 non-null    float64\n",
            " 9   최저현지기압(hPa)    280 non-null    float64\n",
            " 10  평균해면기압(hPa)    280 non-null    float64\n",
            " 11  최고해면기압(hPa)    280 non-null    float64\n",
            " 12  최저해면기압(hPa)    280 non-null    float64\n",
            " 13  평균상대습도(%)      280 non-null    float64\n",
            " 14  최소상대습도(%)      280 non-null    int64  \n",
            " 15  합계일조시간(hr)     280 non-null    float64\n",
            " 16  합계전천일사량(MJ/㎡)  280 non-null    float64\n",
            "dtypes: float64(15), int64(1), object(1)\n",
            "memory usage: 39.4+ KB\n"
          ],
          "name": "stdout"
        }
      ]
    },
    {
      "cell_type": "code",
      "metadata": {
        "id": "utp_e-nPefes",
        "colab_type": "code",
        "colab": {}
      },
      "source": [
        "all_weather['일시']=pd.to_datetime(all_weather['일시'],format='%Y-%m',)"
      ],
      "execution_count": 0,
      "outputs": []
    },
    {
      "cell_type": "markdown",
      "metadata": {
        "id": "DN9z2w0MuBXO",
        "colab_type": "text"
      },
      "source": [
        ""
      ]
    },
    {
      "cell_type": "code",
      "metadata": {
        "id": "yn3jY9FGiow6",
        "colab_type": "code",
        "outputId": "8cab281d-e286-43b9-ca87-7aba25b49ff8",
        "colab": {
          "base_uri": "https://localhost:8080/",
          "height": 449
        }
      },
      "source": [
        "all_weather.info()"
      ],
      "execution_count": 0,
      "outputs": [
        {
          "output_type": "stream",
          "text": [
            "<class 'pandas.core.frame.DataFrame'>\n",
            "RangeIndex: 292 entries, 0 to 291\n",
            "Data columns (total 17 columns):\n",
            " #   Column         Non-Null Count  Dtype         \n",
            "---  ------         --------------  -----         \n",
            " 0   일시             292 non-null    datetime64[ns]\n",
            " 1   평균풍속(m/s)      292 non-null    float64       \n",
            " 2   최대풍속(m/s)      292 non-null    float64       \n",
            " 3   평균기온(℃)        292 non-null    float64       \n",
            " 4   최고기온 평균(℃)     292 non-null    float64       \n",
            " 5   최저기온 평균(℃)     292 non-null    float64       \n",
            " 6   강수량(mm)        292 non-null    float64       \n",
            " 7   평균현지기압(hPa)    292 non-null    float64       \n",
            " 8   최고현지기압(hPa)    292 non-null    float64       \n",
            " 9   최저현지기압(hPa)    292 non-null    float64       \n",
            " 10  평균해면기압(hPa)    292 non-null    float64       \n",
            " 11  최고해면기압(hPa)    292 non-null    float64       \n",
            " 12  최저해면기압(hPa)    292 non-null    float64       \n",
            " 13  평균상대습도(%)      292 non-null    float64       \n",
            " 14  최소상대습도(%)      292 non-null    int64         \n",
            " 15  합계일조시간(hr)     292 non-null    float64       \n",
            " 16  합계전천일사량(MJ/㎡)  292 non-null    float64       \n",
            "dtypes: datetime64[ns](1), float64(15), int64(1)\n",
            "memory usage: 38.9 KB\n"
          ],
          "name": "stdout"
        }
      ]
    },
    {
      "cell_type": "code",
      "metadata": {
        "id": "UZU2uDtPjJL4",
        "colab_type": "code",
        "outputId": "a9782919-78e6-4e5e-d883-a8c5b0db7709",
        "colab": {
          "base_uri": "https://localhost:8080/",
          "height": 233
        }
      },
      "source": [
        "all_weather['일시']"
      ],
      "execution_count": 0,
      "outputs": [
        {
          "output_type": "execute_result",
          "data": {
            "text/plain": [
              "0     1996-01-01\n",
              "1     1996-02-01\n",
              "2     1996-03-01\n",
              "3     1996-04-01\n",
              "4     1996-05-01\n",
              "         ...    \n",
              "287   2019-12-01\n",
              "288   2020-01-01\n",
              "289   2020-02-01\n",
              "290   2020-03-01\n",
              "291   2020-04-01\n",
              "Name: 일시, Length: 292, dtype: datetime64[ns]"
            ]
          },
          "metadata": {
            "tags": []
          },
          "execution_count": 28
        }
      ]
    },
    {
      "cell_type": "code",
      "metadata": {
        "id": "O0tfugXQcc-j",
        "colab_type": "code",
        "colab": {}
      },
      "source": [
        "all_weather=all_weather[all_weather['일시']>='2010-01-01']"
      ],
      "execution_count": 0,
      "outputs": []
    },
    {
      "cell_type": "code",
      "metadata": {
        "id": "tSWxQPj0kPOW",
        "colab_type": "code",
        "colab": {}
      },
      "source": [
        "all_weather=all_weather.reset_index().drop(columns='index')"
      ],
      "execution_count": 0,
      "outputs": []
    },
    {
      "cell_type": "code",
      "metadata": {
        "id": "U8ca3XXZcpAP",
        "colab_type": "code",
        "colab": {}
      },
      "source": [
        "price_pa=price_pa.drop(columns='연평균')"
      ],
      "execution_count": 0,
      "outputs": []
    },
    {
      "cell_type": "code",
      "metadata": {
        "id": "X-tiogzIlXJQ",
        "colab_type": "code",
        "colab": {}
      },
      "source": [
        "price_pa=price_pa.fillna(0)#결측치 0으로 채우기"
      ],
      "execution_count": 0,
      "outputs": []
    },
    {
      "cell_type": "code",
      "metadata": {
        "id": "8csIoWlflhGk",
        "colab_type": "code",
        "outputId": "460ae66f-a26e-40c5-e007-e077ebc7593e",
        "colab": {
          "base_uri": "https://localhost:8080/",
          "height": 390
        }
      },
      "source": [
        "price_pa"
      ],
      "execution_count": 0,
      "outputs": [
        {
          "output_type": "execute_result",
          "data": {
            "text/html": [
              "<div>\n",
              "<style scoped>\n",
              "    .dataframe tbody tr th:only-of-type {\n",
              "        vertical-align: middle;\n",
              "    }\n",
              "\n",
              "    .dataframe tbody tr th {\n",
              "        vertical-align: top;\n",
              "    }\n",
              "\n",
              "    .dataframe thead th {\n",
              "        text-align: right;\n",
              "    }\n",
              "</style>\n",
              "<table border=\"1\" class=\"dataframe\">\n",
              "  <thead>\n",
              "    <tr style=\"text-align: right;\">\n",
              "      <th></th>\n",
              "      <th>구분</th>\n",
              "      <th>1월</th>\n",
              "      <th>2월</th>\n",
              "      <th>3월</th>\n",
              "      <th>4월</th>\n",
              "      <th>5월</th>\n",
              "      <th>6월</th>\n",
              "      <th>7월</th>\n",
              "      <th>8월</th>\n",
              "      <th>9월</th>\n",
              "      <th>10월</th>\n",
              "      <th>11월</th>\n",
              "      <th>12월</th>\n",
              "    </tr>\n",
              "  </thead>\n",
              "  <tbody>\n",
              "    <tr>\n",
              "      <th>0</th>\n",
              "      <td>2010</td>\n",
              "      <td>2,268</td>\n",
              "      <td>2,491</td>\n",
              "      <td>2,571</td>\n",
              "      <td>2,701</td>\n",
              "      <td>3,082</td>\n",
              "      <td>3,094</td>\n",
              "      <td>2,961</td>\n",
              "      <td>2,498</td>\n",
              "      <td>4,908</td>\n",
              "      <td>5,909</td>\n",
              "      <td>4,844</td>\n",
              "      <td>4,161</td>\n",
              "    </tr>\n",
              "    <tr>\n",
              "      <th>1</th>\n",
              "      <td>2011</td>\n",
              "      <td>4,509</td>\n",
              "      <td>4,653</td>\n",
              "      <td>4,036</td>\n",
              "      <td>2,949</td>\n",
              "      <td>1,898</td>\n",
              "      <td>1,684</td>\n",
              "      <td>1,747</td>\n",
              "      <td>2,074</td>\n",
              "      <td>2,629</td>\n",
              "      <td>2,128</td>\n",
              "      <td>1,679</td>\n",
              "      <td>1,617</td>\n",
              "    </tr>\n",
              "    <tr>\n",
              "      <th>2</th>\n",
              "      <td>2012</td>\n",
              "      <td>1,797</td>\n",
              "      <td>2,303</td>\n",
              "      <td>2,086</td>\n",
              "      <td>1,737</td>\n",
              "      <td>2,233</td>\n",
              "      <td>2,956</td>\n",
              "      <td>2,759</td>\n",
              "      <td>2,978</td>\n",
              "      <td>3,924</td>\n",
              "      <td>3,859</td>\n",
              "      <td>3,335</td>\n",
              "      <td>3,425</td>\n",
              "    </tr>\n",
              "    <tr>\n",
              "      <th>3</th>\n",
              "      <td>2013</td>\n",
              "      <td>3,263</td>\n",
              "      <td>3,275</td>\n",
              "      <td>3,160</td>\n",
              "      <td>3,269</td>\n",
              "      <td>3,068</td>\n",
              "      <td>2,584</td>\n",
              "      <td>2,007</td>\n",
              "      <td>2,234</td>\n",
              "      <td>2,579</td>\n",
              "      <td>2,425</td>\n",
              "      <td>2,235</td>\n",
              "      <td>2,355</td>\n",
              "    </tr>\n",
              "    <tr>\n",
              "      <th>4</th>\n",
              "      <td>2014</td>\n",
              "      <td>2,019</td>\n",
              "      <td>2,099</td>\n",
              "      <td>2,011</td>\n",
              "      <td>1,802</td>\n",
              "      <td>1,756</td>\n",
              "      <td>1,788</td>\n",
              "      <td>1,836</td>\n",
              "      <td>2,124</td>\n",
              "      <td>2,333</td>\n",
              "      <td>2,079</td>\n",
              "      <td>1,893</td>\n",
              "      <td>2,424</td>\n",
              "    </tr>\n",
              "    <tr>\n",
              "      <th>5</th>\n",
              "      <td>2015</td>\n",
              "      <td>2,230</td>\n",
              "      <td>2,402</td>\n",
              "      <td>2,591</td>\n",
              "      <td>2,471</td>\n",
              "      <td>2,876</td>\n",
              "      <td>3,591</td>\n",
              "      <td>3,236</td>\n",
              "      <td>3,141</td>\n",
              "      <td>3,174</td>\n",
              "      <td>2,960</td>\n",
              "      <td>2,754</td>\n",
              "      <td>3,324</td>\n",
              "    </tr>\n",
              "    <tr>\n",
              "      <th>6</th>\n",
              "      <td>2016</td>\n",
              "      <td>3,306</td>\n",
              "      <td>4,487</td>\n",
              "      <td>4,000</td>\n",
              "      <td>3,414</td>\n",
              "      <td>3,329</td>\n",
              "      <td>2,935</td>\n",
              "      <td>2,674</td>\n",
              "      <td>2,599</td>\n",
              "      <td>3,313</td>\n",
              "      <td>3,363</td>\n",
              "      <td>3,417</td>\n",
              "      <td>3,775</td>\n",
              "    </tr>\n",
              "    <tr>\n",
              "      <th>7</th>\n",
              "      <td>2017</td>\n",
              "      <td>3,708</td>\n",
              "      <td>3,737</td>\n",
              "      <td>4,069</td>\n",
              "      <td>3,546</td>\n",
              "      <td>2,968</td>\n",
              "      <td>2,702</td>\n",
              "      <td>2,592</td>\n",
              "      <td>3,187</td>\n",
              "      <td>3,475</td>\n",
              "      <td>3,218</td>\n",
              "      <td>2,866</td>\n",
              "      <td>2,948</td>\n",
              "    </tr>\n",
              "    <tr>\n",
              "      <th>8</th>\n",
              "      <td>2018</td>\n",
              "      <td>3,026</td>\n",
              "      <td>3,739</td>\n",
              "      <td>2,966</td>\n",
              "      <td>2,369</td>\n",
              "      <td>2,368</td>\n",
              "      <td>2,469</td>\n",
              "      <td>2,490</td>\n",
              "      <td>3,203</td>\n",
              "      <td>4,816</td>\n",
              "      <td>4,208</td>\n",
              "      <td>3,338</td>\n",
              "      <td>3,238</td>\n",
              "    </tr>\n",
              "    <tr>\n",
              "      <th>9</th>\n",
              "      <td>2019</td>\n",
              "      <td>3,000</td>\n",
              "      <td>2,570</td>\n",
              "      <td>2,202</td>\n",
              "      <td>1,963</td>\n",
              "      <td>2,078</td>\n",
              "      <td>2,773</td>\n",
              "      <td>2,618</td>\n",
              "      <td>2,898</td>\n",
              "      <td>3,090</td>\n",
              "      <td>3,090</td>\n",
              "      <td>2,996</td>\n",
              "      <td>2,877</td>\n",
              "    </tr>\n",
              "    <tr>\n",
              "      <th>10</th>\n",
              "      <td>2020</td>\n",
              "      <td>2,718</td>\n",
              "      <td>2,213</td>\n",
              "      <td>2,077</td>\n",
              "      <td>1,901</td>\n",
              "      <td>-</td>\n",
              "      <td>-</td>\n",
              "      <td>-</td>\n",
              "      <td>-</td>\n",
              "      <td>-</td>\n",
              "      <td>-</td>\n",
              "      <td>-</td>\n",
              "      <td>-</td>\n",
              "    </tr>\n",
              "  </tbody>\n",
              "</table>\n",
              "</div>"
            ],
            "text/plain": [
              "      구분     1월     2월     3월     4월  ...     8월     9월    10월    11월    12월\n",
              "0   2010  2,268  2,491  2,571  2,701  ...  2,498  4,908  5,909  4,844  4,161\n",
              "1   2011  4,509  4,653  4,036  2,949  ...  2,074  2,629  2,128  1,679  1,617\n",
              "2   2012  1,797  2,303  2,086  1,737  ...  2,978  3,924  3,859  3,335  3,425\n",
              "3   2013  3,263  3,275  3,160  3,269  ...  2,234  2,579  2,425  2,235  2,355\n",
              "4   2014  2,019  2,099  2,011  1,802  ...  2,124  2,333  2,079  1,893  2,424\n",
              "5   2015  2,230  2,402  2,591  2,471  ...  3,141  3,174  2,960  2,754  3,324\n",
              "6   2016  3,306  4,487  4,000  3,414  ...  2,599  3,313  3,363  3,417  3,775\n",
              "7   2017  3,708  3,737  4,069  3,546  ...  3,187  3,475  3,218  2,866  2,948\n",
              "8   2018  3,026  3,739  2,966  2,369  ...  3,203  4,816  4,208  3,338  3,238\n",
              "9   2019  3,000  2,570  2,202  1,963  ...  2,898  3,090  3,090  2,996  2,877\n",
              "10  2020  2,718  2,213  2,077  1,901  ...      -      -      -      -      -\n",
              "\n",
              "[11 rows x 13 columns]"
            ]
          },
          "metadata": {
            "tags": []
          },
          "execution_count": 33
        }
      ]
    },
    {
      "cell_type": "code",
      "metadata": {
        "id": "megm7bMGly9z",
        "colab_type": "code",
        "colab": {}
      },
      "source": [
        "columns_pa=price_pa.columns[1:]\n"
      ],
      "execution_count": 0,
      "outputs": []
    },
    {
      "cell_type": "code",
      "metadata": {
        "id": "kp5oPdtCm49u",
        "colab_type": "code",
        "outputId": "110524b4-a025-4a8c-f963-1f687f0d26fb",
        "colab": {
          "base_uri": "https://localhost:8080/",
          "height": 71
        }
      },
      "source": [
        "columns_pa"
      ],
      "execution_count": 0,
      "outputs": [
        {
          "output_type": "execute_result",
          "data": {
            "text/plain": [
              "Index(['1월', '2월', '3월', '4월', '5월', '6월', '7월', '8월', '9월', '10월', '11월',\n",
              "       '12월'],\n",
              "      dtype='object')"
            ]
          },
          "metadata": {
            "tags": []
          },
          "execution_count": 35
        }
      ]
    },
    {
      "cell_type": "code",
      "metadata": {
        "id": "lyhgsUJOmEMH",
        "colab_type": "code",
        "colab": {}
      },
      "source": [
        "index_pa=price_pa['구분']"
      ],
      "execution_count": 0,
      "outputs": []
    },
    {
      "cell_type": "code",
      "metadata": {
        "id": "SvEWP04jm_6q",
        "colab_type": "code",
        "colab": {}
      },
      "source": [
        "a=[]\n",
        "for i in index_pa:\n",
        "  a.append(i)\n"
      ],
      "execution_count": 0,
      "outputs": []
    },
    {
      "cell_type": "code",
      "metadata": {
        "id": "MoFcGKlNnLWD",
        "colab_type": "code",
        "outputId": "5a8b2485-80c6-44c3-b7bc-336db27cb4f1",
        "colab": {
          "base_uri": "https://localhost:8080/",
          "height": 35
        }
      },
      "source": [
        "print(a)"
      ],
      "execution_count": 0,
      "outputs": [
        {
          "output_type": "stream",
          "text": [
            "[2010, 2011, 2012, 2013, 2014, 2015, 2016, 2017, 2018, 2019, 2020]\n"
          ],
          "name": "stdout"
        }
      ]
    },
    {
      "cell_type": "code",
      "metadata": {
        "id": "jenGJ7d-ot40",
        "colab_type": "code",
        "colab": {}
      },
      "source": [
        ""
      ],
      "execution_count": 0,
      "outputs": []
    },
    {
      "cell_type": "code",
      "metadata": {
        "id": "XrdzUjBhdk_i",
        "colab_type": "code",
        "colab": {}
      },
      "source": [
        "tmp=np.transpose(price_pa)"
      ],
      "execution_count": 0,
      "outputs": []
    },
    {
      "cell_type": "code",
      "metadata": {
        "id": "1WaioqAhoMmH",
        "colab_type": "code",
        "colab": {}
      },
      "source": [
        "tmp_colums=tmp.iloc[:1,:]"
      ],
      "execution_count": 0,
      "outputs": []
    },
    {
      "cell_type": "code",
      "metadata": {
        "id": "RjRhfZsmr7w5",
        "colab_type": "code",
        "outputId": "d69eb69e-c408-46c6-cf3f-f9166c606a65",
        "colab": {
          "base_uri": "https://localhost:8080/",
          "height": 80
        }
      },
      "source": [
        "tmp_colums"
      ],
      "execution_count": 0,
      "outputs": [
        {
          "output_type": "execute_result",
          "data": {
            "text/html": [
              "<div>\n",
              "<style scoped>\n",
              "    .dataframe tbody tr th:only-of-type {\n",
              "        vertical-align: middle;\n",
              "    }\n",
              "\n",
              "    .dataframe tbody tr th {\n",
              "        vertical-align: top;\n",
              "    }\n",
              "\n",
              "    .dataframe thead th {\n",
              "        text-align: right;\n",
              "    }\n",
              "</style>\n",
              "<table border=\"1\" class=\"dataframe\">\n",
              "  <thead>\n",
              "    <tr style=\"text-align: right;\">\n",
              "      <th></th>\n",
              "      <th>0</th>\n",
              "      <th>1</th>\n",
              "      <th>2</th>\n",
              "      <th>3</th>\n",
              "      <th>4</th>\n",
              "      <th>5</th>\n",
              "      <th>6</th>\n",
              "      <th>7</th>\n",
              "      <th>8</th>\n",
              "      <th>9</th>\n",
              "      <th>10</th>\n",
              "    </tr>\n",
              "  </thead>\n",
              "  <tbody>\n",
              "    <tr>\n",
              "      <th>구분</th>\n",
              "      <td>2010</td>\n",
              "      <td>2011</td>\n",
              "      <td>2012</td>\n",
              "      <td>2013</td>\n",
              "      <td>2014</td>\n",
              "      <td>2015</td>\n",
              "      <td>2016</td>\n",
              "      <td>2017</td>\n",
              "      <td>2018</td>\n",
              "      <td>2019</td>\n",
              "      <td>2020</td>\n",
              "    </tr>\n",
              "  </tbody>\n",
              "</table>\n",
              "</div>"
            ],
            "text/plain": [
              "       0     1     2     3     4     5     6     7     8     9    10\n",
              "구분  2010  2011  2012  2013  2014  2015  2016  2017  2018  2019  2020"
            ]
          },
          "metadata": {
            "tags": []
          },
          "execution_count": 41
        }
      ]
    },
    {
      "cell_type": "code",
      "metadata": {
        "id": "r8XPZwqTrw-c",
        "colab_type": "code",
        "colab": {}
      },
      "source": [
        "a=['2010',\t'2011',\t'2012',\t'2013',\t'2014'\t,'2015',\t'2016',\t'2017'\t,'2018',\t'2019',\t'2020']"
      ],
      "execution_count": 0,
      "outputs": []
    },
    {
      "cell_type": "code",
      "metadata": {
        "id": "Sdnt2uyer433",
        "colab_type": "code",
        "outputId": "af0504dc-9600-4daa-cc92-b45d883dcb6d",
        "colab": {
          "base_uri": "https://localhost:8080/",
          "height": 35
        }
      },
      "source": [
        "print(a)"
      ],
      "execution_count": 0,
      "outputs": [
        {
          "output_type": "stream",
          "text": [
            "['2010', '2011', '2012', '2013', '2014', '2015', '2016', '2017', '2018', '2019', '2020']\n"
          ],
          "name": "stdout"
        }
      ]
    },
    {
      "cell_type": "code",
      "metadata": {
        "id": "YsvAXfSfvMfL",
        "colab_type": "code",
        "colab": {}
      },
      "source": [
        "tmp.columns=['2010',\t'2011',\t'2012',\t'2013',\t'2014', '2015',\t'2016',\t'2017', '2018',\t'2019',\t'2020']"
      ],
      "execution_count": 0,
      "outputs": []
    },
    {
      "cell_type": "code",
      "metadata": {
        "id": "_ZlrY7tYExiJ",
        "colab_type": "code",
        "outputId": "78bc156b-ce63-4641-8cc2-5d1e5ab0e349",
        "colab": {
          "base_uri": "https://localhost:8080/",
          "height": 322
        }
      },
      "source": [
        "pd.DataFrame({'a':tmp[['2010','2011']]})"
      ],
      "execution_count": 0,
      "outputs": [
        {
          "output_type": "error",
          "ename": "ValueError",
          "evalue": "ignored",
          "traceback": [
            "\u001b[0;31m---------------------------------------------------------------------------\u001b[0m",
            "\u001b[0;31mValueError\u001b[0m                                Traceback (most recent call last)",
            "\u001b[0;32m<ipython-input-45-121e8dd33630>\u001b[0m in \u001b[0;36m<module>\u001b[0;34m()\u001b[0m\n\u001b[0;32m----> 1\u001b[0;31m \u001b[0mpd\u001b[0m\u001b[0;34m.\u001b[0m\u001b[0mDataFrame\u001b[0m\u001b[0;34m(\u001b[0m\u001b[0;34m{\u001b[0m\u001b[0;34m'a'\u001b[0m\u001b[0;34m:\u001b[0m\u001b[0mtmp\u001b[0m\u001b[0;34m[\u001b[0m\u001b[0;34m[\u001b[0m\u001b[0;34m'2010'\u001b[0m\u001b[0;34m,\u001b[0m\u001b[0;34m'2011'\u001b[0m\u001b[0;34m]\u001b[0m\u001b[0;34m]\u001b[0m\u001b[0;34m}\u001b[0m\u001b[0;34m)\u001b[0m\u001b[0;34m\u001b[0m\u001b[0;34m\u001b[0m\u001b[0m\n\u001b[0m",
            "\u001b[0;32m/usr/local/lib/python3.6/dist-packages/pandas/core/frame.py\u001b[0m in \u001b[0;36m__init__\u001b[0;34m(self, data, index, columns, dtype, copy)\u001b[0m\n\u001b[1;32m    433\u001b[0m             )\n\u001b[1;32m    434\u001b[0m         \u001b[0;32melif\u001b[0m \u001b[0misinstance\u001b[0m\u001b[0;34m(\u001b[0m\u001b[0mdata\u001b[0m\u001b[0;34m,\u001b[0m \u001b[0mdict\u001b[0m\u001b[0;34m)\u001b[0m\u001b[0;34m:\u001b[0m\u001b[0;34m\u001b[0m\u001b[0;34m\u001b[0m\u001b[0m\n\u001b[0;32m--> 435\u001b[0;31m             \u001b[0mmgr\u001b[0m \u001b[0;34m=\u001b[0m \u001b[0minit_dict\u001b[0m\u001b[0;34m(\u001b[0m\u001b[0mdata\u001b[0m\u001b[0;34m,\u001b[0m \u001b[0mindex\u001b[0m\u001b[0;34m,\u001b[0m \u001b[0mcolumns\u001b[0m\u001b[0;34m,\u001b[0m \u001b[0mdtype\u001b[0m\u001b[0;34m=\u001b[0m\u001b[0mdtype\u001b[0m\u001b[0;34m)\u001b[0m\u001b[0;34m\u001b[0m\u001b[0;34m\u001b[0m\u001b[0m\n\u001b[0m\u001b[1;32m    436\u001b[0m         \u001b[0;32melif\u001b[0m \u001b[0misinstance\u001b[0m\u001b[0;34m(\u001b[0m\u001b[0mdata\u001b[0m\u001b[0;34m,\u001b[0m \u001b[0mma\u001b[0m\u001b[0;34m.\u001b[0m\u001b[0mMaskedArray\u001b[0m\u001b[0;34m)\u001b[0m\u001b[0;34m:\u001b[0m\u001b[0;34m\u001b[0m\u001b[0;34m\u001b[0m\u001b[0m\n\u001b[1;32m    437\u001b[0m             \u001b[0;32mimport\u001b[0m \u001b[0mnumpy\u001b[0m\u001b[0;34m.\u001b[0m\u001b[0mma\u001b[0m\u001b[0;34m.\u001b[0m\u001b[0mmrecords\u001b[0m \u001b[0;32mas\u001b[0m \u001b[0mmrecords\u001b[0m\u001b[0;34m\u001b[0m\u001b[0;34m\u001b[0m\u001b[0m\n",
            "\u001b[0;32m/usr/local/lib/python3.6/dist-packages/pandas/core/internals/construction.py\u001b[0m in \u001b[0;36minit_dict\u001b[0;34m(data, index, columns, dtype)\u001b[0m\n\u001b[1;32m    252\u001b[0m             \u001b[0marr\u001b[0m \u001b[0;32mif\u001b[0m \u001b[0;32mnot\u001b[0m \u001b[0mis_datetime64tz_dtype\u001b[0m\u001b[0;34m(\u001b[0m\u001b[0marr\u001b[0m\u001b[0;34m)\u001b[0m \u001b[0;32melse\u001b[0m \u001b[0marr\u001b[0m\u001b[0;34m.\u001b[0m\u001b[0mcopy\u001b[0m\u001b[0;34m(\u001b[0m\u001b[0;34m)\u001b[0m \u001b[0;32mfor\u001b[0m \u001b[0marr\u001b[0m \u001b[0;32min\u001b[0m \u001b[0marrays\u001b[0m\u001b[0;34m\u001b[0m\u001b[0;34m\u001b[0m\u001b[0m\n\u001b[1;32m    253\u001b[0m         ]\n\u001b[0;32m--> 254\u001b[0;31m     \u001b[0;32mreturn\u001b[0m \u001b[0marrays_to_mgr\u001b[0m\u001b[0;34m(\u001b[0m\u001b[0marrays\u001b[0m\u001b[0;34m,\u001b[0m \u001b[0mdata_names\u001b[0m\u001b[0;34m,\u001b[0m \u001b[0mindex\u001b[0m\u001b[0;34m,\u001b[0m \u001b[0mcolumns\u001b[0m\u001b[0;34m,\u001b[0m \u001b[0mdtype\u001b[0m\u001b[0;34m=\u001b[0m\u001b[0mdtype\u001b[0m\u001b[0;34m)\u001b[0m\u001b[0;34m\u001b[0m\u001b[0;34m\u001b[0m\u001b[0m\n\u001b[0m\u001b[1;32m    255\u001b[0m \u001b[0;34m\u001b[0m\u001b[0m\n\u001b[1;32m    256\u001b[0m \u001b[0;34m\u001b[0m\u001b[0m\n",
            "\u001b[0;32m/usr/local/lib/python3.6/dist-packages/pandas/core/internals/construction.py\u001b[0m in \u001b[0;36marrays_to_mgr\u001b[0;34m(arrays, arr_names, index, columns, dtype)\u001b[0m\n\u001b[1;32m     62\u001b[0m     \u001b[0;31m# figure out the index, if necessary\u001b[0m\u001b[0;34m\u001b[0m\u001b[0;34m\u001b[0m\u001b[0;34m\u001b[0m\u001b[0m\n\u001b[1;32m     63\u001b[0m     \u001b[0;32mif\u001b[0m \u001b[0mindex\u001b[0m \u001b[0;32mis\u001b[0m \u001b[0;32mNone\u001b[0m\u001b[0;34m:\u001b[0m\u001b[0;34m\u001b[0m\u001b[0;34m\u001b[0m\u001b[0m\n\u001b[0;32m---> 64\u001b[0;31m         \u001b[0mindex\u001b[0m \u001b[0;34m=\u001b[0m \u001b[0mextract_index\u001b[0m\u001b[0;34m(\u001b[0m\u001b[0marrays\u001b[0m\u001b[0;34m)\u001b[0m\u001b[0;34m\u001b[0m\u001b[0;34m\u001b[0m\u001b[0m\n\u001b[0m\u001b[1;32m     65\u001b[0m     \u001b[0;32melse\u001b[0m\u001b[0;34m:\u001b[0m\u001b[0;34m\u001b[0m\u001b[0;34m\u001b[0m\u001b[0m\n\u001b[1;32m     66\u001b[0m         \u001b[0mindex\u001b[0m \u001b[0;34m=\u001b[0m \u001b[0mensure_index\u001b[0m\u001b[0;34m(\u001b[0m\u001b[0mindex\u001b[0m\u001b[0;34m)\u001b[0m\u001b[0;34m\u001b[0m\u001b[0;34m\u001b[0m\u001b[0m\n",
            "\u001b[0;32m/usr/local/lib/python3.6/dist-packages/pandas/core/internals/construction.py\u001b[0m in \u001b[0;36mextract_index\u001b[0;34m(data)\u001b[0m\n\u001b[1;32m    353\u001b[0m \u001b[0;34m\u001b[0m\u001b[0m\n\u001b[1;32m    354\u001b[0m         \u001b[0;32mif\u001b[0m \u001b[0;32mnot\u001b[0m \u001b[0mindexes\u001b[0m \u001b[0;32mand\u001b[0m \u001b[0;32mnot\u001b[0m \u001b[0mraw_lengths\u001b[0m\u001b[0;34m:\u001b[0m\u001b[0;34m\u001b[0m\u001b[0;34m\u001b[0m\u001b[0m\n\u001b[0;32m--> 355\u001b[0;31m             \u001b[0;32mraise\u001b[0m \u001b[0mValueError\u001b[0m\u001b[0;34m(\u001b[0m\u001b[0;34m\"If using all scalar values, you must pass an index\"\u001b[0m\u001b[0;34m)\u001b[0m\u001b[0;34m\u001b[0m\u001b[0;34m\u001b[0m\u001b[0m\n\u001b[0m\u001b[1;32m    356\u001b[0m \u001b[0;34m\u001b[0m\u001b[0m\n\u001b[1;32m    357\u001b[0m         \u001b[0;32mif\u001b[0m \u001b[0mhave_series\u001b[0m\u001b[0;34m:\u001b[0m\u001b[0;34m\u001b[0m\u001b[0;34m\u001b[0m\u001b[0m\n",
            "\u001b[0;31mValueError\u001b[0m: If using all scalar values, you must pass an index"
          ]
        }
      ]
    },
    {
      "cell_type": "code",
      "metadata": {
        "id": "7hGEUiBPv9JR",
        "colab_type": "code",
        "colab": {}
      },
      "source": [
        "tmp=tmp.iloc[1:,:]"
      ],
      "execution_count": 0,
      "outputs": []
    },
    {
      "cell_type": "code",
      "metadata": {
        "id": "QLuUM4afrHWb",
        "colab_type": "code",
        "outputId": "c4365c93-bb8b-401c-bc75-7d1bcf438fa6",
        "colab": {
          "base_uri": "https://localhost:8080/",
          "height": 421
        }
      },
      "source": [
        "tmp"
      ],
      "execution_count": 0,
      "outputs": [
        {
          "output_type": "execute_result",
          "data": {
            "text/html": [
              "<div>\n",
              "<style scoped>\n",
              "    .dataframe tbody tr th:only-of-type {\n",
              "        vertical-align: middle;\n",
              "    }\n",
              "\n",
              "    .dataframe tbody tr th {\n",
              "        vertical-align: top;\n",
              "    }\n",
              "\n",
              "    .dataframe thead th {\n",
              "        text-align: right;\n",
              "    }\n",
              "</style>\n",
              "<table border=\"1\" class=\"dataframe\">\n",
              "  <thead>\n",
              "    <tr style=\"text-align: right;\">\n",
              "      <th></th>\n",
              "      <th>2010</th>\n",
              "      <th>2011</th>\n",
              "      <th>2012</th>\n",
              "      <th>2013</th>\n",
              "      <th>2014</th>\n",
              "      <th>2015</th>\n",
              "      <th>2016</th>\n",
              "      <th>2017</th>\n",
              "      <th>2018</th>\n",
              "      <th>2019</th>\n",
              "      <th>2020</th>\n",
              "    </tr>\n",
              "  </thead>\n",
              "  <tbody>\n",
              "    <tr>\n",
              "      <th>1월</th>\n",
              "      <td>2,268</td>\n",
              "      <td>4,509</td>\n",
              "      <td>1,797</td>\n",
              "      <td>3,263</td>\n",
              "      <td>2,019</td>\n",
              "      <td>2,230</td>\n",
              "      <td>3,306</td>\n",
              "      <td>3,708</td>\n",
              "      <td>3,026</td>\n",
              "      <td>3,000</td>\n",
              "      <td>2,718</td>\n",
              "    </tr>\n",
              "    <tr>\n",
              "      <th>2월</th>\n",
              "      <td>2,491</td>\n",
              "      <td>4,653</td>\n",
              "      <td>2,303</td>\n",
              "      <td>3,275</td>\n",
              "      <td>2,099</td>\n",
              "      <td>2,402</td>\n",
              "      <td>4,487</td>\n",
              "      <td>3,737</td>\n",
              "      <td>3,739</td>\n",
              "      <td>2,570</td>\n",
              "      <td>2,213</td>\n",
              "    </tr>\n",
              "    <tr>\n",
              "      <th>3월</th>\n",
              "      <td>2,571</td>\n",
              "      <td>4,036</td>\n",
              "      <td>2,086</td>\n",
              "      <td>3,160</td>\n",
              "      <td>2,011</td>\n",
              "      <td>2,591</td>\n",
              "      <td>4,000</td>\n",
              "      <td>4,069</td>\n",
              "      <td>2,966</td>\n",
              "      <td>2,202</td>\n",
              "      <td>2,077</td>\n",
              "    </tr>\n",
              "    <tr>\n",
              "      <th>4월</th>\n",
              "      <td>2,701</td>\n",
              "      <td>2,949</td>\n",
              "      <td>1,737</td>\n",
              "      <td>3,269</td>\n",
              "      <td>1,802</td>\n",
              "      <td>2,471</td>\n",
              "      <td>3,414</td>\n",
              "      <td>3,546</td>\n",
              "      <td>2,369</td>\n",
              "      <td>1,963</td>\n",
              "      <td>1,901</td>\n",
              "    </tr>\n",
              "    <tr>\n",
              "      <th>5월</th>\n",
              "      <td>3,082</td>\n",
              "      <td>1,898</td>\n",
              "      <td>2,233</td>\n",
              "      <td>3,068</td>\n",
              "      <td>1,756</td>\n",
              "      <td>2,876</td>\n",
              "      <td>3,329</td>\n",
              "      <td>2,968</td>\n",
              "      <td>2,368</td>\n",
              "      <td>2,078</td>\n",
              "      <td>-</td>\n",
              "    </tr>\n",
              "    <tr>\n",
              "      <th>6월</th>\n",
              "      <td>3,094</td>\n",
              "      <td>1,684</td>\n",
              "      <td>2,956</td>\n",
              "      <td>2,584</td>\n",
              "      <td>1,788</td>\n",
              "      <td>3,591</td>\n",
              "      <td>2,935</td>\n",
              "      <td>2,702</td>\n",
              "      <td>2,469</td>\n",
              "      <td>2,773</td>\n",
              "      <td>-</td>\n",
              "    </tr>\n",
              "    <tr>\n",
              "      <th>7월</th>\n",
              "      <td>2,961</td>\n",
              "      <td>1,747</td>\n",
              "      <td>2,759</td>\n",
              "      <td>2,007</td>\n",
              "      <td>1,836</td>\n",
              "      <td>3,236</td>\n",
              "      <td>2,674</td>\n",
              "      <td>2,592</td>\n",
              "      <td>2,490</td>\n",
              "      <td>2,618</td>\n",
              "      <td>-</td>\n",
              "    </tr>\n",
              "    <tr>\n",
              "      <th>8월</th>\n",
              "      <td>2,498</td>\n",
              "      <td>2,074</td>\n",
              "      <td>2,978</td>\n",
              "      <td>2,234</td>\n",
              "      <td>2,124</td>\n",
              "      <td>3,141</td>\n",
              "      <td>2,599</td>\n",
              "      <td>3,187</td>\n",
              "      <td>3,203</td>\n",
              "      <td>2,898</td>\n",
              "      <td>-</td>\n",
              "    </tr>\n",
              "    <tr>\n",
              "      <th>9월</th>\n",
              "      <td>4,908</td>\n",
              "      <td>2,629</td>\n",
              "      <td>3,924</td>\n",
              "      <td>2,579</td>\n",
              "      <td>2,333</td>\n",
              "      <td>3,174</td>\n",
              "      <td>3,313</td>\n",
              "      <td>3,475</td>\n",
              "      <td>4,816</td>\n",
              "      <td>3,090</td>\n",
              "      <td>-</td>\n",
              "    </tr>\n",
              "    <tr>\n",
              "      <th>10월</th>\n",
              "      <td>5,909</td>\n",
              "      <td>2,128</td>\n",
              "      <td>3,859</td>\n",
              "      <td>2,425</td>\n",
              "      <td>2,079</td>\n",
              "      <td>2,960</td>\n",
              "      <td>3,363</td>\n",
              "      <td>3,218</td>\n",
              "      <td>4,208</td>\n",
              "      <td>3,090</td>\n",
              "      <td>-</td>\n",
              "    </tr>\n",
              "    <tr>\n",
              "      <th>11월</th>\n",
              "      <td>4,844</td>\n",
              "      <td>1,679</td>\n",
              "      <td>3,335</td>\n",
              "      <td>2,235</td>\n",
              "      <td>1,893</td>\n",
              "      <td>2,754</td>\n",
              "      <td>3,417</td>\n",
              "      <td>2,866</td>\n",
              "      <td>3,338</td>\n",
              "      <td>2,996</td>\n",
              "      <td>-</td>\n",
              "    </tr>\n",
              "    <tr>\n",
              "      <th>12월</th>\n",
              "      <td>4,161</td>\n",
              "      <td>1,617</td>\n",
              "      <td>3,425</td>\n",
              "      <td>2,355</td>\n",
              "      <td>2,424</td>\n",
              "      <td>3,324</td>\n",
              "      <td>3,775</td>\n",
              "      <td>2,948</td>\n",
              "      <td>3,238</td>\n",
              "      <td>2,877</td>\n",
              "      <td>-</td>\n",
              "    </tr>\n",
              "  </tbody>\n",
              "</table>\n",
              "</div>"
            ],
            "text/plain": [
              "      2010   2011   2012   2013   2014  ...   2016   2017   2018   2019   2020\n",
              "1월   2,268  4,509  1,797  3,263  2,019  ...  3,306  3,708  3,026  3,000  2,718\n",
              "2월   2,491  4,653  2,303  3,275  2,099  ...  4,487  3,737  3,739  2,570  2,213\n",
              "3월   2,571  4,036  2,086  3,160  2,011  ...  4,000  4,069  2,966  2,202  2,077\n",
              "4월   2,701  2,949  1,737  3,269  1,802  ...  3,414  3,546  2,369  1,963  1,901\n",
              "5월   3,082  1,898  2,233  3,068  1,756  ...  3,329  2,968  2,368  2,078      -\n",
              "6월   3,094  1,684  2,956  2,584  1,788  ...  2,935  2,702  2,469  2,773      -\n",
              "7월   2,961  1,747  2,759  2,007  1,836  ...  2,674  2,592  2,490  2,618      -\n",
              "8월   2,498  2,074  2,978  2,234  2,124  ...  2,599  3,187  3,203  2,898      -\n",
              "9월   4,908  2,629  3,924  2,579  2,333  ...  3,313  3,475  4,816  3,090      -\n",
              "10월  5,909  2,128  3,859  2,425  2,079  ...  3,363  3,218  4,208  3,090      -\n",
              "11월  4,844  1,679  3,335  2,235  1,893  ...  3,417  2,866  3,338  2,996      -\n",
              "12월  4,161  1,617  3,425  2,355  2,424  ...  3,775  2,948  3,238  2,877      -\n",
              "\n",
              "[12 rows x 11 columns]"
            ]
          },
          "metadata": {
            "tags": []
          },
          "execution_count": 47
        }
      ]
    },
    {
      "cell_type": "code",
      "metadata": {
        "id": "itYGozQswo6E",
        "colab_type": "code",
        "outputId": "e917b4b8-dc40-4bfe-9ddf-093b121d3dae",
        "colab": {
          "base_uri": "https://localhost:8080/",
          "height": 467
        }
      },
      "source": [
        "tmp['2010'].append(tmp['2011'])"
      ],
      "execution_count": 0,
      "outputs": [
        {
          "output_type": "execute_result",
          "data": {
            "text/plain": [
              "1월     2,268\n",
              "2월     2,491\n",
              "3월     2,571\n",
              "4월     2,701\n",
              "5월     3,082\n",
              "6월     3,094\n",
              "7월     2,961\n",
              "8월     2,498\n",
              "9월     4,908\n",
              "10월    5,909\n",
              "11월    4,844\n",
              "12월    4,161\n",
              "1월     4,509\n",
              "2월     4,653\n",
              "3월     4,036\n",
              "4월     2,949\n",
              "5월     1,898\n",
              "6월     1,684\n",
              "7월     1,747\n",
              "8월     2,074\n",
              "9월     2,629\n",
              "10월    2,128\n",
              "11월    1,679\n",
              "12월    1,617\n",
              "dtype: object"
            ]
          },
          "metadata": {
            "tags": []
          },
          "execution_count": 48
        }
      ]
    },
    {
      "cell_type": "code",
      "metadata": {
        "id": "EUlMnta1x--s",
        "colab_type": "code",
        "outputId": "f0ae10d1-fe3b-4a3f-ca83-0126fe9aaec5",
        "colab": {
          "base_uri": "https://localhost:8080/",
          "height": 35
        }
      },
      "source": [
        "len(tmp.columns)"
      ],
      "execution_count": 0,
      "outputs": [
        {
          "output_type": "execute_result",
          "data": {
            "text/plain": [
              "11"
            ]
          },
          "metadata": {
            "tags": []
          },
          "execution_count": 49
        }
      ]
    },
    {
      "cell_type": "code",
      "metadata": {
        "id": "QYTudrGUwIzx",
        "colab_type": "code",
        "outputId": "51a16fc9-47c0-40bc-b22c-37a8d62623e1",
        "colab": {
          "base_uri": "https://localhost:8080/",
          "height": 1000
        }
      },
      "source": [
        "a=2010\n",
        "b=[]\n",
        "for i in range(len(tmp.columns)):  \n",
        "  # print(tmp[str(a+i)])\n",
        "  b.append(tmp[str(a+i)])\n",
        "print(b)"
      ],
      "execution_count": 0,
      "outputs": [
        {
          "output_type": "stream",
          "text": [
            "[1월     2,268\n",
            "2월     2,491\n",
            "3월     2,571\n",
            "4월     2,701\n",
            "5월     3,082\n",
            "6월     3,094\n",
            "7월     2,961\n",
            "8월     2,498\n",
            "9월     4,908\n",
            "10월    5,909\n",
            "11월    4,844\n",
            "12월    4,161\n",
            "Name: 2010, dtype: object, 1월     4,509\n",
            "2월     4,653\n",
            "3월     4,036\n",
            "4월     2,949\n",
            "5월     1,898\n",
            "6월     1,684\n",
            "7월     1,747\n",
            "8월     2,074\n",
            "9월     2,629\n",
            "10월    2,128\n",
            "11월    1,679\n",
            "12월    1,617\n",
            "Name: 2011, dtype: object, 1월     1,797\n",
            "2월     2,303\n",
            "3월     2,086\n",
            "4월     1,737\n",
            "5월     2,233\n",
            "6월     2,956\n",
            "7월     2,759\n",
            "8월     2,978\n",
            "9월     3,924\n",
            "10월    3,859\n",
            "11월    3,335\n",
            "12월    3,425\n",
            "Name: 2012, dtype: object, 1월     3,263\n",
            "2월     3,275\n",
            "3월     3,160\n",
            "4월     3,269\n",
            "5월     3,068\n",
            "6월     2,584\n",
            "7월     2,007\n",
            "8월     2,234\n",
            "9월     2,579\n",
            "10월    2,425\n",
            "11월    2,235\n",
            "12월    2,355\n",
            "Name: 2013, dtype: object, 1월     2,019\n",
            "2월     2,099\n",
            "3월     2,011\n",
            "4월     1,802\n",
            "5월     1,756\n",
            "6월     1,788\n",
            "7월     1,836\n",
            "8월     2,124\n",
            "9월     2,333\n",
            "10월    2,079\n",
            "11월    1,893\n",
            "12월    2,424\n",
            "Name: 2014, dtype: object, 1월     2,230\n",
            "2월     2,402\n",
            "3월     2,591\n",
            "4월     2,471\n",
            "5월     2,876\n",
            "6월     3,591\n",
            "7월     3,236\n",
            "8월     3,141\n",
            "9월     3,174\n",
            "10월    2,960\n",
            "11월    2,754\n",
            "12월    3,324\n",
            "Name: 2015, dtype: object, 1월     3,306\n",
            "2월     4,487\n",
            "3월     4,000\n",
            "4월     3,414\n",
            "5월     3,329\n",
            "6월     2,935\n",
            "7월     2,674\n",
            "8월     2,599\n",
            "9월     3,313\n",
            "10월    3,363\n",
            "11월    3,417\n",
            "12월    3,775\n",
            "Name: 2016, dtype: object, 1월     3,708\n",
            "2월     3,737\n",
            "3월     4,069\n",
            "4월     3,546\n",
            "5월     2,968\n",
            "6월     2,702\n",
            "7월     2,592\n",
            "8월     3,187\n",
            "9월     3,475\n",
            "10월    3,218\n",
            "11월    2,866\n",
            "12월    2,948\n",
            "Name: 2017, dtype: object, 1월     3,026\n",
            "2월     3,739\n",
            "3월     2,966\n",
            "4월     2,369\n",
            "5월     2,368\n",
            "6월     2,469\n",
            "7월     2,490\n",
            "8월     3,203\n",
            "9월     4,816\n",
            "10월    4,208\n",
            "11월    3,338\n",
            "12월    3,238\n",
            "Name: 2018, dtype: object, 1월     3,000\n",
            "2월     2,570\n",
            "3월     2,202\n",
            "4월     1,963\n",
            "5월     2,078\n",
            "6월     2,773\n",
            "7월     2,618\n",
            "8월     2,898\n",
            "9월     3,090\n",
            "10월    3,090\n",
            "11월    2,996\n",
            "12월    2,877\n",
            "Name: 2019, dtype: object, 1월     2,718\n",
            "2월     2,213\n",
            "3월     2,077\n",
            "4월     1,901\n",
            "5월         -\n",
            "6월         -\n",
            "7월         -\n",
            "8월         -\n",
            "9월         -\n",
            "10월        -\n",
            "11월        -\n",
            "12월        -\n",
            "Name: 2020, dtype: object]\n"
          ],
          "name": "stdout"
        }
      ]
    },
    {
      "cell_type": "code",
      "metadata": {
        "id": "Zw4Atrqly2Gh",
        "colab_type": "code",
        "colab": {}
      },
      "source": [
        "a1=pd.DataFrame(data=tmp['2010'])\n",
        "a2=pd.DataFrame(data=tmp['2011'])\n",
        "a3=pd.DataFrame(data=tmp['2012'])\n",
        "a4=pd.DataFrame(data=tmp['2013'])\n",
        "a5=pd.DataFrame(data=tmp['2014'])\n",
        "a6=pd.DataFrame(data=tmp['2015'])\n",
        "a7=pd.DataFrame(data=tmp['2016'])\n",
        "a8=pd.DataFrame(data=tmp['2017'])\n",
        "a9=pd.DataFrame(data=tmp['2018'])\n",
        "a10=pd.DataFrame(data=tmp['2019'])"
      ],
      "execution_count": 0,
      "outputs": []
    },
    {
      "cell_type": "code",
      "metadata": {
        "id": "-B9hSkeO059L",
        "colab_type": "code",
        "outputId": "e676d3ad-2157-4592-e832-5d9aac19e07a",
        "colab": {
          "base_uri": "https://localhost:8080/",
          "height": 35
        }
      },
      "source": [
        "tmp.shape"
      ],
      "execution_count": 0,
      "outputs": [
        {
          "output_type": "execute_result",
          "data": {
            "text/plain": [
              "(12, 11)"
            ]
          },
          "metadata": {
            "tags": []
          },
          "execution_count": 52
        }
      ]
    },
    {
      "cell_type": "code",
      "metadata": {
        "id": "1am_Wik64S9s",
        "colab_type": "code",
        "colab": {}
      },
      "source": [
        "a=[]\n",
        "b=[]\n",
        "for i in range(2010,2020):\n",
        "  for j in range(1,13):\n",
        "    a.append(tmp[str(i)][j-1])\n",
        "    b.append('{}-{}-01'.format(i,j))\n"
      ],
      "execution_count": 0,
      "outputs": []
    },
    {
      "cell_type": "code",
      "metadata": {
        "id": "BVL2Ctsm5Gch",
        "colab_type": "code",
        "colab": {}
      },
      "source": [
        "price=pd.DataFrame(data=({'일시':b, 'price':a}))"
      ],
      "execution_count": 0,
      "outputs": []
    },
    {
      "cell_type": "code",
      "metadata": {
        "id": "BWPsxMJy8DhY",
        "colab_type": "code",
        "colab": {}
      },
      "source": [
        "price['일시']=pd.to_datetime(price['일시'],format='%Y-%m-%d',)"
      ],
      "execution_count": 0,
      "outputs": []
    },
    {
      "cell_type": "code",
      "metadata": {
        "id": "ygsuaydn5pYt",
        "colab_type": "code",
        "outputId": "fe43f3d5-4d32-45b4-fe91-75fef428b6f8",
        "colab": {
          "base_uri": "https://localhost:8080/",
          "height": 179
        }
      },
      "source": [
        "price.info()"
      ],
      "execution_count": 0,
      "outputs": [
        {
          "output_type": "stream",
          "text": [
            "<class 'pandas.core.frame.DataFrame'>\n",
            "RangeIndex: 120 entries, 0 to 119\n",
            "Data columns (total 2 columns):\n",
            " #   Column  Non-Null Count  Dtype         \n",
            "---  ------  --------------  -----         \n",
            " 0   일시      120 non-null    datetime64[ns]\n",
            " 1   price   120 non-null    object        \n",
            "dtypes: datetime64[ns](1), object(1)\n",
            "memory usage: 2.0+ KB\n"
          ],
          "name": "stdout"
        }
      ]
    },
    {
      "cell_type": "code",
      "metadata": {
        "id": "Z0INqkEF8chY",
        "colab_type": "code",
        "outputId": "619bf949-b562-4814-949a-7b0d63583710",
        "colab": {
          "base_uri": "https://localhost:8080/",
          "height": 419
        }
      },
      "source": [
        "price"
      ],
      "execution_count": 0,
      "outputs": [
        {
          "output_type": "execute_result",
          "data": {
            "text/html": [
              "<div>\n",
              "<style scoped>\n",
              "    .dataframe tbody tr th:only-of-type {\n",
              "        vertical-align: middle;\n",
              "    }\n",
              "\n",
              "    .dataframe tbody tr th {\n",
              "        vertical-align: top;\n",
              "    }\n",
              "\n",
              "    .dataframe thead th {\n",
              "        text-align: right;\n",
              "    }\n",
              "</style>\n",
              "<table border=\"1\" class=\"dataframe\">\n",
              "  <thead>\n",
              "    <tr style=\"text-align: right;\">\n",
              "      <th></th>\n",
              "      <th>일시</th>\n",
              "      <th>price</th>\n",
              "    </tr>\n",
              "  </thead>\n",
              "  <tbody>\n",
              "    <tr>\n",
              "      <th>0</th>\n",
              "      <td>2010-01-01</td>\n",
              "      <td>2,268</td>\n",
              "    </tr>\n",
              "    <tr>\n",
              "      <th>1</th>\n",
              "      <td>2010-02-01</td>\n",
              "      <td>2,491</td>\n",
              "    </tr>\n",
              "    <tr>\n",
              "      <th>2</th>\n",
              "      <td>2010-03-01</td>\n",
              "      <td>2,571</td>\n",
              "    </tr>\n",
              "    <tr>\n",
              "      <th>3</th>\n",
              "      <td>2010-04-01</td>\n",
              "      <td>2,701</td>\n",
              "    </tr>\n",
              "    <tr>\n",
              "      <th>4</th>\n",
              "      <td>2010-05-01</td>\n",
              "      <td>3,082</td>\n",
              "    </tr>\n",
              "    <tr>\n",
              "      <th>...</th>\n",
              "      <td>...</td>\n",
              "      <td>...</td>\n",
              "    </tr>\n",
              "    <tr>\n",
              "      <th>115</th>\n",
              "      <td>2019-08-01</td>\n",
              "      <td>2,898</td>\n",
              "    </tr>\n",
              "    <tr>\n",
              "      <th>116</th>\n",
              "      <td>2019-09-01</td>\n",
              "      <td>3,090</td>\n",
              "    </tr>\n",
              "    <tr>\n",
              "      <th>117</th>\n",
              "      <td>2019-10-01</td>\n",
              "      <td>3,090</td>\n",
              "    </tr>\n",
              "    <tr>\n",
              "      <th>118</th>\n",
              "      <td>2019-11-01</td>\n",
              "      <td>2,996</td>\n",
              "    </tr>\n",
              "    <tr>\n",
              "      <th>119</th>\n",
              "      <td>2019-12-01</td>\n",
              "      <td>2,877</td>\n",
              "    </tr>\n",
              "  </tbody>\n",
              "</table>\n",
              "<p>120 rows × 2 columns</p>\n",
              "</div>"
            ],
            "text/plain": [
              "            일시  price\n",
              "0   2010-01-01  2,268\n",
              "1   2010-02-01  2,491\n",
              "2   2010-03-01  2,571\n",
              "3   2010-04-01  2,701\n",
              "4   2010-05-01  3,082\n",
              "..         ...    ...\n",
              "115 2019-08-01  2,898\n",
              "116 2019-09-01  3,090\n",
              "117 2019-10-01  3,090\n",
              "118 2019-11-01  2,996\n",
              "119 2019-12-01  2,877\n",
              "\n",
              "[120 rows x 2 columns]"
            ]
          },
          "metadata": {
            "tags": []
          },
          "execution_count": 57
        }
      ]
    },
    {
      "cell_type": "code",
      "metadata": {
        "id": "8BGNf7rM5wwz",
        "colab_type": "code",
        "outputId": "8b9c79b8-d384-4f4b-980f-4b7fadb59416",
        "colab": {
          "base_uri": "https://localhost:8080/",
          "height": 606
        }
      },
      "source": [
        "all_weather"
      ],
      "execution_count": 0,
      "outputs": [
        {
          "output_type": "execute_result",
          "data": {
            "text/html": [
              "<div>\n",
              "<style scoped>\n",
              "    .dataframe tbody tr th:only-of-type {\n",
              "        vertical-align: middle;\n",
              "    }\n",
              "\n",
              "    .dataframe tbody tr th {\n",
              "        vertical-align: top;\n",
              "    }\n",
              "\n",
              "    .dataframe thead th {\n",
              "        text-align: right;\n",
              "    }\n",
              "</style>\n",
              "<table border=\"1\" class=\"dataframe\">\n",
              "  <thead>\n",
              "    <tr style=\"text-align: right;\">\n",
              "      <th></th>\n",
              "      <th>일시</th>\n",
              "      <th>평균풍속(m/s)</th>\n",
              "      <th>최대풍속(m/s)</th>\n",
              "      <th>평균기온(℃)</th>\n",
              "      <th>최고기온 평균(℃)</th>\n",
              "      <th>최저기온 평균(℃)</th>\n",
              "      <th>강수량(mm)</th>\n",
              "      <th>평균현지기압(hPa)</th>\n",
              "      <th>최고현지기압(hPa)</th>\n",
              "      <th>최저현지기압(hPa)</th>\n",
              "      <th>평균해면기압(hPa)</th>\n",
              "      <th>최고해면기압(hPa)</th>\n",
              "      <th>최저해면기압(hPa)</th>\n",
              "      <th>평균상대습도(%)</th>\n",
              "      <th>최소상대습도(%)</th>\n",
              "      <th>합계일조시간(hr)</th>\n",
              "      <th>합계전천일사량(MJ/㎡)</th>\n",
              "    </tr>\n",
              "  </thead>\n",
              "  <tbody>\n",
              "    <tr>\n",
              "      <th>0</th>\n",
              "      <td>2010-01-01</td>\n",
              "      <td>10.6</td>\n",
              "      <td>27.8</td>\n",
              "      <td>-1.6</td>\n",
              "      <td>3.6</td>\n",
              "      <td>-6.4</td>\n",
              "      <td>182.9</td>\n",
              "      <td>1023.5</td>\n",
              "      <td>1034.7</td>\n",
              "      <td>1008.7</td>\n",
              "      <td>1026.5</td>\n",
              "      <td>1039.1</td>\n",
              "      <td>1010.8</td>\n",
              "      <td>80.0</td>\n",
              "      <td>44</td>\n",
              "      <td>225.7</td>\n",
              "      <td>336.70</td>\n",
              "    </tr>\n",
              "    <tr>\n",
              "      <th>1</th>\n",
              "      <td>2010-02-01</td>\n",
              "      <td>7.7</td>\n",
              "      <td>21.3</td>\n",
              "      <td>2.4</td>\n",
              "      <td>7.1</td>\n",
              "      <td>-1.8</td>\n",
              "      <td>157.5</td>\n",
              "      <td>1020.6</td>\n",
              "      <td>1030.9</td>\n",
              "      <td>1007.8</td>\n",
              "      <td>1023.3</td>\n",
              "      <td>1035.0</td>\n",
              "      <td>1008.9</td>\n",
              "      <td>78.0</td>\n",
              "      <td>32</td>\n",
              "      <td>154.2</td>\n",
              "      <td>309.92</td>\n",
              "    </tr>\n",
              "    <tr>\n",
              "      <th>2</th>\n",
              "      <td>2010-03-01</td>\n",
              "      <td>8.3</td>\n",
              "      <td>28.4</td>\n",
              "      <td>5.4</td>\n",
              "      <td>9.8</td>\n",
              "      <td>1.2</td>\n",
              "      <td>259.3</td>\n",
              "      <td>1020.0</td>\n",
              "      <td>1034.1</td>\n",
              "      <td>999.6</td>\n",
              "      <td>1022.0</td>\n",
              "      <td>1037.0</td>\n",
              "      <td>1002.4</td>\n",
              "      <td>78.0</td>\n",
              "      <td>28</td>\n",
              "      <td>163.6</td>\n",
              "      <td>412.31</td>\n",
              "    </tr>\n",
              "    <tr>\n",
              "      <th>3</th>\n",
              "      <td>2010-04-01</td>\n",
              "      <td>7.1</td>\n",
              "      <td>24.5</td>\n",
              "      <td>9.7</td>\n",
              "      <td>15.2</td>\n",
              "      <td>4.5</td>\n",
              "      <td>324.8</td>\n",
              "      <td>1018.2</td>\n",
              "      <td>1028.6</td>\n",
              "      <td>1006.8</td>\n",
              "      <td>1019.5</td>\n",
              "      <td>1030.3</td>\n",
              "      <td>1007.6</td>\n",
              "      <td>74.0</td>\n",
              "      <td>28</td>\n",
              "      <td>194.5</td>\n",
              "      <td>574.44</td>\n",
              "    </tr>\n",
              "    <tr>\n",
              "      <th>4</th>\n",
              "      <td>2010-05-01</td>\n",
              "      <td>5.5</td>\n",
              "      <td>15.8</td>\n",
              "      <td>16.9</td>\n",
              "      <td>22.6</td>\n",
              "      <td>11.5</td>\n",
              "      <td>269.0</td>\n",
              "      <td>1011.4</td>\n",
              "      <td>1021.4</td>\n",
              "      <td>993.0</td>\n",
              "      <td>1012.5</td>\n",
              "      <td>1024.5</td>\n",
              "      <td>994.6</td>\n",
              "      <td>81.0</td>\n",
              "      <td>34</td>\n",
              "      <td>233.6</td>\n",
              "      <td>690.68</td>\n",
              "    </tr>\n",
              "    <tr>\n",
              "      <th>...</th>\n",
              "      <td>...</td>\n",
              "      <td>...</td>\n",
              "      <td>...</td>\n",
              "      <td>...</td>\n",
              "      <td>...</td>\n",
              "      <td>...</td>\n",
              "      <td>...</td>\n",
              "      <td>...</td>\n",
              "      <td>...</td>\n",
              "      <td>...</td>\n",
              "      <td>...</td>\n",
              "      <td>...</td>\n",
              "      <td>...</td>\n",
              "      <td>...</td>\n",
              "      <td>...</td>\n",
              "      <td>...</td>\n",
              "      <td>...</td>\n",
              "    </tr>\n",
              "    <tr>\n",
              "      <th>119</th>\n",
              "      <td>2019-12-01</td>\n",
              "      <td>7.8</td>\n",
              "      <td>22.7</td>\n",
              "      <td>3.0</td>\n",
              "      <td>8.2</td>\n",
              "      <td>-1.5</td>\n",
              "      <td>103.7</td>\n",
              "      <td>1025.3</td>\n",
              "      <td>1038.5</td>\n",
              "      <td>1013.5</td>\n",
              "      <td>1026.8</td>\n",
              "      <td>1040.6</td>\n",
              "      <td>1014.9</td>\n",
              "      <td>81.0</td>\n",
              "      <td>45</td>\n",
              "      <td>214.3</td>\n",
              "      <td>375.17</td>\n",
              "    </tr>\n",
              "    <tr>\n",
              "      <th>120</th>\n",
              "      <td>2020-01-01</td>\n",
              "      <td>8.1</td>\n",
              "      <td>26.6</td>\n",
              "      <td>2.9</td>\n",
              "      <td>7.7</td>\n",
              "      <td>-0.9</td>\n",
              "      <td>178.7</td>\n",
              "      <td>1022.9</td>\n",
              "      <td>1034.3</td>\n",
              "      <td>1005.1</td>\n",
              "      <td>1024.7</td>\n",
              "      <td>1036.5</td>\n",
              "      <td>1007.9</td>\n",
              "      <td>81.0</td>\n",
              "      <td>49</td>\n",
              "      <td>194.6</td>\n",
              "      <td>283.59</td>\n",
              "    </tr>\n",
              "    <tr>\n",
              "      <th>121</th>\n",
              "      <td>2020-02-01</td>\n",
              "      <td>7.8</td>\n",
              "      <td>26.8</td>\n",
              "      <td>3.7</td>\n",
              "      <td>9.1</td>\n",
              "      <td>-1.1</td>\n",
              "      <td>215.7</td>\n",
              "      <td>1024.3</td>\n",
              "      <td>1035.9</td>\n",
              "      <td>1011.6</td>\n",
              "      <td>1025.8</td>\n",
              "      <td>1041.6</td>\n",
              "      <td>1013.2</td>\n",
              "      <td>81.0</td>\n",
              "      <td>42</td>\n",
              "      <td>216.5</td>\n",
              "      <td>384.20</td>\n",
              "    </tr>\n",
              "    <tr>\n",
              "      <th>122</th>\n",
              "      <td>2020-03-01</td>\n",
              "      <td>7.5</td>\n",
              "      <td>22.4</td>\n",
              "      <td>7.9</td>\n",
              "      <td>14.0</td>\n",
              "      <td>1.9</td>\n",
              "      <td>132.2</td>\n",
              "      <td>1017.9</td>\n",
              "      <td>1027.9</td>\n",
              "      <td>1005.0</td>\n",
              "      <td>1019.1</td>\n",
              "      <td>1029.8</td>\n",
              "      <td>1006.6</td>\n",
              "      <td>73.0</td>\n",
              "      <td>32</td>\n",
              "      <td>273.6</td>\n",
              "      <td>581.49</td>\n",
              "    </tr>\n",
              "    <tr>\n",
              "      <th>123</th>\n",
              "      <td>2020-04-01</td>\n",
              "      <td>0.0</td>\n",
              "      <td>18.4</td>\n",
              "      <td>0.0</td>\n",
              "      <td>0.0</td>\n",
              "      <td>0.0</td>\n",
              "      <td>52.7</td>\n",
              "      <td>0.0</td>\n",
              "      <td>1027.4</td>\n",
              "      <td>1010.0</td>\n",
              "      <td>0.0</td>\n",
              "      <td>1029.8</td>\n",
              "      <td>1012.9</td>\n",
              "      <td>0.0</td>\n",
              "      <td>31</td>\n",
              "      <td>156.7</td>\n",
              "      <td>346.27</td>\n",
              "    </tr>\n",
              "  </tbody>\n",
              "</table>\n",
              "<p>124 rows × 17 columns</p>\n",
              "</div>"
            ],
            "text/plain": [
              "            일시  평균풍속(m/s)  최대풍속(m/s)  ...  최소상대습도(%)  합계일조시간(hr)  합계전천일사량(MJ/㎡)\n",
              "0   2010-01-01       10.6       27.8  ...         44       225.7         336.70\n",
              "1   2010-02-01        7.7       21.3  ...         32       154.2         309.92\n",
              "2   2010-03-01        8.3       28.4  ...         28       163.6         412.31\n",
              "3   2010-04-01        7.1       24.5  ...         28       194.5         574.44\n",
              "4   2010-05-01        5.5       15.8  ...         34       233.6         690.68\n",
              "..         ...        ...        ...  ...        ...         ...            ...\n",
              "119 2019-12-01        7.8       22.7  ...         45       214.3         375.17\n",
              "120 2020-01-01        8.1       26.6  ...         49       194.6         283.59\n",
              "121 2020-02-01        7.8       26.8  ...         42       216.5         384.20\n",
              "122 2020-03-01        7.5       22.4  ...         32       273.6         581.49\n",
              "123 2020-04-01        0.0       18.4  ...         31       156.7         346.27\n",
              "\n",
              "[124 rows x 17 columns]"
            ]
          },
          "metadata": {
            "tags": []
          },
          "execution_count": 58
        }
      ]
    },
    {
      "cell_type": "code",
      "metadata": {
        "id": "FAaHdZe1wTEU",
        "colab_type": "code",
        "colab": {}
      },
      "source": [
        "all_weather['price']=price['price']"
      ],
      "execution_count": 0,
      "outputs": []
    },
    {
      "cell_type": "code",
      "metadata": {
        "id": "Ot9ilOwT6Jhu",
        "colab_type": "code",
        "colab": {}
      },
      "source": [
        "all_weather=all_weather.drop(columns='price')"
      ],
      "execution_count": 0,
      "outputs": []
    },
    {
      "cell_type": "code",
      "metadata": {
        "id": "SA4aL_p36eGX",
        "colab_type": "code",
        "colab": {}
      },
      "source": [
        "df_pa=pd.merge(all_weather, price,how='inner',on='일시')"
      ],
      "execution_count": 0,
      "outputs": []
    },
    {
      "cell_type": "code",
      "metadata": {
        "id": "Gbyec7gX5ltp",
        "colab_type": "code",
        "colab": {}
      },
      "source": [
        "all_weather=all_weather.iloc[:-4,:]"
      ],
      "execution_count": 0,
      "outputs": []
    },
    {
      "cell_type": "code",
      "metadata": {
        "id": "4wvU2S_S6VGB",
        "colab_type": "code",
        "colab": {}
      },
      "source": [
        "all_weather['price']=price['price']"
      ],
      "execution_count": 0,
      "outputs": []
    },
    {
      "cell_type": "code",
      "metadata": {
        "id": "ru_o6yES6Zrx",
        "colab_type": "code",
        "outputId": "1c095ee2-4959-4010-f59d-8fafea382382",
        "colab": {
          "base_uri": "https://localhost:8080/",
          "height": 623
        }
      },
      "source": [
        "all_weather"
      ],
      "execution_count": 0,
      "outputs": [
        {
          "output_type": "execute_result",
          "data": {
            "text/html": [
              "<div>\n",
              "<style scoped>\n",
              "    .dataframe tbody tr th:only-of-type {\n",
              "        vertical-align: middle;\n",
              "    }\n",
              "\n",
              "    .dataframe tbody tr th {\n",
              "        vertical-align: top;\n",
              "    }\n",
              "\n",
              "    .dataframe thead th {\n",
              "        text-align: right;\n",
              "    }\n",
              "</style>\n",
              "<table border=\"1\" class=\"dataframe\">\n",
              "  <thead>\n",
              "    <tr style=\"text-align: right;\">\n",
              "      <th></th>\n",
              "      <th>일시</th>\n",
              "      <th>평균풍속(m/s)</th>\n",
              "      <th>최대풍속(m/s)</th>\n",
              "      <th>평균기온(℃)</th>\n",
              "      <th>최고기온 평균(℃)</th>\n",
              "      <th>최저기온 평균(℃)</th>\n",
              "      <th>강수량(mm)</th>\n",
              "      <th>평균현지기압(hPa)</th>\n",
              "      <th>최고현지기압(hPa)</th>\n",
              "      <th>최저현지기압(hPa)</th>\n",
              "      <th>평균해면기압(hPa)</th>\n",
              "      <th>최고해면기압(hPa)</th>\n",
              "      <th>최저해면기압(hPa)</th>\n",
              "      <th>평균상대습도(%)</th>\n",
              "      <th>최소상대습도(%)</th>\n",
              "      <th>합계일조시간(hr)</th>\n",
              "      <th>합계전천일사량(MJ/㎡)</th>\n",
              "      <th>price</th>\n",
              "    </tr>\n",
              "  </thead>\n",
              "  <tbody>\n",
              "    <tr>\n",
              "      <th>0</th>\n",
              "      <td>2010-01-01</td>\n",
              "      <td>10.6</td>\n",
              "      <td>27.8</td>\n",
              "      <td>-1.6</td>\n",
              "      <td>3.6</td>\n",
              "      <td>-6.4</td>\n",
              "      <td>182.9</td>\n",
              "      <td>1023.5</td>\n",
              "      <td>1034.7</td>\n",
              "      <td>1008.7</td>\n",
              "      <td>1026.5</td>\n",
              "      <td>1039.1</td>\n",
              "      <td>1010.8</td>\n",
              "      <td>80.0</td>\n",
              "      <td>44</td>\n",
              "      <td>225.7</td>\n",
              "      <td>336.70</td>\n",
              "      <td>2,268</td>\n",
              "    </tr>\n",
              "    <tr>\n",
              "      <th>1</th>\n",
              "      <td>2010-02-01</td>\n",
              "      <td>7.7</td>\n",
              "      <td>21.3</td>\n",
              "      <td>2.4</td>\n",
              "      <td>7.1</td>\n",
              "      <td>-1.8</td>\n",
              "      <td>157.5</td>\n",
              "      <td>1020.6</td>\n",
              "      <td>1030.9</td>\n",
              "      <td>1007.8</td>\n",
              "      <td>1023.3</td>\n",
              "      <td>1035.0</td>\n",
              "      <td>1008.9</td>\n",
              "      <td>78.0</td>\n",
              "      <td>32</td>\n",
              "      <td>154.2</td>\n",
              "      <td>309.92</td>\n",
              "      <td>2,491</td>\n",
              "    </tr>\n",
              "    <tr>\n",
              "      <th>2</th>\n",
              "      <td>2010-03-01</td>\n",
              "      <td>8.3</td>\n",
              "      <td>28.4</td>\n",
              "      <td>5.4</td>\n",
              "      <td>9.8</td>\n",
              "      <td>1.2</td>\n",
              "      <td>259.3</td>\n",
              "      <td>1020.0</td>\n",
              "      <td>1034.1</td>\n",
              "      <td>999.6</td>\n",
              "      <td>1022.0</td>\n",
              "      <td>1037.0</td>\n",
              "      <td>1002.4</td>\n",
              "      <td>78.0</td>\n",
              "      <td>28</td>\n",
              "      <td>163.6</td>\n",
              "      <td>412.31</td>\n",
              "      <td>2,571</td>\n",
              "    </tr>\n",
              "    <tr>\n",
              "      <th>3</th>\n",
              "      <td>2010-04-01</td>\n",
              "      <td>7.1</td>\n",
              "      <td>24.5</td>\n",
              "      <td>9.7</td>\n",
              "      <td>15.2</td>\n",
              "      <td>4.5</td>\n",
              "      <td>324.8</td>\n",
              "      <td>1018.2</td>\n",
              "      <td>1028.6</td>\n",
              "      <td>1006.8</td>\n",
              "      <td>1019.5</td>\n",
              "      <td>1030.3</td>\n",
              "      <td>1007.6</td>\n",
              "      <td>74.0</td>\n",
              "      <td>28</td>\n",
              "      <td>194.5</td>\n",
              "      <td>574.44</td>\n",
              "      <td>2,701</td>\n",
              "    </tr>\n",
              "    <tr>\n",
              "      <th>4</th>\n",
              "      <td>2010-05-01</td>\n",
              "      <td>5.5</td>\n",
              "      <td>15.8</td>\n",
              "      <td>16.9</td>\n",
              "      <td>22.6</td>\n",
              "      <td>11.5</td>\n",
              "      <td>269.0</td>\n",
              "      <td>1011.4</td>\n",
              "      <td>1021.4</td>\n",
              "      <td>993.0</td>\n",
              "      <td>1012.5</td>\n",
              "      <td>1024.5</td>\n",
              "      <td>994.6</td>\n",
              "      <td>81.0</td>\n",
              "      <td>34</td>\n",
              "      <td>233.6</td>\n",
              "      <td>690.68</td>\n",
              "      <td>3,082</td>\n",
              "    </tr>\n",
              "    <tr>\n",
              "      <th>...</th>\n",
              "      <td>...</td>\n",
              "      <td>...</td>\n",
              "      <td>...</td>\n",
              "      <td>...</td>\n",
              "      <td>...</td>\n",
              "      <td>...</td>\n",
              "      <td>...</td>\n",
              "      <td>...</td>\n",
              "      <td>...</td>\n",
              "      <td>...</td>\n",
              "      <td>...</td>\n",
              "      <td>...</td>\n",
              "      <td>...</td>\n",
              "      <td>...</td>\n",
              "      <td>...</td>\n",
              "      <td>...</td>\n",
              "      <td>...</td>\n",
              "      <td>...</td>\n",
              "    </tr>\n",
              "    <tr>\n",
              "      <th>115</th>\n",
              "      <td>2019-08-01</td>\n",
              "      <td>4.9</td>\n",
              "      <td>19.7</td>\n",
              "      <td>25.9</td>\n",
              "      <td>30.7</td>\n",
              "      <td>22.2</td>\n",
              "      <td>377.4</td>\n",
              "      <td>1007.2</td>\n",
              "      <td>1016.1</td>\n",
              "      <td>990.8</td>\n",
              "      <td>1008.1</td>\n",
              "      <td>1017.8</td>\n",
              "      <td>1003.2</td>\n",
              "      <td>93.0</td>\n",
              "      <td>61</td>\n",
              "      <td>278.8</td>\n",
              "      <td>656.40</td>\n",
              "      <td>2,898</td>\n",
              "    </tr>\n",
              "    <tr>\n",
              "      <th>116</th>\n",
              "      <td>2019-09-01</td>\n",
              "      <td>5.3</td>\n",
              "      <td>42.1</td>\n",
              "      <td>21.6</td>\n",
              "      <td>26.3</td>\n",
              "      <td>17.9</td>\n",
              "      <td>613.3</td>\n",
              "      <td>1015.0</td>\n",
              "      <td>1025.6</td>\n",
              "      <td>1001.0</td>\n",
              "      <td>1016.3</td>\n",
              "      <td>1028.6</td>\n",
              "      <td>1001.7</td>\n",
              "      <td>93.0</td>\n",
              "      <td>54</td>\n",
              "      <td>201.4</td>\n",
              "      <td>468.31</td>\n",
              "      <td>3,090</td>\n",
              "    </tr>\n",
              "    <tr>\n",
              "      <th>117</th>\n",
              "      <td>2019-10-01</td>\n",
              "      <td>6.5</td>\n",
              "      <td>22.4</td>\n",
              "      <td>15.7</td>\n",
              "      <td>21.3</td>\n",
              "      <td>11.0</td>\n",
              "      <td>661.3</td>\n",
              "      <td>1018.1</td>\n",
              "      <td>1030.1</td>\n",
              "      <td>1001.6</td>\n",
              "      <td>1020.0</td>\n",
              "      <td>1032.7</td>\n",
              "      <td>1005.0</td>\n",
              "      <td>88.0</td>\n",
              "      <td>43</td>\n",
              "      <td>242.6</td>\n",
              "      <td>550.39</td>\n",
              "      <td>3,090</td>\n",
              "    </tr>\n",
              "    <tr>\n",
              "      <th>118</th>\n",
              "      <td>2019-11-01</td>\n",
              "      <td>7.0</td>\n",
              "      <td>22.2</td>\n",
              "      <td>8.8</td>\n",
              "      <td>15.1</td>\n",
              "      <td>3.6</td>\n",
              "      <td>157.3</td>\n",
              "      <td>1022.1</td>\n",
              "      <td>1033.4</td>\n",
              "      <td>1006.4</td>\n",
              "      <td>1023.7</td>\n",
              "      <td>1037.6</td>\n",
              "      <td>1009.5</td>\n",
              "      <td>83.0</td>\n",
              "      <td>42</td>\n",
              "      <td>216.1</td>\n",
              "      <td>414.75</td>\n",
              "      <td>2,996</td>\n",
              "    </tr>\n",
              "    <tr>\n",
              "      <th>119</th>\n",
              "      <td>2019-12-01</td>\n",
              "      <td>7.8</td>\n",
              "      <td>22.7</td>\n",
              "      <td>3.0</td>\n",
              "      <td>8.2</td>\n",
              "      <td>-1.5</td>\n",
              "      <td>103.7</td>\n",
              "      <td>1025.3</td>\n",
              "      <td>1038.5</td>\n",
              "      <td>1013.5</td>\n",
              "      <td>1026.8</td>\n",
              "      <td>1040.6</td>\n",
              "      <td>1014.9</td>\n",
              "      <td>81.0</td>\n",
              "      <td>45</td>\n",
              "      <td>214.3</td>\n",
              "      <td>375.17</td>\n",
              "      <td>2,877</td>\n",
              "    </tr>\n",
              "  </tbody>\n",
              "</table>\n",
              "<p>120 rows × 18 columns</p>\n",
              "</div>"
            ],
            "text/plain": [
              "            일시  평균풍속(m/s)  최대풍속(m/s)  ...  합계일조시간(hr)  합계전천일사량(MJ/㎡)  price\n",
              "0   2010-01-01       10.6       27.8  ...       225.7         336.70  2,268\n",
              "1   2010-02-01        7.7       21.3  ...       154.2         309.92  2,491\n",
              "2   2010-03-01        8.3       28.4  ...       163.6         412.31  2,571\n",
              "3   2010-04-01        7.1       24.5  ...       194.5         574.44  2,701\n",
              "4   2010-05-01        5.5       15.8  ...       233.6         690.68  3,082\n",
              "..         ...        ...        ...  ...         ...            ...    ...\n",
              "115 2019-08-01        4.9       19.7  ...       278.8         656.40  2,898\n",
              "116 2019-09-01        5.3       42.1  ...       201.4         468.31  3,090\n",
              "117 2019-10-01        6.5       22.4  ...       242.6         550.39  3,090\n",
              "118 2019-11-01        7.0       22.2  ...       216.1         414.75  2,996\n",
              "119 2019-12-01        7.8       22.7  ...       214.3         375.17  2,877\n",
              "\n",
              "[120 rows x 18 columns]"
            ]
          },
          "metadata": {
            "tags": []
          },
          "execution_count": 64
        }
      ]
    },
    {
      "cell_type": "code",
      "metadata": {
        "id": "LA1v6eMS3GaH",
        "colab_type": "code",
        "colab": {}
      },
      "source": [
        "tmp=tmp.drop(columns='2020')"
      ],
      "execution_count": 0,
      "outputs": []
    },
    {
      "cell_type": "code",
      "metadata": {
        "id": "n1-SBpgt3gPy",
        "colab_type": "code",
        "outputId": "4512b32c-68c0-471c-fb66-99fb5c50db9b",
        "colab": {
          "base_uri": "https://localhost:8080/",
          "height": 35
        }
      },
      "source": [
        "len(tmp.index)"
      ],
      "execution_count": 0,
      "outputs": [
        {
          "output_type": "execute_result",
          "data": {
            "text/plain": [
              "12"
            ]
          },
          "metadata": {
            "tags": []
          },
          "execution_count": 66
        }
      ]
    },
    {
      "cell_type": "code",
      "metadata": {
        "id": "XIVUfl-L3kAn",
        "colab_type": "code",
        "outputId": "ac76b628-00e3-4439-e78c-6d95a7afbed6",
        "colab": {
          "base_uri": "https://localhost:8080/",
          "height": 35
        }
      },
      "source": [
        "len(tmp.columns)"
      ],
      "execution_count": 0,
      "outputs": [
        {
          "output_type": "execute_result",
          "data": {
            "text/plain": [
              "10"
            ]
          },
          "metadata": {
            "tags": []
          },
          "execution_count": 67
        }
      ]
    },
    {
      "cell_type": "code",
      "metadata": {
        "id": "gg0KNo7x2wlc",
        "colab_type": "code",
        "outputId": "766d446a-3538-4c9e-b4ae-38147b61322a",
        "colab": {
          "base_uri": "https://localhost:8080/",
          "height": 376
        }
      },
      "source": [
        "# price 데이터와 weather 데이터를 비교하기 위해 price 데이터 형태 변환 \n",
        "price_list = []\n",
        "for i in range(0,len(tmp.index)):\n",
        "  for j in range(0,len(tmp.columns)):\n",
        "    price_list.append(tmp.iloc[i,j])\n",
        "\n",
        "price_df = pd.DataFrame()\n",
        "for idx, i in enumerate(range(2010,2020)):\n",
        "  for idx1, j in enumerate(range(1,13)):\n",
        "    price_df[\"{}-{}\".format(i,j)]=tmp.iloc[idx,idx1]\n",
        "price_df = price_df.T"
      ],
      "execution_count": 0,
      "outputs": [
        {
          "output_type": "error",
          "ename": "IndexError",
          "evalue": "ignored",
          "traceback": [
            "\u001b[0;31m---------------------------------------------------------------------------\u001b[0m",
            "\u001b[0;31mIndexError\u001b[0m                                Traceback (most recent call last)",
            "\u001b[0;32m<ipython-input-68-fc783cd704a9>\u001b[0m in \u001b[0;36m<module>\u001b[0;34m()\u001b[0m\n\u001b[1;32m      7\u001b[0m \u001b[0;32mfor\u001b[0m \u001b[0midx\u001b[0m\u001b[0;34m,\u001b[0m \u001b[0mi\u001b[0m \u001b[0;32min\u001b[0m \u001b[0menumerate\u001b[0m\u001b[0;34m(\u001b[0m\u001b[0mrange\u001b[0m\u001b[0;34m(\u001b[0m\u001b[0;36m2010\u001b[0m\u001b[0;34m,\u001b[0m\u001b[0;36m2020\u001b[0m\u001b[0;34m)\u001b[0m\u001b[0;34m)\u001b[0m\u001b[0;34m:\u001b[0m\u001b[0;34m\u001b[0m\u001b[0;34m\u001b[0m\u001b[0m\n\u001b[1;32m      8\u001b[0m   \u001b[0;32mfor\u001b[0m \u001b[0midx1\u001b[0m\u001b[0;34m,\u001b[0m \u001b[0mj\u001b[0m \u001b[0;32min\u001b[0m \u001b[0menumerate\u001b[0m\u001b[0;34m(\u001b[0m\u001b[0mrange\u001b[0m\u001b[0;34m(\u001b[0m\u001b[0;36m1\u001b[0m\u001b[0;34m,\u001b[0m\u001b[0;36m13\u001b[0m\u001b[0;34m)\u001b[0m\u001b[0;34m)\u001b[0m\u001b[0;34m:\u001b[0m\u001b[0;34m\u001b[0m\u001b[0;34m\u001b[0m\u001b[0m\n\u001b[0;32m----> 9\u001b[0;31m     \u001b[0mprice_df\u001b[0m\u001b[0;34m[\u001b[0m\u001b[0;34m\"{}-{}\"\u001b[0m\u001b[0;34m.\u001b[0m\u001b[0mformat\u001b[0m\u001b[0;34m(\u001b[0m\u001b[0mi\u001b[0m\u001b[0;34m,\u001b[0m\u001b[0mj\u001b[0m\u001b[0;34m)\u001b[0m\u001b[0;34m]\u001b[0m\u001b[0;34m=\u001b[0m\u001b[0mtmp\u001b[0m\u001b[0;34m.\u001b[0m\u001b[0miloc\u001b[0m\u001b[0;34m[\u001b[0m\u001b[0midx\u001b[0m\u001b[0;34m,\u001b[0m\u001b[0midx1\u001b[0m\u001b[0;34m]\u001b[0m\u001b[0;34m\u001b[0m\u001b[0;34m\u001b[0m\u001b[0m\n\u001b[0m\u001b[1;32m     10\u001b[0m \u001b[0mprice_df\u001b[0m \u001b[0;34m=\u001b[0m \u001b[0mprice_df\u001b[0m\u001b[0;34m.\u001b[0m\u001b[0mT\u001b[0m\u001b[0;34m\u001b[0m\u001b[0;34m\u001b[0m\u001b[0m\n",
            "\u001b[0;32m/usr/local/lib/python3.6/dist-packages/pandas/core/indexing.py\u001b[0m in \u001b[0;36m__getitem__\u001b[0;34m(self, key)\u001b[0m\n\u001b[1;32m   1760\u001b[0m                 \u001b[0;32mexcept\u001b[0m \u001b[0;34m(\u001b[0m\u001b[0mKeyError\u001b[0m\u001b[0;34m,\u001b[0m \u001b[0mIndexError\u001b[0m\u001b[0;34m,\u001b[0m \u001b[0mAttributeError\u001b[0m\u001b[0;34m)\u001b[0m\u001b[0;34m:\u001b[0m\u001b[0;34m\u001b[0m\u001b[0;34m\u001b[0m\u001b[0m\n\u001b[1;32m   1761\u001b[0m                     \u001b[0;32mpass\u001b[0m\u001b[0;34m\u001b[0m\u001b[0;34m\u001b[0m\u001b[0m\n\u001b[0;32m-> 1762\u001b[0;31m             \u001b[0;32mreturn\u001b[0m \u001b[0mself\u001b[0m\u001b[0;34m.\u001b[0m\u001b[0m_getitem_tuple\u001b[0m\u001b[0;34m(\u001b[0m\u001b[0mkey\u001b[0m\u001b[0;34m)\u001b[0m\u001b[0;34m\u001b[0m\u001b[0;34m\u001b[0m\u001b[0m\n\u001b[0m\u001b[1;32m   1763\u001b[0m         \u001b[0;32melse\u001b[0m\u001b[0;34m:\u001b[0m\u001b[0;34m\u001b[0m\u001b[0;34m\u001b[0m\u001b[0m\n\u001b[1;32m   1764\u001b[0m             \u001b[0;31m# we by definition only have the 0th axis\u001b[0m\u001b[0;34m\u001b[0m\u001b[0;34m\u001b[0m\u001b[0;34m\u001b[0m\u001b[0m\n",
            "\u001b[0;32m/usr/local/lib/python3.6/dist-packages/pandas/core/indexing.py\u001b[0m in \u001b[0;36m_getitem_tuple\u001b[0;34m(self, tup)\u001b[0m\n\u001b[1;32m   2065\u001b[0m     \u001b[0;32mdef\u001b[0m \u001b[0m_getitem_tuple\u001b[0m\u001b[0;34m(\u001b[0m\u001b[0mself\u001b[0m\u001b[0;34m,\u001b[0m \u001b[0mtup\u001b[0m\u001b[0;34m:\u001b[0m \u001b[0mTuple\u001b[0m\u001b[0;34m)\u001b[0m\u001b[0;34m:\u001b[0m\u001b[0;34m\u001b[0m\u001b[0;34m\u001b[0m\u001b[0m\n\u001b[1;32m   2066\u001b[0m \u001b[0;34m\u001b[0m\u001b[0m\n\u001b[0;32m-> 2067\u001b[0;31m         \u001b[0mself\u001b[0m\u001b[0;34m.\u001b[0m\u001b[0m_has_valid_tuple\u001b[0m\u001b[0;34m(\u001b[0m\u001b[0mtup\u001b[0m\u001b[0;34m)\u001b[0m\u001b[0;34m\u001b[0m\u001b[0;34m\u001b[0m\u001b[0m\n\u001b[0m\u001b[1;32m   2068\u001b[0m         \u001b[0;32mtry\u001b[0m\u001b[0;34m:\u001b[0m\u001b[0;34m\u001b[0m\u001b[0;34m\u001b[0m\u001b[0m\n\u001b[1;32m   2069\u001b[0m             \u001b[0;32mreturn\u001b[0m \u001b[0mself\u001b[0m\u001b[0;34m.\u001b[0m\u001b[0m_getitem_lowerdim\u001b[0m\u001b[0;34m(\u001b[0m\u001b[0mtup\u001b[0m\u001b[0;34m)\u001b[0m\u001b[0;34m\u001b[0m\u001b[0;34m\u001b[0m\u001b[0m\n",
            "\u001b[0;32m/usr/local/lib/python3.6/dist-packages/pandas/core/indexing.py\u001b[0m in \u001b[0;36m_has_valid_tuple\u001b[0;34m(self, key)\u001b[0m\n\u001b[1;32m    701\u001b[0m                 \u001b[0;32mraise\u001b[0m \u001b[0mIndexingError\u001b[0m\u001b[0;34m(\u001b[0m\u001b[0;34m\"Too many indexers\"\u001b[0m\u001b[0;34m)\u001b[0m\u001b[0;34m\u001b[0m\u001b[0;34m\u001b[0m\u001b[0m\n\u001b[1;32m    702\u001b[0m             \u001b[0;32mtry\u001b[0m\u001b[0;34m:\u001b[0m\u001b[0;34m\u001b[0m\u001b[0;34m\u001b[0m\u001b[0m\n\u001b[0;32m--> 703\u001b[0;31m                 \u001b[0mself\u001b[0m\u001b[0;34m.\u001b[0m\u001b[0m_validate_key\u001b[0m\u001b[0;34m(\u001b[0m\u001b[0mk\u001b[0m\u001b[0;34m,\u001b[0m \u001b[0mi\u001b[0m\u001b[0;34m)\u001b[0m\u001b[0;34m\u001b[0m\u001b[0;34m\u001b[0m\u001b[0m\n\u001b[0m\u001b[1;32m    704\u001b[0m             \u001b[0;32mexcept\u001b[0m \u001b[0mValueError\u001b[0m\u001b[0;34m:\u001b[0m\u001b[0;34m\u001b[0m\u001b[0;34m\u001b[0m\u001b[0m\n\u001b[1;32m    705\u001b[0m                 raise ValueError(\n",
            "\u001b[0;32m/usr/local/lib/python3.6/dist-packages/pandas/core/indexing.py\u001b[0m in \u001b[0;36m_validate_key\u001b[0;34m(self, key, axis)\u001b[0m\n\u001b[1;32m   1992\u001b[0m             \u001b[0;32mreturn\u001b[0m\u001b[0;34m\u001b[0m\u001b[0;34m\u001b[0m\u001b[0m\n\u001b[1;32m   1993\u001b[0m         \u001b[0;32melif\u001b[0m \u001b[0mis_integer\u001b[0m\u001b[0;34m(\u001b[0m\u001b[0mkey\u001b[0m\u001b[0;34m)\u001b[0m\u001b[0;34m:\u001b[0m\u001b[0;34m\u001b[0m\u001b[0;34m\u001b[0m\u001b[0m\n\u001b[0;32m-> 1994\u001b[0;31m             \u001b[0mself\u001b[0m\u001b[0;34m.\u001b[0m\u001b[0m_validate_integer\u001b[0m\u001b[0;34m(\u001b[0m\u001b[0mkey\u001b[0m\u001b[0;34m,\u001b[0m \u001b[0maxis\u001b[0m\u001b[0;34m)\u001b[0m\u001b[0;34m\u001b[0m\u001b[0;34m\u001b[0m\u001b[0m\n\u001b[0m\u001b[1;32m   1995\u001b[0m         \u001b[0;32melif\u001b[0m \u001b[0misinstance\u001b[0m\u001b[0;34m(\u001b[0m\u001b[0mkey\u001b[0m\u001b[0;34m,\u001b[0m \u001b[0mtuple\u001b[0m\u001b[0;34m)\u001b[0m\u001b[0;34m:\u001b[0m\u001b[0;34m\u001b[0m\u001b[0;34m\u001b[0m\u001b[0m\n\u001b[1;32m   1996\u001b[0m             \u001b[0;31m# a tuple should already have been caught by this point\u001b[0m\u001b[0;34m\u001b[0m\u001b[0;34m\u001b[0m\u001b[0;34m\u001b[0m\u001b[0m\n",
            "\u001b[0;32m/usr/local/lib/python3.6/dist-packages/pandas/core/indexing.py\u001b[0m in \u001b[0;36m_validate_integer\u001b[0;34m(self, key, axis)\u001b[0m\n\u001b[1;32m   2061\u001b[0m         \u001b[0mlen_axis\u001b[0m \u001b[0;34m=\u001b[0m \u001b[0mlen\u001b[0m\u001b[0;34m(\u001b[0m\u001b[0mself\u001b[0m\u001b[0;34m.\u001b[0m\u001b[0mobj\u001b[0m\u001b[0;34m.\u001b[0m\u001b[0m_get_axis\u001b[0m\u001b[0;34m(\u001b[0m\u001b[0maxis\u001b[0m\u001b[0;34m)\u001b[0m\u001b[0;34m)\u001b[0m\u001b[0;34m\u001b[0m\u001b[0;34m\u001b[0m\u001b[0m\n\u001b[1;32m   2062\u001b[0m         \u001b[0;32mif\u001b[0m \u001b[0mkey\u001b[0m \u001b[0;34m>=\u001b[0m \u001b[0mlen_axis\u001b[0m \u001b[0;32mor\u001b[0m \u001b[0mkey\u001b[0m \u001b[0;34m<\u001b[0m \u001b[0;34m-\u001b[0m\u001b[0mlen_axis\u001b[0m\u001b[0;34m:\u001b[0m\u001b[0;34m\u001b[0m\u001b[0;34m\u001b[0m\u001b[0m\n\u001b[0;32m-> 2063\u001b[0;31m             \u001b[0;32mraise\u001b[0m \u001b[0mIndexError\u001b[0m\u001b[0;34m(\u001b[0m\u001b[0;34m\"single positional indexer is out-of-bounds\"\u001b[0m\u001b[0;34m)\u001b[0m\u001b[0;34m\u001b[0m\u001b[0;34m\u001b[0m\u001b[0m\n\u001b[0m\u001b[1;32m   2064\u001b[0m \u001b[0;34m\u001b[0m\u001b[0m\n\u001b[1;32m   2065\u001b[0m     \u001b[0;32mdef\u001b[0m \u001b[0m_getitem_tuple\u001b[0m\u001b[0;34m(\u001b[0m\u001b[0mself\u001b[0m\u001b[0;34m,\u001b[0m \u001b[0mtup\u001b[0m\u001b[0;34m:\u001b[0m \u001b[0mTuple\u001b[0m\u001b[0;34m)\u001b[0m\u001b[0;34m:\u001b[0m\u001b[0;34m\u001b[0m\u001b[0;34m\u001b[0m\u001b[0m\n",
            "\u001b[0;31mIndexError\u001b[0m: single positional indexer is out-of-bounds"
          ]
        }
      ]
    },
    {
      "cell_type": "code",
      "metadata": {
        "id": "a6MeoloV8wxt",
        "colab_type": "code",
        "outputId": "79b4a13e-bdbf-4153-d5f8-105cd2ab39c6",
        "colab": {
          "base_uri": "https://localhost:8080/",
          "height": 323
        }
      },
      "source": [
        "df_pa.head()"
      ],
      "execution_count": 0,
      "outputs": [
        {
          "output_type": "execute_result",
          "data": {
            "text/html": [
              "<div>\n",
              "<style scoped>\n",
              "    .dataframe tbody tr th:only-of-type {\n",
              "        vertical-align: middle;\n",
              "    }\n",
              "\n",
              "    .dataframe tbody tr th {\n",
              "        vertical-align: top;\n",
              "    }\n",
              "\n",
              "    .dataframe thead th {\n",
              "        text-align: right;\n",
              "    }\n",
              "</style>\n",
              "<table border=\"1\" class=\"dataframe\">\n",
              "  <thead>\n",
              "    <tr style=\"text-align: right;\">\n",
              "      <th></th>\n",
              "      <th>일시</th>\n",
              "      <th>평균풍속(m/s)</th>\n",
              "      <th>최대풍속(m/s)</th>\n",
              "      <th>평균기온(℃)</th>\n",
              "      <th>최고기온 평균(℃)</th>\n",
              "      <th>최저기온 평균(℃)</th>\n",
              "      <th>강수량(mm)</th>\n",
              "      <th>평균현지기압(hPa)</th>\n",
              "      <th>최고현지기압(hPa)</th>\n",
              "      <th>최저현지기압(hPa)</th>\n",
              "      <th>평균해면기압(hPa)</th>\n",
              "      <th>최고해면기압(hPa)</th>\n",
              "      <th>최저해면기압(hPa)</th>\n",
              "      <th>평균상대습도(%)</th>\n",
              "      <th>최소상대습도(%)</th>\n",
              "      <th>합계일조시간(hr)</th>\n",
              "      <th>합계전천일사량(MJ/㎡)</th>\n",
              "      <th>price</th>\n",
              "    </tr>\n",
              "  </thead>\n",
              "  <tbody>\n",
              "    <tr>\n",
              "      <th>0</th>\n",
              "      <td>2010-01-01</td>\n",
              "      <td>10.6</td>\n",
              "      <td>27.8</td>\n",
              "      <td>-1.6</td>\n",
              "      <td>3.6</td>\n",
              "      <td>-6.4</td>\n",
              "      <td>182.9</td>\n",
              "      <td>1023.5</td>\n",
              "      <td>1034.7</td>\n",
              "      <td>1008.7</td>\n",
              "      <td>1026.5</td>\n",
              "      <td>1039.1</td>\n",
              "      <td>1010.8</td>\n",
              "      <td>80.0</td>\n",
              "      <td>44</td>\n",
              "      <td>225.7</td>\n",
              "      <td>336.70</td>\n",
              "      <td>2,268</td>\n",
              "    </tr>\n",
              "    <tr>\n",
              "      <th>1</th>\n",
              "      <td>2010-02-01</td>\n",
              "      <td>7.7</td>\n",
              "      <td>21.3</td>\n",
              "      <td>2.4</td>\n",
              "      <td>7.1</td>\n",
              "      <td>-1.8</td>\n",
              "      <td>157.5</td>\n",
              "      <td>1020.6</td>\n",
              "      <td>1030.9</td>\n",
              "      <td>1007.8</td>\n",
              "      <td>1023.3</td>\n",
              "      <td>1035.0</td>\n",
              "      <td>1008.9</td>\n",
              "      <td>78.0</td>\n",
              "      <td>32</td>\n",
              "      <td>154.2</td>\n",
              "      <td>309.92</td>\n",
              "      <td>2,491</td>\n",
              "    </tr>\n",
              "    <tr>\n",
              "      <th>2</th>\n",
              "      <td>2010-03-01</td>\n",
              "      <td>8.3</td>\n",
              "      <td>28.4</td>\n",
              "      <td>5.4</td>\n",
              "      <td>9.8</td>\n",
              "      <td>1.2</td>\n",
              "      <td>259.3</td>\n",
              "      <td>1020.0</td>\n",
              "      <td>1034.1</td>\n",
              "      <td>999.6</td>\n",
              "      <td>1022.0</td>\n",
              "      <td>1037.0</td>\n",
              "      <td>1002.4</td>\n",
              "      <td>78.0</td>\n",
              "      <td>28</td>\n",
              "      <td>163.6</td>\n",
              "      <td>412.31</td>\n",
              "      <td>2,571</td>\n",
              "    </tr>\n",
              "    <tr>\n",
              "      <th>3</th>\n",
              "      <td>2010-04-01</td>\n",
              "      <td>7.1</td>\n",
              "      <td>24.5</td>\n",
              "      <td>9.7</td>\n",
              "      <td>15.2</td>\n",
              "      <td>4.5</td>\n",
              "      <td>324.8</td>\n",
              "      <td>1018.2</td>\n",
              "      <td>1028.6</td>\n",
              "      <td>1006.8</td>\n",
              "      <td>1019.5</td>\n",
              "      <td>1030.3</td>\n",
              "      <td>1007.6</td>\n",
              "      <td>74.0</td>\n",
              "      <td>28</td>\n",
              "      <td>194.5</td>\n",
              "      <td>574.44</td>\n",
              "      <td>2,701</td>\n",
              "    </tr>\n",
              "    <tr>\n",
              "      <th>4</th>\n",
              "      <td>2010-05-01</td>\n",
              "      <td>5.5</td>\n",
              "      <td>15.8</td>\n",
              "      <td>16.9</td>\n",
              "      <td>22.6</td>\n",
              "      <td>11.5</td>\n",
              "      <td>269.0</td>\n",
              "      <td>1011.4</td>\n",
              "      <td>1021.4</td>\n",
              "      <td>993.0</td>\n",
              "      <td>1012.5</td>\n",
              "      <td>1024.5</td>\n",
              "      <td>994.6</td>\n",
              "      <td>81.0</td>\n",
              "      <td>34</td>\n",
              "      <td>233.6</td>\n",
              "      <td>690.68</td>\n",
              "      <td>3,082</td>\n",
              "    </tr>\n",
              "  </tbody>\n",
              "</table>\n",
              "</div>"
            ],
            "text/plain": [
              "          일시  평균풍속(m/s)  최대풍속(m/s)  ...  합계일조시간(hr)  합계전천일사량(MJ/㎡)  price\n",
              "0 2010-01-01       10.6       27.8  ...       225.7         336.70  2,268\n",
              "1 2010-02-01        7.7       21.3  ...       154.2         309.92  2,491\n",
              "2 2010-03-01        8.3       28.4  ...       163.6         412.31  2,571\n",
              "3 2010-04-01        7.1       24.5  ...       194.5         574.44  2,701\n",
              "4 2010-05-01        5.5       15.8  ...       233.6         690.68  3,082\n",
              "\n",
              "[5 rows x 18 columns]"
            ]
          },
          "metadata": {
            "tags": []
          },
          "execution_count": 69
        }
      ]
    },
    {
      "cell_type": "code",
      "metadata": {
        "id": "oDIJ6tIh87EM",
        "colab_type": "code",
        "colab": {}
      },
      "source": [
        "df_pa['price']=df_pa['price'].str.replace(',','').astype(float)"
      ],
      "execution_count": 0,
      "outputs": []
    },
    {
      "cell_type": "code",
      "metadata": {
        "id": "lVTZjpkl-JGB",
        "colab_type": "code",
        "outputId": "7a9f858c-d2c8-4727-84a3-f086c857b645",
        "colab": {
          "base_uri": "https://localhost:8080/",
          "height": 179
        }
      },
      "source": [
        "df_pa['price'].describe()"
      ],
      "execution_count": 0,
      "outputs": [
        {
          "output_type": "execute_result",
          "data": {
            "text/plain": [
              "count     120.000000\n",
              "mean     2898.866667\n",
              "std       795.790268\n",
              "min      1617.000000\n",
              "25%      2325.500000\n",
              "50%      2887.500000\n",
              "75%      3307.750000\n",
              "max      5909.000000\n",
              "Name: price, dtype: float64"
            ]
          },
          "metadata": {
            "tags": []
          },
          "execution_count": 71
        }
      ]
    },
    {
      "cell_type": "code",
      "metadata": {
        "id": "uIS1EWmSdgXq",
        "colab_type": "code",
        "outputId": "6ab72fb8-2420-4f2d-a422-ff431bbfe9d2",
        "colab": {
          "base_uri": "https://localhost:8080/",
          "height": 35
        }
      },
      "source": [
        "# Q1 - 1.5 * IQR // IQR =  Q3 - q1\n",
        "IQR = df_pa['price'].describe()[6] - df_pa['price'].describe()[4]\n",
        "df_pa['price'].describe()[4] - 1.5 * IQR"
      ],
      "execution_count": 0,
      "outputs": [
        {
          "output_type": "execute_result",
          "data": {
            "text/plain": [
              "852.125"
            ]
          },
          "metadata": {
            "tags": []
          },
          "execution_count": 72
        }
      ]
    },
    {
      "cell_type": "code",
      "metadata": {
        "id": "-HsaV20V-PsS",
        "colab_type": "code",
        "outputId": "47eb8e07-70c4-47e1-81f3-ec0b2aa755c8",
        "colab": {
          "base_uri": "https://localhost:8080/",
          "height": 35
        }
      },
      "source": [
        "df_pa['price'].describe()[6] + 1.5 * IQR"
      ],
      "execution_count": 0,
      "outputs": [
        {
          "output_type": "execute_result",
          "data": {
            "text/plain": [
              "4781.125"
            ]
          },
          "metadata": {
            "tags": []
          },
          "execution_count": 73
        }
      ]
    },
    {
      "cell_type": "code",
      "metadata": {
        "id": "1kVNLEkc-hQk",
        "colab_type": "code",
        "outputId": "0c344124-2310-4e61-94cb-46608bce0b30",
        "colab": {
          "base_uri": "https://localhost:8080/",
          "height": 283
        }
      },
      "source": [
        "df_pa['price'].hist(bins=50)"
      ],
      "execution_count": 0,
      "outputs": [
        {
          "output_type": "execute_result",
          "data": {
            "text/plain": [
              "<matplotlib.axes._subplots.AxesSubplot at 0x7fbb7ad25828>"
            ]
          },
          "metadata": {
            "tags": []
          },
          "execution_count": 74
        },
        {
          "output_type": "display_data",
          "data": {
            "image/png": "[encoded data removed]",
            "text/plain": [
              "<Figure size 432x288 with 1 Axes>"
            ]
          },
          "metadata": {
            "tags": [],
            "needs_background": "light"
          }
        }
      ]
    },
    {
      "cell_type": "code",
      "metadata": {
        "id": "FLbGv-SU-lDh",
        "colab_type": "code",
        "outputId": "cd50a0fd-8b06-4df0-c4d9-2984874294b1",
        "colab": {
          "base_uri": "https://localhost:8080/",
          "height": 283
        }
      },
      "source": [
        "df_pa.boxplot(column='price')"
      ],
      "execution_count": 0,
      "outputs": [
        {
          "output_type": "execute_result",
          "data": {
            "text/plain": [
              "<matplotlib.axes._subplots.AxesSubplot at 0x7fbb7abe2278>"
            ]
          },
          "metadata": {
            "tags": []
          },
          "execution_count": 75
        },
        {
          "output_type": "display_data",
          "data": {
            "image/png": "[encoded data removed]",
            "text/plain": [
              "<Figure size 432x288 with 1 Axes>"
            ]
          },
          "metadata": {
            "tags": [],
            "needs_background": "light"
          }
        }
      ]
    },
    {
      "cell_type": "code",
      "metadata": {
        "id": "cmpM2nGd_ncS",
        "colab_type": "code",
        "outputId": "7ff3dab5-0c89-491d-add0-3ad382093883",
        "colab": {
          "base_uri": "https://localhost:8080/",
          "height": 107
        }
      },
      "source": [
        "df_pa.columns"
      ],
      "execution_count": 0,
      "outputs": [
        {
          "output_type": "execute_result",
          "data": {
            "text/plain": [
              "Index(['일시', '평균풍속(m/s)', '최대풍속(m/s)', '평균기온(℃)', '최고기온 평균(℃)', '최저기온 평균(℃)',\n",
              "       '강수량(mm)', '평균현지기압(hPa)', '최고현지기압(hPa)', '최저현지기압(hPa)', '평균해면기압(hPa)',\n",
              "       '최고해면기압(hPa)', '최저해면기압(hPa)', '평균상대습도(%)', '최소상대습도(%)', '합계일조시간(hr)',\n",
              "       '합계전천일사량(MJ/㎡)', 'price'],\n",
              "      dtype='object')"
            ]
          },
          "metadata": {
            "tags": []
          },
          "execution_count": 76
        }
      ]
    },
    {
      "cell_type": "code",
      "metadata": {
        "id": "4c6XuY0s_d5t",
        "colab_type": "code",
        "outputId": "9b5c4e2f-e5f0-494e-e774-06c093d1f044",
        "colab": {
          "base_uri": "https://localhost:8080/",
          "height": 1000
        }
      },
      "source": [
        "numerical_columns =['평균풍속(m/s)', '최대풍속(m/s)', '평균기온(℃)', '최고기온 평균(℃)', '최저기온 평균(℃)',\n",
        "       '강수량(mm)', '평균현지기압(hPa)', '최고현지기압(hPa)', '최저현지기압(hPa)', '평균해면기압(hPa)',\n",
        "       '최고해면기압(hPa)', '최저해면기압(hPa)', '평균상대습도(%)', '최소상대습도(%)', '합계일조시간(hr)',\n",
        "       '합계전천일사량(MJ/㎡)']\n",
        "fig=plt.figure(figsize=(16,20))\n",
        "ax=fig.gca()\n",
        "df_pa[numerical_columns].hist(ax=ax)\n",
        "plt.show()"
      ],
      "execution_count": 0,
      "outputs": [
        {
          "output_type": "display_data",
          "data": {
            "image/png": "[encoded data removed]",
            "text/plain": [
              "<Figure size 1152x1440 with 16 Axes>"
            ]
          },
          "metadata": {
            "tags": [],
            "needs_background": "light"
          }
        }
      ]
    },
    {
      "cell_type": "code",
      "metadata": {
        "id": "iOQshVCc_sh6",
        "colab_type": "code",
        "colab": {}
      },
      "source": [
        "# cols=['평균풍속(m/s)', '최대풍속(m/s)', '평균기온(℃)', '최고기온 평균(℃)', '최저기온 평균(℃)',\n",
        "#        '강수량(mm)', '평균현지기압(hPa)', '최고현지기압(hPa)', '최저현지기압(hPa)', '평균해면기압(hPa)',\n",
        "#        '최고해면기압(hPa)', '최저해면기압(hPa)', '평균상대습도(%)', '최소상대습도(%)', '합계일조시간(hr)',\n",
        "#        '합계전천일사량(MJ/㎡)', 'price','일시']\n",
        "cols=['평균풍속(m/s)', '최대풍속(m/s)', '평균기온(℃)', '최고기온 평균(℃)', '최저기온 평균(℃)',\n",
        "       '강수량(mm)','평균상대습도(%)', '최소상대습도(%)', '합계일조시간(hr)',\n",
        "       '합계전천일사량(MJ/㎡)', 'price','일시']\n",
        "corr = df_pa[cols].corr(method = 'pearson')"
      ],
      "execution_count": 0,
      "outputs": []
    },
    {
      "cell_type": "code",
      "metadata": {
        "id": "fgpnEYI-AFga",
        "colab_type": "code",
        "outputId": "d6f4a3df-ce94-4937-d5e9-6d015c028aa2",
        "colab": {
          "base_uri": "https://localhost:8080/",
          "height": 1000
        }
      },
      "source": [
        "fig= plt.figure(figsize=(16,20))\n",
        "ax = fig.gca()\n",
        "sns.set(font_scale=1.5)\n",
        "hm = sns.heatmap(corr.values,annot=True,fmt='.2f',annot_kws={'size':15},yticklabels=cols, xticklabels=cols, ax = ax)\n",
        "plt.tight_layout()\n",
        "plt.show()"
      ],
      "execution_count": 0,
      "outputs": [
        {
          "output_type": "display_data",
          "data": {
            "image/png": "[encoded data removed]",
            "text/plain": [
              "<Figure size 1152x1440 with 2 Axes>"
            ]
          },
          "metadata": {
            "tags": [],
            "needs_background": "light"
          }
        }
      ]
    },
    {
      "cell_type": "code",
      "metadata": {
        "id": "9VHDB2NlALWX",
        "colab_type": "code",
        "colab": {}
      },
      "source": [
        "df_pa.to_csv('pa_price.csv')"
      ],
      "execution_count": 0,
      "outputs": []
    },
    {
      "cell_type": "code",
      "metadata": {
        "id": "eRa2jQaQX-uF",
        "colab_type": "code",
        "colab": {}
      },
      "source": [
        "df=pd.read_csv('/content/drive/My Drive/파예측(전국10년)/data/pa_price.csv').drop(columns='Unnamed: 0')"
      ],
      "execution_count": 0,
      "outputs": []
    },
    {
      "cell_type": "code",
      "metadata": {
        "id": "xUQXfQthYHxy",
        "colab_type": "code",
        "outputId": "134f018d-3395-46f5-b5ed-5c8c626dd029",
        "colab": {
          "base_uri": "https://localhost:8080/",
          "height": 323
        }
      },
      "source": [
        "df.head()"
      ],
      "execution_count": 0,
      "outputs": [
        {
          "output_type": "execute_result",
          "data": {
            "text/html": [
              "<div>\n",
              "<style scoped>\n",
              "    .dataframe tbody tr th:only-of-type {\n",
              "        vertical-align: middle;\n",
              "    }\n",
              "\n",
              "    .dataframe tbody tr th {\n",
              "        vertical-align: top;\n",
              "    }\n",
              "\n",
              "    .dataframe thead th {\n",
              "        text-align: right;\n",
              "    }\n",
              "</style>\n",
              "<table border=\"1\" class=\"dataframe\">\n",
              "  <thead>\n",
              "    <tr style=\"text-align: right;\">\n",
              "      <th></th>\n",
              "      <th>일시</th>\n",
              "      <th>평균풍속(m/s)</th>\n",
              "      <th>최대풍속(m/s)</th>\n",
              "      <th>평균기온(℃)</th>\n",
              "      <th>최고기온 평균(℃)</th>\n",
              "      <th>최저기온 평균(℃)</th>\n",
              "      <th>강수량(mm)</th>\n",
              "      <th>평균현지기압(hPa)</th>\n",
              "      <th>최고현지기압(hPa)</th>\n",
              "      <th>최저현지기압(hPa)</th>\n",
              "      <th>평균해면기압(hPa)</th>\n",
              "      <th>최고해면기압(hPa)</th>\n",
              "      <th>최저해면기압(hPa)</th>\n",
              "      <th>평균상대습도(%)</th>\n",
              "      <th>최소상대습도(%)</th>\n",
              "      <th>합계일조시간(hr)</th>\n",
              "      <th>합계전천일사량(MJ/㎡)</th>\n",
              "      <th>price</th>\n",
              "    </tr>\n",
              "  </thead>\n",
              "  <tbody>\n",
              "    <tr>\n",
              "      <th>0</th>\n",
              "      <td>2010-01-01</td>\n",
              "      <td>10.6</td>\n",
              "      <td>27.8</td>\n",
              "      <td>-1.6</td>\n",
              "      <td>3.6</td>\n",
              "      <td>-6.4</td>\n",
              "      <td>182.9</td>\n",
              "      <td>1023.5</td>\n",
              "      <td>1034.7</td>\n",
              "      <td>1008.7</td>\n",
              "      <td>1026.5</td>\n",
              "      <td>1039.1</td>\n",
              "      <td>1010.8</td>\n",
              "      <td>80.0</td>\n",
              "      <td>44</td>\n",
              "      <td>225.7</td>\n",
              "      <td>336.70</td>\n",
              "      <td>2268.0</td>\n",
              "    </tr>\n",
              "    <tr>\n",
              "      <th>1</th>\n",
              "      <td>2010-02-01</td>\n",
              "      <td>7.7</td>\n",
              "      <td>21.3</td>\n",
              "      <td>2.4</td>\n",
              "      <td>7.1</td>\n",
              "      <td>-1.8</td>\n",
              "      <td>157.5</td>\n",
              "      <td>1020.6</td>\n",
              "      <td>1030.9</td>\n",
              "      <td>1007.8</td>\n",
              "      <td>1023.3</td>\n",
              "      <td>1035.0</td>\n",
              "      <td>1008.9</td>\n",
              "      <td>78.0</td>\n",
              "      <td>32</td>\n",
              "      <td>154.2</td>\n",
              "      <td>309.92</td>\n",
              "      <td>2491.0</td>\n",
              "    </tr>\n",
              "    <tr>\n",
              "      <th>2</th>\n",
              "      <td>2010-03-01</td>\n",
              "      <td>8.3</td>\n",
              "      <td>28.4</td>\n",
              "      <td>5.4</td>\n",
              "      <td>9.8</td>\n",
              "      <td>1.2</td>\n",
              "      <td>259.3</td>\n",
              "      <td>1020.0</td>\n",
              "      <td>1034.1</td>\n",
              "      <td>999.6</td>\n",
              "      <td>1022.0</td>\n",
              "      <td>1037.0</td>\n",
              "      <td>1002.4</td>\n",
              "      <td>78.0</td>\n",
              "      <td>28</td>\n",
              "      <td>163.6</td>\n",
              "      <td>412.31</td>\n",
              "      <td>2571.0</td>\n",
              "    </tr>\n",
              "    <tr>\n",
              "      <th>3</th>\n",
              "      <td>2010-04-01</td>\n",
              "      <td>7.1</td>\n",
              "      <td>24.5</td>\n",
              "      <td>9.7</td>\n",
              "      <td>15.2</td>\n",
              "      <td>4.5</td>\n",
              "      <td>324.8</td>\n",
              "      <td>1018.2</td>\n",
              "      <td>1028.6</td>\n",
              "      <td>1006.8</td>\n",
              "      <td>1019.5</td>\n",
              "      <td>1030.3</td>\n",
              "      <td>1007.6</td>\n",
              "      <td>74.0</td>\n",
              "      <td>28</td>\n",
              "      <td>194.5</td>\n",
              "      <td>574.44</td>\n",
              "      <td>2701.0</td>\n",
              "    </tr>\n",
              "    <tr>\n",
              "      <th>4</th>\n",
              "      <td>2010-05-01</td>\n",
              "      <td>5.5</td>\n",
              "      <td>15.8</td>\n",
              "      <td>16.9</td>\n",
              "      <td>22.6</td>\n",
              "      <td>11.5</td>\n",
              "      <td>269.0</td>\n",
              "      <td>1011.4</td>\n",
              "      <td>1021.4</td>\n",
              "      <td>993.0</td>\n",
              "      <td>1012.5</td>\n",
              "      <td>1024.5</td>\n",
              "      <td>994.6</td>\n",
              "      <td>81.0</td>\n",
              "      <td>34</td>\n",
              "      <td>233.6</td>\n",
              "      <td>690.68</td>\n",
              "      <td>3082.0</td>\n",
              "    </tr>\n",
              "  </tbody>\n",
              "</table>\n",
              "</div>"
            ],
            "text/plain": [
              "           일시  평균풍속(m/s)  최대풍속(m/s)  ...  합계일조시간(hr)  합계전천일사량(MJ/㎡)   price\n",
              "0  2010-01-01       10.6       27.8  ...       225.7         336.70  2268.0\n",
              "1  2010-02-01        7.7       21.3  ...       154.2         309.92  2491.0\n",
              "2  2010-03-01        8.3       28.4  ...       163.6         412.31  2571.0\n",
              "3  2010-04-01        7.1       24.5  ...       194.5         574.44  2701.0\n",
              "4  2010-05-01        5.5       15.8  ...       233.6         690.68  3082.0\n",
              "\n",
              "[5 rows x 18 columns]"
            ]
          },
          "metadata": {
            "tags": []
          },
          "execution_count": 87
        }
      ]
    },
    {
      "cell_type": "code",
      "metadata": {
        "id": "rlhQMwnTYI6E",
        "colab_type": "code",
        "outputId": "e0a78ffd-3234-416e-b21f-d05de0e007e4",
        "colab": {
          "base_uri": "https://localhost:8080/",
          "height": 179
        }
      },
      "source": [
        "df['최대풍속(m/s)'].describe()"
      ],
      "execution_count": 0,
      "outputs": [
        {
          "output_type": "execute_result",
          "data": {
            "text/plain": [
              "count    120.000000\n",
              "mean      21.875000\n",
              "std        5.342902\n",
              "min       12.800000\n",
              "25%       18.825000\n",
              "50%       21.500000\n",
              "75%       24.525000\n",
              "max       49.000000\n",
              "Name: 최대풍속(m/s), dtype: float64"
            ]
          },
          "metadata": {
            "tags": []
          },
          "execution_count": 92
        }
      ]
    },
    {
      "cell_type": "code",
      "metadata": {
        "id": "Qyave6wYYkoW",
        "colab_type": "code",
        "colab": {}
      },
      "source": [
        ""
      ],
      "execution_count": 0,
      "outputs": []
    }
  ]
}