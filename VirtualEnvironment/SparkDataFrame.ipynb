{
 "cells": [
  {
   "cell_type": "code",
   "execution_count": null,
   "metadata": {},
   "outputs": [],
   "source": [
    "# 데이터 프레임을 df1_table로 만듬\n",
    "# df1.createOrReplaceTempView(\"df1_table\")\n",
    "from pyspark.sql import SparkSession\n",
    "import pandas as pd"
   ]
  },
  {
   "cell_type": "code",
   "execution_count": null,
   "metadata": {},
   "outputs": [],
   "source": [
    "# 파이썬 설치 위치 지정\n",
    "import os\n",
    "os.environ['PYSPARK_PYTHON']='/home/user1/anaconda3/bin/python3'\n",
    "os.environ['PYSPARK_DRIVER_PYTHON']='/home/user1/anaconda3/bin/python3'"
   ]
  },
  {
   "cell_type": "code",
   "execution_count": null,
   "metadata": {},
   "outputs": [],
   "source": [
    "# 스파크 객체 생성 \n",
    "spark = SparkSession.builder.master(\"local[*]\") \\\n",
    "    .enableHiveSupport().appName(\"hive01\") \\\n",
    "    .config(\"spark.sql.warehouse.dir\",\"/user/hive/warehouse\") \\\n",
    "    .config(\"spark.datasource.hive.metastore.uris\",\"hdfs://192.168.0.19:9000\") \\\n",
    "    .getOrCreate()"
   ]
  },
  {
   "cell_type": "code",
   "execution_count": null,
   "metadata": {},
   "outputs": [],
   "source": [
    "# 테이터 프레임 생성\n",
    "df1 = spark.createDataFrame([(1,'a',10),(2,'b',20),(3,'c',30)]).toDF(\"id\",\"name\",\"age\")\n",
    "df1.printSchema()\n",
    "df1.show()"
   ]
  },
  {
   "cell_type": "code",
   "execution_count": null,
   "metadata": {},
   "outputs": [],
   "source": [
    "df1.createOrReplaceTempView(\"table1\")  # 데이터 프레임을 table1로 만듬\n",
    "spark.sql(\"SELECT id, name FROM table1\").show()"
   ]
  },
  {
   "cell_type": "code",
   "execution_count": null,
   "metadata": {},
   "outputs": [],
   "source": [
    "spark.sql(\"create database db06\") # DB 생성"
   ]
  },
  {
   "cell_type": "code",
   "execution_count": null,
   "metadata": {},
   "outputs": [],
   "source": [
    "# 데이터 프레임으로 테이블 생성\n",
    "spark.sql(\"create table db06.t01 as select * from table1\")"
   ]
  },
  {
   "cell_type": "code",
   "execution_count": null,
   "metadata": {},
   "outputs": [],
   "source": [
    "# 테이블 내용 가져옴.\n",
    "spark.sql(\"select * from db06.t01 where age>20\").show()"
   ]
  }
 ],
 "metadata": {
  "kernelspec": {
   "display_name": "Python 3",
   "language": "python",
   "name": "python3"
  },
  "language_info": {
   "codemirror_mode": {
    "name": "ipython",
    "version": 3
   },
   "file_extension": ".py",
   "mimetype": "text/x-python",
   "name": "python",
   "nbconvert_exporter": "python",
   "pygments_lexer": "ipython3",
   "version": "3.7.6"
  }
 },
 "nbformat": 4,
 "nbformat_minor": 4
}
