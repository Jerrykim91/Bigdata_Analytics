{
 "cells": [
  {
   "cell_type": "code",
   "execution_count": null,
   "metadata": {},
   "outputs": [],
   "source": [
    "from pyspark.sql import SparkSession\n",
    "from pyspark.sql.types import StructType, StringType, IntegerType, DoubleType, DateType"
   ]
  },
  {
   "cell_type": "code",
   "execution_count": null,
   "metadata": {},
   "outputs": [],
   "source": [
    "spark = SparkSession.builder.enableHiveSupport() \\\n",
    "        .appName(\"pipeline_sample\") \\\n",
    "        .master(\"local[*]\") \\\n",
    "        .getOrCreate()"
   ]
  },
  {
   "cell_type": "code",
   "execution_count": null,
   "metadata": {},
   "outputs": [],
   "source": [
    "# 훈련용 데이터 (키, 몸무게, 나이, 성별)\n",
    "df1 = spark.createDataFrame([\n",
    "    (161.0, 69.87, 29, 1.0),\n",
    "    (176.78, 74.35, 34, 1.0),\n",
    "    (159.23, 58.32, 29, 0.0),\n",
    "    (163.0, 70.87, 29, 1.0),\n",
    "    (176.78, 74.35, 34, 1.0),\n",
    "    (159.23, 60.32, 29, 0.0),\n",
    "    (169.4, 75.3, 42, 0.0),\n",
    "    (168.4, 76.3, 42, 0.0),\n",
    "    (185.1, 85.0, 37, 1.0),\n",
    "    (161.6, 61.2, 28, 1.0)\n",
    "]).toDF(\"height\", \"weight\", \"age\", \"gender\") "
   ]
  },
  {
   "cell_type": "code",
   "execution_count": null,
   "metadata": {},
   "outputs": [],
   "source": [
    "df1.printSchema()\n",
    "df1.show()"
   ]
  },
  {
   "cell_type": "code",
   "execution_count": null,
   "metadata": {},
   "outputs": [],
   "source": [
    "schema = StructType() \\\n",
    "    .add(\"height\", DoubleType(), True) \\\n",
    "    .add(\"weight\", DoubleType(), True) \\\n",
    "    .add(\"age\", IntegerType(), True) \\\n",
    "    .add(\"gender\", DoubleType(), True)"
   ]
  },
  {
   "cell_type": "code",
   "execution_count": null,
   "metadata": {},
   "outputs": [],
   "source": [
    "df2 = spark.createDataFrame([\n",
    "    (161.0, 69.87, 29, 1.0),\n",
    "    (176.78, 74.35, 34, 1.0),\n",
    "    (159.23, 58.32, 29, 0.0),\n",
    "    (163.0, 70.87, 29, 1.0),\n",
    "    (176.78, 74.35, 34, 1.0),\n",
    "    (159.23, 60.32, 29, 0.0),\n",
    "    (169.4, 75.3, 42, 0.0),\n",
    "    (168.4, 76.3, 42, 0.0),\n",
    "    (185.1, 85.0, 37, 1.0),\n",
    "    (161.6, 61.2, 28, 1.0)], schema) "
   ]
  },
  {
   "cell_type": "code",
   "execution_count": null,
   "metadata": {},
   "outputs": [],
   "source": [
    "df2.printSchema()\n",
    "df2.show()"
   ]
  },
  {
   "cell_type": "code",
   "execution_count": null,
   "metadata": {},
   "outputs": [],
   "source": [
    "from pyspark.ml.classification import LogisticRegression\n",
    "from pyspark.ml.classification import LogisticRegressionModel\n",
    "from pyspark.ml.feature import VectorAssembler\n",
    "from pyspark.ml.pipeline import Pipeline\n",
    "from pyspark.ml.pipeline import PipelineModel"
   ]
  },
  {
   "cell_type": "code",
   "execution_count": null,
   "metadata": {},
   "outputs": [],
   "source": [
    "assembler = VectorAssembler(inputCols=[\"height\", \"weight\", \"age\"], outputCol=\"features\")"
   ]
  },
  {
   "cell_type": "code",
   "execution_count": null,
   "metadata": {},
   "outputs": [],
   "source": [
    "# training 데이터에 features 컬럼 추가\n",
    "# assembled_training = assembler.transform(df2)\n",
    "# assembled_training.show(truncate=False)"
   ]
  },
  {
   "cell_type": "code",
   "execution_count": null,
   "metadata": {},
   "outputs": [],
   "source": [
    "# 모델 생성 알고리즘 (로지스틱 회귀 평가자)\n",
    "lr = LogisticRegression(maxIter=10, regParam=0.01, labelCol=\"gender\")"
   ]
  },
  {
   "cell_type": "code",
   "execution_count": null,
   "metadata": {},
   "outputs": [],
   "source": [
    "pipeline = Pipeline(stages=[assembler, lr]) # 파이프라인\n",
    "pipelineModel = pipeline.fit(df2) # 파이프라인 모델 생성\n",
    "pipelineModel.transform(df2).show(truncate=False) # 파이프라인 모델을 이용한 예측값 생성"
   ]
  }
 ],
 "metadata": {
  "kernelspec": {
   "display_name": "Python 3",
   "language": "python",
   "name": "python3"
  },
  "language_info": {
   "codemirror_mode": {
    "name": "ipython",
    "version": 3
   },
   "file_extension": ".py",
   "mimetype": "text/x-python",
   "name": "python",
   "nbconvert_exporter": "python",
   "pygments_lexer": "ipython3",
   "version": "3.7.6"
  }
 },
 "nbformat": 4,
 "nbformat_minor": 4
}
