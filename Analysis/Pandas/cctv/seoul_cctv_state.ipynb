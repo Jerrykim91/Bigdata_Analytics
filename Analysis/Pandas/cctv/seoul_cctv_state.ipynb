{
 "cells": [
  {
   "cell_type": "markdown",
   "metadata": {},
   "source": [
    "# 판다스 실습_ cctv\n",
    "- 2020.02.04     \n",
    "[링크](https://github.com/Jerrykim91/py_poo/blob/master/analysis/pandas/cctv/Populate_per_cctv_analysis.ipynb)"
   ]
  },
  {
   "cell_type": "markdown",
   "metadata": {},
   "source": [
    "## 서울시 구별 cctv 분석 , 구별 인구 대비 분석 "
   ]
  },
  {
   "cell_type": "code",
   "execution_count": 1,
   "metadata": {},
   "outputs": [],
   "source": [
    "import pandas as pd \n",
    "import numpy as np"
   ]
  },
  {
   "cell_type": "code",
   "execution_count": 5,
   "metadata": {},
   "outputs": [],
   "source": [
    "s_cctv = pd.read_csv('../data/seoul_cctv.csv', encoding='utf-8')"
   ]
  },
  {
   "cell_type": "code",
   "execution_count": 6,
   "metadata": {},
   "outputs": [
    {
     "name": "stdout",
     "output_type": "stream",
     "text": [
      "   기관명    소계  2013년도 이전  2014년  2015년  2016년\n",
      "0  강남구  3238       1292    430    584    932\n",
      "1  강동구  1010        379     99    155    377\n",
      "2  강북구   831        369    120    138    204\n",
      "3  강서구   911        388    258    184     81\n",
      "4  관악구  2109        846    260    390    613\n"
     ]
    }
   ],
   "source": [
    "print(s_cctv.head())"
   ]
  },
  {
   "cell_type": "code",
   "execution_count": null,
   "metadata": {},
   "outputs": [],
   "source": []
  },
  {
   "cell_type": "code",
   "execution_count": null,
   "metadata": {},
   "outputs": [],
   "source": []
  },
  {
   "cell_type": "code",
   "execution_count": null,
   "metadata": {},
   "outputs": [],
   "source": []
  },
  {
   "cell_type": "code",
   "execution_count": null,
   "metadata": {},
   "outputs": [],
   "source": []
  }
 ],
 "metadata": {
  "kernelspec": {
   "display_name": "Python 3",
   "language": "python",
   "name": "python3"
  },
  "language_info": {
   "codemirror_mode": {
    "name": "ipython",
    "version": 3
   },
   "file_extension": ".py",
   "mimetype": "text/x-python",
   "name": "python",
   "nbconvert_exporter": "python",
   "pygments_lexer": "ipython3",
   "version": "3.6.5"
  }
 },
 "nbformat": 4,
 "nbformat_minor": 2
}
