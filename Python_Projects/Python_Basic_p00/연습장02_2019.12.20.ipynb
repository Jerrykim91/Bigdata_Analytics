{
 "cells": [
  {
   "cell_type": "code",
   "execution_count": 23,
   "metadata": {
    "scrolled": true
   },
   "outputs": [
    {
     "data": {
      "text/plain": [
       "['♠', '♥', '♣', '◆']"
      ]
     },
     "execution_count": 23,
     "metadata": {},
     "output_type": "execute_result"
    }
   ],
   "source": [
    "CARD = list('♠♥♣◆')\n",
    "CARD"
   ]
  },
  {
   "cell_type": "code",
   "execution_count": 24,
   "metadata": {
    "scrolled": true
   },
   "outputs": [],
   "source": [
    "a = [ i for i in range(1,10)]"
   ]
  },
  {
   "cell_type": "code",
   "execution_count": 25,
   "metadata": {
    "scrolled": true
   },
   "outputs": [
    {
     "data": {
      "text/plain": [
       "[1, 2, 3, 4, 5, 6, 7, 8, 9]"
      ]
     },
     "execution_count": 25,
     "metadata": {},
     "output_type": "execute_result"
    }
   ],
   "source": [
    "CARD_NUMS = list(i for i in range(1,10))\n",
    "CARD_NUMS"
   ]
  },
  {
   "cell_type": "code",
   "execution_count": 26,
   "metadata": {},
   "outputs": [
    {
     "data": {
      "text/plain": [
       "['1', '2', '3', '4', '5', '6', '7', '8', '9', '1', '0', 'J', 'Q', 'K']"
      ]
     },
     "execution_count": 26,
     "metadata": {},
     "output_type": "execute_result"
    }
   ],
   "source": [
    "CARD_NUMS = list('123456789')+list('10')+list('JQK')\n",
    "CARD_NUMS"
   ]
  },
  {
   "cell_type": "code",
   "execution_count": 27,
   "metadata": {},
   "outputs": [],
   "source": [
    "CARD_SHAP = list('♠♥♣◆')\n",
    "CARD_NUMS = list('123456789') + list('10') + list('JQK')"
   ]
  },
  {
   "cell_type": "code",
   "execution_count": 43,
   "metadata": {
    "scrolled": true
   },
   "outputs": [
    {
     "data": {
      "text/plain": [
       "['1',\n",
       " '2',\n",
       " '3',\n",
       " '4',\n",
       " '5',\n",
       " '6',\n",
       " '7',\n",
       " '8',\n",
       " '9',\n",
       " '1',\n",
       " '0',\n",
       " 'J',\n",
       " 'Q',\n",
       " 'K',\n",
       " '♠',\n",
       " '♥',\n",
       " '♣',\n",
       " '◆']"
      ]
     },
     "execution_count": 43,
     "metadata": {},
     "output_type": "execute_result"
    }
   ],
   "source": [
    "CARD_NUMS + CARD_SHAP"
   ]
  },
  {
   "cell_type": "code",
   "execution_count": 47,
   "metadata": {},
   "outputs": [
    {
     "data": {
      "text/plain": [
       "['♠1',\n",
       " '♠2',\n",
       " '♠3',\n",
       " '♠4',\n",
       " '♠5',\n",
       " '♠6',\n",
       " '♠7',\n",
       " '♠8',\n",
       " '♠9',\n",
       " '♠1',\n",
       " '♠0',\n",
       " '♠J',\n",
       " '♠Q',\n",
       " '♠K',\n",
       " '♥1',\n",
       " '♥2',\n",
       " '♥3',\n",
       " '♥4',\n",
       " '♥5',\n",
       " '♥6',\n",
       " '♥7',\n",
       " '♥8',\n",
       " '♥9',\n",
       " '♥1',\n",
       " '♥0',\n",
       " '♥J',\n",
       " '♥Q',\n",
       " '♥K',\n",
       " '♣1',\n",
       " '♣2',\n",
       " '♣3',\n",
       " '♣4',\n",
       " '♣5',\n",
       " '♣6',\n",
       " '♣7',\n",
       " '♣8',\n",
       " '♣9',\n",
       " '♣1',\n",
       " '♣0',\n",
       " '♣J',\n",
       " '♣Q',\n",
       " '♣K',\n",
       " '◆1',\n",
       " '◆2',\n",
       " '◆3',\n",
       " '◆4',\n",
       " '◆5',\n",
       " '◆6',\n",
       " '◆7',\n",
       " '◆8',\n",
       " '◆9',\n",
       " '◆1',\n",
       " '◆0',\n",
       " '◆J',\n",
       " '◆Q',\n",
       " '◆K']"
      ]
     },
     "execution_count": 47,
     "metadata": {},
     "output_type": "execute_result"
    }
   ],
   "source": [
    "CARD = [i+j for i in CARD_SHAP for j in CARD_NUMS]"
   ]
  },
  {
   "cell_type": "code",
   "execution_count": 28,
   "metadata": {
    "scrolled": true
   },
   "outputs": [
    {
     "name": "stdout",
     "output_type": "stream",
     "text": [
      "['1', '2', '3', '4', '5', '6', '7', '8', '9', '1', '0', 'J', 'Q', 'K']\n"
     ]
    }
   ],
   "source": [
    "print([ j for i in  CADE_SHAP for j in CADE_NUMS])"
   ]
  },
  {
   "cell_type": "code",
   "execution_count": 42,
   "metadata": {},
   "outputs": [
    {
     "data": {
      "text/plain": [
       "['1K',\n",
       " '2K',\n",
       " '3K',\n",
       " '4K',\n",
       " '5K',\n",
       " '6K',\n",
       " '7K',\n",
       " '8K',\n",
       " '9K',\n",
       " '1K',\n",
       " '0K',\n",
       " 'JK',\n",
       " 'QK',\n",
       " 'KK']"
      ]
     },
     "execution_count": 42,
     "metadata": {},
     "output_type": "execute_result"
    }
   ],
   "source": [
    "CARD = []\n",
    "[ i+j for i in  CADE_NUMS for j in CADE_SHAP]"
   ]
  },
  {
   "cell_type": "code",
   "execution_count": 37,
   "metadata": {},
   "outputs": [
    {
     "ename": "TypeError",
     "evalue": "list indices must be integers or slices, not str",
     "output_type": "error",
     "traceback": [
      "\u001b[1;31m---------------------------------------------------------------------------\u001b[0m",
      "\u001b[1;31mTypeError\u001b[0m                                 Traceback (most recent call last)",
      "\u001b[1;32m<ipython-input-37-a5fb6594a2f7>\u001b[0m in \u001b[0;36m<module>\u001b[1;34m()\u001b[0m\n\u001b[0;32m      3\u001b[0m     \u001b[0mcard\u001b[0m\u001b[1;33m.\u001b[0m\u001b[0mappend\u001b[0m\u001b[1;33m(\u001b[0m\u001b[1;33m[\u001b[0m\u001b[1;33m]\u001b[0m\u001b[1;33m)\u001b[0m\u001b[1;33m\u001b[0m\u001b[0m\n\u001b[0;32m      4\u001b[0m     \u001b[1;32mfor\u001b[0m \u001b[0mj\u001b[0m \u001b[1;32min\u001b[0m \u001b[0mCARD_SHAP\u001b[0m\u001b[1;33m:\u001b[0m\u001b[1;33m\u001b[0m\u001b[0m\n\u001b[1;32m----> 5\u001b[1;33m         \u001b[0mcard\u001b[0m\u001b[1;33m[\u001b[0m\u001b[0mi\u001b[0m\u001b[1;33m]\u001b[0m\u001b[1;33m.\u001b[0m\u001b[0mappend\u001b[0m\u001b[1;33m(\u001b[0m\u001b[0mint\u001b[0m\u001b[1;33m(\u001b[0m\u001b[0mCARD_NUMS\u001b[0m\u001b[1;33m)\u001b[0m\u001b[1;33m)\u001b[0m\u001b[1;33m\u001b[0m\u001b[0m\n\u001b[0m\u001b[0;32m      6\u001b[0m \u001b[0mprint\u001b[0m\u001b[1;33m(\u001b[0m\u001b[0mcard\u001b[0m\u001b[1;33m)\u001b[0m\u001b[1;33m\u001b[0m\u001b[0m\n",
      "\u001b[1;31mTypeError\u001b[0m: list indices must be integers or slices, not str"
     ]
    }
   ],
   "source": [
    "card = list()\n",
    "for i in  CARD_SHAP:\n",
    "    card.append([])\n",
    "    for j in CARD_SHAP:\n",
    "        card[i].append(int(CARD_NUMS))\n",
    "print(card) "
   ]
  },
  {
   "cell_type": "code",
   "execution_count": 40,
   "metadata": {},
   "outputs": [
    {
     "data": {
      "text/plain": [
       "[1, 2, 3, 4, 5]"
      ]
     },
     "execution_count": 40,
     "metadata": {},
     "output_type": "execute_result"
    }
   ],
   "source": [
    "ori_data = list(i for i in range(1,6))\n",
    "target_data = ori_data[:]\n",
    "target_data"
   ]
  }
 ],
 "metadata": {
  "kernelspec": {
   "display_name": "Python 3",
   "language": "python",
   "name": "python3"
  },
  "language_info": {
   "codemirror_mode": {
    "name": "ipython",
    "version": 3
   },
   "file_extension": ".py",
   "mimetype": "text/x-python",
   "name": "python",
   "nbconvert_exporter": "python",
   "pygments_lexer": "ipython3",
   "version": "3.6.5"
  }
 },
 "nbformat": 4,
 "nbformat_minor": 2
}
