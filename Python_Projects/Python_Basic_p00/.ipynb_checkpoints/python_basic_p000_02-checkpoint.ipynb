{
 "cells": [
  {
   "cell_type": "markdown",
   "metadata": {},
   "source": [
    "##  5. 블린 , 조건문 , 제어문 , 반복문 "
   ]
  },
  {
   "cell_type": "markdown",
   "metadata": {},
   "source": [
    "### 흐름제어\n",
    "\n",
    "- 코드의 흐름을 변경할려면(분기, 반복등)\n",
    "- 조건을 체크 -> 참, 거짓에 의해 (판정) 흐름을 변경\n",
    "- 판정 => 결론은 블린(True/False)\n",
    "- 판정이 작성된 코드을 조건식\n",
    "- 조건문, 반복문 제어문 식\n",
    "    - 조건식 결론 => 참이나 거짓이냐?\n",
    "        - False 상황: 0, 0.0, [], {}, (), None(값이없다), 기타조건문의결과(비교,등등)\n",
    "    - 조건식을 가지고 상황따라 움직이는 방식:조건문\n",
    "        - if\n",
    "    - 반복문 : 반복작업\n",
    "        - for, while"
   ]
  },
  {
   "cell_type": "markdown",
   "metadata": {},
   "source": [
    "#### 조건식 결론 첫번째 케이스"
   ]
  },
  {
   "cell_type": "code",
   "execution_count": 1,
   "metadata": {
    "scrolled": true
   },
   "outputs": [
    {
     "data": {
      "text/plain": [
       "(True, False, True, False, False, True)"
      ]
     },
     "execution_count": 1,
     "metadata": {},
     "output_type": "execute_result"
    }
   ],
   "source": [
    "# 조건식 결론 \n",
    "1600>1500, 1600 < 1500, 16000 >= 1500, 1600<=1500, 1600==1500, 1600 != 1500"
   ]
  },
  {
   "cell_type": "markdown",
   "metadata": {},
   "source": [
    "### if문"
   ]
  },
  {
   "cell_type": "code",
   "execution_count": 1,
   "metadata": {},
   "outputs": [],
   "source": [
    "# 요구사항에서 조건 상황이 몇개인지 체크하여 구현\n",
    "# if\n",
    "# if ~ else\n",
    "# if ~ elif\n",
    "# if ~ elif   ~ elif...\n",
    "# if ~ elif.. ~ else"
   ]
  },
  {
   "cell_type": "markdown",
   "metadata": {},
   "source": [
    "### 연습 문제\n",
    "-------------------------"
   ]
  },
  {
   "cell_type": "markdown",
   "metadata": {},
   "source": [
    "**<문제>**   \n",
    "커피값을 입력받아서 1500원이상이면 거스럼돈을 줘라     \n",
    "내용은 \"거스름돈(받은금액-1500)은 XX원 입니다.\""
   ]
  },
  {
   "cell_type": "code",
   "execution_count": 22,
   "metadata": {
    "scrolled": true
   },
   "outputs": [
    {
     "name": "stdout",
     "output_type": "stream",
     "text": [
      "커피값을 주세요2000\n"
     ]
    },
    {
     "data": {
      "text/plain": [
       "(2000, int)"
      ]
     },
     "execution_count": 22,
     "metadata": {},
     "output_type": "execute_result"
    }
   ],
   "source": [
    "# 1. 커피값을 입력받아서(정수 값 수치로 잘 넣는다)\n",
    "coffee_price =int(input('커피값을 주세요'))\n",
    "coffee_price, type(coffee_price)"
   ]
  },
  {
   "cell_type": "code",
   "execution_count": 26,
   "metadata": {
    "scrolled": true
   },
   "outputs": [
    {
     "data": {
      "text/plain": [
       "True"
      ]
     },
     "execution_count": 26,
     "metadata": {},
     "output_type": "execute_result"
    }
   ],
   "source": [
    "coffee_price > 1500"
   ]
  },
  {
   "cell_type": "code",
   "execution_count": 21,
   "metadata": {
    "scrolled": true
   },
   "outputs": [
    {
     "data": {
      "text/plain": [
       "(2000, int)"
      ]
     },
     "execution_count": 21,
     "metadata": {},
     "output_type": "execute_result"
    }
   ],
   "source": [
    "int(coffee_price), type(int(coffee_price))"
   ]
  },
  {
   "cell_type": "code",
   "execution_count": 25,
   "metadata": {
    "scrolled": true
   },
   "outputs": [],
   "source": [
    "# 2. 1500원이상이면 <- 조건 1개\n",
    "#    문법 => if 조건식:\n",
    "# >, <, >=, <=, ==, !=, not(부정, False를 체크할때, 잡을때, 부정적상황을 체크할때)\n",
    "\n",
    "# and,  or\n",
    "# : => 코드블럭이 시작된다\n",
    "#      코드블럭 => 들려쓰기후 진행(세로줄이 변경됨)\n",
    "#      그 조건이 만족된때만 수행하는 코드\n",
    "if coffee_price > 1500 : \n",
    "     # 아무것도 안할때 pass ( 뼈대 잡을때 pass 사용 )\n",
    "    pass"
   ]
  },
  {
   "cell_type": "code",
   "execution_count": 32,
   "metadata": {},
   "outputs": [
    {
     "name": "stdout",
     "output_type": "stream",
     "text": [
      "잔돈은 500원 입니다.\n"
     ]
    }
   ],
   "source": [
    "# 3. 거스럼돈은 100원 입니다.\n",
    "if coffee_price > 1500 :\n",
    "    #k = coffee_price - 1500\n",
    "    print('잔돈은 %d원 입니다.'% (coffee_price-1500))\n",
    "    #pass"
   ]
  },
  {
   "cell_type": "code",
   "execution_count": 33,
   "metadata": {},
   "outputs": [
    {
     "name": "stdout",
     "output_type": "stream",
     "text": [
      "잔돈은 500원 입니다.\n"
     ]
    }
   ],
   "source": [
    "# 3. 거스럼돈을 줘라\n",
    "if coffee_price > 1500 :\n",
    "    tmp = '잔돈은 %d원 입니다.'% (coffee_price - 1500)\n",
    "    print(tmp)\n",
    "    #pass"
   ]
  },
  {
   "cell_type": "markdown",
   "metadata": {},
   "source": [
    "### 통합 코드 "
   ]
  },
  {
   "cell_type": "code",
   "execution_count": 34,
   "metadata": {},
   "outputs": [
    {
     "name": "stdout",
     "output_type": "stream",
     "text": [
      "커피값을 주세요20000\n",
      "잔돈은 18500원 입니다.\n"
     ]
    }
   ],
   "source": [
    "# base\n",
    "coffee_price =int(input('커피값을 주세요'))\n",
    "if coffee_price >= 1500 :\n",
    "    tmp = '잔돈은 %d원 입니다.'% (coffee_price - 1500)\n",
    "    print(tmp)\n",
    "    pass"
   ]
  },
  {
   "cell_type": "code",
   "execution_count": 26,
   "metadata": {
    "scrolled": true
   },
   "outputs": [
    {
     "name": "stdout",
     "output_type": "stream",
     "text": [
      "커피값을 주세요1500\n",
      "잔돈은 0원 입니다.\n"
     ]
    }
   ],
   "source": [
    "# while 사용 \n",
    "Runnig = True\n",
    "while Runnig: \n",
    "    coffee_price =int(input('커피값을 주세요'))\n",
    "    if coffee_price >= 1500 :\n",
    "        tmp = '잔돈은 %d원 입니다.'% (coffee_price - 1500)\n",
    "        print(tmp)\n",
    "        pass\n",
    "    break"
   ]
  },
  {
   "cell_type": "code",
   "execution_count": null,
   "metadata": {},
   "outputs": [],
   "source": [
    "# # for 문 연습 \n",
    "# for i in range(10):\n",
    "#     i= i+1\n",
    "#     coffee_price =int(input('커피값을 주세요'))\n",
    "#     if coffee_price >= 1500 :\n",
    "#         tmp = '잔돈은 %d원 입니다.'% (coffee_price - 1500)\n",
    "#         print(tmp)\n",
    "#     else \n",
    "#         print('감사합니다.')\n",
    "#         print(tmp)\n",
    "#         pass"
   ]
  },
  {
   "cell_type": "code",
   "execution_count": 14,
   "metadata": {},
   "outputs": [
    {
     "name": "stdout",
     "output_type": "stream",
     "text": [
      "커피값을 주세요1500\n",
      "\n",
      "1500원 받았습니다.\n",
      "감사합니다.\n"
     ]
    }
   ],
   "source": [
    "# base 튜닝\n",
    "coffee_price = int(input('커피값을 주세요'))\n",
    "if coffee_price > 1500 :\n",
    "    tmp = '잔돈은 %d원 입니다.'% (coffee_price - 1500)\n",
    "    print(tmp)\n",
    "\n",
    "elif coffee_price < 1500: \n",
    "    tmp = '금액이 부족합니다. %d원 더 주세요.'% (1500 - coffee_price)\n",
    "    print(tmp)\n",
    "    \n",
    "elif coffee_price == 1500:     \n",
    "    tmp = '\\n%d원 받았습니다.\\n감사합니다.'% (coffee_price)\n",
    "    print(tmp)\n",
    "else :\n",
    "    print('감사합니다.')\n",
    "    pass"
   ]
  },
  {
   "cell_type": "markdown",
   "metadata": {},
   "source": [
    "---"
   ]
  },
  {
   "cell_type": "code",
   "execution_count": null,
   "metadata": {},
   "outputs": [],
   "source": [
    "'''\n",
    "# 들여쓰기 : 코드블럭\n",
    "# 코드블럭내에 존재하는 코드=> 수행문 => statements\n",
    "\n",
    "if 조건식:\n",
    "    statements\n",
    "elif 조건식:\n",
    "    statements\n",
    "else:\n",
    "    statements\n",
    "'''"
   ]
  },
  {
   "cell_type": "markdown",
   "metadata": {},
   "source": [
    "#### 조건식 결론 두번째 케이스 "
   ]
  },
  {
   "cell_type": "code",
   "execution_count": 27,
   "metadata": {},
   "outputs": [
    {
     "name": "stdout",
     "output_type": "stream",
     "text": [
      "밥먹어라\n"
     ]
    }
   ],
   "source": [
    "isRunning = False\n",
    "\n",
    "# 부정상황을 체크할때 사용\n",
    "# 달리지 않는다면 밥먹어라라는 문구를 출력하시오\n",
    "if not isRunning:\n",
    "    print( '밥먹어' )"
   ]
  },
  {
   "cell_type": "code",
   "execution_count": 23,
   "metadata": {},
   "outputs": [],
   "source": [
    "# 비트 연산\n",
    "\n",
    "# 둘다 참이여만 참이다 => 두 조건을 모두 만족해야 한다\n",
    "# 하나라도 거짓이면 거짓이다 (타언어 A && B)\n",
    "True and True, True and False, False and False, False and True"
   ]
  },
  {
   "cell_type": "code",
   "execution_count": null,
   "metadata": {},
   "outputs": [],
   "source": [
    "# 한개만 참이면 참이다 (타언어 A || B)\n",
    "# 둘다 거짓이면 거짓이다\n",
    "True or True, True or False, False or True, False or False"
   ]
  },
  {
   "cell_type": "markdown",
   "metadata": {},
   "source": [
    "####  삼항 연산자( 표현이 간결해진다. )\n",
    "- 파이썬은 없다. \n",
    "- 타언어 => 변수 = 조건식 ?  참일때 값: 거짓일때 값 ;\n",
    "- 상황은 두개 \n",
    "- and => 둘 다 참이어야 함 \n",
    "- or  => 둘 중 하나만 참 "
   ]
  },
  {
   "cell_type": "code",
   "execution_count": null,
   "metadata": {},
   "outputs": [],
   "source": [
    "# and 연산 -------- \n",
    "# 다른언어 ('?') => 파이썬은 ('and')"
   ]
  },
  {
   "cell_type": "markdown",
   "metadata": {},
   "source": [
    "---\n",
    "**중요**"
   ]
  },
  {
   "cell_type": "markdown",
   "metadata": {},
   "source": [
    "<문제>\n",
    "**문자열** 안의 숫자를 100이라는 값으로 채워라 \n",
    "tip _ :포멧팅 _ 중괄호라 -> .format()을 사용"
   ]
  },
  {
   "cell_type": "code",
   "execution_count": 20,
   "metadata": {},
   "outputs": [
    {
     "data": {
      "text/plain": [
       "'거스름돈은 100원입니다.'"
      ]
     },
     "execution_count": 20,
     "metadata": {},
     "output_type": "execute_result"
    }
   ],
   "source": [
    "a = 1500 \n",
    "b = 1600 \n",
    "# 값을 명확하게 확보 받기 위해서 (b-a) 그룹화를 시킨다 \n",
    "msg = b >= a and '거스름돈은 {cost}원입니다.'.format(cost=(b-a)) or '%원 부족' %(a-b)\n",
    "msg"
   ]
  },
  {
   "cell_type": "code",
   "execution_count": 19,
   "metadata": {},
   "outputs": [
    {
     "data": {
      "text/plain": [
       "True"
      ]
     },
     "execution_count": 19,
     "metadata": {},
     "output_type": "execute_result"
    }
   ],
   "source": [
    "a , b = 1500, 1600 \n",
    "\n",
    "msg = b >= a if '거스름돈은 {cost}원입니다.'.format(cost=(b-a)) else '%원 부족' %(a-b)\n",
    "msg"
   ]
  },
  {
   "cell_type": "code",
   "execution_count": 22,
   "metadata": {},
   "outputs": [
    {
     "data": {
      "text/plain": [
       "'거스름돈은 100원입니다.'"
      ]
     },
     "execution_count": 22,
     "metadata": {},
     "output_type": "execute_result"
    }
   ],
   "source": [
    "a , b = 1500, 1600 \n",
    "\n",
    "msg = '거스름돈은 {cost}원입니다.'.format(cost=(b-a)) if  b >= a else '%원 부족' %(a-b)\n",
    "msg"
   ]
  },
  {
   "cell_type": "markdown",
   "metadata": {},
   "source": [
    "---"
   ]
  },
  {
   "cell_type": "markdown",
   "metadata": {},
   "source": [
    "**Position of if **    \n",
    "---\n",
    "``` \n",
    "if expression:\n",
    "    pass\n",
    "```\n",
    "---\n",
    "**Position of if / else**    \n",
    "---\n",
    "```\n",
    "if condition:\n",
    "    pass\n",
    "else:\n",
    "    pass\n",
    "```\n",
    "---\n",
    "\n",
    "<< Positioning >>\n",
    "    \n",
    "    1. 조건을 이해하고 그 수대로 틀을 구성\n",
    "    2. 조건을 일단 다 배치하고 \n",
    "    3. 인사이트(도메인, 해당 직무)를 이해하고 가장 빈도가 높은 순으로 조건을 재배치(최적화 느낌) \n",
    "    4. 기획부분에 없으면 요구사항을 확인하고 작업 => 판이 커지면 책임 싸움 \n",
    "    5. 제시되지 않은 조건은 가정한다. "
   ]
  },
  {
   "cell_type": "code",
   "execution_count": 24,
   "metadata": {},
   "outputs": [
    {
     "name": "stdout",
     "output_type": "stream",
     "text": [
      "커피값을 주세요1500\n",
      "\n",
      "1500원 받았습니다.\n",
      "감사합니다.\n"
     ]
    }
   ],
   "source": [
    "coffee_price = int(input('커피값을 주세요'))\n",
    "\n",
    "if coffee_price > 1500:\n",
    "    print('잔돈은 %d원 입니다.'% (coffee_price - 1500))\n",
    "elif coffee_price == 1500:\n",
    "    print('\\n%d원 받았습니다.\\n감사합니다.'% (coffee_price))\n",
    "else:\n",
    "    print('감사합니다.')"
   ]
  },
  {
   "cell_type": "code",
   "execution_count": null,
   "metadata": {},
   "outputs": [],
   "source": [
    "#"
   ]
  },
  {
   "cell_type": "code",
   "execution_count": 1,
   "metadata": {},
   "outputs": [
    {
     "data": {
      "text/plain": [
       "5"
      ]
     },
     "execution_count": 1,
     "metadata": {},
     "output_type": "execute_result"
    }
   ],
   "source": [
    "# while \n",
    "# 재료 : 데이터 덩어리 <- 연속 데이터 타입 \n",
    "a = [1,2,3,4,5]\n",
    "\n",
    "'''\n",
    "while 조건 : \n",
    "    # statements(수행문)...\n",
    "'''\n",
    "\n",
    "# a의 멤버가 없을 때 가지 반복해서, \n",
    "#  \n",
    "len(a)"
   ]
  },
  {
   "cell_type": "code",
   "execution_count": 10,
   "metadata": {
    "scrolled": true
   },
   "outputs": [
    {
     "name": "stdout",
     "output_type": "stream",
     "text": [
      "5\n",
      "반복작업\n",
      "4\n",
      "반복작업\n",
      "3\n",
      "반복작업\n",
      "2\n",
      "반복작업\n",
      "1\n",
      "반복작업\n"
     ]
    }
   ],
   "source": [
    "a = [1,2,3,4,5]\n",
    "while len(a) > 0:\n",
    "    print(a.pop())\n",
    "    print('반복작업')"
   ]
  },
  {
   "cell_type": "code",
   "execution_count": null,
   "metadata": {},
   "outputs": [],
   "source": [
    "# a = [1,2,3,4,5]\n",
    "# while len(a) > 0:\n",
    "#     print(a.pop())\n",
    "#     print('반복작업')\n",
    "# 더 간결하게 \n"
   ]
  },
  {
   "cell_type": "code",
   "execution_count": 27,
   "metadata": {},
   "outputs": [
    {
     "name": "stdout",
     "output_type": "stream",
     "text": [
      "조건을 확인하고 참이면 내려온다.\n",
      "[0] 현재 멤버수 5\n",
      "5\n",
      "[1]현재 멤버수  4\n",
      "--------------------\n",
      "조건을 확인하고 참이면 내려온다.\n",
      "[0] 현재 멤버수 4\n",
      "4\n",
      "[1]현재 멤버수  3\n",
      "--------------------\n",
      "조건을 확인하고 참이면 내려온다.\n",
      "[0] 현재 멤버수 3\n",
      "3\n",
      "[1]현재 멤버수  2\n",
      "--------------------\n",
      "조건을 확인하고 참이면 내려온다.\n",
      "[0] 현재 멤버수 2\n",
      "2\n",
      "[1]현재 멤버수  1\n",
      "--------------------\n",
      "조건을 확인하고 참이면 내려온다.\n",
      "[0] 현재 멤버수 1\n",
      "1\n",
      "[1]현재 멤버수  0\n",
      "--------------------\n"
     ]
    }
   ],
   "source": [
    "a = [1,2,3,4,5]\n",
    "while len(a) > 0 :\n",
    "    print('조건을 확인하고 참이면 내려온다.')\n",
    "    print('[0] 현재 멤버수', len(a))\n",
    "    print(a.pop())\n",
    "    print('[1]현재 멤버수 ', len(a))\n",
    "    print('-'*20)\n",
    "    #pass"
   ]
  },
  {
   "cell_type": "code",
   "execution_count": 28,
   "metadata": {},
   "outputs": [
    {
     "name": "stdout",
     "output_type": "stream",
     "text": [
      "조건을 확인하고 참이면 내려온다.\n",
      "[0] 현재 멤버수 5\n",
      "5\n",
      "[1]현재 멤버수  4\n",
      "--------------------\n",
      "조건을 확인하고 참이면 내려온다.\n",
      "[0] 현재 멤버수 4\n",
      "4\n",
      "[1]현재 멤버수  3\n",
      "--------------------\n",
      "조건을 확인하고 참이면 내려온다.\n",
      "[0] 현재 멤버수 3\n",
      "3\n",
      "[1]현재 멤버수  2\n",
      "--------------------\n",
      "조건을 확인하고 참이면 내려온다.\n",
      "[0] 현재 멤버수 2\n",
      "2\n",
      "[1]현재 멤버수  1\n",
      "--------------------\n",
      "조건을 확인하고 참이면 내려온다.\n",
      "[0] 현재 멤버수 1\n",
      "1\n",
      "[1]현재 멤버수  0\n",
      "--------------------\n"
     ]
    }
   ],
   "source": [
    "a = [1,2,3,4,5]\n",
    "while a: \n",
    "    print('조건을 확인하고 참이면 내려온다.')\n",
    "    print('[0] 현재 멤버수', len(a))\n",
    "    print(a.pop())\n",
    "    print('[1]현재 멤버수 ', len(a))\n",
    "    print('-'*20)\n",
    "    #pass"
   ]
  },
  {
   "cell_type": "code",
   "execution_count": null,
   "metadata": {},
   "outputs": [],
   "source": [
    "# 수행문이 한줄이라면 옆으로 쓸 수 있다. \n",
    "# / => 나누기 \n",
    "# % => 나머지 "
   ]
  },
  {
   "cell_type": "code",
   "execution_count": 29,
   "metadata": {},
   "outputs": [
    {
     "name": "stdout",
     "output_type": "stream",
     "text": [
      "5\n",
      "4\n",
      "3\n",
      "2\n",
      "1\n",
      "중단없이 종료\n"
     ]
    }
   ],
   "source": [
    "a = [1,2,3,4,5]\n",
    "while a :\n",
    "    print(a.pop())\n",
    "else:\n",
    "    print('중단없이 종료')"
   ]
  },
  {
   "cell_type": "markdown",
   "metadata": {},
   "source": [
    "#### 흐름제어 \n",
    "- break : if 문과 같이 사용되거나, 단독 사용가능 \n",
    "    - 가장 가까운 반복문(while, for)을 빠져 나간다\n",
    "- "
   ]
  },
  {
   "cell_type": "code",
   "execution_count": 34,
   "metadata": {},
   "outputs": [
    {
     "name": "stdout",
     "output_type": "stream",
     "text": [
      "5\n",
      "5\n",
      "4\n",
      "3\n",
      "3\n",
      "2\n",
      "1\n",
      "1\n",
      "a 의 잔여량:  0\n",
      "홀수는 다 찍고 짝수는 1회만\n"
     ]
    }
   ],
   "source": [
    "a = [1,2,3,4,5]\n",
    "while a : \n",
    "    tmp = a.pop()\n",
    "    print(tmp)\n",
    "    if tmp % 2 == 0 : # 짝수면\n",
    "        continue\n",
    "    print(tmp)\n",
    "    if len(a) == 1: \n",
    "        break\n",
    "else:\n",
    "    print('a 의 잔여량: ',len(a))\n",
    "    print('홀수는 다 찍고 짝수는 1회만')"
   ]
  },
  {
   "cell_type": "code",
   "execution_count": 39,
   "metadata": {},
   "outputs": [
    {
     "name": "stdout",
     "output_type": "stream",
     "text": [
      "5\n",
      "4\n",
      "4\n",
      "3\n",
      "2\n",
      "2\n"
     ]
    }
   ],
   "source": [
    "# a = [0,1,2,3,4,5]\n",
    "a = [1,2,3,4,5]\n",
    "while a : \n",
    "    tmp = a.pop()\n",
    "    \n",
    "    print(tmp)\n",
    "    \n",
    "    if tmp % 2 == 1 : # 홀수면 \n",
    "        continue\n",
    "        \n",
    "    print(tmp)\n",
    "    \n",
    "    if len(a) == 1: \n",
    "        break\n",
    "else:\n",
    "    print('a 의 잔여량: ',len(a))\n",
    "    print('짝수는 다 찍고 홀수는 1회만')"
   ]
  },
  {
   "cell_type": "markdown",
   "metadata": {},
   "source": [
    "### for "
   ]
  },
  {
   "cell_type": "code",
   "execution_count": null,
   "metadata": {},
   "outputs": [],
   "source": [
    "'''\n",
    "# for ~ each 방식 or for in 방식 \n",
    "for 데이터 한개 ( 멤버) in 연속데이터 타입( 시퀸스타입 ):\n",
    "    수행문 \n",
    "\n",
    "'''"
   ]
  },
  {
   "cell_type": "code",
   "execution_count": 41,
   "metadata": {},
   "outputs": [
    {
     "name": "stdout",
     "output_type": "stream",
     "text": [
      "1\n",
      "2\n",
      "3\n",
      "4\n",
      "5\n"
     ]
    }
   ],
   "source": [
    "a = [1,2,3,4,5]\n",
    "for number in a :\n",
    "    print(number)"
   ]
  },
  {
   "cell_type": "code",
   "execution_count": 43,
   "metadata": {},
   "outputs": [
    {
     "name": "stdout",
     "output_type": "stream",
     "text": [
      "[1, 2]\n",
      "[3, 4]\n",
      "[5, 6]\n"
     ]
    }
   ],
   "source": [
    "# a = [(1,2),(3,4),(5,6)]\n",
    "a = [[1,2],[3,4],[5,6]]\n",
    "for n in a : \n",
    "    print( n )"
   ]
  },
  {
   "cell_type": "code",
   "execution_count": 47,
   "metadata": {},
   "outputs": [
    {
     "name": "stdout",
     "output_type": "stream",
     "text": [
      "(1, 2)\n",
      "[1, 2]\n",
      "[3, 4]\n",
      "[5, 6]\n",
      "(3, 4)\n",
      "[1, 2]\n",
      "[3, 4]\n",
      "[5, 6]\n",
      "(5, 6)\n",
      "[1, 2]\n",
      "[3, 4]\n",
      "[5, 6]\n"
     ]
    }
   ],
   "source": [
    "b = [(1,2),(3,4),(5,6)]\n",
    "c = [[1,2],[3,4],[5,6]]\n",
    "for n in b : \n",
    "    print( n )\n",
    "    for nn in c :\n",
    "        print( nn )"
   ]
  },
  {
   "cell_type": "code",
   "execution_count": null,
   "metadata": {},
   "outputs": [],
   "source": [
    "# 데이터의 형태에 따라 받아주는 변수의 개수, 형태는 조정\n",
    "a = [(1,2),(3,4),(5,6)]\n",
    "for n,m in a:\n",
    "    print( n, m )"
   ]
  },
  {
   "cell_type": "code",
   "execution_count": 51,
   "metadata": {},
   "outputs": [
    {
     "data": {
      "text/plain": [
       "[{'code': 'USD', 'price': 1180}, {'code': 'EUR', 'price': 1430}]"
      ]
     },
     "execution_count": 51,
     "metadata": {},
     "output_type": "execute_result"
    }
   ],
   "source": [
    "a = [ \n",
    "    {\n",
    "        'code':'USD',\n",
    "        'price':1180\n",
    "    },\n",
    "    {\n",
    "        'code':'EUR',\n",
    "        'price':1430\n",
    "    },    \n",
    "]\n",
    "a"
   ]
  },
  {
   "cell_type": "code",
   "execution_count": 55,
   "metadata": {},
   "outputs": [
    {
     "data": {
      "text/plain": [
       "'USD'"
      ]
     },
     "execution_count": 55,
     "metadata": {},
     "output_type": "execute_result"
    }
   ],
   "source": [
    "a[0]['code']"
   ]
  },
  {
   "cell_type": "code",
   "execution_count": 66,
   "metadata": {
    "scrolled": true
   },
   "outputs": [
    {
     "name": "stdout",
     "output_type": "stream",
     "text": [
      "code 값: USD EUR\n",
      "price 값: 1180 1430\n"
     ]
    }
   ],
   "source": [
    "# 딕트를 for로 돌리면 키가 나온다.\n",
    "for key in a[0]:\n",
    "    print(key, '값:', a[0][key], a[1].get(key))\n",
    "#     print(key, '값:', a[1][n])"
   ]
  },
  {
   "cell_type": "code",
   "execution_count": 72,
   "metadata": {},
   "outputs": [
    {
     "name": "stdout",
     "output_type": "stream",
     "text": [
      "code USD\n",
      "price 1180\n"
     ]
    }
   ],
   "source": [
    "# 딕트\n",
    "# AttributeError:'dict' object has no attribute 'item' => 'items' 변경\n",
    "for key, value in a[0].items():\n",
    "    print(key,value)"
   ]
  },
  {
   "cell_type": "code",
   "execution_count": 79,
   "metadata": {},
   "outputs": [
    {
     "name": "stdout",
     "output_type": "stream",
     "text": [
      "--------------------\n",
      "{'code': 'USD', 'price': 1180}\n",
      "--------------------\n",
      "(0, 'code')\n",
      "--------------------\n",
      "--------------------\n",
      "{'code': 'USD', 'price': 1180}\n",
      "--------------------\n",
      "(1, 'price')\n",
      "--------------------\n"
     ]
    }
   ],
   "source": [
    "# 딕트에서도 인덱스가 필요하다 \n",
    "# 여러개의 연속데이터 타입을 처리해야 한다면 \n",
    "# 10개짜리 리스트와, 딕트를 같은 for문에서 같은 순서로 처리 \n",
    "# enumerate() =>  강제로 인덱싱  => 인덱스 부여\n",
    "\n",
    "for n in enumerate(a[0]):\n",
    "    print('-'*20)\n",
    "    print(a[0])\n",
    "    print('-'*20)\n",
    "    print(n)\n",
    "    print('-'*20)"
   ]
  },
  {
   "cell_type": "code",
   "execution_count": 1,
   "metadata": {},
   "outputs": [
    {
     "name": "stdout",
     "output_type": "stream",
     "text": [
      "1\n",
      "2\n",
      "3\n",
      "4\n"
     ]
    }
   ],
   "source": [
    "# 연속수 -> range()  -> numpy에서는 arange()\n",
    "# range( 시작인덱스, 끝인덱스, step)\n",
    "# range( 시작인덱스, 끝인덱스)\n",
    "# range( 끝인덱스)\n",
    "# 어떤 라이브러리던지 range라는 단어다 붙여있으면 연속적인 수치, 날짜\n",
    "# 등을 만드는 기능을 가지고 있다\n",
    "for n in range(1, 5):\n",
    "    print(n)"
   ]
  },
  {
   "cell_type": "code",
   "execution_count": null,
   "metadata": {},
   "outputs": [],
   "source": [
    "for n in range(2):\n",
    "    for m in range(2):\n",
    "        # 참 \n",
    "        # ^ :\n",
    "    "
   ]
  },
  {
   "cell_type": "code",
   "execution_count": null,
   "metadata": {},
   "outputs": [],
   "source": [
    "# [실습]\n",
    "# 3-7단까지만 구구단을 출력하시오 \n",
    "# 출력 형식은 3x1 = 3 ... 한줄에 하나씩 \n"
   ]
  },
  {
   "cell_type": "code",
   "execution_count": 39,
   "metadata": {
    "scrolled": true
   },
   "outputs": [
    {
     "name": "stdout",
     "output_type": "stream",
     "text": [
      "3단\n",
      "3 x 1 = 3\n",
      "3 x 2 = 6\n",
      "3 x 3 = 9\n",
      "3 x 4 = 12\n",
      "3 x 5 = 15\n",
      "3 x 6 = 18\n",
      "3 x 7 = 21\n",
      "3 x 8 = 24\n",
      "3 x 9 = 27\n",
      "4단\n",
      "4 x 1 = 4\n",
      "4 x 2 = 8\n",
      "4 x 3 = 12\n",
      "4 x 4 = 16\n",
      "4 x 5 = 20\n",
      "4 x 6 = 24\n",
      "4 x 7 = 28\n",
      "4 x 8 = 32\n",
      "4 x 9 = 36\n",
      "5단\n",
      "5 x 1 = 5\n",
      "5 x 2 = 10\n",
      "5 x 3 = 15\n",
      "5 x 4 = 20\n",
      "5 x 5 = 25\n",
      "5 x 6 = 30\n",
      "5 x 7 = 35\n",
      "5 x 8 = 40\n",
      "5 x 9 = 45\n",
      "6단\n",
      "6 x 1 = 6\n",
      "6 x 2 = 12\n",
      "6 x 3 = 18\n",
      "6 x 4 = 24\n",
      "6 x 5 = 30\n",
      "6 x 6 = 36\n",
      "6 x 7 = 42\n",
      "6 x 8 = 48\n",
      "6 x 9 = 54\n",
      "7단\n",
      "7 x 1 = 7\n",
      "7 x 2 = 14\n",
      "7 x 3 = 21\n",
      "7 x 4 = 28\n",
      "7 x 5 = 35\n",
      "7 x 6 = 42\n",
      "7 x 7 = 49\n",
      "7 x 8 = 56\n",
      "7 x 9 = 63\n"
     ]
    }
   ],
   "source": [
    "a = [3,4,5,6,7]\n",
    "for i in a:\n",
    "    print('%d단'%i)\n",
    "    for j in range(9):\n",
    "        j=j+1\n",
    "        print(i ,'x', j ,'=',i*j)"
   ]
  },
  {
   "cell_type": "markdown",
   "metadata": {},
   "source": [
    "### 문제점 : range  잘 못다룬다 "
   ]
  },
  {
   "cell_type": "code",
   "execution_count": 27,
   "metadata": {},
   "outputs": [
    {
     "name": "stdout",
     "output_type": "stream",
     "text": [
      "3단 \n",
      " ==============================\n",
      "3 x 1 = 3\n",
      "3 x 2 = 6\n",
      "3 x 3 = 9\n",
      "3 x 4 = 12\n",
      "3 x 5 = 15\n",
      "3 x 6 = 18\n",
      "3 x 7 = 21\n",
      "3 x 8 = 24\n",
      "3 x 9 = 27\n",
      "4단 \n",
      " ==============================\n",
      "4 x 1 = 4\n",
      "4 x 2 = 8\n",
      "4 x 3 = 12\n",
      "4 x 4 = 16\n",
      "4 x 5 = 20\n",
      "4 x 6 = 24\n",
      "4 x 7 = 28\n",
      "4 x 8 = 32\n",
      "4 x 9 = 36\n",
      "5단 \n",
      " ==============================\n",
      "5 x 1 = 5\n",
      "5 x 2 = 10\n",
      "5 x 3 = 15\n",
      "5 x 4 = 20\n",
      "5 x 5 = 25\n",
      "5 x 6 = 30\n",
      "5 x 7 = 35\n",
      "5 x 8 = 40\n",
      "5 x 9 = 45\n",
      "6단 \n",
      " ==============================\n",
      "6 x 1 = 6\n",
      "6 x 2 = 12\n",
      "6 x 3 = 18\n",
      "6 x 4 = 24\n",
      "6 x 5 = 30\n",
      "6 x 6 = 36\n",
      "6 x 7 = 42\n",
      "6 x 8 = 48\n",
      "6 x 9 = 54\n",
      "7단 \n",
      " ==============================\n",
      "7 x 1 = 7\n",
      "7 x 2 = 14\n",
      "7 x 3 = 21\n",
      "7 x 4 = 28\n",
      "7 x 5 = 35\n",
      "7 x 6 = 42\n",
      "7 x 7 = 49\n",
      "7 x 8 = 56\n",
      "7 x 9 = 63\n"
     ]
    }
   ],
   "source": [
    "for i in range( 3, 8 ):\n",
    "    print( '%d단'%i,'\\n','='*30 )\n",
    "    for j in range( 1, 10 ):\n",
    "        print( i ,'x', j ,'=', i*j )"
   ]
  },
  {
   "cell_type": "code",
   "execution_count": 32,
   "metadata": {
    "scrolled": true
   },
   "outputs": [
    {
     "name": "stdout",
     "output_type": "stream",
     "text": [
      "3단 \n",
      " ==============================\n",
      "3 x 1 =  3\n",
      "3 x 2 =  6\n",
      "3 x 3 =  9\n",
      "3 x 4 = 12\n",
      "3 x 5 = 15\n",
      "3 x 6 = 18\n",
      "3 x 7 = 21\n",
      "3 x 8 = 24\n",
      "3 x 9 = 27\n",
      "4단 \n",
      " ==============================\n",
      "4 x 1 =  4\n",
      "4 x 2 =  8\n",
      "4 x 3 = 12\n",
      "4 x 4 = 16\n",
      "4 x 5 = 20\n",
      "4 x 6 = 24\n",
      "4 x 7 = 28\n",
      "4 x 8 = 32\n",
      "4 x 9 = 36\n",
      "5단 \n",
      " ==============================\n",
      "5 x 1 =  5\n",
      "5 x 2 = 10\n",
      "5 x 3 = 15\n",
      "5 x 4 = 20\n",
      "5 x 5 = 25\n",
      "5 x 6 = 30\n",
      "5 x 7 = 35\n",
      "5 x 8 = 40\n",
      "5 x 9 = 45\n",
      "6단 \n",
      " ==============================\n",
      "6 x 1 =  6\n",
      "6 x 2 = 12\n",
      "6 x 3 = 18\n",
      "6 x 4 = 24\n",
      "6 x 5 = 30\n",
      "6 x 6 = 36\n",
      "6 x 7 = 42\n",
      "6 x 8 = 48\n",
      "6 x 9 = 54\n",
      "7단 \n",
      " ==============================\n",
      "7 x 1 =  7\n",
      "7 x 2 = 14\n",
      "7 x 3 = 21\n",
      "7 x 4 = 28\n",
      "7 x 5 = 35\n",
      "7 x 6 = 42\n",
      "7 x 7 = 49\n",
      "7 x 8 = 56\n",
      "7 x 9 = 63\n"
     ]
    }
   ],
   "source": [
    "for i in range( 3, 8 ):\n",
    "    print( '%d단'%i,'\\n','='*30 )\n",
    "    for j in range( 1, 10 ):\n",
    "        print( '%s x %s = %2s'% (i,j,i*j))"
   ]
  },
  {
   "cell_type": "markdown",
   "metadata": {},
   "source": [
    "# xxx 내포 \n",
    "- 결과를 중심으로 코드를 펼친다는 관점에서 연속 데이터\n",
    "- 연속데이터 안에서 조건문, 반복문등을 활용하여 간결하게 \n",
    "- 데이터를 구성 \n",
    "- 리스트 내포, 딕셔너리 내포등 "
   ]
  },
  {
   "cell_type": "code",
   "execution_count": 37,
   "metadata": {
    "scrolled": true
   },
   "outputs": [
    {
     "data": {
      "text/plain": [
       "['3 x 1 =  3',\n",
       " '3 x 2 =  6',\n",
       " '3 x 3 =  9',\n",
       " '3 x 4 = 12',\n",
       " '3 x 5 = 15',\n",
       " '3 x 6 = 18',\n",
       " '3 x 7 = 21',\n",
       " '3 x 8 = 24',\n",
       " '3 x 9 = 27',\n",
       " '4 x 1 =  4',\n",
       " '4 x 2 =  8',\n",
       " '4 x 3 = 12',\n",
       " '4 x 4 = 16',\n",
       " '4 x 5 = 20',\n",
       " '4 x 6 = 24',\n",
       " '4 x 7 = 28',\n",
       " '4 x 8 = 32',\n",
       " '4 x 9 = 36',\n",
       " '5 x 1 =  5',\n",
       " '5 x 2 = 10',\n",
       " '5 x 3 = 15',\n",
       " '5 x 4 = 20',\n",
       " '5 x 5 = 25',\n",
       " '5 x 6 = 30',\n",
       " '5 x 7 = 35',\n",
       " '5 x 8 = 40',\n",
       " '5 x 9 = 45',\n",
       " '6 x 1 =  6',\n",
       " '6 x 2 = 12',\n",
       " '6 x 3 = 18',\n",
       " '6 x 4 = 24',\n",
       " '6 x 5 = 30',\n",
       " '6 x 6 = 36',\n",
       " '6 x 7 = 42',\n",
       " '6 x 8 = 48',\n",
       " '6 x 9 = 54',\n",
       " '7 x 1 =  7',\n",
       " '7 x 2 = 14',\n",
       " '7 x 3 = 21',\n",
       " '7 x 4 = 28',\n",
       " '7 x 5 = 35',\n",
       " '7 x 6 = 42',\n",
       " '7 x 7 = 49',\n",
       " '7 x 8 = 56',\n",
       " '7 x 9 = 63']"
      ]
     },
     "execution_count": 37,
     "metadata": {},
     "output_type": "execute_result"
    }
   ],
   "source": [
    "# 결과를 먼저 쓰고 내용을 확인하는 ?\n",
    "['%s x %s = %2s' % (i,j,i*j) for i in range(3,8) for j in range(1,10)]"
   ]
  },
  {
   "cell_type": "code",
   "execution_count": null,
   "metadata": {},
   "outputs": [],
   "source": [
    "['%s x %s = %2s' % (i,j,i*j) for i in range(3,8) for j in range(1,10)]"
   ]
  },
  {
   "cell_type": "code",
   "execution_count": 60,
   "metadata": {},
   "outputs": [
    {
     "name": "stdout",
     "output_type": "stream",
     "text": [
      "[3, 6, 9, 12, 15, 18, 21, 24, 27, 4, 8, 12, 16, 20, 24, 28, 32, 36, 6, 12, 18, 24, 30, 36, 42, 48, 54, 7, 14, 21, 28, 35, 42, 49, 56, 63]\n",
      "총 개수: 36\n"
     ]
    }
   ],
   "source": [
    "# 5단만 제외하고 작업 (긍정)\n",
    "results = []\n",
    "for i in range( 3, 8 ): \n",
    "    if i == 5:\n",
    "        #print(int(i.pop())\n",
    "        continue\n",
    "    #print( '%d단'%i,'\\n','='*30 )\n",
    "    for j in range( 1, 10 ):\n",
    "        results.append(i*j)\n",
    "print(results)#  프린트로 찍으면 옆으로  \n",
    "print('총 개수:', len(results))"
   ]
  },
  {
   "cell_type": "code",
   "execution_count": 63,
   "metadata": {},
   "outputs": [
    {
     "name": "stdout",
     "output_type": "stream",
     "text": [
      "[3, 6, 9, 12, 15, 18, 21, 24, 27, 4, 8, 12, 16, 20, 24, 28, 32, 36, 6, 12, 18, 24, 30, 36, 42, 48, 54, 7, 14, 21, 28, 35, 42, 49, 56, 63] 총 개수: 36\n"
     ]
    }
   ],
   "source": [
    "# 5단만 제외하고 작업 (부정)\n",
    "results = list()\n",
    "for i in range( 3, 8 ): \n",
    "    if i != 5:\n",
    "        for j in range( 1, 10 ):\n",
    "            results.append(i*j)\n",
    "            \n",
    "print(results,'총 개수:', len(results))"
   ]
  },
  {
   "cell_type": "code",
   "execution_count": 70,
   "metadata": {},
   "outputs": [
    {
     "name": "stdout",
     "output_type": "stream",
     "text": [
      "[3, 6, 9, 12, 15, 18, 21, 24, 27, 4, 8, 12, 16, 20, 24, 28, 32, 36, 6, 12, 18, 24, 30, 36, 42, 48, 54, 7, 14, 21, 28, 35, 42, 49, 56, 63] \n",
      "총 개수: 36\n"
     ]
    }
   ],
   "source": [
    "a = [(i*j) for i in range( 3, 8 ) if i != 5 for j in range( 1, 10 )]\n",
    "print(a,'\\n총 개수:',len(a))"
   ]
  },
  {
   "cell_type": "code",
   "execution_count": 57,
   "metadata": {},
   "outputs": [
    {
     "name": "stdout",
     "output_type": "stream",
     "text": [
      "[3, 6, 9, 12, 15, 18, 21, 24, 27, 4, 8, 12, 16, 20, 24, 28, 32, 36, 6, 12, 18, 24, 30, 36, 42, 48, 54, 7, 14, 21, 28, 35, 42, 49, 56, 63]\n",
      "36\n"
     ]
    }
   ],
   "source": [
    "results = []\n",
    "for i in range( 3, 8 ): \n",
    "    #print( '%d단'%i,'\\n','='*30 )\n",
    "    for j in range( 1, 10 ):\n",
    "        results.append(i*j)\n",
    "print(results)#  프린트로 찍으면 옆으로  \n",
    "print(len(results))"
   ]
  },
  {
   "cell_type": "code",
   "execution_count": null,
   "metadata": {},
   "outputs": [],
   "source": [
    "# 리스트 내포는 컨티뉴를 잡을 수 없다."
   ]
  },
  {
   "cell_type": "code",
   "execution_count": null,
   "metadata": {},
   "outputs": [],
   "source": [
    "# test ================================="
   ]
  },
  {
   "cell_type": "markdown",
   "metadata": {},
   "source": [
    "#### 옵션\n",
    "\n",
    "- 문자열에서 정수 변환이 가능한지 체크"
   ]
  },
  {
   "cell_type": "code",
   "execution_count": 15,
   "metadata": {
    "scrolled": true
   },
   "outputs": [
    {
     "name": "stdout",
     "output_type": "stream",
     "text": [
      "1\n"
     ]
    },
    {
     "ename": "AttributeError",
     "evalue": "'str' object has no attribute 'isascii'",
     "output_type": "error",
     "traceback": [
      "\u001b[1;31m---------------------------------------------------------------------------\u001b[0m",
      "\u001b[1;31mAttributeError\u001b[0m                            Traceback (most recent call last)",
      "\u001b[1;32m<ipython-input-15-88e26d10b505>\u001b[0m in \u001b[0;36m<module>\u001b[1;34m()\u001b[0m\n\u001b[0;32m      1\u001b[0m \u001b[1;32mfor\u001b[0m \u001b[0ma\u001b[0m \u001b[1;32min\u001b[0m \u001b[1;33m[\u001b[0m \u001b[1;34m'1'\u001b[0m\u001b[1;33m,\u001b[0m \u001b[1;34m'1.1'\u001b[0m\u001b[1;33m,\u001b[0m \u001b[1;34m'a'\u001b[0m \u001b[1;33m]\u001b[0m\u001b[1;33m:\u001b[0m\u001b[1;33m\u001b[0m\u001b[0m\n\u001b[0;32m      2\u001b[0m     \u001b[0mprint\u001b[0m\u001b[1;33m(\u001b[0m \u001b[0ma\u001b[0m \u001b[1;33m)\u001b[0m\u001b[1;33m\u001b[0m\u001b[0m\n\u001b[1;32m----> 3\u001b[1;33m     \u001b[0mprint\u001b[0m\u001b[1;33m(\u001b[0m \u001b[0ma\u001b[0m\u001b[1;33m.\u001b[0m\u001b[0misalnum\u001b[0m\u001b[1;33m(\u001b[0m\u001b[1;33m)\u001b[0m\u001b[1;33m,\u001b[0m \u001b[0ma\u001b[0m\u001b[1;33m.\u001b[0m\u001b[0misalpha\u001b[0m\u001b[1;33m(\u001b[0m\u001b[1;33m)\u001b[0m\u001b[1;33m,\u001b[0m \u001b[0ma\u001b[0m\u001b[1;33m.\u001b[0m\u001b[0misascii\u001b[0m\u001b[1;33m(\u001b[0m\u001b[1;33m)\u001b[0m\u001b[1;33m)\u001b[0m\u001b[1;33m\u001b[0m\u001b[0m\n\u001b[0m\u001b[0;32m      4\u001b[0m     \u001b[0mprint\u001b[0m\u001b[1;33m(\u001b[0m \u001b[0ma\u001b[0m\u001b[1;33m.\u001b[0m\u001b[0misdecimal\u001b[0m\u001b[1;33m(\u001b[0m\u001b[1;33m)\u001b[0m\u001b[1;33m,\u001b[0m \u001b[0ma\u001b[0m\u001b[1;33m.\u001b[0m\u001b[0misdigit\u001b[0m\u001b[1;33m(\u001b[0m\u001b[1;33m)\u001b[0m\u001b[1;33m,\u001b[0m \u001b[0ma\u001b[0m\u001b[1;33m.\u001b[0m\u001b[0misnumeric\u001b[0m\u001b[1;33m(\u001b[0m\u001b[1;33m)\u001b[0m \u001b[1;33m)\u001b[0m\u001b[1;33m\u001b[0m\u001b[0m\n\u001b[0;32m      5\u001b[0m     \u001b[0mprint\u001b[0m\u001b[1;33m(\u001b[0m \u001b[1;34m'-'\u001b[0m\u001b[1;33m*\u001b[0m\u001b[1;36m20\u001b[0m \u001b[1;33m)\u001b[0m\u001b[1;33m\u001b[0m\u001b[0m\n",
      "\u001b[1;31mAttributeError\u001b[0m: 'str' object has no attribute 'isascii'"
     ]
    }
   ],
   "source": [
    "for a in [ '1', '1.1', 'a' ]:\n",
    "    print( a )\n",
    "    print( a.isalnum(), a.isalpha(), a.isascii()  )\n",
    "    print( a.isdecimal(), a.isdigit(), a.isnumeric() )\n",
    "    print( '-'*20 )"
   ]
  },
  {
   "cell_type": "code",
   "execution_count": 12,
   "metadata": {
    "scrolled": true
   },
   "outputs": [
    {
     "name": "stdout",
     "output_type": "stream",
     "text": [
      "1\n",
      "True False\n",
      "True True True\n",
      "정수변환 1\n",
      "--------------------\n",
      "1.1\n",
      "False False\n",
      "False False False\n",
      "--------------------\n",
      "a\n",
      "True True\n",
      "False False False\n",
      "--------------------\n"
     ]
    }
   ],
   "source": [
    "for a in [ '1', '1.1', 'a' ]:\n",
    "    print( a )\n",
    "    print( a.isalnum(), a.isalpha())\n",
    "    print( a.isdecimal(), a.isdigit(), a.isnumeric() )\n",
    "    if a.isdigit():\n",
    "        print('정수변환',int(a))\n",
    "    print( '-'*20 )"
   ]
  },
  {
   "cell_type": "code",
   "execution_count": null,
   "metadata": {},
   "outputs": [],
   "source": [
    "# End_test ================================="
   ]
  },
  {
   "cell_type": "code",
   "execution_count": null,
   "metadata": {},
   "outputs": [],
   "source": [
    "'''\n",
    "[조건체크]: a의 맴버가 존재하는가?\n",
    "    - [수행]a의 맨뒤에서 값 하나 추출하여 tmp에 담는다\n",
    "    - [수행]tmp를 출력한다 \n",
    "    - [조건체크] tmp가 짝수인가\n",
    "        - [판단결과]참이면\n",
    "            - [수행]맨 처음 조건으로 이동\n",
    "        - [판단결과]거짓이면\n",
    "            - [수행]tmp 출력\n",
    "            - [조건체크] a의 맴버수가 1인가?\n",
    "                - [판단결과]참이면\n",
    "                    - [수행]break로 반복문 탈출\n",
    "                - [판단결과]거짓이면\n",
    "                    - [수행]맨 처음 조건으로 이동\n",
    "    \n",
    "'''\n",
    "a = [1,2,3,4,5]\n",
    "while a:\n",
    "    tmp = a.pop()\n",
    "    print( tmp )\n",
    "    if tmp % 2 == 0:# 짝수면\n",
    "        continue\n",
    "    print( tmp )\n",
    "    if len(a) == 1:\n",
    "        break\n",
    "else:\n",
    "    print( '중간에 중단 없이 정상적으로 잘 반복종료했다' )"
   ]
  },
  {
   "cell_type": "markdown",
   "metadata": {},
   "source": [
    "## 연습 \n",
    "---"
   ]
  },
  {
   "cell_type": "code",
   "execution_count": null,
   "metadata": {},
   "outputs": [],
   "source": [
    "# s1 = \"Date,Open,High,Low,Close,Volume,Ex-Dividend,Split Ratio,Adj. Open,Adj. High,Adj. Low,Adj. Close,Adj. Volume\"\n",
    "# s2 = \"2018-03-27,156.31,162.85,150.75,152.19,76787884.0,0.0,1.0,156.31,162.85,150.75,152.19,76787884.0\"\n",
    "\n",
    "# # print(s1.split(','))\n",
    "# # print(s2.split(','))\n",
    "\n",
    "# dic = {}\n",
    "# for i, j in zip(s1.split(','), s2.split(',')) :\n",
    "#     dic[i] = j\n",
    "# print(dic)"
   ]
  },
  {
   "cell_type": "markdown",
   "metadata": {},
   "source": [
    "---"
   ]
  },
  {
   "cell_type": "code",
   "execution_count": null,
   "metadata": {},
   "outputs": [],
   "source": []
  }
 ],
 "metadata": {
  "kernelspec": {
   "display_name": "Python 3",
   "language": "python",
   "name": "python3"
  },
  "language_info": {
   "codemirror_mode": {
    "name": "ipython",
    "version": 3
   },
   "file_extension": ".py",
   "mimetype": "text/x-python",
   "name": "python",
   "nbconvert_exporter": "python",
   "pygments_lexer": "ipython3",
   "version": "3.6.5"
  }
 },
 "nbformat": 4,
 "nbformat_minor": 2
}
