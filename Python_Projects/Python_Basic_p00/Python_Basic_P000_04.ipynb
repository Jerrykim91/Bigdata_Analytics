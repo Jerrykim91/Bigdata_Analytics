{
 "cells": [
  {
   "cell_type": "markdown",
   "metadata": {},
   "source": [
    "# 리스트 \n",
    "\n",
    "---\n",
    "01. 파이썬 문법 전체 리스트 \n",
    "02. 수치형 \n",
    "03. 문자형 \n",
    "04. 연속데이터타입\\_리스트\\_딕셔너리\\_튜플\\_집합    \n",
    "    - Python_Basic_P000_01.ipynb\n",
    "\n",
    "---\n",
    "05. 블린\\_조건문\\_제어문\\_반복문     \n",
    "    - Python_Basic_P000_02.ipynb\n",
    "\n",
    "---\n",
    "06. 함수    \n",
    "    - Python_Basic_P000_03.ipynb\n",
    "---\n",
    "**07. 모듈화 모듈가져오기& 패키지& 예외처리**    \n",
    "    - Python_Basic_P000_04.ipynb\n",
    "\n",
    "---\n",
    "08. 클래스\\_객체지향 프로그램\n",
    "---\n",
    "09. 정규식\n",
    "10. 고급표현"
   ]
  },
  {
   "cell_type": "markdown",
   "metadata": {},
   "source": [
    "### 패키지, 모듈 \n",
    "\n",
    "- 파이썬에서 만들 수 있는 형태는 오직 2개뿐 \n",
    "    - 모듈   :  *.py\n",
    "    - 패키지 : 특정기능을 가진 모듈들을 모아둔 디렉토리 \n",
    "    \n",
    "- 실습구조 \n",
    "    - 현재위치 \n",
    "        ㄴ Mymath\n",
    "            ㄴ__init__.py\n",
    "            ㄴmetrix\n",
    "                ㄴ__init__.py\n",
    "                ㄴmod.py\n",
    "         ㄴ Python_Basic_P000_04.py(시작점, entry point, 여기서부터 경로를 체크한다.)\n"
   ]
  },
  {
   "cell_type": "markdown",
   "metadata": {},
   "source": [
    "### 모듈가져오기 & 사용하기\n",
    "\n",
    "- case \n",
    "    - 내가 작성하는 모듈에 남이 만든 모듈을 가져다가 사용하는 절차 \n",
    "        - 1. 가져온다\n",
    "        - 2. 사용한다.\n",
    "        \n",
    "    - from 패키지명, 패키지명 .... import 변수명, 함수, 클래스 ...\n",
    "    - from 패키지명, 패키지명 .... import * # 땡길게 너무 많을 떄\n",
    "    - from 패키지명, 패키지명 .... import 변수 as 별칭   \n",
    "    <br>\n",
    "    - from 패키지명, 패키지명 .... 패키지명 import 이하동문   \n",
    "    <br>   \n",
    "    - from 모듈명 import 이하동문    \n",
    "    <br>\n",
    "    - import 패키지명, 패키지명 .... 모듈명 as 별칭\n",
    "    - import 패키지명, 패키지명 .... 패키지명 as 별칭\n",
    "    - import 모듈명\n",
    "   "
   ]
  },
  {
   "cell_type": "code",
   "execution_count": 3,
   "metadata": {},
   "outputs": [],
   "source": [
    "# from 패키지명, 패키지명 .... import 변수명, 함수, 클래스 ...\n",
    "from MyMath.metrix.mod import PI, add"
   ]
  },
  {
   "cell_type": "code",
   "execution_count": 6,
   "metadata": {
    "scrolled": true
   },
   "outputs": [
    {
     "data": {
      "text/plain": [
       "(3.14, 3)"
      ]
     },
     "execution_count": 6,
     "metadata": {},
     "output_type": "execute_result"
    }
   ],
   "source": [
    "# from ~ 사용하면, 사용한 코드를 보면 마치 내코드 처럼 사용된다. \n",
    "PI, add(1,2)"
   ]
  },
  {
   "cell_type": "code",
   "execution_count": 4,
   "metadata": {},
   "outputs": [],
   "source": [
    "# from 패키지명, 패키지명 .... import * \n",
    "# 땡길게 너무 많을 떄\n",
    "from MyMath.metrix.mod import * "
   ]
  },
  {
   "cell_type": "code",
   "execution_count": 14,
   "metadata": {
    "scrolled": true
   },
   "outputs": [
    {
     "ename": "NameError",
     "evalue": "name 'PI' is not defined",
     "output_type": "error",
     "traceback": [
      "\u001b[1;31m---------------------------------------------------------------------------\u001b[0m",
      "\u001b[1;31mNameError\u001b[0m                                 Traceback (most recent call last)",
      "\u001b[1;32m<ipython-input-14-bc30872e7444>\u001b[0m in \u001b[0;36m<module>\u001b[1;34m()\u001b[0m\n\u001b[0;32m      1\u001b[0m \u001b[1;31m# from ~ 사용하면, 사용한 코드를 보면 마치 내코드 처럼 사용된다.\u001b[0m\u001b[1;33m\u001b[0m\u001b[1;33m\u001b[0m\u001b[0m\n\u001b[1;32m----> 2\u001b[1;33m \u001b[0mPI\u001b[0m\u001b[1;33m,\u001b[0m \u001b[0mname\u001b[0m\u001b[1;33m,\u001b[0m \u001b[0madd\u001b[0m\u001b[1;33m(\u001b[0m\u001b[1;36m1\u001b[0m\u001b[1;33m,\u001b[0m\u001b[1;36m2\u001b[0m\u001b[1;33m)\u001b[0m\u001b[1;33m,\u001b[0m \u001b[0mA\u001b[0m\u001b[1;33m(\u001b[0m\u001b[1;33m)\u001b[0m\u001b[1;33m\u001b[0m\u001b[0m\n\u001b[0m",
      "\u001b[1;31mNameError\u001b[0m: name 'PI' is not defined"
     ]
    }
   ],
   "source": [
    "# from ~ 사용하면, 사용한 코드를 보면 마치 내코드 처럼 사용된다. \n",
    "PI, name, add(1,2), A()"
   ]
  },
  {
   "cell_type": "code",
   "execution_count": 1,
   "metadata": {},
   "outputs": [],
   "source": [
    "# 가져온 요소들 중에 특정한 요소(변, 함, 클)의 이름을 별칭으로 대체\n",
    "# from 패키지명, 패키지명 .... import 변수 as 별칭\n",
    "from MyMath.metrix.mod import PI as MPI"
   ]
  },
  {
   "cell_type": "code",
   "execution_count": 4,
   "metadata": {},
   "outputs": [
    {
     "data": {
      "text/plain": [
       "3.14"
      ]
     },
     "execution_count": 4,
     "metadata": {},
     "output_type": "execute_result"
    }
   ],
   "source": [
    "MPI"
   ]
  },
  {
   "cell_type": "code",
   "execution_count": 5,
   "metadata": {
    "scrolled": true
   },
   "outputs": [
    {
     "ename": "NameError",
     "evalue": "name 'PI' is not defined",
     "output_type": "error",
     "traceback": [
      "\u001b[1;31m---------------------------------------------------------------------------\u001b[0m",
      "\u001b[1;31mNameError\u001b[0m                                 Traceback (most recent call last)",
      "\u001b[1;32m<ipython-input-5-f46eeb996586>\u001b[0m in \u001b[0;36m<module>\u001b[1;34m()\u001b[0m\n\u001b[0;32m      1\u001b[0m \u001b[1;31m# 별칭을 부여하면 이전 이름을 사용 못한다.\u001b[0m\u001b[1;33m\u001b[0m\u001b[1;33m\u001b[0m\u001b[0m\n\u001b[1;32m----> 2\u001b[1;33m \u001b[0mPI\u001b[0m\u001b[1;33m\u001b[0m\u001b[0m\n\u001b[0m",
      "\u001b[1;31mNameError\u001b[0m: name 'PI' is not defined"
     ]
    }
   ],
   "source": [
    "# 별칭을 부여하면 이전 이름을 사용 못한다. \n",
    "PI"
   ]
  },
  {
   "cell_type": "code",
   "execution_count": 7,
   "metadata": {},
   "outputs": [
    {
     "data": {
      "text/plain": [
       "5.29"
      ]
     },
     "execution_count": 7,
     "metadata": {},
     "output_type": "execute_result"
    }
   ],
   "source": [
    "# 경로를 패키지로만 지정하면 마지막 패키지에 대응하는 __init__.py 에서 가지고 온다. \n",
    "from MyMath.metrix import PI2\n",
    "PI2"
   ]
  },
  {
   "cell_type": "code",
   "execution_count": 9,
   "metadata": {},
   "outputs": [
    {
     "data": {
      "text/plain": [
       "'부산대역'"
      ]
     },
     "execution_count": 9,
     "metadata": {},
     "output_type": "execute_result"
    }
   ],
   "source": [
    "# from 모듈명 import 이하동문\n",
    "from MyMath import PI3\n",
    "PI3"
   ]
  },
  {
   "cell_type": "code",
   "execution_count": null,
   "metadata": {},
   "outputs": [],
   "source": [
    "# 게임을 땡겨서 연습 \n",
    "# 특정 모듈이 개발하면서 작성한 코드나, \n",
    "# 단독 구동시 작동해야하는 코드는 if __name__~ 내부로 처리 \n",
    "# 왜냐하면 from 수행하면 해당모듈이 메모리에 로드된다. \n",
    "# 경우에 따라서는 코드가 실행될수도 있으므로, 주의 \n",
    "\n",
    "# test5.py 확인 \n",
    "from game_nocomment2_func_ending import game_level\n",
    "game_level"
   ]
  },
  {
   "cell_type": "code",
   "execution_count": 12,
   "metadata": {},
   "outputs": [],
   "source": [
    "# import 모듈명~ \n",
    "# import 패키지명, 패키지명 .... 모듈명 as 별칭\n",
    "# import 패키지명, 패키지명 .... 패키지명 as 별칭"
   ]
  },
  {
   "cell_type": "code",
   "execution_count": 10,
   "metadata": {},
   "outputs": [
    {
     "ename": "NameError",
     "evalue": "name 'mod' is not defined",
     "output_type": "error",
     "traceback": [
      "\u001b[1;31m---------------------------------------------------------------------------\u001b[0m",
      "\u001b[1;31mNameError\u001b[0m                                 Traceback (most recent call last)",
      "\u001b[1;32m<ipython-input-10-5e9b29bbab72>\u001b[0m in \u001b[0;36m<module>\u001b[1;34m()\u001b[0m\n\u001b[0;32m      1\u001b[0m \u001b[1;32mimport\u001b[0m \u001b[0mMyMath\u001b[0m\u001b[1;33m.\u001b[0m\u001b[0mmetrix\u001b[0m\u001b[1;33m.\u001b[0m\u001b[0mmod\u001b[0m\u001b[1;33m\u001b[0m\u001b[0m\n\u001b[1;32m----> 2\u001b[1;33m \u001b[0mmod\u001b[0m\u001b[1;33m.\u001b[0m\u001b[0mPI\u001b[0m\u001b[1;33m\u001b[0m\u001b[0m\n\u001b[0m",
      "\u001b[1;31mNameError\u001b[0m: name 'mod' is not defined"
     ]
    }
   ],
   "source": [
    "# 경로만 추적하다 보니 위치를 못찾는다 \n",
    "import MyMath.metrix.mod\n",
    "mod.PI"
   ]
  },
  {
   "cell_type": "code",
   "execution_count": 11,
   "metadata": {},
   "outputs": [
    {
     "data": {
      "text/plain": [
       "3.14"
      ]
     },
     "execution_count": 11,
     "metadata": {},
     "output_type": "execute_result"
    }
   ],
   "source": [
    "# 그래서 별칭을 부여 \n",
    "import MyMath.metrix.mod as m \n",
    "m.PI"
   ]
  },
  {
   "cell_type": "code",
   "execution_count": 13,
   "metadata": {},
   "outputs": [],
   "source": [
    "import MyMath"
   ]
  },
  {
   "cell_type": "markdown",
   "metadata": {},
   "source": [
    "### 예외처리\n",
    "\n",
    "- 코드는 잠재적으로 오류를 가질 수 있다. \n",
    "- 이때, s/w를 다운되지 않게하고,    \n",
    "    혹은 그정보를 수집하고,    \n",
    "    문제없이 다음단계로 진행시키게 하는 방법     "
   ]
  },
  {
   "cell_type": "code",
   "execution_count": 19,
   "metadata": {},
   "outputs": [
    {
     "name": "stdout",
     "output_type": "stream",
     "text": [
      "0\n",
      "1\n",
      "3 division by zero\n",
      "5\n",
      "6\n"
     ]
    }
   ],
   "source": [
    "# 예외처리 실습 \n",
    "print(0)\n",
    "try: # 예외가 발생 할 만한 코드를 감싼다. \n",
    "    print(1)\n",
    "    # 가장 간단한 예외사항 \n",
    "    print(1/0)\n",
    "    print(2)\n",
    "# 모든 예외의 시작점 : 근본 \n",
    "except Exception as e: # 예외가 발생하면 호출 \n",
    "    print(3,e)\n",
    "else: # 예외없이 정상적으로 코드가 진행되면 호출 \n",
    "    print(4)\n",
    "finally: # 무조건 수행 \n",
    "    print(5)\n",
    "print(6)"
   ]
  },
  {
   "cell_type": "code",
   "execution_count": 18,
   "metadata": {},
   "outputs": [
    {
     "name": "stdout",
     "output_type": "stream",
     "text": [
      "0\n",
      "1\n",
      "2\n",
      "4\n",
      "5\n",
      "6\n"
     ]
    }
   ],
   "source": [
    "# 예외처리 실습\n",
    "print(0)\n",
    "try: # 예외가 발생 할 만한 코드를 감싼다. \n",
    "    print(1)\n",
    "    # 가장 간단한 예외사항 \n",
    "    #print(1/0)\n",
    "    print(2)\n",
    "# 모든 예외의 시작점 : 근본 \n",
    "except Exception as e: # 예외가 발생하면 호출 \n",
    "    print(3,e)\n",
    "else: # 예외없이 정상적으로 코드가 진행되면 호출 \n",
    "    print(4)\n",
    "finally: # 무조건 수행 \n",
    "    print(5)\n",
    "print(6)"
   ]
  }
 ],
 "metadata": {
  "kernelspec": {
   "display_name": "Python 3",
   "language": "python",
   "name": "python3"
  },
  "language_info": {
   "codemirror_mode": {
    "name": "ipython",
    "version": 3
   },
   "file_extension": ".py",
   "mimetype": "text/x-python",
   "name": "python",
   "nbconvert_exporter": "python",
   "pygments_lexer": "ipython3",
   "version": "3.6.5"
  }
 },
 "nbformat": 4,
 "nbformat_minor": 2
}
