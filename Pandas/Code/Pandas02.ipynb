{
 "nbformat": 4,
 "nbformat_minor": 2,
 "metadata": {
  "language_info": {
   "name": "python",
   "codemirror_mode": {
    "name": "ipython",
    "version": 3
   },
   "version": "3.6.5-final"
  },
  "orig_nbformat": 2,
  "file_extension": ".py",
  "mimetype": "text/x-python",
  "name": "python",
  "npconvert_exporter": "python",
  "pygments_lexer": "ipython3",
  "version": 3,
  "kernelspec": {
   "name": "python3",
   "display_name": "Python 3"
  }
 },
 "cells": [
  {
   "cell_type": "markdown",
   "execution_count": null,
   "metadata": {},
   "outputs": [],
   "source": [
    "# 판다스 입문 _02 \n",
    "- 2020.01.30"
   ]
  },
  {
   "cell_type": "markdown",
   "execution_count": null,
   "metadata": {},
   "outputs": [],
   "source": [
    "### loc 속성으로 행 단위 데이터 추출하기 \n",
    "- 행단위로 원하는 데이터를 추출하고자 할때 => X.loc[]     \n",
    "```X= pd.read_csv(path)```"
   ]
  },
  {
   "cell_type": "code",
   "execution_count": 1,
   "metadata": {},
   "outputs": [],
   "source": [
    "import pandas as pd \n",
    "df = pd. read_csv('../data/gapminder.tsv', sep='\\t')"
   ]
  },
  {
   "cell_type": "code",
   "execution_count": null,
   "metadata": {},
   "outputs": [],
   "source": [
    "print(df.loc[0])"
   ]
  },
  {
   "cell_type": "code",
   "execution_count": null,
   "metadata": {},
   "outputs": [],
   "source": [
    "print(df.loc[99])"
   ]
  },
  {
   "cell_type": "code",
   "execution_count": null,
   "metadata": {},
   "outputs": [],
   "source": [
    "# 범위가 넘어가는 인덱스를 사용할때 => 에러발생 \n",
    "# print(df.loc[-1])"
   ]
  },
  {
   "cell_type": "code",
   "execution_count": null,
   "metadata": {},
   "outputs": [],
   "source": [
    "a = '''\n",
    "# 데이터의 범위를 알수있다. -1 \n",
    "print(df.info())\n",
    ">>> \n",
    "<class 'pandas.core.frame.DataFrame'>\n",
    "RangeIndex: 1704 entries, 0 to 1703\n",
    "Data columns (total 6 columns):\n",
    "country      1704 non-null object\n",
    "continent    1704 non-null object\n",
    "year         1704 non-null int64\n",
    "lifeExp      1704 non-null float64\n",
    "pop          1704 non-null int64\n",
    "gdpPercap    1704 non-null float64\n",
    "dtypes: float64(2), int64(2), object(2)\n",
    "memory usage: 80.0+ KB\n",
    "None\n",
    "# 데이터의 범위를 알수있다. -2 \n",
    "print(df.shape[0])\n",
    "'''\n",
    "#print(df.info())\n",
    "print(a)"
   ]
  },
  {
   "cell_type": "code",
   "execution_count": null,
   "metadata": {},
   "outputs": [],
   "source": [
    "# df.shape[0]\n",
    "print(df.shape[0])"
   ]
  },
  {
   "cell_type": "code",
   "execution_count": null,
   "metadata": {},
   "outputs": [],
   "source": [
    "number_of_rows = df.shape[0]\n",
    "last_row_index = number_of_rows -1\n",
    "\n",
    "print(df.loc[last_row_index])"
   ]
  },
  {
   "cell_type": "code",
   "execution_count": null,
   "metadata": {},
   "outputs": [],
   "source": [
    "print(df.tail(n=1))"
   ]
  },
  {
   "cell_type": "code",
   "execution_count": null,
   "metadata": {},
   "outputs": [],
   "source": [
    "print(df.tail(n=2))"
   ]
  },
  {
   "cell_type": "code",
   "execution_count": null,
   "metadata": {},
   "outputs": [],
   "source": [
    "# 범위를 지정해주면 해당되는 로우들만 출력 \n",
    "print(df.loc[[0,99,999]])"
   ]
  }
 ]
}