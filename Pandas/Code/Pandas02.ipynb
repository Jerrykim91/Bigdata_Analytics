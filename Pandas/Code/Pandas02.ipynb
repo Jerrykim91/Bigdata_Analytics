{
 "nbformat": 4,
 "nbformat_minor": 2,
 "metadata": {
  "language_info": {
   "name": "python",
   "codemirror_mode": {
    "name": "ipython",
    "version": 3
   },
   "version": "3.6.5-final"
  },
  "orig_nbformat": 2,
  "file_extension": ".py",
  "mimetype": "text/x-python",
  "name": "python",
  "npconvert_exporter": "python",
  "pygments_lexer": "ipython3",
  "version": 3,
  "kernelspec": {
   "name": "python3",
   "display_name": "Python 3"
  }
 },
 "cells": [
  {
   "cell_type": "markdown",
   "execution_count": null,
   "metadata": {},
   "outputs": [],
   "source": [
    "# 판다스 입문 _02 \n",
    "- 2020.01.30"
   ]
  },
  {
   "cell_type": "markdown",
   "execution_count": null,
   "metadata": {},
   "outputs": [],
   "source": [
    "### loc 속성으로 행 단위 데이터 추출하기 \n",
    "- 행단위로 원하는 데이터를 추출하고자 할때 => X.loc[]     \n",
    "```X= pd.read_csv(path)```"
   ]
  },
  {
   "cell_type": "code",
   "execution_count": 295,
   "metadata": {},
   "outputs": [],
   "source": [
    "import pandas as pd \n",
    "df = pd. read_csv('../data/gapminder.tsv', sep='\\t')"
   ]
  },
  {
   "cell_type": "code",
   "execution_count": 296,
   "metadata": {},
   "outputs": [
    {
     "name": "stdout",
     "output_type": "stream",
     "text": "country      Afghanistan\ncontinent           Asia\nyear                1952\nlifeExp           28.801\npop              8425333\ngdpPercap        779.445\nName: 0, dtype: object\n"
    }
   ],
   "source": [
    "print(df.loc[0])"
   ]
  },
  {
   "cell_type": "code",
   "execution_count": 297,
   "metadata": {},
   "outputs": [
    {
     "name": "stdout",
     "output_type": "stream",
     "text": "country      Bangladesh\ncontinent          Asia\nyear               1967\nlifeExp          43.453\npop            62821884\ngdpPercap       721.186\nName: 99, dtype: object\n"
    }
   ],
   "source": [
    "print(df.loc[99])"
   ]
  },
  {
   "cell_type": "code",
   "execution_count": 298,
   "metadata": {},
   "outputs": [],
   "source": [
    "# 범위가 넘어가는 인덱스를 사용할때 => 에러발생 \n",
    "# print(df.loc[-1])"
   ]
  },
  {
   "cell_type": "code",
   "execution_count": 299,
   "metadata": {},
   "outputs": [
    {
     "name": "stdout",
     "output_type": "stream",
     "text": "\n# 데이터의 범위를 알수있다. -1 \nprint(df.info())\n>>> \n<class 'pandas.core.frame.DataFrame'>\nRangeIndex: 1704 entries, 0 to 1703\nData columns (total 6 columns):\ncountry      1704 non-null object\ncontinent    1704 non-null object\nyear         1704 non-null int64\nlifeExp      1704 non-null float64\npop          1704 non-null int64\ngdpPercap    1704 non-null float64\ndtypes: float64(2), int64(2), object(2)\nmemory usage: 80.0+ KB\nNone\n# 데이터의 범위를 알수있다. -2 \nprint(df.shape[0])\n\n"
    }
   ],
   "source": [
    "a = '''\n",
    "# 데이터의 범위를 알수있다. -1 \n",
    "print(df.info())\n",
    ">>> \n",
    "<class 'pandas.core.frame.DataFrame'>\n",
    "RangeIndex: 1704 entries, 0 to 1703\n",
    "Data columns (total 6 columns):\n",
    "country      1704 non-null object\n",
    "continent    1704 non-null object\n",
    "year         1704 non-null int64\n",
    "lifeExp      1704 non-null float64\n",
    "pop          1704 non-null int64\n",
    "gdpPercap    1704 non-null float64\n",
    "dtypes: float64(2), int64(2), object(2)\n",
    "memory usage: 80.0+ KB\n",
    "None\n",
    "# 데이터의 범위를 알수있다. -2 \n",
    "print(df.shape[0])\n",
    "'''\n",
    "#print(df.info())\n",
    "print(a)"
   ]
  },
  {
   "cell_type": "code",
   "execution_count": 300,
   "metadata": {},
   "outputs": [
    {
     "name": "stdout",
     "output_type": "stream",
     "text": "1704\n"
    }
   ],
   "source": [
    "# df.shape[0]\n",
    "print(df.shape[0])"
   ]
  },
  {
   "cell_type": "code",
   "execution_count": 301,
   "metadata": {},
   "outputs": [
    {
     "name": "stdout",
     "output_type": "stream",
     "text": "country      Zimbabwe\ncontinent      Africa\nyear             2007\nlifeExp        43.487\npop          12311143\ngdpPercap     469.709\nName: 1703, dtype: object\n"
    }
   ],
   "source": [
    "number_of_rows = df.shape[0]\n",
    "last_row_index = number_of_rows -1\n",
    "\n",
    "print(df.loc[last_row_index])"
   ]
  },
  {
   "cell_type": "code",
   "execution_count": 302,
   "metadata": {},
   "outputs": [
    {
     "name": "stdout",
     "output_type": "stream",
     "text": "country continent  year  lifeExp       pop   gdpPercap\n1703  Zimbabwe    Africa  2007   43.487  12311143  469.709298\n"
    }
   ],
   "source": [
    "print(df.tail(n=1))"
   ]
  },
  {
   "cell_type": "code",
   "execution_count": 303,
   "metadata": {},
   "outputs": [
    {
     "name": "stdout",
     "output_type": "stream",
     "text": "country continent  year  lifeExp       pop   gdpPercap\n1702  Zimbabwe    Africa  2002   39.989  11926563  672.038623\n1703  Zimbabwe    Africa  2007   43.487  12311143  469.709298\n"
    }
   ],
   "source": [
    "print(df.tail(n=2))"
   ]
  },
  {
   "cell_type": "code",
   "execution_count": 304,
   "metadata": {},
   "outputs": [
    {
     "name": "stdout",
     "output_type": "stream",
     "text": "country continent  year  lifeExp       pop    gdpPercap\n0    Afghanistan      Asia  1952   28.801   8425333   779.445314\n99    Bangladesh      Asia  1967   43.453  62821884   721.186086\n999     Mongolia      Asia  1967   51.253   1149500  1226.041130\n"
    }
   ],
   "source": [
    "# 범위를 지정해주면 해당되는 로우들만 출력 \n",
    "print(df.loc[[0,99,999]])\n",
    "# 처음 나오는게 인덱스 \n",
    "# => 인덱스는 문자열도되고 내가 정의할수도 있음 => 순차적이지 않다. \n",
    "# 오라클의 시퀀스랑 같은 의미 \n",
    "# "
   ]
  },
  {
   "cell_type": "code",
   "execution_count": 305,
   "metadata": {},
   "outputs": [
    {
     "name": "stdout",
     "output_type": "stream",
     "text": "<class 'pandas.core.series.Series'>\n<class 'pandas.core.frame.DataFrame'>\n"
    }
   ],
   "source": [
    "subset_loc = df.loc[0]\n",
    "subset_tail = df.tail(n=1)\n",
    "\n",
    "print(type(subset_loc))\n",
    "print(type(subset_tail))\n",
    "\n",
    "# dtype 이랑 type 차이는 ? "
   ]
  },
  {
   "cell_type": "markdown",
   "execution_count": null,
   "metadata": {},
   "outputs": [],
   "source": []
  },
  {
   "cell_type": "code",
   "execution_count": 306,
   "metadata": {},
   "outputs": [
    {
     "name": "stdout",
     "output_type": "stream",
     "text": "country      Afghanistan\ncontinent           Asia\nyear                1957\nlifeExp           30.332\npop              9240934\ngdpPercap        820.853\nName: 1, dtype: object\n"
    }
   ],
   "source": [
    "print(df.iloc[1])"
   ]
  },
  {
   "cell_type": "code",
   "execution_count": 307,
   "metadata": {},
   "outputs": [
    {
     "name": "stdout",
     "output_type": "stream",
     "text": "country      Bangladesh\ncontinent          Asia\nyear               1967\nlifeExp          43.453\npop            62821884\ngdpPercap       721.186\nName: 99, dtype: object\n"
    }
   ],
   "source": [
    "print(df.iloc[99])"
   ]
  },
  {
   "cell_type": "markdown",
   "execution_count": null,
   "metadata": {},
   "outputs": [],
   "source": [
    "#### loc는 에러 iloc는 **행번호 기준**이라서 뒤에서 N 만큼 !! "
   ]
  },
  {
   "cell_type": "code",
   "execution_count": 308,
   "metadata": {},
   "outputs": [
    {
     "name": "stdout",
     "output_type": "stream",
     "text": "country      Zimbabwe\ncontinent      Africa\nyear             2007\nlifeExp        43.487\npop          12311143\ngdpPercap     469.709\nName: 1703, dtype: object\n"
    }
   ],
   "source": [
    "# loc는 에러 iloc는 행번호 기준이라서 뒤에서 처음 꺼 !! \n",
    "print(df.iloc[-1])"
   ]
  },
  {
   "cell_type": "code",
   "execution_count": 309,
   "metadata": {},
   "outputs": [
    {
     "name": "stdout",
     "output_type": "stream",
     "text": "(1704, 6)\n"
    }
   ],
   "source": [
    "print(df.shape)"
   ]
  },
  {
   "cell_type": "code",
   "execution_count": 310,
   "metadata": {},
   "outputs": [
    {
     "name": "stdout",
     "output_type": "stream",
     "text": "country      Zimbabwe\ncontinent      Africa\nyear             2007\nlifeExp        43.487\npop          12311143\ngdpPercap     469.709\nName: 1703, dtype: object\n"
    }
   ],
   "source": [
    "# 마지막 인덱스 \n",
    "print(df.iloc[1703])"
   ]
  },
  {
   "cell_type": "code",
   "execution_count": 311,
   "metadata": {},
   "outputs": [
    {
     "ename": "IndexError",
     "evalue": "single positional indexer is out-of-bounds",
     "output_type": "error",
     "traceback": [
      "\u001b[1;31m---------------------------------------------------------------------------\u001b[0m",
      "\u001b[1;31mIndexError\u001b[0m                                Traceback (most recent call last)",
      "\u001b[1;32m<ipython-input-311-56a19b2b3288>\u001b[0m in \u001b[0;36m<module>\u001b[1;34m()\u001b[0m\n\u001b[1;32m----> 1\u001b[1;33m \u001b[0mprint\u001b[0m\u001b[1;33m(\u001b[0m\u001b[0mdf\u001b[0m\u001b[1;33m.\u001b[0m\u001b[0miloc\u001b[0m\u001b[1;33m[\u001b[0m\u001b[1;36m1704\u001b[0m\u001b[1;33m]\u001b[0m\u001b[1;33m)\u001b[0m\u001b[1;33m\u001b[0m\u001b[0m\n\u001b[0m",
      "\u001b[1;32m~\\Anaconda3\\lib\\site-packages\\pandas\\core\\indexing.py\u001b[0m in \u001b[0;36m__getitem__\u001b[1;34m(self, key)\u001b[0m\n\u001b[0;32m   1476\u001b[0m \u001b[1;33m\u001b[0m\u001b[0m\n\u001b[0;32m   1477\u001b[0m             \u001b[0mmaybe_callable\u001b[0m \u001b[1;33m=\u001b[0m \u001b[0mcom\u001b[0m\u001b[1;33m.\u001b[0m\u001b[0m_apply_if_callable\u001b[0m\u001b[1;33m(\u001b[0m\u001b[0mkey\u001b[0m\u001b[1;33m,\u001b[0m \u001b[0mself\u001b[0m\u001b[1;33m.\u001b[0m\u001b[0mobj\u001b[0m\u001b[1;33m)\u001b[0m\u001b[1;33m\u001b[0m\u001b[0m\n\u001b[1;32m-> 1478\u001b[1;33m             \u001b[1;32mreturn\u001b[0m \u001b[0mself\u001b[0m\u001b[1;33m.\u001b[0m\u001b[0m_getitem_axis\u001b[0m\u001b[1;33m(\u001b[0m\u001b[0mmaybe_callable\u001b[0m\u001b[1;33m,\u001b[0m \u001b[0maxis\u001b[0m\u001b[1;33m=\u001b[0m\u001b[0maxis\u001b[0m\u001b[1;33m)\u001b[0m\u001b[1;33m\u001b[0m\u001b[0m\n\u001b[0m\u001b[0;32m   1479\u001b[0m \u001b[1;33m\u001b[0m\u001b[0m\n\u001b[0;32m   1480\u001b[0m     \u001b[1;32mdef\u001b[0m \u001b[0m_is_scalar_access\u001b[0m\u001b[1;33m(\u001b[0m\u001b[0mself\u001b[0m\u001b[1;33m,\u001b[0m \u001b[0mkey\u001b[0m\u001b[1;33m)\u001b[0m\u001b[1;33m:\u001b[0m\u001b[1;33m\u001b[0m\u001b[0m\n",
      "\u001b[1;32m~\\Anaconda3\\lib\\site-packages\\pandas\\core\\indexing.py\u001b[0m in \u001b[0;36m_getitem_axis\u001b[1;34m(self, key, axis)\u001b[0m\n\u001b[0;32m   2100\u001b[0m \u001b[1;33m\u001b[0m\u001b[0m\n\u001b[0;32m   2101\u001b[0m             \u001b[1;31m# validate the location\u001b[0m\u001b[1;33m\u001b[0m\u001b[1;33m\u001b[0m\u001b[0m\n\u001b[1;32m-> 2102\u001b[1;33m             \u001b[0mself\u001b[0m\u001b[1;33m.\u001b[0m\u001b[0m_validate_integer\u001b[0m\u001b[1;33m(\u001b[0m\u001b[0mkey\u001b[0m\u001b[1;33m,\u001b[0m \u001b[0maxis\u001b[0m\u001b[1;33m)\u001b[0m\u001b[1;33m\u001b[0m\u001b[0m\n\u001b[0m\u001b[0;32m   2103\u001b[0m \u001b[1;33m\u001b[0m\u001b[0m\n\u001b[0;32m   2104\u001b[0m             \u001b[1;32mreturn\u001b[0m \u001b[0mself\u001b[0m\u001b[1;33m.\u001b[0m\u001b[0m_get_loc\u001b[0m\u001b[1;33m(\u001b[0m\u001b[0mkey\u001b[0m\u001b[1;33m,\u001b[0m \u001b[0maxis\u001b[0m\u001b[1;33m=\u001b[0m\u001b[0maxis\u001b[0m\u001b[1;33m)\u001b[0m\u001b[1;33m\u001b[0m\u001b[0m\n",
      "\u001b[1;32m~\\Anaconda3\\lib\\site-packages\\pandas\\core\\indexing.py\u001b[0m in \u001b[0;36m_validate_integer\u001b[1;34m(self, key, axis)\u001b[0m\n\u001b[0;32m   2007\u001b[0m         \u001b[0ml\u001b[0m \u001b[1;33m=\u001b[0m \u001b[0mlen\u001b[0m\u001b[1;33m(\u001b[0m\u001b[0max\u001b[0m\u001b[1;33m)\u001b[0m\u001b[1;33m\u001b[0m\u001b[0m\n\u001b[0;32m   2008\u001b[0m         \u001b[1;32mif\u001b[0m \u001b[0mkey\u001b[0m \u001b[1;33m>=\u001b[0m \u001b[0ml\u001b[0m \u001b[1;32mor\u001b[0m \u001b[0mkey\u001b[0m \u001b[1;33m<\u001b[0m \u001b[1;33m-\u001b[0m\u001b[0ml\u001b[0m\u001b[1;33m:\u001b[0m\u001b[1;33m\u001b[0m\u001b[0m\n\u001b[1;32m-> 2009\u001b[1;33m             \u001b[1;32mraise\u001b[0m \u001b[0mIndexError\u001b[0m\u001b[1;33m(\u001b[0m\u001b[1;34m\"single positional indexer is out-of-bounds\"\u001b[0m\u001b[1;33m)\u001b[0m\u001b[1;33m\u001b[0m\u001b[0m\n\u001b[0m\u001b[0;32m   2010\u001b[0m \u001b[1;33m\u001b[0m\u001b[0m\n\u001b[0;32m   2011\u001b[0m     \u001b[1;32mdef\u001b[0m \u001b[0m_getitem_tuple\u001b[0m\u001b[1;33m(\u001b[0m\u001b[0mself\u001b[0m\u001b[1;33m,\u001b[0m \u001b[0mtup\u001b[0m\u001b[1;33m)\u001b[0m\u001b[1;33m:\u001b[0m\u001b[1;33m\u001b[0m\u001b[0m\n",
      "\u001b[1;31mIndexError\u001b[0m: single positional indexer is out-of-bounds"
     ]
    }
   ],
   "source": [
    "print(df.iloc[1704])"
   ]
  },
  {
   "cell_type": "code",
   "execution_count": 0,
   "metadata": {},
   "outputs": [],
   "source": [
    "# print(df.iloc[0,9,999]) => 2개 이상은 리스트로 감싸줘야 인식 \n",
    "# print(df.iloc[9])\n",
    "print(df.iloc[[0,9,999]])"
   ]
  },
  {
   "cell_type": "markdown",
   "execution_count": null,
   "metadata": {},
   "outputs": [],
   "source": [
    "## 데이터 추출하기 - 슬라이싱 구분, rnage 메서드"
   ]
  },
  {
   "cell_type": "markdown",
   "execution_count": null,
   "metadata": {},
   "outputs": [],
   "source": [
    "### 1.슬라이싱 구문으로 데이터 추출하기 "
   ]
  },
  {
   "cell_type": "code",
   "execution_count": 315,
   "metadata": {},
   "outputs": [
    {
     "name": "stdout",
     "output_type": "stream",
     "text": "country continent  year  lifeExp       pop    gdpPercap\n0     Afghanistan      Asia  1952   28.801   8425333   779.445314\n1     Afghanistan      Asia  1957   30.332   9240934   820.853030\n2     Afghanistan      Asia  1962   31.997  10267083   853.100710\n3     Afghanistan      Asia  1967   34.020  11537966   836.197138\n4     Afghanistan      Asia  1972   36.088  13079460   739.981106\n5     Afghanistan      Asia  1977   38.438  14880372   786.113360\n6     Afghanistan      Asia  1982   39.854  12881816   978.011439\n7     Afghanistan      Asia  1987   40.822  13867957   852.395945\n8     Afghanistan      Asia  1992   41.674  16317921   649.341395\n9     Afghanistan      Asia  1997   41.763  22227415   635.341351\n10    Afghanistan      Asia  2002   42.129  25268405   726.734055\n11    Afghanistan      Asia  2007   43.828  31889923   974.580338\n12        Albania    Europe  1952   55.230   1282697  1601.056136\n13        Albania    Europe  1957   59.280   1476505  1942.284244\n14        Albania    Europe  1962   64.820   1728137  2312.888958\n15        Albania    Europe  1967   66.220   1984060  2760.196931\n16        Albania    Europe  1972   67.690   2263554  3313.422188\n17        Albania    Europe  1977   68.930   2509048  3533.003910\n18        Albania    Europe  1982   70.420   2780097  3630.880722\n19        Albania    Europe  1987   72.000   3075321  3738.932735\n20        Albania    Europe  1992   71.581   3326498  2497.437901\n21        Albania    Europe  1997   72.950   3428038  3193.054604\n22        Albania    Europe  2002   75.651   3508512  4604.211737\n23        Albania    Europe  2007   76.423   3600523  5937.029526\n24        Algeria    Africa  1952   43.077   9279525  2449.008185\n25        Algeria    Africa  1957   45.685  10270856  3013.976023\n26        Algeria    Africa  1962   48.303  11000948  2550.816880\n27        Algeria    Africa  1967   51.407  12760499  3246.991771\n28        Algeria    Africa  1972   54.518  14760787  4182.663766\n29        Algeria    Africa  1977   58.014  17152804  4910.416756\n...           ...       ...   ...      ...       ...          ...\n1674  Yemen, Rep.      Asia  1982   49.113   9657618  1977.557010\n1675  Yemen, Rep.      Asia  1987   52.922  11219340  1971.741538\n1676  Yemen, Rep.      Asia  1992   55.599  13367997  1879.496673\n1677  Yemen, Rep.      Asia  1997   58.020  15826497  2117.484526\n1678  Yemen, Rep.      Asia  2002   60.308  18701257  2234.820827\n1679  Yemen, Rep.      Asia  2007   62.698  22211743  2280.769906\n1680       Zambia    Africa  1952   42.038   2672000  1147.388831\n1681       Zambia    Africa  1957   44.077   3016000  1311.956766\n1682       Zambia    Africa  1962   46.023   3421000  1452.725766\n1683       Zambia    Africa  1967   47.768   3900000  1777.077318\n1684       Zambia    Africa  1972   50.107   4506497  1773.498265\n1685       Zambia    Africa  1977   51.386   5216550  1588.688299\n1686       Zambia    Africa  1982   51.821   6100407  1408.678565\n1687       Zambia    Africa  1987   50.821   7272406  1213.315116\n1688       Zambia    Africa  1992   46.100   8381163  1210.884633\n1689       Zambia    Africa  1997   40.238   9417789  1071.353818\n1690       Zambia    Africa  2002   39.193  10595811  1071.613938\n1691       Zambia    Africa  2007   42.384  11746035  1271.211593\n1692     Zimbabwe    Africa  1952   48.451   3080907   406.884115\n1693     Zimbabwe    Africa  1957   50.469   3646340   518.764268\n1694     Zimbabwe    Africa  1962   52.358   4277736   527.272182\n1695     Zimbabwe    Africa  1967   53.995   4995432   569.795071\n1696     Zimbabwe    Africa  1972   55.635   5861135   799.362176\n1697     Zimbabwe    Africa  1977   57.674   6642107   685.587682\n1698     Zimbabwe    Africa  1982   60.363   7636524   788.855041\n1699     Zimbabwe    Africa  1987   62.351   9216418   706.157306\n1700     Zimbabwe    Africa  1992   60.377  10704340   693.420786\n1701     Zimbabwe    Africa  1997   46.809  11404948   792.449960\n1702     Zimbabwe    Africa  2002   39.989  11926563   672.038623\n1703     Zimbabwe    Africa  2007   43.487  12311143   469.709298\n\n[1704 rows x 6 columns]\n"
    }
   ],
   "source": [
    "# 전체를 출력 \n",
    "subset = df.loc[:]\n",
    "print(subset)"
   ]
  },
  {
   "cell_type": "code",
   "execution_count": 316,
   "metadata": {},
   "outputs": [
    {
     "name": "stdout",
     "output_type": "stream",
     "text": "Empty DataFrame\nColumns: []\nIndex: [0, 1, 2, 3, 4, 5, 6, 7, 8, 9, 10, 11, 12, 13, 14, 15, 16, 17, 18, 19, 20, 21, 22, 23, 24, 25, 26, 27, 28, 29, 30, 31, 32, 33, 34, 35, 36, 37, 38, 39, 40, 41, 42, 43, 44, 45, 46, 47, 48, 49, 50, 51, 52, 53, 54, 55, 56, 57, 58, 59, 60, 61, 62, 63, 64, 65, 66, 67, 68, 69, 70, 71, 72, 73, 74, 75, 76, 77, 78, 79, 80, 81, 82, 83, 84, 85, 86, 87, 88, 89, 90, 91, 92, 93, 94, 95, 96, 97, 98, 99, ...]\n\n[1704 rows x 0 columns]\n"
    }
   ],
   "source": [
    "# [:,[]] -1 \n",
    "subset = df.loc[:,[]]\n",
    "print(subset)"
   ]
  },
  {
   "cell_type": "code",
   "execution_count": 317,
   "metadata": {},
   "outputs": [
    {
     "name": "stdout",
     "output_type": "stream",
     "text": "year\n0     1952\n1     1957\n2     1962\n3     1967\n4     1972\n5     1977\n6     1982\n7     1987\n8     1992\n9     1997\n10    2002\n11    2007\n12    1952\n13    1957\n14    1962\n15    1967\n16    1972\n17    1977\n18    1982\n19    1987\n20    1992\n21    1997\n22    2002\n23    2007\n24    1952\n25    1957\n26    1962\n27    1967\n28    1972\n29    1977\n...    ...\n1674  1982\n1675  1987\n1676  1992\n1677  1997\n1678  2002\n1679  2007\n1680  1952\n1681  1957\n1682  1962\n1683  1967\n1684  1972\n1685  1977\n1686  1982\n1687  1987\n1688  1992\n1689  1997\n1690  2002\n1691  2007\n1692  1952\n1693  1957\n1694  1962\n1695  1967\n1696  1972\n1697  1977\n1698  1982\n1699  1987\n1700  1992\n1701  1997\n1702  2002\n1703  2007\n\n[1704 rows x 1 columns]\n"
    }
   ],
   "source": [
    "# [:,[]] -2 \n",
    "subset = df.loc[:,['year']]\n",
    "# subset = df.loc[:,['year', 'pop']]\n",
    "print(subset)"
   ]
  },
  {
   "cell_type": "code",
   "execution_count": 318,
   "metadata": {},
   "outputs": [
    {
     "name": "stdout",
     "output_type": "stream",
     "text": "year       pop\n0     1952   8425333\n1     1957   9240934\n2     1962  10267083\n3     1967  11537966\n4     1972  13079460\n5     1977  14880372\n6     1982  12881816\n7     1987  13867957\n8     1992  16317921\n9     1997  22227415\n10    2002  25268405\n11    2007  31889923\n12    1952   1282697\n13    1957   1476505\n14    1962   1728137\n15    1967   1984060\n16    1972   2263554\n17    1977   2509048\n18    1982   2780097\n19    1987   3075321\n20    1992   3326498\n21    1997   3428038\n22    2002   3508512\n23    2007   3600523\n24    1952   9279525\n25    1957  10270856\n26    1962  11000948\n27    1967  12760499\n28    1972  14760787\n29    1977  17152804\n...    ...       ...\n1674  1982   9657618\n1675  1987  11219340\n1676  1992  13367997\n1677  1997  15826497\n1678  2002  18701257\n1679  2007  22211743\n1680  1952   2672000\n1681  1957   3016000\n1682  1962   3421000\n1683  1967   3900000\n1684  1972   4506497\n1685  1977   5216550\n1686  1982   6100407\n1687  1987   7272406\n1688  1992   8381163\n1689  1997   9417789\n1690  2002  10595811\n1691  2007  11746035\n1692  1952   3080907\n1693  1957   3646340\n1694  1962   4277736\n1695  1967   4995432\n1696  1972   5861135\n1697  1977   6642107\n1698  1982   7636524\n1699  1987   9216418\n1700  1992  10704340\n1701  1997  11404948\n1702  2002  11926563\n1703  2007  12311143\n\n[1704 rows x 2 columns]\n"
    }
   ],
   "source": [
    "# [:,[]] -3\n",
    "# 컬럼 이름 자체가 인덱스 => 레이블 기준\n",
    "subset = df.loc[:,['year', 'pop']]\n",
    "print(subset)"
   ]
  },
  {
   "cell_type": "code",
   "execution_count": 319,
   "metadata": {},
   "outputs": [
    {
     "name": "stdout",
     "output_type": "stream",
     "text": "country continent  year  lifeExp       pop    gdpPercap\n0     Afghanistan      Asia  1952   28.801   8425333   779.445314\n1     Afghanistan      Asia  1957   30.332   9240934   820.853030\n2     Afghanistan      Asia  1962   31.997  10267083   853.100710\n3     Afghanistan      Asia  1967   34.020  11537966   836.197138\n4     Afghanistan      Asia  1972   36.088  13079460   739.981106\n5     Afghanistan      Asia  1977   38.438  14880372   786.113360\n6     Afghanistan      Asia  1982   39.854  12881816   978.011439\n7     Afghanistan      Asia  1987   40.822  13867957   852.395945\n8     Afghanistan      Asia  1992   41.674  16317921   649.341395\n9     Afghanistan      Asia  1997   41.763  22227415   635.341351\n10    Afghanistan      Asia  2002   42.129  25268405   726.734055\n11    Afghanistan      Asia  2007   43.828  31889923   974.580338\n12        Albania    Europe  1952   55.230   1282697  1601.056136\n13        Albania    Europe  1957   59.280   1476505  1942.284244\n14        Albania    Europe  1962   64.820   1728137  2312.888958\n15        Albania    Europe  1967   66.220   1984060  2760.196931\n16        Albania    Europe  1972   67.690   2263554  3313.422188\n17        Albania    Europe  1977   68.930   2509048  3533.003910\n18        Albania    Europe  1982   70.420   2780097  3630.880722\n19        Albania    Europe  1987   72.000   3075321  3738.932735\n20        Albania    Europe  1992   71.581   3326498  2497.437901\n21        Albania    Europe  1997   72.950   3428038  3193.054604\n22        Albania    Europe  2002   75.651   3508512  4604.211737\n23        Albania    Europe  2007   76.423   3600523  5937.029526\n24        Algeria    Africa  1952   43.077   9279525  2449.008185\n25        Algeria    Africa  1957   45.685  10270856  3013.976023\n26        Algeria    Africa  1962   48.303  11000948  2550.816880\n27        Algeria    Africa  1967   51.407  12760499  3246.991771\n28        Algeria    Africa  1972   54.518  14760787  4182.663766\n29        Algeria    Africa  1977   58.014  17152804  4910.416756\n...           ...       ...   ...      ...       ...          ...\n1674  Yemen, Rep.      Asia  1982   49.113   9657618  1977.557010\n1675  Yemen, Rep.      Asia  1987   52.922  11219340  1971.741538\n1676  Yemen, Rep.      Asia  1992   55.599  13367997  1879.496673\n1677  Yemen, Rep.      Asia  1997   58.020  15826497  2117.484526\n1678  Yemen, Rep.      Asia  2002   60.308  18701257  2234.820827\n1679  Yemen, Rep.      Asia  2007   62.698  22211743  2280.769906\n1680       Zambia    Africa  1952   42.038   2672000  1147.388831\n1681       Zambia    Africa  1957   44.077   3016000  1311.956766\n1682       Zambia    Africa  1962   46.023   3421000  1452.725766\n1683       Zambia    Africa  1967   47.768   3900000  1777.077318\n1684       Zambia    Africa  1972   50.107   4506497  1773.498265\n1685       Zambia    Africa  1977   51.386   5216550  1588.688299\n1686       Zambia    Africa  1982   51.821   6100407  1408.678565\n1687       Zambia    Africa  1987   50.821   7272406  1213.315116\n1688       Zambia    Africa  1992   46.100   8381163  1210.884633\n1689       Zambia    Africa  1997   40.238   9417789  1071.353818\n1690       Zambia    Africa  2002   39.193  10595811  1071.613938\n1691       Zambia    Africa  2007   42.384  11746035  1271.211593\n1692     Zimbabwe    Africa  1952   48.451   3080907   406.884115\n1693     Zimbabwe    Africa  1957   50.469   3646340   518.764268\n1694     Zimbabwe    Africa  1962   52.358   4277736   527.272182\n1695     Zimbabwe    Africa  1967   53.995   4995432   569.795071\n1696     Zimbabwe    Africa  1972   55.635   5861135   799.362176\n1697     Zimbabwe    Africa  1977   57.674   6642107   685.587682\n1698     Zimbabwe    Africa  1982   60.363   7636524   788.855041\n1699     Zimbabwe    Africa  1987   62.351   9216418   706.157306\n1700     Zimbabwe    Africa  1992   60.377  10704340   693.420786\n1701     Zimbabwe    Africa  1997   46.809  11404948   792.449960\n1702     Zimbabwe    Africa  2002   39.989  11926563   672.038623\n1703     Zimbabwe    Africa  2007   43.487  12311143   469.709298\n\n[1704 rows x 6 columns]\n"
    }
   ],
   "source": [
    "subset = df.iloc[:]\n",
    "print(subset)"
   ]
  },
  {
   "cell_type": "code",
   "execution_count": 320,
   "metadata": {},
   "outputs": [
    {
     "ename": "TypeError",
     "evalue": "cannot perform reduce with flexible type",
     "output_type": "error",
     "traceback": [
      "\u001b[1;31m---------------------------------------------------------------------------\u001b[0m",
      "\u001b[1;31mTypeError\u001b[0m                                 Traceback (most recent call last)",
      "\u001b[1;32m<ipython-input-320-d7d42065490d>\u001b[0m in \u001b[0;36m<module>\u001b[1;34m()\u001b[0m\n\u001b[0;32m      1\u001b[0m \u001b[1;31m# subset = df.iloc[:,['year', 'pop']] => error\u001b[0m\u001b[1;33m\u001b[0m\u001b[1;33m\u001b[0m\u001b[0m\n\u001b[0;32m      2\u001b[0m \u001b[1;31m# subset = df.iloc[:,[:]] #=> error\u001b[0m\u001b[1;33m\u001b[0m\u001b[1;33m\u001b[0m\u001b[0m\n\u001b[1;32m----> 3\u001b[1;33m \u001b[0msubset\u001b[0m \u001b[1;33m=\u001b[0m \u001b[0mdf\u001b[0m\u001b[1;33m.\u001b[0m\u001b[0miloc\u001b[0m\u001b[1;33m[\u001b[0m\u001b[1;33m:\u001b[0m\u001b[1;33m,\u001b[0m\u001b[1;33m[\u001b[0m\u001b[1;34m'year'\u001b[0m\u001b[1;33m,\u001b[0m \u001b[1;34m'pop'\u001b[0m\u001b[1;33m]\u001b[0m\u001b[1;33m]\u001b[0m\u001b[1;33m\u001b[0m\u001b[0m\n\u001b[0m\u001b[0;32m      4\u001b[0m \u001b[0mprint\u001b[0m\u001b[1;33m(\u001b[0m\u001b[0msubset\u001b[0m\u001b[1;33m)\u001b[0m\u001b[1;33m\u001b[0m\u001b[0m\n\u001b[0;32m      5\u001b[0m \u001b[1;31m# print(subset.head())\u001b[0m\u001b[1;33m\u001b[0m\u001b[1;33m\u001b[0m\u001b[0m\n",
      "\u001b[1;32m~\\Anaconda3\\lib\\site-packages\\pandas\\core\\indexing.py\u001b[0m in \u001b[0;36m__getitem__\u001b[1;34m(self, key)\u001b[0m\n\u001b[0;32m   1470\u001b[0m             \u001b[1;32mexcept\u001b[0m \u001b[1;33m(\u001b[0m\u001b[0mKeyError\u001b[0m\u001b[1;33m,\u001b[0m \u001b[0mIndexError\u001b[0m\u001b[1;33m)\u001b[0m\u001b[1;33m:\u001b[0m\u001b[1;33m\u001b[0m\u001b[0m\n\u001b[0;32m   1471\u001b[0m                 \u001b[1;32mpass\u001b[0m\u001b[1;33m\u001b[0m\u001b[0m\n\u001b[1;32m-> 1472\u001b[1;33m             \u001b[1;32mreturn\u001b[0m \u001b[0mself\u001b[0m\u001b[1;33m.\u001b[0m\u001b[0m_getitem_tuple\u001b[0m\u001b[1;33m(\u001b[0m\u001b[0mkey\u001b[0m\u001b[1;33m)\u001b[0m\u001b[1;33m\u001b[0m\u001b[0m\n\u001b[0m\u001b[0;32m   1473\u001b[0m         \u001b[1;32melse\u001b[0m\u001b[1;33m:\u001b[0m\u001b[1;33m\u001b[0m\u001b[0m\n\u001b[0;32m   1474\u001b[0m             \u001b[1;31m# we by definition only have the 0th axis\u001b[0m\u001b[1;33m\u001b[0m\u001b[1;33m\u001b[0m\u001b[0m\n",
      "\u001b[1;32m~\\Anaconda3\\lib\\site-packages\\pandas\\core\\indexing.py\u001b[0m in \u001b[0;36m_getitem_tuple\u001b[1;34m(self, tup)\u001b[0m\n\u001b[0;32m   2011\u001b[0m     \u001b[1;32mdef\u001b[0m \u001b[0m_getitem_tuple\u001b[0m\u001b[1;33m(\u001b[0m\u001b[0mself\u001b[0m\u001b[1;33m,\u001b[0m \u001b[0mtup\u001b[0m\u001b[1;33m)\u001b[0m\u001b[1;33m:\u001b[0m\u001b[1;33m\u001b[0m\u001b[0m\n\u001b[0;32m   2012\u001b[0m \u001b[1;33m\u001b[0m\u001b[0m\n\u001b[1;32m-> 2013\u001b[1;33m         \u001b[0mself\u001b[0m\u001b[1;33m.\u001b[0m\u001b[0m_has_valid_tuple\u001b[0m\u001b[1;33m(\u001b[0m\u001b[0mtup\u001b[0m\u001b[1;33m)\u001b[0m\u001b[1;33m\u001b[0m\u001b[0m\n\u001b[0m\u001b[0;32m   2014\u001b[0m         \u001b[1;32mtry\u001b[0m\u001b[1;33m:\u001b[0m\u001b[1;33m\u001b[0m\u001b[0m\n\u001b[0;32m   2015\u001b[0m             \u001b[1;32mreturn\u001b[0m \u001b[0mself\u001b[0m\u001b[1;33m.\u001b[0m\u001b[0m_getitem_lowerdim\u001b[0m\u001b[1;33m(\u001b[0m\u001b[0mtup\u001b[0m\u001b[1;33m)\u001b[0m\u001b[1;33m\u001b[0m\u001b[0m\n",
      "\u001b[1;32m~\\Anaconda3\\lib\\site-packages\\pandas\\core\\indexing.py\u001b[0m in \u001b[0;36m_has_valid_tuple\u001b[1;34m(self, key)\u001b[0m\n\u001b[0;32m    220\u001b[0m                 \u001b[1;32mraise\u001b[0m \u001b[0mIndexingError\u001b[0m\u001b[1;33m(\u001b[0m\u001b[1;34m'Too many indexers'\u001b[0m\u001b[1;33m)\u001b[0m\u001b[1;33m\u001b[0m\u001b[0m\n\u001b[0;32m    221\u001b[0m             \u001b[1;32mtry\u001b[0m\u001b[1;33m:\u001b[0m\u001b[1;33m\u001b[0m\u001b[0m\n\u001b[1;32m--> 222\u001b[1;33m                 \u001b[0mself\u001b[0m\u001b[1;33m.\u001b[0m\u001b[0m_validate_key\u001b[0m\u001b[1;33m(\u001b[0m\u001b[0mk\u001b[0m\u001b[1;33m,\u001b[0m \u001b[0mi\u001b[0m\u001b[1;33m)\u001b[0m\u001b[1;33m\u001b[0m\u001b[0m\n\u001b[0m\u001b[0;32m    223\u001b[0m             \u001b[1;32mexcept\u001b[0m \u001b[0mValueError\u001b[0m\u001b[1;33m:\u001b[0m\u001b[1;33m\u001b[0m\u001b[0m\n\u001b[0;32m    224\u001b[0m                 raise ValueError(\"Location based indexing can only have \"\n",
      "\u001b[1;32m~\\Anaconda3\\lib\\site-packages\\pandas\\core\\indexing.py\u001b[0m in \u001b[0;36m_validate_key\u001b[1;34m(self, key, axis)\u001b[0m\n\u001b[0;32m   1965\u001b[0m             \u001b[0ml\u001b[0m \u001b[1;33m=\u001b[0m \u001b[0mlen\u001b[0m\u001b[1;33m(\u001b[0m\u001b[0mself\u001b[0m\u001b[1;33m.\u001b[0m\u001b[0mobj\u001b[0m\u001b[1;33m.\u001b[0m\u001b[0m_get_axis\u001b[0m\u001b[1;33m(\u001b[0m\u001b[0maxis\u001b[0m\u001b[1;33m)\u001b[0m\u001b[1;33m)\u001b[0m\u001b[1;33m\u001b[0m\u001b[0m\n\u001b[0;32m   1966\u001b[0m \u001b[1;33m\u001b[0m\u001b[0m\n\u001b[1;32m-> 1967\u001b[1;33m             \u001b[1;32mif\u001b[0m \u001b[0mlen\u001b[0m\u001b[1;33m(\u001b[0m\u001b[0marr\u001b[0m\u001b[1;33m)\u001b[0m \u001b[1;32mand\u001b[0m \u001b[1;33m(\u001b[0m\u001b[0marr\u001b[0m\u001b[1;33m.\u001b[0m\u001b[0mmax\u001b[0m\u001b[1;33m(\u001b[0m\u001b[1;33m)\u001b[0m \u001b[1;33m>=\u001b[0m \u001b[0ml\u001b[0m \u001b[1;32mor\u001b[0m \u001b[0marr\u001b[0m\u001b[1;33m.\u001b[0m\u001b[0mmin\u001b[0m\u001b[1;33m(\u001b[0m\u001b[1;33m)\u001b[0m \u001b[1;33m<\u001b[0m \u001b[1;33m-\u001b[0m\u001b[0ml\u001b[0m\u001b[1;33m)\u001b[0m\u001b[1;33m:\u001b[0m\u001b[1;33m\u001b[0m\u001b[0m\n\u001b[0m\u001b[0;32m   1968\u001b[0m                 \u001b[1;32mraise\u001b[0m \u001b[0mIndexError\u001b[0m\u001b[1;33m(\u001b[0m\u001b[1;34m\"positional indexers are out-of-bounds\"\u001b[0m\u001b[1;33m)\u001b[0m\u001b[1;33m\u001b[0m\u001b[0m\n\u001b[0;32m   1969\u001b[0m         \u001b[1;32melse\u001b[0m\u001b[1;33m:\u001b[0m\u001b[1;33m\u001b[0m\u001b[0m\n",
      "\u001b[1;32m~\\Anaconda3\\lib\\site-packages\\numpy\\core\\_methods.py\u001b[0m in \u001b[0;36m_amax\u001b[1;34m(a, axis, out, keepdims, initial, where)\u001b[0m\n\u001b[0;32m     28\u001b[0m def _amax(a, axis=None, out=None, keepdims=False,\n\u001b[0;32m     29\u001b[0m           initial=_NoValue, where=True):\n\u001b[1;32m---> 30\u001b[1;33m     \u001b[1;32mreturn\u001b[0m \u001b[0mumr_maximum\u001b[0m\u001b[1;33m(\u001b[0m\u001b[0ma\u001b[0m\u001b[1;33m,\u001b[0m \u001b[0maxis\u001b[0m\u001b[1;33m,\u001b[0m \u001b[1;32mNone\u001b[0m\u001b[1;33m,\u001b[0m \u001b[0mout\u001b[0m\u001b[1;33m,\u001b[0m \u001b[0mkeepdims\u001b[0m\u001b[1;33m,\u001b[0m \u001b[0minitial\u001b[0m\u001b[1;33m,\u001b[0m \u001b[0mwhere\u001b[0m\u001b[1;33m)\u001b[0m\u001b[1;33m\u001b[0m\u001b[0m\n\u001b[0m\u001b[0;32m     31\u001b[0m \u001b[1;33m\u001b[0m\u001b[0m\n\u001b[0;32m     32\u001b[0m def _amin(a, axis=None, out=None, keepdims=False,\n",
      "\u001b[1;31mTypeError\u001b[0m: cannot perform reduce with flexible type"
     ]
    }
   ],
   "source": [
    "# subset = df.iloc[:,['year', 'pop']] => error \n",
    "# subset = df.iloc[:,[:]] #=> error\n",
    "subset = df.iloc[:,['year', 'pop']]\n",
    "print(subset)\n",
    "# print(subset.head())"
   ]
  },
  {
   "cell_type": "code",
   "execution_count": 321,
   "metadata": {},
   "outputs": [
    {
     "name": "stdout",
     "output_type": "stream",
     "text": "year       pop   gdpPercap\n0  1952   8425333  779.445314\n1  1957   9240934  820.853030\n2  1962  10267083  853.100710\n3  1967  11537966  836.197138\n4  1972  13079460  739.981106\n"
    }
   ],
   "source": [
    "subset = df.iloc[:,[2,4,-1]]\n",
    "# print(subset)\n",
    "print(subset.head())"
   ]
  },
  {
   "cell_type": "markdown",
   "execution_count": null,
   "metadata": {},
   "outputs": [],
   "source": [
    "### range 메서드로 원하는 데이터 추출 "
   ]
  },
  {
   "cell_type": "code",
   "execution_count": 322,
   "metadata": {},
   "outputs": [
    {
     "name": "stdout",
     "output_type": "stream",
     "text": "<class 'list'>\n"
    }
   ],
   "source": [
    "print(type(small_range))"
   ]
  },
  {
   "cell_type": "code",
   "execution_count": 323,
   "metadata": {},
   "outputs": [
    {
     "name": "stdout",
     "output_type": "stream",
     "text": "[0, 1, 2, 3, 4]\n"
    }
   ],
   "source": [
    "small_range = list(range(5))\n",
    "print(small_range)"
   ]
  },
  {
   "cell_type": "code",
   "execution_count": 324,
   "metadata": {},
   "outputs": [
    {
     "name": "stdout",
     "output_type": "stream",
     "text": "country continent  year  lifeExp       pop\n0     Afghanistan      Asia  1952   28.801   8425333\n1     Afghanistan      Asia  1957   30.332   9240934\n2     Afghanistan      Asia  1962   31.997  10267083\n3     Afghanistan      Asia  1967   34.020  11537966\n4     Afghanistan      Asia  1972   36.088  13079460\n5     Afghanistan      Asia  1977   38.438  14880372\n6     Afghanistan      Asia  1982   39.854  12881816\n7     Afghanistan      Asia  1987   40.822  13867957\n8     Afghanistan      Asia  1992   41.674  16317921\n9     Afghanistan      Asia  1997   41.763  22227415\n10    Afghanistan      Asia  2002   42.129  25268405\n11    Afghanistan      Asia  2007   43.828  31889923\n12        Albania    Europe  1952   55.230   1282697\n13        Albania    Europe  1957   59.280   1476505\n14        Albania    Europe  1962   64.820   1728137\n15        Albania    Europe  1967   66.220   1984060\n16        Albania    Europe  1972   67.690   2263554\n17        Albania    Europe  1977   68.930   2509048\n18        Albania    Europe  1982   70.420   2780097\n19        Albania    Europe  1987   72.000   3075321\n20        Albania    Europe  1992   71.581   3326498\n21        Albania    Europe  1997   72.950   3428038\n22        Albania    Europe  2002   75.651   3508512\n23        Albania    Europe  2007   76.423   3600523\n24        Algeria    Africa  1952   43.077   9279525\n25        Algeria    Africa  1957   45.685  10270856\n26        Algeria    Africa  1962   48.303  11000948\n27        Algeria    Africa  1967   51.407  12760499\n28        Algeria    Africa  1972   54.518  14760787\n29        Algeria    Africa  1977   58.014  17152804\n...           ...       ...   ...      ...       ...\n1674  Yemen, Rep.      Asia  1982   49.113   9657618\n1675  Yemen, Rep.      Asia  1987   52.922  11219340\n1676  Yemen, Rep.      Asia  1992   55.599  13367997\n1677  Yemen, Rep.      Asia  1997   58.020  15826497\n1678  Yemen, Rep.      Asia  2002   60.308  18701257\n1679  Yemen, Rep.      Asia  2007   62.698  22211743\n1680       Zambia    Africa  1952   42.038   2672000\n1681       Zambia    Africa  1957   44.077   3016000\n1682       Zambia    Africa  1962   46.023   3421000\n1683       Zambia    Africa  1967   47.768   3900000\n1684       Zambia    Africa  1972   50.107   4506497\n1685       Zambia    Africa  1977   51.386   5216550\n1686       Zambia    Africa  1982   51.821   6100407\n1687       Zambia    Africa  1987   50.821   7272406\n1688       Zambia    Africa  1992   46.100   8381163\n1689       Zambia    Africa  1997   40.238   9417789\n1690       Zambia    Africa  2002   39.193  10595811\n1691       Zambia    Africa  2007   42.384  11746035\n1692     Zimbabwe    Africa  1952   48.451   3080907\n1693     Zimbabwe    Africa  1957   50.469   3646340\n1694     Zimbabwe    Africa  1962   52.358   4277736\n1695     Zimbabwe    Africa  1967   53.995   4995432\n1696     Zimbabwe    Africa  1972   55.635   5861135\n1697     Zimbabwe    Africa  1977   57.674   6642107\n1698     Zimbabwe    Africa  1982   60.363   7636524\n1699     Zimbabwe    Africa  1987   62.351   9216418\n1700     Zimbabwe    Africa  1992   60.377  10704340\n1701     Zimbabwe    Africa  1997   46.809  11404948\n1702     Zimbabwe    Africa  2002   39.989  11926563\n1703     Zimbabwe    Africa  2007   43.487  12311143\n\n[1704 rows x 5 columns]\n"
    }
   ],
   "source": [
    "#small_range = list(range(5))\n",
    "subset = df.iloc[:,small_range]\n",
    "print(subset)"
   ]
  },
  {
   "cell_type": "code",
   "execution_count": 325,
   "metadata": {},
   "outputs": [
    {
     "name": "stdout",
     "output_type": "stream",
     "text": "[3, 4, 5]\n"
    }
   ],
   "source": [
    "small_range = list(range(3,6))\n",
    "print(small_range)"
   ]
  },
  {
   "cell_type": "code",
   "execution_count": 326,
   "metadata": {},
   "outputs": [
    {
     "name": "stdout",
     "output_type": "stream",
     "text": "lifeExp       pop   gdpPercap\n0   28.801   8425333  779.445314\n1   30.332   9240934  820.853030\n2   31.997  10267083  853.100710\n3   34.020  11537966  836.197138\n4   36.088  13079460  739.981106\n"
    }
   ],
   "source": [
    "subset = df.iloc[:,small_range]\n",
    "print(subset.head())"
   ]
  },
  {
   "cell_type": "code",
   "execution_count": 327,
   "metadata": {},
   "outputs": [
    {
     "name": "stdout",
     "output_type": "stream",
     "text": "country continent  year  lifeExp       pop   gdpPercap\n0  Afghanistan      Asia  1952   28.801   8425333  779.445314\n1  Afghanistan      Asia  1957   30.332   9240934  820.853030\n2  Afghanistan      Asia  1962   31.997  10267083  853.100710\n"
    }
   ],
   "source": [
    "subset = df.iloc[:]\n",
    "print(subset.head(3))"
   ]
  },
  {
   "cell_type": "code",
   "execution_count": 328,
   "metadata": {},
   "outputs": [
    {
     "name": "stdout",
     "output_type": "stream",
     "text": "[0, 2, 4]\n       country  year      pop\n0  Afghanistan  1952  8425333\n1  Afghanistan  1957  9240934\n"
    }
   ],
   "source": [
    "small_range = list(range(0,6,2))\n",
    "print(small_range)\n",
    "subset = df.iloc[:,small_range]\n",
    "print(subset.head(2))"
   ]
  },
  {
   "cell_type": "markdown",
   "execution_count": null,
   "metadata": {},
   "outputs": [],
   "source": [
    "### 슬라이싱, range 메서드 비교하기"
   ]
  },
  {
   "cell_type": "code",
   "execution_count": 329,
   "metadata": {},
   "outputs": [
    {
     "name": "stdout",
     "output_type": "stream",
     "text": "country continent  year  lifeExp       pop   gdpPercap\n0  Afghanistan      Asia  1952   28.801   8425333  779.445314\n1  Afghanistan      Asia  1957   30.332   9240934  820.853030\n2  Afghanistan      Asia  1962   31.997  10267083  853.100710\n"
    }
   ],
   "source": [
    "subset = df.iloc[:,:]\n",
    "print(subset.head(3))"
   ]
  },
  {
   "cell_type": "code",
   "execution_count": 330,
   "metadata": {},
   "outputs": [
    {
     "name": "stdout",
     "output_type": "stream",
     "text": "country continent  year  lifeExp       pop   gdpPercap\n0  Afghanistan      Asia  1952   28.801   8425333  779.445314\n1  Afghanistan      Asia  1957   30.332   9240934  820.853030\n2  Afghanistan      Asia  1962   31.997  10267083  853.100710\n"
    }
   ],
   "source": [
    "subset = df.iloc[:3]\n",
    "print(subset)"
   ]
  },
  {
   "cell_type": "code",
   "execution_count": 331,
   "metadata": {},
   "outputs": [
    {
     "name": "stdout",
     "output_type": "stream",
     "text": "lifeExp       pop   gdpPercap\n0   28.801   8425333  779.445314\n1   30.332   9240934  820.853030\n2   31.997  10267083  853.100710\n"
    }
   ],
   "source": [
    "subset = df.iloc[:3,3:]\n",
    "print(subset)"
   ]
  },
  {
   "cell_type": "code",
   "execution_count": 332,
   "metadata": {},
   "outputs": [
    {
     "name": "stdout",
     "output_type": "stream",
     "text": "country continent  year\n0     Afghanistan      Asia  1952\n1     Afghanistan      Asia  1957\n2     Afghanistan      Asia  1962\n3     Afghanistan      Asia  1967\n4     Afghanistan      Asia  1972\n5     Afghanistan      Asia  1977\n6     Afghanistan      Asia  1982\n7     Afghanistan      Asia  1987\n8     Afghanistan      Asia  1992\n9     Afghanistan      Asia  1997\n10    Afghanistan      Asia  2002\n11    Afghanistan      Asia  2007\n12        Albania    Europe  1952\n13        Albania    Europe  1957\n14        Albania    Europe  1962\n15        Albania    Europe  1967\n16        Albania    Europe  1972\n17        Albania    Europe  1977\n18        Albania    Europe  1982\n19        Albania    Europe  1987\n20        Albania    Europe  1992\n21        Albania    Europe  1997\n22        Albania    Europe  2002\n23        Albania    Europe  2007\n24        Algeria    Africa  1952\n25        Algeria    Africa  1957\n26        Algeria    Africa  1962\n27        Algeria    Africa  1967\n28        Algeria    Africa  1972\n29        Algeria    Africa  1977\n...           ...       ...   ...\n1674  Yemen, Rep.      Asia  1982\n1675  Yemen, Rep.      Asia  1987\n1676  Yemen, Rep.      Asia  1992\n1677  Yemen, Rep.      Asia  1997\n1678  Yemen, Rep.      Asia  2002\n1679  Yemen, Rep.      Asia  2007\n1680       Zambia    Africa  1952\n1681       Zambia    Africa  1957\n1682       Zambia    Africa  1962\n1683       Zambia    Africa  1967\n1684       Zambia    Africa  1972\n1685       Zambia    Africa  1977\n1686       Zambia    Africa  1982\n1687       Zambia    Africa  1987\n1688       Zambia    Africa  1992\n1689       Zambia    Africa  1997\n1690       Zambia    Africa  2002\n1691       Zambia    Africa  2007\n1692     Zimbabwe    Africa  1952\n1693     Zimbabwe    Africa  1957\n1694     Zimbabwe    Africa  1962\n1695     Zimbabwe    Africa  1967\n1696     Zimbabwe    Africa  1972\n1697     Zimbabwe    Africa  1977\n1698     Zimbabwe    Africa  1982\n1699     Zimbabwe    Africa  1987\n1700     Zimbabwe    Africa  1992\n1701     Zimbabwe    Africa  1997\n1702     Zimbabwe    Africa  2002\n1703     Zimbabwe    Africa  2007\n\n[1704 rows x 3 columns]\n"
    }
   ],
   "source": [
    "subset = df.iloc[:,:3]\n",
    "print(subset)"
   ]
  },
  {
   "cell_type": "code",
   "execution_count": 333,
   "metadata": {},
   "outputs": [
    {
     "name": "stdout",
     "output_type": "stream",
     "text": "country  year       pop\n0  Afghanistan  1952   8425333\n1  Afghanistan  1957   9240934\n2  Afghanistan  1962  10267083\n"
    }
   ],
   "source": [
    "subset = df.iloc[:,0:6:2]\n",
    "print(subset.head(3))"
   ]
  },
  {
   "cell_type": "markdown",
   "execution_count": null,
   "metadata": {},
   "outputs": [],
   "source": [
    "###  loc, iloc 속성 자유자재로 사용"
   ]
  },
  {
   "cell_type": "code",
   "execution_count": 334,
   "metadata": {},
   "outputs": [
    {
     "name": "stdout",
     "output_type": "stream",
     "text": "country  lifeExp    gdpPercap\n0    Afghanistan   28.801   779.445314\n99    Bangladesh   43.453   721.186086\n999     Mongolia   51.253  1226.041130\n"
    }
   ],
   "source": [
    "# iloc\n",
    "print(df.iloc[[0,99,999],[0,3,5]])"
   ]
  },
  {
   "cell_type": "code",
   "execution_count": 335,
   "metadata": {},
   "outputs": [
    {
     "name": "stdout",
     "output_type": "stream",
     "text": "country  lifeExp    gdpPercap\n0    Afghanistan   28.801   779.445314\n99    Bangladesh   43.453   721.186086\n999     Mongolia   51.253  1226.041130\n"
    }
   ],
   "source": [
    "# loc\n",
    "print(df.loc[[0,99,999],['country','lifeExp','gdpPercap']])"
   ]
  },
  {
   "cell_type": "code",
   "execution_count": 336,
   "metadata": {},
   "outputs": [
    {
     "name": "stdout",
     "output_type": "stream",
     "text": "country  lifeExp    gdpPercap\n10  Afghanistan   42.129   726.734055\n11  Afghanistan   43.828   974.580338\n12      Albania   55.230  1601.056136\n13      Albania   59.280  1942.284244\n"
    }
   ],
   "source": [
    "# loc\n",
    "# 슬라이싱으로 10 ~ 13까지의 범위를 가지고 온다\n",
    "print(df.loc[10:13,['country','lifeExp','gdpPercap']])"
   ]
  },
  {
   "cell_type": "markdown",
   "execution_count": null,
   "metadata": {},
   "outputs": [],
   "source": [
    "## 그룹화한 데이터의 평균 구하기"
   ]
  },
  {
   "cell_type": "markdown",
   "execution_count": null,
   "metadata": {},
   "outputs": [],
   "source": [
    "### > lifeExp 열을 연도별로 그룹화하여 평균 계산"
   ]
  },
  {
   "cell_type": "code",
   "execution_count": 337,
   "metadata": {},
   "outputs": [
    {
     "name": "stdout",
     "output_type": "stream",
     "text": "country continent  year  lifeExp       pop   gdpPercap\n0  Afghanistan      Asia  1952   28.801   8425333  779.445314\n1  Afghanistan      Asia  1957   30.332   9240934  820.853030\n2  Afghanistan      Asia  1962   31.997  10267083  853.100710\n3  Afghanistan      Asia  1967   34.020  11537966  836.197138\n4  Afghanistan      Asia  1972   36.088  13079460  739.981106\n5  Afghanistan      Asia  1977   38.438  14880372  786.113360\n6  Afghanistan      Asia  1982   39.854  12881816  978.011439\n7  Afghanistan      Asia  1987   40.822  13867957  852.395945\n8  Afghanistan      Asia  1992   41.674  16317921  649.341395\n9  Afghanistan      Asia  1997   41.763  22227415  635.341351\n"
    }
   ],
   "source": [
    "print(df.head(10))"
   ]
  },
  {
   "cell_type": "code",
   "execution_count": 338,
   "metadata": {},
   "outputs": [
    {
     "name": "stdout",
     "output_type": "stream",
     "text": "year\n1952    49.057620\n1957    51.507401\n1962    53.609249\n1967    55.678290\n1972    57.647386\n1977    59.570157\n1982    61.533197\n1987    63.212613\n1992    64.160338\n1997    65.014676\n2002    65.694923\n2007    67.007423\nName: lifeExp, dtype: float64\n"
    }
   ],
   "source": [
    "# sql => year가 groupby안에 들어가는 거 \n",
    "print(df.groupby('year')['lifeExp'].mean())"
   ]
  },
  {
   "cell_type": "code",
   "execution_count": 339,
   "metadata": {},
   "outputs": [
    {
     "name": "stdout",
     "output_type": "stream",
     "text": "<pandas.core.groupby.groupby.DataFrameGroupBy object at 0x000001791AEC8860>\n"
    }
   ],
   "source": [
    "grouped_year_df = df.groupby('year')\n",
    "print(grouped_year_df)"
   ]
  },
  {
   "cell_type": "code",
   "execution_count": 340,
   "metadata": {},
   "outputs": [
    {
     "name": "stdout",
     "output_type": "stream",
     "text": "<class 'pandas.core.groupby.groupby.DataFrameGroupBy'>\n"
    }
   ],
   "source": [
    "grouped_year_df = df.groupby('year')\n",
    "print(type(grouped_year_df))"
   ]
  },
  {
   "cell_type": "code",
   "execution_count": 341,
   "metadata": {},
   "outputs": [
    {
     "name": "stdout",
     "output_type": "stream",
     "text": "<pandas.core.groupby.groupby.SeriesGroupBy object at 0x000001791AEC8860>\n"
    }
   ],
   "source": [
    "grouped_year_df_lifeExp = grouped_year_df['lifeExp'] \n",
    "print(grouped_year_df_lifeExp)"
   ]
  },
  {
   "cell_type": "code",
   "execution_count": 342,
   "metadata": {},
   "outputs": [
    {
     "name": "stdout",
     "output_type": "stream",
     "text": "<class 'pandas.core.groupby.groupby.SeriesGroupBy'>\n"
    }
   ],
   "source": [
    "grouped_year_df_lifeExp = grouped_year_df['lifeExp'] \n",
    "print(type(grouped_year_df_lifeExp))"
   ]
  },
  {
   "cell_type": "code",
   "execution_count": 343,
   "metadata": {},
   "outputs": [
    {
     "name": "stdout",
     "output_type": "stream",
     "text": "<class 'pandas.core.groupby.groupby.SeriesGroupBy'>\n"
    }
   ],
   "source": [
    "grouped_year_df_lifeExp = grouped_year_df['lifeExp'] \n",
    "print(type(grouped_year_df_lifeExp))"
   ]
  },
  {
   "cell_type": "code",
   "execution_count": 344,
   "metadata": {},
   "outputs": [
    {
     "name": "stdout",
     "output_type": "stream",
     "text": "year\n1952    49.057620\n1957    51.507401\n1962    53.609249\n1967    55.678290\n1972    57.647386\n1977    59.570157\n1982    61.533197\n1987    63.212613\n1992    64.160338\n1997    65.014676\n2002    65.694923\n2007    67.007423\nName: lifeExp, dtype: float64\n"
    }
   ],
   "source": [
    "mean_lifeExp_by_year = grouped_year_df_lifeExp.mean() \n",
    "print(mean_lifeExp_by_year)"
   ]
  },
  {
   "cell_type": "code",
   "execution_count": 345,
   "metadata": {},
   "outputs": [
    {
     "name": "stdout",
     "output_type": "stream",
     "text": "year\n1952    49.057620\n1957    51.507401\n1962    53.609249\n1967    55.678290\n1972    57.647386\n1977    59.570157\n1982    61.533197\n1987    63.212613\n1992    64.160338\n1997    65.014676\n2002    65.694923\n2007    67.007423\nName: lifeExp, dtype: float64 \n==같음==\n year\n1952    49.057620\n1957    51.507401\n1962    53.609249\n1967    55.678290\n1972    57.647386\n1977    59.570157\n1982    61.533197\n1987    63.212613\n1992    64.160338\n1997    65.014676\n2002    65.694923\n2007    67.007423\nName: lifeExp, dtype: float64\n"
    }
   ],
   "source": [
    "grouped_year_df = df.groupby('year')\n",
    "grouped_year_df_lifeExp = grouped_year_df['lifeExp'] \n",
    "mean_lifeExp_by_year = grouped_year_df_lifeExp.mean() \n",
    "print(df.groupby('year')['lifeExp'].mean(),'\\n==같음==\\n',mean_lifeExp_by_year )"
   ]
  },
  {
   "cell_type": "markdown",
   "execution_count": null,
   "metadata": {},
   "outputs": [],
   "source": [
    "### lifeExp, gdpPercap 열의 평균값을 연도, 지역별로 그룹화하여 한 번에 계산"
   ]
  },
  {
   "cell_type": "code",
   "execution_count": 346,
   "metadata": {},
   "outputs": [
    {
     "name": "stdout",
     "output_type": "stream",
     "text": "lifeExp     gdpPercap\nyear continent                         \n1952 Africa     39.135500   1252.572466\n     Americas   53.279840   4079.062552\n     Asia       46.314394   5195.484004\n     Europe     64.408500   5661.057435\n     Oceania    69.255000  10298.085650\n1957 Africa     41.266346   1385.236062\n     Americas   55.960280   4616.043733\n     Asia       49.318544   5787.732940\n     Europe     66.703067   6963.012816\n     Oceania    70.295000  11598.522455\n1962 Africa     43.319442   1598.078825\n     Americas   58.398760   4901.541870\n     Asia       51.563223   5729.369625\n     Europe     68.539233   8365.486814\n     Oceania    71.085000  12696.452430\n1967 Africa     45.334538   2050.363801\n     Americas   60.410920   5668.253496\n     Asia       54.663640   5971.173374\n     Europe     69.737600  10143.823757\n     Oceania    71.310000  14495.021790\n1972 Africa     47.450942   2339.615674\n     Americas   62.394920   6491.334139\n     Asia       57.319269   8187.468699\n     Europe     70.775033  12479.575246\n     Oceania    71.910000  16417.333380\n1977 Africa     49.580423   2585.938508\n     Americas   64.391560   7352.007126\n     Asia       59.610556   7791.314020\n     Europe     71.937767  14283.979110\n     Oceania    72.855000  17283.957605\n1982 Africa     51.592865   2481.592960\n     Americas   66.228840   7506.737088\n     Asia       62.617939   7434.135157\n     Europe     72.806400  15617.896551\n     Oceania    74.290000  18554.709840\n1987 Africa     53.344788   2282.668991\n     Americas   68.090720   7793.400261\n     Asia       64.851182   7608.226508\n     Europe     73.642167  17214.310727\n     Oceania    75.320000  20448.040160\n1992 Africa     53.629577   2281.810333\n     Americas   69.568360   8044.934406\n     Asia       66.537212   8639.690248\n     Europe     74.440100  17061.568084\n     Oceania    76.945000  20894.045885\n1997 Africa     53.598269   2378.759555\n     Americas   71.150480   8889.300863\n     Asia       68.020515   9834.093295\n     Europe     75.505167  19076.781802\n     Oceania    78.190000  24024.175170\n2002 Africa     53.325231   2599.385159\n     Americas   72.422040   9287.677107\n     Asia       69.233879  10174.090397\n     Europe     76.700600  21711.732422\n     Oceania    79.740000  26938.778040\n2007 Africa     54.806038   3089.032605\n     Americas   73.608120  11003.031625\n     Asia       70.728485  12473.026870\n     Europe     77.648600  25054.481636\n     Oceania    80.719500  29810.188275\n"
    }
   ],
   "source": [
    "#print(df.groupby('year')['lifeExp'].mean())\n",
    "multi_group_var = df.groupby(['year', 'continent'])[['lifeExp', 'gdpPercap']].mean() \n",
    "print(multi_group_var)"
   ]
  },
  {
   "cell_type": "code",
   "execution_count": 347,
   "metadata": {},
   "outputs": [
    {
     "name": "stdout",
     "output_type": "stream",
     "text": "<class 'pandas.core.frame.DataFrame'>\n"
    }
   ],
   "source": [
    "print(type(multi_group_var))"
   ]
  },
  {
   "cell_type": "markdown",
   "execution_count": null,
   "metadata": {},
   "outputs": [],
   "source": [
    "### 그룹화한 데이터의 개수 세기"
   ]
  },
  {
   "cell_type": "code",
   "execution_count": 348,
   "metadata": {},
   "outputs": [
    {
     "name": "stdout",
     "output_type": "stream",
     "text": "continent\nAfrica      52\nAmericas    25\nAsia        33\nEurope      30\nOceania      2\nName: country, dtype: int64\n"
    }
   ],
   "source": [
    "print(df.groupby('continent')['country'].nunique())"
   ]
  },
  {
   "cell_type": "markdown",
   "execution_count": null,
   "metadata": {},
   "outputs": [],
   "source": [
    "### 그래프 그리기"
   ]
  },
  {
   "cell_type": "code",
   "execution_count": 349,
   "metadata": {},
   "outputs": [],
   "source": [
    "import matplotlib.pyplot as plt\n",
    "%matplotlib inline"
   ]
  },
  {
   "cell_type": "code",
   "execution_count": 350,
   "metadata": {},
   "outputs": [
    {
     "name": "stdout",
     "output_type": "stream",
     "text": "year\n1952    49.057620\n1957    51.507401\n1962    53.609249\n1967    55.678290\n1972    57.647386\n1977    59.570157\n1982    61.533197\n1987    63.212613\n1992    64.160338\n1997    65.014676\n2002    65.694923\n2007    67.007423\nName: lifeExp, dtype: float64\n"
    }
   ],
   "source": [
    "global_yearly_life_expectancy = df.groupby('year')['lifeExp'].mean() \n",
    "print(global_yearly_life_expectancy)"
   ]
  },
  {
   "cell_type": "code",
   "execution_count": 351,
   "metadata": {},
   "outputs": [
    {
     "data": {
      "text/plain": "<matplotlib.axes._subplots.AxesSubplot at 0x1791ae9b470>"
     },
     "execution_count": 351,
     "metadata": {},
     "output_type": "execute_result"
    },
    {
     "data": {
      "image/png": "[encoded data removed]",
      "image/svg+xml": "<?xml version=\"1.0\" encoding=\"utf-8\" standalone=\"no\"?>\r\n<!DOCTYPE svg PUBLIC \"-//W3C//DTD SVG 1.1//EN\"\r\n  \"http://www.w3.org/Graphics/SVG/1.1/DTD/svg11.dtd\">\r\n<!-- Created with matplotlib (http://matplotlib.org/) -->\r\n<svg height=\"265.69625pt\" version=\"1.1\" viewBox=\"0 0 381.965625 265.69625\" width=\"381.965625pt\" xmlns=\"http://www.w3.org/2000/svg\" xmlns:xlink=\"http://www.w3.org/1999/xlink\">\r\n <defs>\r\n  <style type=\"text/css\">\r\n*{stroke-linecap:butt;stroke-linejoin:round;}\r\n  </style>\r\n </defs>\r\n <g id=\"figure_1\">\r\n  <g id=\"patch_1\">\r\n   <path d=\"M 0 265.69625 \r\nL 381.965625 265.69625 \r\nL 381.965625 0 \r\nL 0 0 \r\nz\r\n\" style=\"fill:none;\"/>\r\n  </g>\r\n  <g id=\"axes_1\">\r\n   <g id=\"patch_2\">\r\n    <path d=\"M 36.465625 228.14 \r\nL 371.265625 228.14 \r\nL 371.265625 10.7 \r\nL 36.465625 10.7 \r\nz\r\n\" style=\"fill:#ffffff;\"/>\r\n   </g>\r\n   <g id=\"matplotlib.axis_1\">\r\n    <g id=\"xtick_1\">\r\n     <g id=\"line2d_1\">\r\n      <defs>\r\n       <path d=\"M 0 0 \r\nL 0 3.5 \r\n\" id=\"md98e1ab846\" style=\"stroke:#000000;stroke-width:0.8;\"/>\r\n      </defs>\r\n      <g>\r\n       <use style=\"stroke:#000000;stroke-width:0.8;\" x=\"40.616038\" xlink:href=\"#md98e1ab846\" y=\"228.14\"/>\r\n      </g>\r\n     </g>\r\n     <g id=\"text_1\">\r\n      <!-- 1950 -->\r\n      <defs>\r\n       <path d=\"M 12.40625 8.296875 \r\nL 28.515625 8.296875 \r\nL 28.515625 63.921875 \r\nL 10.984375 60.40625 \r\nL 10.984375 69.390625 \r\nL 28.421875 72.90625 \r\nL 38.28125 72.90625 \r\nL 38.28125 8.296875 \r\nL 54.390625 8.296875 \r\nL 54.390625 0 \r\nL 12.40625 0 \r\nz\r\n\" id=\"DejaVuSans-31\"/>\r\n       <path d=\"M 10.984375 1.515625 \r\nL 10.984375 10.5 \r\nQ 14.703125 8.734375 18.5 7.8125 \r\nQ 22.3125 6.890625 25.984375 6.890625 \r\nQ 35.75 6.890625 40.890625 13.453125 \r\nQ 46.046875 20.015625 46.78125 33.40625 \r\nQ 43.953125 29.203125 39.59375 26.953125 \r\nQ 35.25 24.703125 29.984375 24.703125 \r\nQ 19.046875 24.703125 12.671875 31.3125 \r\nQ 6.296875 37.9375 6.296875 49.421875 \r\nQ 6.296875 60.640625 12.9375 67.421875 \r\nQ 19.578125 74.21875 30.609375 74.21875 \r\nQ 43.265625 74.21875 49.921875 64.515625 \r\nQ 56.59375 54.828125 56.59375 36.375 \r\nQ 56.59375 19.140625 48.40625 8.859375 \r\nQ 40.234375 -1.421875 26.421875 -1.421875 \r\nQ 22.703125 -1.421875 18.890625 -0.6875 \r\nQ 15.09375 0.046875 10.984375 1.515625 \r\nz\r\nM 30.609375 32.421875 \r\nQ 37.25 32.421875 41.125 36.953125 \r\nQ 45.015625 41.5 45.015625 49.421875 \r\nQ 45.015625 57.28125 41.125 61.84375 \r\nQ 37.25 66.40625 30.609375 66.40625 \r\nQ 23.96875 66.40625 20.09375 61.84375 \r\nQ 16.21875 57.28125 16.21875 49.421875 \r\nQ 16.21875 41.5 20.09375 36.953125 \r\nQ 23.96875 32.421875 30.609375 32.421875 \r\nz\r\n\" id=\"DejaVuSans-39\"/>\r\n       <path d=\"M 10.796875 72.90625 \r\nL 49.515625 72.90625 \r\nL 49.515625 64.59375 \r\nL 19.828125 64.59375 \r\nL 19.828125 46.734375 \r\nQ 21.96875 47.46875 24.109375 47.828125 \r\nQ 26.265625 48.1875 28.421875 48.1875 \r\nQ 40.625 48.1875 47.75 41.5 \r\nQ 54.890625 34.8125 54.890625 23.390625 \r\nQ 54.890625 11.625 47.5625 5.09375 \r\nQ 40.234375 -1.421875 26.90625 -1.421875 \r\nQ 22.3125 -1.421875 17.546875 -0.640625 \r\nQ 12.796875 0.140625 7.71875 1.703125 \r\nL 7.71875 11.625 \r\nQ 12.109375 9.234375 16.796875 8.0625 \r\nQ 21.484375 6.890625 26.703125 6.890625 \r\nQ 35.15625 6.890625 40.078125 11.328125 \r\nQ 45.015625 15.765625 45.015625 23.390625 \r\nQ 45.015625 31 40.078125 35.4375 \r\nQ 35.15625 39.890625 26.703125 39.890625 \r\nQ 22.75 39.890625 18.8125 39.015625 \r\nQ 14.890625 38.140625 10.796875 36.28125 \r\nz\r\n\" id=\"DejaVuSans-35\"/>\r\n       <path d=\"M 31.78125 66.40625 \r\nQ 24.171875 66.40625 20.328125 58.90625 \r\nQ 16.5 51.421875 16.5 36.375 \r\nQ 16.5 21.390625 20.328125 13.890625 \r\nQ 24.171875 6.390625 31.78125 6.390625 \r\nQ 39.453125 6.390625 43.28125 13.890625 \r\nQ 47.125 21.390625 47.125 36.375 \r\nQ 47.125 51.421875 43.28125 58.90625 \r\nQ 39.453125 66.40625 31.78125 66.40625 \r\nz\r\nM 31.78125 74.21875 \r\nQ 44.046875 74.21875 50.515625 64.515625 \r\nQ 56.984375 54.828125 56.984375 36.375 \r\nQ 56.984375 17.96875 50.515625 8.265625 \r\nQ 44.046875 -1.421875 31.78125 -1.421875 \r\nQ 19.53125 -1.421875 13.0625 8.265625 \r\nQ 6.59375 17.96875 6.59375 36.375 \r\nQ 6.59375 54.828125 13.0625 64.515625 \r\nQ 19.53125 74.21875 31.78125 74.21875 \r\nz\r\n\" id=\"DejaVuSans-30\"/>\r\n      </defs>\r\n      <g transform=\"translate(27.891038 242.738437)scale(0.1 -0.1)\">\r\n       <use xlink:href=\"#DejaVuSans-31\"/>\r\n       <use x=\"63.623047\" xlink:href=\"#DejaVuSans-39\"/>\r\n       <use x=\"127.246094\" xlink:href=\"#DejaVuSans-35\"/>\r\n       <use x=\"190.869141\" xlink:href=\"#DejaVuSans-30\"/>\r\n      </g>\r\n     </g>\r\n    </g>\r\n    <g id=\"xtick_2\">\r\n     <g id=\"line2d_2\">\r\n      <g>\r\n       <use style=\"stroke:#000000;stroke-width:0.8;\" x=\"95.954881\" xlink:href=\"#md98e1ab846\" y=\"228.14\"/>\r\n      </g>\r\n     </g>\r\n     <g id=\"text_2\">\r\n      <!-- 1960 -->\r\n      <defs>\r\n       <path d=\"M 33.015625 40.375 \r\nQ 26.375 40.375 22.484375 35.828125 \r\nQ 18.609375 31.296875 18.609375 23.390625 \r\nQ 18.609375 15.53125 22.484375 10.953125 \r\nQ 26.375 6.390625 33.015625 6.390625 \r\nQ 39.65625 6.390625 43.53125 10.953125 \r\nQ 47.40625 15.53125 47.40625 23.390625 \r\nQ 47.40625 31.296875 43.53125 35.828125 \r\nQ 39.65625 40.375 33.015625 40.375 \r\nz\r\nM 52.59375 71.296875 \r\nL 52.59375 62.3125 \r\nQ 48.875 64.0625 45.09375 64.984375 \r\nQ 41.3125 65.921875 37.59375 65.921875 \r\nQ 27.828125 65.921875 22.671875 59.328125 \r\nQ 17.53125 52.734375 16.796875 39.40625 \r\nQ 19.671875 43.65625 24.015625 45.921875 \r\nQ 28.375 48.1875 33.59375 48.1875 \r\nQ 44.578125 48.1875 50.953125 41.515625 \r\nQ 57.328125 34.859375 57.328125 23.390625 \r\nQ 57.328125 12.15625 50.6875 5.359375 \r\nQ 44.046875 -1.421875 33.015625 -1.421875 \r\nQ 20.359375 -1.421875 13.671875 8.265625 \r\nQ 6.984375 17.96875 6.984375 36.375 \r\nQ 6.984375 53.65625 15.1875 63.9375 \r\nQ 23.390625 74.21875 37.203125 74.21875 \r\nQ 40.921875 74.21875 44.703125 73.484375 \r\nQ 48.484375 72.75 52.59375 71.296875 \r\nz\r\n\" id=\"DejaVuSans-36\"/>\r\n      </defs>\r\n      <g transform=\"translate(83.229881 242.738437)scale(0.1 -0.1)\">\r\n       <use xlink:href=\"#DejaVuSans-31\"/>\r\n       <use x=\"63.623047\" xlink:href=\"#DejaVuSans-39\"/>\r\n       <use x=\"127.246094\" xlink:href=\"#DejaVuSans-36\"/>\r\n       <use x=\"190.869141\" xlink:href=\"#DejaVuSans-30\"/>\r\n      </g>\r\n     </g>\r\n    </g>\r\n    <g id=\"xtick_3\">\r\n     <g id=\"line2d_3\">\r\n      <g>\r\n       <use style=\"stroke:#000000;stroke-width:0.8;\" x=\"151.293724\" xlink:href=\"#md98e1ab846\" y=\"228.14\"/>\r\n      </g>\r\n     </g>\r\n     <g id=\"text_3\">\r\n      <!-- 1970 -->\r\n      <defs>\r\n       <path d=\"M 8.203125 72.90625 \r\nL 55.078125 72.90625 \r\nL 55.078125 68.703125 \r\nL 28.609375 0 \r\nL 18.3125 0 \r\nL 43.21875 64.59375 \r\nL 8.203125 64.59375 \r\nz\r\n\" id=\"DejaVuSans-37\"/>\r\n      </defs>\r\n      <g transform=\"translate(138.568724 242.738437)scale(0.1 -0.1)\">\r\n       <use xlink:href=\"#DejaVuSans-31\"/>\r\n       <use x=\"63.623047\" xlink:href=\"#DejaVuSans-39\"/>\r\n       <use x=\"127.246094\" xlink:href=\"#DejaVuSans-37\"/>\r\n       <use x=\"190.869141\" xlink:href=\"#DejaVuSans-30\"/>\r\n      </g>\r\n     </g>\r\n    </g>\r\n    <g id=\"xtick_4\">\r\n     <g id=\"line2d_4\">\r\n      <g>\r\n       <use style=\"stroke:#000000;stroke-width:0.8;\" x=\"206.632567\" xlink:href=\"#md98e1ab846\" y=\"228.14\"/>\r\n      </g>\r\n     </g>\r\n     <g id=\"text_4\">\r\n      <!-- 1980 -->\r\n      <defs>\r\n       <path d=\"M 31.78125 34.625 \r\nQ 24.75 34.625 20.71875 30.859375 \r\nQ 16.703125 27.09375 16.703125 20.515625 \r\nQ 16.703125 13.921875 20.71875 10.15625 \r\nQ 24.75 6.390625 31.78125 6.390625 \r\nQ 38.8125 6.390625 42.859375 10.171875 \r\nQ 46.921875 13.96875 46.921875 20.515625 \r\nQ 46.921875 27.09375 42.890625 30.859375 \r\nQ 38.875 34.625 31.78125 34.625 \r\nz\r\nM 21.921875 38.8125 \r\nQ 15.578125 40.375 12.03125 44.71875 \r\nQ 8.5 49.078125 8.5 55.328125 \r\nQ 8.5 64.0625 14.71875 69.140625 \r\nQ 20.953125 74.21875 31.78125 74.21875 \r\nQ 42.671875 74.21875 48.875 69.140625 \r\nQ 55.078125 64.0625 55.078125 55.328125 \r\nQ 55.078125 49.078125 51.53125 44.71875 \r\nQ 48 40.375 41.703125 38.8125 \r\nQ 48.828125 37.15625 52.796875 32.3125 \r\nQ 56.78125 27.484375 56.78125 20.515625 \r\nQ 56.78125 9.90625 50.3125 4.234375 \r\nQ 43.84375 -1.421875 31.78125 -1.421875 \r\nQ 19.734375 -1.421875 13.25 4.234375 \r\nQ 6.78125 9.90625 6.78125 20.515625 \r\nQ 6.78125 27.484375 10.78125 32.3125 \r\nQ 14.796875 37.15625 21.921875 38.8125 \r\nz\r\nM 18.3125 54.390625 \r\nQ 18.3125 48.734375 21.84375 45.5625 \r\nQ 25.390625 42.390625 31.78125 42.390625 \r\nQ 38.140625 42.390625 41.71875 45.5625 \r\nQ 45.3125 48.734375 45.3125 54.390625 \r\nQ 45.3125 60.0625 41.71875 63.234375 \r\nQ 38.140625 66.40625 31.78125 66.40625 \r\nQ 25.390625 66.40625 21.84375 63.234375 \r\nQ 18.3125 60.0625 18.3125 54.390625 \r\nz\r\n\" id=\"DejaVuSans-38\"/>\r\n      </defs>\r\n      <g transform=\"translate(193.907567 242.738437)scale(0.1 -0.1)\">\r\n       <use xlink:href=\"#DejaVuSans-31\"/>\r\n       <use x=\"63.623047\" xlink:href=\"#DejaVuSans-39\"/>\r\n       <use x=\"127.246094\" xlink:href=\"#DejaVuSans-38\"/>\r\n       <use x=\"190.869141\" xlink:href=\"#DejaVuSans-30\"/>\r\n      </g>\r\n     </g>\r\n    </g>\r\n    <g id=\"xtick_5\">\r\n     <g id=\"line2d_5\">\r\n      <g>\r\n       <use style=\"stroke:#000000;stroke-width:0.8;\" x=\"261.97141\" xlink:href=\"#md98e1ab846\" y=\"228.14\"/>\r\n      </g>\r\n     </g>\r\n     <g id=\"text_5\">\r\n      <!-- 1990 -->\r\n      <g transform=\"translate(249.24641 242.738437)scale(0.1 -0.1)\">\r\n       <use xlink:href=\"#DejaVuSans-31\"/>\r\n       <use x=\"63.623047\" xlink:href=\"#DejaVuSans-39\"/>\r\n       <use x=\"127.246094\" xlink:href=\"#DejaVuSans-39\"/>\r\n       <use x=\"190.869141\" xlink:href=\"#DejaVuSans-30\"/>\r\n      </g>\r\n     </g>\r\n    </g>\r\n    <g id=\"xtick_6\">\r\n     <g id=\"line2d_6\">\r\n      <g>\r\n       <use style=\"stroke:#000000;stroke-width:0.8;\" x=\"317.310253\" xlink:href=\"#md98e1ab846\" y=\"228.14\"/>\r\n      </g>\r\n     </g>\r\n     <g id=\"text_6\">\r\n      <!-- 2000 -->\r\n      <defs>\r\n       <path d=\"M 19.1875 8.296875 \r\nL 53.609375 8.296875 \r\nL 53.609375 0 \r\nL 7.328125 0 \r\nL 7.328125 8.296875 \r\nQ 12.9375 14.109375 22.625 23.890625 \r\nQ 32.328125 33.6875 34.8125 36.53125 \r\nQ 39.546875 41.84375 41.421875 45.53125 \r\nQ 43.3125 49.21875 43.3125 52.78125 \r\nQ 43.3125 58.59375 39.234375 62.25 \r\nQ 35.15625 65.921875 28.609375 65.921875 \r\nQ 23.96875 65.921875 18.8125 64.3125 \r\nQ 13.671875 62.703125 7.8125 59.421875 \r\nL 7.8125 69.390625 \r\nQ 13.765625 71.78125 18.9375 73 \r\nQ 24.125 74.21875 28.421875 74.21875 \r\nQ 39.75 74.21875 46.484375 68.546875 \r\nQ 53.21875 62.890625 53.21875 53.421875 \r\nQ 53.21875 48.921875 51.53125 44.890625 \r\nQ 49.859375 40.875 45.40625 35.40625 \r\nQ 44.1875 33.984375 37.640625 27.21875 \r\nQ 31.109375 20.453125 19.1875 8.296875 \r\nz\r\n\" id=\"DejaVuSans-32\"/>\r\n      </defs>\r\n      <g transform=\"translate(304.585253 242.738437)scale(0.1 -0.1)\">\r\n       <use xlink:href=\"#DejaVuSans-32\"/>\r\n       <use x=\"63.623047\" xlink:href=\"#DejaVuSans-30\"/>\r\n       <use x=\"127.246094\" xlink:href=\"#DejaVuSans-30\"/>\r\n       <use x=\"190.869141\" xlink:href=\"#DejaVuSans-30\"/>\r\n      </g>\r\n     </g>\r\n    </g>\r\n    <g id=\"text_7\">\r\n     <!-- year -->\r\n     <defs>\r\n      <path d=\"M 32.171875 -5.078125 \r\nQ 28.375 -14.84375 24.75 -17.8125 \r\nQ 21.140625 -20.796875 15.09375 -20.796875 \r\nL 7.90625 -20.796875 \r\nL 7.90625 -13.28125 \r\nL 13.1875 -13.28125 \r\nQ 16.890625 -13.28125 18.9375 -11.515625 \r\nQ 21 -9.765625 23.484375 -3.21875 \r\nL 25.09375 0.875 \r\nL 2.984375 54.6875 \r\nL 12.5 54.6875 \r\nL 29.59375 11.921875 \r\nL 46.6875 54.6875 \r\nL 56.203125 54.6875 \r\nz\r\n\" id=\"DejaVuSans-79\"/>\r\n      <path d=\"M 56.203125 29.59375 \r\nL 56.203125 25.203125 \r\nL 14.890625 25.203125 \r\nQ 15.484375 15.921875 20.484375 11.0625 \r\nQ 25.484375 6.203125 34.421875 6.203125 \r\nQ 39.59375 6.203125 44.453125 7.46875 \r\nQ 49.3125 8.734375 54.109375 11.28125 \r\nL 54.109375 2.78125 \r\nQ 49.265625 0.734375 44.1875 -0.34375 \r\nQ 39.109375 -1.421875 33.890625 -1.421875 \r\nQ 20.796875 -1.421875 13.15625 6.1875 \r\nQ 5.515625 13.8125 5.515625 26.8125 \r\nQ 5.515625 40.234375 12.765625 48.109375 \r\nQ 20.015625 56 32.328125 56 \r\nQ 43.359375 56 49.78125 48.890625 \r\nQ 56.203125 41.796875 56.203125 29.59375 \r\nz\r\nM 47.21875 32.234375 \r\nQ 47.125 39.59375 43.09375 43.984375 \r\nQ 39.0625 48.390625 32.421875 48.390625 \r\nQ 24.90625 48.390625 20.390625 44.140625 \r\nQ 15.875 39.890625 15.1875 32.171875 \r\nz\r\n\" id=\"DejaVuSans-65\"/>\r\n      <path d=\"M 34.28125 27.484375 \r\nQ 23.390625 27.484375 19.1875 25 \r\nQ 14.984375 22.515625 14.984375 16.5 \r\nQ 14.984375 11.71875 18.140625 8.90625 \r\nQ 21.296875 6.109375 26.703125 6.109375 \r\nQ 34.1875 6.109375 38.703125 11.40625 \r\nQ 43.21875 16.703125 43.21875 25.484375 \r\nL 43.21875 27.484375 \r\nz\r\nM 52.203125 31.203125 \r\nL 52.203125 0 \r\nL 43.21875 0 \r\nL 43.21875 8.296875 \r\nQ 40.140625 3.328125 35.546875 0.953125 \r\nQ 30.953125 -1.421875 24.3125 -1.421875 \r\nQ 15.921875 -1.421875 10.953125 3.296875 \r\nQ 6 8.015625 6 15.921875 \r\nQ 6 25.140625 12.171875 29.828125 \r\nQ 18.359375 34.515625 30.609375 34.515625 \r\nL 43.21875 34.515625 \r\nL 43.21875 35.40625 \r\nQ 43.21875 41.609375 39.140625 45 \r\nQ 35.0625 48.390625 27.6875 48.390625 \r\nQ 23 48.390625 18.546875 47.265625 \r\nQ 14.109375 46.140625 10.015625 43.890625 \r\nL 10.015625 52.203125 \r\nQ 14.9375 54.109375 19.578125 55.046875 \r\nQ 24.21875 56 28.609375 56 \r\nQ 40.484375 56 46.34375 49.84375 \r\nQ 52.203125 43.703125 52.203125 31.203125 \r\nz\r\n\" id=\"DejaVuSans-61\"/>\r\n      <path d=\"M 41.109375 46.296875 \r\nQ 39.59375 47.171875 37.8125 47.578125 \r\nQ 36.03125 48 33.890625 48 \r\nQ 26.265625 48 22.1875 43.046875 \r\nQ 18.109375 38.09375 18.109375 28.8125 \r\nL 18.109375 0 \r\nL 9.078125 0 \r\nL 9.078125 54.6875 \r\nL 18.109375 54.6875 \r\nL 18.109375 46.1875 \r\nQ 20.953125 51.171875 25.484375 53.578125 \r\nQ 30.03125 56 36.53125 56 \r\nQ 37.453125 56 38.578125 55.875 \r\nQ 39.703125 55.765625 41.0625 55.515625 \r\nz\r\n\" id=\"DejaVuSans-72\"/>\r\n     </defs>\r\n     <g transform=\"translate(192.710156 256.416562)scale(0.1 -0.1)\">\r\n      <use xlink:href=\"#DejaVuSans-79\"/>\r\n      <use x=\"59.179688\" xlink:href=\"#DejaVuSans-65\"/>\r\n      <use x=\"120.703125\" xlink:href=\"#DejaVuSans-61\"/>\r\n      <use x=\"181.982422\" xlink:href=\"#DejaVuSans-72\"/>\r\n     </g>\r\n    </g>\r\n   </g>\r\n   <g id=\"matplotlib.axis_2\">\r\n    <g id=\"ytick_1\">\r\n     <g id=\"line2d_7\">\r\n      <defs>\r\n       <path d=\"M 0 0 \r\nL -3.5 0 \r\n\" id=\"ma90b74de8a\" style=\"stroke:#000000;stroke-width:0.8;\"/>\r\n      </defs>\r\n      <g>\r\n       <use style=\"stroke:#000000;stroke-width:0.8;\" x=\"36.465625\" xlink:href=\"#ma90b74de8a\" y=\"207.878373\"/>\r\n      </g>\r\n     </g>\r\n     <g id=\"text_8\">\r\n      <!-- 50.0 -->\r\n      <defs>\r\n       <path d=\"M 10.6875 12.40625 \r\nL 21 12.40625 \r\nL 21 0 \r\nL 10.6875 0 \r\nz\r\n\" id=\"DejaVuSans-2e\"/>\r\n      </defs>\r\n      <g transform=\"translate(7.2 211.677592)scale(0.1 -0.1)\">\r\n       <use xlink:href=\"#DejaVuSans-35\"/>\r\n       <use x=\"63.623047\" xlink:href=\"#DejaVuSans-30\"/>\r\n       <use x=\"127.246094\" xlink:href=\"#DejaVuSans-2e\"/>\r\n       <use x=\"159.033203\" xlink:href=\"#DejaVuSans-30\"/>\r\n      </g>\r\n     </g>\r\n    </g>\r\n    <g id=\"ytick_2\">\r\n     <g id=\"line2d_8\">\r\n      <g>\r\n       <use style=\"stroke:#000000;stroke-width:0.8;\" x=\"36.465625\" xlink:href=\"#ma90b74de8a\" y=\"180.34705\"/>\r\n      </g>\r\n     </g>\r\n     <g id=\"text_9\">\r\n      <!-- 52.5 -->\r\n      <g transform=\"translate(7.2 184.146269)scale(0.1 -0.1)\">\r\n       <use xlink:href=\"#DejaVuSans-35\"/>\r\n       <use x=\"63.623047\" xlink:href=\"#DejaVuSans-32\"/>\r\n       <use x=\"127.246094\" xlink:href=\"#DejaVuSans-2e\"/>\r\n       <use x=\"159.033203\" xlink:href=\"#DejaVuSans-35\"/>\r\n      </g>\r\n     </g>\r\n    </g>\r\n    <g id=\"ytick_3\">\r\n     <g id=\"line2d_9\">\r\n      <g>\r\n       <use style=\"stroke:#000000;stroke-width:0.8;\" x=\"36.465625\" xlink:href=\"#ma90b74de8a\" y=\"152.815727\"/>\r\n      </g>\r\n     </g>\r\n     <g id=\"text_10\">\r\n      <!-- 55.0 -->\r\n      <g transform=\"translate(7.2 156.614946)scale(0.1 -0.1)\">\r\n       <use xlink:href=\"#DejaVuSans-35\"/>\r\n       <use x=\"63.623047\" xlink:href=\"#DejaVuSans-35\"/>\r\n       <use x=\"127.246094\" xlink:href=\"#DejaVuSans-2e\"/>\r\n       <use x=\"159.033203\" xlink:href=\"#DejaVuSans-30\"/>\r\n      </g>\r\n     </g>\r\n    </g>\r\n    <g id=\"ytick_4\">\r\n     <g id=\"line2d_10\">\r\n      <g>\r\n       <use style=\"stroke:#000000;stroke-width:0.8;\" x=\"36.465625\" xlink:href=\"#ma90b74de8a\" y=\"125.284404\"/>\r\n      </g>\r\n     </g>\r\n     <g id=\"text_11\">\r\n      <!-- 57.5 -->\r\n      <g transform=\"translate(7.2 129.083623)scale(0.1 -0.1)\">\r\n       <use xlink:href=\"#DejaVuSans-35\"/>\r\n       <use x=\"63.623047\" xlink:href=\"#DejaVuSans-37\"/>\r\n       <use x=\"127.246094\" xlink:href=\"#DejaVuSans-2e\"/>\r\n       <use x=\"159.033203\" xlink:href=\"#DejaVuSans-35\"/>\r\n      </g>\r\n     </g>\r\n    </g>\r\n    <g id=\"ytick_5\">\r\n     <g id=\"line2d_11\">\r\n      <g>\r\n       <use style=\"stroke:#000000;stroke-width:0.8;\" x=\"36.465625\" xlink:href=\"#ma90b74de8a\" y=\"97.753082\"/>\r\n      </g>\r\n     </g>\r\n     <g id=\"text_12\">\r\n      <!-- 60.0 -->\r\n      <g transform=\"translate(7.2 101.5523)scale(0.1 -0.1)\">\r\n       <use xlink:href=\"#DejaVuSans-36\"/>\r\n       <use x=\"63.623047\" xlink:href=\"#DejaVuSans-30\"/>\r\n       <use x=\"127.246094\" xlink:href=\"#DejaVuSans-2e\"/>\r\n       <use x=\"159.033203\" xlink:href=\"#DejaVuSans-30\"/>\r\n      </g>\r\n     </g>\r\n    </g>\r\n    <g id=\"ytick_6\">\r\n     <g id=\"line2d_12\">\r\n      <g>\r\n       <use style=\"stroke:#000000;stroke-width:0.8;\" x=\"36.465625\" xlink:href=\"#ma90b74de8a\" y=\"70.221759\"/>\r\n      </g>\r\n     </g>\r\n     <g id=\"text_13\">\r\n      <!-- 62.5 -->\r\n      <g transform=\"translate(7.2 74.020977)scale(0.1 -0.1)\">\r\n       <use xlink:href=\"#DejaVuSans-36\"/>\r\n       <use x=\"63.623047\" xlink:href=\"#DejaVuSans-32\"/>\r\n       <use x=\"127.246094\" xlink:href=\"#DejaVuSans-2e\"/>\r\n       <use x=\"159.033203\" xlink:href=\"#DejaVuSans-35\"/>\r\n      </g>\r\n     </g>\r\n    </g>\r\n    <g id=\"ytick_7\">\r\n     <g id=\"line2d_13\">\r\n      <g>\r\n       <use style=\"stroke:#000000;stroke-width:0.8;\" x=\"36.465625\" xlink:href=\"#ma90b74de8a\" y=\"42.690436\"/>\r\n      </g>\r\n     </g>\r\n     <g id=\"text_14\">\r\n      <!-- 65.0 -->\r\n      <g transform=\"translate(7.2 46.489654)scale(0.1 -0.1)\">\r\n       <use xlink:href=\"#DejaVuSans-36\"/>\r\n       <use x=\"63.623047\" xlink:href=\"#DejaVuSans-35\"/>\r\n       <use x=\"127.246094\" xlink:href=\"#DejaVuSans-2e\"/>\r\n       <use x=\"159.033203\" xlink:href=\"#DejaVuSans-30\"/>\r\n      </g>\r\n     </g>\r\n    </g>\r\n    <g id=\"ytick_8\">\r\n     <g id=\"line2d_14\">\r\n      <g>\r\n       <use style=\"stroke:#000000;stroke-width:0.8;\" x=\"36.465625\" xlink:href=\"#ma90b74de8a\" y=\"15.159113\"/>\r\n      </g>\r\n     </g>\r\n     <g id=\"text_15\">\r\n      <!-- 67.5 -->\r\n      <g transform=\"translate(7.2 18.958331)scale(0.1 -0.1)\">\r\n       <use xlink:href=\"#DejaVuSans-36\"/>\r\n       <use x=\"63.623047\" xlink:href=\"#DejaVuSans-37\"/>\r\n       <use x=\"127.246094\" xlink:href=\"#DejaVuSans-2e\"/>\r\n       <use x=\"159.033203\" xlink:href=\"#DejaVuSans-35\"/>\r\n      </g>\r\n     </g>\r\n    </g>\r\n   </g>\r\n   <g id=\"line2d_15\">\r\n    <path clip-path=\"url(#pc7bd02481c)\" d=\"M 51.683807 218.256364 \r\nL 79.353228 191.278074 \r\nL 107.02265 168.131413 \r\nL 134.692071 145.346044 \r\nL 162.361493 123.661307 \r\nL 190.030914 102.486735 \r\nL 217.700336 80.868703 \r\nL 245.369757 62.374091 \r\nL 273.039179 51.937238 \r\nL 300.7086 42.528815 \r\nL 328.378022 35.037581 \r\nL 356.047443 20.583636 \r\n\" style=\"fill:none;stroke:#1f77b4;stroke-linecap:square;stroke-width:1.5;\"/>\r\n   </g>\r\n   <g id=\"patch_3\">\r\n    <path d=\"M 36.465625 228.14 \r\nL 36.465625 10.7 \r\n\" style=\"fill:none;stroke:#000000;stroke-linecap:square;stroke-linejoin:miter;stroke-width:0.8;\"/>\r\n   </g>\r\n   <g id=\"patch_4\">\r\n    <path d=\"M 371.265625 228.14 \r\nL 371.265625 10.7 \r\n\" style=\"fill:none;stroke:#000000;stroke-linecap:square;stroke-linejoin:miter;stroke-width:0.8;\"/>\r\n   </g>\r\n   <g id=\"patch_5\">\r\n    <path d=\"M 36.465625 228.14 \r\nL 371.265625 228.14 \r\n\" style=\"fill:none;stroke:#000000;stroke-linecap:square;stroke-linejoin:miter;stroke-width:0.8;\"/>\r\n   </g>\r\n   <g id=\"patch_6\">\r\n    <path d=\"M 36.465625 10.7 \r\nL 371.265625 10.7 \r\n\" style=\"fill:none;stroke:#000000;stroke-linecap:square;stroke-linejoin:miter;stroke-width:0.8;\"/>\r\n   </g>\r\n  </g>\r\n </g>\r\n <defs>\r\n  <clipPath id=\"pc7bd02481c\">\r\n   <rect height=\"217.44\" width=\"334.8\" x=\"36.465625\" y=\"10.7\"/>\r\n  </clipPath>\r\n </defs>\r\n</svg>\r\n",
      "text/plain": "<Figure size 432x288 with 1 Axes>"
     },
     "metadata": {},
     "output_type": "display_data"
    }
   ],
   "source": [
    "global_yearly_life_expectancy.plot()"
   ]
  },
  {
   "cell_type": "code",
   "execution_count": null,
   "metadata": {},
   "outputs": [],
   "source": []
  },
  {
   "cell_type": "code",
   "execution_count": null,
   "metadata": {},
   "outputs": [],
   "source": []
  },
  {
   "cell_type": "code",
   "execution_count": null,
   "metadata": {},
   "outputs": [],
   "source": []
  },
  {
   "cell_type": "code",
   "execution_count": null,
   "metadata": {},
   "outputs": [],
   "source": []
  },
  {
   "cell_type": "code",
   "execution_count": null,
   "metadata": {},
   "outputs": [],
   "source": []
  },
  {
   "cell_type": "code",
   "execution_count": null,
   "metadata": {},
   "outputs": [],
   "source": []
  },
  {
   "cell_type": "code",
   "execution_count": null,
   "metadata": {},
   "outputs": [],
   "source": []
  },
  {
   "cell_type": "code",
   "execution_count": null,
   "metadata": {},
   "outputs": [],
   "source": []
  },
  {
   "cell_type": "code",
   "execution_count": null,
   "metadata": {},
   "outputs": [],
   "source": []
  },
  {
   "cell_type": "code",
   "execution_count": null,
   "metadata": {},
   "outputs": [],
   "source": []
  }
 ]
}