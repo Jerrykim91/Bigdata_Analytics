{
 "cells": [
  {
   "cell_type": "markdown",
   "execution_count": null,
   "metadata": {},
   "outputs": [],
   "source": [
    "# 판다스 입문 _01 \n",
    "-2020.01.29"
   ]
  },
  {
   "cell_type": "markdown",
   "metadata": {},
   "source": [
    "# Series"
   ]
  },
  {
   "cell_type": "code",
   "execution_count": 1,
   "metadata": {},
   "outputs": [],
   "source": [
    "import pandas "
   ]
  },
  {
   "cell_type": "code",
   "execution_count": 2,
   "metadata": {},
   "outputs": [],
   "source": [
    "df = pandas.read_csv('../data/gapminder.tsv', sep='\\t')"
   ]
  },
  {
   "cell_type": "code",
   "execution_count": 2,
   "metadata": {},
   "outputs": [],
   "source": [
    "import pandas \n",
    "df = pandas.read_csv('../data/gapminder.tsv', sep='\\t')"
   ]
  },
  {
   "cell_type": "code",
   "execution_count": 4,
   "metadata": {},
   "outputs": [
    {
     "name": "stdout",
     "output_type": "stream",
     "text": "country continent  year  lifeExp       pop   gdpPercap\n0  Afghanistan      Asia  1952   28.801   8425333  779.445314\n1  Afghanistan      Asia  1957   30.332   9240934  820.853030\n2  Afghanistan      Asia  1962   31.997  10267083  853.100710\n3  Afghanistan      Asia  1967   34.020  11537966  836.197138\n4  Afghanistan      Asia  1972   36.088  13079460  739.981106\n"
    }
   ],
   "source": [
    "# 상위 5개 (기본)\n",
    "print(df.head())"
   ]
  },
  {
   "cell_type": "code",
   "execution_count": 5,
   "metadata": {},
   "outputs": [
    {
     "name": "stdout",
     "output_type": "stream",
     "text": "<class 'pandas.core.frame.DataFrame'>\n"
    }
   ],
   "source": [
    "# 데이터 타입 \n",
    "print(type(df))"
   ]
  },
  {
   "cell_type": "code",
   "execution_count": 6,
   "metadata": {},
   "outputs": [
    {
     "name": "stdout",
     "output_type": "stream",
     "text": "(1704, 6)\n"
    }
   ],
   "source": [
    "# 차원 확인 \n",
    "print(df.shape)"
   ]
  },
  {
   "cell_type": "code",
   "execution_count": 7,
   "metadata": {},
   "outputs": [
    {
     "name": "stdout",
     "output_type": "stream",
     "text": "Index(['country', 'continent', 'year', 'lifeExp', 'pop', 'gdpPercap'], dtype='object')\n"
    }
   ],
   "source": [
    "# 리스트 형태의 컬럼을 출력 \n",
    "print(df.columns)"
   ]
  },
  {
   "cell_type": "code",
   "execution_count": 8,
   "metadata": {},
   "outputs": [
    {
     "name": "stdout",
     "output_type": "stream",
     "text": "country       object\ncontinent     object\nyear           int64\nlifeExp      float64\npop            int64\ngdpPercap    float64\ndtype: object\n"
    }
   ],
   "source": [
    "# 데이터 타입 출력 \n",
    "print(df.dtypes)"
   ]
  },
  {
   "cell_type": "code",
   "execution_count": 9,
   "metadata": {},
   "outputs": [],
   "source": [
    "# 내 컬럼에 공통된 것이 있는지 확인하고 가지고 와야 \n",
    "# 데이터를 어떻게 가지고 올 것이냐 \n",
    "# 처리 속도가 빠르다  "
   ]
  },
  {
   "cell_type": "code",
   "execution_count": 10,
   "metadata": {},
   "outputs": [
    {
     "name": "stdout",
     "output_type": "stream",
     "text": "<class 'pandas.core.frame.DataFrame'>\nRangeIndex: 1704 entries, 0 to 1703\nData columns (total 6 columns):\ncountry      1704 non-null object\ncontinent    1704 non-null object\nyear         1704 non-null int64\nlifeExp      1704 non-null float64\npop          1704 non-null int64\ngdpPercap    1704 non-null float64\ndtypes: float64(2), int64(2), object(2)\nmemory usage: 80.0+ KB\nNone\n"
    }
   ],
   "source": [
    "# 가져온 데이터 목록의 전체 정보를 확인 (dtypes > info())\n",
    "# 전체적으로 한번에 보여주는 함수 \n",
    "print(df.info())"
   ]
  },
  {
   "cell_type": "code",
   "execution_count": 11,
   "metadata": {},
   "outputs": [
    {
     "name": "stdout",
     "output_type": "stream",
     "text": "<class 'pandas.core.series.Series'>\n"
    }
   ],
   "source": [
    "county_df = d => 시리즈df['country']\n",
    "print(type(county_df))"
   ]
  },
  {
   "cell_type": "code",
   "execution_count": 12,
   "metadata": {},
   "outputs": [
    {
     "name": "stdout",
     "output_type": "stream",
     "text": "0    Afghanistan\n1    Afghanistan\n2    Afghanistan\n3    Afghanistan\n4    Afghanistan\nName: country, dtype: object\n"
    }
   ],
   "source": [
    "# 상위 5개(기본)\n",
    "print(county_df.head())"
   ]
  },
  {
   "cell_type": "code",
   "execution_count": 13,
   "metadata": {},
   "outputs": [
    {
     "name": "stdout",
     "output_type": "stream",
     "text": "1699    Zimbabwe\n1700    Zimbabwe\n1701    Zimbabwe\n1702    Zimbabwe\n1703    Zimbabwe\nName: country, dtype: object\n"
    }
   ],
   "source": [
    "# 하위 5개(기본)\n",
    "print(county_df.tail())"
   ]
  },
  {
   "cell_type": "code",
   "execution_count": 7,
   "metadata": {},
   "outputs": [
    {
     "name": "stdout",
     "output_type": "stream",
     "text": "<class 'pandas.core.series.Series'> \n 0       Afghanistan\n1       Afghanistan\n2       Afghanistan\n3       Afghanistan\n4       Afghanistan\n5       Afghanistan\n6       Afghanistan\n7       Afghanistan\n8       Afghanistan\n9       Afghanistan\n10      Afghanistan\n11      Afghanistan\n12          Albania\n13          Albania\n14          Albania\n15          Albania\n16          Albania\n17          Albania\n18          Albania\n19          Albania\n20          Albania\n21          Albania\n22          Albania\n23          Albania\n24          Algeria\n25          Algeria\n26          Algeria\n27          Algeria\n28          Algeria\n29          Algeria\n           ...     \n1674    Yemen, Rep.\n1675    Yemen, Rep.\n1676    Yemen, Rep.\n1677    Yemen, Rep.\n1678    Yemen, Rep.\n1679    Yemen, Rep.\n1680         Zambia\n1681         Zambia\n1682         Zambia\n1683         Zambia\n1684         Zambia\n1685         Zambia\n1686         Zambia\n1687         Zambia\n1688         Zambia\n1689         Zambia\n1690         Zambia\n1691         Zambia\n1692       Zimbabwe\n1693       Zimbabwe\n1694       Zimbabwe\n1695       Zimbabwe\n1696       Zimbabwe\n1697       Zimbabwe\n1698       Zimbabwe\n1699       Zimbabwe\n1700       Zimbabwe\n1701       Zimbabwe\n1702       Zimbabwe\n1703       Zimbabwe\nName: country, Length: 1704, dtype: object\n"
    }
   ],
   "source": [
    "a = df['country']\n",
    "print(type(a),'\\n',a)\n"
   ]
  },
  {
   "cell_type": "code",
   "execution_count": 8,
   "metadata": {},
   "outputs": [
    {
     "name": "stdout",
     "output_type": "stream",
     "text": "<class 'pandas.core.frame.DataFrame'> \n           country\n0     Afghanistan\n1     Afghanistan\n2     Afghanistan\n3     Afghanistan\n4     Afghanistan\n5     Afghanistan\n6     Afghanistan\n7     Afghanistan\n8     Afghanistan\n9     Afghanistan\n10    Afghanistan\n11    Afghanistan\n12        Albania\n13        Albania\n14        Albania\n15        Albania\n16        Albania\n17        Albania\n18        Albania\n19        Albania\n20        Albania\n21        Albania\n22        Albania\n23        Albania\n24        Algeria\n25        Algeria\n26        Algeria\n27        Algeria\n28        Algeria\n29        Algeria\n...           ...\n1674  Yemen, Rep.\n1675  Yemen, Rep.\n1676  Yemen, Rep.\n1677  Yemen, Rep.\n1678  Yemen, Rep.\n1679  Yemen, Rep.\n1680       Zambia\n1681       Zambia\n1682       Zambia\n1683       Zambia\n1684       Zambia\n1685       Zambia\n1686       Zambia\n1687       Zambia\n1688       Zambia\n1689       Zambia\n1690       Zambia\n1691       Zambia\n1692     Zimbabwe\n1693     Zimbabwe\n1694     Zimbabwe\n1695     Zimbabwe\n1696     Zimbabwe\n1697     Zimbabwe\n1698     Zimbabwe\n1699     Zimbabwe\n1700     Zimbabwe\n1701     Zimbabwe\n1702     Zimbabwe\n1703     Zimbabwe\n\n[1704 rows x 1 columns]\n"
    }
   ],
   "source": [
    "a = df[['country']]\n",
    "print(type(a),'\\n',a)"
   ]
  },
  {
   "cell_type": "code",
   "execution_count": 15,
   "metadata": {},
   "outputs": [
    {
     "name": "stdout",
     "output_type": "stream",
     "text": "<class 'pandas.core.frame.DataFrame'>\n"
    }
   ],
   "source": [
    "# 2개이상의 열을 출력 => DataFrame\n",
    "subset = df[['country', 'continent', 'year']]\n",
    "print(type(subset))"
   ]
  }
 ],
 "metadata": {
  "kernelspec": {
   "display_name": "Python 3",
   "language": "python",
   "name": "python3"
  },
  "language_info": {
   "codemirror_mode": {
    "name": "ipython",
    "version": 3
   },
   "file_extension": ".py",
   "mimetype": "text/x-python",
   "name": "python",
   "nbconvert_exporter": "python",
   "pygments_lexer": "ipython3",
   "version": "3.6.5-final"
  }
 },
 "nbformat": 4,
 "nbformat_minor": 4
}