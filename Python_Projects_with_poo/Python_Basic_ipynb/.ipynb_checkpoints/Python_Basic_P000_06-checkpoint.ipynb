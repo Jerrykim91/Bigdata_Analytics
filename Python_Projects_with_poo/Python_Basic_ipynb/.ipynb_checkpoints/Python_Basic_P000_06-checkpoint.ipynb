{
 "cells": [
  {
   "cell_type": "markdown",
   "metadata": {},
   "source": [
    "# **09. 정규식**"
   ]
  },
  {
   "cell_type": "markdown",
   "metadata": {},
   "source": [
    "### 정규식\n",
    "\n",
    "- 정규표현식 \n",
    "- 레귤러 익스프레션( Regular Expression )\n",
    "- 복잡한 문자열을 처리할때 사용하는 기법 \n",
    "    - 문자열에서 원하는 데이터만 추출, 가공, 삭제 <= 전처리/ 정제 \n",
    "    \n",
    "```py\n",
    "# 1. 모듈가져오기\n",
    "import re\n",
    "```\n",
    "\n",
    "- 메타문자 (meta characters)\n",
    "    - 일반표현 : | . ^ $ * + ? {} () [] ...\n",
    "    - 이스케이프 표현 : \\d \\D \\s \\S \\w \\W \\b \\B ...\n",
    "    \n",
    "- 함수\n",
    "    - match()\n",
    "    - search()\n",
    "    - findall()\n",
    "    - finditer()\n",
    "    - sub()\n",
    "\n",
    "- 그루핑 \n",
    "\n",
    "- 전방탐색 \n",
    "    - 긍정형 전방 탐색 \n",
    "    - 부정형 전방 탐색 \n",
    "    \n",
    "- 컴파일 옵션 "
   ]
  },
  {
   "cell_type": "code",
   "execution_count": 1,
   "metadata": {},
   "outputs": [],
   "source": [
    "import re"
   ]
  },
  {
   "cell_type": "code",
   "execution_count": 68,
   "metadata": {},
   "outputs": [
    {
     "data": {
      "text/plain": [
       "'\\nBTS (Korean: 방탄소년단;'"
      ]
     },
     "execution_count": 68,
     "metadata": {},
     "output_type": "execute_result"
    }
   ],
   "source": [
    "test_txt = '''\n",
    "BTS (Korean: 방탄소년단; RR: Bangtan Sonyeondan), also known as the Bangtan Boys, is a seven-member South Korean boy band formed in Seoul in 2013. The septet co-writes and produces much of their output. Originally a hip hop group, their musical style has evolved to include a wide range of genres. Their lyrics, often focused on personal and social commentary, touch on the themes of mental health, troubles of school-age youth, loss, the journey towards loving oneself, and individualism. Their work features references to literature and psychological concepts and includes an alternative universe storyline. The group have staged several world tours.\n",
    "\n",
    "The group initially formed as teenagers under Big Hit Entertainment and released their debut single album, 2 Cool 4 Skool (2013). Subsequent work such as their first U.S. Billboard 200 entries The Most Beautiful Moment in Life, Part 2 (2015), The Most Beautiful Moment in Life: Young Forever (2016), and Wings (2016) helped establish BTS' reputation as a socially conscious group. Wings became BTS' first album to sell one million copies in South Korea. By 2017, BTS crossed into the international music market, leading the Korean Wave into the United States and breaking numerous sales records, becoming the first Korean group to receive a certification from the Recording Industry Association of America (RIAA) for their single \"Mic Drop\". The band is the first Korean act to top the Billboard 200 with their studio album Love Yourself: Tear (2018) and have since hit the top of the U.S. charts with their albums Love Yourself: Answer (2018) and Map of the Soul: Persona (2019), making BTS the first group since the Beatles to earn three number one albums in less than a year. Love Yourself: Answer also broke South Korea's Gaon Album Chart's all-time monthly record previously set by Love Yourself: Tear and became the first Korean album certified Gold in the United States.\n",
    "\n",
    "According to the Gaon Music Chart, BTS has sold sixteen million albums domestically in physical sales and is the best-selling artist to debut in the 2010s.[3] They hold the best-selling album in Korean history with Map of the Soul: Persona. BTS were the second best-selling artists of 2018 worldwide according to the IFPI's Global Artist Chart, as well as the only non-English speaking artist to enter the chart. The group has won Top Social Artist three years in a row and Top Duo/Group at the 26th Billboard Music Awards. Featured on Time's international cover as \"Next Generation Leaders\", BTS has appeared in the magazine's 25 most influential people on the internet (2017–2019) and Time's 100 most influential people in the world (2019). Forbes Korea named BTS the most influential celebrities of Korea in 2018, and BTS ranked 43rd in the Forbes Celebrity 100 (2019) as one of the world's top-earning celebrities. BTS are ranked #4 of Billboard's Top Social Artist of the 2010s, and are the highest group on the list. During their Love Yourself World Tour, BTS became the first Asian and first non-English speaking act to headline and sell out Wembley Stadium; and broke the record for the single highest-grossing engagement in Rose Bowl Stadium history. Billboard ranked BTS at #45 on their Top Touring Artists of the 2010s list, being the highest-ranked Asian as well as the only non-English speaking act on the list. As of 2019, BTS are purportedly worth more than $4.65 billion to South Korea's economy each year, or 0.3 percent of the country's GDP. BTS attracted one in every 13 foreign tourists that visited South Korea and were cited as one of the key acts boosting global music sales to $19 billion in 2018.\n",
    "\n",
    "Following the establishment of their Love Myself anti-violence campaign in partnership with UNICEF, BTS addressed the United Nations 73rd General Assembly and became the youngest ever recipients of the Order of Cultural Merit from the President of South Korea due to their contributions in spreading Korean culture and language.\n",
    "'''\n",
    "test_txt[:20]"
   ]
  },
  {
   "cell_type": "markdown",
   "metadata": {},
   "source": [
    "```py\n",
    "원문에서 한글 제거\n",
    "한글 초성 + 중성 + 종성=> euc-kr, 16bit => 조합형 코드\n",
    "한글 가,갸,거,겨,      => utf-8 ,  8bit => 완성형 코드\n",
    "완성형기준 => ㄱ -> ㅣ 가 ~ 힣\n",
    "```"
   ]
  },
  {
   "cell_type": "code",
   "execution_count": 9,
   "metadata": {},
   "outputs": [],
   "source": [
    "hangul = re.compile( '[ㄱ-ㅣ가-힣]+' )"
   ]
  },
  {
   "cell_type": "code",
   "execution_count": 8,
   "metadata": {},
   "outputs": [
    {
     "data": {
      "text/plain": [
       "'\\nBTS (Korean: ; RR: Bangtan Sonyeondan), also known as the Bangtan Boys, is a seven-member South Kor'"
      ]
     },
     "execution_count": 8,
     "metadata": {},
     "output_type": "execute_result"
    }
   ],
   "source": [
    "hangul.sub('',test_txt)[:100]"
   ]
  },
  {
   "cell_type": "code",
   "execution_count": 4,
   "metadata": {},
   "outputs": [],
   "source": [
    "alpha = re.compile( '[a-zA-Z]+' )"
   ]
  },
  {
   "cell_type": "code",
   "execution_count": 7,
   "metadata": {},
   "outputs": [
    {
     "data": {
      "text/plain": [
       "'\\n (: 방탄소년단; :  ),      ,   -         2013.   -      .     ,            .  ,       ,       ,   - , , '"
      ]
     },
     "execution_count": 7,
     "metadata": {},
     "output_type": "execute_result"
    }
   ],
   "source": [
    "alpha.sub('',test_txt)[:100]"
   ]
  },
  {
   "cell_type": "code",
   "execution_count": null,
   "metadata": {},
   "outputs": [],
   "source": []
  },
  {
   "cell_type": "markdown",
   "metadata": {},
   "source": [
    "- 1. 데이터를 본다 \n",
    "- 2. 정제 및 추출 => 표현식을 구현 \n",
    "- 3. \\[최종 추출과정\\] 함수를 써서 데이터 확득 "
   ]
  },
  {
   "cell_type": "markdown",
   "metadata": {},
   "source": [
    "### 메타 문자 "
   ]
  },
  {
   "cell_type": "markdown",
   "metadata": {},
   "source": [
    "- **|**  \n",
    "    - 의미 : or "
   ]
  },
  {
   "cell_type": "code",
   "execution_count": 1,
   "metadata": {},
   "outputs": [],
   "source": [
    "# 정규 표현식 모듈 \n",
    "import re"
   ]
  },
  {
   "cell_type": "code",
   "execution_count": 4,
   "metadata": {},
   "outputs": [
    {
     "name": "stdout",
     "output_type": "stream",
     "text": [
      "1.매치된다\n",
      "2.매치된다\n",
      "3.매치된다\n"
     ]
    }
   ],
   "source": [
    "# re.match(정규식, 데이터 )\n",
    "if re.match('a|b|c','a'): print('1.매치된다')\n",
    "if re.match('a|b|c','b'): print('2.매치된다')\n",
    "if re.match('a|b|c','c'): print('3.매치된다')\n",
    "# re.match() : 특정 패턴이 "
   ]
  },
  {
   "cell_type": "code",
   "execution_count": 5,
   "metadata": {},
   "outputs": [
    {
     "name": "stdout",
     "output_type": "stream",
     "text": [
      "1.매치된다\n"
     ]
    }
   ],
   "source": [
    "if re.match('a|b|c','ab'): print('4.매치된다') # 하나라도 있으면 출력된다. => 참 \n",
    "if re.match('a|b|c','d') : print('5.매치된다')\n",
    "if re.match('a|b|c','da'): print('6.매치된다') #a,b,c 중의 하나가 가장 먼저 시작한다.(첫글자가 중요!)\n",
    "# if re.match('a|b|c','c'): print('3.매치된다')"
   ]
  },
  {
   "cell_type": "markdown",
   "metadata": {},
   "source": [
    "- **\\[\\]**\n",
    "\n",
    "    - 의미 : 문자 클래스 \n",
    "    - '['와 ']' 사이에는 어떠한 문자도 들어갈 수 있다\n",
    "    - \\[\\]은 문자 한개를 의미한다\n",
    "    - match(시작단어), search(전체중 일치되는 단어)를 사용 할 경우 한개만 일치 되면 참 "
   ]
  },
  {
   "cell_type": "code",
   "execution_count": 6,
   "metadata": {},
   "outputs": [
    {
     "name": "stdout",
     "output_type": "stream",
     "text": [
      "1.매치된다\n",
      "3.매치된다\n",
      "4.매치된다\n"
     ]
    }
   ],
   "source": [
    "# 문자열은 a, b, c 중에 하나가 시작 문자여야 한다.\n",
    "if re.match('a|b|c','a')  : print('1.매치된다')\n",
    "if re.match('a|b|c','efz'): print('2.매치된다')\n",
    "if re.match('a|b|c','abd'): print('3.매치된다')\n",
    "if re.match('a|b|c','b56'): print('4.매치된다')"
   ]
  },
  {
   "cell_type": "code",
   "execution_count": 9,
   "metadata": {},
   "outputs": [
    {
     "name": "stdout",
     "output_type": "stream",
     "text": [
      "1.매치된다\n",
      "3.매치된다\n",
      "4.매치된다\n"
     ]
    }
   ],
   "source": [
    "# seach는 있기만 하면 됨 \n",
    "if re.search('a|b|c','a')  : print('1.매치된다')\n",
    "if re.search('a|b|c','efz'): print('2.매치된다')\n",
    "if re.search('a|b|c','ad'): print('3.매치된다')\n",
    "if re.search('a|b|c','b56'): print('4.매치된다')"
   ]
  },
  {
   "cell_type": "markdown",
   "metadata": {},
   "source": [
    "- **하이픈 : '-'**\n",
    "    - 의미 : \\[\\] 문자 클래스안에 두개의 문자 사이에 표현    \n",
    "        => from ~ to : 어디서부터 어디까지 범위를 표현 "
   ]
  },
  {
   "cell_type": "code",
   "execution_count": 10,
   "metadata": {},
   "outputs": [
    {
     "name": "stdout",
     "output_type": "stream",
     "text": [
      "1.매치된다\n",
      "2.매치된다\n"
     ]
    }
   ],
   "source": [
    "if re.match('[0123456789]','1') : print('1.매치된다')\n",
    "if re.match('[0-9]','1')        : print('2.매치된다')"
   ]
  },
  {
   "cell_type": "code",
   "execution_count": 11,
   "metadata": {},
   "outputs": [
    {
     "name": "stdout",
     "output_type": "stream",
     "text": [
      "4.매치된다\n"
     ]
    }
   ],
   "source": [
    "if re.match('[a-zA-Z]','1') : print('3.매치된다')\n",
    "if re.match('[a-zA-Z]','b') : print('4.매치된다')"
   ]
  },
  {
   "cell_type": "code",
   "execution_count": 12,
   "metadata": {},
   "outputs": [
    {
     "name": "stdout",
     "output_type": "stream",
     "text": [
      "6.매치된다\n"
     ]
    }
   ],
   "source": [
    "if re.match('[0-9a-z]','Aa') : print('5.매치된다')\n",
    "# 문자열내에 존재하면 체크됨\n",
    "if re.search('[0-9a-z]','Aa') : print('6.매치된다')"
   ]
  },
  {
   "cell_type": "code",
   "execution_count": 13,
   "metadata": {
    "scrolled": true
   },
   "outputs": [
    {
     "name": "stdout",
     "output_type": "stream",
     "text": [
      "7.매치된다\n"
     ]
    }
   ],
   "source": [
    "# 한글 완성형 코드(utf- 8)\n",
    "if re.search('[ㄱ-힣]','가나다bc') : print('7.매치된다')"
   ]
  },
  {
   "cell_type": "markdown",
   "metadata": {},
   "source": [
    "- **다트 : '.'**\n",
    "    - 의미 : dot(.) 줄바꿈 기호 \\n를 제외하고 모든 문자에 매치     \n",
    "        => '\\[\\]' 문자 클래스가 아닌곳에서 해당!!\n",
    "    - 문자클래스 내부에사는 '.'은 '.'이다"
   ]
  },
  {
   "cell_type": "code",
   "execution_count": 43,
   "metadata": {
    "scrolled": true
   },
   "outputs": [
    {
     "name": "stdout",
     "output_type": "stream",
     "text": [
      "1. 매치된다\n",
      "2. 매치된다\n",
      "4. 매치된다\n",
      "5. 매치된다\n",
      "6. 매치된다\n",
      "7. 매치된다\n",
      "9. 매치된다\n"
     ]
    }
   ],
   "source": [
    "if re.match( '[a.b]' , 'a'): print('1. 매치된다')\n",
    "if re.match( '[a.b]' , 'b'): print('2. 매치된다')\n",
    "if re.match( '[a.b]' , 'c'): print('3. 매치된다')    \n",
    "    \n",
    "if re.match( '[a.b]' , 'ab') : print('4. 매치된다')    \n",
    "if re.match( '[a.b]' , 'a1b'): print('5. 매치된다')    \n",
    "if re.match( '[a.b]' , 'abc'): print('6. 매치된다')        \n",
    "if re.match( '[a.b]' , 'bcd'): print('7. 매치된다')            \n",
    "if re.match( '[a.b]' , 'cab'): print('8. 매치된다')\n",
    "    \n",
    "if re.match( '[a.b]' , '.ab'): print('9. 매치된다')"
   ]
  },
  {
   "cell_type": "code",
   "execution_count": 44,
   "metadata": {},
   "outputs": [
    {
     "name": "stdout",
     "output_type": "stream",
     "text": [
      "3. 매치된다\n",
      "4. 매치된다\n"
     ]
    }
   ],
   "source": [
    "# a문자b 라는 형태로 출발해야 통과\n",
    "if re.match( 'a.b' , 'a')   : print('1. 매치된다')\n",
    "if re.match( 'a.b' , 'abc') : print('2. 매치된다')\n",
    "if re.match( 'a.b' , 'a1b') : print('3. 매치된다')\n",
    "if re.match( 'a.b' , 'a2be'): print('4. 매치된다')    "
   ]
  },
  {
   "cell_type": "markdown",
   "metadata": {},
   "source": [
    "- **'^'**\n",
    "    - 의미 : \n",
    "        - 일반문자열   => 문자열의 맨 처음과 일치함을 의미 \n",
    "        - 문자클래스내 => 배제, 해당 문자 배제 \n",
    "        - re.MULTILINE => 각 라인의 처음와 일치함을 조사 \n",
    "\n",
    "- **'\\$'**\n",
    "    - 의미 : 문자열의 맨 끝과 일치 \n",
    "    \n",
    "    \n",
    "- **'\\*'** \n",
    "    - 의미: *를 붙인 바로 앞문자 **0~무한대** 반복\n",
    "    \n",
    "    \n",
    "- **'+'**\n",
    "    - 의미:  '+'를 붙인 바로 앞 문자 **1~ 무한대** 반복\n",
    "        - 문자열 클래스 내부에 기술하면, 단순 + 가 될수도 있고,     \n",
    "            반복의 의미가 될수도 있다.(주변값을 고려해서 해석)"
   ]
  },
  {
   "cell_type": "code",
   "execution_count": 14,
   "metadata": {},
   "outputs": [
    {
     "name": "stdout",
     "output_type": "stream",
     "text": [
      "1. 매치된다\n"
     ]
    }
   ],
   "source": [
    "# 숫자나 .으로 시작하고 끝난다\n",
    "if re.match( '^[0-9\\.]$' , '1'): print('1. 매치된다')"
   ]
  },
  {
   "cell_type": "code",
   "execution_count": 15,
   "metadata": {},
   "outputs": [
    {
     "name": "stdout",
     "output_type": "stream",
     "text": [
      "1. 매치된다\n"
     ]
    }
   ],
   "source": [
    "if re.match( '^[0-9\\.]$' , '.'): print('1. 매치된다')"
   ]
  },
  {
   "cell_type": "code",
   "execution_count": 16,
   "metadata": {},
   "outputs": [],
   "source": [
    "# 문자열은 1개 -> 문자의 수량에서 False가 되었다 => 해결방안: * or +\n",
    "if re.match( '^[0-9\\.]$' , '11'): print('1. 매치된다')\n",
    "if re.match( '^[0-9\\.]$' , '1.'): print('2. 매치된다')\n",
    "if re.match( '^[0-9\\.]$' , '.1'): print('3. 매치된다')    \n",
    "if re.match( '^[0-9\\.]$' , '..'): print('4. 매치된다')  "
   ]
  },
  {
   "cell_type": "code",
   "execution_count": 17,
   "metadata": {},
   "outputs": [
    {
     "name": "stdout",
     "output_type": "stream",
     "text": [
      "1. 매치된다\n",
      "2. 매치된다\n",
      "3. 매치된다\n",
      "4. 매치된다\n"
     ]
    }
   ],
   "source": [
    "if re.match( '^[0-9\\.]+$' , '11'): print('1. 매치된다')\n",
    "if re.match( '^[0-9\\.]+$' , '1.'): print('2. 매치된다')\n",
    "if re.match( '^[0-9\\.]*$' , '.1'): print('3. 매치된다')    \n",
    "if re.match( '^[0-9\\.]*$' , '..'): print('4. 매치된다')   "
   ]
  },
  {
   "cell_type": "code",
   "execution_count": 18,
   "metadata": {},
   "outputs": [],
   "source": [
    "# 정규식의 패턴이 늘어감에 따라 match 종합적인 조건을 따지게된다\n",
    "# 시작문자 and 끝문자 and 문자수 and 문자 성분\n",
    "if re.match( '^[0-9\\.]*$' , '.asdf.'): print('4. 매치된다')   "
   ]
  },
  {
   "cell_type": "code",
   "execution_count": 19,
   "metadata": {
    "scrolled": true
   },
   "outputs": [
    {
     "name": "stdout",
     "output_type": "stream",
     "text": [
      "2. 매치된다\n",
      "3. 매치된다\n"
     ]
    }
   ],
   "source": [
    "# [^9] : -\n",
    "if re.match( '[^0-9]' , '1'): print('1. 매치된다')   \n",
    "if re.match( '[^0-9]' , '가'): print('2. 매치된다')\n",
    "if re.match( '[^0-9]' , 'a'): print('3. 매치된다')"
   ]
  },
  {
   "cell_type": "code",
   "execution_count": 21,
   "metadata": {},
   "outputs": [],
   "source": [
    "# 특정단어가 시작문자로 여러줄에 걸처서 등장 \n",
    "data = '''류현진 국내 매니지먼트를 담당하는 에이스펙 코퍼레이션은 “류현진이 25일 출국할 예정”이라고 전했다. 류현진은 메디컬테스트를 받고 이상이 발견되지 않으면 현지에서 입단 기자회견도 소화할 계획이다.\n",
    "\n",
    "류현진 앞서 자유계약선수(FA) 신분인 류현진은 23일 토론토와 \n",
    "\n",
    "4년 8000만 달러(약 929억4000만 원)에 입단하기로 합의했다. 국내에서 훈련하던 류현진을 대신해 에이전트 스콜 보라스가 협상을 진행했고, 토론토가 내민 조건에 합의했다. 미국과 캐나다 현지에서 기사가 쏟아졌지만 구단은 아직 확정 발표를 하지 않았다.\n",
    "\n",
    "류현진 한국인 투수 FA 최대 규모 계약은 \n",
    "\n",
    "박찬호가 2001년 12월 21일 텍사스 레인저스와 맺은 5년 6500만 달러다. 류현진은 메디컬테스트를 통과하고 정식 계약서에 사인하는 순간 한국인 투수 FA 역대 최대 규모 계약의 주인공이 된다.\n",
    "'''"
   ]
  },
  {
   "cell_type": "code",
   "execution_count": 36,
   "metadata": {},
   "outputs": [
    {
     "data": {
      "text/plain": [
       "'류현진 국내 매니지먼트를 담당하는 에이스펙 코퍼레이션은 “류현진이 25일 출국할 예정”이라고 전했다. 류현진은 메디컬테스트를 받고 이상이 발견되지 않으면 현지에서 입단 기자회견도 소화할 계획이다.\\n\\n류현진 앞서 자유계약선수(FA) 신분인 류현진은 23일 토론토와 \\n\\n4년 8000만 달러(약 929억4000만 원)에 입단하기로 합의했다. 국내에서 훈련하던 류현진을 대신해 에이전트 스콜 보라스가 협상을 진행했고, 토론토가 내민 조건에 합의했다. 미국과 캐나다 현지에서 기사가 쏟아졌지만 구단은 아직 확정 발표를 하지 않았다.\\n\\n류현진 한국인 투수 FA 최대 규모 계약은 \\n\\n박찬호가 2001년 12월 21일 텍사스 레인저스와 맺은 5년 6500만 달러다. 류현진은 메디컬테스트를 통과하고 정식 계약서에 사인하는 순간 한국인 투수 FA 역대 최대 규모 계약의 주인공이 된다.\\n'"
      ]
     },
     "execution_count": 36,
     "metadata": {},
     "output_type": "execute_result"
    }
   ],
   "source": [
    "data"
   ]
  },
  {
   "cell_type": "code",
   "execution_count": 34,
   "metadata": {},
   "outputs": [],
   "source": [
    "# 정규식을 컴파일해서 이를 이용해서 데이터를 처리한다. \n",
    "# \\s : whitespace(공백, 탭, ... )\n",
    "# \\w : 한단어 (+,* 통해서 늘릴수있다 = 단어 한덩어리)\n",
    "# 류현진으로 시작하고 한칸띄고 한단어까지로 시작하는 문자열 \n",
    "\n",
    "p = re.compile('^류현진\\s\\w+')\n",
    "# [^] : 배제\n",
    "# ^ : 시작 "
   ]
  },
  {
   "cell_type": "code",
   "execution_count": 29,
   "metadata": {},
   "outputs": [
    {
     "data": {
      "text/plain": [
       "['류현진']"
      ]
     },
     "execution_count": 29,
     "metadata": {},
     "output_type": "execute_result"
    }
   ],
   "source": [
    "# 한번 빡에 안나온다 => 멀티라인 미지원 \n",
    "p.findall(data)"
   ]
  },
  {
   "cell_type": "code",
   "execution_count": null,
   "metadata": {},
   "outputs": [],
   "source": [
    "p = re.compile('^류현진')"
   ]
  },
  {
   "cell_type": "code",
   "execution_count": 31,
   "metadata": {},
   "outputs": [
    {
     "data": {
      "text/plain": [
       "['류현진 ']"
      ]
     },
     "execution_count": 31,
     "metadata": {},
     "output_type": "execute_result"
    }
   ],
   "source": [
    "p.findall(data)"
   ]
  },
  {
   "cell_type": "code",
   "execution_count": null,
   "metadata": {},
   "outputs": [],
   "source": [
    "p = re.compile('^류현진\\s')"
   ]
  },
  {
   "cell_type": "code",
   "execution_count": 33,
   "metadata": {
    "scrolled": true
   },
   "outputs": [
    {
     "data": {
      "text/plain": [
       "['류현진 국']"
      ]
     },
     "execution_count": 33,
     "metadata": {},
     "output_type": "execute_result"
    }
   ],
   "source": [
    "p.findall(data)"
   ]
  },
  {
   "cell_type": "code",
   "execution_count": null,
   "metadata": {},
   "outputs": [],
   "source": [
    "p = re.compile('^류현진\\s\\w')"
   ]
  },
  {
   "cell_type": "code",
   "execution_count": 35,
   "metadata": {},
   "outputs": [
    {
     "data": {
      "text/plain": [
       "['류현진 국내']"
      ]
     },
     "execution_count": 35,
     "metadata": {},
     "output_type": "execute_result"
    }
   ],
   "source": [
    "p.findall(data)"
   ]
  },
  {
   "cell_type": "code",
   "execution_count": 41,
   "metadata": {},
   "outputs": [
    {
     "data": {
      "text/plain": [
       "['류현진 국내', '류현진 앞서', '류현진 한국인']"
      ]
     },
     "execution_count": 41,
     "metadata": {},
     "output_type": "execute_result"
    }
   ],
   "source": [
    "# 멀티라인 지원 \n",
    "p = re.compile('^류현진\\s\\w+',re.MULTILINE)\n",
    "p.findall(data)"
   ]
  },
  {
   "cell_type": "code",
   "execution_count": 38,
   "metadata": {},
   "outputs": [],
   "source": [
    "data1 = '''류현진 국내 매니지먼트를 담당하는 에이스펙 코퍼레이션은 “류현진 이 25일 출국할 예정”이라고 전했다. 류현진 은 메디컬테스트를 받고 이상이 발견되지 않으면 현지에서 입단 기자회견도 소화할 계획이다.\n",
    "\n",
    "류현진 앞서 자유계약선수(FA) 신분인 류현진은 23일 토론토와 \n",
    "\n",
    "4년 8000만 달러(약 929억4000만 원)에 입단하기로 합의했다. 국내에서 훈련하던 류현진을 대신해 에이전트 스콜 보라스가 협상을 진행했고, 토론토가 내민 조건에 합의했다. 미국과 캐나다 현지에서 기사가 쏟아졌지만 구단은 아직 확정 발표를 하지 않았다.\n",
    "\n",
    "류현진 한국인 투수 FA 최대 규모 계약은 \n",
    "\n",
    "박찬호가 2001년 12월 21일 텍사스 레인저스와 맺은 5년 6500만 달러다. 류현진 은 메디컬테스트를 통과하고 정식 계약서에 사인하는 순간 한국인 투수 FA 역대 최대 규모 계약의 주인공이 된다.\n",
    "'''"
   ]
  },
  {
   "cell_type": "code",
   "execution_count": 42,
   "metadata": {},
   "outputs": [
    {
     "data": {
      "text/plain": [
       "['류현진 국내', '류현진 앞서', '류현진 한국인']"
      ]
     },
     "execution_count": 42,
     "metadata": {},
     "output_type": "execute_result"
    }
   ],
   "source": [
    "p = re.compile('^류현진\\s\\w+',re.MULTILINE)\n",
    "p.findall(data1)"
   ]
  },
  {
   "cell_type": "code",
   "execution_count": 49,
   "metadata": {},
   "outputs": [],
   "source": [
    "# $ : 문자열 맨끝 패턴 \n",
    "if re.match( '^[0-9]+[a-z]+$' , '1'): print('1. 매치된다')   \n",
    "if re.match( '^[0-9]+[a-z]+$' , '11'): print('2. 매치된다')   \n",
    "if re.match( '^[0-9]+[a-z]+$' , '11111111A'): print('3. 매치된다')\n",
    "if re.match( '^[0-9]+[a-z]+$' , '11111111a'): print('4. 매치된다')"
   ]
  },
  {
   "cell_type": "code",
   "execution_count": 72,
   "metadata": {},
   "outputs": [
    {
     "name": "stdout",
     "output_type": "stream",
     "text": [
      "1. 매치된다\n",
      "2. 매치된다\n",
      "3. 매치된다\n"
     ]
    }
   ],
   "source": [
    "# 반복\n",
    "# * : 0~무한대\n",
    "if re.match( 'bus*an' , 'buan'): print('1. 매치된다')  \n",
    "if re.match( 'bus*an' , 'busan'): print('2. 매치된다')  \n",
    "if re.match( 'bus*an' , 'bussan'): print('3. 매치된다')     "
   ]
  },
  {
   "cell_type": "code",
   "execution_count": 73,
   "metadata": {},
   "outputs": [
    {
     "name": "stdout",
     "output_type": "stream",
     "text": [
      "2. 매치된다\n",
      "3. 매치된다\n"
     ]
    }
   ],
   "source": [
    "# + : 1~무한대\n",
    "if re.match( 'bus+an' , 'buan'): print('1. 매치된다')  \n",
    "if re.match( 'bus+an' , 'busan'): print('2. 매치된다')  \n",
    "if re.match( 'bus+an' , 'bussan'): print('3. 매치된다')      "
   ]
  },
  {
   "cell_type": "markdown",
   "metadata": {},
   "source": [
    "- **{}**\n",
    "    - 반복횟수 지정 \n",
    "    - {2} 2번 반복 \n",
    "    - {2,3} 2부터 3까지 반복 \n",
    "- **?**\n",
    "    - {0,1}\n",
    "    - 0 OK ,1 OK \n",
    "    - 안나오던지 , 나오면 1번만 "
   ]
  },
  {
   "cell_type": "code",
   "execution_count": 80,
   "metadata": {},
   "outputs": [
    {
     "name": "stdout",
     "output_type": "stream",
     "text": [
      "3. 매치된다\n"
     ]
    }
   ],
   "source": [
    "if re.match( 'bus{2}an' , 'buan'): print('1. 매치된다')  \n",
    "if re.match( 'bus{2}an' , 'busan'): print('2. 매치된다')  \n",
    "if re.match( 'bus{2}an' , 'bussan'): print('3. 매치된다')  \n",
    "if re.match( 'bu{2}san' , 'bussan'): print('3. 매치된다')  "
   ]
  },
  {
   "cell_type": "code",
   "execution_count": 77,
   "metadata": {},
   "outputs": [
    {
     "name": "stdout",
     "output_type": "stream",
     "text": [
      "1. 매치된다\n"
     ]
    }
   ],
   "source": [
    "# 문자 클레스안에스는 본질적인 의미가 없어진다. 그냥 문자로본다\n",
    "if re.match( '[bus{2}an]' , 'buan'): print('1. 매치된다') "
   ]
  },
  {
   "cell_type": "code",
   "execution_count": 75,
   "metadata": {},
   "outputs": [
    {
     "name": "stdout",
     "output_type": "stream",
     "text": [
      "3. 매치된다\n",
      "4. 매치된다\n"
     ]
    }
   ],
   "source": [
    "# m ~ n까지\n",
    "if re.match( 'bus{2,3}an' , 'buan'): print('1. 매치된다')  \n",
    "if re.match( 'bus{2,3}an' , 'busan'): print('2. 매치된다')  \n",
    "if re.match( 'bus{2,3}an' , 'bussan'): print('3. 매치된다')  \n",
    "if re.match( 'bus{2,3}an' , 'busssan'): print('4. 매치된다')  \n",
    "if re.match( 'bus{2,3}an' , 'bussssan'): print('5. 매치된다')  "
   ]
  },
  {
   "cell_type": "markdown",
   "metadata": {},
   "source": [
    "### 실습문제 "
   ]
  },
  {
   "cell_type": "code",
   "execution_count": null,
   "metadata": {},
   "outputs": [],
   "source": [
    "# 정규식은 입력값 유효성검사 할 때 많이 사용 \n",
    "# 핸드폰 번호정규식 \n",
    "# 010-숫자4-숫자4"
   ]
  },
  {
   "cell_type": "code",
   "execution_count": null,
   "metadata": {},
   "outputs": [],
   "source": [
    "'010-[0-9]{4}-[0-9]{4}$'\n",
    "'[0-1]{2}-[0-9]{4}+[0-9]*'"
   ]
  },
  {
   "cell_type": "code",
   "execution_count": 129,
   "metadata": {},
   "outputs": [
    {
     "name": "stdout",
     "output_type": "stream",
     "text": [
      "동작 <_sre.SRE_Match object; span=(0, 13), match='019-2234-1214'>\n"
     ]
    }
   ],
   "source": [
    "#patten = '01[0-9]-[0-9]{4}-[0-9]{4}$'\n",
    "patten = '01[0-9]-\\d{4}-\\d{4}$'\n",
    "#patten = '010-[0-9]{4}-[0-9]{4}$'\n",
    "vla = '019-2234-1214'\n",
    "if re.match( patten , vla): print('동작', re.match( patten , vla))"
   ]
  },
  {
   "cell_type": "markdown",
   "metadata": {},
   "source": [
    "### 메타문자 > 이스케이프\n",
    "\n",
    "- \\d <-> \\D\n",
    "- \\s <-> \\S\n",
    "- \\w <-> \\W\n",
    "- \\b <-> \\B\n",
    "- 기타\n",
    "    - 문자클레스 [] 에서 특수문자, 화이트스페이등을 표현할때\n",
    "    - . => \\ . 이런식으로 표현할수 있다"
   ]
  },
  {
   "cell_type": "code",
   "execution_count": 143,
   "metadata": {},
   "outputs": [
    {
     "name": "stdout",
     "output_type": "stream",
     "text": [
      "--\"\\d\"--\n",
      "1.매치\n",
      "--\"\\D\"--\n",
      "a.매치\n"
     ]
    }
   ],
   "source": [
    "# \\d : 숫자 => [0-9]\n",
    "print('--\"\\d\"--')\n",
    "if re.match('[\\d]','1'):print('1.매치')\n",
    "if re.match('[\\d]','a'):print('a.매치')\n",
    "    \n",
    "print('--\"\\D\"--')\n",
    "# \\D : 숫자말고 나머지 => [^0-9]\n",
    "if re.match('[\\D]','1'):print('1.매치')\n",
    "if re.match('[\\D]','a'):print('a.매치')"
   ]
  },
  {
   "cell_type": "code",
   "execution_count": 144,
   "metadata": {},
   "outputs": [
    {
     "name": "stdout",
     "output_type": "stream",
     "text": [
      "--\"\\s\"--\n",
      "1.매치\n"
     ]
    }
   ],
   "source": [
    "# \\s -> whitespace : \\t, \\n, \\r, \\\n",
    "# 수평탭, 개행 , 캐리지리턴 , 폼피드, 수직탭 => 눈에 보이지 않고 \n",
    "# 공백처럼 보이면서 문자열상에 정보를 제공 문자 \n",
    "print('--\"\\s\"--')\n",
    "if re.match('[\\s]','\\t\\n\\r\\f\\\\v'):print('1.매치')\n",
    "if re.match('[\\s]','a\\t\\f\\g\\h\\j'):print('a.매치') \n",
    "    # a.매치는 시작하는 문자가 화이트 스페이스가 아님 "
   ]
  },
  {
   "cell_type": "code",
   "execution_count": 145,
   "metadata": {},
   "outputs": [
    {
     "name": "stdout",
     "output_type": "stream",
     "text": [
      "--\"\\S\"--\n",
      "a.매치\n"
     ]
    }
   ],
   "source": [
    "# \\S -> whitespace가 아닌 문자\n",
    "print('--\"\\S\"--')\n",
    "if re.match('[\\S]','\\t\\n\\r\\f\\\\v'):print('1.매치') \n",
    "    # 1.매치는 시작하는 문자가 화이트 스페이스\n",
    "if re.match('[\\S]','a\\t\\f\\g\\h\\j'):print('a.매치') "
   ]
  },
  {
   "cell_type": "code",
   "execution_count": null,
   "metadata": {},
   "outputs": [],
   "source": [
    "# \\w -> 문자, 숫자와 매치 : [a-zA-Zㄱ-힣], 언어면 다 ok "
   ]
  },
  {
   "cell_type": "code",
   "execution_count": 149,
   "metadata": {},
   "outputs": [
    {
     "name": "stdout",
     "output_type": "stream",
     "text": [
      "--\"\\w\"--\n",
      "a0.매치\n",
      "가.매치\n",
      " 1.매치\n",
      " a.매치\n",
      "--\"\\W\"--\n",
      "\\t.매치\n"
     ]
    }
   ],
   "source": [
    "# \\W -> 문자,숫자가 아닌 문자,특수문자,이스케이프문자와 매치 \n",
    "# => [^a-zA-Zㄱ-힣]\n",
    "\n",
    "print('--\"\\w\"--')\n",
    "if re.match('[\\w]','a0'):print('a0.매치')\n",
    "if re.match('[\\w]','가'):print('가.매치') \n",
    "if re.match('[\\w]','1'):print(' 1.매치')\n",
    "if re.match('[\\w]','a'):print(' a.매치')\n",
    "\n",
    "print('--\"\\W\"--')\n",
    "if re.match('[\\W]','a'):print('a.매치') \n",
    "if re.match('[\\W]','\\t'):print('\\\\t.매치') "
   ]
  },
  {
   "cell_type": "code",
   "execution_count": 147,
   "metadata": {},
   "outputs": [
    {
     "name": "stdout",
     "output_type": "stream",
     "text": [
      "ABCD가나다라마\t]\n",
      "라\n"
     ]
    }
   ],
   "source": [
    "# 일반 문자열은 이용부호 (예\" 줄바꿈...)는 해석되서 처리\n",
    "a = 'ABCD가나다라마\\t]\\n라'\n",
    "print(a)"
   ]
  },
  {
   "cell_type": "code",
   "execution_count": 148,
   "metadata": {},
   "outputs": [
    {
     "name": "stdout",
     "output_type": "stream",
     "text": [
      "ABCD가나다라마\\t]\\n라 <class 'str'>\n"
     ]
    }
   ],
   "source": [
    "# 만약 데이터 그대로 받고 싶다면 \n",
    "# Raw String\n",
    "# 이스케이프 문자가 적용되지 않는다. \n",
    "\n",
    "a = r'ABCD가나다라마\\t]\\n라'\n",
    "print(a, type(a))"
   ]
  },
  {
   "cell_type": "code",
   "execution_count": 2,
   "metadata": {},
   "outputs": [],
   "source": [
    "# \\b 단어 구분자 ( word boundary) \n",
    "# 일반단어는 화이트스페이스로 구분된다\n",
    "# \\b는 일반단어에서 백키로 인식\n",
    "# 이 자체를 그대로 인식하게 하기위해서 \n",
    "# raw string으로 표현\n",
    "p = re.compile( r'\\bclass\\b' )"
   ]
  },
  {
   "cell_type": "code",
   "execution_count": 3,
   "metadata": {},
   "outputs": [
    {
     "name": "stdout",
     "output_type": "stream",
     "text": [
      "<_sre.SRE_Match object; span=(3, 8), match='class'> class\n"
     ]
    }
   ],
   "source": [
    "m = p.search('no class at 1234class')\n",
    "print(m,m.group())"
   ]
  },
  {
   "cell_type": "code",
   "execution_count": 4,
   "metadata": {},
   "outputs": [
    {
     "name": "stdout",
     "output_type": "stream",
     "text": [
      "None\n"
     ]
    }
   ],
   "source": [
    "m = p.search('the classifier')\n",
    "print(m)\n",
    "# 해당 그룹이 없다. "
   ]
  },
  {
   "cell_type": "markdown",
   "metadata": {},
   "source": [
    "### 함수 \n",
    "\n",
    "    - match()\n",
    "        : 문자열의 처음부터 정규식과 매칭되는지 조사 \n",
    "    - search()\n",
    "        : 문자열 전체를 검색하여 매칭되는지 조사\n",
    "    - findall()\n",
    "        : 정규식에 매칭되는 모든 문자열을 리스트로 리턴  \n",
    "    - finditer()\n",
    "        : 정규식에 매칭도;는 모든 문자열을 iterator로 리턴\n",
    "    - sub()\n",
    "        : 규칙과 매칭되는 부분을 다른 문자로 변경 \n",
    "        \n",
    "        "
   ]
  },
  {
   "cell_type": "code",
   "execution_count": 6,
   "metadata": {},
   "outputs": [],
   "source": [
    "# 숫자가 나오고, 1~무한대로 반복될수 있다. \n",
    "p = re.compile('[0-9]+')"
   ]
  },
  {
   "cell_type": "code",
   "execution_count": 7,
   "metadata": {},
   "outputs": [
    {
     "name": "stdout",
     "output_type": "stream",
     "text": [
      "None\n"
     ]
    }
   ],
   "source": [
    "# 매칭되는것이 없다. =>None\n",
    "r = p.match('abcd5')\n",
    "print(r)"
   ]
  },
  {
   "cell_type": "code",
   "execution_count": 9,
   "metadata": {
    "scrolled": true
   },
   "outputs": [
    {
     "name": "stdout",
     "output_type": "stream",
     "text": [
      "<_sre.SRE_Match object; span=(0, 1), match='5'>\n",
      "5 = 일치되는 데이터가 나온다. \n"
     ]
    }
   ],
   "source": [
    "r = p.match('5')\n",
    "print(r)\n",
    "if r :\n",
    "    print(r.group(), '= 일치되는 데이터가 나온다. ')"
   ]
  },
  {
   "cell_type": "code",
   "execution_count": null,
   "metadata": {},
   "outputs": [],
   "source": [
    "r = p.match( '123abcd' )\n",
    "print( r )\n",
    "if r:\n",
    "    print( r.group(), '일치되는 데이터가 나온다' )\n",
    "else:\n",
    "    print('일치되는 데이터가 없다')"
   ]
  },
  {
   "cell_type": "code",
   "execution_count": 28,
   "metadata": {},
   "outputs": [],
   "source": [
    "data = 'i am a Human. 2020 가나다라마바사 !@#$'\n",
    "# 소문자만 잧아서 소문자 글자리스트를 리턴하라 \n",
    "p = re.compile('[a-z]+') "
   ]
  },
  {
   "cell_type": "code",
   "execution_count": null,
   "metadata": {},
   "outputs": [],
   "source": [
    "r = p.match( data )\n",
    "# 매칭되는 실제값\n",
    "r.group()"
   ]
  },
  {
   "cell_type": "code",
   "execution_count": 65,
   "metadata": {},
   "outputs": [
    {
     "name": "stdout",
     "output_type": "stream",
     "text": [
      "<_sre.SRE_Match object; span=(0, 1), match='i'>\n"
     ]
    }
   ],
   "source": [
    "r = p.match(data)\n",
    "print(r)"
   ]
  },
  {
   "cell_type": "code",
   "execution_count": 31,
   "metadata": {},
   "outputs": [
    {
     "name": "stdout",
     "output_type": "stream",
     "text": [
      "['i', 'am', 'a', 'uman']\n"
     ]
    }
   ],
   "source": [
    "r = p.findall(data)\n",
    "print(r)"
   ]
  },
  {
   "cell_type": "code",
   "execution_count": 63,
   "metadata": {},
   "outputs": [],
   "source": [
    "r = p.finditer(data)"
   ]
  },
  {
   "cell_type": "code",
   "execution_count": 64,
   "metadata": {},
   "outputs": [
    {
     "name": "stdout",
     "output_type": "stream",
     "text": [
      "실제값 시작인덱스 끝인덱스 인덱스 튜플값\n",
      "i 0 1 (0, 1)\n",
      "실제값 시작인덱스 끝인덱스 인덱스 튜플값\n",
      "am 2 4 (2, 4)\n",
      "실제값 시작인덱스 끝인덱스 인덱스 튜플값\n",
      "a 5 6 (5, 6)\n",
      "실제값 시작인덱스 끝인덱스 인덱스 튜플값\n",
      "uman 8 12 (8, 12)\n"
     ]
    }
   ],
   "source": [
    "for n in r:\n",
    "    print('실제값', '시작인덱스', '끝인덱스', '인덱스 튜플값')\n",
    "    # 실제값, 시작인덱스, 끝인덱스, 인덱스 튜플값\n",
    "    print( n.group(), n.start(), n.end(), n.span() )    \n",
    "    \n",
    "#     print('n.start(시작인덱스) = ',n.start())\n",
    "#     print('n.end(끝인덱스)    = ',n.end())\n",
    "#     print('n.span(인덱스튜플)  = ',n.span())\n",
    "#     print('n.group(실제값)     = ',n.group())"
   ]
  },
  {
   "cell_type": "code",
   "execution_count": 66,
   "metadata": {},
   "outputs": [],
   "source": [
    "# 매치되는 부분을 다른문자로 변경 \n",
    "p = re.compile( '(blue|red|white)' )"
   ]
  },
  {
   "cell_type": "code",
   "execution_count": 67,
   "metadata": {},
   "outputs": [
    {
     "data": {
      "text/plain": [
       "'색상 케이크 그리고 '"
      ]
     },
     "execution_count": 67,
     "metadata": {},
     "output_type": "execute_result"
    }
   ],
   "source": [
    "# 문자열 대체 \n",
    "p.sub( '색상', 'white 케이크 그리고 ' )"
   ]
  },
  {
   "cell_type": "code",
   "execution_count": 72,
   "metadata": {},
   "outputs": [
    {
     "data": {
      "text/plain": [
       "('\\nBTS (Korean: 방탄소년단;', 3981)"
      ]
     },
     "execution_count": 72,
     "metadata": {},
     "output_type": "execute_result"
    }
   ],
   "source": [
    "test_txt[:20],len(test_txt)"
   ]
  },
  {
   "cell_type": "code",
   "execution_count": 111,
   "metadata": {},
   "outputs": [],
   "source": [
    "# 한글 \n",
    "han = re.compile('[ㄱ-힣\\n\\;\\:\\,\\.0-9\\(\\)\\-\\\"\\'\\$\\#]+')\n",
    "# han = re.compile('[ㄱ-힣]+')"
   ]
  },
  {
   "cell_type": "code",
   "execution_count": null,
   "metadata": {},
   "outputs": [],
   "source": [
    "# 문자 클래스내에 특수문자 표시앞에 \\ 추가 해도 되고 빼도 된다.\n",
    "# 아스키코드를 이용해 특수문자 값의 범위를 활용하여 제거가능 \n",
    "# 비-영어권은 유니코드 혹은 완성 코드의 수치값 범위를 사용 \n"
   ]
  },
  {
   "cell_type": "code",
   "execution_count": 114,
   "metadata": {},
   "outputs": [
    {
     "data": {
      "text/plain": [
       "'BTS Korean  RR Bangtan Sonyeondan also known as the Bangtan Boys is'"
      ]
     },
     "execution_count": 114,
     "metadata": {},
     "output_type": "execute_result"
    }
   ],
   "source": [
    "han.sub('',test_txt[:80])\n",
    "# 화이트 스테이스 \\n가 보임 => 제거 "
   ]
  },
  {
   "cell_type": "code",
   "execution_count": 3,
   "metadata": {},
   "outputs": [],
   "source": [
    "p = re.compile('(123)+')"
   ]
  },
  {
   "cell_type": "code",
   "execution_count": 1,
   "metadata": {},
   "outputs": [],
   "source": [
    "import re"
   ]
  },
  {
   "cell_type": "code",
   "execution_count": 2,
   "metadata": {},
   "outputs": [],
   "source": [
    "p = re.compile('(123)+')"
   ]
  },
  {
   "cell_type": "code",
   "execution_count": 15,
   "metadata": {},
   "outputs": [],
   "source": [
    "p1 = re.compile('(2)+(22)+(222)+')"
   ]
  },
  {
   "cell_type": "code",
   "execution_count": 16,
   "metadata": {},
   "outputs": [
    {
     "data": {
      "text/plain": [
       "<_sre.SRE_Match object; span=(0, 3), match='222'>"
      ]
     },
     "execution_count": 16,
     "metadata": {},
     "output_type": "execute_result"
    }
   ],
   "source": [
    "m1 = p1.search('2222 222222 111111 1111 check?')\n",
    "m1"
   ]
  },
  {
   "cell_type": "code",
   "execution_count": 18,
   "metadata": {
    "scrolled": true
   },
   "outputs": [
    {
     "data": {
      "text/plain": [
       "('222', '222', '222')"
      ]
     },
     "execution_count": 18,
     "metadata": {},
     "output_type": "execute_result"
    }
   ],
   "source": [
    "m1.group(),m1.group(0),m1.group(1)"
   ]
  },
  {
   "cell_type": "code",
   "execution_count": 19,
   "metadata": {},
   "outputs": [
    {
     "data": {
      "text/plain": [
       "('123123123123', '123123123123', '123')"
      ]
     },
     "execution_count": 19,
     "metadata": {},
     "output_type": "execute_result"
    }
   ],
   "source": [
    "m.group(),m.group(0),m.group(1)"
   ]
  },
  {
   "cell_type": "code",
   "execution_count": 12,
   "metadata": {
    "scrolled": true
   },
   "outputs": [
    {
     "data": {
      "text/plain": [
       "('2', '22')"
      ]
     },
     "execution_count": 12,
     "metadata": {},
     "output_type": "execute_result"
    }
   ],
   "source": [
    "m1.group(1),m1.group(2)"
   ]
  },
  {
   "cell_type": "code",
   "execution_count": 17,
   "metadata": {},
   "outputs": [
    {
     "ename": "IndexError",
     "evalue": "no such group",
     "output_type": "error",
     "traceback": [
      "\u001b[1;31m---------------------------------------------------------------------------\u001b[0m",
      "\u001b[1;31mIndexError\u001b[0m                                Traceback (most recent call last)",
      "\u001b[1;32m<ipython-input-17-927bb384b265>\u001b[0m in \u001b[0;36m<module>\u001b[1;34m()\u001b[0m\n\u001b[1;32m----> 1\u001b[1;33m \u001b[0mm\u001b[0m\u001b[1;33m.\u001b[0m\u001b[0mgroup\u001b[0m\u001b[1;33m(\u001b[0m\u001b[1;36m1\u001b[0m\u001b[1;33m)\u001b[0m\u001b[1;33m,\u001b[0m\u001b[0mm\u001b[0m\u001b[1;33m.\u001b[0m\u001b[0mgroup\u001b[0m\u001b[1;33m(\u001b[0m\u001b[1;36m2\u001b[0m\u001b[1;33m)\u001b[0m\u001b[1;33m\u001b[0m\u001b[0m\n\u001b[0m",
      "\u001b[1;31mIndexError\u001b[0m: no such group"
     ]
    }
   ],
   "source": [
    "m.group(1),m.group(2)"
   ]
  },
  {
   "cell_type": "code",
   "execution_count": 16,
   "metadata": {},
   "outputs": [
    {
     "data": {
      "text/plain": [
       "'123123123123'"
      ]
     },
     "execution_count": 16,
     "metadata": {},
     "output_type": "execute_result"
    }
   ],
   "source": [
    "m.group() = m.group(0)"
   ]
  },
  {
   "cell_type": "code",
   "execution_count": null,
   "metadata": {},
   "outputs": [],
   "source": [
    "m1.group(1),m1.group(2)"
   ]
  },
  {
   "cell_type": "code",
   "execution_count": 5,
   "metadata": {},
   "outputs": [],
   "source": [
    "m1 = p1.search('121212  123123 122345 check?')\n",
    "m1"
   ]
  },
  {
   "cell_type": "code",
   "execution_count": 4,
   "metadata": {},
   "outputs": [
    {
     "data": {
      "text/plain": [
       "<_sre.SRE_Match object; span=(0, 12), match='123123123123'>"
      ]
     },
     "execution_count": 4,
     "metadata": {},
     "output_type": "execute_result"
    }
   ],
   "source": [
    "m = p.search('123123123123 123123123 123123 123 12 1 check?')\n",
    "m"
   ]
  },
  {
   "cell_type": "code",
   "execution_count": 54,
   "metadata": {},
   "outputs": [
    {
     "data": {
      "text/plain": [
       "<_sre.SRE_Match object; span=(0, 6), match='123123'>"
      ]
     },
     "execution_count": 54,
     "metadata": {},
     "output_type": "execute_result"
    }
   ],
   "source": [
    "m = p.search('123123 123123123 123123  1 check?')\n",
    "m"
   ]
  },
  {
   "cell_type": "code",
   "execution_count": 31,
   "metadata": {
    "scrolled": true
   },
   "outputs": [
    {
     "data": {
      "text/plain": [
       "'123123'"
      ]
     },
     "execution_count": 31,
     "metadata": {},
     "output_type": "execute_result"
    }
   ],
   "source": [
    "m.group()"
   ]
  },
  {
   "cell_type": "code",
   "execution_count": 32,
   "metadata": {},
   "outputs": [
    {
     "data": {
      "text/plain": [
       "6"
      ]
     },
     "execution_count": 32,
     "metadata": {},
     "output_type": "execute_result"
    }
   ],
   "source": [
    "len(m.group(0))"
   ]
  },
  {
   "cell_type": "code",
   "execution_count": 33,
   "metadata": {
    "scrolled": true
   },
   "outputs": [
    {
     "data": {
      "text/plain": [
       "3"
      ]
     },
     "execution_count": 33,
     "metadata": {},
     "output_type": "execute_result"
    }
   ],
   "source": [
    "len(m.group(1))"
   ]
  },
  {
   "cell_type": "code",
   "execution_count": 36,
   "metadata": {},
   "outputs": [
    {
     "ename": "IndexError",
     "evalue": "no such group",
     "output_type": "error",
     "traceback": [
      "\u001b[1;31m---------------------------------------------------------------------------\u001b[0m",
      "\u001b[1;31mIndexError\u001b[0m                                Traceback (most recent call last)",
      "\u001b[1;32m<ipython-input-36-88acecccb001>\u001b[0m in \u001b[0;36m<module>\u001b[1;34m()\u001b[0m\n\u001b[1;32m----> 1\u001b[1;33m \u001b[0mm\u001b[0m\u001b[1;33m.\u001b[0m\u001b[0mgroup\u001b[0m\u001b[1;33m(\u001b[0m\u001b[1;36m2\u001b[0m\u001b[1;33m)\u001b[0m\u001b[1;33m\u001b[0m\u001b[0m\n\u001b[0m",
      "\u001b[1;31mIndexError\u001b[0m: no such group"
     ]
    }
   ],
   "source": [
    "m.group(2)"
   ]
  },
  {
   "cell_type": "code",
   "execution_count": 6,
   "metadata": {},
   "outputs": [
    {
     "name": "stdout",
     "output_type": "stream",
     "text": [
      "1\n",
      "2\n",
      "3\n"
     ]
    }
   ],
   "source": [
    "for n in range(1, len(m.group(1))+1):\n",
    "    print(n)\n",
    "    #print(m.group(n))"
   ]
  },
  {
   "cell_type": "code",
   "execution_count": 9,
   "metadata": {},
   "outputs": [
    {
     "name": "stdout",
     "output_type": "stream",
     "text": [
      "0\n",
      "1\n",
      "2\n",
      "3\n",
      "4\n",
      "5\n",
      "6\n",
      "7\n",
      "8\n",
      "9\n",
      "10\n",
      "11\n"
     ]
    }
   ],
   "source": [
    "#span=(0, 12)\n",
    "for n in range(1, len(m.group())+1):\n",
    "    print(n)\n",
    "    #print(m.group(n))"
   ]
  },
  {
   "cell_type": "code",
   "execution_count": 15,
   "metadata": {
    "scrolled": true
   },
   "outputs": [
    {
     "data": {
      "text/plain": [
       "'123'"
      ]
     },
     "execution_count": 15,
     "metadata": {},
     "output_type": "execute_result"
    }
   ],
   "source": [
    "m.group(1)"
   ]
  },
  {
   "cell_type": "code",
   "execution_count": 10,
   "metadata": {},
   "outputs": [
    {
     "ename": "IndexError",
     "evalue": "no such group",
     "output_type": "error",
     "traceback": [
      "\u001b[1;31m---------------------------------------------------------------------------\u001b[0m",
      "\u001b[1;31mIndexError\u001b[0m                                Traceback (most recent call last)",
      "\u001b[1;32m<ipython-input-10-650d1f04e44a>\u001b[0m in \u001b[0;36m<module>\u001b[1;34m()\u001b[0m\n\u001b[1;32m----> 1\u001b[1;33m \u001b[0mprint\u001b[0m\u001b[1;33m(\u001b[0m\u001b[0mm\u001b[0m\u001b[1;33m.\u001b[0m\u001b[0mgroup\u001b[0m\u001b[1;33m(\u001b[0m\u001b[1;36m2\u001b[0m\u001b[1;33m)\u001b[0m\u001b[1;33m)\u001b[0m\u001b[1;33m\u001b[0m\u001b[0m\n\u001b[0m",
      "\u001b[1;31mIndexError\u001b[0m: no such group"
     ]
    }
   ],
   "source": [
    "print(m.group(2))"
   ]
  },
  {
   "cell_type": "code",
   "execution_count": 4,
   "metadata": {},
   "outputs": [
    {
     "data": {
      "text/plain": [
       "('123123123123', '123123123123', '123')"
      ]
     },
     "execution_count": 4,
     "metadata": {},
     "output_type": "execute_result"
    }
   ],
   "source": [
    "m.group(), m.group(0), m.group(1) "
   ]
  },
  {
   "cell_type": "code",
   "execution_count": 5,
   "metadata": {
    "scrolled": false
   },
   "outputs": [
    {
     "ename": "IndexError",
     "evalue": "no such group",
     "output_type": "error",
     "traceback": [
      "\u001b[1;31m---------------------------------------------------------------------------\u001b[0m",
      "\u001b[1;31mIndexError\u001b[0m                                Traceback (most recent call last)",
      "\u001b[1;32m<ipython-input-5-e118eb99f280>\u001b[0m in \u001b[0;36m<module>\u001b[1;34m()\u001b[0m\n\u001b[1;32m----> 1\u001b[1;33m \u001b[0mm\u001b[0m\u001b[1;33m.\u001b[0m\u001b[0mgroup\u001b[0m\u001b[1;33m(\u001b[0m\u001b[1;33m)\u001b[0m\u001b[1;33m,\u001b[0m \u001b[0mm\u001b[0m\u001b[1;33m.\u001b[0m\u001b[0mgroup\u001b[0m\u001b[1;33m(\u001b[0m\u001b[1;36m0\u001b[0m\u001b[1;33m)\u001b[0m\u001b[1;33m,\u001b[0m \u001b[0mm\u001b[0m\u001b[1;33m.\u001b[0m\u001b[0mgroup\u001b[0m\u001b[1;33m(\u001b[0m\u001b[1;36m1\u001b[0m\u001b[1;33m)\u001b[0m \u001b[1;33m,\u001b[0m\u001b[0mm\u001b[0m\u001b[1;33m.\u001b[0m\u001b[0mgroup\u001b[0m\u001b[1;33m(\u001b[0m\u001b[1;36m2\u001b[0m\u001b[1;33m)\u001b[0m\u001b[1;33m\u001b[0m\u001b[0m\n\u001b[0m",
      "\u001b[1;31mIndexError\u001b[0m: no such group"
     ]
    }
   ],
   "source": [
    "m.group(), m.group(0), m.group(1) ,m.group(2) "
   ]
  },
  {
   "cell_type": "code",
   "execution_count": 126,
   "metadata": {},
   "outputs": [
    {
     "data": {
      "text/plain": [
       "('123123123', '123123123', '123')"
      ]
     },
     "execution_count": 126,
     "metadata": {},
     "output_type": "execute_result"
    }
   ],
   "source": [
    "m.group(), m.group(0), m.group(1) \n",
    "# 순서대로 나열 해야 되네 \n",
    "# 아니면 오류남 "
   ]
  },
  {
   "cell_type": "code",
   "execution_count": 127,
   "metadata": {},
   "outputs": [
    {
     "ename": "IndexError",
     "evalue": "no such group",
     "output_type": "error",
     "traceback": [
      "\u001b[1;31m---------------------------------------------------------------------------\u001b[0m",
      "\u001b[1;31mIndexError\u001b[0m                                Traceback (most recent call last)",
      "\u001b[1;32m<ipython-input-127-afd5bdcc2dc7>\u001b[0m in \u001b[0;36m<module>\u001b[1;34m()\u001b[0m\n\u001b[1;32m----> 1\u001b[1;33m \u001b[0mm\u001b[0m\u001b[1;33m.\u001b[0m\u001b[0mgroup\u001b[0m\u001b[1;33m(\u001b[0m\u001b[1;36m2\u001b[0m\u001b[1;33m)\u001b[0m\u001b[1;33m\u001b[0m\u001b[0m\n\u001b[0m",
      "\u001b[1;31mIndexError\u001b[0m: no such group"
     ]
    }
   ],
   "source": [
    "m.group(2) "
   ]
  },
  {
   "cell_type": "markdown",
   "metadata": {},
   "source": [
    "** 정규식 기본 문법 **\n",
    "    - 패턴은 그대로 매칭\n",
    "    - 메타 문자 및 수량 한정자 적용\n",
    "    - 그룹 및 look around기능을 사용하는경우 "
   ]
  },
  {
   "cell_type": "markdown",
   "metadata": {},
   "source": [
    "- m.group(0)\n",
    "    - 매칭된 모든 문자열 \n",
    "- m.group(1)\n",
    "    - 첫번째 그룹의 문자열\n",
    "- m.group(2)\n",
    "    - 두번째 그룹의 문자열\n",
    "- m.group(n)\n",
    "    - n번째 그룹의 문자열"
   ]
  },
  {
   "cell_type": "code",
   "execution_count": 128,
   "metadata": {},
   "outputs": [],
   "source": [
    "# 이표현대로 문장열을 표현한다면 ? \n",
    "p = re.compile(r'\\w+\\s+\\d+[-]\\d+[-]\\d+')"
   ]
  },
  {
   "cell_type": "code",
   "execution_count": 129,
   "metadata": {},
   "outputs": [],
   "source": [
    "m = p.search('부산역 010-1234-5268 abcd')"
   ]
  },
  {
   "cell_type": "code",
   "execution_count": 130,
   "metadata": {},
   "outputs": [
    {
     "data": {
      "text/plain": [
       "'부산역 010-1234-5268'"
      ]
     },
     "execution_count": 130,
     "metadata": {},
     "output_type": "execute_result"
    }
   ],
   "source": [
    "# 뭉텅이\n",
    "m.group()"
   ]
  },
  {
   "cell_type": "code",
   "execution_count": 131,
   "metadata": {},
   "outputs": [
    {
     "data": {
      "text/plain": [
       "'부산역 010-1234-5268'"
      ]
     },
     "execution_count": 131,
     "metadata": {},
     "output_type": "execute_result"
    }
   ],
   "source": [
    "# 그룹이 없음 => 정규식에 그룹화 표현이 없다. \n",
    "m.groups()"
   ]
  },
  {
   "cell_type": "code",
   "execution_count": 132,
   "metadata": {},
   "outputs": [
    {
     "data": {
      "text/plain": [
       "'1234'"
      ]
     },
     "execution_count": 132,
     "metadata": {},
     "output_type": "execute_result"
    }
   ],
   "source": [
    "m.group().split()[1].split('-')[1]"
   ]
  },
  {
   "cell_type": "code",
   "execution_count": null,
   "metadata": {},
   "outputs": [],
   "source": [
    "# 위의 방식은 정규식 자체가 그룹화 되지않아서 \n",
    "# 세부 정보를 취할수가 없다 그룹화를 이용하면 \n",
    "# 상세 정보를 그룹별로 취할수가 있어서 데이터를 확득하기 용이하다."
   ]
  },
  {
   "cell_type": "code",
   "execution_count": 133,
   "metadata": {},
   "outputs": [],
   "source": [
    "# 그룹화하기 \n",
    "p = re.compile(r'(\\w+)\\s+(\\d+[-]\\d+[-]\\d+)')\n",
    "m = p.search('부산역 010-1234-5268 abcd')"
   ]
  },
  {
   "cell_type": "code",
   "execution_count": 137,
   "metadata": {},
   "outputs": [
    {
     "data": {
      "text/plain": [
       "(('부산역', '010-1234-5268'), '부산역', '010-1234-5268')"
      ]
     },
     "execution_count": 137,
     "metadata": {},
     "output_type": "execute_result"
    }
   ],
   "source": [
    "m.groups(),m.group(1),m.group(2)"
   ]
  },
  {
   "cell_type": "code",
   "execution_count": 151,
   "metadata": {},
   "outputs": [
    {
     "name": "stdout",
     "output_type": "stream",
     "text": [
      "부산역\n",
      "010-1234-5268\n",
      "010\n",
      "1234\n",
      "5268\n"
     ]
    }
   ],
   "source": [
    "# 연속수 => range \n",
    "# 반복한다 m.groups의 길이 +1 만큼 \n",
    "# 출력한다 m.group(n)\n",
    "for n in range(1, len(m.groups())+1):\n",
    "    #print(n)\n",
    "    print(m.group(n))"
   ]
  },
  {
   "cell_type": "code",
   "execution_count": null,
   "metadata": {},
   "outputs": [],
   "source": [
    "# 그룹화하기 02\n",
    "p = re.compile(r'(\\w+)\\s+((\\d+)[-](\\d+)[-](\\d+))')\n",
    "m = p.search('부산역 010-1234-5268')\n",
    "\n",
    "# 전화번호 상세정보가 그룹화 되어있지 않다.\n",
    "# 그룹안에 그룹화 처리를 하면 자동 분류가 된다. "
   ]
  },
  {
   "cell_type": "code",
   "execution_count": 152,
   "metadata": {},
   "outputs": [
    {
     "name": "stdout",
     "output_type": "stream",
     "text": [
      "부산역\n",
      "010-1234-5268\n",
      "010\n",
      "1234\n",
      "5268\n"
     ]
    }
   ],
   "source": [
    "for n in range(1, len(m.groups())+1):\n",
    "    #print(n)\n",
    "    print(m.group(n))"
   ]
  },
  {
   "cell_type": "markdown",
   "metadata": {},
   "source": [
    "#### 그룹핑된 문자열의 재참조 \n",
    "    - 그룹핑 => 지칭하는 표시 (\\숫자:\\1\\2\\3)\n",
    "        - 첫번째 그룹 \n",
    "        - 두번째 그룹 \n",
    "        - 세번째 그룹"
   ]
  },
  {
   "cell_type": "code",
   "execution_count": null,
   "metadata": {},
   "outputs": [],
   "source": [
    "# 단독된 단어 덩어리 \\b"
   ]
  },
  {
   "cell_type": "code",
   "execution_count": 159,
   "metadata": {},
   "outputs": [],
   "source": [
    "p = re.compile(r'(\\b\\w+)\\s+\\1') \n",
    "m = p.search('python numpy pandas pandas scipy tensoeflow')"
   ]
  },
  {
   "cell_type": "code",
   "execution_count": 160,
   "metadata": {},
   "outputs": [
    {
     "data": {
      "text/plain": [
       "'pandas pandas'"
      ]
     },
     "execution_count": 160,
     "metadata": {},
     "output_type": "execute_result"
    }
   ],
   "source": [
    "m.group()"
   ]
  },
  {
   "cell_type": "code",
   "execution_count": 161,
   "metadata": {},
   "outputs": [
    {
     "data": {
      "text/plain": [
       "('pandas',)"
      ]
     },
     "execution_count": 161,
     "metadata": {},
     "output_type": "execute_result"
    }
   ],
   "source": [
    "m.groups()"
   ]
  },
  {
   "cell_type": "code",
   "execution_count": 165,
   "metadata": {},
   "outputs": [],
   "source": [
    "# 정규식 참조는 정규식 형태도 일치하면서, 값도 일치경우"
   ]
  },
  {
   "cell_type": "code",
   "execution_count": 166,
   "metadata": {},
   "outputs": [],
   "source": [
    "p = re.compile(r'(\\b\\w+)\\s+\\1') \n",
    "m = p.search('python numpy pandas pandas pandas pandas')"
   ]
  },
  {
   "cell_type": "code",
   "execution_count": 163,
   "metadata": {},
   "outputs": [
    {
     "data": {
      "text/plain": [
       "'pandas pandas'"
      ]
     },
     "execution_count": 163,
     "metadata": {},
     "output_type": "execute_result"
    }
   ],
   "source": [
    "m.group()"
   ]
  },
  {
   "cell_type": "code",
   "execution_count": 164,
   "metadata": {},
   "outputs": [
    {
     "data": {
      "text/plain": [
       "('pandas',)"
      ]
     },
     "execution_count": 164,
     "metadata": {},
     "output_type": "execute_result"
    }
   ],
   "source": [
    "m.groups()"
   ]
  },
  {
   "cell_type": "markdown",
   "metadata": {},
   "source": [
    "#### 그룹핑된 문자열 = > 네이밍 처리  \n",
    "\n",
    "    - 이름 짓는 규칙 \n",
    "        - ?P<이름>정규식\n",
    "    - 자기참조 \n",
    "        - (?P = 이름)"
   ]
  },
  {
   "cell_type": "code",
   "execution_count": 175,
   "metadata": {},
   "outputs": [],
   "source": [
    "p = re.compile(r'(?P<Name>\\w+)\\s+((\\d+)[-](\\d+)[-](\\d+))')\n",
    "m = p.search('부산역 010-1234-5268')"
   ]
  },
  {
   "cell_type": "code",
   "execution_count": 176,
   "metadata": {},
   "outputs": [
    {
     "data": {
      "text/plain": [
       "'부산역'"
      ]
     },
     "execution_count": 176,
     "metadata": {},
     "output_type": "execute_result"
    }
   ],
   "source": [
    "m.group(1)"
   ]
  },
  {
   "cell_type": "code",
   "execution_count": 177,
   "metadata": {},
   "outputs": [
    {
     "data": {
      "text/plain": [
       "'부산역'"
      ]
     },
     "execution_count": 177,
     "metadata": {},
     "output_type": "execute_result"
    }
   ],
   "source": [
    "# 이름을 부여하면 순서를 몰라도 된다 \n",
    "m.group('Name')"
   ]
  },
  {
   "cell_type": "markdown",
   "metadata": {},
   "source": [
    "#### 자기 참조를 했는데 이름이 있다"
   ]
  },
  {
   "cell_type": "code",
   "execution_count": 180,
   "metadata": {},
   "outputs": [],
   "source": [
    "# 자기참조 그룹의 이름으로 자기참조를 수행하는 방법 \n",
    "# (?P = 이름)\n",
    "p = re.compile(r'(?P<JH>\\b\\w+)\\s+(?P=JH)') \n",
    "m = p.search('python numpy pandas pandas scipy tensoeflow')"
   ]
  },
  {
   "cell_type": "code",
   "execution_count": 181,
   "metadata": {},
   "outputs": [
    {
     "data": {
      "text/plain": [
       "<_sre.SRE_Match object; span=(13, 26), match='pandas pandas'>"
      ]
     },
     "execution_count": 181,
     "metadata": {},
     "output_type": "execute_result"
    }
   ],
   "source": [
    "m"
   ]
  },
  {
   "cell_type": "code",
   "execution_count": null,
   "metadata": {},
   "outputs": [],
   "source": [
    "# 나머지는 목요일에 ... "
   ]
  },
  {
   "cell_type": "code",
   "execution_count": null,
   "metadata": {},
   "outputs": [],
   "source": []
  }
 ],
 "metadata": {
  "kernelspec": {
   "display_name": "Python 3",
   "language": "python",
   "name": "python3"
  },
  "language_info": {
   "codemirror_mode": {
    "name": "ipython",
    "version": 3
   },
   "file_extension": ".py",
   "mimetype": "text/x-python",
   "name": "python",
   "nbconvert_exporter": "python",
   "pygments_lexer": "ipython3",
   "version": "3.6.5"
  }
 },
 "nbformat": 4,
 "nbformat_minor": 2
}
