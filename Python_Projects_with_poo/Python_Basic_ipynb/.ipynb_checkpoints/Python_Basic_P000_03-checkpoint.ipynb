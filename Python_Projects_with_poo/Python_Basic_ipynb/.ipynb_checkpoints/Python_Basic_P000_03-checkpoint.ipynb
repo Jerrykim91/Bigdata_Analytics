{
 "cells": [
  {
   "cell_type": "markdown",
   "metadata": {},
   "source": [
    "# **06. 함수**     "
   ]
  },
  {
   "cell_type": "markdown",
   "metadata": {},
   "source": [
    "## 함수\n",
    "    \n",
    "- 종류     \n",
    "    - 커스텀함수(사용자정의함수)    \n",
    "        - 개발자의 필요에 의해 정의된 함수  \n",
    "\n",
    "    - 내장함수   \n",
    "        - 별도의 추가 코드 없이 바로 사용가능한 함수   \n",
    "        - type(), len(), str(), list(), ....   \n",
    "        - 파이썬이 설치되어 있으면 바로 사용이 가능(전역적인)    \n",
    "\n",
    "    - 외장함수 (라이브러리상에 존재하는 함수)    \n",
    "        - 별도의 모듈을 코드에 추가하고 나서 모듈을 통해 사용가능한 함수 (소속.함수명())   \n",
    "        - import time   \n",
    "        - time.sleep(1)   \n",
    "\n",
    "    - 람다함수      \n",
    "        - 가장 빠른 함수   \n",
    "        - 수행문이 1개이다    \n",
    "        - 특정 함수의 인자로 사용, 휘발성, 코드가 지나가면 사라진다    \n",
    "        - 연속 데이터 타입들의 맴버들을 하나씩 건들면서 뭔가 작업을 하고 대체, 걸러낼때 주로 사용   \n",
    "        - 대체 : 파이썬 내장함수 map(), DataFrame의 apply()   \n",
    "        - 필터링 :파이썬 내장함수 filter(), DataFrame의 apply()   \n",
    "        - lambda x:x+1   \n",
    "\n",
    "    - 클로저    \n",
    "        - 함수 안에 함수 있다    \n",
    "\n",
    "- 프로그램   \n",
    "    - 함수 지향적 프로그램    \n",
    "    \n",
    "<br>\n",
    "\n",
    "- 특징    \n",
    "    - 함수 본질, 장점    \n",
    "        - 재활용성을 높여서 코드를 다이어트 하고, 품질을높인다    \n",
    "        - 생산성이 향상 => 빠르게 제작 => 기업은 수익 증가확률   \n",
    "        - 다음 프로젝트때는 기존 구축된 함수 모듈이 존재하므로   \n",
    "        - 그만큰 더 생산성 향상   \n",
    "        - 반복된 코드를 함수로 만들어서 사용성을 높인다, 복잡성을 줄인다. 유지보수를 용이하게 구현   \n",
    "        - 입력 대비 출력이라는 기본 기능을 수행   \n",
    "    - 스타일\n",
    "        - 코드중에 반복되는 구간이 있으면->함수\n",
    "        - 로직을 구현 => 일반화 연습 => 함수화\n",
    "    - 용어:C계열:함수, Java계열 : 메소드"
   ]
  },
  {
   "cell_type": "markdown",
   "metadata": {},
   "source": [
    "### 1. 사용자정의함수(커스텀함수)\n",
    "\n",
    "``` py\n",
    "- 기본형태\n",
    "- [] 생략가능하다는 표현  \n",
    "\n",
    "def 함수명( [인자(매개변수)명, ...] ):  \n",
    "    statements ...  \n",
    "    [return [값,... ]] \n",
    "    \n",
    "```"
   ]
  },
  {
   "cell_type": "markdown",
   "metadata": {},
   "source": [
    "#### 1-1 기본 형"
   ]
  },
  {
   "cell_type": "code",
   "execution_count": 1,
   "metadata": {},
   "outputs": [],
   "source": [
    "# 함수 ------------------------------------------\n",
    "# 기본이 타입추론 => 그래서 타입은 아무것도 안씀 "
   ]
  },
  {
   "cell_type": "code",
   "execution_count": 2,
   "metadata": {},
   "outputs": [],
   "source": [
    "# 문제 =================\n",
    "# 더하기 함수 \n",
    "# 함수 명 sum \n",
    "# 입력 : x, y\n",
    "# 출력 : 입력 값을 더한 결과 "
   ]
  },
  {
   "cell_type": "code",
   "execution_count": 3,
   "metadata": {},
   "outputs": [],
   "source": [
    "x = 0 \n",
    "y = 0 \n",
    "def sum (x, y): \n",
    "    j = x + y\n",
    "    return j "
   ]
  },
  {
   "cell_type": "code",
   "execution_count": 4,
   "metadata": {},
   "outputs": [],
   "source": [
    "# a = input()\n",
    "# b = input()\n",
    "# def sum(a, b):\n",
    "#     j = int(a)+int(b)\n",
    "#     return j"
   ]
  },
  {
   "cell_type": "code",
   "execution_count": 5,
   "metadata": {
    "scrolled": true
   },
   "outputs": [],
   "source": [
    "# sum(a,b)"
   ]
  },
  {
   "cell_type": "code",
   "execution_count": 6,
   "metadata": {},
   "outputs": [],
   "source": [
    "# 간단하게\n",
    "def sum (x, y): \n",
    "    return  x + y \n",
    "\n",
    "# 함수의 사용은 함수의 호출에 의해 진행 \n",
    "# 호출 => 함수명( 인자값 )\n",
    "# call by value : 호출하고 결과를 get"
   ]
  },
  {
   "cell_type": "code",
   "execution_count": 7,
   "metadata": {},
   "outputs": [
    {
     "data": {
      "text/plain": [
       "3"
      ]
     },
     "execution_count": 7,
     "metadata": {},
     "output_type": "execute_result"
    }
   ],
   "source": [
    "result = sum( 1, 2 )\n",
    "result"
   ]
  },
  {
   "cell_type": "code",
   "execution_count": 8,
   "metadata": {
    "scrolled": true
   },
   "outputs": [
    {
     "data": {
      "text/plain": [
       "3"
      ]
     },
     "execution_count": 8,
     "metadata": {},
     "output_type": "execute_result"
    }
   ],
   "source": [
    "sum(1,2)\n",
    "# ========================"
   ]
  },
  {
   "cell_type": "code",
   "execution_count": 9,
   "metadata": {},
   "outputs": [],
   "source": [
    "def sum2 (x, y): \n",
    "    print(x + y)"
   ]
  },
  {
   "cell_type": "code",
   "execution_count": 10,
   "metadata": {
    "scrolled": true
   },
   "outputs": [
    {
     "name": "stdout",
     "output_type": "stream",
     "text": [
      "3\n",
      "None\n"
     ]
    }
   ],
   "source": [
    "result = sum2(1, 2)\n",
    "print( result )\n",
    "# print( result ) : 일은 하고있지만 리턴은 안하고 있는것 "
   ]
  },
  {
   "cell_type": "code",
   "execution_count": 11,
   "metadata": {
    "scrolled": true
   },
   "outputs": [
    {
     "name": "stdout",
     "output_type": "stream",
     "text": [
      "None\n"
     ]
    },
    {
     "data": {
      "text/plain": [
       "(None, [1, 2, 3, 5, 5])"
      ]
     },
     "execution_count": 11,
     "metadata": {},
     "output_type": "execute_result"
    }
   ],
   "source": [
    "# 함수 호출의 결과 => None\n",
    "# 내부에서 return 생략 \n",
    "# 즉, 반환작업을 하지 않는다. \n",
    "a = [3,5,2,5,1]\n",
    "a.sort()\n",
    "print(a.sort()), a"
   ]
  },
  {
   "cell_type": "code",
   "execution_count": 12,
   "metadata": {},
   "outputs": [
    {
     "data": {
      "text/plain": [
       "[1, 2, 3, 5, 5]"
      ]
     },
     "execution_count": 12,
     "metadata": {},
     "output_type": "execute_result"
    }
   ],
   "source": [
    "a"
   ]
  },
  {
   "cell_type": "markdown",
   "metadata": {},
   "source": [
    "#### 1-2. 가변 인자( arguments, params, parameter )"
   ]
  },
  {
   "cell_type": "code",
   "execution_count": 13,
   "metadata": {},
   "outputs": [],
   "source": [
    "# *a : 포인터 a 라고 부름\n",
    "def sum3( *a ):\n",
    "    print( type(a) )\n",
    "    # 누적합을 리턴하시오, 인자를 모드 더해서 리턴"
   ]
  },
  {
   "cell_type": "code",
   "execution_count": 14,
   "metadata": {
    "scrolled": true
   },
   "outputs": [
    {
     "name": "stdout",
     "output_type": "stream",
     "text": [
      "<class 'tuple'>\n",
      "<class 'tuple'>\n",
      "<class 'tuple'>\n"
     ]
    }
   ],
   "source": [
    "sum3( 1, 2 )\n",
    "sum3( 1, 2, 3 )\n",
    "sum3( 1, 2, 3, 4)"
   ]
  },
  {
   "cell_type": "code",
   "execution_count": 15,
   "metadata": {},
   "outputs": [],
   "source": [
    "# *a : 포인터 a 라고 부름 => 라이브러리 만들 때 사용 but 성향에 따라 다름 \n",
    "def sum3( *a ):\n",
    "    # a 는 튜플로 가변인자가 들어온다. \n",
    "    #print( type(a) )\n",
    "    # 누적합을 리턴하시오, 인자를 모드 더해서 리턴\n",
    "    result = 0\n",
    "    for i in a :\n",
    "        result += i \n",
    "    # 반환 \n",
    "    return result"
   ]
  },
  {
   "cell_type": "markdown",
   "metadata": {},
   "source": [
    "#### 1-3 리턴값이 여러개"
   ]
  },
  {
   "cell_type": "code",
   "execution_count": 16,
   "metadata": {},
   "outputs": [],
   "source": [
    "# *a : 포인터 a 라고 부름 => 라이브러리 만들 때 사용 but 성향에 따라 다름 \n",
    "def sum4( *a ):\n",
    "    result = 0\n",
    "    tmp    = 1\n",
    "    for i in a :\n",
    "        result = result +i\n",
    "        tmp *= i\n",
    "    # 반환 => 여러개일 때 그냥 나열 \n",
    "    return result, tmp"
   ]
  },
  {
   "cell_type": "code",
   "execution_count": 17,
   "metadata": {},
   "outputs": [],
   "source": [
    "# 튜플로 리턴되고, n개의 변수로 각각 받을 수있다\n",
    "a, b = sum4(1,2,3,4)"
   ]
  },
  {
   "cell_type": "code",
   "execution_count": 18,
   "metadata": {},
   "outputs": [
    {
     "data": {
      "text/plain": [
       "24"
      ]
     },
     "execution_count": 18,
     "metadata": {},
     "output_type": "execute_result"
    }
   ],
   "source": [
    "b"
   ]
  },
  {
   "cell_type": "markdown",
   "metadata": {},
   "source": [
    "#### 1-4 함수의 인자 초기값 부여 \n",
    "\n",
    "- 함수의 인자를 일일이 다 채우지 않아도 사용 가능\n",
    "- 기본값(초기값)을 부여하여 함수의 사용에 유연성, 인자의 명확성등을 부여할수 있다"
   ]
  },
  {
   "cell_type": "code",
   "execution_count": 19,
   "metadata": {},
   "outputs": [],
   "source": [
    "def setHuman( name , age=50 , weight =100 ): \n",
    "    # 유동 변수 => name \n",
    "    # 기본값 : age=50 , weight =100\n",
    "    print(' %s %s %s '% (name, age, weight))"
   ]
  },
  {
   "cell_type": "code",
   "execution_count": 20,
   "metadata": {},
   "outputs": [
    {
     "name": "stdout",
     "output_type": "stream",
     "text": [
      " 부산대 50 100 \n"
     ]
    }
   ],
   "source": [
    "# 기본값이 없는 인자는 반드시 데이터를 전달해야한다\n",
    "setHuman('부산대')"
   ]
  },
  {
   "cell_type": "code",
   "execution_count": 21,
   "metadata": {},
   "outputs": [
    {
     "name": "stdout",
     "output_type": "stream",
     "text": [
      " 부산대 50 60 \n"
     ]
    }
   ],
   "source": [
    "# 첫번째 인자와 세번째 인자를 부여하고 싶다\n",
    "# 변경하고 싶은 인자를 직접 지정해서 부여\n",
    "setHuman( '부산대', weight=60 )"
   ]
  },
  {
   "cell_type": "code",
   "execution_count": 22,
   "metadata": {},
   "outputs": [
    {
     "name": "stdout",
     "output_type": "stream",
     "text": [
      " 부산대1 50 60 \n"
     ]
    }
   ],
   "source": [
    "setHuman( name='부산대1', weight=60 )"
   ]
  },
  {
   "cell_type": "code",
   "execution_count": 23,
   "metadata": {},
   "outputs": [
    {
     "name": "stdout",
     "output_type": "stream",
     "text": [
      " 부산대1 50 60 \n"
     ]
    }
   ],
   "source": [
    "setHuman( weight=60, name='부산대1' )"
   ]
  },
  {
   "cell_type": "code",
   "execution_count": 24,
   "metadata": {},
   "outputs": [
    {
     "ename": "SyntaxError",
     "evalue": "non-default argument follows default argument (<ipython-input-24-8cb2b003fad2>, line 3)",
     "output_type": "error",
     "traceback": [
      "\u001b[1;36m  File \u001b[1;32m\"<ipython-input-24-8cb2b003fad2>\"\u001b[1;36m, line \u001b[1;32m3\u001b[0m\n\u001b[1;33m    def setHuman2( age=50, weight=100, name ):\u001b[0m\n\u001b[1;37m                  ^\u001b[0m\n\u001b[1;31mSyntaxError\u001b[0m\u001b[1;31m:\u001b[0m non-default argument follows default argument\n"
     ]
    }
   ],
   "source": [
    "# 초기값이 있는 변수를 앞에두고, \n",
    "# 초기값 없는 매개변수를 뒤로 배치\n",
    "\n",
    "def setHuman2( age=50, weight=100, name ):\n",
    "    print( 'name=%s age=%s w=%s' % (name, age, \n",
    "                                    weight) )"
   ]
  },
  {
   "cell_type": "code",
   "execution_count": 25,
   "metadata": {},
   "outputs": [],
   "source": [
    "def setHuman3( age=50, weight=100, name=None ):\n",
    "    print( 'name=%s age=%s w=%s' % (name, age, \n",
    "                                    weight) )"
   ]
  },
  {
   "cell_type": "markdown",
   "metadata": {},
   "source": [
    "### 2. 내장함수\n",
    "\n",
    "- 함수를 사용하는데 별다른 제약이 없다\n",
    "    - type(), len(), int(), str(), list(), dict()\n",
    "    - tuple(), print(), set(), enumerate() ..."
   ]
  },
  {
   "cell_type": "markdown",
   "metadata": {},
   "source": [
    "#### 2-1. 파일 \n",
    "- 파일, 네트워크, 데이터베이스 등등 => I/O 작업\n",
    "    - 프로그램 밖에 있는 리소스와 연동할때 \n",
    "- 예외 상황 발생 **\n",
    "- 반드시 작업이 끝나면 반드시 닫아야 한다. "
   ]
  },
  {
   "cell_type": "code",
   "execution_count": 26,
   "metadata": {},
   "outputs": [],
   "source": [
    "# 파일이 없는데 내용을 쓰려고 하면 파일을 만든다 \n",
    "# => 어떤 언어든 운영체제나 동일 \n",
    "# w: 쓰기,  r: 읽기\n",
    "# b: 바이너리(이미지,영상,사운드,문서파일(hpw,..)) \n",
    "# 1. 파일 오픈( 쓰기모드 )\n",
    "f = open('text.txt','w')\n",
    "# 2. 파일에 기록\n",
    "f.write('가나다abcABC123!@#')\n",
    "# 3. 파일 닫기\n",
    "f.close()"
   ]
  },
  {
   "cell_type": "code",
   "execution_count": 27,
   "metadata": {},
   "outputs": [
    {
     "ename": "FileNotFoundError",
     "evalue": "[Errno 2] No such file or directory: 'test.txt'",
     "output_type": "error",
     "traceback": [
      "\u001b[1;31m---------------------------------------------------------------------------\u001b[0m",
      "\u001b[1;31mFileNotFoundError\u001b[0m                         Traceback (most recent call last)",
      "\u001b[1;32m<ipython-input-27-7ed3a58f5bb2>\u001b[0m in \u001b[0;36m<module>\u001b[1;34m()\u001b[0m\n\u001b[1;32m----> 1\u001b[1;33m \u001b[0mf\u001b[0m \u001b[1;33m=\u001b[0m \u001b[0mopen\u001b[0m\u001b[1;33m(\u001b[0m\u001b[1;34m'test.txt'\u001b[0m\u001b[1;33m,\u001b[0m\u001b[1;34m'r'\u001b[0m\u001b[1;33m)\u001b[0m\u001b[1;33m\u001b[0m\u001b[0m\n\u001b[0m\u001b[0;32m      2\u001b[0m \u001b[0mprint\u001b[0m\u001b[1;33m(\u001b[0m \u001b[0mf\u001b[0m\u001b[1;33m.\u001b[0m\u001b[0mread\u001b[0m\u001b[1;33m(\u001b[0m\u001b[1;33m)\u001b[0m\u001b[1;33m)\u001b[0m\u001b[1;33m\u001b[0m\u001b[0m\n\u001b[0;32m      3\u001b[0m \u001b[0mf\u001b[0m\u001b[1;33m.\u001b[0m\u001b[0mclose\u001b[0m\u001b[1;33m(\u001b[0m\u001b[1;33m)\u001b[0m\u001b[1;33m\u001b[0m\u001b[0m\n",
      "\u001b[1;31mFileNotFoundError\u001b[0m: [Errno 2] No such file or directory: 'test.txt'"
     ]
    }
   ],
   "source": [
    "f = open('test.txt','r')\n",
    "print( f.read())\n",
    "f.close()"
   ]
  },
  {
   "cell_type": "code",
   "execution_count": 28,
   "metadata": {},
   "outputs": [
    {
     "ename": "FileNotFoundError",
     "evalue": "[Errno 2] No such file or directory: 'test1.txt'",
     "output_type": "error",
     "traceback": [
      "\u001b[1;31m---------------------------------------------------------------------------\u001b[0m",
      "\u001b[1;31mFileNotFoundError\u001b[0m                         Traceback (most recent call last)",
      "\u001b[1;32m<ipython-input-28-0dc47c864b54>\u001b[0m in \u001b[0;36m<module>\u001b[1;34m()\u001b[0m\n\u001b[0;32m      2\u001b[0m \u001b[1;31m# with문~\u001b[0m\u001b[1;33m\u001b[0m\u001b[1;33m\u001b[0m\u001b[0m\n\u001b[0;32m      3\u001b[0m \u001b[1;31m# 원본(함수, 모듈..) as 별칭\u001b[0m\u001b[1;33m\u001b[0m\u001b[1;33m\u001b[0m\u001b[0m\n\u001b[1;32m----> 4\u001b[1;33m \u001b[1;32mwith\u001b[0m \u001b[0mopen\u001b[0m\u001b[1;33m(\u001b[0m\u001b[1;34m'test1.txt'\u001b[0m\u001b[1;33m,\u001b[0m \u001b[1;34m'r'\u001b[0m \u001b[1;33m)\u001b[0m \u001b[1;32mas\u001b[0m \u001b[0mf\u001b[0m \u001b[1;33m:\u001b[0m\u001b[1;33m\u001b[0m\u001b[0m\n\u001b[0m\u001b[0;32m      5\u001b[0m     \u001b[0mprint\u001b[0m\u001b[1;33m(\u001b[0m\u001b[0mf\u001b[0m\u001b[1;33m.\u001b[0m\u001b[0mread\u001b[0m\u001b[1;33m(\u001b[0m\u001b[1;33m)\u001b[0m\u001b[1;33m)\u001b[0m\u001b[1;33m\u001b[0m\u001b[0m\n\u001b[0;32m      6\u001b[0m \u001b[1;33m\u001b[0m\u001b[0m\n",
      "\u001b[1;31mFileNotFoundError\u001b[0m: [Errno 2] No such file or directory: 'test1.txt'"
     ]
    }
   ],
   "source": [
    "# 모든 I/O에서 자동으로 닫게 처리해 주는 코드\n",
    "# with문~\n",
    "# 원본(함수, 모듈..) as 별칭\n",
    "with open('test1.txt', 'r' ) as f :\n",
    "    print(f.read())\n",
    "    \n",
    "# with문이 끝나면 자동 => close() 처리 \n",
    "# f.close()"
   ]
  },
  {
   "cell_type": "markdown",
   "metadata": {},
   "source": [
    "#### 2.2 데이터처리 \n",
    "    - map()\n",
    "    - filter()"
   ]
  },
  {
   "cell_type": "code",
   "execution_count": 29,
   "metadata": {},
   "outputs": [],
   "source": [
    "data = [ 1,2,3,4,5,6,7,8,9 ]"
   ]
  },
  {
   "cell_type": "markdown",
   "metadata": {},
   "source": [
    "####  문제 \n",
    "** > data의 구성요소들 각각의 값을 2배로 증가 시켜라**"
   ]
  },
  {
   "cell_type": "code",
   "execution_count": 30,
   "metadata": {},
   "outputs": [
    {
     "data": {
      "text/plain": [
       "[1, 2, 3, 4, 5, 6, 7, 8, 9, 1, 2, 3, 4, 5, 6, 7, 8, 9]"
      ]
     },
     "execution_count": 30,
     "metadata": {},
     "output_type": "execute_result"
    }
   ],
   "source": [
    "data *2 \n",
    "# 의도한바는 아님 "
   ]
  },
  {
   "cell_type": "code",
   "execution_count": 31,
   "metadata": {},
   "outputs": [],
   "source": [
    "# 구성을 하나씩 빼서 2배해서 다시 집어넣는다 \n",
    "def Double(x):\n",
    "    return x*2"
   ]
  },
  {
   "cell_type": "code",
   "execution_count": 32,
   "metadata": {
    "scrolled": true
   },
   "outputs": [
    {
     "data": {
      "text/plain": [
       "[2, 4, 6, 8, 10, 12, 14, 16, 18]"
      ]
     },
     "execution_count": 32,
     "metadata": {},
     "output_type": "execute_result"
    }
   ],
   "source": [
    "list(map(Double, data))"
   ]
  },
  {
   "cell_type": "code",
   "execution_count": 33,
   "metadata": {},
   "outputs": [
    {
     "data": {
      "text/plain": [
       "[2, 4, 6, 8, 10, 12, 14, 16, 18]"
      ]
     },
     "execution_count": 33,
     "metadata": {},
     "output_type": "execute_result"
    }
   ],
   "source": [
    "# 람다함수, 함수내에서 1회성으로 사용\n",
    "# 속도면에서는 가장 빠르다 \n",
    "# 해당 라인의 코드가 종료되면 메모리 해제(휘발성)\n",
    "# 단, 수행문이 한줄일 경우만 가능\n",
    "list( map( lambda x:x*2 , data ) )"
   ]
  },
  {
   "cell_type": "code",
   "execution_count": 36,
   "metadata": {},
   "outputs": [
    {
     "data": {
      "text/plain": [
       "[6, 7, 8, 9]"
      ]
     },
     "execution_count": 36,
     "metadata": {},
     "output_type": "execute_result"
    }
   ],
   "source": [
    "# 구성을 하나씩 빼서 2배해서 다시 집어넣는다 \n",
    "def Double(x):\n",
    "    return x > 5\n",
    "# 걸러낸다 \n",
    "list( filter( Double , data ) )"
   ]
  },
  {
   "cell_type": "code",
   "execution_count": 37,
   "metadata": {},
   "outputs": [
    {
     "data": {
      "text/plain": [
       "[6, 7, 8, 9]"
      ]
     },
     "execution_count": 37,
     "metadata": {},
     "output_type": "execute_result"
    }
   ],
   "source": [
    "list( filter( lambda x:x>5 , data ) )"
   ]
  },
  {
   "cell_type": "markdown",
   "metadata": {},
   "source": [
    "### 4. 외장함수 (라이브러리상에 존재하는 함수)\n",
    "\n",
    "- 모듈을 가져오고, 모듈을 통해서 함수를 사용하는형태\n",
    "- ex)\n",
    "    - time, random\n",
    "    - pickle, os,..\n",
    "    "
   ]
  },
  {
   "cell_type": "code",
   "execution_count": 38,
   "metadata": {},
   "outputs": [
    {
     "data": {
      "text/plain": [
       "<module 'pickle' from 'C:\\\\Users\\\\admin\\\\Anaconda3\\\\lib\\\\pickle.py'>"
      ]
     },
     "execution_count": 38,
     "metadata": {},
     "output_type": "execute_result"
    }
   ],
   "source": [
    "# pickle : 자료구조를 그대로 저장, 로드\n",
    "import pickle as p\n",
    "p"
   ]
  },
  {
   "cell_type": "code",
   "execution_count": 39,
   "metadata": {},
   "outputs": [
    {
     "ename": "NameError",
     "evalue": "name 'pickle' is not defined",
     "output_type": "error",
     "traceback": [
      "\u001b[1;31m---------------------------------------------------------------------------\u001b[0m",
      "\u001b[1;31mNameError\u001b[0m                                 Traceback (most recent call last)",
      "\u001b[1;32m<ipython-input-39-98cb58fdf8d3>\u001b[0m in \u001b[0;36m<module>\u001b[1;34m()\u001b[0m\n\u001b[0;32m      1\u001b[0m \u001b[1;31m# 여기서부터는 모르는 모듈이다-> 이름이 p로 바겻다\u001b[0m\u001b[1;33m\u001b[0m\u001b[1;33m\u001b[0m\u001b[0m\n\u001b[1;32m----> 2\u001b[1;33m \u001b[0mpickle\u001b[0m\u001b[1;33m\u001b[0m\u001b[0m\n\u001b[0m\u001b[0;32m      3\u001b[0m \u001b[1;31m# 모듈에서 한번더 설명함\u001b[0m\u001b[1;33m\u001b[0m\u001b[1;33m\u001b[0m\u001b[0m\n",
      "\u001b[1;31mNameError\u001b[0m: name 'pickle' is not defined"
     ]
    }
   ],
   "source": [
    "# 여기서부터는 모르는 모듈이다-> 이름이 p로 바겻다\n",
    "pickle\n",
    "# 모듈에서 한번더 설명함 "
   ]
  },
  {
   "cell_type": "code",
   "execution_count": 40,
   "metadata": {},
   "outputs": [],
   "source": [
    "# 더미 데이터\n",
    "data = {\n",
    "    1:[1,2,3,4],\n",
    "    2:{'name':'부산대'},\n",
    "    3:(5,6,7,8)\n",
    "}"
   ]
  },
  {
   "cell_type": "markdown",
   "metadata": {},
   "source": [
    "**중요****"
   ]
  },
  {
   "cell_type": "code",
   "execution_count": 41,
   "metadata": {},
   "outputs": [],
   "source": [
    "# 기록\n",
    "# 바이너리 쓰기 모드로 파일 오픈\n",
    "with open('data.p', 'wb') as f:\n",
    "    # 덤프 => 파일에 데이터를 기록한다\n",
    "    p.dump( data, f, p.HIGHEST_PROTOCOL)"
   ]
  },
  {
   "cell_type": "code",
   "execution_count": 42,
   "metadata": {},
   "outputs": [
    {
     "name": "stdout",
     "output_type": "stream",
     "text": [
      "{1: [1, 2, 3, 4], 2: {'name': '부산대'}, 3: (5, 6, 7, 8)}\n"
     ]
    }
   ],
   "source": [
    "# 로드\n",
    "# 바이너리 읽기 모드로 파일 오픈\n",
    "with open('data.p', 'rb') as f:\n",
    "    print( p.load( f ) )"
   ]
  },
  {
   "cell_type": "code",
   "execution_count": 43,
   "metadata": {},
   "outputs": [],
   "source": [
    "import os"
   ]
  },
  {
   "cell_type": "code",
   "execution_count": 44,
   "metadata": {},
   "outputs": [
    {
     "data": {
      "text/plain": [
       "(False, True)"
      ]
     },
     "execution_count": 44,
     "metadata": {},
     "output_type": "execute_result"
    }
   ],
   "source": [
    "# a라는 파일이 존재하는가?\n",
    "os.path.exists('a.txt'),os.path.exists('data.p')"
   ]
  },
  {
   "cell_type": "code",
   "execution_count": 45,
   "metadata": {},
   "outputs": [
    {
     "data": {
      "text/plain": [
       "'C:\\\\PSU\\\\python_projects'"
      ]
     },
     "execution_count": 45,
     "metadata": {},
     "output_type": "execute_result"
    }
   ],
   "source": [
    "os.getcwd()"
   ]
  },
  {
   "cell_type": "code",
   "execution_count": 46,
   "metadata": {},
   "outputs": [],
   "source": [
    "# 폴더 만들기\n",
    "if not os.path.exists('/dumi'):\n",
    "    os.mkdir('dumi')"
   ]
  },
  {
   "cell_type": "code",
   "execution_count": 47,
   "metadata": {},
   "outputs": [],
   "source": [
    "os.chdir('dumi')"
   ]
  },
  {
   "cell_type": "code",
   "execution_count": 48,
   "metadata": {},
   "outputs": [],
   "source": [
    "if not os.path.exists('/dumi2'):\n",
    "    os.mkdir('dumi2')"
   ]
  },
  {
   "cell_type": "code",
   "execution_count": 49,
   "metadata": {},
   "outputs": [],
   "source": [
    "# 현재 위치에서 하나 위로 이동\n",
    "os.chdir('..')"
   ]
  },
  {
   "cell_type": "code",
   "execution_count": 50,
   "metadata": {},
   "outputs": [
    {
     "data": {
      "text/plain": [
       "['.ipynb_checkpoints',\n",
       " 'data.p',\n",
       " 'dumi',\n",
       " 'ExceptionHandling.py',\n",
       " 'Game01.py',\n",
       " 'Game02 copy.py',\n",
       " 'Game02.py',\n",
       " 'Game02_20191220.py',\n",
       " 'Game_Nocom.py',\n",
       " 'Game_Self.py',\n",
       " 'img',\n",
       " 'MyMath',\n",
       " 'Python_Basic_p00',\n",
       " 'Python_Basic_P000_01.ipynb',\n",
       " 'Python_Basic_P000_02.ipynb',\n",
       " 'Python_Basic_P000_03.ipynb',\n",
       " 'Python_Basic_P000_04.ipynb',\n",
       " 'Python_Basic_P000_05.ipynb',\n",
       " 'Python_Basic_P000_06.ipynb',\n",
       " 'Py_Basic00.py',\n",
       " 'Py_Test00.py',\n",
       " 'Py_Test01.py',\n",
       " 'Py_Test02.py',\n",
       " 'text.txt',\n",
       " '연습장.ipynb',\n",
       " '연습장02_2019.12.20.ipynb']"
      ]
     },
     "execution_count": 50,
     "metadata": {},
     "output_type": "execute_result"
    }
   ],
   "source": [
    "# 현재 위치의 파일리스트\n",
    "os.listdir( os.getcwd() )"
   ]
  },
  {
   "cell_type": "markdown",
   "metadata": {},
   "source": [
    "**중요****"
   ]
  },
  {
   "cell_type": "code",
   "execution_count": 51,
   "metadata": {},
   "outputs": [],
   "source": [
    "from glob import glob"
   ]
  },
  {
   "cell_type": "code",
   "execution_count": 52,
   "metadata": {},
   "outputs": [
    {
     "data": {
      "text/plain": [
       "[]"
      ]
     },
     "execution_count": 52,
     "metadata": {},
     "output_type": "execute_result"
    }
   ],
   "source": [
    "# 특정 경로에 특정 패턴으로 된 대상만 수집\n",
    "glob( os.getcwd() + '/P1*.ipynb')"
   ]
  },
  {
   "cell_type": "code",
   "execution_count": null,
   "metadata": {},
   "outputs": [],
   "source": []
  },
  {
   "cell_type": "markdown",
   "metadata": {},
   "source": [
    "### 4. 람다함수** \n",
    "\n",
    "- 내장함수 map(), filter()에서 살펴봣다\n",
    "- 람다함수, 함수내에서 1회성으로 사용\n",
    "- 속도면에서는 가장 빠르다 \n",
    "- 해당 라인의 코드가 종료되면 메모리 해제(휘발성)\n",
    "- 단, 수행문이 한줄일 경우만 가능"
   ]
  },
  {
   "cell_type": "markdown",
   "metadata": {},
   "source": [
    "- 재언급 \n",
    "\n",
    "```py\n",
    "# 람다함수, 함수내에서 1회성으로 사용\n",
    "# 속도면에서는 가장 빠르다 \n",
    "# 해당 라인의 코드가 종료되면 메모리 해제(휘발성)\n",
    "# 단, 수행문이 한줄일 경우만 가능\n",
    "list( map( lambda x:x*2 , data ) )\n",
    "\n",
    "```"
   ]
  },
  {
   "cell_type": "markdown",
   "metadata": {},
   "source": [
    "### 5. 클로저\n",
    "\n",
    "- 함수 안에 함수가 있다. \n",
    "- 함수 안에서 사용\n",
    "- 흔하지는 않다."
   ]
  },
  {
   "cell_type": "code",
   "execution_count": 53,
   "metadata": {},
   "outputs": [
    {
     "name": "stdout",
     "output_type": "stream",
     "text": [
      "1\n",
      "2\n",
      "3\n"
     ]
    }
   ],
   "source": [
    "def a():\n",
    "    print(1)\n",
    "    def b():\n",
    "        print(2)\n",
    "    b()\n",
    "    print(3)\n",
    "a()"
   ]
  },
  {
   "cell_type": "code",
   "execution_count": null,
   "metadata": {},
   "outputs": [],
   "source": []
  }
 ],
 "metadata": {
  "kernelspec": {
   "display_name": "Python 3",
   "language": "python",
   "name": "python3"
  },
  "language_info": {
   "codemirror_mode": {
    "name": "ipython",
    "version": 3
   },
   "file_extension": ".py",
   "mimetype": "text/x-python",
   "name": "python",
   "nbconvert_exporter": "python",
   "pygments_lexer": "ipython3",
   "version": "3.6.5"
  }
 },
 "nbformat": 4,
 "nbformat_minor": 2
}
