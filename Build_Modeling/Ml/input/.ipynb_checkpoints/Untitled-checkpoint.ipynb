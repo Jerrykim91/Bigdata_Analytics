{
 "cells": [
  {
   "cell_type": "code",
   "execution_count": 1,
   "metadata": {},
   "outputs": [],
   "source": [
    "# import\n",
    "import os, re , glob, json\n",
    "\n",
    "import pandas as pd\n",
    "import numpy as np\n",
    "\n",
    "import matplotlib.pyplot as plt \n",
    "%matplotlib inline\n",
    "\n",
    "from string import ascii_lowercase"
   ]
  },
  {
   "cell_type": "code",
   "execution_count": 3,
   "metadata": {},
   "outputs": [],
   "source": [
    "# 변수\n",
    "file_path = './input/'\n",
    "file_name = 'labels_freqs_data'\n",
    "full_path = file_path + file_name"
   ]
  },
  {
   "cell_type": "code",
   "execution_count": 2,
   "metadata": {},
   "outputs": [],
   "source": [
    "def try_load( name, option, encoding='utf-8'):\n",
    "    #  문자열 안나오게 하려했는데 => 변수로 받아들여서 실패 \n",
    "    # 그외엔 다 정상동작 \n",
    "    \n",
    "    file_path = './input/' + '{}.json'.format(name)\n",
    "    print(file_path)\n",
    "    try:\n",
    "        with open( file_path , option) as f:\n",
    "            if option == 'w' :\n",
    "                input_data = input('덤프시킬 데이터를 입력하세요')\n",
    "#                 print(input_data)\n",
    "                json.dump(input_data,f)\n",
    "                \n",
    "\n",
    "            elif option == 'r' :  \n",
    "                tmp = json.load(f)\n",
    "                print(tmp)\n",
    "                print('\\n길이 =', len(tmp)) \n",
    "                return tmp\n",
    "\n",
    "        print('정상동작')\n",
    "\n",
    "    except Exception as e:\n",
    "        print('에러발생', e )\n",
    "\n",
    "    return "
   ]
  },
  {
   "cell_type": "code",
   "execution_count": null,
   "metadata": {},
   "outputs": [],
   "source": []
  }
 ],
 "metadata": {
  "kernelspec": {
   "display_name": "Python 3",
   "language": "python",
   "name": "python3"
  },
  "language_info": {
   "codemirror_mode": {
    "name": "ipython",
    "version": 3
   },
   "file_extension": ".py",
   "mimetype": "text/x-python",
   "name": "python",
   "nbconvert_exporter": "python",
   "pygments_lexer": "ipython3",
   "version": "3.6.5"
  }
 },
 "nbformat": 4,
 "nbformat_minor": 2
}
