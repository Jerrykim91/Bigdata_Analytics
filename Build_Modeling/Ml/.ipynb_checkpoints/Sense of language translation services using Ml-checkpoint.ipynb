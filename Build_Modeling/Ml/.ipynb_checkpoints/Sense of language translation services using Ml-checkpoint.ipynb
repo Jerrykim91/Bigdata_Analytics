{
 "cells": [
  {
   "cell_type": "markdown",
   "metadata": {},
   "source": [
    "# 머신러닝을 이용한 번역서비스의 언어감지\n",
    "---"
   ]
  },
  {
   "cell_type": "markdown",
   "metadata": {},
   "source": [
    "\n",
    "## 1.연구목표 설정\n",
    "\n",
    "- 유사서비스 : 카카오번역, 파파고, 구글번역..\n",
    "- 언어 감지 하는 방법은 지도학습법을 사용하겟다\n",
    "  - 알파벳 (26:피쳐)의 빈도 -> en, fr, id, t..\n",
    "  - 독립변수의 빈도를 보고 레이블(정답,종속변수)를 판단하게 되는 형태 -> 분류(지도학습)\n",
    "  - 비영어권 제외, 알파벳 사용 국가 분류 총데이터도 제공된 자료만으로 사용(4개국가)\n",
    "  - 알고리즘의 업데이트 시점은 로그를 축적하여 1만건 누적되면 추가 학습후 갱신하는 방식으로 진행"
   ]
  },
  {
   "cell_type": "markdown",
   "metadata": {},
   "source": [
    "|step|단계명|수행내용|\n",
    "|:--:|--:|:--|\n",
    "|1|연구목표 설정|- 언어를 감지하는 웹서비스이다<br>- 머신러닝의 지도학습법의 분류 알고리즘을 이용하여 분류기를 구현하겠다<br>- 최적화 부분은 생략<br>- 정확도에 대한 정량적인 목표는 생략|\n",
    "|2|데이터 수집/확보|- 실전:위키피디아에서 텍스트를 웹스크래핑으로 수집하여 데이터를 확보<br>- 프로토타입구현:제공 데이터를 사용하겠다|\n",
    "|3|데이터 준비|- 전처리(데이터 원재료에서 아파벳을 빼고 모두 제거->정규식)<br>- 빈도 계산, 정규화<br>- 훈련용데이터와 학습용데이터를 75:25로 나눈다 |\n",
    "|4|데이터 분석|- 영어권 언어별로 알파벳의 출현(사용) 빈도가 다르다는 명제(논문,주장)을 근거를 증명<br>- 탐색적분석,  EDA를 이용하여 표현(막대차트, 선형차트)|\n",
    "|5|데이터 모델링 구축|- 알고리즘 선택<br>- 학습<br>- 예측<br>- 성능평가<br>- 모델덤프|\n",
    "|6|시스템 통합|- 웹서비스구축<br>- 모델덤프로드모듈구현<br>- 언어감지를 처리하는 모듈 구현<br>- 번역 요청 로그처리|"
   ]
  },
  {
   "cell_type": "markdown",
   "metadata": {},
   "source": [
    "## 2. 데이터 수집/확보\n",
    "- 실전:위키피디아에서 텍스트를 웹스크래핑으로 수집하여 데이터를 확보\n",
    "- 프로토타입구현:제공 데이터를 사용"
   ]
  },
  {
   "cell_type": "markdown",
   "metadata": {},
   "source": [
    "### 2.1 정규식\n",
    "[정규식기초_이동](https://github.com/Jerrykim91/Bigdata_Analytics/blob/master/Python_Projects_with_poo/Python_Basic_ipynb/Python_Basic_P000_06.ipynb)"
   ]
  },
  {
   "cell_type": "code",
   "execution_count": 1,
   "metadata": {},
   "outputs": [],
   "source": [
    "# 정규식 \n",
    "import re"
   ]
  },
  {
   "cell_type": "code",
   "execution_count": 2,
   "metadata": {},
   "outputs": [],
   "source": [
    "# 대상언어별로 준비 => 대량의 데이터를 확보 \n",
    "# 충분한 학습을 수행하기 위한 재료 "
   ]
  },
  {
   "cell_type": "markdown",
   "metadata": {},
   "source": [
    "---"
   ]
  },
  {
   "cell_type": "markdown",
   "metadata": {},
   "source": [
    "## 3. 데이터 준비\n",
    "\n",
    "####  제공된 데이터 사용 \n",
    "- 파일을 한번에 다읽기위해서 => 특정폴더 밑에서 특정패턴을 가진 파일 지정(목록화)\n",
    "    - 파일명 : 언어코드(나라코드)_넘버.txt\n",
    "\n",
    "\n",
    "#### 구상하기\n",
    "- 데이터를 읽고 데이터를분석 =>  알파벳의 빈도 계산 \n",
    "- 언어코드도 획득해서, 해당언어(국가언어)에 알파벳의 빈도를 표현 \n",
    "- 알파벳별 빈도(feature), 언어코드(label)\n",
    "- train 데이터는 \n",
    "    - rows가 20개(국가별 5개)\n",
    "    - colums(26(알파벳)+1(정답))\n",
    "- shape >>> (20,27)\n",
    "\n",
    "---"
   ]
  },
  {
   "cell_type": "markdown",
   "metadata": {},
   "source": [
    "### 의사결정 코드 \n",
    "- 제공된 데이터를 사용해서 특정패턴을 가진 파일을 목록화\n",
    "- 구조과 규칙이 변하지 않는다는 전제하 작업\n",
    "\n",
    "\n",
    "### Step 01. 언어코드 획득\n",
    "\n",
    "- 변수명 : text \n",
    "    1. 파일에서 파일명 획득 \n",
    "        =>  파일을 목록화 \n",
    "        - 내장함수 이용 => `import glob`\n",
    "            - 파일명을 전부 획득(파일리스트 획득)\n",
    "\n",
    "    2. text 파일 한개 확인  \n",
    "        => file_list의 개수만큼 반복\n",
    "        => 20번 반복(list의 갯수)\n",
    "           \n",
    "    3. 언어코드 획득 및 추출\n",
    "         - 파일에서 파일명 획득 \n",
    "             => 언어 코드존재 => `['./input/train\\\\'**en**'-1.txt']`\n",
    "                 => 언어(국가)코드 : 'tr, en' \n",
    "         - 정규식을 이용해서 추출  \n",
    "            => 언어코드 확득 `re.compile( '^[a-z]{2}' )`\n",
    "\n",
    "---\n",
    "\n",
    "### Step 02. 알파벳별 빈도수 획득 \n",
    "           \n",
    "1. 전처리 통해서 영어만 남김\n",
    "    - 파일을 불러 옴\n",
    "        - 읽는다 \n",
    "            =>  `import os`\n",
    "            => 읽을 때 *소문자만* 읽어 옴 \n",
    "    - 알파벳만 남긴다 \n",
    "        - 정규식 이용 `import re`\n",
    "        \n",
    "    - 알파벳 별로 할당할 공간 생성 \n",
    "        - 하나하나 리스트로 담아도 되지만 `자동화를위해 ord()를 사용`    \n",
    "        - 아스키코드로 문자를 숫자로 변환     \n",
    "        - a->z 까지는 순서가 존재함으로( ASCII )    \n",
    "        - 기준은 소문자 a   \n",
    "        - 아래 그림 참조    \n",
    "        \n",
    "![아스키 코드](https://img1.daumcdn.net/thumb/R1280x0/?scode=mtistory2&fname=http%3A%2F%2Fcfile5.uf.tistory.com%2Fimage%2F216CE84C52694FF02054D4)\n",
    "\n",
    "\n",
    "### Step 03. 알파벳별 빈도를 계산  \n",
    "    - 텍스트 파일을 읽어서 => 알파벳만 남김 \n",
    "\n",
    "- 데이터를 확인해보니 값의 편차가 큼      \n",
    "\n",
    "\n",
    "\n",
    "- 데이터는 빈도를 표현함 \n",
    "    => 최대최소의 의미보다 총 빈도에서 특정 알파벳이 얼마나 등장했는지 확인\n",
    "    => 이를 기준으로 정규화 처리 진행 \n",
    "    \n",
    "    => 데이터 준비단계\n",
    "        => 데이터의 품질을 향상을 목표를 가지고\n",
    "        => 주 수단으로 정해야함 \n",
    "\n",
    "### Step 04\n",
    " "
   ]
  },
  {
   "cell_type": "code",
   "execution_count": 3,
   "metadata": {},
   "outputs": [],
   "source": [
    "# stp =list()\n",
    "# for i in range(len(file_list)):\n",
    "#     for j in file_list: #  순서만 \n",
    "# #         print(j)\n",
    "#         stp.append(j)"
   ]
  },
  {
   "cell_type": "code",
   "execution_count": 4,
   "metadata": {},
   "outputs": [],
   "source": [
    "# 파일 리스트 획득\n",
    "import glob"
   ]
  },
  {
   "cell_type": "code",
   "execution_count": 5,
   "metadata": {},
   "outputs": [
    {
     "data": {
      "text/plain": [
       "(['./input/train\\\\en-1.txt', './input/train\\\\en-2.txt'], 20)"
      ]
     },
     "execution_count": 5,
     "metadata": {},
     "output_type": "execute_result"
    }
   ],
   "source": [
    "# 파일 목록 보기 =>  파일명 전부 확득  \n",
    "path = './input/train/*.txt'\n",
    "file_list = glob.glob(path)\n",
    "file_list[:2], len(file_list)"
   ]
  },
  {
   "cell_type": "code",
   "execution_count": 6,
   "metadata": {},
   "outputs": [],
   "source": [
    "file_list.sort()"
   ]
  },
  {
   "cell_type": "markdown",
   "metadata": {},
   "source": [
    "### Step 01. 언어코드 획득\n",
    "\n",
    "- 변수명 : text \n",
    "    1. 파일에서 파일명 획득 \n",
    "        =>  파일을 목록화 \n",
    "        - 내장함수 이용 => `import glob`\n",
    "            - 파일명을 전부 획득(파일리스트 획득)\n",
    "\n",
    "    2. text 파일 한개 확인  \n",
    "        => file_list의 개수만큼 반복\n",
    "        => 20번 반복(list의 갯수)\n",
    "           \n",
    "    3. 언어코드 획득 및 추출\n",
    "         - 파일에서 파일명 획득 \n",
    "             => 언어 코드존재 => `['./input/train\\\\'**en**'-1.txt']`\n",
    "                 => 언어(국가)코드 : 'tr, en' \n",
    "         - 정규식을 이용해서 추출  \n",
    "            => 언어코드 확득 `re.compile( '^[a-z]{2}' )`"
   ]
  },
  {
   "cell_type": "code",
   "execution_count": 7,
   "metadata": {},
   "outputs": [
    {
     "data": {
      "text/plain": [
       "'./input/train\\\\en-1.txt'"
      ]
     },
     "execution_count": 7,
     "metadata": {},
     "output_type": "execute_result"
    }
   ],
   "source": [
    "file_list[0]"
   ]
  },
  {
   "cell_type": "code",
   "execution_count": 8,
   "metadata": {},
   "outputs": [
    {
     "data": {
      "text/plain": [
       "'tr'"
      ]
     },
     "execution_count": 8,
     "metadata": {},
     "output_type": "execute_result"
    }
   ],
   "source": [
    "# 언어코드 획득 \n",
    "# 파일에서 파일명 획득 => 언어 코드존재  => 'tr, en'\n",
    "file_list[0].split('/')[-1][:2]\n",
    "# 언어코드 추출 "
   ]
  },
  {
   "cell_type": "code",
   "execution_count": 9,
   "metadata": {},
   "outputs": [],
   "source": [
    "# 외장함수를 활용하여 처리 \n",
    "import os "
   ]
  },
  {
   "cell_type": "code",
   "execution_count": 10,
   "metadata": {},
   "outputs": [
    {
     "data": {
      "text/plain": [
       "'en-1.txt'"
      ]
     },
     "execution_count": 10,
     "metadata": {},
     "output_type": "execute_result"
    }
   ],
   "source": [
    "file_list[0].split('/')[-1][6:]"
   ]
  },
  {
   "cell_type": "code",
   "execution_count": 11,
   "metadata": {},
   "outputs": [
    {
     "data": {
      "text/plain": [
       "'en-1.txt'"
      ]
     },
     "execution_count": 11,
     "metadata": {},
     "output_type": "execute_result"
    }
   ],
   "source": [
    "# 파일명 획득 \n",
    "# file_list[0].split('/')[-1][6:]과 결과는 동일\n",
    "\n",
    "# os.path.basename() \n",
    "# 입력받은 경로의 기본 이름(base name)을 반환\n",
    "name = os.path.basename(file_list[0])\n",
    "name"
   ]
  },
  {
   "cell_type": "code",
   "execution_count": 12,
   "metadata": {},
   "outputs": [
    {
     "data": {
      "text/plain": [
       "'en'"
      ]
     },
     "execution_count": 12,
     "metadata": {},
     "output_type": "execute_result"
    }
   ],
   "source": [
    "# 정규식으로 언어코드획득\n",
    "import re\n",
    "p         = re.compile( '^[a-z]{2,}' )\n",
    "lng_code = p.match( name ).group()\n",
    "# 언어 코드 \n",
    "lng_code"
   ]
  },
  {
   "cell_type": "markdown",
   "metadata": {},
   "source": [
    "### Step 02. 알파벳별 빈도수 획득 \n",
    "           \n",
    "1. 전처리 통해서 영어만 남김\n",
    "    - 파일을 불러 옴\n",
    "        - 읽는다 \n",
    "            =>  `import os`\n",
    "            => 읽을 때 *소문자만* 읽어 옴 \n",
    "    - 알파벳만 남긴다 \n",
    "        - 정규식 이용 `import re`\n",
    "        \n",
    "    - 알파벳 별로 할당할 공간 생성 \n",
    "        - 하나하나 리스트로 담아도 되지만 `자동화를위해 ord()를 사용`    \n",
    "        - 아스키코드로 문자를 숫자로 변환     \n",
    "        - a->z 까지는 순서가 존재함으로( ASCII )    \n",
    "        - 기준은 소문자 a   \n",
    "        - 아래 그림 참조    \n",
    "        \n",
    "![아스키 코드](https://img1.daumcdn.net/thumb/R1280x0/?scode=mtistory2&fname=http%3A%2F%2Fcfile5.uf.tistory.com%2Fimage%2F216CE84C52694FF02054D4)\n"
   ]
  },
  {
   "cell_type": "code",
   "execution_count": 13,
   "metadata": {},
   "outputs": [
    {
     "name": "stdout",
     "output_type": "stream",
     "text": [
      "themainhenryfordmuseumbuildinghousessomeoftheclassroomsforthehenryfordacademyhenryfordacademyisthefi\n"
     ]
    }
   ],
   "source": [
    "# 파일을 읽는다 (i/o)\n",
    "with open(file_list[0], encoding= 'utf-8' ) as f : \n",
    "    # f 할당\n",
    "    # f를 읽어드린다 \n",
    "    text = f.read().lower()\n",
    "    \n",
    "    # 여기서 알파벳만 남긴다\n",
    "    # 어떻게 남기냐 \n",
    "    p = re.compile('[^a-z]*')\n",
    "    text = p.sub('', text) # 일치 값만 제거 \n",
    "    print(text[:100])\n",
    "    \n",
    "    pass # 알파벳만 남김 \n",
    "    "
   ]
  },
  {
   "cell_type": "code",
   "execution_count": 14,
   "metadata": {},
   "outputs": [
    {
     "data": {
      "text/plain": [
       "[0, 0, 0, 0, 0, 0, 0, 0, 0, 0, 0, 0, 0, 0, 0, 0, 0, 0, 0, 0, 0, 0, 0, 0, 0, 0]"
      ]
     },
     "execution_count": 14,
     "metadata": {},
     "output_type": "execute_result"
    }
   ],
   "source": [
    "# 알파벳 벽고 카운트를 담는 그릇 => 하나의 이름으로 26의 정보를 담는 그릇 \n",
    "# 파이썬 => 리스트 사용 => 수정이 가능, 순서 존재해서 적합 \n",
    "# a -> z 까지 순서 존재 => 아스키(ASCII)\n",
    "counts = [0 for i in range(26)] \n",
    "counts"
   ]
  },
  {
   "cell_type": "code",
   "execution_count": 15,
   "metadata": {},
   "outputs": [
    {
     "data": {
      "text/plain": [
       "[0, 0, 0, 0, 0, 0, 0, 0, 0, 0, 0, 0, 0, 0, 0, 0, 0, 0, 0, 0, 0, 0, 0, 0, 0, 0]"
      ]
     },
     "execution_count": 15,
     "metadata": {},
     "output_type": "execute_result"
    }
   ],
   "source": [
    "# 리스트로 => 변수 26개를 표현 \n",
    "# 알파벳 별로 카운트를 담을 그릇을 만든다 \n",
    "# [0] *26 => 동일 \n",
    "counts = []\n",
    "\n",
    "for i in range(26): \n",
    "    i = 0\n",
    "    counts.append(i)\n",
    "counts   "
   ]
  },
  {
   "cell_type": "code",
   "execution_count": 16,
   "metadata": {},
   "outputs": [
    {
     "data": {
      "text/plain": [
       "[0, 0, 0, 0, 0, 0, 0, 0, 0, 0, 0, 0, 0, 0, 0, 0, 0, 0, 0, 0, 0, 0, 0, 0, 0, 0]"
      ]
     },
     "execution_count": 16,
     "metadata": {},
     "output_type": "execute_result"
    }
   ],
   "source": [
    "[0]*26"
   ]
  },
  {
   "cell_type": "code",
   "execution_count": 17,
   "metadata": {},
   "outputs": [
    {
     "data": {
      "text/plain": [
       "['2']"
      ]
     },
     "execution_count": 17,
     "metadata": {},
     "output_type": "execute_result"
    }
   ],
   "source": [
    "a = []\n",
    "b = [0]*26\n",
    "# extend 와 append의 차이는? \n",
    "a.extend('2')\n",
    "a"
   ]
  },
  {
   "cell_type": "code",
   "execution_count": 18,
   "metadata": {},
   "outputs": [
    {
     "data": {
      "text/plain": [
       "(97, 122, 25)"
      ]
     },
     "execution_count": 18,
     "metadata": {},
     "output_type": "execute_result"
    }
   ],
   "source": [
    "# text에서 한글자씩 읽어서 -> a면 counts[0]+=1 -> counts[a-a]+=1\n",
    "# z -> counts[25]+=1 -> counts[z-a]+=1 \n",
    "# t -> counts[?]+=1 -> counts[t-a]+=1 \n",
    "# ord() \n",
    "#    - 특정 문자의 아스키코드값을 리턴\n",
    "# a-z까지는 연속적으로 아스키값이 배치\n",
    "# 따라서 특정 문자의 위치는 ord('소문자')-ord('a')\n",
    "ord('a'), ord('z'), (ord('z')-ord('a'))"
   ]
  },
  {
   "cell_type": "code",
   "execution_count": 19,
   "metadata": {},
   "outputs": [
    {
     "name": "stdout",
     "output_type": "stream",
     "text": [
      "[349, 59, 210, 212, 484, 72, 88, 201, 340, 8, 25, 247, 121, 356, 412, 76, 0, 357, 282, 370, 119, 45, 65, 3, 92, 2] \n",
      " 26\n"
     ]
    }
   ],
   "source": [
    "counts = [0 for i in range(26)] \n",
    "# 연속적이라서 아스키 사용 \n",
    "ASCII_A = ord('a')  # a를 기준 데이터 \n",
    "# ch에 들어가는 아스키값과 기준데이터를 연산해 다른 알파벳을 알수있음\n",
    "\n",
    "for i in text: \n",
    "    # print(ch)\n",
    "    # 한개뽑인 문자의 아스키값 ord(i)\n",
    "    counts[(ord(i)-ASCII_A)] += 1\n",
    "    # break \n",
    "    \n",
    "print(counts,'\\n',len(counts))\n"
   ]
  },
  {
   "cell_type": "code",
   "execution_count": 20,
   "metadata": {},
   "outputs": [
    {
     "data": {
      "text/plain": [
       "(4595, 4595)"
      ]
     },
     "execution_count": 20,
     "metadata": {},
     "output_type": "execute_result"
    }
   ],
   "source": [
    "sum(counts), len(text)"
   ]
  },
  {
   "cell_type": "code",
   "execution_count": 21,
   "metadata": {},
   "outputs": [
    {
     "data": {
      "text/plain": [
       "([0.07595212187159957,\n",
       "  0.012840043525571273,\n",
       "  0.04570184983677911,\n",
       "  0.04613710554951034,\n",
       "  0.10533188248095757,\n",
       "  0.015669205658324265,\n",
       "  0.019151251360174103,\n",
       "  0.043743199129488576,\n",
       "  0.07399347116430903,\n",
       "  0.0017410228509249185,\n",
       "  0.00544069640914037,\n",
       "  0.05375408052230685,\n",
       "  0.026332970620239392,\n",
       "  0.07747551686615888,\n",
       "  0.08966267682263329,\n",
       "  0.016539717083786723,\n",
       "  0.0,\n",
       "  0.07769314472252448,\n",
       "  0.061371055495103376,\n",
       "  0.08052230685527748,\n",
       "  0.02589771490750816,\n",
       "  0.009793253536452665,\n",
       "  0.014145810663764961,\n",
       "  0.0006528835690968443,\n",
       "  0.02002176278563656,\n",
       "  0.0004352557127312296],\n",
       " 26)"
      ]
     },
     "execution_count": 21,
     "metadata": {},
     "output_type": "execute_result"
    }
   ],
   "source": [
    "# 람다함수 \n",
    "# 대체 : 파이썬 내장함수 map(), DataFrame의 apply()\n",
    "\n",
    "# map('함수','데이터 덩어리')\n",
    "# list(map( 함수 , 데이터 덩어리))\n",
    "\n",
    "# 함수는 map =>  자동으로 멤버수만큼 호출\n",
    "# x:맴버 한개 한개,...\n",
    "def check_norm(x):\n",
    "    # print(x)  # 함수 호출 값을 확인 \n",
    "    # 알파벳별 빈도/총 빈도(= 총 알파벳 문자열 개수)\n",
    "    return x / len(text)       # x / 총빈도 \n",
    "\n",
    "# frequences = list(map( check_norm, counts))\n",
    "# print(sum(frequences),frequences)\n",
    "\n",
    "# 한줄로 줄일수 있음 => 람다를 이용 \n",
    "# 단정 휘발성에 => 일회성 \n",
    "\n",
    "\n",
    "# 람다식을 이용해서 함수 코드를 한줄로 변환 \n",
    "# list(map( lambda x:x/len(text), counts))\n",
    "# lambda 인자 : 함수를 표현한식, 데이터 덩어리 \n",
    "# 수행문이 한줄일 경우 가능 \n",
    "# 알파벳의 총 빈도수 \n",
    "frequences = list(map( lambda x:x/len(text), counts))\n",
    "frequences, len(frequences)"
   ]
  },
  {
   "cell_type": "code",
   "execution_count": 22,
   "metadata": {},
   "outputs": [
    {
     "name": "stdout",
     "output_type": "stream",
     "text": [
      "en [0.07595212187159957, 0.012840043525571273, 0.04570184983677911, 0.04613710554951034, 0.10533188248095757, 0.015669205658324265, 0.019151251360174103, 0.043743199129488576, 0.07399347116430903, 0.0017410228509249185, 0.00544069640914037, 0.05375408052230685, 0.026332970620239392, 0.07747551686615888, 0.08966267682263329, 0.016539717083786723, 0.0, 0.07769314472252448, 0.061371055495103376, 0.08052230685527748, 0.02589771490750816, 0.009793253536452665, 0.014145810663764961, 0.0006528835690968443, 0.02002176278563656, 0.0004352557127312296]\n"
     ]
    }
   ],
   "source": [
    "# 텍스트 파일 1개에 대한 최종 결과물\n",
    "# lang_code   :  언어 코드 \n",
    "# frequences  :  알파벳 별로 담긴 평균 빈도수  \n",
    "#     => 알파벳별 빈도/총 빈도(= 총 알파벳 문자열 개수) \n",
    "# print( len(lang_code), len(frequences) )\n",
    "\n",
    "\n",
    "# 텍스트 파일 1개(en)에 대한 최종 결과물\n",
    "print( lng_code, frequences )"
   ]
  },
  {
   "cell_type": "markdown",
   "metadata": {},
   "source": [
    "### 위의 구성을 함수화 시킴 "
   ]
  },
  {
   "cell_type": "code",
   "execution_count": 23,
   "metadata": {},
   "outputs": [],
   "source": [
    "import os, re"
   ]
  },
  {
   "cell_type": "code",
   "execution_count": 24,
   "metadata": {},
   "outputs": [
    {
     "data": {
      "text/plain": [
       "'en'"
      ]
     },
     "execution_count": 24,
     "metadata": {},
     "output_type": "execute_result"
    }
   ],
   "source": [
    "base_name = os.path.basename(file_list[0])\n",
    "# 1.1 정규식 \n",
    "# => 오류 =>  p = re.compile('^[a-z{2}]')\n",
    "p         = re.compile('^[a-z]{2}')\n",
    "lng_code  = p.match(base_name).group()\n",
    "\n",
    "lng_code"
   ]
  },
  {
   "cell_type": "code",
   "execution_count": 25,
   "metadata": {},
   "outputs": [
    {
     "data": {
      "text/plain": [
       "2"
      ]
     },
     "execution_count": 25,
     "metadata": {},
     "output_type": "execute_result"
    }
   ],
   "source": [
    "(ord('b') - ord('a'))+1\n",
    "\n",
    "# i += 1"
   ]
  },
  {
   "cell_type": "code",
   "execution_count": 26,
   "metadata": {},
   "outputs": [
    {
     "data": {
      "text/plain": [
       "[349,\n",
       " 59,\n",
       " 210,\n",
       " 212,\n",
       " 484,\n",
       " 72,\n",
       " 88,\n",
       " 201,\n",
       " 340,\n",
       " 8,\n",
       " 25,\n",
       " 247,\n",
       " 121,\n",
       " 356,\n",
       " 412,\n",
       " 76,\n",
       " 0,\n",
       " 357,\n",
       " 282,\n",
       " 370,\n",
       " 119,\n",
       " 45,\n",
       " 65,\n",
       " 3,\n",
       " 92,\n",
       " 2]"
      ]
     },
     "execution_count": 26,
     "metadata": {},
     "output_type": "execute_result"
    }
   ],
   "source": [
    "counts = [0 for n in range(26)]\n",
    "ASCII_A = ord('a')\n",
    "\n",
    "for i in text:\n",
    "#         print(i)\n",
    "# ord('a') - ord('a')  = 0 \n",
    "    # 각 알파벳 센다 \n",
    "    counts[(ord(i)-ASCII_A)] += 1   \n",
    "counts \n",
    "# 1. [0]*26\n",
    "# 2. i += 1  \n",
    "# 3. (ord('b') - ord('a'))+1"
   ]
  },
  {
   "cell_type": "code",
   "execution_count": 27,
   "metadata": {},
   "outputs": [],
   "source": [
    "# 인자 : file_path(./input/train\\\\en-2.txt') =>  덩어리중 한개의 경로를 담을 예정 \n",
    "\n",
    "def get_data(file_path):\n",
    "    # 1. 언어코드 획득 \n",
    "    # 입력받은 경로의 기본 이름(base name)을 반환  =>  'en-2.txt'\n",
    "    base_name = os.path.basename(file_path)\n",
    "    # 1.1 정규식 \n",
    "    p         = re.compile('^[a-z]{2}') # 알파벳만 출력하는데 [a-z]을 {2}개 출력\n",
    "    lng_code  = p.match(base_name).group()\n",
    "\n",
    "    # 단어의 빈도 \n",
    "    try : \n",
    "        with open(file_path,  encoding= 'utf-8') as f : \n",
    "            text  = f.read().lower()\n",
    "            p     = re.compile('[^a-z]*')\n",
    "            text  = p.sub( '' ,  text )\n",
    "        print('정상작동', f,'\\n','='*70)\n",
    "\n",
    "    except Exception as e : \n",
    "        print('에러발생', e)\n",
    "    \n",
    "    # 알파벳 그릇 만들기 \n",
    "    counts = [0 for n in range(26)]\n",
    "    ASCII_A = ord('a')\n",
    "    for i in text:\n",
    "        counts[(ord(i)-ASCII_A)] += 1   # 3. (ord('b') - ord('a'))+1\n",
    "        \n",
    "    total_counts = sum(counts)  \n",
    "    frequences = list(map(lambda x:x/total_counts, counts)) # 알파벳 갯수 \n",
    "    \n",
    "    # 결과값 리턴\n",
    "    return (lng_code, frequences)\n"
   ]
  },
  {
   "cell_type": "code",
   "execution_count": 28,
   "metadata": {},
   "outputs": [
    {
     "name": "stdout",
     "output_type": "stream",
     "text": [
      "정상작동 <_io.TextIOWrapper name='./input/train\\\\en-3.txt' mode='r' encoding='utf-8'> \n",
      " ======================================================================\n"
     ]
    },
    {
     "data": {
      "text/plain": [
       "('en',\n",
       " [0.07164591977869986,\n",
       "  0.012171507607192255,\n",
       "  0.04564315352697095,\n",
       "  0.0326417704011065,\n",
       "  0.12005532503457815,\n",
       "  0.014661134163208852,\n",
       "  0.02517289073305671,\n",
       "  0.02351313969571231,\n",
       "  0.0946058091286307,\n",
       "  0.0024896265560165973,\n",
       "  0.0016597510373443983,\n",
       "  0.05698478561549101,\n",
       "  0.022406639004149378,\n",
       "  0.07551867219917012,\n",
       "  0.07662517289073306,\n",
       "  0.02074688796680498,\n",
       "  0.0016597510373443983,\n",
       "  0.05394190871369295,\n",
       "  0.08796680497925312,\n",
       "  0.08105117565698479,\n",
       "  0.029045643153526972,\n",
       "  0.018810511756569847,\n",
       "  0.01189488243430152,\n",
       "  0.0005532503457814661,\n",
       "  0.017980636237897647,\n",
       "  0.0005532503457814661])"
      ]
     },
     "execution_count": 28,
     "metadata": {},
     "output_type": "execute_result"
    }
   ],
   "source": [
    "get_data( file_list[2] )"
   ]
  },
  {
   "cell_type": "code",
   "execution_count": 29,
   "metadata": {},
   "outputs": [],
   "source": [
    "# 훈련용 데이터, 테스트용 데이터 로드 \n",
    "# 중간경로가 train 혹은 test \n",
    "\n",
    "# path = 'train'\n",
    "def load_data(path = 'train'):\n",
    "    \n",
    "    # 파일 경로 => format으로 담는다 \n",
    "    file_lists = glob.glob('./input/{}/*txt'.format(path))\n",
    "    \n",
    "    # 리스트 : 정답을 할당\n",
    "    labels = list()\n",
    "    freqs  = list()\n",
    "    \n",
    "    # 하나씩 출력 \n",
    "    for f in file_lists:\n",
    "        # 파일 1개당, 정답, 빈도수리스트 리턴 \n",
    "        lng,freq = get_data(f)\n",
    "        labels.append( lng )\n",
    "        freqs.append( freq )\n",
    "        \n",
    "    return {'labels':labels, 'freqs': freqs } #  {'labels':['en','fr'], 'freqs': [[],[]] } \n"
   ]
  },
  {
   "cell_type": "code",
   "execution_count": 40,
   "metadata": {},
   "outputs": [
    {
     "name": "stdout",
     "output_type": "stream",
     "text": [
      "정상작동 <_io.TextIOWrapper name='./input/train\\\\en-1.txt' mode='r' encoding='utf-8'> \n",
      " ======================================================================\n",
      "정상작동 <_io.TextIOWrapper name='./input/train\\\\en-2.txt' mode='r' encoding='utf-8'> \n",
      " ======================================================================\n",
      "정상작동 <_io.TextIOWrapper name='./input/train\\\\en-3.txt' mode='r' encoding='utf-8'> \n",
      " ======================================================================\n",
      "정상작동 <_io.TextIOWrapper name='./input/train\\\\en-4.txt' mode='r' encoding='utf-8'> \n",
      " ======================================================================\n",
      "정상작동 <_io.TextIOWrapper name='./input/train\\\\en-5.txt' mode='r' encoding='utf-8'> \n",
      " ======================================================================\n",
      "정상작동 <_io.TextIOWrapper name='./input/train\\\\fr-10.txt' mode='r' encoding='utf-8'> \n",
      " ======================================================================\n",
      "정상작동 <_io.TextIOWrapper name='./input/train\\\\fr-6.txt' mode='r' encoding='utf-8'> \n",
      " ======================================================================\n",
      "정상작동 <_io.TextIOWrapper name='./input/train\\\\fr-7.txt' mode='r' encoding='utf-8'> \n",
      " ======================================================================\n",
      "정상작동 <_io.TextIOWrapper name='./input/train\\\\fr-8.txt' mode='r' encoding='utf-8'> \n",
      " ======================================================================\n",
      "정상작동 <_io.TextIOWrapper name='./input/train\\\\fr-9.txt' mode='r' encoding='utf-8'> \n",
      " ======================================================================\n",
      "정상작동 <_io.TextIOWrapper name='./input/train\\\\id-11.txt' mode='r' encoding='utf-8'> \n",
      " ======================================================================\n",
      "정상작동 <_io.TextIOWrapper name='./input/train\\\\id-12.txt' mode='r' encoding='utf-8'> \n",
      " ======================================================================\n",
      "정상작동 <_io.TextIOWrapper name='./input/train\\\\id-13.txt' mode='r' encoding='utf-8'> \n",
      " ======================================================================\n",
      "정상작동 <_io.TextIOWrapper name='./input/train\\\\id-14.txt' mode='r' encoding='utf-8'> \n",
      " ======================================================================\n",
      "정상작동 <_io.TextIOWrapper name='./input/train\\\\id-15.txt' mode='r' encoding='utf-8'> \n",
      " ======================================================================\n",
      "정상작동 <_io.TextIOWrapper name='./input/train\\\\tl-16.txt' mode='r' encoding='utf-8'> \n",
      " ======================================================================\n",
      "정상작동 <_io.TextIOWrapper name='./input/train\\\\tl-17.txt' mode='r' encoding='utf-8'> \n",
      " ======================================================================\n",
      "정상작동 <_io.TextIOWrapper name='./input/train\\\\tl-18.txt' mode='r' encoding='utf-8'> \n",
      " ======================================================================\n",
      "정상작동 <_io.TextIOWrapper name='./input/train\\\\tl-19.txt' mode='r' encoding='utf-8'> \n",
      " ======================================================================\n",
      "정상작동 <_io.TextIOWrapper name='./input/train\\\\tl-20.txt' mode='r' encoding='utf-8'> \n",
      " ======================================================================\n",
      "정상작동 <_io.TextIOWrapper name='./input/test\\\\en-1.txt' mode='r' encoding='utf-8'> \n",
      " ======================================================================\n",
      "정상작동 <_io.TextIOWrapper name='./input/test\\\\en-2.txt' mode='r' encoding='utf-8'> \n",
      " ======================================================================\n",
      "정상작동 <_io.TextIOWrapper name='./input/test\\\\fr-3.txt' mode='r' encoding='utf-8'> \n",
      " ======================================================================\n",
      "정상작동 <_io.TextIOWrapper name='./input/test\\\\fr-4.txt' mode='r' encoding='utf-8'> \n",
      " ======================================================================\n",
      "정상작동 <_io.TextIOWrapper name='./input/test\\\\id-5.txt' mode='r' encoding='utf-8'> \n",
      " ======================================================================\n",
      "정상작동 <_io.TextIOWrapper name='./input/test\\\\id-6.txt' mode='r' encoding='utf-8'> \n",
      " ======================================================================\n",
      "정상작동 <_io.TextIOWrapper name='./input/test\\\\tl-7.txt' mode='r' encoding='utf-8'> \n",
      " ======================================================================\n",
      "정상작동 <_io.TextIOWrapper name='./input/test\\\\tl-8.txt' mode='r' encoding='utf-8'> \n",
      " ======================================================================\n"
     ]
    }
   ],
   "source": [
    "train_data = load_data()\n",
    "test_data  = load_data('test')"
   ]
  },
  {
   "cell_type": "markdown",
   "metadata": {},
   "source": [
    "### 현재파일을 저장 "
   ]
  },
  {
   "cell_type": "code",
   "execution_count": 31,
   "metadata": {},
   "outputs": [],
   "source": [
    "# 덤프 침 => 현재 단계 결과물을 저장 \n",
    "import json"
   ]
  },
  {
   "cell_type": "code",
   "execution_count": 41,
   "metadata": {},
   "outputs": [
    {
     "name": "stdout",
     "output_type": "stream",
     "text": [
      "정상동작\n"
     ]
    }
   ],
   "source": [
    "# json 형태의 파일로 저장 \n",
    "\n",
    "file_path = './input/'\n",
    "full_path = file_path + 'labels_freqs_data'\n",
    "\n",
    "try: \n",
    "    with open('{}.json'.format(full_path),'w', encoding='utf-8') as f: \n",
    "        # json 구조로 저장  => [train_data, test_data], f\n",
    "        json.dump([train_data, test_data],f)\n",
    "        print('정상동작')\n",
    "except Exception as e:\n",
    "    print('에러발생', e)"
   ]
  },
  {
   "cell_type": "markdown",
   "metadata": {},
   "source": [
    "---"
   ]
  },
  {
   "cell_type": "markdown",
   "metadata": {},
   "source": [
    "# 4. 데이터 분석\n",
    " - 알파벳의 빈도가 영어권 국가별로 다름"
   ]
  },
  {
   "cell_type": "markdown",
   "metadata": {},
   "source": [
    "### 1. 분석용 패키지 업로드"
   ]
  },
  {
   "cell_type": "code",
   "execution_count": 33,
   "metadata": {
    "scrolled": true
   },
   "outputs": [],
   "source": [
    "# 1. 분석용 패키지 업로드 \n",
    "import pandas as pd \n",
    "import numpy as np\n",
    "\n",
    "# 그래프 패키지 \n",
    "import matplotlib.pyplot as plt \n",
    "%matplotlib inline"
   ]
  },
  {
   "cell_type": "code",
   "execution_count": 34,
   "metadata": {},
   "outputs": [],
   "source": [
    "# 변수\n",
    "file_path = './input/'\n",
    "file_name = 'labels_freqs_data'\n",
    "full_path = file_path + file_name"
   ]
  },
  {
   "cell_type": "markdown",
   "metadata": {},
   "source": [
    "### 2. 데이터 로드 "
   ]
  },
  {
   "cell_type": "code",
   "execution_count": 35,
   "metadata": {},
   "outputs": [],
   "source": [
    "# import\n",
    "import os, re , glob, json\n",
    "\n",
    "import pandas as pd\n",
    "import numpy as np\n",
    "\n",
    "import matplotlib.pyplot as plt \n",
    "%matplotlib inline\n",
    "\n",
    "from string import ascii_lowercase"
   ]
  },
  {
   "cell_type": "code",
   "execution_count": null,
   "metadata": {},
   "outputs": [],
   "source": []
  },
  {
   "cell_type": "code",
   "execution_count": 38,
   "metadata": {},
   "outputs": [],
   "source": [
    "def try_load( name, option, encoding='utf-8'):\n",
    "    #  문자열 안나오게 하려했는데 => 변수로 받아들여서 실패 \n",
    "    # 그외엔 다 정상동작 \n",
    "    \n",
    "    file_path = './input/' + '{}.json'.format(name)\n",
    "    \n",
    "    try:\n",
    "        with open( file_path , option) as f:\n",
    "            if option == 'w' :\n",
    "                input_data = input('덤프시킬 데이터를 입력하세요')\n",
    "#                 print(input_data)\n",
    "                json.dump(input_data,f)\n",
    "                \n",
    "\n",
    "            elif option == 'r' :  \n",
    "                tmp = json.load(f)\n",
    "                print(tmp)\n",
    "                print('\\n길이 =', len(tmp)) \n",
    "                return tmp\n",
    "\n",
    "        print('정상동작')\n",
    "\n",
    "    except Exception as e:\n",
    "        print('에러발생', e )\n",
    "\n",
    "    return "
   ]
  },
  {
   "cell_type": "code",
   "execution_count": 39,
   "metadata": {},
   "outputs": [
    {
     "name": "stdout",
     "output_type": "stream",
     "text": [
      "에러발생 Expecting value: line 1 column 1 (char 0)\n"
     ]
    }
   ],
   "source": [
    "try_load('test_data', 'r')"
   ]
  },
  {
   "cell_type": "code",
   "execution_count": 97,
   "metadata": {
    "scrolled": true
   },
   "outputs": [
    {
     "name": "stdout",
     "output_type": "stream",
     "text": [
      "덤프시킬 데이터를 입력하세요\n"
     ]
    },
    {
     "ename": "KeyboardInterrupt",
     "evalue": "",
     "output_type": "error",
     "traceback": [
      "\u001b[1;31m---------------------------------------------------------------------------\u001b[0m",
      "\u001b[1;31mKeyboardInterrupt\u001b[0m                         Traceback (most recent call last)",
      "\u001b[1;32m~\\Anaconda3\\lib\\site-packages\\ipykernel\\kernelbase.py\u001b[0m in \u001b[0;36m_input_request\u001b[1;34m(self, prompt, ident, parent, password)\u001b[0m\n\u001b[0;32m    728\u001b[0m             \u001b[1;32mtry\u001b[0m\u001b[1;33m:\u001b[0m\u001b[1;33m\u001b[0m\u001b[0m\n\u001b[1;32m--> 729\u001b[1;33m                 \u001b[0mident\u001b[0m\u001b[1;33m,\u001b[0m \u001b[0mreply\u001b[0m \u001b[1;33m=\u001b[0m \u001b[0mself\u001b[0m\u001b[1;33m.\u001b[0m\u001b[0msession\u001b[0m\u001b[1;33m.\u001b[0m\u001b[0mrecv\u001b[0m\u001b[1;33m(\u001b[0m\u001b[0mself\u001b[0m\u001b[1;33m.\u001b[0m\u001b[0mstdin_socket\u001b[0m\u001b[1;33m,\u001b[0m \u001b[1;36m0\u001b[0m\u001b[1;33m)\u001b[0m\u001b[1;33m\u001b[0m\u001b[0m\n\u001b[0m\u001b[0;32m    730\u001b[0m             \u001b[1;32mexcept\u001b[0m \u001b[0mException\u001b[0m\u001b[1;33m:\u001b[0m\u001b[1;33m\u001b[0m\u001b[0m\n",
      "\u001b[1;32m~\\Anaconda3\\lib\\site-packages\\jupyter_client\\session.py\u001b[0m in \u001b[0;36mrecv\u001b[1;34m(self, socket, mode, content, copy)\u001b[0m\n\u001b[0;32m    802\u001b[0m         \u001b[1;32mtry\u001b[0m\u001b[1;33m:\u001b[0m\u001b[1;33m\u001b[0m\u001b[0m\n\u001b[1;32m--> 803\u001b[1;33m             \u001b[0mmsg_list\u001b[0m \u001b[1;33m=\u001b[0m \u001b[0msocket\u001b[0m\u001b[1;33m.\u001b[0m\u001b[0mrecv_multipart\u001b[0m\u001b[1;33m(\u001b[0m\u001b[0mmode\u001b[0m\u001b[1;33m,\u001b[0m \u001b[0mcopy\u001b[0m\u001b[1;33m=\u001b[0m\u001b[0mcopy\u001b[0m\u001b[1;33m)\u001b[0m\u001b[1;33m\u001b[0m\u001b[0m\n\u001b[0m\u001b[0;32m    804\u001b[0m         \u001b[1;32mexcept\u001b[0m \u001b[0mzmq\u001b[0m\u001b[1;33m.\u001b[0m\u001b[0mZMQError\u001b[0m \u001b[1;32mas\u001b[0m \u001b[0me\u001b[0m\u001b[1;33m:\u001b[0m\u001b[1;33m\u001b[0m\u001b[0m\n",
      "\u001b[1;32m~\\Anaconda3\\lib\\site-packages\\zmq\\sugar\\socket.py\u001b[0m in \u001b[0;36mrecv_multipart\u001b[1;34m(self, flags, copy, track)\u001b[0m\n\u001b[0;32m    465\u001b[0m         \"\"\"\n\u001b[1;32m--> 466\u001b[1;33m         \u001b[0mparts\u001b[0m \u001b[1;33m=\u001b[0m \u001b[1;33m[\u001b[0m\u001b[0mself\u001b[0m\u001b[1;33m.\u001b[0m\u001b[0mrecv\u001b[0m\u001b[1;33m(\u001b[0m\u001b[0mflags\u001b[0m\u001b[1;33m,\u001b[0m \u001b[0mcopy\u001b[0m\u001b[1;33m=\u001b[0m\u001b[0mcopy\u001b[0m\u001b[1;33m,\u001b[0m \u001b[0mtrack\u001b[0m\u001b[1;33m=\u001b[0m\u001b[0mtrack\u001b[0m\u001b[1;33m)\u001b[0m\u001b[1;33m]\u001b[0m\u001b[1;33m\u001b[0m\u001b[0m\n\u001b[0m\u001b[0;32m    467\u001b[0m         \u001b[1;31m# have first part already, only loop while more to receive\u001b[0m\u001b[1;33m\u001b[0m\u001b[1;33m\u001b[0m\u001b[0m\n",
      "\u001b[1;32mzmq/backend/cython/socket.pyx\u001b[0m in \u001b[0;36mzmq.backend.cython.socket.Socket.recv\u001b[1;34m()\u001b[0m\n",
      "\u001b[1;32mzmq/backend/cython/socket.pyx\u001b[0m in \u001b[0;36mzmq.backend.cython.socket.Socket.recv\u001b[1;34m()\u001b[0m\n",
      "\u001b[1;32mzmq/backend/cython/socket.pyx\u001b[0m in \u001b[0;36mzmq.backend.cython.socket._recv_copy\u001b[1;34m()\u001b[0m\n",
      "\u001b[1;32m~\\Anaconda3\\lib\\site-packages\\zmq\\backend\\cython\\checkrc.pxd\u001b[0m in \u001b[0;36mzmq.backend.cython.checkrc._check_rc\u001b[1;34m()\u001b[0m\n",
      "\u001b[1;31mKeyboardInterrupt\u001b[0m: ",
      "\nDuring handling of the above exception, another exception occurred:\n",
      "\u001b[1;31mKeyboardInterrupt\u001b[0m                         Traceback (most recent call last)",
      "\u001b[1;32m<ipython-input-97-2fa291fa0c58>\u001b[0m in \u001b[0;36m<module>\u001b[1;34m()\u001b[0m\n\u001b[1;32m----> 1\u001b[1;33m \u001b[0mtry_load\u001b[0m\u001b[1;33m(\u001b[0m\u001b[1;34m'test_data'\u001b[0m\u001b[1;33m,\u001b[0m \u001b[1;34m'w'\u001b[0m\u001b[1;33m)\u001b[0m\u001b[1;33m\u001b[0m\u001b[0m\n\u001b[0m",
      "\u001b[1;32m<ipython-input-96-e4a9e4af3cd6>\u001b[0m in \u001b[0;36mtry_load\u001b[1;34m(name, option, encoding)\u001b[0m\n\u001b[0;32m      8\u001b[0m         \u001b[1;32mwith\u001b[0m \u001b[0mopen\u001b[0m\u001b[1;33m(\u001b[0m \u001b[0mfile_path\u001b[0m \u001b[1;33m,\u001b[0m \u001b[0moption\u001b[0m\u001b[1;33m)\u001b[0m \u001b[1;32mas\u001b[0m \u001b[0mf\u001b[0m\u001b[1;33m:\u001b[0m\u001b[1;33m\u001b[0m\u001b[0m\n\u001b[0;32m      9\u001b[0m             \u001b[1;32mif\u001b[0m \u001b[0moption\u001b[0m \u001b[1;33m==\u001b[0m \u001b[1;34m'w'\u001b[0m \u001b[1;33m:\u001b[0m\u001b[1;33m\u001b[0m\u001b[0m\n\u001b[1;32m---> 10\u001b[1;33m                 \u001b[0minput_data\u001b[0m \u001b[1;33m=\u001b[0m \u001b[0minput\u001b[0m\u001b[1;33m(\u001b[0m\u001b[1;34m'덤프시킬 데이터를 입력하세요'\u001b[0m\u001b[1;33m)\u001b[0m\u001b[1;33m\u001b[0m\u001b[0m\n\u001b[0m\u001b[0;32m     11\u001b[0m                 \u001b[0mprint\u001b[0m\u001b[1;33m(\u001b[0m\u001b[0minput_data\u001b[0m\u001b[1;33m)\u001b[0m\u001b[1;33m\u001b[0m\u001b[0m\n\u001b[0;32m     12\u001b[0m                 \u001b[0mjson\u001b[0m\u001b[1;33m.\u001b[0m\u001b[0mdump\u001b[0m\u001b[1;33m(\u001b[0m\u001b[0minput_data\u001b[0m\u001b[1;33m,\u001b[0m\u001b[0mf\u001b[0m\u001b[1;33m)\u001b[0m\u001b[1;33m\u001b[0m\u001b[0m\n",
      "\u001b[1;32m~\\Anaconda3\\lib\\site-packages\\ipykernel\\kernelbase.py\u001b[0m in \u001b[0;36mraw_input\u001b[1;34m(self, prompt)\u001b[0m\n\u001b[0;32m    702\u001b[0m             \u001b[0mself\u001b[0m\u001b[1;33m.\u001b[0m\u001b[0m_parent_ident\u001b[0m\u001b[1;33m,\u001b[0m\u001b[1;33m\u001b[0m\u001b[0m\n\u001b[0;32m    703\u001b[0m             \u001b[0mself\u001b[0m\u001b[1;33m.\u001b[0m\u001b[0m_parent_header\u001b[0m\u001b[1;33m,\u001b[0m\u001b[1;33m\u001b[0m\u001b[0m\n\u001b[1;32m--> 704\u001b[1;33m             \u001b[0mpassword\u001b[0m\u001b[1;33m=\u001b[0m\u001b[1;32mFalse\u001b[0m\u001b[1;33m,\u001b[0m\u001b[1;33m\u001b[0m\u001b[0m\n\u001b[0m\u001b[0;32m    705\u001b[0m         )\n\u001b[0;32m    706\u001b[0m \u001b[1;33m\u001b[0m\u001b[0m\n",
      "\u001b[1;32m~\\Anaconda3\\lib\\site-packages\\ipykernel\\kernelbase.py\u001b[0m in \u001b[0;36m_input_request\u001b[1;34m(self, prompt, ident, parent, password)\u001b[0m\n\u001b[0;32m    732\u001b[0m             \u001b[1;32mexcept\u001b[0m \u001b[0mKeyboardInterrupt\u001b[0m\u001b[1;33m:\u001b[0m\u001b[1;33m\u001b[0m\u001b[0m\n\u001b[0;32m    733\u001b[0m                 \u001b[1;31m# re-raise KeyboardInterrupt, to truncate traceback\u001b[0m\u001b[1;33m\u001b[0m\u001b[1;33m\u001b[0m\u001b[0m\n\u001b[1;32m--> 734\u001b[1;33m                 \u001b[1;32mraise\u001b[0m \u001b[0mKeyboardInterrupt\u001b[0m\u001b[1;33m\u001b[0m\u001b[0m\n\u001b[0m\u001b[0;32m    735\u001b[0m             \u001b[1;32melse\u001b[0m\u001b[1;33m:\u001b[0m\u001b[1;33m\u001b[0m\u001b[0m\n\u001b[0;32m    736\u001b[0m                 \u001b[1;32mbreak\u001b[0m\u001b[1;33m\u001b[0m\u001b[0m\n",
      "\u001b[1;31mKeyboardInterrupt\u001b[0m: "
     ]
    }
   ],
   "source": [
    "try_load('test_data', 'w')\n"
   ]
  },
  {
   "cell_type": "code",
   "execution_count": 45,
   "metadata": {},
   "outputs": [
    {
     "name": "stdout",
     "output_type": "stream",
     "text": [
      "정상출력 \n",
      "길이 = 2 [{'labels': ['en', 'en', 'en', 'en', 'en', 'fr', 'fr', 'fr', 'fr', 'fr', 'id', 'id', 'id', 'id', 'id', 'tl', 'tl', 'tl', 'tl', 'tl'], 'freqs': [[0.07595212187159957, 0.012840043525571273, 0.04570184983677911, 0.04613710554951034, 0.10533188248095757, 0.015669205658324265, 0.019151251360174103, 0.043743199129488576, 0.07399347116430903, 0.0017410228509249185, 0.00544069640914037, 0.05375408052230685, 0.026332970620239392, 0.07747551686615888, 0.08966267682263329, 0.016539717083786723, 0.0, 0.07769314472252448, 0.061371055495103376, 0.08052230685527748, 0.02589771490750816, 0.009793253536452665, 0.014145810663764961, 0.0006528835690968443, 0.02002176278563656, 0.0004352557127312296], [0.08417789436031954, 0.019911768212710148, 0.030404196971503518, 0.038869679265529984, 0.13699773458924527, 0.017407893167998092, 0.031238821986407535, 0.02742339334684631, 0.07535471563133421, 0.0026231071896983425, 0.009777035888875641, 0.042327411470132345, 0.024204125432216526, 0.05353523309884345, 0.06879694765708835, 0.020269464647669013, 0.005484678669369262, 0.09013950160963395, 0.07165851913675927, 0.07773935853105997, 0.030642661261476092, 0.013711696673423155, 0.013950160963395731, 0.002026946464766901, 0.010730893048765948, 0.0005961607249314415], [0.07164591977869986, 0.012171507607192255, 0.04564315352697095, 0.0326417704011065, 0.12005532503457815, 0.014661134163208852, 0.02517289073305671, 0.02351313969571231, 0.0946058091286307, 0.0024896265560165973, 0.0016597510373443983, 0.05698478561549101, 0.022406639004149378, 0.07551867219917012, 0.07662517289073306, 0.02074688796680498, 0.0016597510373443983, 0.05394190871369295, 0.08796680497925312, 0.08105117565698479, 0.029045643153526972, 0.018810511756569847, 0.01189488243430152, 0.0005532503457814661, 0.017980636237897647, 0.0005532503457814661], [0.07220965309200603, 0.02771493212669683, 0.02997737556561086, 0.03959276018099547, 0.12104072398190045, 0.016779788838612367, 0.02356711915535445, 0.05901206636500754, 0.06523378582202112, 0.0015082956259426848, 0.013009049773755657, 0.04487179487179487, 0.021493212669683258, 0.05863499245852187, 0.08766968325791855, 0.016779788838612367, 0.0003770739064856712, 0.059200603318250375, 0.07334087481146305, 0.09370286576168929, 0.024321266968325792, 0.005090497737556561, 0.0196078431372549, 0.006033182503770739, 0.01753393665158371, 0.0016968325791855204], [0.07380639509417433, 0.020367936925098553, 0.031099430573806396, 0.039640823477879984, 0.14126149802890933, 0.020367936925098553, 0.020367936925098553, 0.05694261936049058, 0.06504599211563732, 0.0032851511169513796, 0.005913272010512484, 0.039640823477879984, 0.02890932982917214, 0.06219886114761279, 0.06614104248795445, 0.018834866403854577, 0.0004380201489268506, 0.07249233464739378, 0.059570740254051686, 0.09548839246605344, 0.024967148488830485, 0.01073149364870784, 0.02387209811651336, 0.0030661410424879547, 0.014892685063512922, 0.000657030223390276], [0.07873813798409848, 0.010451397794306233, 0.037253141831238776, 0.053282893049499874, 0.15048730443703515, 0.016222108232880224, 0.01070787381379841, 0.015516799179276737, 0.069376763272634, 0.0023082841754295974, 0.004103616311874839, 0.07027442934085663, 0.026801744036932546, 0.07219799948704796, 0.04917927673762503, 0.026032315978456014, 0.005898948448320082, 0.07508335470633495, 0.07162092844319057, 0.07758399589638369, 0.053475250064119004, 0.014298538086688895, 0.0007053090536034881, 0.003911259297255706, 0.003654783277763529, 0.0008335470633495768], [0.07791271757540812, 0.014919456556993045, 0.03574903600129734, 0.04483044434033659, 0.14973512559011135, 0.011784208439943782, 0.011495909762513964, 0.012613067137554506, 0.07200259468809687, 0.0021262027460449027, 0.0019460160726512668, 0.0650113517604238, 0.03146059317452881, 0.06875923456701143, 0.056938988792388914, 0.029154203755090275, 0.00684709358895816, 0.07474143212368013, 0.08209304839814047, 0.07056110130094778, 0.05445241269955674, 0.010631013730224513, 0.004540704169519623, 0.0038920321453025336, 0.00533352553245162, 0.0004684853508234531], [0.07271652379544782, 0.01306532663316583, 0.03541235589713272, 0.044989654153118536, 0.1507537688442211, 0.010523204256577002, 0.010582323381613952, 0.011528229382205143, 0.07141590304463494, 0.003015075376884422, 0.0010050251256281408, 0.05959207803724505, 0.04203369790127106, 0.0762636712976648, 0.06195684303872303, 0.031451374519657106, 0.006621342004138339, 0.07691398167307124, 0.07833284067395803, 0.06568134791605085, 0.05090156665681348, 0.012710611882944133, 0.002601241501625776, 0.004966006503103754, 0.0048477682530298554, 0.0001182382500738989], [0.07259865971705137, 0.015760734673616283, 0.03983618763961281, 0.05112931248448747, 0.15711094564408043, 0.013030528667163067, 0.01352692975924547, 0.014395631670389675, 0.08562918838421445, 0.004343509555721023, 0.0018615040953090098, 0.06205013651030032, 0.029039463886820552, 0.07396376272027798, 0.056217423678332094, 0.02345495160089352, 0.005832712831968231, 0.08203028046661702, 0.06651774633904195, 0.06105733432613552, 0.04269049391908662, 0.015140233308513279, 0.0007446016381236039, 0.005088111193844626, 0.004964010920824026, 0.0019856043683296105], [0.07894736842105263, 0.011500974658869395, 0.035282651072124756, 0.05185185185185185, 0.14327485380116958, 0.012085769980506823, 0.020077972709551656, 0.01949317738791423, 0.0898635477582846, 0.003898635477582846, 0.0023391812865497076, 0.057504873294346975, 0.024756335282651074, 0.07992202729044834, 0.05964912280701754, 0.023391812865497075, 0.004678362573099415, 0.07777777777777778, 0.0723196881091618, 0.06335282651072124, 0.043859649122807015, 0.014035087719298246, 0.0003898635477582846, 0.003313840155945419, 0.005263157894736842, 0.0011695906432748538], [0.1260587942202292, 0.03238664673642252, 0.014449427005480818, 0.0343796711509716, 0.0966616841056303, 0.004484304932735426, 0.059790732436472344, 0.013951170901843548, 0.10463378176382661, 0.003986048829098156, 0.02491280518186348, 0.04833084205281515, 0.029397110114598904, 0.08619830592924764, 0.03736920777279522, 0.02491280518186348, 0.0, 0.07673143996013951, 0.06925759840558046, 0.046836073741903336, 0.04235176880916791, 0.003986048829098156, 0.0064773293472845045, 0.0014947683109118087, 0.009466865969108122, 0.0014947683109118087], [0.1475554435483871, 0.02469758064516129, 0.00919858870967742, 0.03944052419354839, 0.09337197580645161, 0.011088709677419355, 0.03389616935483871, 0.01852318548387097, 0.1003024193548387, 0.005292338709677419, 0.037928427419354836, 0.03717237903225806, 0.03843245967741935, 0.0846774193548387, 0.03553427419354839, 0.03477822580645161, 0.0, 0.04662298387096774, 0.08140120967741936, 0.05078125, 0.04057459677419355, 0.008064516129032258, 0.005040322580645161, 0.0013860887096774194, 0.013608870967741936, 0.0006300403225806451], [0.17736041805822955, 0.02333896507013477, 0.0055007661781462415, 0.038741110368944245, 0.08365093709480964, 0.012691053396723115, 0.049585477977289696, 0.018663313818710465, 0.08714785273663117, 0.007386743153510667, 0.039409060547719144, 0.035519233036030017, 0.04192369651487171, 0.09932812070252642, 0.03092216415857923, 0.030057758044870535, 0.0, 0.0520608227574555, 0.04762091862795175, 0.049860516286197004, 0.04852461592864721, 0.0015716474794703547, 0.004086283446622922, 0.0002357471219205532, 0.01457703037208754, 0.0002357471219205532], [0.16920496477692049, 0.02529352566252935, 0.004562227440456223, 0.03240523314324052, 0.06970815162697082, 0.007916806440791681, 0.045085541764508553, 0.015028513921502852, 0.09734988258973498, 0.006642066420664207, 0.0409929553840993, 0.04850721234485072, 0.04340825226434083, 0.08896343508889634, 0.05790003354579, 0.029654478362965447, 0.0, 0.050050318685005035, 0.05441127138544113, 0.0497819523649782, 0.04662864810466286, 0.002214022140221402, 0.0018114726601811473, 0.00020127474002012746, 0.011741026501174102, 0.0005367326400536733], [0.18005324329588987, 0.025663917927407312, 0.00824621777806636, 0.04610090253879618, 0.0835822349198104, 0.005113304330887605, 0.034121160963573795, 0.02082656970326602, 0.08869553925069801, 0.009057853386143757, 0.035922992013505614, 0.0356795013310824, 0.03397506655411986, 0.09991234335432764, 0.03481916758652036, 0.0297220959677943, 0.00017855983377702746, 0.056879423414064025, 0.054379585741185635, 0.05020777871566781, 0.04326017791052529, 0.003003051749886371, 0.006233361470034413, 0.00030842153106941107, 0.01292123888059217, 0.0011362898513083567], [0.2230594776501573, 0.024581169068695587, 0.00812056478162265, 0.01316848342965835, 0.02421537786231619, 0.003511595581242227, 0.09631282463969566, 0.01880166800790109, 0.08716804448021069, 0.0012802692223278951, 0.02703197015143756, 0.05084497768673641, 0.03021435364693833, 0.12722218157875484, 0.04473626454020045, 0.033543053624990854, 0.0008778988953105567, 0.017667715268124953, 0.04905260077547736, 0.05453946887116834, 0.027507498719730777, 0.0024508010827419707, 0.012400321896261614, 0.0005121076889311581, 0.020118516350866925, 0.0010607944985002562], [0.21998113838946184, 0.017918530011256123, 0.004989200206869277, 0.013994098141218703, 0.02305983998052995, 0.0017948951963737032, 0.08989686958108971, 0.016884183626905174, 0.08515104499406773, 0.0006997049070609351, 0.03504608925800858, 0.046332633628426274, 0.04319917252289252, 0.12929329804386847, 0.04946609473396003, 0.028840010951902893, 0.00024337561984728179, 0.023181527790453592, 0.05412065346353929, 0.044872379909342584, 0.032673176964497584, 0.0006388610020991147, 0.009096163791792157, 0.00030421952480910226, 0.02817072799732287, 0.00015210976240455113], [0.22971761541909458, 0.0210667861945316, 0.002521290900941282, 0.012774540564769161, 0.029807261317794712, 0.0002801434334379202, 0.09143881667413715, 0.011261766024204393, 0.07037203047960555, 0.0017929179740026895, 0.03120797848498431, 0.049305244285073956, 0.035186015239802776, 0.13525324966382787, 0.04280591662931421, 0.03132003585835948, 5.6028686687584046e-05, 0.02689376961004034, 0.047344240251008515, 0.059614522635589424, 0.03479381443298969, 0.0010645450470640968, 0.014287315105333931, 5.6028686687584046e-05, 0.019722097714029583, 5.6028686687584046e-05], [0.1775587828492393, 0.022821576763485476, 0.019017980636237896, 0.021784232365145227, 0.06492047026279392, 0.004927385892116182, 0.06690871369294606, 0.019017980636237896, 0.07451590594744122, 0.0019017980636237897, 0.02057399723374827, 0.042444674965421855, 0.03734439834024896, 0.11298409405255878, 0.056016597510373446, 0.029132088520055326, 0.0004322268326417704, 0.04590248962655602, 0.05895573997233748, 0.054806362378976486, 0.027835408022130016, 0.005100276625172891, 0.008212309820193638, 0.0008644536652835408, 0.023340248962655602, 0.0026798063623789765], [0.20236947237911557, 0.02273040363686458, 0.0195619231299077, 0.03705744592919135, 0.06419617027138724, 0.0057859209257473485, 0.033062405289984845, 0.006750241080038573, 0.07549249207879873, 0.00234192037470726, 0.014740322358451578, 0.0505579280892685, 0.02383248381319741, 0.11489185838269735, 0.06764017082242733, 0.03085824493731919, 0.0017908802865408459, 0.039399366303898606, 0.06502273040363686, 0.04614960738393718, 0.027827524452403912, 0.0048216007714561235, 0.0057859209257473485, 0.00041328006612481057, 0.03388896542223447, 0.0030307204849152774]]}, {'labels': ['en', 'en', 'fr', 'fr', 'id', 'id', 'tl', 'tl'], 'freqs': [[0.06782261776891207, 0.013459304237269558, 0.03432780201231943, 0.04881737872377737, 0.11611389991012516, 0.020013590828382912, 0.016002104386330256, 0.022797518577785572, 0.07691970450908613, 0.002411276003419628, 0.005502093425984787, 0.03827352638155155, 0.030097108660864992, 0.07400425261404239, 0.08373703939148162, 0.028321532694710536, 0.000657620728205353, 0.07012429031763082, 0.07955018742190754, 0.0751222078519915, 0.02591025669129091, 0.014774545693680264, 0.036103377978473884, 0.005633617571625857, 0.013086652491286526, 0.00041649312786339027], [0.08028287821720025, 0.016174278091650972, 0.03534996861268048, 0.0383415725047081, 0.12986503452605147, 0.016703939108600126, 0.01895009416195857, 0.04269656308851224, 0.07398579723791589, 0.004462884494664155, 0.00673846516007533, 0.043324309478970494, 0.025384494664155682, 0.07053319209039548, 0.07392694601381042, 0.04098987758945386, 0.0011377903327055869, 0.06622724419334589, 0.06359855618330194, 0.07888025737602009, 0.027630649717514125, 0.013025737602008789, 0.014879551161330822, 0.00211864406779661, 0.013300376647834275, 0.0014908976773383553], [0.056764285176541446, 0.012007829556576075, 0.03583527817511104, 0.04987578107355266, 0.12715501016336672, 0.013475871414590078, 0.008620040653466837, 0.007302567191146578, 0.08604983813897463, 0.002785515320334262, 0.0017315365504780547, 0.046224497477979375, 0.03259805766769555, 0.07396672438455168, 0.07761800798012497, 0.035270646691259504, 0.006361514718060679, 0.06730407287510351, 0.09007754272378228, 0.0684333358428066, 0.042911992772717004, 0.013852292403824438, 0.028909131973198825, 0.009297598434088684, 0.005156967552510728, 0.0004140630881577957], [0.07187479305092603, 0.011412551599302444, 0.03847597183285137, 0.04033023553563939, 0.13935674709167567, 0.012185161475464118, 0.015385973819562483, 0.018410189620538177, 0.0794905189730911, 0.004150018763382707, 0.002384053332156023, 0.05874042515617757, 0.033200150107061656, 0.07083728836008035, 0.06988808194079602, 0.04960155404957948, 0.006887265181784066, 0.06406039601774795, 0.07302267058122337, 0.06633407651045231, 0.048652347630295134, 0.013597933820445465, 0.0028917683936336945, 0.004282466170724708, 0.0033553343193306992, 0.0011920266660780114], [0.1043223919402015, 0.022424439389015276, 0.015274618134546636, 0.04419889502762431, 0.08937276568085797, 0.011374715632109197, 0.026649333766655833, 0.015599610009749756, 0.0905102372440689, 0.005362365940851478, 0.024536886577835555, 0.034286642833929154, 0.04192395190120247, 0.0831979200519987, 0.060610984725381865, 0.025999350016249593, 0.0006499837504062399, 0.06954826129346767, 0.07929801754956126, 0.05281117972050699, 0.03688657783555411, 0.016574585635359115, 0.03363665908352291, 0.004874878128046799, 0.009587260318492039, 0.0004874878128046799], [0.16473616473616473, 0.026052026052026053, 0.014586014586014585, 0.04157404157404158, 0.08825708825708825, 0.006201006201006201, 0.035997035997036, 0.025116025116025117, 0.08205608205608206, 0.007254007254007254, 0.03853203853203853, 0.04301704301704302, 0.040872040872040875, 0.08985608985608985, 0.03116103116103116, 0.03634803634803635, 0.000156000156000156, 0.053625053625053626, 0.048789048789048786, 0.05323505323505324, 0.047424047424047426, 0.00468000468000468, 0.004602004602004602, 0.000468000468000468, 0.01482001482001482, 0.000585000585000585], [0.1855536497045931, 0.019668381932532876, 0.01437011625690871, 0.0267200304936154, 0.03308557270821422, 0.007966457023060796, 0.08252334667429007, 0.014065180102915952, 0.08172288927005908, 0.00022870211549456832, 0.023861254049933295, 0.03552506194015628, 0.03815513626834382, 0.12224128073184677, 0.05812845435486945, 0.03129407280350677, 0.0001524680769963789, 0.03582999809414904, 0.05870020964360587, 0.05225843339050886, 0.02389937106918239, 0.004802744425385935, 0.028359062321326473, 0.00339241471316943, 0.017076424623594436, 0.0004192872117400419], [0.16767554479418886, 0.01694915254237288, 0.018765133171912834, 0.024818401937046004, 0.05569007263922518, 0.009079903147699757, 0.06658595641646489, 0.011501210653753027, 0.07021791767554479, 0.0006053268765133172, 0.020581113801452784, 0.04055690072639225, 0.03571428571428571, 0.1059322033898305, 0.06779661016949153, 0.0526634382566586, 0.0012106537530266344, 0.04418886198547216, 0.0526634382566586, 0.06174334140435835, 0.03753026634382567, 0.0018159806295399517, 0.016343825665859565, 0.0006053268765133172, 0.018159806295399514, 0.0006053268765133172]]}]\n"
     ]
    }
   ],
   "source": [
    "# 위에서 생성한 json 파일을 불러옴\n",
    "try:\n",
    "    with open('{}.json'.format(full_path),'r', encoding='utf-8') as f:\n",
    "        # json 불러오기\n",
    "        tmp = json.load(f)\n",
    "    print('정상출력','\\n길이 =', len(tmp),tmp) # 0:train, 1:test\n",
    "    # 길이가 2면 정상\n",
    "    \n",
    "except Exception as e :\n",
    "    print('에러발생', e)"
   ]
  },
  {
   "cell_type": "code",
   "execution_count": 46,
   "metadata": {},
   "outputs": [
    {
     "data": {
      "text/plain": [
       "(20, 20)"
      ]
     },
     "execution_count": 46,
     "metadata": {},
     "output_type": "execute_result"
    }
   ],
   "source": [
    "# 훈련 데이터 크기확인 => 20 개\n",
    "len(tmp[0]['labels']),len(tmp[0]['freqs'])"
   ]
  },
  {
   "cell_type": "code",
   "execution_count": 47,
   "metadata": {},
   "outputs": [
    {
     "data": {
      "text/plain": [
       "(8, 8)"
      ]
     },
     "execution_count": 47,
     "metadata": {},
     "output_type": "execute_result"
    }
   ],
   "source": [
    "# 테스트 데이터 크기확인  => 8 개 \n",
    "len(tmp[1]['labels']),len(tmp[1]['freqs'])"
   ]
  },
  {
   "cell_type": "code",
   "execution_count": 48,
   "metadata": {},
   "outputs": [
    {
     "data": {
      "text/html": [
       "<div>\n",
       "<style scoped>\n",
       "    .dataframe tbody tr th:only-of-type {\n",
       "        vertical-align: middle;\n",
       "    }\n",
       "\n",
       "    .dataframe tbody tr th {\n",
       "        vertical-align: top;\n",
       "    }\n",
       "\n",
       "    .dataframe thead th {\n",
       "        text-align: right;\n",
       "    }\n",
       "</style>\n",
       "<table border=\"1\" class=\"dataframe\">\n",
       "  <thead>\n",
       "    <tr style=\"text-align: right;\">\n",
       "      <th></th>\n",
       "      <th>0</th>\n",
       "      <th>1</th>\n",
       "      <th>2</th>\n",
       "      <th>3</th>\n",
       "      <th>4</th>\n",
       "      <th>5</th>\n",
       "      <th>6</th>\n",
       "      <th>7</th>\n",
       "      <th>8</th>\n",
       "      <th>9</th>\n",
       "      <th>...</th>\n",
       "      <th>16</th>\n",
       "      <th>17</th>\n",
       "      <th>18</th>\n",
       "      <th>19</th>\n",
       "      <th>20</th>\n",
       "      <th>21</th>\n",
       "      <th>22</th>\n",
       "      <th>23</th>\n",
       "      <th>24</th>\n",
       "      <th>25</th>\n",
       "    </tr>\n",
       "  </thead>\n",
       "  <tbody>\n",
       "    <tr>\n",
       "      <th>0</th>\n",
       "      <td>0.075952</td>\n",
       "      <td>0.012840</td>\n",
       "      <td>0.045702</td>\n",
       "      <td>0.046137</td>\n",
       "      <td>0.105332</td>\n",
       "      <td>0.015669</td>\n",
       "      <td>0.019151</td>\n",
       "      <td>0.043743</td>\n",
       "      <td>0.073993</td>\n",
       "      <td>0.001741</td>\n",
       "      <td>...</td>\n",
       "      <td>0.000000</td>\n",
       "      <td>0.077693</td>\n",
       "      <td>0.061371</td>\n",
       "      <td>0.080522</td>\n",
       "      <td>0.025898</td>\n",
       "      <td>0.009793</td>\n",
       "      <td>0.014146</td>\n",
       "      <td>0.000653</td>\n",
       "      <td>0.020022</td>\n",
       "      <td>0.000435</td>\n",
       "    </tr>\n",
       "    <tr>\n",
       "      <th>1</th>\n",
       "      <td>0.084178</td>\n",
       "      <td>0.019912</td>\n",
       "      <td>0.030404</td>\n",
       "      <td>0.038870</td>\n",
       "      <td>0.136998</td>\n",
       "      <td>0.017408</td>\n",
       "      <td>0.031239</td>\n",
       "      <td>0.027423</td>\n",
       "      <td>0.075355</td>\n",
       "      <td>0.002623</td>\n",
       "      <td>...</td>\n",
       "      <td>0.005485</td>\n",
       "      <td>0.090140</td>\n",
       "      <td>0.071659</td>\n",
       "      <td>0.077739</td>\n",
       "      <td>0.030643</td>\n",
       "      <td>0.013712</td>\n",
       "      <td>0.013950</td>\n",
       "      <td>0.002027</td>\n",
       "      <td>0.010731</td>\n",
       "      <td>0.000596</td>\n",
       "    </tr>\n",
       "    <tr>\n",
       "      <th>2</th>\n",
       "      <td>0.071646</td>\n",
       "      <td>0.012172</td>\n",
       "      <td>0.045643</td>\n",
       "      <td>0.032642</td>\n",
       "      <td>0.120055</td>\n",
       "      <td>0.014661</td>\n",
       "      <td>0.025173</td>\n",
       "      <td>0.023513</td>\n",
       "      <td>0.094606</td>\n",
       "      <td>0.002490</td>\n",
       "      <td>...</td>\n",
       "      <td>0.001660</td>\n",
       "      <td>0.053942</td>\n",
       "      <td>0.087967</td>\n",
       "      <td>0.081051</td>\n",
       "      <td>0.029046</td>\n",
       "      <td>0.018811</td>\n",
       "      <td>0.011895</td>\n",
       "      <td>0.000553</td>\n",
       "      <td>0.017981</td>\n",
       "      <td>0.000553</td>\n",
       "    </tr>\n",
       "  </tbody>\n",
       "</table>\n",
       "<p>3 rows × 26 columns</p>\n",
       "</div>"
      ],
      "text/plain": [
       "         0         1         2         3         4         5         6   \\\n",
       "0  0.075952  0.012840  0.045702  0.046137  0.105332  0.015669  0.019151   \n",
       "1  0.084178  0.019912  0.030404  0.038870  0.136998  0.017408  0.031239   \n",
       "2  0.071646  0.012172  0.045643  0.032642  0.120055  0.014661  0.025173   \n",
       "\n",
       "         7         8         9     ...           16        17        18  \\\n",
       "0  0.043743  0.073993  0.001741    ...     0.000000  0.077693  0.061371   \n",
       "1  0.027423  0.075355  0.002623    ...     0.005485  0.090140  0.071659   \n",
       "2  0.023513  0.094606  0.002490    ...     0.001660  0.053942  0.087967   \n",
       "\n",
       "         19        20        21        22        23        24        25  \n",
       "0  0.080522  0.025898  0.009793  0.014146  0.000653  0.020022  0.000435  \n",
       "1  0.077739  0.030643  0.013712  0.013950  0.002027  0.010731  0.000596  \n",
       "2  0.081051  0.029046  0.018811  0.011895  0.000553  0.017981  0.000553  \n",
       "\n",
       "[3 rows x 26 columns]"
      ]
     },
     "execution_count": 48,
     "metadata": {},
     "output_type": "execute_result"
    }
   ],
   "source": [
    "# 훈련(train)데이터의 빈도데이터만 로드 \n",
    "# df_freqs 변수에 데이터 프레임 형태의 tmp[0]['freqs'] 데이터를 할당\n",
    "df_freqs = pd.DataFrame(tmp[0]['freqs']) # 0 => train_data\n",
    "# 데이터 확인 \n",
    "df_freqs.head(3) # 값이다름"
   ]
  },
  {
   "cell_type": "code",
   "execution_count": 49,
   "metadata": {},
   "outputs": [
    {
     "data": {
      "text/plain": [
       "(20, 26)"
      ]
     },
     "execution_count": 49,
     "metadata": {},
     "output_type": "execute_result"
    }
   ],
   "source": [
    "df_freqs.shape"
   ]
  },
  {
   "cell_type": "code",
   "execution_count": 50,
   "metadata": {},
   "outputs": [
    {
     "data": {
      "text/html": [
       "<div>\n",
       "<style scoped>\n",
       "    .dataframe tbody tr th:only-of-type {\n",
       "        vertical-align: middle;\n",
       "    }\n",
       "\n",
       "    .dataframe tbody tr th {\n",
       "        vertical-align: top;\n",
       "    }\n",
       "\n",
       "    .dataframe thead th {\n",
       "        text-align: right;\n",
       "    }\n",
       "</style>\n",
       "<table border=\"1\" class=\"dataframe\">\n",
       "  <thead>\n",
       "    <tr style=\"text-align: right;\">\n",
       "      <th></th>\n",
       "      <th>0</th>\n",
       "    </tr>\n",
       "  </thead>\n",
       "  <tbody>\n",
       "    <tr>\n",
       "      <th>0</th>\n",
       "      <td>en</td>\n",
       "    </tr>\n",
       "    <tr>\n",
       "      <th>1</th>\n",
       "      <td>en</td>\n",
       "    </tr>\n",
       "    <tr>\n",
       "      <th>2</th>\n",
       "      <td>en</td>\n",
       "    </tr>\n",
       "  </tbody>\n",
       "</table>\n",
       "</div>"
      ],
      "text/plain": [
       "    0\n",
       "0  en\n",
       "1  en\n",
       "2  en"
      ]
     },
     "execution_count": 50,
     "metadata": {},
     "output_type": "execute_result"
    }
   ],
   "source": [
    "# 훈련 데이터의 정답 데이터만 로드\n",
    "# df_labels 변수에 데이터 프레임 형태의 tmp[0]['labels'] 데이터를 할당\n",
    "df_labels = pd.DataFrame(tmp[0]['labels']) # 0 => train_data\n",
    "# 데이터 확인 \n",
    "df_labels.head(3) # 값이다름"
   ]
  },
  {
   "cell_type": "code",
   "execution_count": 51,
   "metadata": {},
   "outputs": [
    {
     "data": {
      "text/plain": [
       "(20, 1)"
      ]
     },
     "execution_count": 51,
     "metadata": {},
     "output_type": "execute_result"
    }
   ],
   "source": [
    "df_labels.shape"
   ]
  },
  {
   "cell_type": "code",
   "execution_count": 52,
   "metadata": {
    "scrolled": true
   },
   "outputs": [],
   "source": [
    "#컬럼명을 변경 0 => label로 \n",
    "df_labels.columns = ['label']"
   ]
  },
  {
   "cell_type": "code",
   "execution_count": 53,
   "metadata": {},
   "outputs": [
    {
     "data": {
      "text/html": [
       "<div>\n",
       "<style scoped>\n",
       "    .dataframe tbody tr th:only-of-type {\n",
       "        vertical-align: middle;\n",
       "    }\n",
       "\n",
       "    .dataframe tbody tr th {\n",
       "        vertical-align: top;\n",
       "    }\n",
       "\n",
       "    .dataframe thead th {\n",
       "        text-align: right;\n",
       "    }\n",
       "</style>\n",
       "<table border=\"1\" class=\"dataframe\">\n",
       "  <thead>\n",
       "    <tr style=\"text-align: right;\">\n",
       "      <th></th>\n",
       "      <th>label</th>\n",
       "    </tr>\n",
       "  </thead>\n",
       "  <tbody>\n",
       "    <tr>\n",
       "      <th>0</th>\n",
       "      <td>en</td>\n",
       "    </tr>\n",
       "    <tr>\n",
       "      <th>1</th>\n",
       "      <td>en</td>\n",
       "    </tr>\n",
       "  </tbody>\n",
       "</table>\n",
       "</div>"
      ],
      "text/plain": [
       "  label\n",
       "0    en\n",
       "1    en"
      ]
     },
     "execution_count": 53,
     "metadata": {},
     "output_type": "execute_result"
    }
   ],
   "source": [
    "# 변경값을 확인 \n",
    "df_labels.head(2)"
   ]
  },
  {
   "cell_type": "markdown",
   "metadata": {},
   "source": [
    "###  짚고 넘어가기 \n",
    "#### `from string import ascii_lowercase`\n",
    "- 보통사람들은 a-z까지 소문자를 가지고 오려고 할때 'abcdefg ....'와 같이 손수 알파벳을 입력\n",
    "- 파이썬 => 데이터 상수로 정의 \n",
    "- 다음부터는 이 패키지를 이용해서 파이썬 다운 명령어를 사용해보자     \n",
    "\n",
    "```py\n",
    "import string \n",
    "\n",
    "string.ascii_lowercase # 소문자 abcdefghijklmnopqrstuvwxyz\n",
    "string.ascii_uppercase # 대문자 ABCDEFGHIJKLMNOPQRSTUVWXYZ\n",
    "string.ascii_letters #대소문자 모두 \n",
    "# abcdefghijklmnopqrstuvwxyzABCDEFGHIJKLMNOPQRSTUVWXYZ\n",
    "string.digits # 숫자 0123456789\n",
    "\n",
    "```\n",
    "---\n"
   ]
  },
  {
   "cell_type": "markdown",
   "metadata": {},
   "source": [
    "#### df_freqs 컬럼이름을 a부터 z까지 변경 "
   ]
  },
  {
   "cell_type": "code",
   "execution_count": 54,
   "metadata": {},
   "outputs": [
    {
     "data": {
      "text/plain": [
       "'abcdefghijklmnopqrstuvwxyz'"
      ]
     },
     "execution_count": 54,
     "metadata": {},
     "output_type": "execute_result"
    }
   ],
   "source": [
    "from string import ascii_lowercase\n",
    "# 소문자만 \n",
    "ascii_lowercase\n"
   ]
  },
  {
   "cell_type": "code",
   "execution_count": 55,
   "metadata": {
    "scrolled": true
   },
   "outputs": [
    {
     "data": {
      "text/plain": [
       "['a',\n",
       " 'b',\n",
       " 'c',\n",
       " 'd',\n",
       " 'e',\n",
       " 'f',\n",
       " 'g',\n",
       " 'h',\n",
       " 'i',\n",
       " 'j',\n",
       " 'k',\n",
       " 'l',\n",
       " 'm',\n",
       " 'n',\n",
       " 'o',\n",
       " 'p',\n",
       " 'q',\n",
       " 'r',\n",
       " 's',\n",
       " 't',\n",
       " 'u',\n",
       " 'v',\n",
       " 'w',\n",
       " 'x',\n",
       " 'y',\n",
       " 'z']"
      ]
     },
     "execution_count": 55,
     "metadata": {},
     "output_type": "execute_result"
    }
   ],
   "source": [
    "# 어떻게 동일한 값이니까 리스트에 담아서 집어 넣으면 \n",
    "list(ascii_lowercase) # 이제 데이터를 집어 넣을수 있는 상태로 만들어 진걸 할당해보겠음 "
   ]
  },
  {
   "cell_type": "code",
   "execution_count": 56,
   "metadata": {},
   "outputs": [
    {
     "data": {
      "text/plain": [
       "(RangeIndex(start=0, stop=26, step=1), 26)"
      ]
     },
     "execution_count": 56,
     "metadata": {},
     "output_type": "execute_result"
    }
   ],
   "source": [
    "# len(ascii_lowercase)\n",
    "df_freqs.columns,len(list(ascii_lowercase))"
   ]
  },
  {
   "cell_type": "code",
   "execution_count": 57,
   "metadata": {
    "scrolled": true
   },
   "outputs": [],
   "source": [
    "# df_freqs.columns.ascii_lowercase\n",
    "#AttributeError: 'RangeIndex' object has no attribute 'ascii_lowercase'"
   ]
  },
  {
   "cell_type": "code",
   "execution_count": 58,
   "metadata": {
    "scrolled": true
   },
   "outputs": [
    {
     "data": {
      "text/html": [
       "<div>\n",
       "<style scoped>\n",
       "    .dataframe tbody tr th:only-of-type {\n",
       "        vertical-align: middle;\n",
       "    }\n",
       "\n",
       "    .dataframe tbody tr th {\n",
       "        vertical-align: top;\n",
       "    }\n",
       "\n",
       "    .dataframe thead th {\n",
       "        text-align: right;\n",
       "    }\n",
       "</style>\n",
       "<table border=\"1\" class=\"dataframe\">\n",
       "  <thead>\n",
       "    <tr style=\"text-align: right;\">\n",
       "      <th></th>\n",
       "      <th>a</th>\n",
       "      <th>b</th>\n",
       "      <th>c</th>\n",
       "      <th>d</th>\n",
       "      <th>e</th>\n",
       "      <th>f</th>\n",
       "      <th>g</th>\n",
       "      <th>h</th>\n",
       "      <th>i</th>\n",
       "      <th>j</th>\n",
       "      <th>...</th>\n",
       "      <th>q</th>\n",
       "      <th>r</th>\n",
       "      <th>s</th>\n",
       "      <th>t</th>\n",
       "      <th>u</th>\n",
       "      <th>v</th>\n",
       "      <th>w</th>\n",
       "      <th>x</th>\n",
       "      <th>y</th>\n",
       "      <th>z</th>\n",
       "    </tr>\n",
       "  </thead>\n",
       "  <tbody>\n",
       "    <tr>\n",
       "      <th>0</th>\n",
       "      <td>0.075952</td>\n",
       "      <td>0.012840</td>\n",
       "      <td>0.045702</td>\n",
       "      <td>0.046137</td>\n",
       "      <td>0.105332</td>\n",
       "      <td>0.015669</td>\n",
       "      <td>0.019151</td>\n",
       "      <td>0.043743</td>\n",
       "      <td>0.073993</td>\n",
       "      <td>0.001741</td>\n",
       "      <td>...</td>\n",
       "      <td>0.000000</td>\n",
       "      <td>0.077693</td>\n",
       "      <td>0.061371</td>\n",
       "      <td>0.080522</td>\n",
       "      <td>0.025898</td>\n",
       "      <td>0.009793</td>\n",
       "      <td>0.014146</td>\n",
       "      <td>0.000653</td>\n",
       "      <td>0.020022</td>\n",
       "      <td>0.000435</td>\n",
       "    </tr>\n",
       "    <tr>\n",
       "      <th>1</th>\n",
       "      <td>0.084178</td>\n",
       "      <td>0.019912</td>\n",
       "      <td>0.030404</td>\n",
       "      <td>0.038870</td>\n",
       "      <td>0.136998</td>\n",
       "      <td>0.017408</td>\n",
       "      <td>0.031239</td>\n",
       "      <td>0.027423</td>\n",
       "      <td>0.075355</td>\n",
       "      <td>0.002623</td>\n",
       "      <td>...</td>\n",
       "      <td>0.005485</td>\n",
       "      <td>0.090140</td>\n",
       "      <td>0.071659</td>\n",
       "      <td>0.077739</td>\n",
       "      <td>0.030643</td>\n",
       "      <td>0.013712</td>\n",
       "      <td>0.013950</td>\n",
       "      <td>0.002027</td>\n",
       "      <td>0.010731</td>\n",
       "      <td>0.000596</td>\n",
       "    </tr>\n",
       "  </tbody>\n",
       "</table>\n",
       "<p>2 rows × 26 columns</p>\n",
       "</div>"
      ],
      "text/plain": [
       "          a         b         c         d         e         f         g  \\\n",
       "0  0.075952  0.012840  0.045702  0.046137  0.105332  0.015669  0.019151   \n",
       "1  0.084178  0.019912  0.030404  0.038870  0.136998  0.017408  0.031239   \n",
       "\n",
       "          h         i         j    ...            q         r         s  \\\n",
       "0  0.043743  0.073993  0.001741    ...     0.000000  0.077693  0.061371   \n",
       "1  0.027423  0.075355  0.002623    ...     0.005485  0.090140  0.071659   \n",
       "\n",
       "          t         u         v         w         x         y         z  \n",
       "0  0.080522  0.025898  0.009793  0.014146  0.000653  0.020022  0.000435  \n",
       "1  0.077739  0.030643  0.013712  0.013950  0.002027  0.010731  0.000596  \n",
       "\n",
       "[2 rows x 26 columns]"
      ]
     },
     "execution_count": 58,
     "metadata": {},
     "output_type": "execute_result"
    }
   ],
   "source": [
    "# 컬럼명 변경\n",
    "df_freqs.columns = list(ascii_lowercase)\n",
    "df_freqs.head(2)"
   ]
  },
  {
   "cell_type": "markdown",
   "metadata": {},
   "source": [
    "#### 이제 빈도수 데이터와 정답 레이블을 결합 \n",
    "- df_freqs, df_labels 결합 => (20, 27)\n",
    "    - merge\n",
    "    - concat"
   ]
  },
  {
   "cell_type": "markdown",
   "metadata": {},
   "source": [
    "---"
   ]
  },
  {
   "cell_type": "markdown",
   "metadata": {},
   "source": [
    "#### 짚고넘어가기 \n",
    "서로다른 데이터프레임을 합치는 방법은 3가지가 있음\n",
    "\n",
    "- merge(병합)\n",
    "    - 두 데이터프레임을 각 데이터에 존재하는 고유값(key)을 기준으로 병합할때 사용\n",
    "    - 공통된 하나의 열(or 행)을 기준으로 동일한 값을 가지는 행을 각 데이터프레임에서 찾은 후 모든 행을 가지도록 합치는 경우 \n",
    "    \n",
    "- concat(연결) \n",
    "    - 동일한 인덱스나 컬럼을 가진경을 연속적으로 붙이기 \n",
    "    - 데이터프레임을 말그대로 물리적으로 이어 붙여주는 함수\n",
    "         \n",
    "- join(결합)\n",
    "    - merge()함수를 기반으로 만들어졌기 때문에 기본 작동방식이 비슷\n",
    "    - 행(->) 인덱스를 기준으로 결합한다는 점에서 차이"
   ]
  },
  {
   "cell_type": "markdown",
   "metadata": {},
   "source": [
    "---"
   ]
  },
  {
   "cell_type": "markdown",
   "metadata": {},
   "source": [
    "## Step 04. 데이터 모델링 구축\n",
    "\n",
    "    - 알고리즘 선택\n",
    "    - 지도학습의 분류 \n",
    "        - SVM > SVC\n",
    "    - 학습\n",
    "        - 데이터(훈련용, 테스트용)\n",
    "        - 통계적 모델링 : 훈련용, 테스트용 \n",
    "        - 머신러닝 모델링: (훈련용, 검증용), 테스트용 \n",
    "    - 예측\n",
    "        - test 데이터를 사용\n",
    "    - 성능평가\n",
    "        - 분류 > 평가지표 > 정확도 정도 체크 \n",
    "    - 모델덤프\n",
    "        - 시슨템 통합단계 신규서비스에 제공하는 알고리즘 파일(학습된 모델이 적제된 ) 제공 \n",
    "    \n",
    "---\n",
    "![선택시트](https://t1.daumcdn.net/cfile/tistory/9950844F5C986AD827)\n"
   ]
  },
  {
   "cell_type": "markdown",
   "metadata": {},
   "source": [
    "### Step 04-1. 알고리즘 생성 "
   ]
  },
  {
   "cell_type": "code",
   "execution_count": 59,
   "metadata": {},
   "outputs": [],
   "source": [
    "from sklearn import svm, metrics"
   ]
  },
  {
   "cell_type": "code",
   "execution_count": 60,
   "metadata": {},
   "outputs": [
    {
     "data": {
      "text/plain": [
       "SVC(C=1.0, cache_size=200, class_weight=None, coef0=0.0,\n",
       "  decision_function_shape='ovr', degree=3, gamma='auto', kernel='rbf',\n",
       "  max_iter=-1, probability=False, random_state=None, shrinking=True,\n",
       "  tol=0.001, verbose=False)"
      ]
     },
     "execution_count": 60,
     "metadata": {},
     "output_type": "execute_result"
    }
   ],
   "source": [
    "# 분류기 이름 clf로 많이 사용 \n",
    "clf = svm.SVC( gamma = 'auto') \n",
    "clf"
   ]
  },
  {
   "cell_type": "markdown",
   "metadata": {},
   "source": [
    "---"
   ]
  },
  {
   "cell_type": "markdown",
   "metadata": {},
   "source": [
    "### Step 04-2. 지도학습 분류 \n",
    "- 훈련데이터 테스트데이터 \n",
    "- 이미 위에서 생성완료 "
   ]
  },
  {
   "cell_type": "code",
   "execution_count": 65,
   "metadata": {
    "scrolled": true
   },
   "outputs": [
    {
     "name": "stdout",
     "output_type": "stream",
     "text": [
      "\n",
      "길이 = 23\n"
     ]
    }
   ],
   "source": [
    "freq = try_load('test_data', 'r')\n",
    "# 버그 - 아니지 함수 오류 "
   ]
  },
  {
   "cell_type": "code",
   "execution_count": 68,
   "metadata": {
    "scrolled": true
   },
   "outputs": [
    {
     "data": {
      "text/plain": [
       "23"
      ]
     },
     "execution_count": 68,
     "metadata": {},
     "output_type": "execute_result"
    }
   ],
   "source": [
    "len(freq )"
   ]
  },
  {
   "cell_type": "code",
   "execution_count": 87,
   "metadata": {},
   "outputs": [],
   "source": [
    "file_path_output = './output/'\n",
    "file_name = 'labels_freqs_data'\n",
    "full_path = file_path_output + file_name"
   ]
  },
  {
   "cell_type": "code",
   "execution_count": 88,
   "metadata": {},
   "outputs": [
    {
     "name": "stdout",
     "output_type": "stream",
     "text": [
      "에러발생 [Errno 2] No such file or directory: './output/labels_freqs_data.json'\n"
     ]
    }
   ],
   "source": [
    "# 위에서 생성한 json 파일을 불러옴\n",
    "try:\n",
    "    with open('{}.json'.format(full_path),'r', encoding='utf-8') as f:\n",
    "        # json 불러오기\n",
    "        freq = json.load(f)\n",
    "    print('정상출력','\\n길이 =', len(freq),freq) # 0:train, 1:test\n",
    "    # 길이가 2면 정상\n",
    "    \n",
    "except Exception as e :\n",
    "    print('에러발생', e)"
   ]
  },
  {
   "cell_type": "code",
   "execution_count": 71,
   "metadata": {},
   "outputs": [
    {
     "data": {
      "text/plain": [
       "2"
      ]
     },
     "execution_count": 71,
     "metadata": {},
     "output_type": "execute_result"
    }
   ],
   "source": [
    "len(freq)"
   ]
  },
  {
   "cell_type": "code",
   "execution_count": 72,
   "metadata": {},
   "outputs": [
    {
     "data": {
      "text/plain": [
       "(20, 20)"
      ]
     },
     "execution_count": 72,
     "metadata": {},
     "output_type": "execute_result"
    }
   ],
   "source": [
    "# 훈련용 데이터\n",
    "len(freq[0]['labels']), len(freq[0]['freqs'])"
   ]
  },
  {
   "cell_type": "code",
   "execution_count": 62,
   "metadata": {
    "scrolled": false
   },
   "outputs": [
    {
     "data": {
      "text/plain": [
       "(20, 20)"
      ]
     },
     "execution_count": 62,
     "metadata": {},
     "output_type": "execute_result"
    }
   ],
   "source": [
    "#  데이터 확인겸 길이 확인 \n",
    "len(train_data['freqs']),len(train_data['labels'])"
   ]
  },
  {
   "cell_type": "code",
   "execution_count": 73,
   "metadata": {},
   "outputs": [
    {
     "data": {
      "text/plain": [
       "(8, 8)"
      ]
     },
     "execution_count": 73,
     "metadata": {},
     "output_type": "execute_result"
    }
   ],
   "source": [
    "# 테스트용 데이터\n",
    "len(freq[1]['labels']), len(freq[1]['freqs'])"
   ]
  },
  {
   "cell_type": "markdown",
   "metadata": {},
   "source": [
    "---"
   ]
  },
  {
   "cell_type": "markdown",
   "metadata": {},
   "source": [
    "### Step 04-3. 학습(훈련)"
   ]
  },
  {
   "cell_type": "code",
   "execution_count": 63,
   "metadata": {},
   "outputs": [
    {
     "data": {
      "text/plain": [
       "SVC(C=1.0, cache_size=200, class_weight=None, coef0=0.0,\n",
       "  decision_function_shape='ovr', degree=3, gamma='auto', kernel='rbf',\n",
       "  max_iter=-1, probability=False, random_state=None, shrinking=True,\n",
       "  tol=0.001, verbose=False)"
      ]
     },
     "execution_count": 63,
     "metadata": {},
     "output_type": "execute_result"
    }
   ],
   "source": [
    "# 훈련 \n",
    "clf.fit(train_data['freqs'], train_data['labels'])"
   ]
  },
  {
   "cell_type": "code",
   "execution_count": 74,
   "metadata": {
    "scrolled": true
   },
   "outputs": [
    {
     "data": {
      "text/plain": [
       "SVC(C=1.0, cache_size=200, class_weight=None, coef0=0.0,\n",
       "  decision_function_shape='ovr', degree=3, gamma='auto', kernel='rbf',\n",
       "  max_iter=-1, probability=False, random_state=None, shrinking=True,\n",
       "  tol=0.001, verbose=False)"
      ]
     },
     "execution_count": 74,
     "metadata": {},
     "output_type": "execute_result"
    }
   ],
   "source": [
    "clf.fit( freq[0]['freqs'], freq[0]['labels'] )"
   ]
  },
  {
   "cell_type": "markdown",
   "metadata": {},
   "source": [
    "---"
   ]
  },
  {
   "cell_type": "markdown",
   "metadata": {},
   "source": [
    "### Step 04-4. 예측\n",
    "    - 한번도 접하지 못한 데이터를 이용하여 예측 수행 "
   ]
  },
  {
   "cell_type": "code",
   "execution_count": 75,
   "metadata": {},
   "outputs": [],
   "source": [
    "# 예측에 사용된 데이터는 학습에 사용된 데이터와 \n",
    "# 동일 형태를 취해야 한다\n",
    "predict = clf.predict(freq[1]['freqs'])"
   ]
  },
  {
   "cell_type": "code",
   "execution_count": 76,
   "metadata": {},
   "outputs": [
    {
     "data": {
      "text/plain": [
       "array(['en', 'en', 'fr', 'fr', 'en', 'id', 'tl', 'tl'], dtype='<U2')"
      ]
     },
     "execution_count": 76,
     "metadata": {},
     "output_type": "execute_result"
    }
   ],
   "source": [
    "predict"
   ]
  },
  {
   "cell_type": "markdown",
   "metadata": {},
   "source": [
    "---"
   ]
  },
  {
   "cell_type": "markdown",
   "metadata": {},
   "source": [
    "### Step 04-5. 성능 평가 \n",
    "\n",
    "- 정확도만 확인\n",
    "- 목표한 수치에 도착할때까지 이전과정을 반복한다\n",
    "    - 데이터가 작으면, 더 많이 확보\n",
    "    - 데이터 준비 과정에서 문제가 있다면 보완\n",
    "    - 알고리즘이 적절하지 않다면 교차 검증후 확인\n",
    "    - 하이퍼파라미터 튜닝을 통해서 검증\n",
    "    - 목표한 수치에 도착할때까지 반복(에자일 방식)"
   ]
  },
  {
   "cell_type": "code",
   "execution_count": 77,
   "metadata": {},
   "outputs": [
    {
     "data": {
      "text/plain": [
       "0.875"
      ]
     },
     "execution_count": 77,
     "metadata": {},
     "output_type": "execute_result"
    }
   ],
   "source": [
    "# 정확도 \n",
    "metrics.accuracy_score( freq[1]['labels'],predict )"
   ]
  },
  {
   "cell_type": "code",
   "execution_count": 78,
   "metadata": {},
   "outputs": [
    {
     "name": "stdout",
     "output_type": "stream",
     "text": [
      "             precision    recall  f1-score   support\n",
      "\n",
      "         en       0.67      1.00      0.80         2\n",
      "         fr       1.00      1.00      1.00         2\n",
      "         id       1.00      0.50      0.67         2\n",
      "         tl       1.00      1.00      1.00         2\n",
      "\n",
      "avg / total       0.92      0.88      0.87         8\n",
      "\n"
     ]
    }
   ],
   "source": [
    "# 이쁘게 출력하기위해 프린트 사용 \n",
    "print( metrics.classification_report(freq[1]['labels'], predict ))"
   ]
  },
  {
   "cell_type": "markdown",
   "metadata": {},
   "source": [
    "---"
   ]
  },
  {
   "cell_type": "markdown",
   "metadata": {},
   "source": [
    "### Step 04-6. 모델 덤프 \n",
    "\n",
    "- 6단계 시스템 통합에서 사용할수 있게 제공\n",
    "- 모델을 향후 어떻게 갱신할 것인가? 이 주제는 생략\n",
    "    - 서비스가 진행 => 데이터가 쌓인다 -> 다시 학습이 가능 -> 모델을 업그레이드 가능 -> 실시간갱신, 주기적 갱신 등등 -> 학습 방식에 대한 고찰(배치학습, 온라인 학습등등..)"
   ]
  },
  {
   "cell_type": "code",
   "execution_count": 79,
   "metadata": {},
   "outputs": [],
   "source": [
    "# 예측 모델 저장 \n",
    "from sklearn.externals import joblib"
   ]
  },
  {
   "cell_type": "code",
   "execution_count": 82,
   "metadata": {},
   "outputs": [
    {
     "data": {
      "text/plain": [
       "['./output/clf_lang_20200310.model']"
      ]
     },
     "execution_count": 82,
     "metadata": {},
     "output_type": "execute_result"
    }
   ],
   "source": [
    "# 확장자는 자유롭게, 이름도 자유롭게, 시간정보는 입력\n",
    "'''\n",
    "save_path = '/content/drive/My Drive/clf_modle_202003101113.model'\n",
    "joblib.dump( clf, save_path)\n",
    "'''\n",
    "joblib.dump(clf, './output/clf_lang_20200310.model')"
   ]
  },
  {
   "cell_type": "code",
   "execution_count": null,
   "metadata": {},
   "outputs": [],
   "source": [
    "joblib.dump(clf, '../output/clf_lang_20200310.model')\n",
    "\n",
    "# 레이블!! (정답의 후보들)\n",
    "with open('../data/clf_lang_labels.txt', 'w') as f:\n",
    "    for label in list(set(train_data['labels'])):\n",
    "          f.writelines( label+'\\n' )"
   ]
  },
  {
   "cell_type": "code",
   "execution_count": 85,
   "metadata": {},
   "outputs": [
    {
     "data": {
      "text/plain": [
       "{'en': '영어', 'fr': '프랑스어', 'tl': '타갈리아어', 'id': '인도네시아어'}"
      ]
     },
     "execution_count": 85,
     "metadata": {},
     "output_type": "execute_result"
    }
   ],
   "source": [
    "# 정답 저장 \n",
    "label_dic = {\n",
    "    'en':'영어',\n",
    "    'fr':'프랑스어',\n",
    "    'tl':'타갈리아어',\n",
    "    'id':'인도네시아어'\n",
    "}\n",
    "label_dic"
   ]
  },
  {
   "cell_type": "code",
   "execution_count": 86,
   "metadata": {},
   "outputs": [],
   "source": [
    "# json으로 저장 \n",
    "with open('clf_labels.json','w', encoding= 'utf-8') as f: \n",
    "    json.dump(label_dic, f)"
   ]
  },
  {
   "cell_type": "code",
   "execution_count": null,
   "metadata": {},
   "outputs": [],
   "source": []
  },
  {
   "cell_type": "code",
   "execution_count": null,
   "metadata": {},
   "outputs": [],
   "source": []
  },
  {
   "cell_type": "markdown",
   "metadata": {},
   "source": [
    "---"
   ]
  },
  {
   "cell_type": "markdown",
   "metadata": {},
   "source": [
    "## Step 05. 시스템 통합 \n",
    "\n",
    "\n",
    "\n",
    "\n",
    "### 기본 Step\n",
    "---\n",
    "        \n",
    "### Step_01\n",
    "- 사용자가 번역에 필요한 글자를 입력 (알파벳만 사용, 영어권만 해당)  \n",
    "\n",
    "### Step_02\n",
    "- 언어감지라는 버튼을 클릭한다\n",
    "\n",
    "### Step_03\n",
    "- 언어를 읽어서 서버로 전송\n",
    "\n",
    "### Step_04\n",
    "- 서버에서 데이터를 알고리즘이 예측할수 있는 형태로 변환처리\n",
    "\n",
    "### Step_05\n",
    "- 예측\n",
    "\n",
    "### Step_06\n",
    "- 예측결과를 응답\n",
    "\n",
    "### Step_07\n",
    "- 응답 결과를 화면에 표시\n",
    "\n",
    "---\n"
   ]
  },
  {
   "cell_type": "code",
   "execution_count": null,
   "metadata": {},
   "outputs": [],
   "source": [
    "from IPython.display import Image\n",
    "\n",
    "path = './input/6.시스템통합_최종산출물.png'\n",
    "Image(path, width=500 )\n",
    "\n",
    "# 최종 산출물  \n",
    "# 웹기반 => 플라스크(간단하게 구현)\n",
    "# 머신러닝(SVM,SVC)로 언어감지, 딥러닝(RNN, many to many 신경망)으로 언어 번역 "
   ]
  },
  {
   "cell_type": "code",
   "execution_count": null,
   "metadata": {},
   "outputs": [],
   "source": [
    "# https://colab.research.google.com/drive/1j2x9zXnQ_Y4ZuJE4hwG0DhESFEpfrBkL#scrollTo=iJDRUPRyDeTV\n"
   ]
  },
  {
   "cell_type": "markdown",
   "metadata": {},
   "source": [
    "## 구동원리\n",
    "\n",
    "- 1. 사용자가 번역에 필요한 글자를 입력한다\n",
    "  (알파벳만 사용, 영어권만 해당)  \n",
    "- 2. 언어감지라는 버튼을 클릭한다\n",
    "- 3. 언어를 읽어서 서버로 전송\n",
    "- 4. 서버에서 데이터를 알고리즘이 예측할수 있는 형태로 변환처리\n",
    "- 5. 예측\n",
    "- 6. 예측결과를 응답\n",
    "- 8. 응답 결과를 화면에 표시"
   ]
  },
  {
   "cell_type": "code",
   "execution_count": null,
   "metadata": {},
   "outputs": [],
   "source": []
  }
 ],
 "metadata": {
  "kernelspec": {
   "display_name": "Python 3",
   "language": "python",
   "name": "python3"
  },
  "language_info": {
   "codemirror_mode": {
    "name": "ipython",
    "version": 3
   },
   "file_extension": ".py",
   "mimetype": "text/x-python",
   "name": "python",
   "nbconvert_exporter": "python",
   "pygments_lexer": "ipython3",
   "version": "3.6.5"
  }
 },
 "nbformat": 4,
 "nbformat_minor": 2
}
