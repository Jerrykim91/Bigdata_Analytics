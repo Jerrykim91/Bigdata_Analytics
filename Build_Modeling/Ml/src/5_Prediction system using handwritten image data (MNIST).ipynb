{
 "cells": [
  {
   "cell_type": "markdown",
   "metadata": {},
   "source": [
    "# 손글씨 이미지 데이터(MIST)를 이용한 예측 시스템 \n",
    "---\n",
    "- MIST(바이너리 데이터) \n",
    "- 바이너리 데이터를 디코딩하여(디코딩 처리법)\n",
    "- 샘플데이터(전체 데이터의 일부분)을 이용하여 머신러닝 모델을 구축 \n",
    "- 예측 수행(64%정도 예상)\n",
    "- 머신러닝 시험(내일) 테스트 => 정확도를 높이는 것  \n",
    "---"
   ]
  },
  {
   "cell_type": "markdown",
   "metadata": {},
   "source": [
    "## 1. 연구목표 \n",
    "- 손글씨 이미지(0-9)를 학습시켜, 새로운 손글씨 이미지가 들어오면 0-9중 어떤것을 예측한다\n",
    "- 원본데이터를 디코딩하여(바이너리 데이터) 개별 이미지로 저장\n",
    "- 픽셀데이터를 벡터화 \n",
    "- 정확도를 94퍼 이상 올리기 \n",
    "## 2. 데이터 획득/ 수집\n",
    "- 1.[THE MNIST DATABASE](http://yann.lecun.com/exdb/mnist/)\n",
    "- 2.사이트를 긁어서, 데이터의 URL을 직접 획득\n",
    "    - 스크래핑 사용 \n",
    "        - \n",
    "- 3.로컬에 바로 저장(url을 집적 연결하여 로컬 pc에 파일로 원하는 위치에 저장 )\n",
    "        \n",
    "## 3. 데이터 준비\n",
    "## 4. 데이터 분석\n",
    "## 5.데이터 모델링 \n",
    "## 6. 시스템 "
   ]
  },
  {
   "cell_type": "code",
   "execution_count": 49,
   "metadata": {},
   "outputs": [],
   "source": [
    "import pandas as pd\n",
    "from bs4 import BeautifulSoup\n",
    "import urllib.request as rq\n",
    "# 경로 \n",
    "import os , os.path, gzip"
   ]
  },
  {
   "cell_type": "code",
   "execution_count": 27,
   "metadata": {},
   "outputs": [],
   "source": [
    "# path = 'http://yann.lecun.com/exdb/mnist/'\n",
    "# files = ''\n",
    "target_url = 'http://yann.lecun.com/exdb/mnist/'"
   ]
  },
  {
   "cell_type": "markdown",
   "metadata": {},
   "source": [
    "[참고-72번줄](https://github.com/Jerrykim91/Bigdata_Analytics/blob/master/Build_Modeling/Ml/src/1.Sense%20of%20language%20translation%20services%20using%20Ml_full.ipynb)"
   ]
  },
  {
   "cell_type": "code",
   "execution_count": 28,
   "metadata": {},
   "outputs": [],
   "source": [
    "res  = rq.urlopen(target_url)\n",
    "soup = BeautifulSoup(res, 'html5lib')"
   ]
  },
  {
   "cell_type": "code",
   "execution_count": 29,
   "metadata": {},
   "outputs": [
    {
     "data": {
      "text/plain": [
       "list"
      ]
     },
     "execution_count": 29,
     "metadata": {},
     "output_type": "execute_result"
    }
   ],
   "source": [
    "tmp = soup.find_all('tt')[:4]\n",
    "type(tmp)"
   ]
  },
  {
   "cell_type": "code",
   "execution_count": 30,
   "metadata": {},
   "outputs": [
    {
     "name": "stdout",
     "output_type": "stream",
     "text": [
      "train-images-idx3-ubyte.gz\n",
      "train-labels-idx1-ubyte.gz\n",
      "t10k-images-idx3-ubyte.gz\n",
      "t10k-labels-idx1-ubyte.gz\n"
     ]
    }
   ],
   "source": [
    "# bs4 => string(스트링)\n",
    "# Selenium => 텍스트 \n",
    "for tt in tmp :\n",
    "    print(tt.a.string)"
   ]
  },
  {
   "cell_type": "code",
   "execution_count": 31,
   "metadata": {},
   "outputs": [
    {
     "name": "stdout",
     "output_type": "stream",
     "text": [
      "http://yann.lecun.com/exdb/mnist/train-images-idx3-ubyte.gz\n",
      "http://yann.lecun.com/exdb/mnist/train-labels-idx1-ubyte.gz\n",
      "http://yann.lecun.com/exdb/mnist/t10k-images-idx3-ubyte.gz\n",
      "http://yann.lecun.com/exdb/mnist/t10k-labels-idx1-ubyte.gz\n"
     ]
    }
   ],
   "source": [
    "for tt in soup.find_all('tt')[:4] :\n",
    "    print(target_url + tt.a.string )"
   ]
  },
  {
   "cell_type": "code",
   "execution_count": 33,
   "metadata": {},
   "outputs": [
    {
     "data": {
      "text/plain": [
       "['http://yann.lecun.com/exdb/mnist/train-images-idx3-ubyte.gz',\n",
       " 'http://yann.lecun.com/exdb/mnist/train-labels-idx1-ubyte.gz',\n",
       " 'http://yann.lecun.com/exdb/mnist/t10k-images-idx3-ubyte.gz',\n",
       " 'http://yann.lecun.com/exdb/mnist/t10k-labels-idx1-ubyte.gz']"
      ]
     },
     "execution_count": 33,
     "metadata": {},
     "output_type": "execute_result"
    }
   ],
   "source": [
    "# 다음 단계를 위해서 최종 URL이 담긴 리스트로 전달 하겠다. \n",
    "# files  \n",
    "files = [target_url + tt.a.string for tt in soup.find_all('tt')[:4]]\n",
    "files"
   ]
  },
  {
   "cell_type": "code",
   "execution_count": 38,
   "metadata": {},
   "outputs": [
    {
     "data": {
      "text/plain": [
       "['train-images-idx3-ubyte.gz',\n",
       " 'train-labels-idx1-ubyte.gz',\n",
       " 't10k-images-idx3-ubyte.gz',\n",
       " 't10k-labels-idx1-ubyte.gz']"
      ]
     },
     "execution_count": 38,
     "metadata": {},
     "output_type": "execute_result"
    }
   ],
   "source": [
    "files = [tt.a.string for tt in soup.find_all('tt')[:4]]\n",
    "files"
   ]
  },
  {
   "cell_type": "code",
   "execution_count": 34,
   "metadata": {},
   "outputs": [],
   "source": [
    "# 파일 저장 경로 지정 \n",
    "# savePath = './data/mnist'\n",
    "savePath = './data/mnist'\n",
    "if not os.path.exists(savePath):\n",
    "    # 디렉토리를만들어라 \n",
    "    os.makedirs( savePath )\n",
    "    "
   ]
  },
  {
   "cell_type": "code",
   "execution_count": 42,
   "metadata": {},
   "outputs": [
    {
     "name": "stdout",
     "output_type": "stream",
     "text": [
      "./data/mnist/train-images-idx3-ubyte.gz\n",
      "./data/mnist/train-labels-idx1-ubyte.gz\n",
      "./data/mnist/t10k-images-idx3-ubyte.gz\n",
      "./data/mnist/t10k-labels-idx1-ubyte.gz\n"
     ]
    }
   ],
   "source": [
    "# 저장 \n",
    "for file in files:\n",
    "    # 로컬에 저장 위치 \n",
    "    print( '%s/%s' % (savePath ,file))\n",
    "    "
   ]
  },
  {
   "cell_type": "code",
   "execution_count": 46,
   "metadata": {},
   "outputs": [
    {
     "name": "stderr",
     "output_type": "stream",
     "text": [
      "C:\\Users\\admin\\Anaconda3\\lib\\site-packages\\ipykernel_launcher.py:3: TqdmDeprecationWarning: This function will be removed in tqdm==5.0.0\n",
      "Please use `tqdm.notebook.tqdm` instead of `tqdm.tqdm_notebook`\n",
      "  This is separate from the ipykernel package so we can avoid doing imports until\n"
     ]
    },
    {
     "data": {
      "application/vnd.jupyter.widget-view+json": {
       "model_id": "4d392157cb1a4b59980146535003cd9b",
       "version_major": 2,
       "version_minor": 0
      },
      "text/plain": [
       "HBox(children=(FloatProgress(value=0.0, max=4.0), HTML(value='')))"
      ]
     },
     "metadata": {},
     "output_type": "display_data"
    },
    {
     "name": "stdout",
     "output_type": "stream",
     "text": [
      "./data/mnist/train-images-idx3-ubyte.gz\n",
      "./data/mnist/train-labels-idx1-ubyte.gz\n",
      "./data/mnist/t10k-images-idx3-ubyte.gz\n",
      "./data/mnist/t10k-labels-idx1-ubyte.gz\n",
      "\n"
     ]
    }
   ],
   "source": [
    "from tqdm import tqdm_notebook  # 진행바\n",
    "# 저장 \n",
    "for file in tqdm_notebook(files):\n",
    "    # 로컬에 저장 위치 \n",
    "    print(f'{savePath}/{file}')\n",
    "    local_path = f'{savePath}/{file}'\n",
    "    if not os.path.exists(local_path):\n",
    "        # 디렉토리를만들어라 \n",
    "        rq.urlretrieve( target_url + file, local_path)\n",
    "    "
   ]
  },
  {
   "cell_type": "code",
   "execution_count": 50,
   "metadata": {},
   "outputs": [
    {
     "name": "stderr",
     "output_type": "stream",
     "text": [
      "C:\\Users\\admin\\Anaconda3\\lib\\site-packages\\ipykernel_launcher.py:2: TqdmDeprecationWarning: This function will be removed in tqdm==5.0.0\n",
      "Please use `tqdm.notebook.tqdm` instead of `tqdm.tqdm_notebook`\n",
      "  \n"
     ]
    },
    {
     "data": {
      "application/vnd.jupyter.widget-view+json": {
       "model_id": "f95a70628ca64e7092791a890e643629",
       "version_major": 2,
       "version_minor": 0
      },
      "text/plain": [
       "HBox(children=(FloatProgress(value=0.0, max=4.0), HTML(value='')))"
      ]
     },
     "metadata": {},
     "output_type": "display_data"
    },
    {
     "name": "stdout",
     "output_type": "stream",
     "text": [
      "./data/mnist/train-images-idx3-ubyte\n",
      "./data/mnist/train-labels-idx1-ubyte\n",
      "./data/mnist/t10k-images-idx3-ubyte\n",
      "./data/mnist/t10k-labels-idx1-ubyte\n",
      "\n"
     ]
    }
   ],
   "source": [
    "# 압축 해제 \n",
    "for file in tqdm_notebook(files):\n",
    "    # 원본 파일(* .gz)\n",
    "    ori_path = f'{savePath}/{file}'\n",
    "    # 압축 해제 파일 (*) <= .gz 제거\n",
    "    raw_path = f'{savePath}/{file[:-3]}'\n",
    "    print(raw_path)\n",
    "    # 파일 오픈해서 -> 기록 \n",
    "    with gzip.open(ori_path, 'rb') as fg :\n",
    "        # 대용량이면 분활해서 \n",
    "        # 소용량이니까 그냥 전체 읽기 \n",
    "        tmp = fg.read()\n",
    "        with open(raw_path, 'wb') as f:\n",
    "            f.write(tmp)"
   ]
  },
  {
   "cell_type": "markdown",
   "metadata": {},
   "source": [
    "---\n",
    "- 데이터 중 이미지 레이블 크기 = `4+4+4+4+60000x28x28 = 47040016(byte)`\n",
    "- 데이터 중 레이블 크기 = `4+4+60000(byte)`\n",
    "---\n",
    "\n",
    "## LABEL FILE 구조 \n",
    "- 구조 \n",
    "> magic number : 4byte    \n",
    "> label 개수   : 4byte    \n",
    "> label : 나머지 ~ (1byte씩)   \n",
    "\n",
    "---\n",
    "\n",
    "## IMAGE FILE 구조 \n",
    "- 구조 \n",
    "> magic number   : 4byte    \n",
    "> image 개수     : 4byte    \n",
    "> image 가로길이 : 4byte    \n",
    "> image 세로길이 : 4byte    \n",
    "> 이미지 : 28 * 28(=784)byte image 개수만큼 반복\n",
    "\n",
    "---\n",
    "\n",
    "## 정수(integer) 처리\n",
    "- 구조 \n",
    "> 정수 값을 읽을떄 앞에서 부터 읽을 것인가 뒤에서 부터 읽을 것인가 ?\n",
    "> 오더링 (ordering)      \n",
    "\n",
    "\n",
    "> 빅에디언 \n",
    "\n",
    "|메모리주소|0x100|0x101|0x102|0x103|\n",
    "|:--:|:--:|:--:|:--:|:--:|\n",
    "|값|0x12|0x34|0x56|0x78|\n",
    "\n",
    "> 리틀 에디언\n",
    "\n",
    "|메모리주소|0x100|0x101|0x102|0x103|\n",
    "|:--:|:--:|:--:|:--:|:--:|\n",
    "|값|0x78|0x56|0x34|0x12|\n",
    "\n",
    "\n",
    "---\n",
    "``` bash\n",
    "TRAINING SET LABEL FILE (train-labels-idx1-ubyte):\n",
    "[offset] [type]          [value]          [description]\n",
    "0000     32 bit integer  0x00000801(2049) magic number (MSB first)\n",
    "0004     32 bit integer  60000            number of items\n",
    "0008     unsigned byte   ??               label\n",
    "0009     unsigned byte   ??               label\n",
    "........\n",
    "xxxx     unsigned byte   ??               label\n",
    "The labels values are 0 to 9.\n",
    "\n",
    "TRAINING SET IMAGE FILE (train-images-idx3-ubyte):\n",
    "[offset] [type]          [value]          [description]\n",
    "0000     32 bit integer  0x00000803(2051) magic number\n",
    "0004     32 bit integer  60000            number of images\n",
    "0008     32 bit integer  28               number of rows\n",
    "0012     32 bit integer  28               number of columns\n",
    "0016     unsigned byte   ??               pixel\n",
    "0017     unsigned byte   ??               pixel\n",
    "........\n",
    "xxxx     unsigned byte   ??               pixel\n",
    "Pixels are organized row-wise. Pixel values are 0 to 255. 0 means background (white), 255 means foreground (black).\n",
    "\n",
    "TEST SET LABEL FILE (t10k-labels-idx1-ubyte):\n",
    "[offset] [type]          [value]          [description]\n",
    "0000     32 bit integer  0x00000801(2049) magic number (MSB first)\n",
    "0004     32 bit integer  10000            number of items\n",
    "0008     unsigned byte   ??               label\n",
    "0009     unsigned byte   ??               label\n",
    "........\n",
    "xxxx     unsigned byte   ??               label\n",
    "The labels values are 0 to 9.\n",
    "\n",
    "TEST SET IMAGE FILE (t10k-images-idx3-ubyte):\n",
    "[offset] [type]          [value]          [description]\n",
    "0000     32 bit integer  0x00000803(2051) magic number\n",
    "0004     32 bit integer  10000            number of images\n",
    "0008     32 bit integer  28               number of rows\n",
    "0012     32 bit integer  28               number of columns\n",
    "0016     unsigned byte   ??               pixel\n",
    "0017     unsigned byte   ??               pixel\n",
    "........\n",
    "xxxx     unsigned byte   ??               pixel\n",
    "\n",
    "```\n",
    "---"
   ]
  },
  {
   "cell_type": "markdown",
   "metadata": {},
   "source": [
    "## 규격의한 본파일 -> high endian(빅 엔딩안으로 저장 )"
   ]
  },
  {
   "cell_type": "code",
   "execution_count": null,
   "metadata": {},
   "outputs": [],
   "source": []
  },
  {
   "cell_type": "code",
   "execution_count": null,
   "metadata": {},
   "outputs": [],
   "source": []
  }
 ],
 "metadata": {
  "kernelspec": {
   "display_name": "Python 3",
   "language": "python",
   "name": "python3"
  },
  "language_info": {
   "codemirror_mode": {
    "name": "ipython",
    "version": 3
   },
   "file_extension": ".py",
   "mimetype": "text/x-python",
   "name": "python",
   "nbconvert_exporter": "python",
   "pygments_lexer": "ipython3",
   "version": "3.6.5"
  }
 },
 "nbformat": 4,
 "nbformat_minor": 2
}
