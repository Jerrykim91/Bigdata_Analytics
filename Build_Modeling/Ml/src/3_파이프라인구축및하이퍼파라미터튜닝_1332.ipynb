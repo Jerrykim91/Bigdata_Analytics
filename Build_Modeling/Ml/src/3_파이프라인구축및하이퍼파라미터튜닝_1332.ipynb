{
 "cells": [
  {
   "cell_type": "code",
   "execution_count": 0,
   "metadata": {
    "colab": {},
    "colab_type": "code",
    "id": "7pvklJt3eJDa"
   },
   "outputs": [],
   "source": []
  },
  {
   "cell_type": "markdown",
   "metadata": {
    "colab_type": "text",
    "id": "qrPKgaNFeqb5"
   },
   "source": [
    "# 파이프라인구축 및 하이퍼파라미터튜닝\n",
    "\n",
    "- 머신러닝 절차(전체 공정 5단계내에서)\n",
    "  - 알고리즘 선정\n",
    "  - 학습, 테스트용 데이터 준비\n",
    "  - 학습\n",
    "    - 1차적인 기본 학습 진행\n",
    "    - 운영:온라인학습, 배치학습, 미니배치학습, 등등.. \n",
    "      - 알고리즘을 주기적으로 교체(자동, 반자동, 수동)\n",
    "      - 실시간으로 반영되면서 교체(실시간온라인,주단위로 특정일에 갱신)\n",
    "      - 롤백이 가능\n",
    "  - 예측\n",
    "  - 성능평가\n",
    "    - 목표치에 도달하기 위해 -> 정확도를 올린다, 손실값을 줄인다등등\n",
    "    - 판단 기준 => 분류, 회귀, 비지도학습, 강화학습등등에 따라 달라진다\n",
    "    - **성능을 높이기 위해서 => 파이프라인, 교차검증, 하이퍼파라미터튜닝**\n",
    "      => *알고리즘을 선정*\n",
    "    - 성능평가 방법 => 분류, 회귀, 비지도학습, 강화학습등등에 따라 달라진다\n",
    "      => 분류 : 혼동행렬(오차행렬), ROC 커브, AUC 값등등 비교\n",
    "      => 회귀 : 지표로 판단, 손실함수값(평균제곱근오차값이용)\n",
    "  \n",
    "  - 알고리즘 덤프(향후 시스템통합에 사용할수 있게 구성)"
   ]
  },
  {
   "cell_type": "markdown",
   "metadata": {
    "colab_type": "text",
    "id": "sVf7xfgIjFuB"
   },
   "source": [
    "# 단일 알고리즘 적용하여 머신러닝 프로세스 진행"
   ]
  },
  {
   "cell_type": "code",
   "execution_count": 0,
   "metadata": {
    "colab": {},
    "colab_type": "code",
    "id": "PvgrzSpDesZ2"
   },
   "outputs": [],
   "source": [
    "# 1. 모듈가져오기\n",
    "from sklearn.svm import SVC\n",
    "from sklearn.datasets import load_breast_cancer\n",
    "from sklearn.model_selection import train_test_split\n",
    "# 머신러닝 모델링 : 75(=50:25):25\n",
    "# 통계적 모델링   : 80:20"
   ]
  },
  {
   "cell_type": "code",
   "execution_count": 0,
   "metadata": {
    "colab": {},
    "colab_type": "code",
    "id": "xxT1PN4MjS0l"
   },
   "outputs": [],
   "source": [
    "# 2. 데이터 확보, 수집 (생략, 제공된다)\n",
    "cancer = load_breast_cancer()"
   ]
  },
  {
   "cell_type": "code",
   "execution_count": 9,
   "metadata": {
    "colab": {
     "base_uri": "https://localhost:8080/",
     "height": 128
    },
    "colab_type": "code",
    "id": "wfJSF4uxkHQF",
    "outputId": "28f8ba2b-a333-4da3-9a7a-777ea157106c"
   },
   "outputs": [
    {
     "name": "stdout",
     "output_type": "stream",
     "text": [
      ".. _breast_cancer_dataset:\n",
      "\n",
      "Breast cancer wisconsi\n"
     ]
    },
    {
     "data": {
      "text/plain": [
       "(sklearn.utils.Bunch,\n",
       " ['DESCR', 'data', 'feature_names', 'filename', 'target', 'target_names'],\n",
       " None)"
      ]
     },
     "execution_count": 9,
     "metadata": {
      "tags": []
     },
     "output_type": "execute_result"
    }
   ],
   "source": [
    "# 3. 데이터 준비\n",
    "# 데이터의 기초적인 정보, 통계정보를 살펴보고 기본 통찰을 획득\n",
    "# 준비 -> 품질향상, 학습에 필요한 형태로 구성\n",
    "type(cancer), dir(cancer), print(cancer.DESCR[:50])"
   ]
  },
  {
   "cell_type": "code",
   "execution_count": 10,
   "metadata": {
    "colab": {
     "base_uri": "https://localhost:8080/",
     "height": 36
    },
    "colab_type": "code",
    "id": "YnjGiPbWkMxv",
    "outputId": "2e729980-2c50-47bb-a286-c253b4e012f5"
   },
   "outputs": [
    {
     "data": {
      "text/plain": [
       "(569, 30)"
      ]
     },
     "execution_count": 10,
     "metadata": {
      "tags": []
     },
     "output_type": "execute_result"
    }
   ],
   "source": [
    "# 데이터의 볼륨 : 데이터는 569개, 특성 30개(독립변수)\n",
    "cancer.data.shape"
   ]
  },
  {
   "cell_type": "code",
   "execution_count": 11,
   "metadata": {
    "colab": {
     "base_uri": "https://localhost:8080/",
     "height": 36
    },
    "colab_type": "code",
    "id": "v37DbVkOlki4",
    "outputId": "ef261d66-b137-43a1-853b-cf5b82a26845"
   },
   "outputs": [
    {
     "data": {
      "text/plain": [
       "((569,), array([0, 0, 0, 0, 0]))"
      ]
     },
     "execution_count": 11,
     "metadata": {
      "tags": []
     },
     "output_type": "execute_result"
    }
   ],
   "source": [
    "# 종속변수, 암이냐, 아니냐\n",
    "cancer.target.shape,  cancer.target[:5]"
   ]
  },
  {
   "cell_type": "code",
   "execution_count": 12,
   "metadata": {
    "colab": {
     "base_uri": "https://localhost:8080/",
     "height": 36
    },
    "colab_type": "code",
    "id": "WiuObGBClklO",
    "outputId": "0a8f53fc-8c7b-4cef-b903-acbbb95be01d"
   },
   "outputs": [
    {
     "data": {
      "text/plain": [
       "array(['malignant', 'benign'], dtype='<U9')"
      ]
     },
     "execution_count": 12,
     "metadata": {
      "tags": []
     },
     "output_type": "execute_result"
    }
   ],
   "source": [
    "# '악성':0, '양성':1\n",
    "cancer.target_names"
   ]
  },
  {
   "cell_type": "code",
   "execution_count": 0,
   "metadata": {
    "colab": {},
    "colab_type": "code",
    "id": "UfmA4qG1lknu"
   },
   "outputs": [],
   "source": [
    "# 4. 데이터 분석 (생략)"
   ]
  },
  {
   "cell_type": "code",
   "execution_count": 0,
   "metadata": {
    "colab": {},
    "colab_type": "code",
    "id": "s3M6YcnwoUpX"
   },
   "outputs": [],
   "source": [
    "# 5. 예측 모델링 구축\n",
    "# 데이터가 특성과 정답을 가지고 있으므로, 지도학습>분류"
   ]
  },
  {
   "cell_type": "code",
   "execution_count": 0,
   "metadata": {
    "colab": {},
    "colab_type": "code",
    "id": "pqiC3a9ToUr9"
   },
   "outputs": [],
   "source": [
    "# 5-1. 알고리즘 선정 (임의 선정)\n",
    "clf = SVC()"
   ]
  },
  {
   "cell_type": "code",
   "execution_count": 0,
   "metadata": {
    "colab": {},
    "colab_type": "code",
    "id": "mQTyRc1EoUua"
   },
   "outputs": [],
   "source": [
    "# 5-2. 학습, 테스트용 데이터 준비\n",
    "# 독립변수와 종송변수의 데이터의 수는 일치, 차원을 1개 차이가 나고\n",
    "# return: 훈련용 독립변수, 테스트용 독립변수, 훈련용 정답, 테스트용 정답\n",
    "X_train, X_test, y_train, y_test = train_test_split( \n",
    "  cancer.data,   # 독립변수, 30개 특성에 대한 개별값들, 2-ndarray\n",
    "  cancer.target, # 종속변수, 악성(0), 양성(1), 1-ndarray\n",
    "  random_state=0,# 난수의 seed를 고정함으로써, 매번 돌릴때마다, \n",
    "                 # 데이터가 섞이는 순서가 동일하다 => 실험환경을 통제한다\n",
    "                 # 오늘, 내일, 내년등 해도 항상 동일한 결과를 가져온다\n",
    "                 # 사용하지 않으면 통상 현재시간을 seed로 사용\n",
    "  test_size=0.25 # 테스트 데이터는 25%를 책정한다. 사용하지 않아도 기본값이 0.25\n",
    ")"
   ]
  },
  {
   "cell_type": "code",
   "execution_count": 20,
   "metadata": {
    "colab": {
     "base_uri": "https://localhost:8080/",
     "height": 36
    },
    "colab_type": "code",
    "id": "mkM9CszhoUwx",
    "outputId": "f3ac5581-5d2b-4e6b-e794-444037fb43ec"
   },
   "outputs": [
    {
     "data": {
      "text/plain": [
       "((426, 30), (143, 30), 429)"
      ]
     },
     "execution_count": 20,
     "metadata": {
      "tags": []
     },
     "output_type": "execute_result"
    }
   ],
   "source": [
    "# 훈련용 데이터가  테스트용 데이터의 약 3배의 볼륨을 가진다\n",
    "X_train.shape, X_test.shape, (143*3)"
   ]
  },
  {
   "cell_type": "code",
   "execution_count": 21,
   "metadata": {
    "colab": {
     "base_uri": "https://localhost:8080/",
     "height": 91
    },
    "colab_type": "code",
    "id": "KwIHWzIyoUy_",
    "outputId": "0f2f0f11-1b16-4dfd-f1c6-c3b0207382c7"
   },
   "outputs": [
    {
     "data": {
      "text/plain": [
       "SVC(C=1.0, break_ties=False, cache_size=200, class_weight=None, coef0=0.0,\n",
       "    decision_function_shape='ovr', degree=3, gamma='scale', kernel='rbf',\n",
       "    max_iter=-1, probability=False, random_state=None, shrinking=True,\n",
       "    tol=0.001, verbose=False)"
      ]
     },
     "execution_count": 21,
     "metadata": {
      "tags": []
     },
     "output_type": "execute_result"
    }
   ],
   "source": [
    "# 5-3 학습 시킨다, 이런 데이터에 대해 훈련되었다\n",
    "# clf : 분류기 => 분류 알고리즘(여기서는 사용한 제품이 SVC)\n",
    "clf.fit( X_train, y_train )"
   ]
  },
  {
   "cell_type": "code",
   "execution_count": 22,
   "metadata": {
    "colab": {
     "base_uri": "https://localhost:8080/",
     "height": 147
    },
    "colab_type": "code",
    "id": "uTlJ5PXooU1Y",
    "outputId": "ce4cc5a0-1568-4527-fd51-1697f7cafe5c"
   },
   "outputs": [
    {
     "data": {
      "text/plain": [
       "array([1, 1, 1, 1, 1, 1, 1, 1, 1, 1, 1, 1, 1, 0, 1, 0, 1, 0, 0, 0, 0, 0,\n",
       "       1, 1, 0, 1, 1, 1, 1, 0, 1, 0, 1, 0, 1, 0, 1, 0, 1, 0, 1, 1, 0, 1,\n",
       "       1, 0, 1, 1, 1, 0, 0, 1, 0, 1, 1, 1, 1, 1, 1, 0, 1, 0, 1, 1, 0, 1,\n",
       "       0, 0, 0, 1, 1, 0, 1, 1, 0, 1, 1, 1, 1, 1, 0, 0, 0, 1, 0, 1, 1, 1,\n",
       "       0, 0, 1, 0, 1, 1, 1, 1, 0, 1, 1, 1, 1, 1, 1, 1, 0, 1, 0, 1, 0, 0,\n",
       "       1, 0, 0, 1, 1, 1, 1, 1, 1, 1, 1, 1, 1, 1, 0, 1, 1, 1, 1, 1, 0, 1,\n",
       "       1, 1, 1, 1, 1, 0, 0, 1, 1, 1, 0])"
      ]
     },
     "execution_count": 22,
     "metadata": {
      "tags": []
     },
     "output_type": "execute_result"
    }
   ],
   "source": [
    "# 5-4 예측해라. 한번도 접하지 않은 데이터를 \n",
    "predict = clf.predict( X_test )\n",
    "# 예측값은 0 아니면 1\n",
    "predict"
   ]
  },
  {
   "cell_type": "code",
   "execution_count": 0,
   "metadata": {
    "colab": {},
    "colab_type": "code",
    "id": "dMj_69UEoU4J"
   },
   "outputs": [],
   "source": [
    "# 5-5 성능 평가를 수행 (분류, 회귀, 비지도, 강화 =>방법이 바뀐다)\n",
    "# 분류 -> 혼동(오차)행렬 -> 정밀도, 재현율, 정확도, f1-score, AUC, ROC\n",
    "# 정확도만 일단 살펴보겟다\n",
    "from sklearn import metrics"
   ]
  },
  {
   "cell_type": "code",
   "execution_count": 24,
   "metadata": {
    "colab": {
     "base_uri": "https://localhost:8080/",
     "height": 36
    },
    "colab_type": "code",
    "id": "grFXGfVHlkp3",
    "outputId": "55d08f12-31d7-488c-d1b9-387c532e184e"
   },
   "outputs": [
    {
     "data": {
      "text/plain": [
       "0.9370629370629371"
      ]
     },
     "execution_count": 24,
     "metadata": {
      "tags": []
     },
     "output_type": "execute_result"
    }
   ],
   "source": [
    "# (실제 정답, 알고리즘이 예측한 값)\n",
    "metrics.accuracy_score( y_test, predict )"
   ]
  },
  {
   "cell_type": "code",
   "execution_count": 25,
   "metadata": {
    "colab": {
     "base_uri": "https://localhost:8080/",
     "height": 36
    },
    "colab_type": "code",
    "id": "gPcnkDxdlksf",
    "outputId": "1de13f23-89e0-490e-d2e0-8d580c900876"
   },
   "outputs": [
    {
     "data": {
      "text/plain": [
       "0.9370629370629371"
      ]
     },
     "execution_count": 25,
     "metadata": {
      "tags": []
     },
     "output_type": "execute_result"
    }
   ],
   "source": [
    "# 예측후 평가를 바로 진행\n",
    "clf.score( X_test, y_test )"
   ]
  },
  {
   "cell_type": "markdown",
   "metadata": {
    "colab_type": "text",
    "id": "RXnLvyoQv5XY"
   },
   "source": [
    "# 정확도를 높이기 위해서 조치\n",
    "\n",
    "\n"
   ]
  },
  {
   "cell_type": "markdown",
   "metadata": {
    "colab_type": "text",
    "id": "eT8b0utfII10"
   },
   "source": [
    "## 데이터의 양 추가(여기서는 불가)"
   ]
  },
  {
   "cell_type": "markdown",
   "metadata": {
    "colab_type": "text",
    "id": "AIBHFodMINLh"
   },
   "source": [
    "## 데이터 품질 향상 (전처리기를 이용한 정규화처리)"
   ]
  },
  {
   "cell_type": "markdown",
   "metadata": {
    "colab_type": "text",
    "id": "SkB03q1kIEQc"
   },
   "source": [
    "- 현재 정확도는 0.937 %이다 \n",
    "- 만약 현 site의 목표 임계치가 96%라면 현 알고리즘을 개선, 교체, 데이터를 증설등등 조치가 필요하다\n",
    "- 추가 데이터 유입은 불가\n",
    "- 품질 향상을 하는 방향으로 진행-> 3단계 조치사항의 목표\n",
    "  - 전처리 (preprocessing) => 정규화, 수치 조정등등 진행"
   ]
  },
  {
   "cell_type": "code",
   "execution_count": 28,
   "metadata": {
    "colab": {
     "base_uri": "https://localhost:8080/",
     "height": 203
    },
    "colab_type": "code",
    "id": "20hlTm9plKoo",
    "outputId": "8ce7d277-6048-4588-f592-8602c633f83f"
   },
   "outputs": [
    {
     "data": {
      "text/plain": [
       "(array([[1.185e+01, 1.746e+01, 7.554e+01, 4.327e+02, 8.372e-02, 5.642e-02,\n",
       "         2.688e-02, 2.280e-02, 1.875e-01, 5.715e-02, 2.070e-01, 1.238e+00,\n",
       "         1.234e+00, 1.388e+01, 7.595e-03, 1.500e-02, 1.412e-02, 8.578e-03,\n",
       "         1.792e-02, 1.784e-03, 1.306e+01, 2.575e+01, 8.435e+01, 5.178e+02,\n",
       "         1.369e-01, 1.758e-01, 1.316e-01, 9.140e-02, 3.101e-01, 7.007e-02]]),\n",
       " array([[1.151e+01, 2.393e+01, 7.452e+01, 4.035e+02, 9.261e-02, 1.021e-01,\n",
       "         1.112e-01, 4.105e-02, 1.388e-01, 6.570e-02, 2.388e-01, 2.904e+00,\n",
       "         1.936e+00, 1.697e+01, 8.200e-03, 2.982e-02, 5.738e-02, 1.267e-02,\n",
       "         1.488e-02, 4.738e-03, 1.248e+01, 3.716e+01, 8.228e+01, 4.742e+02,\n",
       "         1.298e-01, 2.517e-01, 3.630e-01, 9.653e-02, 2.112e-01, 8.732e-02]]))"
      ]
     },
     "execution_count": 28,
     "metadata": {
      "tags": []
     },
     "output_type": "execute_result"
    }
   ],
   "source": [
    "# 컬럼간 데이터의 편차가 비교적 크다()=> 정규화를 통해서 \n",
    "# 0~1사이로 구성, 최소값을0, 최대값 1로 둔다면\n",
    "# MinMaxScaler \n",
    "X_train[:1], X_train[-1:] "
   ]
  },
  {
   "cell_type": "code",
   "execution_count": 0,
   "metadata": {
    "colab": {},
    "colab_type": "code",
    "id": "TFcVTLceAKkV"
   },
   "outputs": [],
   "source": [
    "from sklearn.preprocessing import MinMaxScaler"
   ]
  },
  {
   "cell_type": "code",
   "execution_count": 30,
   "metadata": {
    "colab": {
     "base_uri": "https://localhost:8080/",
     "height": 36
    },
    "colab_type": "code",
    "id": "P9MTvTKqAKm6",
    "outputId": "8c106f1b-9452-4c58-a3d4-b4ccd99d4320"
   },
   "outputs": [
    {
     "data": {
      "text/plain": [
       "MinMaxScaler(copy=True, feature_range=(0, 1))"
      ]
     },
     "execution_count": 30,
     "metadata": {
      "tags": []
     },
     "output_type": "execute_result"
    }
   ],
   "source": [
    "scaler = MinMaxScaler().fit( X_train )\n",
    "scaler"
   ]
  },
  {
   "cell_type": "code",
   "execution_count": 31,
   "metadata": {
    "colab": {
     "base_uri": "https://localhost:8080/",
     "height": 258
    },
    "colab_type": "code",
    "id": "d7x04ulyAKpK",
    "outputId": "8d37f9e4-2607-4069-e0f2-56a675da88fa"
   },
   "outputs": [
    {
     "data": {
      "text/plain": [
       "array([[0.23044157, 0.32157676, 0.21940433, ..., 0.31484671, 0.30277942,\n",
       "        0.09858323],\n",
       "       [0.20062473, 0.42116183, 0.19452699, ..., 0.06965208, 0.34042973,\n",
       "        0.06677161],\n",
       "       [0.62232003, 0.76929461, 0.60403566, ..., 0.56079917, 0.19850187,\n",
       "        0.07431457],\n",
       "       ...,\n",
       "       [0.11619102, 0.35726141, 0.11077327, ..., 0.17402687, 0.17524147,\n",
       "        0.17263545],\n",
       "       [0.12963226, 0.35311203, 0.11706171, ..., 0.        , 0.06780997,\n",
       "        0.06919848],\n",
       "       [0.21434995, 0.59004149, 0.21235575, ..., 0.33251808, 0.10782574,\n",
       "        0.21172767]])"
      ]
     },
     "execution_count": 31,
     "metadata": {
      "tags": []
     },
     "output_type": "execute_result"
    }
   ],
   "source": [
    "# 스케일러를 통해서 변환\n",
    "X_train_scaled = scaler.transform( X_train )\n",
    "X_train_scaled"
   ]
  },
  {
   "cell_type": "markdown",
   "metadata": {
    "colab_type": "text",
    "id": "3ZxgHHDNCStd"
   },
   "source": [
    "- 알고리즘을 새로 만들어서 새로운 데이터로 다시 절차 수행\n",
    "  - 단, 스케일러 생성시 사용했던 재료가, 전체 데이터에 대한 부분이 아닌,\n",
    "  - 훈련 데이터만 가지고 만든 스케일러라서, 테스트 데이터하고는 적합하지 않다\n",
    "  - 스케일러 생성이나 적용시 시점의 조정이 필요한것으로 보인다\n",
    "  - 파이프라인으로 해결가능!!"
   ]
  },
  {
   "cell_type": "code",
   "execution_count": 32,
   "metadata": {
    "colab": {
     "base_uri": "https://localhost:8080/",
     "height": 36
    },
    "colab_type": "code",
    "id": "a0fqt2s8AKrz",
    "outputId": "f8820b4b-13dc-40a1-d647-6cedbae3f383"
   },
   "outputs": [
    {
     "data": {
      "text/plain": [
       "0.972027972027972"
      ]
     },
     "execution_count": 32,
     "metadata": {
      "tags": []
     },
     "output_type": "execute_result"
    }
   ],
   "source": [
    "# 5-1. 알고리즘 선정 (임의 선정)\n",
    "clf2 = SVC()\n",
    "# 5-2. 학습, 테스트용 데이터 준비\n",
    "# 단, 스케일러의 생성재료 X_train\n",
    "X_test_scaled = scaler.transform( X_test ) \n",
    "# 5-3. 학습 시킨다, 이런 데이터에 대해 훈련되었다\n",
    "clf2.fit( X_train_scaled, y_train )\n",
    "# 5-4. 예측해라. 한번도 접하지 않은 데이터를 \n",
    "# 5-5. 성능 평가를 수행\n",
    "clf2.score( X_test_scaled, y_test )"
   ]
  },
  {
   "cell_type": "markdown",
   "metadata": {
    "colab_type": "text",
    "id": "PY44s7hFIAeE"
   },
   "source": [
    "## 하이퍼파라미터 튜닝 적용\n",
    "\n",
    "- 머신러닝 모형이 완성(알고리즘을 선정하고나서)되고, 알고리즘 선정간에 적용\n",
    "- 매개변수 최적화를 통해서 예측 성능을 극대화 한다"
   ]
  },
  {
   "cell_type": "markdown",
   "metadata": {
    "colab_type": "text",
    "id": "z_yw9EDpJAMj"
   },
   "source": [
    "### 관련 함수나 클레스\n",
    "\n",
    "- vaildation_curve : 단일 하이퍼 파라미터 최적화 도구\n",
    "- **GridSearchCV     : 복수개의 알고리즘의 하이퍼파라미터 최적화 도구**\n",
    "- ParameterGrid    : 복수개의 알고리즘의 하이퍼파라미터 최적화 도구"
   ]
  },
  {
   "cell_type": "code",
   "execution_count": 0,
   "metadata": {
    "colab": {},
    "colab_type": "code",
    "id": "1LjGcmgMG6Ag"
   },
   "outputs": [],
   "source": [
    "from sklearn.model_selection import GridSearchCV"
   ]
  },
  {
   "cell_type": "code",
   "execution_count": 0,
   "metadata": {
    "colab": {},
    "colab_type": "code",
    "id": "0M3BGJVgI_EY"
   },
   "outputs": [],
   "source": [
    "# SVC 알고리즘에 대한 파라미터 값 범주(어디서부터 ~ 어디까지) 지정)\n",
    "# 기본값을 센터에 두고 전후를 나열\n",
    "param_grid = {\n",
    "  'C':[0.001, 0.01, 0.1, 1, 10, 100, 1000],\n",
    "  'gamma':[0.001, 0.01, 0.1, 1, 10, 100, 1000]\n",
    "}"
   ]
  },
  {
   "cell_type": "code",
   "execution_count": 0,
   "metadata": {
    "colab": {},
    "colab_type": "code",
    "id": "7oRNPsHEIjla"
   },
   "outputs": [],
   "source": []
  }
 ],
 "metadata": {
  "colab": {
   "collapsed_sections": [],
   "name": "3.파이프라인구축및하이퍼파라미터튜닝.ipynb",
   "provenance": []
  },
  "kernelspec": {
   "display_name": "Python 3",
   "language": "python",
   "name": "python3"
  },
  "language_info": {
   "codemirror_mode": {
    "name": "ipython",
    "version": 3
   },
   "file_extension": ".py",
   "mimetype": "text/x-python",
   "name": "python",
   "nbconvert_exporter": "python",
   "pygments_lexer": "ipython3",
   "version": "3.6.5"
  }
 },
 "nbformat": 4,
 "nbformat_minor": 1
}
