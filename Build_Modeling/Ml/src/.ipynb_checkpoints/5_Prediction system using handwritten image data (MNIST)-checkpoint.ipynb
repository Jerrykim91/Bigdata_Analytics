{
 "cells": [
  {
   "cell_type": "markdown",
   "metadata": {},
   "source": [
    "# 손글씨 이미지 데이터(MIST)를 이용한 예측 시스템 \n",
    "---\n",
    "- MIST(바이너리 데이터) \n",
    "- 바이너리 데이터를 디코딩하여(디코딩 처리법)\n",
    "- 샘플데이터(전체 데이터의 일부분)을 이용하여 머신러닝 모델을 구축 \n",
    "- 예측 수행(64%정도 예상)\n",
    "- 머신러닝 시험(내일) 테스트 => 정확도를 높이는 것  \n",
    "---"
   ]
  },
  {
   "cell_type": "markdown",
   "metadata": {},
   "source": [
    "## 1. 연구목표 \n",
    "- 손글씨 이미지(0-9)를 학습시켜, 새로운 손글씨 이미지가 들어오면 0-9중 어떤것을 예측한다\n",
    "- 원본데이터를 디코딩하여(바이너리 데이터) 개별 이미지로 저장\n",
    "- 픽셀데이터를 벡터화 \n",
    "- 정확도를 94퍼 이상 올리기 \n",
    "## 2. 데이터 획득/ 수집\n",
    "- 1.[THE MNIST DATABASE](http://yann.lecun.com/exdb/mnist/)\n",
    "- 2.사이트를 긁어서, 데이터의 URL을 직접 획득\n",
    "    - 스크래핑 사용 \n",
    "        - \n",
    "- 3.로컬에 바로 저장(url을 집적 연결하여 로컬 pc에 파일로 원하는 위치에 저장 )\n",
    "        \n",
    "## 3. 데이터 준비"
   ]
  },
  {
   "cell_type": "code",
   "execution_count": 1,
   "metadata": {},
   "outputs": [],
   "source": [
    "import pandas as pd\n",
    "from bs4 import BeautifulSoup\n",
    "import urllib.request as rq\n",
    "# 경로 \n",
    "import os , os.path, gzip"
   ]
  },
  {
   "cell_type": "code",
   "execution_count": 2,
   "metadata": {},
   "outputs": [],
   "source": [
    "# path = 'http://yann.lecun.com/exdb/mnist/'\n",
    "# files = ''\n",
    "target_url = 'http://yann.lecun.com/exdb/mnist/'"
   ]
  },
  {
   "cell_type": "markdown",
   "metadata": {},
   "source": [
    "[참고-72번줄](https://github.com/Jerrykim91/Bigdata_Analytics/blob/master/Build_Modeling/Ml/src/1.Sense%20of%20language%20translation%20services%20using%20Ml_full.ipynb)"
   ]
  },
  {
   "cell_type": "code",
   "execution_count": 3,
   "metadata": {},
   "outputs": [],
   "source": [
    "res  = rq.urlopen(target_url)\n",
    "soup = BeautifulSoup(res, 'html5lib')"
   ]
  },
  {
   "cell_type": "code",
   "execution_count": 4,
   "metadata": {},
   "outputs": [
    {
     "data": {
      "text/plain": [
       "list"
      ]
     },
     "execution_count": 4,
     "metadata": {},
     "output_type": "execute_result"
    }
   ],
   "source": [
    "tmp = soup.find_all('tt')[:4]\n",
    "type(tmp)"
   ]
  },
  {
   "cell_type": "code",
   "execution_count": 5,
   "metadata": {},
   "outputs": [
    {
     "name": "stdout",
     "output_type": "stream",
     "text": [
      "train-images-idx3-ubyte.gz\n",
      "train-labels-idx1-ubyte.gz\n",
      "t10k-images-idx3-ubyte.gz\n",
      "t10k-labels-idx1-ubyte.gz\n"
     ]
    }
   ],
   "source": [
    "# bs4 => string(스트링)\n",
    "# Selenium => 텍스트 \n",
    "for tt in tmp :\n",
    "    print(tt.a.string)"
   ]
  },
  {
   "cell_type": "code",
   "execution_count": 6,
   "metadata": {},
   "outputs": [
    {
     "name": "stdout",
     "output_type": "stream",
     "text": [
      "http://yann.lecun.com/exdb/mnist/train-images-idx3-ubyte.gz\n",
      "http://yann.lecun.com/exdb/mnist/train-labels-idx1-ubyte.gz\n",
      "http://yann.lecun.com/exdb/mnist/t10k-images-idx3-ubyte.gz\n",
      "http://yann.lecun.com/exdb/mnist/t10k-labels-idx1-ubyte.gz\n"
     ]
    }
   ],
   "source": [
    "for tt in soup.find_all('tt')[:4] :\n",
    "    print(target_url + tt.a.string )"
   ]
  },
  {
   "cell_type": "code",
   "execution_count": 7,
   "metadata": {},
   "outputs": [
    {
     "data": {
      "text/plain": [
       "['http://yann.lecun.com/exdb/mnist/train-images-idx3-ubyte.gz',\n",
       " 'http://yann.lecun.com/exdb/mnist/train-labels-idx1-ubyte.gz',\n",
       " 'http://yann.lecun.com/exdb/mnist/t10k-images-idx3-ubyte.gz',\n",
       " 'http://yann.lecun.com/exdb/mnist/t10k-labels-idx1-ubyte.gz']"
      ]
     },
     "execution_count": 7,
     "metadata": {},
     "output_type": "execute_result"
    }
   ],
   "source": [
    "# 다음 단계를 위해서 최종 URL이 담긴 리스트로 전달 하겠다. \n",
    "# files  \n",
    "files = [target_url + tt.a.string for tt in soup.find_all('tt')[:4]]\n",
    "files"
   ]
  },
  {
   "cell_type": "code",
   "execution_count": 8,
   "metadata": {},
   "outputs": [
    {
     "data": {
      "text/plain": [
       "['train-images-idx3-ubyte.gz',\n",
       " 'train-labels-idx1-ubyte.gz',\n",
       " 't10k-images-idx3-ubyte.gz',\n",
       " 't10k-labels-idx1-ubyte.gz']"
      ]
     },
     "execution_count": 8,
     "metadata": {},
     "output_type": "execute_result"
    }
   ],
   "source": [
    "files = [tt.a.string for tt in soup.find_all('tt')[:4]]\n",
    "files"
   ]
  },
  {
   "cell_type": "code",
   "execution_count": 9,
   "metadata": {},
   "outputs": [],
   "source": [
    "# 파일 저장 경로 지정 \n",
    "# savePath = './data/mnist'\n",
    "savePath = './data/mnist'\n",
    "if not os.path.exists(savePath):\n",
    "    # 디렉토리를만들어라 \n",
    "    os.makedirs( savePath )\n",
    "    "
   ]
  },
  {
   "cell_type": "code",
   "execution_count": 10,
   "metadata": {},
   "outputs": [
    {
     "name": "stdout",
     "output_type": "stream",
     "text": [
      "./data/mnist/train-images-idx3-ubyte.gz\n",
      "./data/mnist/train-labels-idx1-ubyte.gz\n",
      "./data/mnist/t10k-images-idx3-ubyte.gz\n",
      "./data/mnist/t10k-labels-idx1-ubyte.gz\n"
     ]
    }
   ],
   "source": [
    "# 저장 \n",
    "for file in files:\n",
    "    # 로컬에 저장 위치 \n",
    "    print( '%s/%s' % (savePath ,file))\n",
    "    "
   ]
  },
  {
   "cell_type": "code",
   "execution_count": 11,
   "metadata": {},
   "outputs": [
    {
     "data": {
      "application/vnd.jupyter.widget-view+json": {
       "model_id": "00acc05e11df4c888f27d00986ffef9c",
       "version_major": 2,
       "version_minor": 0
      },
      "text/plain": [
       "HBox(children=(IntProgress(value=0, max=4), HTML(value='')))"
      ]
     },
     "metadata": {},
     "output_type": "display_data"
    },
    {
     "name": "stdout",
     "output_type": "stream",
     "text": [
      "./data/mnist/train-images-idx3-ubyte.gz\n",
      "./data/mnist/train-labels-idx1-ubyte.gz\n",
      "./data/mnist/t10k-images-idx3-ubyte.gz\n",
      "./data/mnist/t10k-labels-idx1-ubyte.gz\n",
      "\n"
     ]
    }
   ],
   "source": [
    "from tqdm import tqdm_notebook  # 진행바\n",
    "# 저장 \n",
    "for file in tqdm_notebook(files):\n",
    "    # 로컬에 저장 위치 \n",
    "    print(f'{savePath}/{file}')\n",
    "    local_path = f'{savePath}/{file}'\n",
    "    if not os.path.exists(local_path):\n",
    "        # 디렉토리를만들어라 \n",
    "        rq.urlretrieve( target_url + file, local_path)\n",
    "    "
   ]
  },
  {
   "cell_type": "code",
   "execution_count": 12,
   "metadata": {},
   "outputs": [
    {
     "data": {
      "application/vnd.jupyter.widget-view+json": {
       "model_id": "0ac16eb5d3f4452d8f7b98c29bf07c5b",
       "version_major": 2,
       "version_minor": 0
      },
      "text/plain": [
       "HBox(children=(IntProgress(value=0, max=4), HTML(value='')))"
      ]
     },
     "metadata": {},
     "output_type": "display_data"
    },
    {
     "name": "stdout",
     "output_type": "stream",
     "text": [
      "./data/mnist/train-images-idx3-ubyte\n",
      "./data/mnist/train-labels-idx1-ubyte\n",
      "./data/mnist/t10k-images-idx3-ubyte\n",
      "./data/mnist/t10k-labels-idx1-ubyte\n",
      "\n"
     ]
    }
   ],
   "source": [
    "# 압축 해제 \n",
    "for file in tqdm_notebook(files):\n",
    "    # 원본 파일(* .gz)\n",
    "    ori_path = f'{savePath}/{file}'\n",
    "    # 압축 해제 파일 (*) <= .gz 제거\n",
    "    raw_path = f'{savePath}/{file[:-3]}'\n",
    "    print(raw_path)\n",
    "    # 파일 오픈해서 -> 기록 \n",
    "    with gzip.open(ori_path, 'rb') as fg :\n",
    "        # 대용량이면 분활해서 \n",
    "        # 소용량이니까 그냥 전체 읽기 \n",
    "        tmp = fg.read()\n",
    "        with open(raw_path, 'wb') as f:\n",
    "            f.write(tmp)"
   ]
  },
  {
   "cell_type": "markdown",
   "metadata": {},
   "source": [
    "---\n",
    "- 데이터 중 이미지 레이블 크기 = `4+4+4+4+60000x28x28 = 47040016(byte)`\n",
    "- 데이터 중 레이블 크기 = `4+4+60000(byte)`\n",
    "---\n",
    "\n",
    "## LABEL FILE 구조 \n",
    "- 구조 \n",
    "> magic number : 4byte    \n",
    "> label 개수   : 4byte    \n",
    "> label : 나머지 ~ (1byte씩)   \n",
    "\n",
    "---\n",
    "\n",
    "## IMAGE FILE 구조 \n",
    "- 구조 \n",
    "> magic number   : 4byte    \n",
    "> image 개수     : 4byte    \n",
    "> image 가로길이 : 4byte    \n",
    "> image 세로길이 : 4byte    \n",
    "> 이미지 : 28 * 28(=784)byte image 개수만큼 반복\n",
    "\n",
    "---\n",
    "\n",
    "## 정수(integer) 처리\n",
    "- 구조 \n",
    "> 정수 값을 읽을떄 앞에서 부터 읽을 것인가 뒤에서 부터 읽을 것인가 ?\n",
    "> 오더링 (ordering)      \n",
    "\n",
    "\n",
    "> 빅에디언 \n",
    "\n",
    "|메모리주소|0x100|0x101|0x102|0x103|\n",
    "|:--:|:--:|:--:|:--:|:--:|\n",
    "|값|0x12|0x34|0x56|0x78|\n",
    "\n",
    "> 리틀 에디언\n",
    "\n",
    "|메모리주소|0x100|0x101|0x102|0x103|\n",
    "|:--:|:--:|:--:|:--:|:--:|\n",
    "|값|0x78|0x56|0x34|0x12|\n",
    "\n",
    "\n",
    "---\n",
    "``` bash\n",
    "TRAINING SET LABEL FILE (train-labels-idx1-ubyte):\n",
    "[offset] [type]          [value]          [description]\n",
    "0000     32 bit integer  0x00000801(2049) magic number (MSB first)\n",
    "0004     32 bit integer  60000            number of items\n",
    "0008     unsigned byte   ??               label\n",
    "0009     unsigned byte   ??               label\n",
    "........\n",
    "xxxx     unsigned byte   ??               label\n",
    "The labels values are 0 to 9.\n",
    "\n",
    "TRAINING SET IMAGE FILE (train-images-idx3-ubyte):\n",
    "[offset] [type]          [value]          [description]\n",
    "0000     32 bit integer  0x00000803(2051) magic number\n",
    "0004     32 bit integer  60000            number of images\n",
    "0008     32 bit integer  28               number of rows\n",
    "0012     32 bit integer  28               number of columns\n",
    "0016     unsigned byte   ??               pixel\n",
    "0017     unsigned byte   ??               pixel\n",
    "........\n",
    "xxxx     unsigned byte   ??               pixel\n",
    "Pixels are organized row-wise. Pixel values are 0 to 255. 0 means background (white), 255 means foreground (black).\n",
    "\n",
    "TEST SET LABEL FILE (t10k-labels-idx1-ubyte):\n",
    "[offset] [type]          [value]          [description]\n",
    "0000     32 bit integer  0x00000801(2049) magic number (MSB first)\n",
    "0004     32 bit integer  10000            number of items\n",
    "0008     unsigned byte   ??               label\n",
    "0009     unsigned byte   ??               label\n",
    "........\n",
    "xxxx     unsigned byte   ??               label\n",
    "The labels values are 0 to 9.\n",
    "\n",
    "TEST SET IMAGE FILE (t10k-images-idx3-ubyte):\n",
    "[offset] [type]          [value]          [description]\n",
    "0000     32 bit integer  0x00000803(2051) magic number\n",
    "0004     32 bit integer  10000            number of images\n",
    "0008     32 bit integer  28               number of rows\n",
    "0012     32 bit integer  28               number of columns\n",
    "0016     unsigned byte   ??               pixel\n",
    "0017     unsigned byte   ??               pixel\n",
    "........\n",
    "xxxx     unsigned byte   ??               pixel\n",
    "\n",
    "```\n",
    "---"
   ]
  },
  {
   "cell_type": "markdown",
   "metadata": {},
   "source": [
    "## 규격의한 본파일 -> high endian(빅 엔딩안으로 저장 )"
   ]
  },
  {
   "cell_type": "code",
   "execution_count": 13,
   "metadata": {},
   "outputs": [],
   "source": [
    "# 바이너리 데이터를 읽을때 사용한 모듈\n",
    "import struct "
   ]
  },
  {
   "cell_type": "code",
   "execution_count": 14,
   "metadata": {},
   "outputs": [
    {
     "name": "stdout",
     "output_type": "stream",
     "text": [
      "./data/mnist/train-labels-idx1-ubyte \n",
      " ./data/mnist/train-images-idx3-ubyte\n",
      "2049 60000\n",
      "2051 60000 28 28\n"
     ]
    }
   ],
   "source": [
    "def decode_mnist( dataType='train', dir='./data/mnist', samples=1000 ):\n",
    "    \n",
    "    label_name = f'{dir}/{dataType}-labels-idx1-ubyte'  \n",
    "    image_name = f'{dir}/{dataType}-images-idx3-ubyte'\n",
    "    print(label_name, '\\n', image_name)\n",
    "    \n",
    "    label_f = open( label_name, 'rb')\n",
    "    image_f = open( image_name, 'rb')\n",
    "    \n",
    "    csv_f = open( f'{dir}/{dataType}.csv', 'w', encoding='utf-8' )\n",
    "\n",
    "    LABEL_HEAD_SIZE = 4 + 4\n",
    "    magic, label_cnt = struct.unpack('>II', label_f.read(LABEL_HEAD_SIZE) )\n",
    "    print(magic, label_cnt)\n",
    "\n",
    "    IMAGE_HEAD_SIZE = 4 + 4 + 4 + 4\n",
    "    magic_img, image_cnt, row, col = struct.unpack('>IIII', image_f.read(IMAGE_HEAD_SIZE) )\n",
    "    print(magic_img, image_cnt, row, col)\n",
    "    pixels = row * col\n",
    "    \n",
    "\n",
    "    for idx in range(label_cnt):\n",
    "        if idx >= samples:\n",
    "            break\n",
    "    \n",
    "        label_value = struct.unpack( 'B', label_f.read(1) )    \n",
    "        label = label_value[0] # (5,) => 0번째만 추출\n",
    "\n",
    "        binary_data = image_f.read( pixels )\n",
    "        strPixelData= list( map( lambda x:str(x) , binary_data ) ) \n",
    "        csv_f.write( str(label) + ',' )\n",
    "        csv_f.write( ','.join(strPixelData) + '\\n' )\n",
    "        #break\n",
    "        if idx == 0: # 1회만 수행\n",
    "            with open('test.pgm', 'w', encoding='utf-8') as f:\n",
    "                f.write( 'P2 28 28 255\\n' + ' '.join(strPixelData) )\n",
    "\n",
    "\n",
    "    if label_f:label_f.close()\n",
    "    if image_f:image_f.close()\n",
    "    if csv_f:csv_f.close()\n",
    "        \n",
    "decode_mnist()"
   ]
  },
  {
   "cell_type": "code",
   "execution_count": 15,
   "metadata": {},
   "outputs": [],
   "source": [
    "# # 함수로 파일을 풀어보겟다\n",
    "# # dataType : train, t10k\n",
    "\n",
    "# def decode_mnist( dataType='train', dir='./data/mnist' ):\n",
    "    \n",
    "#     label_name = f'{dir}/{dataType}-labels-idx1-ubyte'  \n",
    "#     image_name = f'{dir}/{dataType}-images-idx3-ubyte'\n",
    "#     print(label_name, '\\n', image_name)\n",
    "    \n",
    "#     # 파일오픈\n",
    "#     label_f = open( label_name, 'rb')\n",
    "#     image_f = open( image_name, 'rb')\n",
    "    \n",
    "#     # -----------------------------------------------------------\n",
    "#     csv_f = open( f'{dir}/{dataType}.csv', 'w', encoding='utf-8' )\n",
    "#     # -----------------------------------------------------------\n",
    "#     LABEL_HEAD_SIZE = 4 + 4\n",
    "#     magic, label_cnt = struct.unpack('>II', label_f.read(LABEL_HEAD_SIZE) )\n",
    "#     print(magic, label_cnt)\n",
    "    \n",
    "#     IMAGE_HEAD_SIZE = 4 + 4 + 4 + 4\n",
    "#     magic_img, image_cnt, row, col = struct.unpack('>IIII', image_f.read(IMAGE_HEAD_SIZE) )\n",
    "#     print(magic_img, image_cnt, row, col)\n",
    "#     pixels = row * col\n",
    "#     # -----------------------------------------------------------\n",
    "#     # 파일닫기\n",
    "#     if label_f:label_f.close()\n",
    "#     if image_f:image_f.close()\n",
    "#     if csv_f:csv_f.close()\n",
    "\n",
    "# decode_mnist()"
   ]
  },
  {
   "cell_type": "code",
   "execution_count": 16,
   "metadata": {},
   "outputs": [
    {
     "name": "stdout",
     "output_type": "stream",
     "text": [
      "./data/mnist/train-labels-idx1-ubyte \n",
      " ./data/mnist/train-images-idx3-ubyte\n",
      "2049 60000\n",
      "2051 60000 28 28\n",
      "./data/mnist/t10k-labels-idx1-ubyte \n",
      " ./data/mnist/t10k-images-idx3-ubyte\n",
      "2049 10000\n",
      "2051 10000 28 28\n"
     ]
    }
   ],
   "source": [
    "decode_mnist( dataType='train', samples=750)\n",
    "decode_mnist( dataType='t10k' , samples=250)"
   ]
  },
  {
   "cell_type": "code",
   "execution_count": 17,
   "metadata": {},
   "outputs": [],
   "source": [
    "# # 최종 학습용 데이터 준비\n",
    "# decode_mnist( dataType='train', samples=750) # 훈련용\n",
    "# decode_mnist( dataType='t10k' , samples=250) # 테스트용\n",
    "# # 최종산출물 -> train.csv, t10k.csv"
   ]
  },
  {
   "cell_type": "markdown",
   "metadata": {},
   "source": [
    "---"
   ]
  },
  {
   "cell_type": "markdown",
   "metadata": {},
   "source": [
    "## 4. 데이터 분석 및 탐색 \n",
    "\n",
    "- 픽셀 데이터의 정규화 추가\n",
    "- 훈련에 필요한 데이터의 형태도 준비\n",
    "---"
   ]
  },
  {
   "cell_type": "code",
   "execution_count": 18,
   "metadata": {
    "scrolled": true
   },
   "outputs": [],
   "source": [
    "# # csv를 읽이서, 정규화 처리, 훈련할수 있는 형태로 반환\n",
    "# # dataType : train or t10k\n",
    "\n",
    "# def load_csv( dataType='train', dir='./data/mnist' ):\n",
    "#     # 0. 데이터를 담는 자료구조\n",
    "#     labels = list()\n",
    "#     images = list()\n",
    "#     # 1. csv 파일 오픈\n",
    "#     with open( f'{dir}/{dataType}.csv', 'r' ) as f:\n",
    "#         # 한줄씩 읽는다\n",
    "#         for line in f:      \n",
    "#             # 분해\n",
    "#             tmp = line.strip().split(',')\n",
    "#             #print(tmp)\n",
    "#             # 정답 데이터 담기 -> 타입은 수치로 변환\n",
    "#             labels.append( int(tmp[0]) )\n",
    "#             # 각 픽셀을 256개(색상의 총수)로 정규화 하여서 리스트로처리\n",
    "#             images.append( list( map( lambda x:int(x)/256, tmp[1:] ) ) )\n",
    "#             #break\n",
    "#         pass\n",
    "#     return { 'lables':labels   ,'images':images }\n",
    "\n",
    "# # load_csv()"
   ]
  },
  {
   "cell_type": "code",
   "execution_count": 19,
   "metadata": {},
   "outputs": [],
   "source": [
    "def load_csv( dataType='train', dir='./data/mnist' ):\n",
    "\n",
    "    # 0. 데이터를 담는 자료구조\n",
    "    labels = list()\n",
    "    images = list()\n",
    "\n",
    "    # 1. csv 파일 오픈\n",
    "    with open( f'{dir}/{dataType}.csv', 'r' ) as f:\n",
    "    # 한줄씩 읽는다\n",
    "        for line in f:      \n",
    "            # 분해\n",
    "            tmp = line.strip().split(',')\n",
    "            #print(tmp)\n",
    "            # 정답 데이터 담기 -> 타입은 수치로 변환\n",
    "            labels.append( int(tmp[0]) )\n",
    "            # 각 픽셀을 256개(색상의 총수)로 정규화 하여서 리스트로처리\n",
    "            images.append( list( map( lambda x:int(x)/256, tmp[1:] ) ) )\n",
    "    return { 'labels':labels   ,'images':images }\n",
    "\n",
    "#load_csv()"
   ]
  },
  {
   "cell_type": "markdown",
   "metadata": {},
   "source": [
    "---"
   ]
  },
  {
   "cell_type": "markdown",
   "metadata": {},
   "source": [
    "## 5.데이터 모델링 \n",
    "---"
   ]
  },
  {
   "cell_type": "code",
   "execution_count": 20,
   "metadata": {},
   "outputs": [],
   "source": [
    "# sklearn 모듈 가져오기\n",
    "from sklearn import svm, model_selection, metrics"
   ]
  },
  {
   "cell_type": "code",
   "execution_count": 21,
   "metadata": {},
   "outputs": [],
   "source": [
    "# 알고리즘 생성\n",
    "clf = svm.SVC()"
   ]
  },
  {
   "cell_type": "code",
   "execution_count": 22,
   "metadata": {
    "scrolled": true
   },
   "outputs": [
    {
     "data": {
      "text/plain": [
       "(750, 250)"
      ]
     },
     "execution_count": 22,
     "metadata": {},
     "output_type": "execute_result"
    }
   ],
   "source": [
    "# 훈련, 테스트 데이터 준비\n",
    "train = load_csv()\n",
    "test  = load_csv( dataType='t10k' )\n",
    "# 데이터 : 75,25\n",
    "len(train['labels']), len(test['labels'])"
   ]
  },
  {
   "cell_type": "code",
   "execution_count": 23,
   "metadata": {},
   "outputs": [],
   "source": [
    "X_train = train['images']\n",
    "y_train = train['labels']\n",
    "\n",
    "X_test = test['images']\n",
    "y_test = test['labels']"
   ]
  },
  {
   "cell_type": "code",
   "execution_count": 24,
   "metadata": {},
   "outputs": [],
   "source": [
    "# tmp = [i for i in  train['images']]\n",
    "# print(tmp)"
   ]
  },
  {
   "cell_type": "code",
   "execution_count": 25,
   "metadata": {
    "scrolled": true
   },
   "outputs": [
    {
     "name": "stderr",
     "output_type": "stream",
     "text": [
      "C:\\Users\\admin\\Anaconda3\\lib\\site-packages\\sklearn\\svm\\base.py:193: FutureWarning: The default value of gamma will change from 'auto' to 'scale' in version 0.22 to account better for unscaled features. Set gamma explicitly to 'auto' or 'scale' to avoid this warning.\n",
      "  \"avoid this warning.\", FutureWarning)\n"
     ]
    },
    {
     "data": {
      "text/plain": [
       "SVC(C=1.0, cache_size=200, class_weight=None, coef0=0.0,\n",
       "    decision_function_shape='ovr', degree=3, gamma='auto_deprecated',\n",
       "    kernel='rbf', max_iter=-1, probability=False, random_state=None,\n",
       "    shrinking=True, tol=0.001, verbose=False)"
      ]
     },
     "execution_count": 25,
     "metadata": {},
     "output_type": "execute_result"
    }
   ],
   "source": [
    "# 3. 학습\n",
    "clf.fit(X_train, y_train)\n",
    "# clf.fit( train['images'], train['labels'] )"
   ]
  },
  {
   "cell_type": "code",
   "execution_count": 26,
   "metadata": {},
   "outputs": [],
   "source": [
    "# 4. 예측\n",
    "predict = clf.predict( X_test )\n",
    "# print(predict)"
   ]
  },
  {
   "cell_type": "code",
   "execution_count": 27,
   "metadata": {},
   "outputs": [
    {
     "data": {
      "text/plain": [
       "0.788"
      ]
     },
     "execution_count": 27,
     "metadata": {},
     "output_type": "execute_result"
    }
   ],
   "source": [
    "# 5. 성능평가 정확도 확인\n",
    "metrics.accuracy_score(y_test, predict )"
   ]
  },
  {
   "cell_type": "code",
   "execution_count": 28,
   "metadata": {
    "scrolled": true
   },
   "outputs": [
    {
     "name": "stdout",
     "output_type": "stream",
     "text": [
      "              precision    recall  f1-score   support\n",
      "\n",
      "           0       1.00      1.00      1.00        19\n",
      "           1       0.79      1.00      0.88        34\n",
      "           2       0.70      0.67      0.68        24\n",
      "           3       0.86      0.52      0.65        23\n",
      "           4       0.79      0.79      0.79        33\n",
      "           5       0.68      0.84      0.75        25\n",
      "           6       1.00      0.64      0.78        22\n",
      "           7       0.81      0.76      0.79        29\n",
      "           8       0.92      0.79      0.85        14\n",
      "           9       0.65      0.81      0.72        27\n",
      "\n",
      "    accuracy                           0.79       250\n",
      "   macro avg       0.82      0.78      0.79       250\n",
      "weighted avg       0.80      0.79      0.79       250\n",
      "\n"
     ]
    }
   ],
   "source": [
    "t = metrics.classification_report( y_test, predict )\n",
    "print( t )"
   ]
  },
  {
   "cell_type": "code",
   "execution_count": 29,
   "metadata": {},
   "outputs": [],
   "source": [
    "# # 세트 전체\n",
    "# decode_mnist( dataType='train', samples = 60000) \n",
    "# decode_mnist( dataType='t10k' , samples = 10000) \n",
    "\n",
    "# # 데이터 준비\n",
    "# train = load_csv()\n",
    "# test  = load_csv( dataType='t10k' )\n",
    "# len(train['labels']), len(test['labels']) # 데이터 준비 완료 \n",
    "\n",
    "# # 담기\n",
    "# X_train = train['images']\n",
    "# y_train = train['labels']\n",
    "\n",
    "# X_test = test['images']\n",
    "# y_test = test['labels']\n",
    "\n",
    "# # 정확도 확인\n",
    "# clf = svm.SVC()\n",
    "# clf.fit(X_train, y_train)\n",
    "# predict = clf.predict( X_test )\n",
    "# metrics.accuracy_score(y_test, predict )\n",
    "# # 리포트 작성 \n",
    "# t = metrics.classification_report( y_test, predict )\n",
    "# print( t )"
   ]
  },
  {
   "cell_type": "code",
   "execution_count": 30,
   "metadata": {},
   "outputs": [
    {
     "name": "stdout",
     "output_type": "stream",
     "text": [
      "./data/mnist/train-labels-idx1-ubyte \n",
      " ./data/mnist/train-images-idx3-ubyte\n",
      "2049 60000\n",
      "2051 60000 28 28\n",
      "./data/mnist/t10k-labels-idx1-ubyte \n",
      " ./data/mnist/t10k-images-idx3-ubyte\n",
      "2049 10000\n",
      "2051 10000 28 28\n"
     ]
    }
   ],
   "source": [
    "# 세트 전체\n",
    "decode_mnist( dataType='train', samples = 60000) \n",
    "decode_mnist( dataType='t10k' , samples = 10000) "
   ]
  },
  {
   "cell_type": "code",
   "execution_count": 31,
   "metadata": {},
   "outputs": [
    {
     "data": {
      "text/plain": [
       "(60000, 10000)"
      ]
     },
     "execution_count": 31,
     "metadata": {},
     "output_type": "execute_result"
    }
   ],
   "source": [
    "# 데이터 준비\n",
    "train = load_csv()\n",
    "test  = load_csv( dataType='t10k' )\n",
    "len(train['labels']), len(test['labels']) # 데이터 준비 완료 "
   ]
  },
  {
   "cell_type": "code",
   "execution_count": 32,
   "metadata": {},
   "outputs": [],
   "source": [
    "# 담기\n",
    "X_train = train['images']\n",
    "y_train = train['labels']\n",
    "\n",
    "X_test = test['images']\n",
    "y_test = test['labels']"
   ]
  },
  {
   "cell_type": "code",
   "execution_count": 33,
   "metadata": {},
   "outputs": [
    {
     "name": "stderr",
     "output_type": "stream",
     "text": [
      "C:\\Users\\admin\\Anaconda3\\lib\\site-packages\\sklearn\\svm\\base.py:193: FutureWarning: The default value of gamma will change from 'auto' to 'scale' in version 0.22 to account better for unscaled features. Set gamma explicitly to 'auto' or 'scale' to avoid this warning.\n",
      "  \"avoid this warning.\", FutureWarning)\n"
     ]
    }
   ],
   "source": [
    "# 정확도 확인\n",
    "clf = svm.SVC()\n",
    "clf.fit(X_train, y_train)\n",
    "predict = clf.predict( X_test )"
   ]
  },
  {
   "cell_type": "code",
   "execution_count": null,
   "metadata": {},
   "outputs": [],
   "source": []
  },
  {
   "cell_type": "code",
   "execution_count": 34,
   "metadata": {},
   "outputs": [
    {
     "data": {
      "text/plain": [
       "0.9443"
      ]
     },
     "execution_count": 34,
     "metadata": {},
     "output_type": "execute_result"
    }
   ],
   "source": [
    "metrics.accuracy_score(y_test, predict )"
   ]
  },
  {
   "cell_type": "code",
   "execution_count": 35,
   "metadata": {},
   "outputs": [],
   "source": [
    "from sklearn.model_selection import GridSearchCV\n",
    "from sklearn.preprocessing import MinMaxScaler\n",
    "from sklearn.svm import SVC"
   ]
  },
  {
   "cell_type": "code",
   "execution_count": 36,
   "metadata": {},
   "outputs": [
    {
     "data": {
      "text/plain": [
       "MinMaxScaler(copy=True, feature_range=(0, 1))"
      ]
     },
     "execution_count": 36,
     "metadata": {},
     "output_type": "execute_result"
    }
   ],
   "source": [
    "scaler = MinMaxScaler().fit( X_train )\n",
    "scaler"
   ]
  },
  {
   "cell_type": "code",
   "execution_count": 37,
   "metadata": {},
   "outputs": [
    {
     "data": {
      "text/plain": [
       "array([[0., 0., 0., ..., 0., 0., 0.],\n",
       "       [0., 0., 0., ..., 0., 0., 0.],\n",
       "       [0., 0., 0., ..., 0., 0., 0.],\n",
       "       ...,\n",
       "       [0., 0., 0., ..., 0., 0., 0.],\n",
       "       [0., 0., 0., ..., 0., 0., 0.],\n",
       "       [0., 0., 0., ..., 0., 0., 0.]])"
      ]
     },
     "execution_count": 37,
     "metadata": {},
     "output_type": "execute_result"
    }
   ],
   "source": [
    "# 스케일러를 통해서 변환\n",
    "X_train_scaled = scaler.transform( X_train )\n",
    "X_test_scaled = scaler.transform( X_test ) "
   ]
  },
  {
   "cell_type": "code",
   "execution_count": 38,
   "metadata": {},
   "outputs": [],
   "source": [
    "param_grid = {\n",
    "  'C':[0.001, 0.01, 0.1, 1, 10, 100, 1000],\n",
    "  'gamma':[0.001, 0.01, 0.1, 1, 10, 100, 1000]\n",
    "}"
   ]
  },
  {
   "cell_type": "code",
   "execution_count": 39,
   "metadata": {},
   "outputs": [],
   "source": [
    "# 학습용 데이터\n",
    "from sklearn import datasets\n",
    "# 데이터를 학습용과 테스트용으로 나눌수 있는 함수\n",
    "from sklearn.model_selection import train_test_split\n",
    "# 데이터 표준화\n",
    "from sklearn.preprocessing import StandardScaler\n",
    "# Perceptron 머신러닝을 위한 클래스\n",
    "from sklearn.linear_model import Perceptron\n",
    "# 로지스트 회귀를 위한 클래스 \n",
    "from sklearn.linear_model import LogisticRegression\n",
    "# SVM을 위한 클래스 \n",
    "from sklearn.svm import SVC\n",
    "# 의사결정 나무를 위한 클래스 \n",
    "from sklearn.tree import DecisionTreeClassifier\n",
    "# 랜덤 포레스트\n",
    "from sklearn.ensemble import RandomForestClassifier\n",
    "# 정확도 계산을 위한 함수 \n",
    "from sklearn.metrics import accuracy_score"
   ]
  },
  {
   "cell_type": "code",
   "execution_count": 40,
   "metadata": {},
   "outputs": [],
   "source": [
    "grid   = GridSearchCV( SVC(), param_grid, cv=5 )\n",
    "grid_R = RandomForestClassifier(criterion='entropy', n_estimators=10, max_depth=3,n_jobs=2, random_state=0)\n",
    "grid_L = LogisticRegression(C=1000.0,random_state=0)\n",
    "grid_S = SVC( kernel='linear', C= 1.0, random_state= 0 )\n",
    "grid_D = DecisionTreeClassifier(criterion='entropy', max_depth=3, random_state=0)"
   ]
  },
  {
   "cell_type": "code",
   "execution_count": null,
   "metadata": {},
   "outputs": [],
   "source": [
    "grid.fit( X_train, y_train )\n",
    "print('best_params_ = ',grid.best_params_)\n",
    "print('best_score_ = ',grid.best_score_)\n",
    "grid.score( X_test_scaled, y_test )\n",
    "print('GridSearchCV_done')"
   ]
  },
  {
   "cell_type": "code",
   "execution_count": null,
   "metadata": {},
   "outputs": [],
   "source": []
  },
  {
   "cell_type": "code",
   "execution_count": null,
   "metadata": {},
   "outputs": [],
   "source": []
  },
  {
   "cell_type": "code",
   "execution_count": null,
   "metadata": {},
   "outputs": [
    {
     "data": {
      "application/vnd.jupyter.widget-view+json": {
       "model_id": "c5f7ae862e3340edbb986e802ec18ac5",
       "version_major": 2,
       "version_minor": 0
      },
      "text/plain": [
       "HBox(children=(IntProgress(value=0, max=5), HTML(value='')))"
      ]
     },
     "metadata": {},
     "output_type": "display_data"
    }
   ],
   "source": [
    "# tmp = [grid,grid_R,grid_L,grid_S,grid_D]\n",
    "\n",
    "# for arg in tqdm_notebook(tmp) :\n",
    "#     arg.fit( X_train, y_train )\n",
    "#     arg.score( X_test_scaled, y_test )\n",
    "#     print('=')"
   ]
  },
  {
   "cell_type": "code",
   "execution_count": null,
   "metadata": {},
   "outputs": [],
   "source": [
    "grid.best_params_"
   ]
  },
  {
   "cell_type": "code",
   "execution_count": null,
   "metadata": {},
   "outputs": [],
   "source": [
    "grid.best_score_"
   ]
  },
  {
   "cell_type": "code",
   "execution_count": null,
   "metadata": {},
   "outputs": [],
   "source": [
    "grid.score( X_test_scaled, y_test )"
   ]
  },
  {
   "cell_type": "code",
   "execution_count": null,
   "metadata": {},
   "outputs": [],
   "source": [
    "from sklearn.pipeline import make_pipeline, Pipeline\n",
    "from sklearn.ensemble import RandomForestClassifier\n",
    "from sklearn.preprocessing import StandardScaler"
   ]
  },
  {
   "cell_type": "code",
   "execution_count": null,
   "metadata": {},
   "outputs": [],
   "source": [
    "# 생성 방법 비교\n",
    "pipe_std1 = Pipeline( [ ('scaler', MinMaxScaler()),\n",
    "                        ('classifier', SVC())   \n",
    "                      ] )\n",
    "\n",
    "pipe_std2 = make_pipeline( MinMaxScaler(), SVC() )"
   ]
  },
  {
   "cell_type": "code",
   "execution_count": null,
   "metadata": {},
   "outputs": [],
   "source": [
    "pipe = Pipeline( [  ('preprocessing', StandardScaler()),\n",
    "                    ('classifier',    SVC())   \n",
    "                  ] )"
   ]
  },
  {
   "cell_type": "code",
   "execution_count": null,
   "metadata": {},
   "outputs": [],
   "source": [
    "# 하이퍼파라미터 튜닝\n",
    "param_grid = [\n",
    "  {\n",
    "    'preprocessing':[StandardScaler(), MinMaxScaler()],\n",
    "    'classifier':[SVC()],\n",
    "    'classifier__C':[0.001, 0.01, 0.1, 1, 10, 100, 1000],\n",
    "    'classifier__gamma':[0.001, 0.01, 0.1, 1, 10, 100, 1000]\n",
    "  },\n",
    "  {\n",
    "    'preprocessing':[None],\n",
    "    'classifier':[RandomForestClassifier(n_estimators=100)],\n",
    "    'classifier__max_features':[1,2,3]\n",
    "  }\n",
    "]"
   ]
  },
  {
   "cell_type": "code",
   "execution_count": null,
   "metadata": {},
   "outputs": [],
   "source": [
    "grid = GridSearchCV( pipe, param_grid, cv=5 )"
   ]
  },
  {
   "cell_type": "code",
   "execution_count": null,
   "metadata": {},
   "outputs": [],
   "source": [
    "grid.fit( X_train, y_train )"
   ]
  },
  {
   "cell_type": "code",
   "execution_count": null,
   "metadata": {},
   "outputs": [],
   "source": [
    "grid.best_params_"
   ]
  },
  {
   "cell_type": "code",
   "execution_count": null,
   "metadata": {},
   "outputs": [],
   "source": [
    "# 최고 점수\n",
    "grid.best_score_"
   ]
  },
  {
   "cell_type": "code",
   "execution_count": null,
   "metadata": {},
   "outputs": [],
   "source": [
    "# 예측및 평가\n",
    "grid.score( X_test, y_test )"
   ]
  },
  {
   "cell_type": "markdown",
   "metadata": {},
   "source": [
    "---"
   ]
  },
  {
   "cell_type": "code",
   "execution_count": null,
   "metadata": {},
   "outputs": [],
   "source": []
  }
 ],
 "metadata": {
  "kernelspec": {
   "display_name": "Python 3",
   "language": "python",
   "name": "python3"
  },
  "language_info": {
   "codemirror_mode": {
    "name": "ipython",
    "version": 3
   },
   "file_extension": ".py",
   "mimetype": "text/x-python",
   "name": "python",
   "nbconvert_exporter": "python",
   "pygments_lexer": "ipython3",
   "version": "3.7.4"
  }
 },
 "nbformat": 4,
 "nbformat_minor": 2
}
