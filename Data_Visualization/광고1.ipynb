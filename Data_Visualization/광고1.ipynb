{
 "cells": [
  {
   "cell_type": "markdown",
   "metadata": {},
   "source": [
    "## Domain Knowledge : 온라인 광고 KPI\n",
    "### 광고 KPI : 계산식  \n",
    "- CTR(Click Through Rate) : 클릭수 / 노출수 * 100  \n",
    "- CPM(Cost Per Mile) : 광고비용 / 노출수 * 1000  \n",
    "- CPC(Cost Per Click) : 광곡비용 / 클릭수  \n",
    "- CPA(Cost Per Action) : 광고비용 / 구매수  "
   ]
  },
  {
   "cell_type": "code",
   "execution_count": 1,
   "metadata": {},
   "outputs": [],
   "source": [
    "# 노출\n",
    "imp = 10000\n",
    "\n",
    "# 클릭\n",
    "clk = 100\n",
    "\n",
    "# 구매\n",
    "conv = 10\n",
    "\n",
    "# 비용\n",
    "cost = 100000"
   ]
  },
  {
   "cell_type": "code",
   "execution_count": 2,
   "metadata": {},
   "outputs": [],
   "source": [
    "# CTR (Click Through Rate) : 클리수 / 노출수 * 100\n",
    "crt = clk / imp *100"
   ]
  },
  {
   "cell_type": "code",
   "execution_count": 3,
   "metadata": {},
   "outputs": [
    {
     "data": {
      "text/plain": [
       "1.0"
      ]
     },
     "execution_count": 3,
     "metadata": {},
     "output_type": "execute_result"
    }
   ],
   "source": [
    "crt"
   ]
  },
  {
   "cell_type": "code",
   "execution_count": 4,
   "metadata": {},
   "outputs": [],
   "source": [
    "# CPM (Cost Per Mile) : 광고비용 / 노출수 * 1000\n",
    "cpm = cost / imp * 1000"
   ]
  },
  {
   "cell_type": "code",
   "execution_count": 5,
   "metadata": {},
   "outputs": [
    {
     "data": {
      "text/plain": [
       "10000.0"
      ]
     },
     "execution_count": 5,
     "metadata": {},
     "output_type": "execute_result"
    }
   ],
   "source": [
    "cpm"
   ]
  },
  {
   "cell_type": "code",
   "execution_count": 6,
   "metadata": {},
   "outputs": [],
   "source": [
    "# CPA (Cost Per Action) : 광고비용 / 구매수\n",
    "cpa = cost / conv"
   ]
  },
  {
   "cell_type": "code",
   "execution_count": 7,
   "metadata": {},
   "outputs": [
    {
     "data": {
      "text/plain": [
       "10000.0"
      ]
     },
     "execution_count": 7,
     "metadata": {},
     "output_type": "execute_result"
    }
   ],
   "source": [
    "cpa"
   ]
  },
  {
   "cell_type": "code",
   "execution_count": 8,
   "metadata": {},
   "outputs": [],
   "source": [
    "import pandas as pd\n",
    "from pandas import DataFrame\n",
    "from pandas import Series"
   ]
  },
  {
   "cell_type": "code",
   "execution_count": 19,
   "metadata": {},
   "outputs": [],
   "source": [
    "import matplotlib.pyplot as plt\n",
    "import matplotlib\n",
    "from matplotlib import font_manager, rc\n",
    "import platform"
   ]
  },
  {
   "cell_type": "code",
   "execution_count": 20,
   "metadata": {},
   "outputs": [],
   "source": [
    "try :\n",
    "    if platform.system() == 'Windows':\n",
    "        font_name = font_manager.FontProperties(fname=\"c:/Windows/Fonts/malgun.ttf\").get_name()\n",
    "        rc('font', family=font_name)\n",
    "    else:\n",
    "        rc('font', family='AppleGothic')\n",
    "except :\n",
    "    pass\n",
    "matplotlib.rcParams['axes.unicode_minus'] = False"
   ]
  },
  {
   "cell_type": "code",
   "execution_count": 21,
   "metadata": {},
   "outputs": [],
   "source": [
    "df = pd.read_excel('./Data/네이버보고서.xls', skiprows=[0])"
   ]
  },
  {
   "cell_type": "code",
   "execution_count": 22,
   "metadata": {},
   "outputs": [
    {
     "data": {
      "text/html": [
       "<div>\n",
       "<style scoped>\n",
       "    .dataframe tbody tr th:only-of-type {\n",
       "        vertical-align: middle;\n",
       "    }\n",
       "\n",
       "    .dataframe tbody tr th {\n",
       "        vertical-align: top;\n",
       "    }\n",
       "\n",
       "    .dataframe thead th {\n",
       "        text-align: right;\n",
       "    }\n",
       "</style>\n",
       "<table border=\"1\" class=\"dataframe\">\n",
       "  <thead>\n",
       "    <tr style=\"text-align: right;\">\n",
       "      <th></th>\n",
       "      <th>광고그룹</th>\n",
       "      <th>키워드</th>\n",
       "      <th>노출수</th>\n",
       "      <th>클릭수</th>\n",
       "      <th>클릭률(%)</th>\n",
       "      <th>평균클릭비용(VAT포함,원)</th>\n",
       "      <th>총비용(VAT포함,원)</th>\n",
       "    </tr>\n",
       "  </thead>\n",
       "  <tbody>\n",
       "    <tr>\n",
       "      <td>0</td>\n",
       "      <td>올인원 패키지 : 디자인 툴_파워컨텐츠_포토샵</td>\n",
       "      <td>-</td>\n",
       "      <td>2319456</td>\n",
       "      <td>9606.0</td>\n",
       "      <td>0.414149</td>\n",
       "      <td>261.549448</td>\n",
       "      <td>2512444</td>\n",
       "    </tr>\n",
       "    <tr>\n",
       "      <td>1</td>\n",
       "      <td>올인원 패키지 : 업무자동화_VBA</td>\n",
       "      <td>-</td>\n",
       "      <td>767491</td>\n",
       "      <td>8058.0</td>\n",
       "      <td>1.049915</td>\n",
       "      <td>295.974808</td>\n",
       "      <td>2384965</td>\n",
       "    </tr>\n",
       "    <tr>\n",
       "      <td>2</td>\n",
       "      <td>ㅍAOP 전체_중복키워드_디자인(삭제)</td>\n",
       "      <td>일러스트</td>\n",
       "      <td>1137840</td>\n",
       "      <td>324.0</td>\n",
       "      <td>0.028475</td>\n",
       "      <td>4841.663580</td>\n",
       "      <td>1568699</td>\n",
       "    </tr>\n",
       "    <tr>\n",
       "      <td>3</td>\n",
       "      <td>올인원 패키지 : 데이터 분석 입문 온라인_파콘</td>\n",
       "      <td>-</td>\n",
       "      <td>694106</td>\n",
       "      <td>1863.6</td>\n",
       "      <td>0.268489</td>\n",
       "      <td>630.593475</td>\n",
       "      <td>1175174</td>\n",
       "    </tr>\n",
       "    <tr>\n",
       "      <td>4</td>\n",
       "      <td>3. html</td>\n",
       "      <td>HTML</td>\n",
       "      <td>9626374</td>\n",
       "      <td>813.6</td>\n",
       "      <td>0.008452</td>\n",
       "      <td>1408.435349</td>\n",
       "      <td>1145903</td>\n",
       "    </tr>\n",
       "  </tbody>\n",
       "</table>\n",
       "</div>"
      ],
      "text/plain": [
       "                         광고그룹   키워드  ...  평균클릭비용(VAT포함,원)  총비용(VAT포함,원)\n",
       "0   올인원 패키지 : 디자인 툴_파워컨텐츠_포토샵     -  ...       261.549448       2512444\n",
       "1         올인원 패키지 : 업무자동화_VBA     -  ...       295.974808       2384965\n",
       "2       ㅍAOP 전체_중복키워드_디자인(삭제)  일러스트  ...      4841.663580       1568699\n",
       "3  올인원 패키지 : 데이터 분석 입문 온라인_파콘     -  ...       630.593475       1175174\n",
       "4                     3. html  HTML  ...      1408.435349       1145903\n",
       "\n",
       "[5 rows x 7 columns]"
      ]
     },
     "execution_count": 22,
     "metadata": {},
     "output_type": "execute_result"
    }
   ],
   "source": [
    "df.head()"
   ]
  },
  {
   "cell_type": "code",
   "execution_count": 25,
   "metadata": {},
   "outputs": [
    {
     "data": {
      "image/png": "[encoded data removed]",
      "text/plain": [
       "<Figure size 936x360 with 1 Axes>"
      ]
     },
     "metadata": {
      "needs_background": "light"
     },
     "output_type": "display_data"
    }
   ],
   "source": [
    "(((df['노출수'].sort_values()/1000).reset_index()).drop('index', axis=1)).plot(figsize=[13, 5])\n",
    "\n",
    "# (\n",
    "#     (\n",
    "#         (\n",
    "#             df['노출수'].sort_values()/1000\n",
    "#         ).reset_index()\n",
    "#     ).drop('index', axis=1)\n",
    "# ).plot(figsize=[13, 5])\n",
    "plt.yticks([0, 2000, 4000, 6000, 8000, 10000],\n",
    "           [0, '2,000,000', '4,000,000', '6,000,000', '8,000,000', '10,000,000'])\n",
    "plt.title('노출수 plot', fontsize=20)\n",
    "plt.show()"
   ]
  },
  {
   "cell_type": "code",
   "execution_count": null,
   "metadata": {},
   "outputs": [],
   "source": []
  },
  {
   "cell_type": "code",
   "execution_count": null,
   "metadata": {},
   "outputs": [],
   "source": []
  }
 ],
 "metadata": {
  "kernelspec": {
   "display_name": "Python 3",
   "language": "python",
   "name": "python3"
  },
  "language_info": {
   "codemirror_mode": {
    "name": "ipython",
    "version": 3
   },
   "file_extension": ".py",
   "mimetype": "text/x-python",
   "name": "python",
   "nbconvert_exporter": "python",
   "pygments_lexer": "ipython3",
   "version": "3.7.4"
  }
 },
 "nbformat": 4,
 "nbformat_minor": 4
}
