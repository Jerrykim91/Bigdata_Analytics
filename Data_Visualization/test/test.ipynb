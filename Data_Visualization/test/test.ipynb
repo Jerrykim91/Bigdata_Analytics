{
 "cells": [
  {
   "cell_type": "code",
   "execution_count": 63,
   "metadata": {},
   "outputs": [],
   "source": [
    "import os"
   ]
  },
  {
   "cell_type": "code",
   "execution_count": 64,
   "metadata": {},
   "outputs": [
    {
     "data": {
      "text/plain": [
       "'C:\\\\Bigdata_Analytics\\\\Data_Visualization\\\\test'"
      ]
     },
     "execution_count": 64,
     "metadata": {},
     "output_type": "execute_result"
    }
   ],
   "source": [
    "base = os.getcwd()\n",
    "base"
   ]
  },
  {
   "cell_type": "code",
   "execution_count": 65,
   "metadata": {},
   "outputs": [
    {
     "data": {
      "text/plain": [
       "'C:\\\\Bigdata_Analytics\\\\Data_Visualization\\\\test\\\\test1-1\\\\test1-1-1\\\\test1-1-1-1'"
      ]
     },
     "execution_count": 65,
     "metadata": {},
     "output_type": "execute_result"
    }
   ],
   "source": [
    "address = base + '\\\\test1-1\\\\test1-1-1\\\\test1-1-1-1'\n",
    "address"
   ]
  },
  {
   "cell_type": "code",
   "execution_count": 78,
   "metadata": {},
   "outputs": [],
   "source": [
    "# 인자 : (내가 원하는 디렉토리 주소, )\n",
    "def tmp(address):\n",
    "    base = os.getcwd()\n",
    "    print(address)\n",
    "    tmp_dir = None\n",
    "    cnt = 0\n",
    "    while tmp_dir != base:\n",
    "        if os.path.exists(address) is False:\n",
    "            tmp_dir = '\\\\'.join(address.split('\\\\')[:-1])\n",
    "            print(tmp_dir)\n",
    "            address = tmp_dir\n",
    "            cnt += 1\n",
    "            continue\n",
    "        break\n",
    "    return tmp_dir, cnt"
   ]
  },
  {
   "cell_type": "code",
   "execution_count": 79,
   "metadata": {
    "scrolled": true
   },
   "outputs": [
    {
     "name": "stdout",
     "output_type": "stream",
     "text": [
      "C:\\Bigdata_Analytics\\Data_Visualization\\test\\test1-1\\test1-1-1\\test1-1-1-1\n",
      "C:\\Bigdata_Analytics\\Data_Visualization\\test\\test1-1\\test1-1-1\n",
      "C:\\Bigdata_Analytics\\Data_Visualization\\test\\test1-1\n",
      "C:\\Bigdata_Analytics\\Data_Visualization\\test\n"
     ]
    },
    {
     "data": {
      "text/plain": [
       "('C:\\\\Bigdata_Analytics\\\\Data_Visualization\\\\test', 3)"
      ]
     },
     "execution_count": 79,
     "metadata": {},
     "output_type": "execute_result"
    }
   ],
   "source": [
    "tmp(address)"
   ]
  },
  {
   "cell_type": "code",
   "execution_count": null,
   "metadata": {},
   "outputs": [],
   "source": [
    "func_t('\\\\test1-1\\\\test1-1-1\\\\test1-1-1-1')"
   ]
  },
  {
   "cell_type": "code",
   "execution_count": null,
   "metadata": {},
   "outputs": [],
   "source": [
    "def func_t(pth):\n",
    "    base = os.getcwd()\n",
    "    full = base + pth \n",
    "    print('new_pth : ', full )\n",
    "    # parm를 준 pth와 현위치(base) 같을때 종료 -> 아닐때는 계속 돈다 \n",
    "    while path != base : \n",
    "        if os.path.exists(pth) is False:\n",
    "            os.mkdir()\n",
    "        \n",
    "        \n",
    "    return pth"
   ]
  },
  {
   "cell_type": "code",
   "execution_count": 94,
   "metadata": {},
   "outputs": [],
   "source": [
    "def func_dir(address):       \n",
    "    while True:\n",
    "        if os.path.exists(address) is False:\n",
    "            try:\n",
    "                os.mkdir(address)\n",
    "                return os.mkdir(address)\n",
    "                break\n",
    "            except:\n",
    "                adresss = '\\\\'.join(address.split('\\\\')[:-1])\n",
    "                print(address)"
   ]
  },
  {
   "cell_type": "code",
   "execution_count": 128,
   "metadata": {},
   "outputs": [],
   "source": [
    "# func_dir(address)"
   ]
  },
  {
   "cell_type": "code",
   "execution_count": null,
   "metadata": {},
   "outputs": [],
   "source": [
    "add[:-1 - i]"
   ]
  },
  {
   "cell_type": "code",
   "execution_count": 122,
   "metadata": {},
   "outputs": [],
   "source": [
    "pth ='test1-2\\\\test1-1-1\\\\test1-1-1-1'"
   ]
  },
  {
   "cell_type": "code",
   "execution_count": 118,
   "metadata": {},
   "outputs": [
    {
     "name": "stdout",
     "output_type": "stream",
     "text": [
      "C:\\Bigdata_Analytics\\Data_Visualization\\test\\test1-1\\test1-2\\test1-1-1\\test1-1-1-1\n"
     ]
    }
   ],
   "source": [
    "base = os.getcwd()\n",
    "full = base + pth \n",
    "print(full)"
   ]
  },
  {
   "cell_type": "code",
   "execution_count": 141,
   "metadata": {},
   "outputs": [
    {
     "data": {
      "text/plain": [
       "['C:', 'Bigdata_Analytics', 'Data_Visualization', 'test', 'test1-1']"
      ]
     },
     "execution_count": 141,
     "metadata": {},
     "output_type": "execute_result"
    }
   ],
   "source": [
    "b = base.split('\\\\')\n",
    "b"
   ]
  },
  {
   "cell_type": "code",
   "execution_count": 125,
   "metadata": {},
   "outputs": [
    {
     "data": {
      "text/plain": [
       "['test1-2', 'test1-1-1', 'test1-1-1-1']"
      ]
     },
     "execution_count": 125,
     "metadata": {},
     "output_type": "execute_result"
    }
   ],
   "source": [
    "a = pth.split('\\\\')\n",
    "a"
   ]
  },
  {
   "cell_type": "code",
   "execution_count": 126,
   "metadata": {},
   "outputs": [
    {
     "data": {
      "text/plain": [
       "'C:\\\\Bigdata_Analytics\\\\Data_Visualization\\\\test\\\\test1-1\\\\test1-2\\\\test1-1-1'"
      ]
     },
     "execution_count": 126,
     "metadata": {},
     "output_type": "execute_result"
    }
   ],
   "source": [
    "adresss = '\\\\'.join(full.split('\\\\')[:-1])\n",
    "adresss"
   ]
  },
  {
   "cell_type": "code",
   "execution_count": 197,
   "metadata": {},
   "outputs": [
    {
     "name": "stdout",
     "output_type": "stream",
     "text": [
      "\n",
      "C:\n",
      "C:\\Bigdata_Analytics\n",
      "C:\\Bigdata_Analytics\\Data_Visualization\n",
      "C:\\Bigdata_Analytics\\Data_Visualization\\test\n",
      "C:\\Bigdata_Analytics\\Data_Visualization\\test\\test1-1test1-2\n",
      "C:\\Bigdata_Analytics\\Data_Visualization\\test\\test1-1test1-2\\test1-1-1\n"
     ]
    },
    {
     "data": {
      "text/plain": [
       "'C:\\\\Bigdata_Analytics\\\\Data_Visualization\\\\test\\\\test1-1test1-2\\\\test1-1-1'"
      ]
     },
     "execution_count": 197,
     "metadata": {},
     "output_type": "execute_result"
    }
   ],
   "source": [
    "def tm(pth):\n",
    "    base = os.getcwd()\n",
    "    full = base + pth \n",
    "    tmp_dir = None\n",
    "    \n",
    "    while tmp_dir != base:\n",
    "        if os.path.exists(pth) is False:\n",
    "            ck = full.split('\\\\')\n",
    "            for i in range(len(ck)):\n",
    "                fu = full.split('\\\\')[:i]\n",
    "                fu_j = '\\\\'.join(fu)\n",
    "                print(fu_j)\n",
    "            \n",
    "            break\n",
    "    return fu_j\n",
    "\n",
    "tm(pth)"
   ]
  },
  {
   "cell_type": "code",
   "execution_count": 191,
   "metadata": {},
   "outputs": [
    {
     "name": "stdout",
     "output_type": "stream",
     "text": [
      "C:\n",
      "test1-1-1-1\n",
      "test1-1-1\n",
      "test1-1test1-2\n",
      "test\n",
      "Data_Visualization\n",
      "Bigdata_Analytics\n"
     ]
    },
    {
     "data": {
      "text/plain": [
       "(None, 0)"
      ]
     },
     "execution_count": 191,
     "metadata": {},
     "output_type": "execute_result"
    }
   ],
   "source": [
    "def tm(pth):\n",
    "    base = os.getcwd()\n",
    "    full = base + pth \n",
    "    tmp_dir = None\n",
    "    cnt = 0\n",
    "    while tmp_dir != base:\n",
    "        if os.path.exists(pth) is False:\n",
    "#             ck = pth.split('\\\\')\n",
    "            ck = full.split('\\\\')\n",
    "            for i in range(len(ck)):\n",
    "#                 fu = full[-i]\n",
    "                fu = full.split('\\\\')[-i]\n",
    "#                 fu = '\\\\'.join(full.split('\\\\')[-i])\n",
    "                print(fu)\n",
    "    \n",
    "    \n",
    "#                 len(ck)-i\n",
    "#                 tmp_dir = '\\\\'.join(full.split('\\\\')[i:])\n",
    "                \n",
    "#                 print(len(ck)-i)\n",
    "#                 print(tmp_dir)\n",
    "#                 break\n",
    "#                 if os.path.exists(tmp_dir) is False:\n",
    "#                     os.mkdir()\n",
    "                \n",
    "            \n",
    "#             print(tmp_dir)\n",
    "#             address = tmp_dir\n",
    "#             cnt += 1\n",
    "#             continue\n",
    "        break\n",
    "    return tmp_dir, cnt\n",
    "tm(pth)"
   ]
  },
  {
   "cell_type": "code",
   "execution_count": 172,
   "metadata": {},
   "outputs": [
    {
     "name": "stdout",
     "output_type": "stream",
     "text": [
      "5\n",
      "\n"
     ]
    },
    {
     "data": {
      "text/plain": [
       "('', 0)"
      ]
     },
     "execution_count": 172,
     "metadata": {},
     "output_type": "execute_result"
    }
   ],
   "source": [
    "tm(pth)"
   ]
  },
  {
   "cell_type": "code",
   "execution_count": 143,
   "metadata": {},
   "outputs": [
    {
     "name": "stdout",
     "output_type": "stream",
     "text": [
      "5\n",
      "4\n",
      "3\n",
      "2\n",
      "1\n"
     ]
    }
   ],
   "source": [
    "for i in range(len(b)):\n",
    "    \n",
    "    print(len(b)-i)"
   ]
  },
  {
   "cell_type": "code",
   "execution_count": null,
   "metadata": {},
   "outputs": [],
   "source": []
  }
 ],
 "metadata": {
  "kernelspec": {
   "display_name": "Python 3",
   "language": "python",
   "name": "python3"
  },
  "language_info": {
   "codemirror_mode": {
    "name": "ipython",
    "version": 3
   },
   "file_extension": ".py",
   "mimetype": "text/x-python",
   "name": "python",
   "nbconvert_exporter": "python",
   "pygments_lexer": "ipython3",
   "version": "3.6.5"
  }
 },
 "nbformat": 4,
 "nbformat_minor": 4
}
