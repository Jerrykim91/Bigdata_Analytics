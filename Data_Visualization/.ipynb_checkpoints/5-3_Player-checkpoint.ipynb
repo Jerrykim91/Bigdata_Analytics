{
 "cells": [
  {
   "cell_type": "markdown",
   "metadata": {},
   "source": [
    "# 최적의 파라미터 찾기 -> SVM\n",
    "\n",
    "- c: 비용(cost), 결정 경계선의 마진을 결정하는 파라미터 \n",
    "- gamma : 커널의 데이터 포인트의 표준편차를 결정하는 파라미터 -> 너무 잘주면 오버 피팅이 된다. "
   ]
  },
  {
   "cell_type": "code",
   "execution_count": 9,
   "metadata": {},
   "outputs": [],
   "source": [
    "import pandas as pd \n",
    "import matplotlib.pyplot as plt\n",
    "import seaborn as sns\n",
    "%matplotlib inline\n",
    "\n",
    "\n",
    "# 머신러닝 \n",
    "from sklearn.model_selection import GridSearchCV\n",
    "from sklearn.metrics import classification_report\n",
    "from sklearn.metrics import accuracy_score\n",
    "from sklearn.svm import SVC\n",
    "\n",
    "import numpy as np "
   ]
  },
  {
   "cell_type": "code",
   "execution_count": 10,
   "metadata": {},
   "outputs": [],
   "source": [
    "import pickle\n",
    "# 데이터 불러오기 \n",
    "path = './output/basketball_train.pkl'\n",
    "with open( path , 'rb') as train_data:\n",
    "    train = pickle.load(train_data)\n",
    "    \n",
    "path = './output/basketball_test.pkl'\n",
    "with open( path , 'rb') as test_data:\n",
    "    test = pickle.load(test_data)"
   ]
  },
  {
   "cell_type": "code",
   "execution_count": 13,
   "metadata": {},
   "outputs": [],
   "source": [
    "# 함수 \n",
    "\n",
    "def svc_param_selection( X, y, nfolds ):\n",
    "    svm_paramerters = [\n",
    "                    {'kernel':['rbf'],\n",
    "                     'gamma' :[0.00001, 0.0001, 0.001, 0.1,1],\n",
    "                     'C'     :[0.01, 0.1, 1, 10, 100, 1000]\n",
    "                    }\n",
    "                        ]\n",
    "    clf = GridSearchCV( SVC(), svm_paramerters, cv=10 )\n",
    "    clf.fit( X, y.values.ravel() )\n",
    "    print( clf.best_params_ )\n",
    "    \n",
    "    return clf "
   ]
  },
  {
   "cell_type": "code",
   "execution_count": 14,
   "metadata": {},
   "outputs": [
    {
     "name": "stdout",
     "output_type": "stream",
     "text": [
      "{'C': 0.1, 'gamma': 1, 'kernel': 'rbf'}\n"
     ]
    }
   ],
   "source": [
    "X_train = train[['3P','BLK']]\n",
    "y_train = train[['Pos']]\n",
    "\n",
    "clf = svc_param_selection( X_train , y_train, 10 )"
   ]
  },
  {
   "cell_type": "code",
   "execution_count": 15,
   "metadata": {},
   "outputs": [],
   "source": [
    "# 결과 시각화 - C\n",
    "C_canditates = []\n",
    "C_canditates.append(clf.best_params_['C']*0.01)\n",
    "C_canditates.append(clf.best_params_['C'])\n",
    "C_canditates.append(clf.best_params_['C']*100)"
   ]
  },
  {
   "cell_type": "code",
   "execution_count": 16,
   "metadata": {},
   "outputs": [],
   "source": [
    "# 결과 시각화 - gamma \n",
    "gamma_canditates = []\n",
    "gamma_canditates.append(clf.best_params_['gamma']*0.01)\n",
    "gamma_canditates.append(clf.best_params_['gamma'])\n",
    "gamma_canditates.append(clf.best_params_['gamma']*100)"
   ]
  },
  {
   "cell_type": "code",
   "execution_count": 17,
   "metadata": {},
   "outputs": [],
   "source": [
    "X = train[['3P','BLK']]\n",
    "y = train['Pos'].tolist()"
   ]
  },
  {
   "cell_type": "code",
   "execution_count": 19,
   "metadata": {},
   "outputs": [],
   "source": [
    "position = [] \n",
    "\n",
    "for gt in y: \n",
    "    if gt == 'C':\n",
    "        position.append(0)\n",
    "    else:\n",
    "        position.append(1)"
   ]
  },
  {
   "cell_type": "code",
   "execution_count": null,
   "metadata": {},
   "outputs": [],
   "source": []
  },
  {
   "cell_type": "code",
   "execution_count": null,
   "metadata": {},
   "outputs": [],
   "source": []
  },
  {
   "cell_type": "code",
   "execution_count": null,
   "metadata": {},
   "outputs": [],
   "source": []
  },
  {
   "cell_type": "code",
   "execution_count": null,
   "metadata": {},
   "outputs": [],
   "source": []
  },
  {
   "cell_type": "code",
   "execution_count": null,
   "metadata": {},
   "outputs": [],
   "source": []
  }
 ],
 "metadata": {
  "kernelspec": {
   "display_name": "Python 3",
   "language": "python",
   "name": "python3"
  },
  "language_info": {
   "codemirror_mode": {
    "name": "ipython",
    "version": 3
   },
   "file_extension": ".py",
   "mimetype": "text/x-python",
   "name": "python",
   "nbconvert_exporter": "python",
   "pygments_lexer": "ipython3",
   "version": "3.6.5"
  }
 },
 "nbformat": 4,
 "nbformat_minor": 4
}
