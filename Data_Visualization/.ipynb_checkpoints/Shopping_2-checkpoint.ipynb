{
 "cells": [
  {
   "cell_type": "code",
   "execution_count": 1,
   "metadata": {},
   "outputs": [],
   "source": [
    "import numpy as np # linear algebra\n",
    "import pandas as pd # data processing, CSV file I/O (e.g. pd.read_csv)\n",
    "# 시각\n",
    "import matplotlib.pyplot as plt\n",
    "%matplotlib inline\n",
    "\n",
    "# 워닝 방지\n",
    "# ignore warnings\n",
    "import warnings\n",
    "warnings.filterwarnings('ignore')"
   ]
  },
  {
   "cell_type": "code",
   "execution_count": 2,
   "metadata": {},
   "outputs": [],
   "source": [
    "df_retail = pd.read_csv('./output//OnlineRetailClean.csv')"
   ]
  },
  {
   "cell_type": "code",
   "execution_count": 3,
   "metadata": {},
   "outputs": [
    {
     "name": "stdout",
     "output_type": "stream",
     "text": [
      "<class 'pandas.core.frame.DataFrame'>\n",
      "RangeIndex: 397884 entries, 0 to 397883\n",
      "Data columns (total 10 columns):\n",
      " #   Column         Non-Null Count   Dtype  \n",
      "---  ------         --------------   -----  \n",
      " 0   Unnamed: 0     397884 non-null  int64  \n",
      " 1   InvoiceNo      397884 non-null  int64  \n",
      " 2   StockCode      397884 non-null  object \n",
      " 3   Description    397884 non-null  object \n",
      " 4   Quantity       397884 non-null  int64  \n",
      " 5   InvoiceDate    397884 non-null  object \n",
      " 6   UnitPrice      397884 non-null  float64\n",
      " 7   CustomerID     397884 non-null  int64  \n",
      " 8   Country        397884 non-null  object \n",
      " 9   CheckoutPrice  397884 non-null  float64\n",
      "dtypes: float64(2), int64(4), object(4)\n",
      "memory usage: 30.4+ MB\n"
     ]
    }
   ],
   "source": [
    "df_retail.info()"
   ]
  },
  {
   "cell_type": "code",
   "execution_count": 4,
   "metadata": {},
   "outputs": [],
   "source": [
    "df_retail['InvoiceDate'] = pd.to_datetime"
   ]
  },
  {
   "cell_type": "markdown",
   "metadata": {},
   "source": [
    "- 전체 매출 \n",
    "- 국가별 매출\n",
    "- 월별 매출 \n",
    "- 요일별 매출 \n",
    "- 시간별 매출 "
   ]
  },
  {
   "cell_type": "code",
   "execution_count": 6,
   "metadata": {},
   "outputs": [
    {
     "data": {
      "text/plain": [
       "8911407.904"
      ]
     },
     "execution_count": 6,
     "metadata": {},
     "output_type": "execute_result"
    }
   ],
   "source": [
    "# 전체 매출 \n",
    "total_revenue = df_retail['CheckoutPrice'].sum()\n",
    "total_revenue"
   ]
  },
  {
   "cell_type": "code",
   "execution_count": null,
   "metadata": {},
   "outputs": [],
   "source": [
    "# 국가별 매출 \n"
   ]
  },
  {
   "cell_type": "code",
   "execution_count": null,
   "metadata": {},
   "outputs": [],
   "source": []
  }
 ],
 "metadata": {
  "kernelspec": {
   "display_name": "Python 3",
   "language": "python",
   "name": "python3"
  },
  "language_info": {
   "codemirror_mode": {
    "name": "ipython",
    "version": 3
   },
   "file_extension": ".py",
   "mimetype": "text/x-python",
   "name": "python",
   "nbconvert_exporter": "python",
   "pygments_lexer": "ipython3",
   "version": "3.6.5"
  }
 },
 "nbformat": 4,
 "nbformat_minor": 4
}
