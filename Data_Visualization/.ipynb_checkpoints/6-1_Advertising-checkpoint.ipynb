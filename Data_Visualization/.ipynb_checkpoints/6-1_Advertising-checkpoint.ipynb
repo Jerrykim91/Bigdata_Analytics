{
 "cells": [
  {
   "cell_type": "markdown",
   "metadata": {},
   "source": [
    "# domain Knowledge : 온라인 광고 KPI"
   ]
  },
  {
   "cell_type": "markdown",
   "metadata": {},
   "source": [
    "## 광고 KPI : 계산식\n",
    "\n",
    "- CTR(Click Through Rate) : 클릭수 / 노출수 * 100\n",
    "- CPM(Cost per Mile) : 광고비용 / 노출수 * 1000\n",
    "- CPC(Cost per Click) :  광고비용 /클릭수\n",
    "- CPA(Cost Per Action) : 광고비용 / 구매수"
   ]
  },
  {
   "cell_type": "code",
   "execution_count": 4,
   "metadata": {},
   "outputs": [],
   "source": [
    "imp  = 1000     # 노출\n",
    "clk  = 100      # 클릭 \n",
    "conv = 10       # 구매 \n",
    "cost = 100000   # 비용"
   ]
  },
  {
   "cell_type": "code",
   "execution_count": 5,
   "metadata": {},
   "outputs": [
    {
     "data": {
      "text/plain": [
       "10.0"
      ]
     },
     "execution_count": 5,
     "metadata": {},
     "output_type": "execute_result"
    }
   ],
   "source": [
    "# CRT(click through Rate) : 클릭수 / 노출수 * 100 \n",
    "crt = clk / imp * 100  # 클릭수 / 노출수 * 100 \n",
    "crt"
   ]
  },
  {
   "cell_type": "code",
   "execution_count": 6,
   "metadata": {},
   "outputs": [
    {
     "data": {
      "text/plain": [
       "100000.0"
      ]
     },
     "execution_count": 6,
     "metadata": {},
     "output_type": "execute_result"
    }
   ],
   "source": [
    "# CPM (cost Per Mile) : 광고 비용 / 노출수 * 1000\n",
    "cmp = cost / imp * 1000 # 광고 비용 / 노출수 * 1000\n",
    "cmp"
   ]
  },
  {
   "cell_type": "code",
   "execution_count": null,
   "metadata": {},
   "outputs": [],
   "source": [
    "# CPA(Cost Per )"
   ]
  },
  {
   "cell_type": "code",
   "execution_count": 8,
   "metadata": {},
   "outputs": [],
   "source": [
    "import pandas as pd \n",
    "from pandas import DataFrame\n",
    "from pandas import Series\n",
    "\n",
    "import matplotlib\n",
    "from matplotlib import font_manager, rc\n",
    "import platform"
   ]
  },
  {
   "cell_type": "code",
   "execution_count": null,
   "metadata": {},
   "outputs": [],
   "source": [
    "try:\n",
    "    if platform.system() == 'Windows':\n",
    "        font_name = font_manager.FontProperties(fname=\"C:/Windows/Fonts/malgun.ttf\").get_name()\n",
    "    else:\n",
    "        rc('font', family = 'AppleGothic')\n",
    "        \n",
    "        \n",
    "except: \n",
    "    pass\n",
    "\n",
    "matplotlib.rcParams['axes.unicode_minus' ] = False"
   ]
  },
  {
   "cell_type": "code",
   "execution_count": 11,
   "metadata": {},
   "outputs": [],
   "source": [
    "df = pd.read_excel('./input/네이버보고서.xls')\n",
    "\n",
    "# 사본만들기 \n",
    "df_naver = df.iloc[:,:]"
   ]
  },
  {
   "cell_type": "code",
   "execution_count": null,
   "metadata": {},
   "outputs": [],
   "source": []
  },
  {
   "cell_type": "code",
   "execution_count": null,
   "metadata": {},
   "outputs": [],
   "source": []
  },
  {
   "cell_type": "code",
   "execution_count": null,
   "metadata": {},
   "outputs": [],
   "source": [
    "# 블로그 x 올리지 말것 - 네이버 리포트 데이터 "
   ]
  }
 ],
 "metadata": {
  "kernelspec": {
   "display_name": "Python 3",
   "language": "python",
   "name": "python3"
  },
  "language_info": {
   "codemirror_mode": {
    "name": "ipython",
    "version": 3
   },
   "file_extension": ".py",
   "mimetype": "text/x-python",
   "name": "python",
   "nbconvert_exporter": "python",
   "pygments_lexer": "ipython3",
   "version": "3.6.5"
  }
 },
 "nbformat": 4,
 "nbformat_minor": 4
}
